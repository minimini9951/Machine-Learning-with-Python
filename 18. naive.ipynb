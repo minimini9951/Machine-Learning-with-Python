{
 "cells": [
  {
   "cell_type": "markdown",
   "id": "0eb59126",
   "metadata": {},
   "source": [
    "[ 문자처리 방식 ]\n",
    "- 토큰단위로 분리 \n",
    "- 더미\n",
    "- 0과1로 변환해서 처리 \n",
    "- 카운팅 기반을 가진 식 "
   ]
  },
  {
   "cell_type": "markdown",
   "id": "0b14925b",
   "metadata": {},
   "source": [
    "# 필수 라이브러리 로딩  "
   ]
  },
  {
   "cell_type": "code",
   "execution_count": 127,
   "id": "57319358",
   "metadata": {
    "execution": {
     "iopub.execute_input": "2022-11-17T00:38:45.939618Z",
     "iopub.status.busy": "2022-11-17T00:38:45.939618Z",
     "iopub.status.idle": "2022-11-17T00:38:45.945616Z",
     "shell.execute_reply": "2022-11-17T00:38:45.945616Z",
     "shell.execute_reply.started": "2022-11-17T00:38:45.939618Z"
    },
    "tags": []
   },
   "outputs": [],
   "source": [
    "import numpy as np\n",
    "import pandas as pd\n",
    "\n",
    "import matplotlib as mpl\n",
    "import matplotlib.pyplot as plt\n",
    "import seaborn as sns\n",
    "\n",
    "from sklearn.model_selection import train_test_split\n",
    "\n",
    "import warnings\n",
    "from IPython.display import Image\n",
    "\n",
    "import os\n",
    "os.environ[\"OMP_NUM_THREADS\"] = '1'\n",
    "\n",
    "import warnings\n",
    "warnings.simplefilter(action='ignore', category=FutureWarning)"
   ]
  },
  {
   "cell_type": "code",
   "execution_count": 46,
   "id": "22e34590",
   "metadata": {
    "execution": {
     "iopub.execute_input": "2022-11-17T00:29:36.048546Z",
     "iopub.status.busy": "2022-11-17T00:29:36.048546Z",
     "iopub.status.idle": "2022-11-17T00:29:36.075358Z",
     "shell.execute_reply": "2022-11-17T00:29:36.074336Z",
     "shell.execute_reply.started": "2022-11-17T00:29:36.048546Z"
    },
    "tags": []
   },
   "outputs": [],
   "source": [
    "%matplotlib inline\n",
    "%config InlineBackend.figure_format = 'retina'\n",
    "%config Completer.use_jedi = False\n",
    "\n",
    "mpl.rc('font', family='D2coding')\n",
    "mpl.rc('axes', unicode_minus=False)\n",
    "\n",
    "sns.set(font=\"malgun gothic\", rc={\"axes.unicode_minus\":False}, style='darkgrid')\n",
    "plt.rc('figure', figsize=(10, 8))"
   ]
  },
  {
   "cell_type": "markdown",
   "id": "12e41984",
   "metadata": {},
   "source": [
    "# 데이터 로딩"
   ]
  },
  {
   "cell_type": "code",
   "execution_count": 85,
   "id": "69cbe148",
   "metadata": {
    "execution": {
     "iopub.execute_input": "2022-11-17T00:33:14.828991Z",
     "iopub.status.busy": "2022-11-17T00:33:14.827989Z",
     "iopub.status.idle": "2022-11-17T00:33:14.851123Z",
     "shell.execute_reply": "2022-11-17T00:33:14.850122Z",
     "shell.execute_reply.started": "2022-11-17T00:33:14.827989Z"
    },
    "scrolled": true,
    "tags": []
   },
   "outputs": [
    {
     "data": {
      "text/html": [
       "<div>\n",
       "<style scoped>\n",
       "    .dataframe tbody tr th:only-of-type {\n",
       "        vertical-align: middle;\n",
       "    }\n",
       "\n",
       "    .dataframe tbody tr th {\n",
       "        vertical-align: top;\n",
       "    }\n",
       "\n",
       "    .dataframe thead th {\n",
       "        text-align: right;\n",
       "    }\n",
       "</style>\n",
       "<table border=\"1\" class=\"dataframe\">\n",
       "  <thead>\n",
       "    <tr style=\"text-align: right;\">\n",
       "      <th></th>\n",
       "      <th>target</th>\n",
       "      <th>text</th>\n",
       "    </tr>\n",
       "  </thead>\n",
       "  <tbody>\n",
       "    <tr>\n",
       "      <th>0</th>\n",
       "      <td>ham</td>\n",
       "      <td>Go until jurong point, crazy.. Available only ...</td>\n",
       "    </tr>\n",
       "    <tr>\n",
       "      <th>1</th>\n",
       "      <td>ham</td>\n",
       "      <td>Ok lar... Joking wif u oni...</td>\n",
       "    </tr>\n",
       "    <tr>\n",
       "      <th>2</th>\n",
       "      <td>spam</td>\n",
       "      <td>Free entry in 2 a wkly comp to win FA Cup fina...</td>\n",
       "    </tr>\n",
       "    <tr>\n",
       "      <th>3</th>\n",
       "      <td>ham</td>\n",
       "      <td>U dun say so early hor... U c already then say...</td>\n",
       "    </tr>\n",
       "    <tr>\n",
       "      <th>4</th>\n",
       "      <td>ham</td>\n",
       "      <td>Nah I don't think he goes to usf, he lives aro...</td>\n",
       "    </tr>\n",
       "  </tbody>\n",
       "</table>\n",
       "</div>"
      ],
      "text/plain": [
       "  target                                               text\n",
       "0    ham  Go until jurong point, crazy.. Available only ...\n",
       "1    ham                      Ok lar... Joking wif u oni...\n",
       "2   spam  Free entry in 2 a wkly comp to win FA Cup fina...\n",
       "3    ham  U dun say so early hor... U c already then say...\n",
       "4    ham  Nah I don't think he goes to usf, he lives aro..."
      ]
     },
     "execution_count": 85,
     "metadata": {},
     "output_type": "execute_result"
    }
   ],
   "source": [
    "data = pd.read_csv('C:/k_digital/source/data/spam.csv')\n",
    "data.head()"
   ]
  },
  {
   "cell_type": "markdown",
   "id": "76b1b7a3",
   "metadata": {},
   "source": [
    "# 탐색적 데이터 분석 : EDA"
   ]
  },
  {
   "cell_type": "markdown",
   "id": "dfe65959",
   "metadata": {},
   "source": [
    "## target : 목표변수 or 종속변수 "
   ]
  },
  {
   "cell_type": "code",
   "execution_count": 4,
   "id": "7b2a1bc6",
   "metadata": {
    "execution": {
     "iopub.execute_input": "2022-11-17T00:28:51.479312Z",
     "iopub.status.busy": "2022-11-17T00:28:51.479312Z",
     "iopub.status.idle": "2022-11-17T00:28:51.493879Z",
     "shell.execute_reply": "2022-11-17T00:28:51.492874Z",
     "shell.execute_reply.started": "2022-11-17T00:28:51.479312Z"
    },
    "tags": []
   },
   "outputs": [
    {
     "data": {
      "text/plain": [
       "array(['ham', 'spam'], dtype=object)"
      ]
     },
     "execution_count": 4,
     "metadata": {},
     "output_type": "execute_result"
    }
   ],
   "source": [
    "data['target'].unique()"
   ]
  },
  {
   "cell_type": "markdown",
   "id": "513e9c03",
   "metadata": {},
   "source": [
    "- spam : 스팸문자 , pam : 일반문자 \n",
    "- NLTK(natural language toolkit) : 자연어 처리를 위해 만든 도구(패키지)\n",
    "- 주요기능 : 말뭉치, 토큰생성, 형태소 분석, 품사 태깅"
   ]
  },
  {
   "cell_type": "code",
   "execution_count": 48,
   "id": "d7c95da1-7938-451b-b285-674874188531",
   "metadata": {
    "execution": {
     "iopub.execute_input": "2022-11-17T00:29:39.649811Z",
     "iopub.status.busy": "2022-11-17T00:29:39.649811Z",
     "iopub.status.idle": "2022-11-17T00:29:39.666337Z",
     "shell.execute_reply": "2022-11-17T00:29:39.665386Z",
     "shell.execute_reply.started": "2022-11-17T00:29:39.649811Z"
    },
    "tags": []
   },
   "outputs": [
    {
     "data": {
      "text/plain": [
       "ham     4827\n",
       "spam     747\n",
       "Name: target, dtype: int64"
      ]
     },
     "execution_count": 48,
     "metadata": {},
     "output_type": "execute_result"
    }
   ],
   "source": [
    "data['target'].value_counts()"
   ]
  },
  {
   "cell_type": "markdown",
   "id": "cd4ebcd6",
   "metadata": {},
   "source": [
    "## 말뭉치(corpus)\n",
    "- 자연어 분석을 위해 만든 샘플 문서 집합"
   ]
  },
  {
   "cell_type": "code",
   "execution_count": 6,
   "id": "9e3b9a2a",
   "metadata": {
    "execution": {
     "iopub.execute_input": "2022-11-17T00:28:51.509877Z",
     "iopub.status.busy": "2022-11-17T00:28:51.509877Z",
     "iopub.status.idle": "2022-11-17T00:28:55.012838Z",
     "shell.execute_reply": "2022-11-17T00:28:55.012838Z",
     "shell.execute_reply.started": "2022-11-17T00:28:51.509877Z"
    },
    "tags": []
   },
   "outputs": [
    {
     "name": "stderr",
     "output_type": "stream",
     "text": [
      "[nltk_data] Downloading collection 'book'\n",
      "[nltk_data]    | \n",
      "[nltk_data]    | Downloading package abc to\n",
      "[nltk_data]    |     C:\\Users\\minim\\AppData\\Roaming\\nltk_data...\n",
      "[nltk_data]    |   Package abc is already up-to-date!\n",
      "[nltk_data]    | Downloading package brown to\n",
      "[nltk_data]    |     C:\\Users\\minim\\AppData\\Roaming\\nltk_data...\n",
      "[nltk_data]    |   Package brown is already up-to-date!\n",
      "[nltk_data]    | Downloading package chat80 to\n",
      "[nltk_data]    |     C:\\Users\\minim\\AppData\\Roaming\\nltk_data...\n",
      "[nltk_data]    |   Package chat80 is already up-to-date!\n",
      "[nltk_data]    | Downloading package cmudict to\n",
      "[nltk_data]    |     C:\\Users\\minim\\AppData\\Roaming\\nltk_data...\n",
      "[nltk_data]    |   Package cmudict is already up-to-date!\n",
      "[nltk_data]    | Downloading package conll2000 to\n",
      "[nltk_data]    |     C:\\Users\\minim\\AppData\\Roaming\\nltk_data...\n",
      "[nltk_data]    |   Package conll2000 is already up-to-date!\n",
      "[nltk_data]    | Downloading package conll2002 to\n",
      "[nltk_data]    |     C:\\Users\\minim\\AppData\\Roaming\\nltk_data...\n",
      "[nltk_data]    |   Package conll2002 is already up-to-date!\n",
      "[nltk_data]    | Downloading package dependency_treebank to\n",
      "[nltk_data]    |     C:\\Users\\minim\\AppData\\Roaming\\nltk_data...\n",
      "[nltk_data]    |   Package dependency_treebank is already up-to-date!\n",
      "[nltk_data]    | Downloading package genesis to\n",
      "[nltk_data]    |     C:\\Users\\minim\\AppData\\Roaming\\nltk_data...\n",
      "[nltk_data]    |   Package genesis is already up-to-date!\n",
      "[nltk_data]    | Downloading package gutenberg to\n",
      "[nltk_data]    |     C:\\Users\\minim\\AppData\\Roaming\\nltk_data...\n",
      "[nltk_data]    |   Package gutenberg is already up-to-date!\n",
      "[nltk_data]    | Downloading package ieer to\n",
      "[nltk_data]    |     C:\\Users\\minim\\AppData\\Roaming\\nltk_data...\n",
      "[nltk_data]    |   Package ieer is already up-to-date!\n",
      "[nltk_data]    | Downloading package inaugural to\n",
      "[nltk_data]    |     C:\\Users\\minim\\AppData\\Roaming\\nltk_data...\n",
      "[nltk_data]    |   Package inaugural is already up-to-date!\n",
      "[nltk_data]    | Downloading package movie_reviews to\n",
      "[nltk_data]    |     C:\\Users\\minim\\AppData\\Roaming\\nltk_data...\n",
      "[nltk_data]    |   Package movie_reviews is already up-to-date!\n",
      "[nltk_data]    | Downloading package nps_chat to\n",
      "[nltk_data]    |     C:\\Users\\minim\\AppData\\Roaming\\nltk_data...\n",
      "[nltk_data]    |   Package nps_chat is already up-to-date!\n",
      "[nltk_data]    | Downloading package names to\n",
      "[nltk_data]    |     C:\\Users\\minim\\AppData\\Roaming\\nltk_data...\n",
      "[nltk_data]    |   Package names is already up-to-date!\n",
      "[nltk_data]    | Downloading package ppattach to\n",
      "[nltk_data]    |     C:\\Users\\minim\\AppData\\Roaming\\nltk_data...\n",
      "[nltk_data]    |   Package ppattach is already up-to-date!\n",
      "[nltk_data]    | Downloading package reuters to\n",
      "[nltk_data]    |     C:\\Users\\minim\\AppData\\Roaming\\nltk_data...\n",
      "[nltk_data]    |   Package reuters is already up-to-date!\n",
      "[nltk_data]    | Downloading package senseval to\n",
      "[nltk_data]    |     C:\\Users\\minim\\AppData\\Roaming\\nltk_data...\n",
      "[nltk_data]    |   Package senseval is already up-to-date!\n",
      "[nltk_data]    | Downloading package state_union to\n",
      "[nltk_data]    |     C:\\Users\\minim\\AppData\\Roaming\\nltk_data...\n",
      "[nltk_data]    |   Package state_union is already up-to-date!\n",
      "[nltk_data]    | Downloading package stopwords to\n",
      "[nltk_data]    |     C:\\Users\\minim\\AppData\\Roaming\\nltk_data...\n",
      "[nltk_data]    |   Package stopwords is already up-to-date!\n",
      "[nltk_data]    | Downloading package swadesh to\n",
      "[nltk_data]    |     C:\\Users\\minim\\AppData\\Roaming\\nltk_data...\n",
      "[nltk_data]    |   Package swadesh is already up-to-date!\n",
      "[nltk_data]    | Downloading package timit to\n",
      "[nltk_data]    |     C:\\Users\\minim\\AppData\\Roaming\\nltk_data...\n",
      "[nltk_data]    |   Package timit is already up-to-date!\n",
      "[nltk_data]    | Downloading package treebank to\n",
      "[nltk_data]    |     C:\\Users\\minim\\AppData\\Roaming\\nltk_data...\n",
      "[nltk_data]    |   Package treebank is already up-to-date!\n",
      "[nltk_data]    | Downloading package toolbox to\n",
      "[nltk_data]    |     C:\\Users\\minim\\AppData\\Roaming\\nltk_data...\n",
      "[nltk_data]    |   Package toolbox is already up-to-date!\n",
      "[nltk_data]    | Downloading package udhr to\n",
      "[nltk_data]    |     C:\\Users\\minim\\AppData\\Roaming\\nltk_data...\n",
      "[nltk_data]    |   Package udhr is already up-to-date!\n",
      "[nltk_data]    | Downloading package udhr2 to\n",
      "[nltk_data]    |     C:\\Users\\minim\\AppData\\Roaming\\nltk_data...\n",
      "[nltk_data]    |   Package udhr2 is already up-to-date!\n",
      "[nltk_data]    | Downloading package unicode_samples to\n",
      "[nltk_data]    |     C:\\Users\\minim\\AppData\\Roaming\\nltk_data...\n",
      "[nltk_data]    |   Package unicode_samples is already up-to-date!\n",
      "[nltk_data]    | Downloading package webtext to\n",
      "[nltk_data]    |     C:\\Users\\minim\\AppData\\Roaming\\nltk_data...\n",
      "[nltk_data]    |   Package webtext is already up-to-date!\n",
      "[nltk_data]    | Downloading package wordnet to\n",
      "[nltk_data]    |     C:\\Users\\minim\\AppData\\Roaming\\nltk_data...\n",
      "[nltk_data]    |   Package wordnet is already up-to-date!\n",
      "[nltk_data]    | Downloading package wordnet_ic to\n",
      "[nltk_data]    |     C:\\Users\\minim\\AppData\\Roaming\\nltk_data...\n",
      "[nltk_data]    |   Package wordnet_ic is already up-to-date!\n",
      "[nltk_data]    | Downloading package words to\n",
      "[nltk_data]    |     C:\\Users\\minim\\AppData\\Roaming\\nltk_data...\n",
      "[nltk_data]    |   Package words is already up-to-date!\n",
      "[nltk_data]    | Downloading package maxent_treebank_pos_tagger to\n",
      "[nltk_data]    |     C:\\Users\\minim\\AppData\\Roaming\\nltk_data...\n",
      "[nltk_data]    |   Package maxent_treebank_pos_tagger is already up-\n",
      "[nltk_data]    |       to-date!\n",
      "[nltk_data]    | Downloading package maxent_ne_chunker to\n",
      "[nltk_data]    |     C:\\Users\\minim\\AppData\\Roaming\\nltk_data...\n",
      "[nltk_data]    |   Package maxent_ne_chunker is already up-to-date!\n",
      "[nltk_data]    | Downloading package universal_tagset to\n",
      "[nltk_data]    |     C:\\Users\\minim\\AppData\\Roaming\\nltk_data...\n",
      "[nltk_data]    |   Package universal_tagset is already up-to-date!\n",
      "[nltk_data]    | Downloading package punkt to\n",
      "[nltk_data]    |     C:\\Users\\minim\\AppData\\Roaming\\nltk_data...\n",
      "[nltk_data]    |   Package punkt is already up-to-date!\n",
      "[nltk_data]    | Downloading package book_grammars to\n",
      "[nltk_data]    |     C:\\Users\\minim\\AppData\\Roaming\\nltk_data...\n",
      "[nltk_data]    |   Package book_grammars is already up-to-date!\n",
      "[nltk_data]    | Downloading package city_database to\n",
      "[nltk_data]    |     C:\\Users\\minim\\AppData\\Roaming\\nltk_data...\n",
      "[nltk_data]    |   Package city_database is already up-to-date!\n",
      "[nltk_data]    | Downloading package tagsets to\n",
      "[nltk_data]    |     C:\\Users\\minim\\AppData\\Roaming\\nltk_data...\n",
      "[nltk_data]    |   Package tagsets is already up-to-date!\n",
      "[nltk_data]    | Downloading package panlex_swadesh to\n",
      "[nltk_data]    |     C:\\Users\\minim\\AppData\\Roaming\\nltk_data...\n",
      "[nltk_data]    |   Package panlex_swadesh is already up-to-date!\n",
      "[nltk_data]    | Downloading package averaged_perceptron_tagger to\n",
      "[nltk_data]    |     C:\\Users\\minim\\AppData\\Roaming\\nltk_data...\n",
      "[nltk_data]    |   Package averaged_perceptron_tagger is already up-\n",
      "[nltk_data]    |       to-date!\n",
      "[nltk_data]    | \n",
      "[nltk_data]  Done downloading collection book\n"
     ]
    },
    {
     "name": "stdout",
     "output_type": "stream",
     "text": [
      "*** Introductory Examples for the NLTK Book ***\n",
      "Loading text1, ..., text9 and sent1, ..., sent9\n",
      "Type the name of the text or sentence to view it.\n",
      "Type: 'texts()' or 'sents()' to list the materials.\n",
      "text1: Moby Dick by Herman Melville 1851\n",
      "text2: Sense and Sensibility by Jane Austen 1811\n",
      "text3: The Book of Genesis\n",
      "text4: Inaugural Address Corpus\n",
      "text5: Chat Corpus\n",
      "text6: Monty Python and the Holy Grail\n",
      "text7: Wall Street Journal\n",
      "text8: Personals Corpus\n",
      "text9: The Man Who Was Thursday by G . K . Chesterton 1908\n"
     ]
    }
   ],
   "source": [
    "import nltk \n",
    "nltk.download('book')\n",
    "from nltk.book import *"
   ]
  },
  {
   "cell_type": "code",
   "execution_count": 49,
   "id": "a123a35c",
   "metadata": {
    "execution": {
     "iopub.execute_input": "2022-11-17T00:29:43.920313Z",
     "iopub.status.busy": "2022-11-17T00:29:43.920313Z",
     "iopub.status.idle": "2022-11-17T00:29:43.932311Z",
     "shell.execute_reply": "2022-11-17T00:29:43.931311Z",
     "shell.execute_reply.started": "2022-11-17T00:29:43.920313Z"
    },
    "tags": []
   },
   "outputs": [
    {
     "data": {
      "text/plain": [
       "['austen-emma.txt',\n",
       " 'austen-persuasion.txt',\n",
       " 'austen-sense.txt',\n",
       " 'bible-kjv.txt',\n",
       " 'blake-poems.txt',\n",
       " 'bryant-stories.txt',\n",
       " 'burgess-busterbrown.txt',\n",
       " 'carroll-alice.txt',\n",
       " 'chesterton-ball.txt',\n",
       " 'chesterton-brown.txt',\n",
       " 'chesterton-thursday.txt',\n",
       " 'edgeworth-parents.txt',\n",
       " 'melville-moby_dick.txt',\n",
       " 'milton-paradise.txt',\n",
       " 'shakespeare-caesar.txt',\n",
       " 'shakespeare-hamlet.txt',\n",
       " 'shakespeare-macbeth.txt',\n",
       " 'whitman-leaves.txt']"
      ]
     },
     "execution_count": 49,
     "metadata": {},
     "output_type": "execute_result"
    }
   ],
   "source": [
    "# gutenberg 말뭉치 : 저작권이 만료된 소설같은 작품들을 가지고 있는 문서 집합 \n",
    "nltk.corpus.gutenberg.fileids()"
   ]
  },
  {
   "cell_type": "code",
   "execution_count": 50,
   "id": "fbd56433",
   "metadata": {
    "execution": {
     "iopub.execute_input": "2022-11-17T00:29:47.354848Z",
     "iopub.status.busy": "2022-11-17T00:29:47.354848Z",
     "iopub.status.idle": "2022-11-17T00:29:47.373538Z",
     "shell.execute_reply": "2022-11-17T00:29:47.372536Z",
     "shell.execute_reply.started": "2022-11-17T00:29:47.354848Z"
    },
    "tags": []
   },
   "outputs": [
    {
     "name": "stdout",
     "output_type": "stream",
     "text": [
      "[Emma by Jane Austen 1816]\n",
      "\n",
      "VOLUME I\n",
      "\n",
      "CHAPTER I\n",
      "\n",
      "\n",
      "Emma Woodhouse, handsome, clever, and rich, with a comfortable home\n",
      "and happy disposition, seemed to unite some of the best blessings\n",
      "of existence; and had lived nearly twenty-one years in the world\n",
      "with very little to distress or vex her.\n",
      "\n",
      "She was the youngest of the two daughters of a most affectionate,\n",
      "indulgent father; and had, in consequence of her sister's marriage,\n",
      "been mistress of his house from a very early period.  Her mother\n",
      "had died t\n"
     ]
    }
   ],
   "source": [
    "shakespeare = nltk.corpus.gutenberg.raw('austen-emma.txt')\n",
    "print(shakespeare[:500])"
   ]
  },
  {
   "cell_type": "markdown",
   "id": "d0e8fa8e",
   "metadata": {},
   "source": [
    "## 토큰 생성 : 문자열을 가장 작은 단위인 토큰으로 나누는 작업"
   ]
  },
  {
   "cell_type": "code",
   "execution_count": 86,
   "id": "f1471c48",
   "metadata": {
    "execution": {
     "iopub.execute_input": "2022-11-17T00:33:24.871712Z",
     "iopub.status.busy": "2022-11-17T00:33:24.871712Z",
     "iopub.status.idle": "2022-11-17T00:33:24.884629Z",
     "shell.execute_reply": "2022-11-17T00:33:24.884629Z",
     "shell.execute_reply.started": "2022-11-17T00:33:24.871712Z"
    },
    "tags": []
   },
   "outputs": [
    {
     "name": "stdout",
     "output_type": "stream",
     "text": [
      "['Emma', 'Woodhouse', ',', 'handsome', ',', 'clever', ',', 'and', 'rich', ',', 'with', 'a']\n"
     ]
    }
   ],
   "source": [
    "#from nltk.tokenize import sent_tokenize\n",
    "from nltk.tokenize import word_tokenize\n",
    "print(word_tokenize(shakespeare[50:100]))"
   ]
  },
  {
   "cell_type": "code",
   "execution_count": 87,
   "id": "8379759c",
   "metadata": {
    "execution": {
     "iopub.execute_input": "2022-11-17T00:33:25.058594Z",
     "iopub.status.busy": "2022-11-17T00:33:25.058594Z",
     "iopub.status.idle": "2022-11-17T00:33:25.065534Z",
     "shell.execute_reply": "2022-11-17T00:33:25.065534Z",
     "shell.execute_reply.started": "2022-11-17T00:33:25.058594Z"
    },
    "tags": []
   },
   "outputs": [
    {
     "data": {
      "text/plain": [
       "['Emma', 'Woodhouse', 'handsome', 'clever', 'and', 'rich', 'with', 'a']"
      ]
     },
     "execution_count": 87,
     "metadata": {},
     "output_type": "execute_result"
    }
   ],
   "source": [
    "from nltk.tokenize import RegexpTokenizer\n",
    "# \\w : 영문자, 숫자, _(밑줄)\n",
    "re = RegexpTokenizer('[\\w]+')\n",
    "re.tokenize(shakespeare[50:100])\n"
   ]
  },
  {
   "cell_type": "markdown",
   "id": "6a1cfea0",
   "metadata": {},
   "source": [
    "## 형태소(morpheme) 분석\n",
    "\n",
    "- 형태소 : 의미가 있는 가장 작은 말의 단위 \n",
    "- 형태소 분석 : 단어에서 어근, 접두사, 접미사, 품사 같은 속성을 파악하는 작업 \n",
    "- 기능\n",
    "    1. 어간 추출(stemming) : 단어의 기본형\n",
    "    2. 원형 복원(lemmatizing) : 같은 의미를 가진 여러 단어를 통합하는 작업\n",
    "    3. 품사 부착(Part-Of-Speech tagging,POS)\n",
    "    "
   ]
  },
  {
   "cell_type": "markdown",
   "id": "caa74a7b",
   "metadata": {},
   "source": [
    "[자주 사용하는 문자 클래스]\n",
    "[0-9] 또는 [a-zA-Z] 등은 무척 자주 사용하는 정규 표현식이다. 이렇게 자주 사용하는 정규식은 별도의 표기법으로 표현할 수 있다. 다음을 기억해 두자.\n",
    "\n",
    "\\d - 숫자와 매치, [0-9]와 동일한 표현식이다.\n",
    "\\D - 숫자가 아닌 것과 매치, [^0-9]와 동일한 표현식이다.\n",
    "\\s - whitespace 문자와 매치, [ \\t\\n\\r\\f\\v]와 동일한 표현식이다. 맨 앞의 빈 칸은 공백문자(space)를 의미한다.\n",
    "\\S - whitespace 문자가 아닌 것과 매치, [^ \\t\\n\\r\\f\\v]와 동일한 표현식이다.\n",
    "\\w - 문자+숫자(alphanumeric)와 매치, [a-zA-Z0-9_]와 동일한 표현식이다.\n",
    "\\W - 문자+숫자(alphanumeric)가 아닌 문자와 매치, [^a-zA-Z0-9_]와 동일한 표현식이다.\n",
    "대문자로 사용된 것은 소문자의 반대임을 추측할 수 있다.\n"
   ]
  },
  {
   "cell_type": "code",
   "execution_count": 88,
   "id": "498b7153",
   "metadata": {
    "execution": {
     "iopub.execute_input": "2022-11-17T00:33:27.578392Z",
     "iopub.status.busy": "2022-11-17T00:33:27.577389Z",
     "iopub.status.idle": "2022-11-17T00:33:27.587802Z",
     "shell.execute_reply": "2022-11-17T00:33:27.587099Z",
     "shell.execute_reply.started": "2022-11-17T00:33:27.578392Z"
    },
    "tags": []
   },
   "outputs": [
    {
     "name": "stdout",
     "output_type": "stream",
     "text": [
      "Porter Stemmer :  ['fli', 'fli', 'fli', 'flew', 'flown']\n",
      "Lancaster Stemmer :  ['fly', 'fli', 'fly', 'flew', 'flown']\n"
     ]
    }
   ],
   "source": [
    "from nltk.stem import PorterStemmer, LancasterStemmer\n",
    "\n",
    "st1 = PorterStemmer()\n",
    "st2 = LancasterStemmer()\n",
    "\n",
    "words = ['fly', 'flies', 'flying', 'flew', 'flown']\n",
    "\n",
    "    \n",
    "print('Porter Stemmer : ' , [st1.stem(w) for w in words])\n",
    "print('Lancaster Stemmer : ', [st2.stem(w) for w in words])"
   ]
  },
  {
   "cell_type": "code",
   "execution_count": 89,
   "id": "812f7bbc-da69-474c-8704-a7d086c20d2e",
   "metadata": {
    "execution": {
     "iopub.execute_input": "2022-11-17T00:33:27.797928Z",
     "iopub.status.busy": "2022-11-17T00:33:27.796928Z",
     "iopub.status.idle": "2022-11-17T00:33:27.806926Z",
     "shell.execute_reply": "2022-11-17T00:33:27.805926Z",
     "shell.execute_reply.started": "2022-11-17T00:33:27.796928Z"
    },
    "tags": []
   },
   "outputs": [
    {
     "name": "stderr",
     "output_type": "stream",
     "text": [
      "[nltk_data] Downloading package omw-1.4 to\n",
      "[nltk_data]     C:\\Users\\minim\\AppData\\Roaming\\nltk_data...\n",
      "[nltk_data]   Package omw-1.4 is already up-to-date!\n"
     ]
    },
    {
     "data": {
      "text/plain": [
       "True"
      ]
     },
     "execution_count": 89,
     "metadata": {},
     "output_type": "execute_result"
    }
   ],
   "source": [
    "import nltk\n",
    "nltk.download('omw-1.4')"
   ]
  },
  {
   "cell_type": "code",
   "execution_count": 90,
   "id": "559bac8c",
   "metadata": {
    "execution": {
     "iopub.execute_input": "2022-11-17T00:33:28.068371Z",
     "iopub.status.busy": "2022-11-17T00:33:28.068371Z",
     "iopub.status.idle": "2022-11-17T00:33:28.089651Z",
     "shell.execute_reply": "2022-11-17T00:33:28.088891Z",
     "shell.execute_reply.started": "2022-11-17T00:33:28.068371Z"
    },
    "tags": []
   },
   "outputs": [
    {
     "data": {
      "text/plain": [
       "['fly', 'fly', 'fly', 'fly', 'fly']"
      ]
     },
     "execution_count": 90,
     "metadata": {},
     "output_type": "execute_result"
    }
   ],
   "source": [
    "from nltk.stem import WordNetLemmatizer\n",
    "lm = WordNetLemmatizer()\n",
    "\n",
    "[lm.lemmatize(w, pos = 'v') for w in words] # pos는 품사 - 조금 더 정확하게 찾아주기 위해 ! "
   ]
  },
  {
   "cell_type": "code",
   "execution_count": 91,
   "id": "e179a122",
   "metadata": {
    "execution": {
     "iopub.execute_input": "2022-11-17T00:33:29.218092Z",
     "iopub.status.busy": "2022-11-17T00:33:29.218092Z",
     "iopub.status.idle": "2022-11-17T00:33:29.236373Z",
     "shell.execute_reply": "2022-11-17T00:33:29.235367Z",
     "shell.execute_reply.started": "2022-11-17T00:33:29.218092Z"
    },
    "tags": []
   },
   "outputs": [
    {
     "name": "stdout",
     "output_type": "stream",
     "text": [
      "VB: verb, base form\n",
      "    ask assemble assess assign assume atone attention avoid bake balkanize\n",
      "    bank begin behold believe bend benefit bevel beware bless boil bomb\n",
      "    boost brace break bring broil brush build ...\n"
     ]
    }
   ],
   "source": [
    "nltk.help.upenn_tagset('VB')"
   ]
  },
  {
   "cell_type": "code",
   "execution_count": 92,
   "id": "92dfb320",
   "metadata": {
    "execution": {
     "iopub.execute_input": "2022-11-17T00:33:29.832995Z",
     "iopub.status.busy": "2022-11-17T00:33:29.832995Z",
     "iopub.status.idle": "2022-11-17T00:33:29.845677Z",
     "shell.execute_reply": "2022-11-17T00:33:29.844656Z",
     "shell.execute_reply.started": "2022-11-17T00:33:29.832995Z"
    },
    "tags": []
   },
   "outputs": [
    {
     "data": {
      "text/plain": [
       "[('Emma', 'NNP'),\n",
       " ('Woodhouse', 'NNP'),\n",
       " (',', ','),\n",
       " ('handsome', 'NN'),\n",
       " (',', ','),\n",
       " ('clever', 'NN'),\n",
       " (',', ','),\n",
       " ('and', 'CC'),\n",
       " ('rich', 'JJ'),\n",
       " (',', ','),\n",
       " ('with', 'IN'),\n",
       " ('a', 'DT'),\n",
       " ('comfortable', 'JJ'),\n",
       " ('home', 'NN'),\n",
       " ('and', 'CC'),\n",
       " ('happy', 'JJ'),\n",
       " ('disposition', 'NN'),\n",
       " (',', ','),\n",
       " ('seemed', 'VBD'),\n",
       " ('to', 'TO'),\n",
       " ('unite', 'VB'),\n",
       " ('some', 'DT'),\n",
       " ('of', 'IN'),\n",
       " ('the', 'DT'),\n",
       " ('best', 'JJS'),\n",
       " ('blessings', 'NNS'),\n",
       " ('of', 'IN'),\n",
       " ('existence', 'NN')]"
      ]
     },
     "execution_count": 92,
     "metadata": {},
     "output_type": "execute_result"
    }
   ],
   "source": [
    "from nltk.tag import pos_tag\n",
    "\n",
    "text = '''\n",
    "Emma Woodhouse, handsome, clever, and rich, with a comfortable home\n",
    "and happy disposition, seemed to unite some of the best blessings\n",
    "of existence\n",
    "'''\n",
    "\n",
    "# 품사를 붙이는 작업 <-- 단어 단위로 쪼개져있어야한다. \n",
    "tag_list = pos_tag(word_tokenize(text))\n",
    "tag_list"
   ]
  },
  {
   "cell_type": "code",
   "execution_count": 93,
   "id": "7a131a10",
   "metadata": {
    "execution": {
     "iopub.execute_input": "2022-11-17T00:33:31.427510Z",
     "iopub.status.busy": "2022-11-17T00:33:31.427510Z",
     "iopub.status.idle": "2022-11-17T00:33:31.433723Z",
     "shell.execute_reply": "2022-11-17T00:33:31.433517Z",
     "shell.execute_reply.started": "2022-11-17T00:33:31.427510Z"
    },
    "tags": []
   },
   "outputs": [
    {
     "data": {
      "text/plain": [
       "['handsome', 'clever', 'home', 'disposition', 'existence']"
      ]
     },
     "execution_count": 93,
     "metadata": {},
     "output_type": "execute_result"
    }
   ],
   "source": [
    "nouns_list = [t[0] for t in tag_list if t[1] == 'NN']\n",
    "nouns_list"
   ]
  },
  {
   "cell_type": "markdown",
   "id": "e139acf3",
   "metadata": {},
   "source": [
    "# 전처리"
   ]
  },
  {
   "cell_type": "markdown",
   "id": "a6efa15f",
   "metadata": {},
   "source": [
    "## 특수문자(특수기호) 제거"
   ]
  },
  {
   "cell_type": "code",
   "execution_count": 94,
   "id": "a89b065d",
   "metadata": {
    "execution": {
     "iopub.execute_input": "2022-11-17T00:33:32.540637Z",
     "iopub.status.busy": "2022-11-17T00:33:32.540637Z",
     "iopub.status.idle": "2022-11-17T00:33:32.555946Z",
     "shell.execute_reply": "2022-11-17T00:33:32.554905Z",
     "shell.execute_reply.started": "2022-11-17T00:33:32.540637Z"
    },
    "tags": []
   },
   "outputs": [],
   "source": [
    "# 파이썬에 내장된 패키지 string는 문자열을 처리하는 다양한 함수를 제공한다. \n",
    "import string"
   ]
  },
  {
   "cell_type": "code",
   "execution_count": 95,
   "id": "1fa2d0ff",
   "metadata": {
    "execution": {
     "iopub.execute_input": "2022-11-17T00:33:32.820271Z",
     "iopub.status.busy": "2022-11-17T00:33:32.820271Z",
     "iopub.status.idle": "2022-11-17T00:33:32.835399Z",
     "shell.execute_reply": "2022-11-17T00:33:32.834414Z",
     "shell.execute_reply.started": "2022-11-17T00:33:32.820271Z"
    },
    "tags": []
   },
   "outputs": [
    {
     "data": {
      "text/plain": [
       "'!\"#$%&\\'()*+,-./:;<=>?@[\\\\]^_`{|}~'"
      ]
     },
     "execution_count": 95,
     "metadata": {},
     "output_type": "execute_result"
    }
   ],
   "source": [
    "# 특수기호 목록 확인 \n",
    "string.punctuation"
   ]
  },
  {
   "cell_type": "code",
   "execution_count": 96,
   "id": "d3bbeab0",
   "metadata": {
    "execution": {
     "iopub.execute_input": "2022-11-17T00:33:34.433549Z",
     "iopub.status.busy": "2022-11-17T00:33:34.433549Z",
     "iopub.status.idle": "2022-11-17T00:33:34.453537Z",
     "shell.execute_reply": "2022-11-17T00:33:34.453537Z",
     "shell.execute_reply.started": "2022-11-17T00:33:34.433549Z"
    },
    "tags": []
   },
   "outputs": [
    {
     "data": {
      "text/plain": [
       "0       Go until jurong point, crazy.. Available only ...\n",
       "1                           Ok lar... Joking wif u oni...\n",
       "2       Free entry in 2 a wkly comp to win FA Cup fina...\n",
       "3       U dun say so early hor... U c already then say...\n",
       "4       Nah I don't think he goes to usf, he lives aro...\n",
       "                              ...                        \n",
       "5569    This is the 2nd time we have tried 2 contact u...\n",
       "5570                 Will 체 b going to esplanade fr home?\n",
       "5571    Pity, * was in mood for that. So...any other s...\n",
       "5572    The guy did some bitching but I acted like i'd...\n",
       "5573                           Rofl. Its true to its name\n",
       "Name: text, Length: 5574, dtype: object"
      ]
     },
     "execution_count": 96,
     "metadata": {},
     "output_type": "execute_result"
    }
   ],
   "source": [
    "data['text']"
   ]
  },
  {
   "cell_type": "code",
   "execution_count": 97,
   "id": "cb918cf1",
   "metadata": {
    "execution": {
     "iopub.execute_input": "2022-11-17T00:33:34.794502Z",
     "iopub.status.busy": "2022-11-17T00:33:34.793487Z",
     "iopub.status.idle": "2022-11-17T00:33:34.800630Z",
     "shell.execute_reply": "2022-11-17T00:33:34.800630Z",
     "shell.execute_reply.started": "2022-11-17T00:33:34.794502Z"
    },
    "tags": []
   },
   "outputs": [
    {
     "data": {
      "text/plain": [
       "'Go until jurong point, crazy.. Available only in bugis n great world la e buffet... Cine there got amore wat...'"
      ]
     },
     "execution_count": 97,
     "metadata": {},
     "output_type": "execute_result"
    }
   ],
   "source": [
    "# 첫번째 문장을 가져와서 샘플에 담는다. \n",
    "sample = data['text'].loc[0]\n",
    "sample"
   ]
  },
  {
   "cell_type": "code",
   "execution_count": 98,
   "id": "df4415a0",
   "metadata": {
    "execution": {
     "iopub.execute_input": "2022-11-17T00:33:36.021925Z",
     "iopub.status.busy": "2022-11-17T00:33:36.021925Z",
     "iopub.status.idle": "2022-11-17T00:33:36.029501Z",
     "shell.execute_reply": "2022-11-17T00:33:36.029501Z",
     "shell.execute_reply.started": "2022-11-17T00:33:36.021925Z"
    },
    "tags": []
   },
   "outputs": [
    {
     "name": "stdout",
     "output_type": "stream",
     "text": [
      "G\n",
      "o\n",
      " \n",
      "u\n",
      "n\n",
      "t\n",
      "i\n",
      "l\n",
      " \n",
      "j\n",
      "u\n",
      "r\n",
      "o\n",
      "n\n",
      "g\n",
      " \n",
      "p\n",
      "o\n",
      "i\n",
      "n\n",
      "t\n",
      ",\n",
      " \n",
      "c\n",
      "r\n",
      "a\n",
      "z\n",
      "y\n",
      ".\n",
      ".\n",
      " \n",
      "A\n",
      "v\n",
      "a\n",
      "i\n",
      "l\n",
      "a\n",
      "b\n",
      "l\n",
      "e\n",
      " \n",
      "o\n",
      "n\n",
      "l\n",
      "y\n",
      " \n",
      "i\n",
      "n\n",
      " \n",
      "b\n",
      "u\n",
      "g\n",
      "i\n",
      "s\n",
      " \n",
      "n\n",
      " \n",
      "g\n",
      "r\n",
      "e\n",
      "a\n",
      "t\n",
      " \n",
      "w\n",
      "o\n",
      "r\n",
      "l\n",
      "d\n",
      " \n",
      "l\n",
      "a\n",
      " \n",
      "e\n",
      " \n",
      "b\n",
      "u\n",
      "f\n",
      "f\n",
      "e\n",
      "t\n",
      ".\n",
      ".\n",
      ".\n",
      " \n",
      "C\n",
      "i\n",
      "n\n",
      "e\n",
      " \n",
      "t\n",
      "h\n",
      "e\n",
      "r\n",
      "e\n",
      " \n",
      "g\n",
      "o\n",
      "t\n",
      " \n",
      "a\n",
      "m\n",
      "o\n",
      "r\n",
      "e\n",
      " \n",
      "w\n",
      "a\n",
      "t\n",
      ".\n",
      ".\n",
      ".\n"
     ]
    }
   ],
   "source": [
    "for i in sample:\n",
    "    print(i)"
   ]
  },
  {
   "cell_type": "code",
   "execution_count": 99,
   "id": "aa66aff6",
   "metadata": {
    "execution": {
     "iopub.execute_input": "2022-11-17T00:33:36.985899Z",
     "iopub.status.busy": "2022-11-17T00:33:36.985899Z",
     "iopub.status.idle": "2022-11-17T00:33:37.001609Z",
     "shell.execute_reply": "2022-11-17T00:33:37.001374Z",
     "shell.execute_reply.started": "2022-11-17T00:33:36.985899Z"
    },
    "tags": []
   },
   "outputs": [
    {
     "name": "stdout",
     "output_type": "stream",
     "text": [
      "G\n",
      "o\n",
      " \n",
      "u\n",
      "n\n",
      "t\n",
      "i\n",
      "l\n",
      " \n",
      "j\n",
      "u\n",
      "r\n",
      "o\n",
      "n\n",
      "g\n",
      " \n",
      "p\n",
      "o\n",
      "i\n",
      "n\n",
      "t\n",
      " \n",
      "c\n",
      "r\n",
      "a\n",
      "z\n",
      "y\n",
      " \n",
      "A\n",
      "v\n",
      "a\n",
      "i\n",
      "l\n",
      "a\n",
      "b\n",
      "l\n",
      "e\n",
      " \n",
      "o\n",
      "n\n",
      "l\n",
      "y\n",
      " \n",
      "i\n",
      "n\n",
      " \n",
      "b\n",
      "u\n",
      "g\n",
      "i\n",
      "s\n",
      " \n",
      "n\n",
      " \n",
      "g\n",
      "r\n",
      "e\n",
      "a\n",
      "t\n",
      " \n",
      "w\n",
      "o\n",
      "r\n",
      "l\n",
      "d\n",
      " \n",
      "l\n",
      "a\n",
      " \n",
      "e\n",
      " \n",
      "b\n",
      "u\n",
      "f\n",
      "f\n",
      "e\n",
      "t\n",
      " \n",
      "C\n",
      "i\n",
      "n\n",
      "e\n",
      " \n",
      "t\n",
      "h\n",
      "e\n",
      "r\n",
      "e\n",
      " \n",
      "g\n",
      "o\n",
      "t\n",
      " \n",
      "a\n",
      "m\n",
      "o\n",
      "r\n",
      "e\n",
      " \n",
      "w\n",
      "a\n",
      "t\n"
     ]
    }
   ],
   "source": [
    "# 특수문자 제거 \n",
    "for i in sample:\n",
    "    if i not in string.punctuation:\n",
    "        print(i)"
   ]
  },
  {
   "cell_type": "code",
   "execution_count": 100,
   "id": "6389eae5",
   "metadata": {
    "execution": {
     "iopub.execute_input": "2022-11-17T00:33:39.014074Z",
     "iopub.status.busy": "2022-11-17T00:33:39.014074Z",
     "iopub.status.idle": "2022-11-17T00:33:39.037548Z",
     "shell.execute_reply": "2022-11-17T00:33:39.036549Z",
     "shell.execute_reply.started": "2022-11-17T00:33:39.014074Z"
    },
    "scrolled": true,
    "tags": []
   },
   "outputs": [
    {
     "data": {
      "text/html": [
       "<div>\n",
       "<style scoped>\n",
       "    .dataframe tbody tr th:only-of-type {\n",
       "        vertical-align: middle;\n",
       "    }\n",
       "\n",
       "    .dataframe tbody tr th {\n",
       "        vertical-align: top;\n",
       "    }\n",
       "\n",
       "    .dataframe thead th {\n",
       "        text-align: right;\n",
       "    }\n",
       "</style>\n",
       "<table border=\"1\" class=\"dataframe\">\n",
       "  <thead>\n",
       "    <tr style=\"text-align: right;\">\n",
       "      <th></th>\n",
       "      <th>target</th>\n",
       "      <th>text</th>\n",
       "    </tr>\n",
       "  </thead>\n",
       "  <tbody>\n",
       "    <tr>\n",
       "      <th>0</th>\n",
       "      <td>ham</td>\n",
       "      <td>Go until jurong point, crazy.. Available only ...</td>\n",
       "    </tr>\n",
       "    <tr>\n",
       "      <th>1</th>\n",
       "      <td>ham</td>\n",
       "      <td>Ok lar... Joking wif u oni...</td>\n",
       "    </tr>\n",
       "    <tr>\n",
       "      <th>2</th>\n",
       "      <td>spam</td>\n",
       "      <td>Free entry in 2 a wkly comp to win FA Cup fina...</td>\n",
       "    </tr>\n",
       "    <tr>\n",
       "      <th>3</th>\n",
       "      <td>ham</td>\n",
       "      <td>U dun say so early hor... U c already then say...</td>\n",
       "    </tr>\n",
       "    <tr>\n",
       "      <th>4</th>\n",
       "      <td>ham</td>\n",
       "      <td>Nah I don't think he goes to usf, he lives aro...</td>\n",
       "    </tr>\n",
       "  </tbody>\n",
       "</table>\n",
       "</div>"
      ],
      "text/plain": [
       "  target                                               text\n",
       "0    ham  Go until jurong point, crazy.. Available only ...\n",
       "1    ham                      Ok lar... Joking wif u oni...\n",
       "2   spam  Free entry in 2 a wkly comp to win FA Cup fina...\n",
       "3    ham  U dun say so early hor... U c already then say...\n",
       "4    ham  Nah I don't think he goes to usf, he lives aro..."
      ]
     },
     "execution_count": 100,
     "metadata": {},
     "output_type": "execute_result"
    }
   ],
   "source": [
    "data.head()"
   ]
  },
  {
   "cell_type": "code",
   "execution_count": 101,
   "id": "b2178b94",
   "metadata": {
    "execution": {
     "iopub.execute_input": "2022-11-17T00:33:41.407610Z",
     "iopub.status.busy": "2022-11-17T00:33:41.407610Z",
     "iopub.status.idle": "2022-11-17T00:33:41.419771Z",
     "shell.execute_reply": "2022-11-17T00:33:41.419771Z",
     "shell.execute_reply.started": "2022-11-17T00:33:41.407610Z"
    },
    "scrolled": true,
    "tags": []
   },
   "outputs": [
    {
     "data": {
      "text/plain": [
       "['G',\n",
       " 'o',\n",
       " ' ',\n",
       " 'u',\n",
       " 'n',\n",
       " 't',\n",
       " 'i',\n",
       " 'l',\n",
       " ' ',\n",
       " 'j',\n",
       " 'u',\n",
       " 'r',\n",
       " 'o',\n",
       " 'n',\n",
       " 'g',\n",
       " ' ',\n",
       " 'p',\n",
       " 'o',\n",
       " 'i',\n",
       " 'n',\n",
       " 't',\n",
       " ' ',\n",
       " 'c',\n",
       " 'r',\n",
       " 'a',\n",
       " 'z',\n",
       " 'y',\n",
       " ' ',\n",
       " 'A',\n",
       " 'v',\n",
       " 'a',\n",
       " 'i',\n",
       " 'l',\n",
       " 'a',\n",
       " 'b',\n",
       " 'l',\n",
       " 'e',\n",
       " ' ',\n",
       " 'o',\n",
       " 'n',\n",
       " 'l',\n",
       " 'y',\n",
       " ' ',\n",
       " 'i',\n",
       " 'n',\n",
       " ' ',\n",
       " 'b',\n",
       " 'u',\n",
       " 'g',\n",
       " 'i',\n",
       " 's',\n",
       " ' ',\n",
       " 'n',\n",
       " ' ',\n",
       " 'g',\n",
       " 'r',\n",
       " 'e',\n",
       " 'a',\n",
       " 't',\n",
       " ' ',\n",
       " 'w',\n",
       " 'o',\n",
       " 'r',\n",
       " 'l',\n",
       " 'd',\n",
       " ' ',\n",
       " 'l',\n",
       " 'a',\n",
       " ' ',\n",
       " 'e',\n",
       " ' ',\n",
       " 'b',\n",
       " 'u',\n",
       " 'f',\n",
       " 'f',\n",
       " 'e',\n",
       " 't',\n",
       " ' ',\n",
       " 'C',\n",
       " 'i',\n",
       " 'n',\n",
       " 'e',\n",
       " ' ',\n",
       " 't',\n",
       " 'h',\n",
       " 'e',\n",
       " 'r',\n",
       " 'e',\n",
       " ' ',\n",
       " 'g',\n",
       " 'o',\n",
       " 't',\n",
       " ' ',\n",
       " 'a',\n",
       " 'm',\n",
       " 'o',\n",
       " 'r',\n",
       " 'e',\n",
       " ' ',\n",
       " 'w',\n",
       " 'a',\n",
       " 't']"
      ]
     },
     "execution_count": 101,
     "metadata": {},
     "output_type": "execute_result"
    }
   ],
   "source": [
    "new_text = []\n",
    "for i in sample:\n",
    "    if i not in string.punctuation:\n",
    "        new_text.append(i)\n",
    "new_text"
   ]
  },
  {
   "cell_type": "markdown",
   "id": "2735bc6a",
   "metadata": {},
   "source": [
    "### join"
   ]
  },
  {
   "cell_type": "code",
   "execution_count": 102,
   "id": "67bd8d84",
   "metadata": {
    "execution": {
     "iopub.execute_input": "2022-11-17T00:33:42.239823Z",
     "iopub.status.busy": "2022-11-17T00:33:42.238865Z",
     "iopub.status.idle": "2022-11-17T00:33:42.252980Z",
     "shell.execute_reply": "2022-11-17T00:33:42.251979Z",
     "shell.execute_reply.started": "2022-11-17T00:33:42.239823Z"
    },
    "tags": []
   },
   "outputs": [
    {
     "data": {
      "text/plain": [
       "'apple'"
      ]
     },
     "execution_count": 102,
     "metadata": {},
     "output_type": "execute_result"
    }
   ],
   "source": [
    "# 연습\n",
    "s = ['a','p','p','l','e']\n",
    "''.join(s)"
   ]
  },
  {
   "cell_type": "code",
   "execution_count": 103,
   "id": "e8f7f997",
   "metadata": {
    "execution": {
     "iopub.execute_input": "2022-11-17T00:33:45.328171Z",
     "iopub.status.busy": "2022-11-17T00:33:45.328171Z",
     "iopub.status.idle": "2022-11-17T00:33:45.348252Z",
     "shell.execute_reply": "2022-11-17T00:33:45.347253Z",
     "shell.execute_reply.started": "2022-11-17T00:33:45.328171Z"
    },
    "tags": []
   },
   "outputs": [
    {
     "data": {
      "text/plain": [
       "'Go until jurong point crazy Available only in bugis n great world la e buffet Cine there got amore wat'"
      ]
     },
     "execution_count": 103,
     "metadata": {},
     "output_type": "execute_result"
    }
   ],
   "source": [
    "# 문장형태로 합치기 \n",
    "new_sample = []\n",
    "for i in sample:\n",
    "    if i not in string.punctuation:\n",
    "        new_sample.append(i)\n",
    "new_sample = ''.join(new_sample)\n",
    "new_sample"
   ]
  },
  {
   "cell_type": "code",
   "execution_count": 104,
   "id": "5157e2a5",
   "metadata": {
    "execution": {
     "iopub.execute_input": "2022-11-17T00:33:46.474069Z",
     "iopub.status.busy": "2022-11-17T00:33:46.474069Z",
     "iopub.status.idle": "2022-11-17T00:33:46.486140Z",
     "shell.execute_reply": "2022-11-17T00:33:46.486140Z",
     "shell.execute_reply.started": "2022-11-17T00:33:46.474069Z"
    },
    "tags": []
   },
   "outputs": [],
   "source": [
    "# 특수문자 제거하고 문장 만드는거 함수 \n",
    "def remove_punc(x):\n",
    "    new_sample = []\n",
    "    for i in x:\n",
    "        if i not in string.punctuation:\n",
    "            new_sample.append(i)\n",
    "    new_sample = ''.join(new_sample)\n",
    "    return new_sample"
   ]
  },
  {
   "cell_type": "code",
   "execution_count": 105,
   "id": "53e844f9",
   "metadata": {
    "execution": {
     "iopub.execute_input": "2022-11-17T00:33:47.690446Z",
     "iopub.status.busy": "2022-11-17T00:33:47.690446Z",
     "iopub.status.idle": "2022-11-17T00:33:47.704459Z",
     "shell.execute_reply": "2022-11-17T00:33:47.704259Z",
     "shell.execute_reply.started": "2022-11-17T00:33:47.690446Z"
    },
    "tags": []
   },
   "outputs": [
    {
     "data": {
      "text/plain": [
       "'Go until jurong point crazy Available only in bugis n great world la e buffet Cine there got amore wat'"
      ]
     },
     "execution_count": 105,
     "metadata": {},
     "output_type": "execute_result"
    }
   ],
   "source": [
    "remove_punc(sample)"
   ]
  },
  {
   "cell_type": "code",
   "execution_count": 106,
   "id": "c58e35cf",
   "metadata": {
    "execution": {
     "iopub.execute_input": "2022-11-17T00:33:48.232683Z",
     "iopub.status.busy": "2022-11-17T00:33:48.231675Z",
     "iopub.status.idle": "2022-11-17T00:33:48.267610Z",
     "shell.execute_reply": "2022-11-17T00:33:48.267610Z",
     "shell.execute_reply.started": "2022-11-17T00:33:48.232683Z"
    },
    "tags": []
   },
   "outputs": [],
   "source": [
    "data['text'] = data['text'].apply(remove_punc)"
   ]
  },
  {
   "cell_type": "code",
   "execution_count": 107,
   "id": "17a0ae43",
   "metadata": {
    "execution": {
     "iopub.execute_input": "2022-11-17T00:33:49.280704Z",
     "iopub.status.busy": "2022-11-17T00:33:49.280704Z",
     "iopub.status.idle": "2022-11-17T00:33:49.302419Z",
     "shell.execute_reply": "2022-11-17T00:33:49.302261Z",
     "shell.execute_reply.started": "2022-11-17T00:33:49.280704Z"
    },
    "tags": []
   },
   "outputs": [
    {
     "data": {
      "text/html": [
       "<div>\n",
       "<style scoped>\n",
       "    .dataframe tbody tr th:only-of-type {\n",
       "        vertical-align: middle;\n",
       "    }\n",
       "\n",
       "    .dataframe tbody tr th {\n",
       "        vertical-align: top;\n",
       "    }\n",
       "\n",
       "    .dataframe thead th {\n",
       "        text-align: right;\n",
       "    }\n",
       "</style>\n",
       "<table border=\"1\" class=\"dataframe\">\n",
       "  <thead>\n",
       "    <tr style=\"text-align: right;\">\n",
       "      <th></th>\n",
       "      <th>target</th>\n",
       "      <th>text</th>\n",
       "    </tr>\n",
       "  </thead>\n",
       "  <tbody>\n",
       "    <tr>\n",
       "      <th>0</th>\n",
       "      <td>ham</td>\n",
       "      <td>Go until jurong point crazy Available only in ...</td>\n",
       "    </tr>\n",
       "    <tr>\n",
       "      <th>1</th>\n",
       "      <td>ham</td>\n",
       "      <td>Ok lar Joking wif u oni</td>\n",
       "    </tr>\n",
       "    <tr>\n",
       "      <th>2</th>\n",
       "      <td>spam</td>\n",
       "      <td>Free entry in 2 a wkly comp to win FA Cup fina...</td>\n",
       "    </tr>\n",
       "  </tbody>\n",
       "</table>\n",
       "</div>"
      ],
      "text/plain": [
       "  target                                               text\n",
       "0    ham  Go until jurong point crazy Available only in ...\n",
       "1    ham                            Ok lar Joking wif u oni\n",
       "2   spam  Free entry in 2 a wkly comp to win FA Cup fina..."
      ]
     },
     "execution_count": 107,
     "metadata": {},
     "output_type": "execute_result"
    }
   ],
   "source": [
    "data.head(3)"
   ]
  },
  {
   "cell_type": "markdown",
   "id": "dcb5db64",
   "metadata": {},
   "source": [
    "## 전처리 - 불용어(stopword)\n",
    "- 불용어 : 자연어 분석을 할 때 의미가 없는 단어 --> 제거하자\n",
    "- 불용어 사전 : nltk\n"
   ]
  },
  {
   "cell_type": "code",
   "execution_count": 108,
   "id": "f9a69a76",
   "metadata": {
    "execution": {
     "iopub.execute_input": "2022-11-17T00:33:52.514153Z",
     "iopub.status.busy": "2022-11-17T00:33:52.514153Z",
     "iopub.status.idle": "2022-11-17T00:33:52.533030Z",
     "shell.execute_reply": "2022-11-17T00:33:52.532045Z",
     "shell.execute_reply.started": "2022-11-17T00:33:52.514153Z"
    },
    "tags": []
   },
   "outputs": [
    {
     "name": "stderr",
     "output_type": "stream",
     "text": [
      "[nltk_data] Downloading package stopwords to\n",
      "[nltk_data]     C:\\Users\\minim\\AppData\\Roaming\\nltk_data...\n",
      "[nltk_data]   Package stopwords is already up-to-date!\n"
     ]
    },
    {
     "data": {
      "text/plain": [
       "True"
      ]
     },
     "execution_count": 108,
     "metadata": {},
     "output_type": "execute_result"
    }
   ],
   "source": [
    "# 불용어 목록 확인\n",
    "nltk.download('stopwords')"
   ]
  },
  {
   "cell_type": "code",
   "execution_count": 109,
   "id": "e97e2772",
   "metadata": {
    "execution": {
     "iopub.execute_input": "2022-11-17T00:33:53.966848Z",
     "iopub.status.busy": "2022-11-17T00:33:53.965942Z",
     "iopub.status.idle": "2022-11-17T00:33:53.981079Z",
     "shell.execute_reply": "2022-11-17T00:33:53.980078Z",
     "shell.execute_reply.started": "2022-11-17T00:33:53.966848Z"
    },
    "tags": []
   },
   "outputs": [
    {
     "data": {
      "text/plain": [
       "['i',\n",
       " 'me',\n",
       " 'my',\n",
       " 'myself',\n",
       " 'we',\n",
       " 'our',\n",
       " 'ours',\n",
       " 'ourselves',\n",
       " 'you',\n",
       " \"you're\",\n",
       " \"you've\",\n",
       " \"you'll\",\n",
       " \"you'd\",\n",
       " 'your',\n",
       " 'yours',\n",
       " 'yourself',\n",
       " 'yourselves',\n",
       " 'he',\n",
       " 'him',\n",
       " 'his',\n",
       " 'himself',\n",
       " 'she',\n",
       " \"she's\",\n",
       " 'her',\n",
       " 'hers',\n",
       " 'herself',\n",
       " 'it',\n",
       " \"it's\",\n",
       " 'its',\n",
       " 'itself',\n",
       " 'they',\n",
       " 'them',\n",
       " 'their',\n",
       " 'theirs',\n",
       " 'themselves',\n",
       " 'what',\n",
       " 'which',\n",
       " 'who',\n",
       " 'whom',\n",
       " 'this',\n",
       " 'that',\n",
       " \"that'll\",\n",
       " 'these',\n",
       " 'those',\n",
       " 'am',\n",
       " 'is',\n",
       " 'are',\n",
       " 'was',\n",
       " 'were',\n",
       " 'be',\n",
       " 'been',\n",
       " 'being',\n",
       " 'have',\n",
       " 'has',\n",
       " 'had',\n",
       " 'having',\n",
       " 'do',\n",
       " 'does',\n",
       " 'did',\n",
       " 'doing',\n",
       " 'a',\n",
       " 'an',\n",
       " 'the',\n",
       " 'and',\n",
       " 'but',\n",
       " 'if',\n",
       " 'or',\n",
       " 'because',\n",
       " 'as',\n",
       " 'until',\n",
       " 'while',\n",
       " 'of',\n",
       " 'at',\n",
       " 'by',\n",
       " 'for',\n",
       " 'with',\n",
       " 'about',\n",
       " 'against',\n",
       " 'between',\n",
       " 'into',\n",
       " 'through',\n",
       " 'during',\n",
       " 'before',\n",
       " 'after',\n",
       " 'above',\n",
       " 'below',\n",
       " 'to',\n",
       " 'from',\n",
       " 'up',\n",
       " 'down',\n",
       " 'in',\n",
       " 'out',\n",
       " 'on',\n",
       " 'off',\n",
       " 'over',\n",
       " 'under',\n",
       " 'again',\n",
       " 'further',\n",
       " 'then',\n",
       " 'once',\n",
       " 'here',\n",
       " 'there',\n",
       " 'when',\n",
       " 'where',\n",
       " 'why',\n",
       " 'how',\n",
       " 'all',\n",
       " 'any',\n",
       " 'both',\n",
       " 'each',\n",
       " 'few',\n",
       " 'more',\n",
       " 'most',\n",
       " 'other',\n",
       " 'some',\n",
       " 'such',\n",
       " 'no',\n",
       " 'nor',\n",
       " 'not',\n",
       " 'only',\n",
       " 'own',\n",
       " 'same',\n",
       " 'so',\n",
       " 'than',\n",
       " 'too',\n",
       " 'very',\n",
       " 's',\n",
       " 't',\n",
       " 'can',\n",
       " 'will',\n",
       " 'just',\n",
       " 'don',\n",
       " \"don't\",\n",
       " 'should',\n",
       " \"should've\",\n",
       " 'now',\n",
       " 'd',\n",
       " 'll',\n",
       " 'm',\n",
       " 'o',\n",
       " 're',\n",
       " 've',\n",
       " 'y',\n",
       " 'ain',\n",
       " 'aren',\n",
       " \"aren't\",\n",
       " 'couldn',\n",
       " \"couldn't\",\n",
       " 'didn',\n",
       " \"didn't\",\n",
       " 'doesn',\n",
       " \"doesn't\",\n",
       " 'hadn',\n",
       " \"hadn't\",\n",
       " 'hasn',\n",
       " \"hasn't\",\n",
       " 'haven',\n",
       " \"haven't\",\n",
       " 'isn',\n",
       " \"isn't\",\n",
       " 'ma',\n",
       " 'mightn',\n",
       " \"mightn't\",\n",
       " 'mustn',\n",
       " \"mustn't\",\n",
       " 'needn',\n",
       " \"needn't\",\n",
       " 'shan',\n",
       " \"shan't\",\n",
       " 'shouldn',\n",
       " \"shouldn't\",\n",
       " 'wasn',\n",
       " \"wasn't\",\n",
       " 'weren',\n",
       " \"weren't\",\n",
       " 'won',\n",
       " \"won't\",\n",
       " 'wouldn',\n",
       " \"wouldn't\"]"
      ]
     },
     "execution_count": 109,
     "metadata": {},
     "output_type": "execute_result"
    }
   ],
   "source": [
    "from nltk.corpus import stopwords\n",
    "stopwords.words('english')"
   ]
  },
  {
   "cell_type": "code",
   "execution_count": 110,
   "id": "b6145850",
   "metadata": {
    "execution": {
     "iopub.execute_input": "2022-11-17T00:33:58.194496Z",
     "iopub.status.busy": "2022-11-17T00:33:58.194496Z",
     "iopub.status.idle": "2022-11-17T00:33:58.202279Z",
     "shell.execute_reply": "2022-11-17T00:33:58.202279Z",
     "shell.execute_reply.started": "2022-11-17T00:33:58.194496Z"
    },
    "tags": []
   },
   "outputs": [
    {
     "data": {
      "text/plain": [
       "['arabic',\n",
       " 'azerbaijani',\n",
       " 'basque',\n",
       " 'bengali',\n",
       " 'catalan',\n",
       " 'chinese',\n",
       " 'danish',\n",
       " 'dutch',\n",
       " 'english',\n",
       " 'finnish',\n",
       " 'french',\n",
       " 'german',\n",
       " 'greek',\n",
       " 'hebrew',\n",
       " 'hinglish',\n",
       " 'hungarian',\n",
       " 'indonesian',\n",
       " 'italian',\n",
       " 'kazakh',\n",
       " 'nepali',\n",
       " 'norwegian',\n",
       " 'portuguese',\n",
       " 'romanian',\n",
       " 'russian',\n",
       " 'slovene',\n",
       " 'spanish',\n",
       " 'swedish',\n",
       " 'tajik',\n",
       " 'turkish']"
      ]
     },
     "execution_count": 110,
     "metadata": {},
     "output_type": "execute_result"
    }
   ],
   "source": [
    "stopwords.fileids() # 한국어가 없네 "
   ]
  },
  {
   "cell_type": "code",
   "execution_count": 111,
   "id": "e834b2d2",
   "metadata": {
    "execution": {
     "iopub.execute_input": "2022-11-17T00:34:00.515218Z",
     "iopub.status.busy": "2022-11-17T00:34:00.515218Z",
     "iopub.status.idle": "2022-11-17T00:34:00.522410Z",
     "shell.execute_reply": "2022-11-17T00:34:00.522250Z",
     "shell.execute_reply.started": "2022-11-17T00:34:00.515218Z"
    },
    "tags": []
   },
   "outputs": [
    {
     "data": {
      "text/plain": [
       "'Go until jurong point crazy Available only in bugis n great world la e buffet Cine there got amore wat'"
      ]
     },
     "execution_count": 111,
     "metadata": {},
     "output_type": "execute_result"
    }
   ],
   "source": [
    "sample = data['text'].loc[0]\n",
    "sample"
   ]
  },
  {
   "cell_type": "code",
   "execution_count": 112,
   "id": "99790137",
   "metadata": {
    "execution": {
     "iopub.execute_input": "2022-11-17T00:34:01.287360Z",
     "iopub.status.busy": "2022-11-17T00:34:01.287360Z",
     "iopub.status.idle": "2022-11-17T00:34:01.294358Z",
     "shell.execute_reply": "2022-11-17T00:34:01.294358Z",
     "shell.execute_reply.started": "2022-11-17T00:34:01.287360Z"
    },
    "tags": []
   },
   "outputs": [
    {
     "data": {
      "text/plain": [
       "['Go',\n",
       " 'until',\n",
       " 'jurong',\n",
       " 'point',\n",
       " 'crazy',\n",
       " 'Available',\n",
       " 'only',\n",
       " 'in',\n",
       " 'bugis',\n",
       " 'n',\n",
       " 'great',\n",
       " 'world',\n",
       " 'la',\n",
       " 'e',\n",
       " 'buffet',\n",
       " 'Cine',\n",
       " 'there',\n",
       " 'got',\n",
       " 'amore',\n",
       " 'wat']"
      ]
     },
     "execution_count": 112,
     "metadata": {},
     "output_type": "execute_result"
    }
   ],
   "source": [
    "sample.split()"
   ]
  },
  {
   "cell_type": "code",
   "execution_count": 113,
   "id": "fac1387b",
   "metadata": {
    "execution": {
     "iopub.execute_input": "2022-11-17T00:34:06.374125Z",
     "iopub.status.busy": "2022-11-17T00:34:06.373126Z",
     "iopub.status.idle": "2022-11-17T00:34:06.394177Z",
     "shell.execute_reply": "2022-11-17T00:34:06.393195Z",
     "shell.execute_reply.started": "2022-11-17T00:34:06.374125Z"
    },
    "tags": []
   },
   "outputs": [
    {
     "name": "stdout",
     "output_type": "stream",
     "text": [
      "go\n",
      "jurong\n",
      "point\n",
      "crazy\n",
      "available\n",
      "bugis\n",
      "n\n",
      "great\n",
      "world\n",
      "la\n",
      "e\n",
      "buffet\n",
      "cine\n",
      "got\n",
      "amore\n",
      "wat\n"
     ]
    }
   ],
   "source": [
    "# 소문자, 대문자 구분없게 하려고 lower\n",
    "for w in sample.split():\n",
    "    if w not in stopwords.words('english'):  # 불용어가 아니라면 \n",
    "        print(w.lower())"
   ]
  },
  {
   "cell_type": "code",
   "execution_count": 114,
   "id": "c15f1c61",
   "metadata": {
    "execution": {
     "iopub.execute_input": "2022-11-17T00:34:10.460492Z",
     "iopub.status.busy": "2022-11-17T00:34:10.460492Z",
     "iopub.status.idle": "2022-11-17T00:34:10.481586Z",
     "shell.execute_reply": "2022-11-17T00:34:10.480585Z",
     "shell.execute_reply.started": "2022-11-17T00:34:10.460492Z"
    },
    "tags": []
   },
   "outputs": [
    {
     "data": {
      "text/plain": [
       "'go jurong point crazy available bugis n great world la e buffet cine got amore wat'"
      ]
     },
     "execution_count": 114,
     "metadata": {},
     "output_type": "execute_result"
    }
   ],
   "source": [
    "new_sample = []\n",
    "for w in sample.split():\n",
    "    if w.lower() not in stopwords.words('english'):\n",
    "        new_sample.append(w.lower())\n",
    "        \n",
    "new_sample = ' '.join(new_sample)\n",
    "new_sample"
   ]
  },
  {
   "cell_type": "code",
   "execution_count": 115,
   "id": "dde726c9",
   "metadata": {
    "execution": {
     "iopub.execute_input": "2022-11-17T00:34:12.743146Z",
     "iopub.status.busy": "2022-11-17T00:34:12.743146Z",
     "iopub.status.idle": "2022-11-17T00:34:12.751620Z",
     "shell.execute_reply": "2022-11-17T00:34:12.750611Z",
     "shell.execute_reply.started": "2022-11-17T00:34:12.743146Z"
    },
    "tags": []
   },
   "outputs": [],
   "source": [
    "def stop_words(x):\n",
    "    new_sample = []\n",
    "    for w in x.split():\n",
    "        if w.lower() not in stopwords.words('english'):\n",
    "            new_sample.append(w.lower())\n",
    "\n",
    "    new_sample = ' '.join(new_sample)\n",
    "    return new_sample"
   ]
  },
  {
   "cell_type": "code",
   "execution_count": 116,
   "id": "a7524c0a",
   "metadata": {
    "execution": {
     "iopub.execute_input": "2022-11-17T00:34:14.273203Z",
     "iopub.status.busy": "2022-11-17T00:34:14.272315Z",
     "iopub.status.idle": "2022-11-17T00:34:23.019570Z",
     "shell.execute_reply": "2022-11-17T00:34:23.019570Z",
     "shell.execute_reply.started": "2022-11-17T00:34:14.273203Z"
    },
    "tags": []
   },
   "outputs": [
    {
     "data": {
      "text/plain": [
       "0       go jurong point crazy available bugis n great ...\n",
       "1                                 ok lar joking wif u oni\n",
       "2       free entry 2 wkly comp win fa cup final tkts 2...\n",
       "3                     u dun say early hor u c already say\n",
       "4             nah dont think goes usf lives around though\n",
       "                              ...                        \n",
       "5569    2nd time tried 2 contact u u 짙750 pound prize ...\n",
       "5570                          체 b going esplanade fr home\n",
       "5571                          pity mood soany suggestions\n",
       "5572    guy bitching acted like id interested buying s...\n",
       "5573                                       rofl true name\n",
       "Name: text, Length: 5574, dtype: object"
      ]
     },
     "execution_count": 116,
     "metadata": {},
     "output_type": "execute_result"
    }
   ],
   "source": [
    "data['text'] = data['text'].apply(stop_words)\n",
    "data['text']"
   ]
  },
  {
   "cell_type": "markdown",
   "id": "cccb0d22",
   "metadata": {},
   "source": [
    "## 전처리 - 정형화 처리(target)\n",
    "- 이진분류 "
   ]
  },
  {
   "cell_type": "markdown",
   "id": "7764d820",
   "metadata": {},
   "source": [
    "### map()"
   ]
  },
  {
   "cell_type": "code",
   "execution_count": 117,
   "id": "7b53625b",
   "metadata": {
    "execution": {
     "iopub.execute_input": "2022-11-17T00:34:28.931533Z",
     "iopub.status.busy": "2022-11-17T00:34:28.931533Z",
     "iopub.status.idle": "2022-11-17T00:34:28.953139Z",
     "shell.execute_reply": "2022-11-17T00:34:28.952156Z",
     "shell.execute_reply.started": "2022-11-17T00:34:28.931533Z"
    },
    "tags": []
   },
   "outputs": [
    {
     "data": {
      "text/plain": [
       "0     apple\n",
       "1    banana\n",
       "2     candy\n",
       "dtype: object"
      ]
     },
     "execution_count": 117,
     "metadata": {},
     "output_type": "execute_result"
    }
   ],
   "source": [
    "sample = pd.Series(['a','b','c'])\n",
    "# map()\n",
    "# zip()\n",
    "sample.map({'a':'apple', 'b':'banana', 'c':'candy'})"
   ]
  },
  {
   "cell_type": "code",
   "execution_count": 118,
   "id": "d33c4d15",
   "metadata": {
    "execution": {
     "iopub.execute_input": "2022-11-17T00:34:29.514101Z",
     "iopub.status.busy": "2022-11-17T00:34:29.513104Z",
     "iopub.status.idle": "2022-11-17T00:34:29.525159Z",
     "shell.execute_reply": "2022-11-17T00:34:29.524127Z",
     "shell.execute_reply.started": "2022-11-17T00:34:29.513104Z"
    },
    "tags": []
   },
   "outputs": [
    {
     "data": {
      "text/plain": [
       "0       0\n",
       "1       0\n",
       "2       1\n",
       "3       0\n",
       "4       0\n",
       "       ..\n",
       "5569    1\n",
       "5570    0\n",
       "5571    0\n",
       "5572    0\n",
       "5573    0\n",
       "Name: target, Length: 5574, dtype: int64"
      ]
     },
     "execution_count": 118,
     "metadata": {},
     "output_type": "execute_result"
    }
   ],
   "source": [
    "data['target'] = data['target'].map({'spam':1, 'ham':0})\n",
    "data['target']"
   ]
  },
  {
   "cell_type": "markdown",
   "id": "414ed464",
   "metadata": {},
   "source": [
    "## 카운트 기반의 벡터화 처리 \n",
    "\n",
    "- 카운트 기반 벡터화 : 문자를 개수 기반으로 벡터화하는 방식\n",
    "- 테이터 전체에 존재하는 모든 단어들을 사전처럼 모은 다음에 각각의 인덱스를 부여하고, \n",
    "- 문장마다 속한 단어가 있는 인덱스를 카운트하는 방식이다. "
   ]
  },
  {
   "cell_type": "markdown",
   "id": "338e138d",
   "metadata": {},
   "source": [
    "brown dog white cat brown bear : 0 (01 2)(02 1)\n",
    "<br>\n",
    "black dog "
   ]
  },
  {
   "cell_type": "markdown",
   "id": "40040c22",
   "metadata": {},
   "source": [
    "???????????????????/"
   ]
  },
  {
   "cell_type": "code",
   "execution_count": 119,
   "id": "12987ea3",
   "metadata": {
    "execution": {
     "iopub.execute_input": "2022-11-17T00:34:33.775537Z",
     "iopub.status.busy": "2022-11-17T00:34:33.775537Z",
     "iopub.status.idle": "2022-11-17T00:34:33.791885Z",
     "shell.execute_reply": "2022-11-17T00:34:33.791641Z",
     "shell.execute_reply.started": "2022-11-17T00:34:33.775537Z"
    },
    "tags": []
   },
   "outputs": [],
   "source": [
    "X = data['text']\n",
    "y = data['target']"
   ]
  },
  {
   "cell_type": "code",
   "execution_count": 121,
   "id": "c45b60a3",
   "metadata": {
    "collapsed": true,
    "execution": {
     "iopub.execute_input": "2022-11-17T00:34:45.916675Z",
     "iopub.status.busy": "2022-11-17T00:34:45.916675Z",
     "iopub.status.idle": "2022-11-17T00:34:45.992521Z",
     "shell.execute_reply": "2022-11-17T00:34:45.992521Z",
     "shell.execute_reply.started": "2022-11-17T00:34:45.916675Z"
    },
    "jupyter": {
     "outputs_hidden": true
    },
    "tags": []
   },
   "outputs": [
    {
     "data": {
      "text/plain": [
       "{'go': 3769,\n",
       " 'jurong': 4671,\n",
       " 'point': 6416,\n",
       " 'crazy': 2471,\n",
       " 'available': 1379,\n",
       " 'bugis': 1848,\n",
       " 'great': 3866,\n",
       " 'world': 9171,\n",
       " 'la': 4831,\n",
       " 'buffet': 1846,\n",
       " 'cine': 2186,\n",
       " 'got': 3826,\n",
       " 'amore': 1146,\n",
       " 'wat': 8933,\n",
       " 'ok': 5978,\n",
       " 'lar': 4870,\n",
       " 'joking': 4639,\n",
       " 'wif': 9066,\n",
       " 'oni': 6010,\n",
       " 'free': 3555,\n",
       " 'entry': 3137,\n",
       " 'wkly': 9123,\n",
       " 'comp': 2302,\n",
       " 'win': 9080,\n",
       " 'fa': 3274,\n",
       " 'cup': 2527,\n",
       " 'final': 3399,\n",
       " 'tkts': 8366,\n",
       " '21st': 433,\n",
       " 'may': 5318,\n",
       " '2005': 420,\n",
       " 'text': 8201,\n",
       " '87121': 840,\n",
       " 'receive': 6816,\n",
       " 'questionstd': 6708,\n",
       " 'txt': 8578,\n",
       " 'ratetcs': 6760,\n",
       " 'apply': 1232,\n",
       " '08452810075over18s': 71,\n",
       " 'dun': 2988,\n",
       " 'say': 7176,\n",
       " 'early': 3008,\n",
       " 'hor': 4200,\n",
       " 'already': 1119,\n",
       " 'nah': 5665,\n",
       " 'dont': 2894,\n",
       " 'think': 8277,\n",
       " 'goes': 3783,\n",
       " 'usf': 8727,\n",
       " 'lives': 5033,\n",
       " 'around': 1283,\n",
       " 'though': 8296,\n",
       " 'freemsg': 3563,\n",
       " 'hey': 4095,\n",
       " 'darling': 2591,\n",
       " 'weeks': 8988,\n",
       " 'word': 9157,\n",
       " 'back': 1431,\n",
       " 'id': 4321,\n",
       " 'like': 4983,\n",
       " 'fun': 3630,\n",
       " 'still': 7843,\n",
       " 'tb': 8131,\n",
       " 'xxx': 9296,\n",
       " 'std': 7818,\n",
       " 'chgs': 2131,\n",
       " 'send': 7271,\n",
       " '짙150': 9442,\n",
       " 'rcv': 6772,\n",
       " 'even': 3184,\n",
       " 'brother': 1815,\n",
       " 'speak': 7689,\n",
       " 'treat': 8503,\n",
       " 'aids': 1065,\n",
       " 'patent': 6209,\n",
       " 'per': 6251,\n",
       " 'request': 6929,\n",
       " 'melle': 5361,\n",
       " 'oru': 6074,\n",
       " 'minnaminunginte': 5444,\n",
       " 'nurungu': 5905,\n",
       " 'vettam': 8790,\n",
       " 'set': 7300,\n",
       " 'callertune': 1932,\n",
       " 'callers': 1931,\n",
       " 'press': 6546,\n",
       " 'copy': 2407,\n",
       " 'friends': 3588,\n",
       " 'winner': 9091,\n",
       " 'valued': 8761,\n",
       " 'network': 5741,\n",
       " 'customer': 2540,\n",
       " 'selected': 7257,\n",
       " 'receivea': 6817,\n",
       " '짙900': 9483,\n",
       " 'prize': 6580,\n",
       " 'reward': 6988,\n",
       " 'claim': 2192,\n",
       " 'call': 1913,\n",
       " '09061701461': 217,\n",
       " 'code': 2253,\n",
       " 'kl341': 4787,\n",
       " 'valid': 8757,\n",
       " '12': 322,\n",
       " 'hours': 4219,\n",
       " 'mobile': 5503,\n",
       " '11': 311,\n",
       " 'months': 5548,\n",
       " 'entitled': 3134,\n",
       " 'update': 8682,\n",
       " 'latest': 4887,\n",
       " 'colour': 2276,\n",
       " 'mobiles': 5504,\n",
       " 'camera': 1949,\n",
       " 'co': 2242,\n",
       " '08002986030': 56,\n",
       " 'im': 4351,\n",
       " 'gonna': 3800,\n",
       " 'home': 4166,\n",
       " 'soon': 7639,\n",
       " 'want': 8912,\n",
       " 'talk': 8097,\n",
       " 'stuff': 7917,\n",
       " 'anymore': 1199,\n",
       " 'tonight': 8425,\n",
       " 'ive': 4548,\n",
       " 'cried': 2488,\n",
       " 'enough': 3125,\n",
       " 'today': 8383,\n",
       " 'six': 7491,\n",
       " 'chances': 2068,\n",
       " 'cash': 2011,\n",
       " '100': 291,\n",
       " '20000': 417,\n",
       " 'pounds': 6483,\n",
       " 'csh11': 2505,\n",
       " '87575': 844,\n",
       " 'cost': 2420,\n",
       " '150pday': 350,\n",
       " '6days': 729,\n",
       " '16': 374,\n",
       " 'tsandcs': 8538,\n",
       " 'reply': 6921,\n",
       " 'hl': 4132,\n",
       " 'info': 4414,\n",
       " 'urgent': 8705,\n",
       " 'week': 8983,\n",
       " 'membership': 5367,\n",
       " '짙100000': 9436,\n",
       " 'jackpot': 4561,\n",
       " '81010': 790,\n",
       " 'tc': 8133,\n",
       " 'wwwdbuknet': 9240,\n",
       " 'lccltd': 4905,\n",
       " 'pobox': 6395,\n",
       " '4403ldnw1a7rw18': 603,\n",
       " 'searching': 7224,\n",
       " 'right': 7000,\n",
       " 'words': 9160,\n",
       " 'thank': 8219,\n",
       " 'breather': 1784,\n",
       " 'promise': 6619,\n",
       " 'wont': 9148,\n",
       " 'take': 8088,\n",
       " 'help': 4063,\n",
       " 'granted': 3855,\n",
       " 'fulfil': 3626,\n",
       " 'wonderful': 9145,\n",
       " 'blessing': 1655,\n",
       " 'times': 8341,\n",
       " 'date': 2600,\n",
       " 'sunday': 7985,\n",
       " 'xxxmobilemovieclub': 9297,\n",
       " 'use': 8721,\n",
       " 'credit': 2478,\n",
       " 'click': 2214,\n",
       " 'wap': 8917,\n",
       " 'link': 5006,\n",
       " 'next': 5760,\n",
       " 'message': 5392,\n",
       " 'httpwap': 4249,\n",
       " 'xxxmobilemovieclubcomnqjkgighjjgcbl': 9298,\n",
       " 'oh': 5971,\n",
       " 'kim': 4754,\n",
       " 'watching': 8938,\n",
       " 'eh': 3058,\n",
       " 'remember': 6888,\n",
       " 'spell': 7705,\n",
       " 'name': 5671,\n",
       " 'yes': 9336,\n",
       " 'naughty': 5697,\n",
       " 'make': 5236,\n",
       " 'wet': 9025,\n",
       " 'fine': 3407,\n",
       " 'that혪s': 8238,\n",
       " 'way': 8949,\n",
       " 'feel': 3351,\n",
       " 'gota': 3827,\n",
       " 'england': 3116,\n",
       " 'macedonia': 5198,\n",
       " 'miss': 5463,\n",
       " 'goalsteam': 3775,\n",
       " 'news': 5755,\n",
       " 'ur': 8702,\n",
       " 'national': 5690,\n",
       " 'team': 8147,\n",
       " '87077': 839,\n",
       " 'eg': 3049,\n",
       " 'trywales': 8536,\n",
       " 'scotland': 7203,\n",
       " '4txt첬120': 650,\n",
       " 'poboxox36504w45wq': 6407,\n",
       " 'seriously': 7293,\n",
       " 'going': 3788,\n",
       " 'try': 8533,\n",
       " 'ha': 3937,\n",
       " 'pay': 6220,\n",
       " 'first': 3427,\n",
       " 'da': 2556,\n",
       " 'stock': 7847,\n",
       " 'comin': 2292,\n",
       " 'aft': 1027,\n",
       " 'finish': 3413,\n",
       " 'lunch': 5164,\n",
       " 'str': 7874,\n",
       " 'lor': 5089,\n",
       " 'ard': 1259,\n",
       " 'smth': 7577,\n",
       " 'ffffffffff': 3369,\n",
       " 'alright': 1121,\n",
       " 'meet': 5346,\n",
       " 'sooner': 7641,\n",
       " 'forced': 3505,\n",
       " 'eat': 3021,\n",
       " 'slice': 7526,\n",
       " 'really': 6797,\n",
       " 'hungry': 4277,\n",
       " 'tho': 8292,\n",
       " 'sucks': 7955,\n",
       " 'mark': 5272,\n",
       " 'getting': 3728,\n",
       " 'worried': 9177,\n",
       " 'knows': 4799,\n",
       " 'sick': 7434,\n",
       " 'turn': 8559,\n",
       " 'pizza': 6345,\n",
       " 'lol': 5066,\n",
       " 'always': 1131,\n",
       " 'convincing': 2393,\n",
       " 'catch': 2023,\n",
       " 'bus': 1868,\n",
       " 'frying': 3614,\n",
       " 'egg': 3053,\n",
       " 'tea': 8141,\n",
       " 'eating': 3024,\n",
       " 'moms': 5527,\n",
       " 'left': 4927,\n",
       " 'dinner': 2800,\n",
       " 'love': 5115,\n",
       " 'amp': 1148,\n",
       " 'packing': 6132,\n",
       " 'car': 1977,\n",
       " 'ill': 4347,\n",
       " 'let': 4950,\n",
       " 'know': 4794,\n",
       " 'theres': 8262,\n",
       " 'room': 7046,\n",
       " 'ahhh': 1056,\n",
       " 'work': 9163,\n",
       " 'vaguely': 8752,\n",
       " 'wait': 8882,\n",
       " 'thats': 8237,\n",
       " 'clear': 2208,\n",
       " 'sure': 8013,\n",
       " 'sarcastic': 7150,\n",
       " 'doesnt': 2865,\n",
       " 'live': 5029,\n",
       " 'us': 8717,\n",
       " 'yeah': 9323,\n",
       " 'apologetic': 1220,\n",
       " 'fallen': 3301,\n",
       " 'actin': 965,\n",
       " 'spoilt': 7733,\n",
       " 'child': 2147,\n",
       " 'caught': 2027,\n",
       " 'till': 8335,\n",
       " 'badly': 1437,\n",
       " 'cheers': 2113,\n",
       " 'tell': 8166,\n",
       " 'anything': 1205,\n",
       " 'fear': 3343,\n",
       " 'fainting': 3291,\n",
       " 'housework': 4224,\n",
       " 'quick': 6709,\n",
       " 'cuppa': 2529,\n",
       " 'thanks': 8220,\n",
       " 'subscription': 7944,\n",
       " 'ringtone': 7009,\n",
       " 'uk': 8609,\n",
       " 'charged': 2080,\n",
       " '짙5month': 9475,\n",
       " 'please': 6374,\n",
       " 'confirm': 2348,\n",
       " 'replying': 6923,\n",
       " 'yup': 9407,\n",
       " 'look': 5077,\n",
       " 'timings': 8348,\n",
       " 'msg': 5591,\n",
       " 'xuhui': 9292,\n",
       " 'learn': 4916,\n",
       " '2nd': 498,\n",
       " 'lesson': 4948,\n",
       " '8am': 867,\n",
       " 'oops': 6028,\n",
       " 'roommates': 7049,\n",
       " 'done': 2891,\n",
       " 'see': 7241,\n",
       " 'letter': 4952,\n",
       " 'decide': 2655,\n",
       " 'hello': 4056,\n",
       " 'hows': 4231,\n",
       " 'saturday': 7166,\n",
       " 'texting': 8209,\n",
       " 'youd': 9371,\n",
       " 'decided': 2656,\n",
       " 'tomo': 8410,\n",
       " 'trying': 8535,\n",
       " 'invite': 4478,\n",
       " 'pls': 6382,\n",
       " 'ahead': 1054,\n",
       " 'watts': 8947,\n",
       " 'wanted': 8914,\n",
       " 'weekend': 8985,\n",
       " 'abiola': 917,\n",
       " 'forget': 3511,\n",
       " 'need': 5716,\n",
       " 'crave': 2468,\n",
       " 'sweet': 8044,\n",
       " 'arabian': 1256,\n",
       " 'steed': 7825,\n",
       " 'mmmmmm': 5493,\n",
       " 'yummy': 9402,\n",
       " '07732584351': 28,\n",
       " 'rodger': 7035,\n",
       " 'burns': 1865,\n",
       " 'tried': 8512,\n",
       " 'sms': 7571,\n",
       " 'nokia': 5825,\n",
       " 'camcorder': 1947,\n",
       " '08000930705': 52,\n",
       " 'delivery': 2694,\n",
       " 'tomorrow': 8413,\n",
       " 'seeing': 7243,\n",
       " 'hope': 4190,\n",
       " 'man': 5246,\n",
       " 'well': 9002,\n",
       " 'endowed': 3106,\n",
       " 'ltgt': 5149,\n",
       " 'inches': 4382,\n",
       " 'callsmessagesmissed': 1940,\n",
       " 'calls': 1938,\n",
       " 'didnt': 2769,\n",
       " 'get': 3720,\n",
       " 'hep': 4077,\n",
       " 'immunisation': 4363,\n",
       " 'nigeria': 5773,\n",
       " 'fair': 3292,\n",
       " 'hopefully': 4194,\n",
       " 'tyler': 8588,\n",
       " 'cant': 1967,\n",
       " 'could': 2432,\n",
       " 'maybe': 5320,\n",
       " 'ask': 1311,\n",
       " 'bit': 1630,\n",
       " 'stubborn': 7905,\n",
       " 'hospital': 4207,\n",
       " 'kept': 4725,\n",
       " 'telling': 8167,\n",
       " 'weak': 8956,\n",
       " 'sucker': 7953,\n",
       " 'hospitals': 4208,\n",
       " 'suckers': 7954,\n",
       " 'thinked': 8278,\n",
       " 'time': 8337,\n",
       " 'saw': 7175,\n",
       " 'class': 2200,\n",
       " 'gram': 3847,\n",
       " 'usually': 8738,\n",
       " 'runs': 7093,\n",
       " 'half': 3954,\n",
       " 'eighth': 3061,\n",
       " 'smarter': 7549,\n",
       " 'gets': 3724,\n",
       " 'almost': 1115,\n",
       " 'whole': 9055,\n",
       " 'second': 7228,\n",
       " 'fyi': 3645,\n",
       " 'ride': 6999,\n",
       " 'morning': 5557,\n",
       " 'hes': 4090,\n",
       " 'crashing': 2467,\n",
       " 'place': 6347,\n",
       " 'wow': 9196,\n",
       " 'never': 5746,\n",
       " 'realized': 6795,\n",
       " 'embarassed': 3086,\n",
       " 'accomodations': 945,\n",
       " 'thought': 8297,\n",
       " 'liked': 4984,\n",
       " 'since': 7461,\n",
       " 'best': 1584,\n",
       " 'seemed': 7247,\n",
       " 'happy': 3988,\n",
       " 'cave': 2031,\n",
       " 'sorry': 7651,\n",
       " 'give': 3750,\n",
       " 'offered': 5951,\n",
       " 'embarassing': 3087,\n",
       " 'ac': 931,\n",
       " 'sptv': 7756,\n",
       " 'new': 5750,\n",
       " 'jersey': 4605,\n",
       " 'devils': 2747,\n",
       " 'detroit': 2741,\n",
       " 'red': 6840,\n",
       " 'wings': 9089,\n",
       " 'play': 6363,\n",
       " 'ice': 4316,\n",
       " 'hockey': 4150,\n",
       " 'correct': 2412,\n",
       " 'incorrect': 4393,\n",
       " 'end': 3101,\n",
       " 'mallika': 5245,\n",
       " 'sherawat': 7354,\n",
       " 'yesterday': 9351,\n",
       " 'find': 3404,\n",
       " 'lturlgt': 5152,\n",
       " 'congrats': 2355,\n",
       " 'year': 9325,\n",
       " 'special': 7691,\n",
       " 'cinema': 2187,\n",
       " 'pass': 6197,\n",
       " '09061209465': 212,\n",
       " 'suprman': 8011,\n",
       " 'matrix3': 5305,\n",
       " 'starwars3': 7805,\n",
       " 'etc': 3170,\n",
       " 'bx420ip45we': 1891,\n",
       " '150pm': 351,\n",
       " 'later': 4885,\n",
       " 'meeting': 5349,\n",
       " 'reached': 6778,\n",
       " 'yesgauti': 9344,\n",
       " 'sehwag': 7254,\n",
       " 'odi': 5944,\n",
       " 'series': 7291,\n",
       " 'pick': 6315,\n",
       " 'burger': 1860,\n",
       " 'move': 5575,\n",
       " 'pain': 6139,\n",
       " 'killing': 4751,\n",
       " 'good': 3802,\n",
       " 'joke': 4634,\n",
       " 'girls': 3747,\n",
       " 'situation': 7487,\n",
       " 'seekers': 7244,\n",
       " 'part': 6184,\n",
       " 'checking': 2107,\n",
       " 'iq': 4493,\n",
       " 'took': 8432,\n",
       " 'forever': 3508,\n",
       " 'come': 2284,\n",
       " 'double': 2910,\n",
       " 'check': 2103,\n",
       " 'hair': 3949,\n",
       " 'dresser': 2945,\n",
       " 'said': 7118,\n",
       " 'wun': 9226,\n",
       " 'cut': 2544,\n",
       " 'short': 7395,\n",
       " 'nice': 5766,\n",
       " 'pleased': 6375,\n",
       " 'advise': 1010,\n",
       " 'following': 3486,\n",
       " 'recent': 6820,\n",
       " 'review': 6986,\n",
       " 'mob': 5501,\n",
       " 'awarded': 1398,\n",
       " '짙1500': 9443,\n",
       " 'bonus': 1699,\n",
       " '09066364589': 261,\n",
       " 'song': 7633,\n",
       " 'dedicated': 2666,\n",
       " 'day': 2613,\n",
       " 'dedicate': 2665,\n",
       " 'valuable': 8759,\n",
       " 'frnds': 3598,\n",
       " 'rply': 7066,\n",
       " 'complimentary': 2321,\n",
       " 'trip': 8513,\n",
       " 'eurodisinc': 3177,\n",
       " 'trav': 8495,\n",
       " 'acoentry41': 960,\n",
       " '짙1000': 9434,\n",
       " 'dis': 2813,\n",
       " '186짙150morefrmmob': 383,\n",
       " 'shracomorsglsuplt10': 7419,\n",
       " 'ls1': 5138,\n",
       " '3aj': 556,\n",
       " 'hear': 4031,\n",
       " 'divorce': 2842,\n",
       " 'barbie': 1468,\n",
       " 'comes': 2288,\n",
       " 'kens': 4723,\n",
       " 'plane': 6354,\n",
       " 'month': 5544,\n",
       " 'wah': 8875,\n",
       " 'lucky': 5157,\n",
       " 'save': 7171,\n",
       " 'money': 5532,\n",
       " 'hee': 4047,\n",
       " 'finished': 3415,\n",
       " 'hi': 4101,\n",
       " 'babe': 1419,\n",
       " 'wanna': 8910,\n",
       " 'something': 7619,\n",
       " 'xx': 9293,\n",
       " 'kkwhere': 4784,\n",
       " 'youhow': 9374,\n",
       " 'performed': 6258,\n",
       " 'waiting': 8886,\n",
       " 'machan': 5200,\n",
       " 'cool': 2399,\n",
       " 'gentleman': 3711,\n",
       " 'dignity': 2790,\n",
       " 'respect': 6950,\n",
       " 'peoples': 6250,\n",
       " 'much': 5611,\n",
       " 'shy': 7429,\n",
       " 'pa': 6127,\n",
       " 'operate': 6035,\n",
       " 'looking': 5081,\n",
       " 'job': 4620,\n",
       " 'tas': 8115,\n",
       " 'earn': 3009,\n",
       " 'ah': 1052,\n",
       " 'stop': 7857,\n",
       " 'urgnt': 8709,\n",
       " 'real': 6788,\n",
       " 'yo': 9361,\n",
       " 'tickets': 8326,\n",
       " 'one': 6006,\n",
       " 'jacket': 4560,\n",
       " 'used': 8722,\n",
       " 'multis': 5622,\n",
       " 'started': 7798,\n",
       " 'requests': 6930,\n",
       " 'came': 1948,\n",
       " 'bed': 1538,\n",
       " 'coins': 2260,\n",
       " 'factory': 3282,\n",
       " 'gotta': 3831,\n",
       " 'nitros': 5797,\n",
       " 'ela': 3066,\n",
       " 'kanoil': 4699,\n",
       " 'download': 2918,\n",
       " 'wen': 9008,\n",
       " 'don': 2889,\n",
       " 'stand': 7786,\n",
       " 'close': 2221,\n",
       " 'you': 9367,\n",
       " '쁫l': 9426,\n",
       " 'another': 1183,\n",
       " 'night': 5775,\n",
       " 'spent': 7710,\n",
       " 'late': 4880,\n",
       " 'afternoon': 1029,\n",
       " 'casualty': 2021,\n",
       " 'means': 5332,\n",
       " 'havent': 4013,\n",
       " 'stuff42moro': 7918,\n",
       " 'includes': 4386,\n",
       " 'sheets': 7349,\n",
       " 'smile': 7558,\n",
       " 'pleasure': 6377,\n",
       " 'trouble': 8519,\n",
       " 'pours': 6485,\n",
       " 'rain': 6733,\n",
       " 'sum1': 7976,\n",
       " 'hurts': 4292,\n",
       " 'becoz': 1536,\n",
       " 'someone': 7612,\n",
       " 'loves': 5125,\n",
       " 'smiling': 7562,\n",
       " 'service': 7296,\n",
       " 'representative': 6927,\n",
       " '0800': 48,\n",
       " '169': 376,\n",
       " '6031': 697,\n",
       " '10am9pm': 305,\n",
       " 'guaranteed': 3905,\n",
       " '짙5000': 9470,\n",
       " 'planning': 6359,\n",
       " 'buy': 1880,\n",
       " 'lido': 4965,\n",
       " '530': 670,\n",
       " 'show': 7410,\n",
       " 'collected': 2269,\n",
       " 'simply': 7458,\n",
       " 'password': 6205,\n",
       " 'mix': 5483,\n",
       " '85069': 825,\n",
       " 'verify': 8786,\n",
       " 'usher': 8729,\n",
       " 'britney': 1805,\n",
       " 'fml': 3476,\n",
       " 'po': 6393,\n",
       " 'box': 1735,\n",
       " '5249': 667,\n",
       " 'mk17': 5486,\n",
       " '92h': 882,\n",
       " '450ppw': 614,\n",
       " 'telugu': 8172,\n",
       " 'moviewat': 5580,\n",
       " 'abt': 926,\n",
       " 'loads': 5043,\n",
       " 'loans': 5045,\n",
       " 'wk': 9119,\n",
       " 'hols': 4164,\n",
       " 'run': 7090,\n",
       " 'forgot': 3516,\n",
       " 'hairdressers': 3951,\n",
       " 'appointment': 1236,\n",
       " 'four': 3536,\n",
       " 'shower': 7412,\n",
       " 'beforehand': 1553,\n",
       " 'cause': 2028,\n",
       " 'prob': 6586,\n",
       " 'coffee': 2255,\n",
       " 'animation': 1170,\n",
       " 'nothing': 5859,\n",
       " 'else': 3080,\n",
       " 'okay': 5979,\n",
       " 'price': 6559,\n",
       " 'long': 5073,\n",
       " 'legal': 4930,\n",
       " 'ave': 1385,\n",
       " 'ams': 1152,\n",
       " 'gone': 3797,\n",
       " '4the': 647,\n",
       " 'driving': 2954,\n",
       " 'test': 8195,\n",
       " 'yet': 9352,\n",
       " 'youre': 9384,\n",
       " 'mean': 5328,\n",
       " 'guess': 3913,\n",
       " 'gave': 3679,\n",
       " 'boston': 1721,\n",
       " 'men': 5372,\n",
       " 'changed': 2070,\n",
       " 'search': 7223,\n",
       " 'location': 5048,\n",
       " 'nyc': 5915,\n",
       " 'cuz': 2551,\n",
       " 'signin': 7446,\n",
       " 'page': 6135,\n",
       " 'says': 7181,\n",
       " 'umma': 8618,\n",
       " 'life': 4968,\n",
       " 'vava': 8773,\n",
       " 'lot': 5099,\n",
       " 'dear': 2637,\n",
       " 'wishes': 9104,\n",
       " 'birthday': 1628,\n",
       " 'making': 5240,\n",
       " 'truly': 8527,\n",
       " 'memorable': 5369,\n",
       " 'aight': 1067,\n",
       " 'hit': 4123,\n",
       " 'would': 9192,\n",
       " 'ip': 4486,\n",
       " 'address': 984,\n",
       " 'considering': 2366,\n",
       " 'computer': 2328,\n",
       " 'isnt': 4513,\n",
       " 'minecraft': 5440,\n",
       " 'server': 7295,\n",
       " 'grumpy': 3897,\n",
       " 'old': 5996,\n",
       " 'people': 6249,\n",
       " 'mom': 5524,\n",
       " 'better': 1592,\n",
       " 'lying': 5180,\n",
       " 'jokes': 4636,\n",
       " 'worry': 9180,\n",
       " 'busy': 1874,\n",
       " 'plural': 6387,\n",
       " 'noun': 5868,\n",
       " 'research': 6936,\n",
       " 'dinnermsg': 2801,\n",
       " 'cos': 2418,\n",
       " 'things': 8276,\n",
       " 'scared': 7188,\n",
       " 'mah': 5224,\n",
       " 'loud': 5110,\n",
       " 'gent': 3709,\n",
       " 'contact': 2371,\n",
       " 'last': 4877,\n",
       " 'weekends': 8986,\n",
       " 'draw': 2932,\n",
       " 'shows': 7418,\n",
       " '09064012160': 236,\n",
       " 'k52': 4678,\n",
       " '12hrs': 333,\n",
       " '150ppm': 361,\n",
       " 'wa': 8870,\n",
       " 'openin': 6032,\n",
       " 'sentence': 7284,\n",
       " 'formal': 3519,\n",
       " 'anyway': 1209,\n",
       " 'juz': 4677,\n",
       " 'tt': 8545,\n",
       " 'eatin': 3023,\n",
       " 'puttin': 6686,\n",
       " 'weighthaha': 8993,\n",
       " 'anythin': 1204,\n",
       " 'happened': 3980,\n",
       " 'entered': 3127,\n",
       " 'cabin': 1899,\n",
       " 'bday': 1521,\n",
       " 'boss': 1720,\n",
       " 'felt': 3361,\n",
       " 'askd': 1312,\n",
       " 'invited': 4479,\n",
       " 'apartment': 1214,\n",
       " 'went': 9011,\n",
       " 'specially': 7696,\n",
       " 'holiday': 4160,\n",
       " 'flights': 3453,\n",
       " 'inc': 4380,\n",
       " 'operator': 6036,\n",
       " '0871277810910pmin': 121,\n",
       " '18': 379,\n",
       " 'goodo': 3816,\n",
       " 'must': 5642,\n",
       " 'friday': 3581,\n",
       " 'eggpotato': 3054,\n",
       " 'ratio': 6762,\n",
       " 'tortilla': 8451,\n",
       " 'needed': 5718,\n",
       " 'hmmmy': 4145,\n",
       " 'uncle': 8625,\n",
       " 'informed': 4418,\n",
       " 'paying': 6226,\n",
       " 'school': 7194,\n",
       " 'directly': 2807,\n",
       " 'food': 3494,\n",
       " 'private': 6577,\n",
       " '2004': 419,\n",
       " 'account': 949,\n",
       " 'statement': 7808,\n",
       " '07742676969': 30,\n",
       " '786': 758,\n",
       " 'unredeemed': 8667,\n",
       " 'points': 6417,\n",
       " '08719180248': 169,\n",
       " 'identifier': 4328,\n",
       " '45239': 616,\n",
       " 'expires': 3253,\n",
       " '짙2000': 9455,\n",
       " 'caller': 1930,\n",
       " '5903': 675,\n",
       " 'landline': 4857,\n",
       " '09064019788': 242,\n",
       " 'box42wr29c': 1747,\n",
       " 'applespairsall': 1230,\n",
       " 'malarky': 5242,\n",
       " 'todays': 8389,\n",
       " 'voda': 8840,\n",
       " 'numbers': 5901,\n",
       " 'ending': 3103,\n",
       " '7548': 753,\n",
       " '350': 546,\n",
       " 'award': 1397,\n",
       " 'match': 5293,\n",
       " '08712300220': 103,\n",
       " 'quoting': 6721,\n",
       " '4041': 587,\n",
       " 'standard': 7787,\n",
       " 'rates': 6759,\n",
       " 'app': 1224,\n",
       " 'sao': 7144,\n",
       " 'mu': 5610,\n",
       " 'predict': 6520,\n",
       " '체ll': 9488,\n",
       " 'buying': 1883,\n",
       " 'knowyetunde': 4802,\n",
       " 'hasnt': 4000,\n",
       " 'sent': 7282,\n",
       " 'bother': 1723,\n",
       " 'sending': 7274,\n",
       " 'involve': 4483,\n",
       " 'shouldnt': 7405,\n",
       " 'imposed': 4369,\n",
       " 'apologise': 1221,\n",
       " 'girl': 3743,\n",
       " 'del': 2684,\n",
       " 'bak': 1445,\n",
       " 'sum': 7975,\n",
       " 'lucyxx': 5161,\n",
       " 'kkhow': 4778,\n",
       " 'tmorrowpls': 8371,\n",
       " 'accomodate': 944,\n",
       " 'answer': 1186,\n",
       " 'question': 6705,\n",
       " 'sunshine': 7992,\n",
       " 'quiz': 6716,\n",
       " 'top': 8441,\n",
       " 'sony': 7636,\n",
       " 'dvd': 2997,\n",
       " 'player': 6365,\n",
       " 'country': 2439,\n",
       " 'algarve': 1096,\n",
       " 'ansr': 1185,\n",
       " '82277': 796,\n",
       " 'sptyrone': 7757,\n",
       " 'laid': 4848,\n",
       " 'dogging': 2871,\n",
       " 'locations': 5049,\n",
       " 'direct': 2806,\n",
       " 'join': 4629,\n",
       " 'uks': 8612,\n",
       " 'largest': 4874,\n",
       " 'bt': 1831,\n",
       " 'txting': 8583,\n",
       " 'gravel': 3860,\n",
       " '69888': 723,\n",
       " 'nt': 5889,\n",
       " 'ec2a': 3026,\n",
       " '31pmsg150p': 539,\n",
       " 'haf': 3943,\n",
       " 'msn': 5603,\n",
       " 'yijuehotmailcom': 9358,\n",
       " 'rooms': 7050,\n",
       " 'befor': 1552,\n",
       " 'activities': 971,\n",
       " 'youll': 9378,\n",
       " 'msgs': 5595,\n",
       " 'chat': 2092,\n",
       " 'svc': 8029,\n",
       " 'hardcore': 3990,\n",
       " 'services': 7297,\n",
       " '69988': 727,\n",
       " 'age': 1037,\n",
       " 'yr': 9398,\n",
       " 'lazy': 4904,\n",
       " 'type': 8590,\n",
       " 'lect': 4924,\n",
       " 'pouch': 6480,\n",
       " 'sir': 7473,\n",
       " 'mail': 5227,\n",
       " 'swt': 8058,\n",
       " 'nver': 5910,\n",
       " 'tired': 8352,\n",
       " 'little': 5028,\n",
       " 'lovable': 5114,\n",
       " 'persons': 6276,\n",
       " 'cozsomtimes': 2453,\n",
       " 'occupy': 5937,\n",
       " 'biggest': 1609,\n",
       " 'hearts': 4039,\n",
       " 'gud': 3907,\n",
       " 'ni8': 5763,\n",
       " 'open': 6029,\n",
       " 'ya': 9307,\n",
       " 'dot': 2909,\n",
       " 'whats': 9033,\n",
       " 'staff': 7777,\n",
       " 'taking': 8094,\n",
       " 'replied': 6919,\n",
       " 'randy': 6752,\n",
       " 'sexy': 7313,\n",
       " 'female': 3362,\n",
       " 'local': 5047,\n",
       " 'luv': 5170,\n",
       " 'netcollex': 5737,\n",
       " 'ltd': 5144,\n",
       " '08700621170150p': 73,\n",
       " 'ummmawill': 8619,\n",
       " 'inour': 4435,\n",
       " 'begin': 1558,\n",
       " 'qatar': 6692,\n",
       " 'pray': 6513,\n",
       " 'hard': 3989,\n",
       " 'ki': 4739,\n",
       " 'deleted': 2688,\n",
       " 'sindu': 7463,\n",
       " 'birla': 1624,\n",
       " 'soft': 7599,\n",
       " 'wine': 9087,\n",
       " 'flowing': 3467,\n",
       " 'nevering': 5747,\n",
       " 'thk': 8286,\n",
       " 'plaza': 6372,\n",
       " 'typical': 8593,\n",
       " 'everywhere': 3203,\n",
       " 'dirt': 2810,\n",
       " 'floor': 3461,\n",
       " 'windows': 9084,\n",
       " 'shirt': 7369,\n",
       " 'sometimes': 7623,\n",
       " 'mouth': 5574,\n",
       " 'dream': 2936,\n",
       " 'without': 9113,\n",
       " 'chores': 2173,\n",
       " 'joy': 4651,\n",
       " 'lots': 5102,\n",
       " 'tv': 8564,\n",
       " 'exist': 3237,\n",
       " 'hail': 3948,\n",
       " 'mist': 5474,\n",
       " 'become': 1534,\n",
       " 'aaooooright': 906,\n",
       " 'leaving': 4923,\n",
       " 'house': 4220,\n",
       " 'interview': 4465,\n",
       " 'boy': 1752,\n",
       " 'meare': 5335,\n",
       " 'missing': 5467,\n",
       " 'annoncement': 1176,\n",
       " 'years': 9326,\n",
       " '07046744435': 21,\n",
       " 'arrange': 1287,\n",
       " '0871277810810': 120,\n",
       " 'keep': 4716,\n",
       " 'safe': 7113,\n",
       " 'envy': 3141,\n",
       " 'everyone': 3197,\n",
       " 'sees': 7251,\n",
       " 'parentsi': 6175,\n",
       " 'hand': 3963,\n",
       " 'excited': 3225,\n",
       " 'spend': 7708,\n",
       " 'bootydelious': 1712,\n",
       " '32f': 544,\n",
       " 'inviting': 4480,\n",
       " 'friend': 3586,\n",
       " 'yes434': 9338,\n",
       " 'no434': 5804,\n",
       " 'wwwsmsacubootydelious': 9260,\n",
       " 'frnd': 3597,\n",
       " '62468': 705,\n",
       " 'bangbabes': 1459,\n",
       " 'order': 6060,\n",
       " 'content': 2375,\n",
       " 'goto': 3830,\n",
       " 'bangb': 1458,\n",
       " 'internetservice': 4464,\n",
       " 'menu': 5380,\n",
       " 'cultures': 2523,\n",
       " 'module': 5517,\n",
       " '09061701939': 219,\n",
       " 's89': 7103,\n",
       " 'avoid': 1391,\n",
       " 'missunderstding': 5472,\n",
       " 'wit': 9109,\n",
       " 'beloved': 1574,\n",
       " 'ones': 6008,\n",
       " 'escape': 3160,\n",
       " 'fancy': 3313,\n",
       " 'bridge': 1789,\n",
       " 'needs': 5722,\n",
       " 'lager': 4847,\n",
       " 'completely': 2317,\n",
       " 'formclark': 3523,\n",
       " 'also': 1125,\n",
       " 'utter': 8740,\n",
       " 'waste': 8930,\n",
       " 'axis': 1405,\n",
       " 'bank': 1461,\n",
       " 'hmmm': 4139,\n",
       " 'hop': 4189,\n",
       " 'muz': 5648,\n",
       " 'discuss': 2826,\n",
       " 'liao': 4957,\n",
       " 'coming': 2293,\n",
       " 'bloody': 1670,\n",
       " 'hell': 4054,\n",
       " 'believe': 1565,\n",
       " 'surname': 8019,\n",
       " 'mr': 5585,\n",
       " 'clue': 2235,\n",
       " 'spanish': 7683,\n",
       " 'begins': 1559,\n",
       " 'bath': 1491,\n",
       " 'goodfine': 3806,\n",
       " 'youve': 9391,\n",
       " 'carlos': 1998,\n",
       " 'mall': 5244,\n",
       " 'turns': 8562,\n",
       " ...}"
      ]
     },
     "execution_count": 121,
     "metadata": {},
     "output_type": "execute_result"
    }
   ],
   "source": [
    "from sklearn.feature_extraction.text import CountVectorizer\n",
    "# 객체 생성\n",
    "cv = CountVectorizer()\n",
    "# 모델 학습\n",
    "cv.fit(X)\n",
    "# 단어와 인덱스 출력\n",
    "cv.vocabulary_"
   ]
  },
  {
   "cell_type": "code",
   "execution_count": 122,
   "id": "c45529d0",
   "metadata": {
    "collapsed": true,
    "execution": {
     "iopub.execute_input": "2022-11-17T00:34:46.858364Z",
     "iopub.status.busy": "2022-11-17T00:34:46.858364Z",
     "iopub.status.idle": "2022-11-17T00:34:46.897730Z",
     "shell.execute_reply": "2022-11-17T00:34:46.897730Z",
     "shell.execute_reply.started": "2022-11-17T00:34:46.858364Z"
    },
    "jupyter": {
     "outputs_hidden": true
    },
    "tags": []
   },
   "outputs": [
    {
     "name": "stdout",
     "output_type": "stream",
     "text": [
      "  (0, 1146)\t1\n",
      "  (0, 1379)\t1\n",
      "  (0, 1846)\t1\n",
      "  (0, 1848)\t1\n",
      "  (0, 2186)\t1\n",
      "  (0, 2471)\t1\n",
      "  (0, 3769)\t1\n",
      "  (0, 3826)\t1\n",
      "  (0, 3866)\t1\n",
      "  (0, 4671)\t1\n",
      "  (0, 4831)\t1\n",
      "  (0, 6416)\t1\n",
      "  (0, 8933)\t1\n",
      "  (0, 9171)\t1\n",
      "  (1, 4639)\t1\n",
      "  (1, 4870)\t1\n",
      "  (1, 5978)\t1\n",
      "  (1, 6010)\t1\n",
      "  (1, 9066)\t1\n",
      "  (2, 71)\t1\n",
      "  (2, 420)\t1\n",
      "  (2, 433)\t1\n",
      "  (2, 840)\t1\n",
      "  (2, 1232)\t1\n",
      "  (2, 2302)\t1\n",
      "  :\t:\n",
      "  (5570, 3165)\t1\n",
      "  (5570, 3542)\t1\n",
      "  (5570, 3788)\t1\n",
      "  (5570, 4166)\t1\n",
      "  (5571, 5549)\t1\n",
      "  (5571, 6342)\t1\n",
      "  (5571, 7594)\t1\n",
      "  (5571, 7970)\t1\n",
      "  (5572, 964)\t1\n",
      "  (5572, 1632)\t1\n",
      "  (5572, 1883)\t1\n",
      "  (5572, 3080)\t1\n",
      "  (5572, 3555)\t1\n",
      "  (5572, 3679)\t1\n",
      "  (5572, 3928)\t1\n",
      "  (5572, 4321)\t1\n",
      "  (5572, 4458)\t1\n",
      "  (5572, 4983)\t1\n",
      "  (5572, 5760)\t1\n",
      "  (5572, 7619)\t1\n",
      "  (5572, 8717)\t1\n",
      "  (5572, 8983)\t1\n",
      "  (5573, 5671)\t1\n",
      "  (5573, 7036)\t1\n",
      "  (5573, 8524)\t1\n"
     ]
    }
   ],
   "source": [
    "X = cv.transform(X)\n",
    "print(X)"
   ]
  },
  {
   "cell_type": "code",
   "execution_count": 123,
   "id": "51201b2e-ebe8-43fc-a5f9-9084aff1915f",
   "metadata": {
    "execution": {
     "iopub.execute_input": "2022-11-17T00:35:06.213678Z",
     "iopub.status.busy": "2022-11-17T00:35:06.213678Z",
     "iopub.status.idle": "2022-11-17T00:35:06.223725Z",
     "shell.execute_reply": "2022-11-17T00:35:06.222787Z",
     "shell.execute_reply.started": "2022-11-17T00:35:06.213678Z"
    },
    "tags": []
   },
   "outputs": [
    {
     "name": "stdout",
     "output_type": "stream",
     "text": [
      "3769\n"
     ]
    }
   ],
   "source": [
    "print(cv.vocabulary_['go'])"
   ]
  },
  {
   "cell_type": "code",
   "execution_count": 124,
   "id": "c6e0cd11-ffbb-480c-8367-0b8ffa9263d0",
   "metadata": {
    "execution": {
     "iopub.execute_input": "2022-11-17T00:35:19.524276Z",
     "iopub.status.busy": "2022-11-17T00:35:19.524276Z",
     "iopub.status.idle": "2022-11-17T00:35:19.541462Z",
     "shell.execute_reply": "2022-11-17T00:35:19.541462Z",
     "shell.execute_reply.started": "2022-11-17T00:35:19.524276Z"
    }
   },
   "outputs": [
    {
     "name": "stdout",
     "output_type": "stream",
     "text": [
      "4671\n"
     ]
    }
   ],
   "source": [
    "print(cv.vocabulary_['jurong'])"
   ]
  },
  {
   "cell_type": "code",
   "execution_count": 125,
   "id": "2e6fa925-9165-41c5-a8a6-c3188c891b47",
   "metadata": {
    "execution": {
     "iopub.execute_input": "2022-11-17T00:35:33.704437Z",
     "iopub.status.busy": "2022-11-17T00:35:33.704437Z",
     "iopub.status.idle": "2022-11-17T00:35:33.716162Z",
     "shell.execute_reply": "2022-11-17T00:35:33.715260Z",
     "shell.execute_reply.started": "2022-11-17T00:35:33.704437Z"
    }
   },
   "outputs": [
    {
     "name": "stdout",
     "output_type": "stream",
     "text": [
      "6416\n"
     ]
    }
   ],
   "source": [
    "print(cv.vocabulary_['point'])"
   ]
  },
  {
   "cell_type": "markdown",
   "id": "52c4c335-0093-44c6-b34f-55c6239f9bcc",
   "metadata": {},
   "source": [
    "# 모델링 및 예측/평가"
   ]
  },
  {
   "cell_type": "markdown",
   "id": "7affc0c3-5750-4191-a615-65fb7736d3c5",
   "metadata": {},
   "source": [
    "## 데이터 세트 분리"
   ]
  },
  {
   "cell_type": "code",
   "execution_count": 128,
   "id": "b8a214ce-3039-484b-ad8c-33e3687795ab",
   "metadata": {
    "execution": {
     "iopub.execute_input": "2022-11-17T00:38:50.731029Z",
     "iopub.status.busy": "2022-11-17T00:38:50.731029Z",
     "iopub.status.idle": "2022-11-17T00:38:50.751086Z",
     "shell.execute_reply": "2022-11-17T00:38:50.750086Z",
     "shell.execute_reply.started": "2022-11-17T00:38:50.731029Z"
    },
    "tags": []
   },
   "outputs": [],
   "source": [
    "X_train, X_test, y_train, y_test = train_test_split(\n",
    "    X, y, test_size=0.2, random_state=100)"
   ]
  },
  {
   "cell_type": "markdown",
   "id": "dff9636e-74fb-48c7-9168-6518e2808bf3",
   "metadata": {},
   "source": [
    "## MultinomialNB : 다항 분포에 대한 나이브 베이즈 알고리즘\n",
    "- 정규분포(Gaussian)\n",
    "- 베르누이분포(Bernoulli)"
   ]
  },
  {
   "cell_type": "code",
   "execution_count": 129,
   "id": "8149cb3f-ab27-4766-9db8-bb1c266b9daf",
   "metadata": {
    "execution": {
     "iopub.execute_input": "2022-11-17T00:47:05.692212Z",
     "iopub.status.busy": "2022-11-17T00:47:05.692212Z",
     "iopub.status.idle": "2022-11-17T00:47:05.709254Z",
     "shell.execute_reply": "2022-11-17T00:47:05.708274Z",
     "shell.execute_reply.started": "2022-11-17T00:47:05.692212Z"
    }
   },
   "outputs": [],
   "source": [
    "from sklearn.naive_bayes import MultinomialNB\n",
    "\n",
    "model = MultinomialNB()\n",
    "model.fit(X_train, y_train)\n",
    "pred = model.predict(X_test)"
   ]
  },
  {
   "cell_type": "code",
   "execution_count": 132,
   "id": "cde7b437-0ba0-4195-954c-269036eed98c",
   "metadata": {
    "execution": {
     "iopub.execute_input": "2022-11-17T00:54:15.171389Z",
     "iopub.status.busy": "2022-11-17T00:54:15.171389Z",
     "iopub.status.idle": "2022-11-17T00:54:15.190548Z",
     "shell.execute_reply": "2022-11-17T00:54:15.189563Z",
     "shell.execute_reply.started": "2022-11-17T00:54:15.171389Z"
    },
    "tags": []
   },
   "outputs": [
    {
     "name": "stdout",
     "output_type": "stream",
     "text": [
      "0.9856502242152466\n",
      "0.943661971830986\n"
     ]
    }
   ],
   "source": [
    "from sklearn.metrics import accuracy_score, confusion_matrix, f1_score\n",
    "# 정확도\n",
    "cm = confusion_matrix(y_test, pred)\n",
    "print(accuracy_score(y_test, pred))\n",
    "print(f1_score(y_test, pred))"
   ]
  },
  {
   "cell_type": "code",
   "execution_count": 133,
   "id": "e31d6479-db8e-47c5-a1c1-0d7721ec6395",
   "metadata": {
    "execution": {
     "iopub.execute_input": "2022-11-17T00:54:51.282715Z",
     "iopub.status.busy": "2022-11-17T00:54:51.281712Z",
     "iopub.status.idle": "2022-11-17T00:54:51.507867Z",
     "shell.execute_reply": "2022-11-17T00:54:51.507867Z",
     "shell.execute_reply.started": "2022-11-17T00:54:51.282715Z"
    },
    "tags": []
   },
   "outputs": [
    {
     "data": {
      "text/plain": [
       "<AxesSubplot:>"
      ]
     },
     "execution_count": 133,
     "metadata": {},
     "output_type": "execute_result"
    },
    {
     "data": {
      "image/png": "[encoded data removed]",
      "text/plain": [
       "<Figure size 1000x800 with 2 Axes>"
      ]
     },
     "metadata": {
      "image/png": {
       "height": 664,
       "width": 776
      }
     },
     "output_type": "display_data"
    }
   ],
   "source": [
    "sns.heatmap(cm, annot=True, fmt='0.0f')"
   ]
  },
  {
   "cell_type": "code",
   "execution_count": null,
   "id": "a6cdd0be-beee-411a-80ed-6d175b44e28d",
   "metadata": {},
   "outputs": [],
   "source": []
  }
 ],
 "metadata": {
  "kernelspec": {
   "display_name": "Python 3 (ipykernel)",
   "language": "python",
   "name": "python3"
  },
  "language_info": {
   "codemirror_mode": {
    "name": "ipython",
    "version": 3
   },
   "file_extension": ".py",
   "mimetype": "text/x-python",
   "name": "python",
   "nbconvert_exporter": "python",
   "pygments_lexer": "ipython3",
   "version": "3.9.0"
  },
  "toc": {
   "base_numbering": 1,
   "nav_menu": {},
   "number_sections": true,
   "sideBar": true,
   "skip_h1_title": false,
   "title_cell": "Table of Contents",
   "title_sidebar": "Contents",
   "toc_cell": false,
   "toc_position": {},
   "toc_section_display": true,
   "toc_window_display": false
  }
 },
 "nbformat": 4,
 "nbformat_minor": 5
}
