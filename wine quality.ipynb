{
 "cells": [
  {
   "cell_type": "markdown",
   "id": "c713ebed-0552-4622-a5ca-5ae9f8abff63",
   "metadata": {},
   "source": [
    "# 와인 데이터 분석"
   ]
  },
  {
   "cell_type": "markdown",
   "id": "9bdd5676-86f1-4922-97ca-9f61857ec8ca",
   "metadata": {},
   "source": [
    "1. 알고리즘 : 최근접 분류, 회귀, 선형회귀, 랜덤포레스트 분류, 회귀\n",
    "2. dataset : 레드, 화이트 와인 데이터셋\n",
    "3. 데이터셋의 소개 : 종속변수(type), 독립변수(volatile acidity, citric acid, residual sugar, chlorides, total sulfur dioxide, pH, sulphates, alcohol)\n",
    "    - 와인의 종류에 따른 등급, 성분등을 나눈 데이터셋\n",
    "4. 문제유형 : 분류\n",
    "5. 평가지표 : MSE, RMSE, R2score, (accuracy, MAE) 추가예정\n",
    "6. 사용할 모델 : "
   ]
  },
  {
   "cell_type": "markdown",
   "id": "426fdc6b-66cd-45ce-82a6-63a6f6cb4164",
   "metadata": {},
   "source": [
    "# 7. 사용 라이브러리"
   ]
  },
  {
   "cell_type": "code",
   "execution_count": 1,
   "id": "f708c423-8743-4c44-af52-53ab3fab1ae6",
   "metadata": {
    "execution": {
     "iopub.execute_input": "2022-11-09T01:34:02.345591Z",
     "iopub.status.busy": "2022-11-09T01:34:02.344593Z",
     "iopub.status.idle": "2022-11-09T01:34:03.980051Z",
     "shell.execute_reply": "2022-11-09T01:34:03.979052Z",
     "shell.execute_reply.started": "2022-11-09T01:34:02.345591Z"
    },
    "tags": []
   },
   "outputs": [],
   "source": [
    "import numpy as np  # 넘파이\n",
    "import pandas as pd  # 판다스\n",
    "import seaborn as sns  # 시본\n",
    "import matplotlib.pyplot as plt  # matplotlib\n",
    "\n",
    "# 보팅 분류기, 랜덤포레스트 회귀\n",
    "from sklearn.ensemble import VotingClassifier, RandomForestRegressor\n",
    "# 보팅용 학습알고리즘\n",
    "# 로지스틱회귀, 선형회귀, 라쏘회귀, 릿지회귀, 최근접분류, 최근접회귀\n",
    "from sklearn.linear_model import LogisticRegression, LinearRegression, Lasso, Ridge, SGDClassifier\n",
    "from sklearn.neighbors import KNeighborsClassifier, KNeighborsRegressor\n",
    "# 스케일링\n",
    "from sklearn.preprocessing import MinMaxScaler, PolynomialFeatures\n",
    "# 데이터 분리\n",
    "from sklearn.model_selection import train_test_split, GridSearchCV\n",
    "# 정확도 라이브러리\n",
    "# accuracy, MSE, MAE, R2score 사용\n",
    "from sklearn.metrics import accuracy_score, mean_squared_error, mean_absolute_error, r2_score\n",
    "# 교차검증\n",
    "from sklearn.model_selection import cross_validate, cross_val_score\n",
    "# 랜덤포레스트\n",
    "from sklearn.ensemble import RandomForestClassifier\n",
    "# VIF 체크\n",
    "from statsmodels.stats.outliers_influence import variance_inflation_factor\n",
    "# 경고 무시\n",
    "import warnings\n",
    "warnings.simplefilter(action='ignore', category=FutureWarning)\n",
    "# 자동완성 속도 증가\n",
    "%config Completer.use_jedi = False\n",
    "# 한글 깨짐 해결\n",
    "plt.rc('font', family='D2coding')"
   ]
  },
  {
   "cell_type": "markdown",
   "id": "1cf12782-4df9-4818-a0c6-aa9740091136",
   "metadata": {},
   "source": [
    "# 데이터셋 로딩"
   ]
  },
  {
   "cell_type": "code",
   "execution_count": 3,
   "id": "335679ea-e976-4cdb-b54b-55a64937619b",
   "metadata": {
    "execution": {
     "iopub.execute_input": "2022-11-08T17:00:43.024540Z",
     "iopub.status.busy": "2022-11-08T17:00:43.024540Z",
     "iopub.status.idle": "2022-11-08T17:00:46.653397Z",
     "shell.execute_reply": "2022-11-08T17:00:46.651296Z",
     "shell.execute_reply.started": "2022-11-08T17:00:43.024540Z"
    },
    "tags": []
   },
   "outputs": [],
   "source": [
    "wine_red = pd.read_csv('https://archive.ics.uci.edu/ml/machine-learning-databa\\\n",
    "ses/wine-quality/winequality-red.csv', sep=';')\n",
    "wine_white = pd.read_csv('https://archive.ics.uci.edu/ml/machine-learning-data\\\n",
    "bases/wine-quality/winequality-white.csv', sep=';')"
   ]
  },
  {
   "cell_type": "markdown",
   "id": "346fbdc7-44a6-4d8b-8b9d-6e49d30c1cfe",
   "metadata": {},
   "source": [
    "# 데이터 전처리"
   ]
  },
  {
   "cell_type": "markdown",
   "id": "4ec60a85-f882-4a2b-b6a6-cd22ec34ea4e",
   "metadata": {},
   "source": [
    "## 데이터프레임 결합"
   ]
  },
  {
   "cell_type": "code",
   "execution_count": 4,
   "id": "c86ea383-4bf6-4876-99ec-803887373574",
   "metadata": {
    "execution": {
     "iopub.execute_input": "2022-11-08T17:00:47.395027Z",
     "iopub.status.busy": "2022-11-08T17:00:47.395027Z",
     "iopub.status.idle": "2022-11-08T17:00:47.418749Z",
     "shell.execute_reply": "2022-11-08T17:00:47.418749Z",
     "shell.execute_reply.started": "2022-11-08T17:00:47.395027Z"
    },
    "tags": []
   },
   "outputs": [
    {
     "name": "stdout",
     "output_type": "stream",
     "text": [
      "Index(['fixed acidity', 'volatile acidity', 'citric acid', 'residual sugar',\n",
      "       'chlorides', 'free sulfur dioxide', 'total sulfur dioxide', 'density',\n",
      "       'pH', 'sulphates', 'alcohol', 'quality'],\n",
      "      dtype='object')\n",
      "Index(['fixed acidity', 'volatile acidity', 'citric acid', 'residual sugar',\n",
      "       'chlorides', 'free sulfur dioxide', 'total sulfur dioxide', 'density',\n",
      "       'pH', 'sulphates', 'alcohol', 'quality'],\n",
      "      dtype='object')\n"
     ]
    }
   ],
   "source": [
    "# 키 확인\n",
    "print(wine_red.keys())\n",
    "print(wine_white.keys())"
   ]
  },
  {
   "cell_type": "code",
   "execution_count": 5,
   "id": "763373cc-e04e-4fdc-a3ab-68834517bdf0",
   "metadata": {
    "execution": {
     "iopub.execute_input": "2022-11-08T17:00:48.531289Z",
     "iopub.status.busy": "2022-11-08T17:00:48.531289Z",
     "iopub.status.idle": "2022-11-08T17:00:48.548734Z",
     "shell.execute_reply": "2022-11-08T17:00:48.546751Z",
     "shell.execute_reply.started": "2022-11-08T17:00:48.531289Z"
    },
    "tags": []
   },
   "outputs": [
    {
     "name": "stdout",
     "output_type": "stream",
     "text": [
      "(1599, 12)\n",
      "(4898, 12)\n"
     ]
    }
   ],
   "source": [
    "# 데이터 프레임별 갯수 확인\n",
    "print(wine_red.shape)\n",
    "print(wine_white.shape)"
   ]
  },
  {
   "cell_type": "code",
   "execution_count": 6,
   "id": "3e3f34a4-6d87-4545-a2d4-61b709078784",
   "metadata": {
    "execution": {
     "iopub.execute_input": "2022-11-08T17:00:50.032029Z",
     "iopub.status.busy": "2022-11-08T17:00:50.032029Z",
     "iopub.status.idle": "2022-11-08T17:00:50.063952Z",
     "shell.execute_reply": "2022-11-08T17:00:50.063952Z",
     "shell.execute_reply.started": "2022-11-08T17:00:50.032029Z"
    },
    "tags": []
   },
   "outputs": [],
   "source": [
    "# wine_red['type'] = 0 와 비슷하지만 인덱스 위치까지 설정가능\n",
    "wine_red.insert(12, 'type', 0)"
   ]
  },
  {
   "cell_type": "code",
   "execution_count": 7,
   "id": "84aede01-1601-407e-89b4-5198aa23aeec",
   "metadata": {
    "execution": {
     "iopub.execute_input": "2022-11-08T17:00:50.569574Z",
     "iopub.status.busy": "2022-11-08T17:00:50.569574Z",
     "iopub.status.idle": "2022-11-08T17:00:50.627039Z",
     "shell.execute_reply": "2022-11-08T17:00:50.625307Z",
     "shell.execute_reply.started": "2022-11-08T17:00:50.569574Z"
    },
    "tags": []
   },
   "outputs": [
    {
     "data": {
      "text/html": [
       "<div>\n",
       "<style scoped>\n",
       "    .dataframe tbody tr th:only-of-type {\n",
       "        vertical-align: middle;\n",
       "    }\n",
       "\n",
       "    .dataframe tbody tr th {\n",
       "        vertical-align: top;\n",
       "    }\n",
       "\n",
       "    .dataframe thead th {\n",
       "        text-align: right;\n",
       "    }\n",
       "</style>\n",
       "<table border=\"1\" class=\"dataframe\">\n",
       "  <thead>\n",
       "    <tr style=\"text-align: right;\">\n",
       "      <th></th>\n",
       "      <th>fixed acidity</th>\n",
       "      <th>volatile acidity</th>\n",
       "      <th>citric acid</th>\n",
       "      <th>residual sugar</th>\n",
       "      <th>chlorides</th>\n",
       "      <th>free sulfur dioxide</th>\n",
       "      <th>total sulfur dioxide</th>\n",
       "      <th>density</th>\n",
       "      <th>pH</th>\n",
       "      <th>sulphates</th>\n",
       "      <th>alcohol</th>\n",
       "      <th>quality</th>\n",
       "      <th>type</th>\n",
       "    </tr>\n",
       "  </thead>\n",
       "  <tbody>\n",
       "    <tr>\n",
       "      <th>0</th>\n",
       "      <td>7.4</td>\n",
       "      <td>0.70</td>\n",
       "      <td>0.00</td>\n",
       "      <td>1.9</td>\n",
       "      <td>0.076</td>\n",
       "      <td>11.0</td>\n",
       "      <td>34.0</td>\n",
       "      <td>0.9978</td>\n",
       "      <td>3.51</td>\n",
       "      <td>0.56</td>\n",
       "      <td>9.4</td>\n",
       "      <td>5</td>\n",
       "      <td>0</td>\n",
       "    </tr>\n",
       "    <tr>\n",
       "      <th>1</th>\n",
       "      <td>7.8</td>\n",
       "      <td>0.88</td>\n",
       "      <td>0.00</td>\n",
       "      <td>2.6</td>\n",
       "      <td>0.098</td>\n",
       "      <td>25.0</td>\n",
       "      <td>67.0</td>\n",
       "      <td>0.9968</td>\n",
       "      <td>3.20</td>\n",
       "      <td>0.68</td>\n",
       "      <td>9.8</td>\n",
       "      <td>5</td>\n",
       "      <td>0</td>\n",
       "    </tr>\n",
       "    <tr>\n",
       "      <th>2</th>\n",
       "      <td>7.8</td>\n",
       "      <td>0.76</td>\n",
       "      <td>0.04</td>\n",
       "      <td>2.3</td>\n",
       "      <td>0.092</td>\n",
       "      <td>15.0</td>\n",
       "      <td>54.0</td>\n",
       "      <td>0.9970</td>\n",
       "      <td>3.26</td>\n",
       "      <td>0.65</td>\n",
       "      <td>9.8</td>\n",
       "      <td>5</td>\n",
       "      <td>0</td>\n",
       "    </tr>\n",
       "  </tbody>\n",
       "</table>\n",
       "</div>"
      ],
      "text/plain": [
       "   fixed acidity  volatile acidity  citric acid  residual sugar  chlorides  \\\n",
       "0            7.4              0.70         0.00             1.9      0.076   \n",
       "1            7.8              0.88         0.00             2.6      0.098   \n",
       "2            7.8              0.76         0.04             2.3      0.092   \n",
       "\n",
       "   free sulfur dioxide  total sulfur dioxide  density    pH  sulphates  \\\n",
       "0                 11.0                  34.0   0.9978  3.51       0.56   \n",
       "1                 25.0                  67.0   0.9968  3.20       0.68   \n",
       "2                 15.0                  54.0   0.9970  3.26       0.65   \n",
       "\n",
       "   alcohol  quality  type  \n",
       "0      9.4        5     0  \n",
       "1      9.8        5     0  \n",
       "2      9.8        5     0  "
      ]
     },
     "execution_count": 7,
     "metadata": {},
     "output_type": "execute_result"
    }
   ],
   "source": [
    "# 데이터 프레임에 적용되었는지 확인\n",
    "wine_red.head(3)"
   ]
  },
  {
   "cell_type": "code",
   "execution_count": 8,
   "id": "ef5773b1-24ca-4e24-9d4a-e5cc2e40b43a",
   "metadata": {
    "execution": {
     "iopub.execute_input": "2022-11-08T17:00:51.875067Z",
     "iopub.status.busy": "2022-11-08T17:00:51.875067Z",
     "iopub.status.idle": "2022-11-08T17:00:51.891015Z",
     "shell.execute_reply": "2022-11-08T17:00:51.889886Z",
     "shell.execute_reply.started": "2022-11-08T17:00:51.875067Z"
    },
    "tags": []
   },
   "outputs": [],
   "source": [
    "# wine_white['type'] = 1 와 비슷하지만 인덱스 위치까지 설정가능\n",
    "wine_white.insert(12, 'type', 1)"
   ]
  },
  {
   "cell_type": "code",
   "execution_count": 9,
   "id": "06a14896-c030-4d50-a6ed-58a3ea8964d0",
   "metadata": {
    "execution": {
     "iopub.execute_input": "2022-11-08T17:00:52.306317Z",
     "iopub.status.busy": "2022-11-08T17:00:52.306317Z",
     "iopub.status.idle": "2022-11-08T17:00:52.338647Z",
     "shell.execute_reply": "2022-11-08T17:00:52.338647Z",
     "shell.execute_reply.started": "2022-11-08T17:00:52.306317Z"
    },
    "tags": []
   },
   "outputs": [
    {
     "data": {
      "text/html": [
       "<div>\n",
       "<style scoped>\n",
       "    .dataframe tbody tr th:only-of-type {\n",
       "        vertical-align: middle;\n",
       "    }\n",
       "\n",
       "    .dataframe tbody tr th {\n",
       "        vertical-align: top;\n",
       "    }\n",
       "\n",
       "    .dataframe thead th {\n",
       "        text-align: right;\n",
       "    }\n",
       "</style>\n",
       "<table border=\"1\" class=\"dataframe\">\n",
       "  <thead>\n",
       "    <tr style=\"text-align: right;\">\n",
       "      <th></th>\n",
       "      <th>fixed acidity</th>\n",
       "      <th>volatile acidity</th>\n",
       "      <th>citric acid</th>\n",
       "      <th>residual sugar</th>\n",
       "      <th>chlorides</th>\n",
       "      <th>free sulfur dioxide</th>\n",
       "      <th>total sulfur dioxide</th>\n",
       "      <th>density</th>\n",
       "      <th>pH</th>\n",
       "      <th>sulphates</th>\n",
       "      <th>alcohol</th>\n",
       "      <th>quality</th>\n",
       "      <th>type</th>\n",
       "    </tr>\n",
       "  </thead>\n",
       "  <tbody>\n",
       "    <tr>\n",
       "      <th>0</th>\n",
       "      <td>7.0</td>\n",
       "      <td>0.27</td>\n",
       "      <td>0.36</td>\n",
       "      <td>20.7</td>\n",
       "      <td>0.045</td>\n",
       "      <td>45.0</td>\n",
       "      <td>170.0</td>\n",
       "      <td>1.0010</td>\n",
       "      <td>3.00</td>\n",
       "      <td>0.45</td>\n",
       "      <td>8.8</td>\n",
       "      <td>6</td>\n",
       "      <td>1</td>\n",
       "    </tr>\n",
       "    <tr>\n",
       "      <th>1</th>\n",
       "      <td>6.3</td>\n",
       "      <td>0.30</td>\n",
       "      <td>0.34</td>\n",
       "      <td>1.6</td>\n",
       "      <td>0.049</td>\n",
       "      <td>14.0</td>\n",
       "      <td>132.0</td>\n",
       "      <td>0.9940</td>\n",
       "      <td>3.30</td>\n",
       "      <td>0.49</td>\n",
       "      <td>9.5</td>\n",
       "      <td>6</td>\n",
       "      <td>1</td>\n",
       "    </tr>\n",
       "    <tr>\n",
       "      <th>2</th>\n",
       "      <td>8.1</td>\n",
       "      <td>0.28</td>\n",
       "      <td>0.40</td>\n",
       "      <td>6.9</td>\n",
       "      <td>0.050</td>\n",
       "      <td>30.0</td>\n",
       "      <td>97.0</td>\n",
       "      <td>0.9951</td>\n",
       "      <td>3.26</td>\n",
       "      <td>0.44</td>\n",
       "      <td>10.1</td>\n",
       "      <td>6</td>\n",
       "      <td>1</td>\n",
       "    </tr>\n",
       "  </tbody>\n",
       "</table>\n",
       "</div>"
      ],
      "text/plain": [
       "   fixed acidity  volatile acidity  citric acid  residual sugar  chlorides  \\\n",
       "0            7.0              0.27         0.36            20.7      0.045   \n",
       "1            6.3              0.30         0.34             1.6      0.049   \n",
       "2            8.1              0.28         0.40             6.9      0.050   \n",
       "\n",
       "   free sulfur dioxide  total sulfur dioxide  density    pH  sulphates  \\\n",
       "0                 45.0                 170.0   1.0010  3.00       0.45   \n",
       "1                 14.0                 132.0   0.9940  3.30       0.49   \n",
       "2                 30.0                  97.0   0.9951  3.26       0.44   \n",
       "\n",
       "   alcohol  quality  type  \n",
       "0      8.8        6     1  \n",
       "1      9.5        6     1  \n",
       "2     10.1        6     1  "
      ]
     },
     "execution_count": 9,
     "metadata": {},
     "output_type": "execute_result"
    }
   ],
   "source": [
    "# 데이터프레임에 적용되었는지 확인\n",
    "wine_white.head(3)"
   ]
  },
  {
   "cell_type": "code",
   "execution_count": 10,
   "id": "93b62a93-c372-478d-bac3-b02c5189c5b7",
   "metadata": {
    "execution": {
     "iopub.execute_input": "2022-11-08T17:00:53.825879Z",
     "iopub.status.busy": "2022-11-08T17:00:53.825879Z",
     "iopub.status.idle": "2022-11-08T17:00:53.858761Z",
     "shell.execute_reply": "2022-11-08T17:00:53.858761Z",
     "shell.execute_reply.started": "2022-11-08T17:00:53.825879Z"
    },
    "tags": []
   },
   "outputs": [
    {
     "data": {
      "text/html": [
       "<div>\n",
       "<style scoped>\n",
       "    .dataframe tbody tr th:only-of-type {\n",
       "        vertical-align: middle;\n",
       "    }\n",
       "\n",
       "    .dataframe tbody tr th {\n",
       "        vertical-align: top;\n",
       "    }\n",
       "\n",
       "    .dataframe thead th {\n",
       "        text-align: right;\n",
       "    }\n",
       "</style>\n",
       "<table border=\"1\" class=\"dataframe\">\n",
       "  <thead>\n",
       "    <tr style=\"text-align: right;\">\n",
       "      <th></th>\n",
       "      <th>fixed acidity</th>\n",
       "      <th>volatile acidity</th>\n",
       "      <th>citric acid</th>\n",
       "      <th>residual sugar</th>\n",
       "      <th>chlorides</th>\n",
       "      <th>free sulfur dioxide</th>\n",
       "      <th>total sulfur dioxide</th>\n",
       "      <th>density</th>\n",
       "      <th>pH</th>\n",
       "      <th>sulphates</th>\n",
       "      <th>alcohol</th>\n",
       "      <th>quality</th>\n",
       "      <th>type</th>\n",
       "    </tr>\n",
       "  </thead>\n",
       "  <tbody>\n",
       "    <tr>\n",
       "      <th>0</th>\n",
       "      <td>7.4</td>\n",
       "      <td>0.70</td>\n",
       "      <td>0.00</td>\n",
       "      <td>1.9</td>\n",
       "      <td>0.076</td>\n",
       "      <td>11.0</td>\n",
       "      <td>34.0</td>\n",
       "      <td>0.9978</td>\n",
       "      <td>3.51</td>\n",
       "      <td>0.56</td>\n",
       "      <td>9.4</td>\n",
       "      <td>5</td>\n",
       "      <td>0</td>\n",
       "    </tr>\n",
       "    <tr>\n",
       "      <th>1</th>\n",
       "      <td>7.8</td>\n",
       "      <td>0.88</td>\n",
       "      <td>0.00</td>\n",
       "      <td>2.6</td>\n",
       "      <td>0.098</td>\n",
       "      <td>25.0</td>\n",
       "      <td>67.0</td>\n",
       "      <td>0.9968</td>\n",
       "      <td>3.20</td>\n",
       "      <td>0.68</td>\n",
       "      <td>9.8</td>\n",
       "      <td>5</td>\n",
       "      <td>0</td>\n",
       "    </tr>\n",
       "    <tr>\n",
       "      <th>2</th>\n",
       "      <td>7.8</td>\n",
       "      <td>0.76</td>\n",
       "      <td>0.04</td>\n",
       "      <td>2.3</td>\n",
       "      <td>0.092</td>\n",
       "      <td>15.0</td>\n",
       "      <td>54.0</td>\n",
       "      <td>0.9970</td>\n",
       "      <td>3.26</td>\n",
       "      <td>0.65</td>\n",
       "      <td>9.8</td>\n",
       "      <td>5</td>\n",
       "      <td>0</td>\n",
       "    </tr>\n",
       "    <tr>\n",
       "      <th>3</th>\n",
       "      <td>11.2</td>\n",
       "      <td>0.28</td>\n",
       "      <td>0.56</td>\n",
       "      <td>1.9</td>\n",
       "      <td>0.075</td>\n",
       "      <td>17.0</td>\n",
       "      <td>60.0</td>\n",
       "      <td>0.9980</td>\n",
       "      <td>3.16</td>\n",
       "      <td>0.58</td>\n",
       "      <td>9.8</td>\n",
       "      <td>6</td>\n",
       "      <td>0</td>\n",
       "    </tr>\n",
       "    <tr>\n",
       "      <th>4</th>\n",
       "      <td>7.4</td>\n",
       "      <td>0.70</td>\n",
       "      <td>0.00</td>\n",
       "      <td>1.9</td>\n",
       "      <td>0.076</td>\n",
       "      <td>11.0</td>\n",
       "      <td>34.0</td>\n",
       "      <td>0.9978</td>\n",
       "      <td>3.51</td>\n",
       "      <td>0.56</td>\n",
       "      <td>9.4</td>\n",
       "      <td>5</td>\n",
       "      <td>0</td>\n",
       "    </tr>\n",
       "  </tbody>\n",
       "</table>\n",
       "</div>"
      ],
      "text/plain": [
       "   fixed acidity  volatile acidity  citric acid  residual sugar  chlorides  \\\n",
       "0            7.4              0.70         0.00             1.9      0.076   \n",
       "1            7.8              0.88         0.00             2.6      0.098   \n",
       "2            7.8              0.76         0.04             2.3      0.092   \n",
       "3           11.2              0.28         0.56             1.9      0.075   \n",
       "4            7.4              0.70         0.00             1.9      0.076   \n",
       "\n",
       "   free sulfur dioxide  total sulfur dioxide  density    pH  sulphates  \\\n",
       "0                 11.0                  34.0   0.9978  3.51       0.56   \n",
       "1                 25.0                  67.0   0.9968  3.20       0.68   \n",
       "2                 15.0                  54.0   0.9970  3.26       0.65   \n",
       "3                 17.0                  60.0   0.9980  3.16       0.58   \n",
       "4                 11.0                  34.0   0.9978  3.51       0.56   \n",
       "\n",
       "   alcohol  quality  type  \n",
       "0      9.4        5     0  \n",
       "1      9.8        5     0  \n",
       "2      9.8        5     0  \n",
       "3      9.8        6     0  \n",
       "4      9.4        5     0  "
      ]
     },
     "execution_count": 10,
     "metadata": {},
     "output_type": "execute_result"
    }
   ],
   "source": [
    "# 데이터프레임 결합\n",
    "wine = pd.concat([wine_red, wine_white])\n",
    "wine.head(5)"
   ]
  },
  {
   "cell_type": "code",
   "execution_count": 11,
   "id": "d52f7bd5-66a8-4b7a-b66d-bf20f4deaae0",
   "metadata": {
    "execution": {
     "iopub.execute_input": "2022-11-08T17:00:54.975686Z",
     "iopub.status.busy": "2022-11-08T17:00:54.975686Z",
     "iopub.status.idle": "2022-11-08T17:00:55.006919Z",
     "shell.execute_reply": "2022-11-08T17:00:55.006919Z",
     "shell.execute_reply.started": "2022-11-08T17:00:54.975686Z"
    },
    "tags": []
   },
   "outputs": [],
   "source": [
    "# 데이터프레임 행 섞기\n",
    "wine = wine.sample(frac=1).reset_index(drop=True)"
   ]
  },
  {
   "cell_type": "code",
   "execution_count": 12,
   "id": "77888f21-fab2-450d-8eb2-3d70a95c2836",
   "metadata": {
    "execution": {
     "iopub.execute_input": "2022-11-08T17:00:55.267629Z",
     "iopub.status.busy": "2022-11-08T17:00:55.267629Z",
     "iopub.status.idle": "2022-11-08T17:00:55.299875Z",
     "shell.execute_reply": "2022-11-08T17:00:55.299875Z",
     "shell.execute_reply.started": "2022-11-08T17:00:55.267629Z"
    },
    "tags": []
   },
   "outputs": [
    {
     "name": "stdout",
     "output_type": "stream",
     "text": [
      "<class 'pandas.core.frame.DataFrame'>\n",
      "RangeIndex: 6497 entries, 0 to 6496\n",
      "Data columns (total 13 columns):\n",
      " #   Column                Non-Null Count  Dtype  \n",
      "---  ------                --------------  -----  \n",
      " 0   fixed acidity         6497 non-null   float64\n",
      " 1   volatile acidity      6497 non-null   float64\n",
      " 2   citric acid           6497 non-null   float64\n",
      " 3   residual sugar        6497 non-null   float64\n",
      " 4   chlorides             6497 non-null   float64\n",
      " 5   free sulfur dioxide   6497 non-null   float64\n",
      " 6   total sulfur dioxide  6497 non-null   float64\n",
      " 7   density               6497 non-null   float64\n",
      " 8   pH                    6497 non-null   float64\n",
      " 9   sulphates             6497 non-null   float64\n",
      " 10  alcohol               6497 non-null   float64\n",
      " 11  quality               6497 non-null   int64  \n",
      " 12  type                  6497 non-null   int64  \n",
      "dtypes: float64(11), int64(2)\n",
      "memory usage: 660.0 KB\n"
     ]
    }
   ],
   "source": [
    "# 데이터프레임 정보 및 결측치 확인\n",
    "wine.info()"
   ]
  },
  {
   "cell_type": "markdown",
   "id": "6e5859dd-1208-4862-afe4-a2174778b2df",
   "metadata": {},
   "source": [
    "## 스케일링"
   ]
  },
  {
   "cell_type": "code",
   "execution_count": 13,
   "id": "287a44d4-2be5-4f85-8c56-add75ff9c84c",
   "metadata": {
    "execution": {
     "iopub.execute_input": "2022-11-08T17:00:58.255905Z",
     "iopub.status.busy": "2022-11-08T17:00:58.255905Z",
     "iopub.status.idle": "2022-11-08T17:00:58.317075Z",
     "shell.execute_reply": "2022-11-08T17:00:58.316455Z",
     "shell.execute_reply.started": "2022-11-08T17:00:58.255905Z"
    },
    "tags": []
   },
   "outputs": [
    {
     "data": {
      "text/html": [
       "<div>\n",
       "<style scoped>\n",
       "    .dataframe tbody tr th:only-of-type {\n",
       "        vertical-align: middle;\n",
       "    }\n",
       "\n",
       "    .dataframe tbody tr th {\n",
       "        vertical-align: top;\n",
       "    }\n",
       "\n",
       "    .dataframe thead th {\n",
       "        text-align: right;\n",
       "    }\n",
       "</style>\n",
       "<table border=\"1\" class=\"dataframe\">\n",
       "  <thead>\n",
       "    <tr style=\"text-align: right;\">\n",
       "      <th></th>\n",
       "      <th>fixed acidity</th>\n",
       "      <th>volatile acidity</th>\n",
       "      <th>citric acid</th>\n",
       "      <th>residual sugar</th>\n",
       "      <th>chlorides</th>\n",
       "      <th>free sulfur dioxide</th>\n",
       "      <th>total sulfur dioxide</th>\n",
       "      <th>density</th>\n",
       "      <th>pH</th>\n",
       "      <th>sulphates</th>\n",
       "      <th>alcohol</th>\n",
       "      <th>quality</th>\n",
       "      <th>type</th>\n",
       "    </tr>\n",
       "  </thead>\n",
       "  <tbody>\n",
       "    <tr>\n",
       "      <th>0</th>\n",
       "      <td>0.214876</td>\n",
       "      <td>0.066667</td>\n",
       "      <td>0.289157</td>\n",
       "      <td>0.266871</td>\n",
       "      <td>0.074751</td>\n",
       "      <td>0.190972</td>\n",
       "      <td>0.407834</td>\n",
       "      <td>0.255832</td>\n",
       "      <td>0.201550</td>\n",
       "      <td>0.219101</td>\n",
       "      <td>0.072464</td>\n",
       "      <td>6</td>\n",
       "      <td>1</td>\n",
       "    </tr>\n",
       "    <tr>\n",
       "      <th>1</th>\n",
       "      <td>0.314050</td>\n",
       "      <td>0.266667</td>\n",
       "      <td>0.186747</td>\n",
       "      <td>0.033742</td>\n",
       "      <td>0.101329</td>\n",
       "      <td>0.010417</td>\n",
       "      <td>0.020737</td>\n",
       "      <td>0.189319</td>\n",
       "      <td>0.387597</td>\n",
       "      <td>0.185393</td>\n",
       "      <td>0.333333</td>\n",
       "      <td>6</td>\n",
       "      <td>0</td>\n",
       "    </tr>\n",
       "    <tr>\n",
       "      <th>2</th>\n",
       "      <td>0.388430</td>\n",
       "      <td>0.160000</td>\n",
       "      <td>0.253012</td>\n",
       "      <td>0.026074</td>\n",
       "      <td>0.109635</td>\n",
       "      <td>0.038194</td>\n",
       "      <td>0.029954</td>\n",
       "      <td>0.139387</td>\n",
       "      <td>0.325581</td>\n",
       "      <td>0.275281</td>\n",
       "      <td>0.550725</td>\n",
       "      <td>7</td>\n",
       "      <td>0</td>\n",
       "    </tr>\n",
       "    <tr>\n",
       "      <th>3</th>\n",
       "      <td>0.314050</td>\n",
       "      <td>0.390000</td>\n",
       "      <td>0.060241</td>\n",
       "      <td>0.013804</td>\n",
       "      <td>0.094684</td>\n",
       "      <td>0.090278</td>\n",
       "      <td>0.112903</td>\n",
       "      <td>0.181993</td>\n",
       "      <td>0.519380</td>\n",
       "      <td>0.162921</td>\n",
       "      <td>0.188406</td>\n",
       "      <td>5</td>\n",
       "      <td>0</td>\n",
       "    </tr>\n",
       "    <tr>\n",
       "      <th>4</th>\n",
       "      <td>0.264463</td>\n",
       "      <td>0.086667</td>\n",
       "      <td>0.204819</td>\n",
       "      <td>0.121166</td>\n",
       "      <td>0.039867</td>\n",
       "      <td>0.104167</td>\n",
       "      <td>0.569124</td>\n",
       "      <td>0.157895</td>\n",
       "      <td>0.387597</td>\n",
       "      <td>0.191011</td>\n",
       "      <td>0.362319</td>\n",
       "      <td>6</td>\n",
       "      <td>1</td>\n",
       "    </tr>\n",
       "  </tbody>\n",
       "</table>\n",
       "</div>"
      ],
      "text/plain": [
       "   fixed acidity  volatile acidity  citric acid  residual sugar  chlorides  \\\n",
       "0       0.214876          0.066667     0.289157        0.266871   0.074751   \n",
       "1       0.314050          0.266667     0.186747        0.033742   0.101329   \n",
       "2       0.388430          0.160000     0.253012        0.026074   0.109635   \n",
       "3       0.314050          0.390000     0.060241        0.013804   0.094684   \n",
       "4       0.264463          0.086667     0.204819        0.121166   0.039867   \n",
       "\n",
       "   free sulfur dioxide  total sulfur dioxide   density        pH  sulphates  \\\n",
       "0             0.190972              0.407834  0.255832  0.201550   0.219101   \n",
       "1             0.010417              0.020737  0.189319  0.387597   0.185393   \n",
       "2             0.038194              0.029954  0.139387  0.325581   0.275281   \n",
       "3             0.090278              0.112903  0.181993  0.519380   0.162921   \n",
       "4             0.104167              0.569124  0.157895  0.387597   0.191011   \n",
       "\n",
       "    alcohol  quality  type  \n",
       "0  0.072464        6     1  \n",
       "1  0.333333        6     0  \n",
       "2  0.550725        7     0  \n",
       "3  0.188406        5     0  \n",
       "4  0.362319        6     1  "
      ]
     },
     "execution_count": 13,
     "metadata": {},
     "output_type": "execute_result"
    }
   ],
   "source": [
    "# 스케일링 후 데이터프레임 확인\n",
    "scaler = MinMaxScaler()\n",
    "\n",
    "wine_scaled = wine.iloc[:, :-2]  # 원래 타겟인 quality와 추가된 type은 scale 안함\n",
    "scaler.fit(wine_scaled)\n",
    "wine_scaled = scaler.transform(wine_scaled)\n",
    "\n",
    "# 스케일링 변환된 값을 데이터프레임에 반영\n",
    "wine.iloc[:, :-2] = wine_scaled[:, :]\n",
    "wine.head()"
   ]
  },
  {
   "cell_type": "markdown",
   "id": "aad5f379-7d2f-48a7-a4cf-bac6863da762",
   "metadata": {},
   "source": [
    "## 데이터 분리"
   ]
  },
  {
   "cell_type": "code",
   "execution_count": 14,
   "id": "66710de1-f53a-4ef6-b07d-689c66d8fb68",
   "metadata": {
    "execution": {
     "iopub.execute_input": "2022-11-08T17:01:01.769100Z",
     "iopub.status.busy": "2022-11-08T17:01:01.769100Z",
     "iopub.status.idle": "2022-11-08T17:01:01.802393Z",
     "shell.execute_reply": "2022-11-08T17:01:01.802393Z",
     "shell.execute_reply.started": "2022-11-08T17:01:01.769100Z"
    },
    "tags": []
   },
   "outputs": [],
   "source": [
    "X_train, X_test, y_train, y_test = train_test_split(\n",
    "    wine[['volatile acidity', 'citric acid', 'residual sugar',\n",
    "          'chlorides', 'total sulfur dioxide', 'pH',\n",
    "          'sulphates', 'alcohol']], wine.iloc[:, -1:], random_state=0)"
   ]
  },
  {
   "cell_type": "markdown",
   "id": "9ee52eaf-0264-47aa-b06c-8c693b8d8103",
   "metadata": {},
   "source": [
    "## 상관계수 확인"
   ]
  },
  {
   "cell_type": "code",
   "execution_count": 15,
   "id": "2a6634d3-05ef-40fc-a6a4-c13320c18ffb",
   "metadata": {
    "execution": {
     "iopub.execute_input": "2022-11-08T17:01:03.744898Z",
     "iopub.status.busy": "2022-11-08T17:01:03.744898Z",
     "iopub.status.idle": "2022-11-08T17:01:03.785387Z",
     "shell.execute_reply": "2022-11-08T17:01:03.785387Z",
     "shell.execute_reply.started": "2022-11-08T17:01:03.744898Z"
    },
    "tags": []
   },
   "outputs": [
    {
     "data": {
      "text/plain": [
       "total sulfur dioxide    0.700357\n",
       "volatile acidity        0.653036\n",
       "chlorides               0.512678\n",
       "sulphates               0.487218\n",
       "fixed acidity           0.486740\n",
       "free sulfur dioxide     0.471644\n",
       "density                 0.390645\n",
       "residual sugar          0.348821\n",
       "pH                      0.329129\n",
       "citric acid             0.187397\n",
       "quality                 0.119323\n",
       "alcohol                 0.032970\n",
       "Name: type, dtype: float64"
      ]
     },
     "execution_count": 15,
     "metadata": {},
     "output_type": "execute_result"
    }
   ],
   "source": [
    "# 상관계수가 높은 순으로 정렬해서 출력\n",
    "order = wine.corr().loc[:'quality', 'type'].abs().sort_values(ascending=False)\n",
    "order"
   ]
  },
  {
   "cell_type": "markdown",
   "id": "8c08fa3d-d7c4-46d1-9386-f26cd281a129",
   "metadata": {},
   "source": [
    "## 다중공선성 확인"
   ]
  },
  {
   "cell_type": "code",
   "execution_count": 16,
   "id": "d83947e0-25a9-412a-be72-baf273fbccef",
   "metadata": {
    "execution": {
     "iopub.execute_input": "2022-11-08T17:01:05.748341Z",
     "iopub.status.busy": "2022-11-08T17:01:05.748341Z",
     "iopub.status.idle": "2022-11-08T17:01:05.916339Z",
     "shell.execute_reply": "2022-11-08T17:01:05.916339Z",
     "shell.execute_reply.started": "2022-11-08T17:01:05.748341Z"
    },
    "tags": []
   },
   "outputs": [
    {
     "name": "stdout",
     "output_type": "stream",
     "text": [
      "   VIF_Factor               Feature\n",
      "0    4.782395      volatile acidity\n",
      "1    6.428842           citric acid\n",
      "2    2.886009        residual sugar\n",
      "3    4.173386             chlorides\n",
      "4    6.025555  total sulfur dioxide\n",
      "5    9.639739                    pH\n",
      "6    6.772921             sulphates\n",
      "7    5.518663               alcohol\n"
     ]
    }
   ],
   "source": [
    "VIF = wine\n",
    "VIF_train = wine[['volatile acidity', 'citric acid', 'residual sugar', 'chlorides',\n",
    "                  'total sulfur dioxide', 'pH', 'sulphates', 'alcohol']]\n",
    "\n",
    "def feature_engineering_XbyVIF(VIF_train):\n",
    "    vif = pd.DataFrame()\n",
    "    vif['VIF_Factor'] = [variance_inflation_factor(VIF_train.values, i)\n",
    "                         for i in range(VIF_train.shape[1])]\n",
    "    vif['Feature'] = VIF_train.columns\n",
    "    return vif\n",
    "vif = feature_engineering_XbyVIF(VIF_train)\n",
    "print(vif)"
   ]
  },
  {
   "cell_type": "markdown",
   "id": "522b3f75-e528-4f3d-a65e-4fec4007bd6d",
   "metadata": {},
   "source": [
    "## 필요한 열 추출"
   ]
  },
  {
   "cell_type": "code",
   "execution_count": 17,
   "id": "06d1c86b-c89b-4fc1-bacf-71f38477703f",
   "metadata": {
    "execution": {
     "iopub.execute_input": "2022-11-08T17:01:17.566902Z",
     "iopub.status.busy": "2022-11-08T17:01:17.558776Z",
     "iopub.status.idle": "2022-11-08T17:01:17.600747Z",
     "shell.execute_reply": "2022-11-08T17:01:17.600747Z",
     "shell.execute_reply.started": "2022-11-08T17:01:17.558776Z"
    },
    "tags": []
   },
   "outputs": [
    {
     "data": {
      "text/html": [
       "<div>\n",
       "<style scoped>\n",
       "    .dataframe tbody tr th:only-of-type {\n",
       "        vertical-align: middle;\n",
       "    }\n",
       "\n",
       "    .dataframe tbody tr th {\n",
       "        vertical-align: top;\n",
       "    }\n",
       "\n",
       "    .dataframe thead th {\n",
       "        text-align: right;\n",
       "    }\n",
       "</style>\n",
       "<table border=\"1\" class=\"dataframe\">\n",
       "  <thead>\n",
       "    <tr style=\"text-align: right;\">\n",
       "      <th></th>\n",
       "      <th>volatile acidity</th>\n",
       "      <th>citric acid</th>\n",
       "      <th>residual sugar</th>\n",
       "      <th>chlorides</th>\n",
       "      <th>total sulfur dioxide</th>\n",
       "      <th>pH</th>\n",
       "      <th>sulphates</th>\n",
       "      <th>alcohol</th>\n",
       "      <th>type</th>\n",
       "    </tr>\n",
       "  </thead>\n",
       "  <tbody>\n",
       "    <tr>\n",
       "      <th>0</th>\n",
       "      <td>0.066667</td>\n",
       "      <td>0.289157</td>\n",
       "      <td>0.266871</td>\n",
       "      <td>0.074751</td>\n",
       "      <td>0.407834</td>\n",
       "      <td>0.201550</td>\n",
       "      <td>0.219101</td>\n",
       "      <td>0.072464</td>\n",
       "      <td>1</td>\n",
       "    </tr>\n",
       "    <tr>\n",
       "      <th>1</th>\n",
       "      <td>0.266667</td>\n",
       "      <td>0.186747</td>\n",
       "      <td>0.033742</td>\n",
       "      <td>0.101329</td>\n",
       "      <td>0.020737</td>\n",
       "      <td>0.387597</td>\n",
       "      <td>0.185393</td>\n",
       "      <td>0.333333</td>\n",
       "      <td>0</td>\n",
       "    </tr>\n",
       "    <tr>\n",
       "      <th>2</th>\n",
       "      <td>0.160000</td>\n",
       "      <td>0.253012</td>\n",
       "      <td>0.026074</td>\n",
       "      <td>0.109635</td>\n",
       "      <td>0.029954</td>\n",
       "      <td>0.325581</td>\n",
       "      <td>0.275281</td>\n",
       "      <td>0.550725</td>\n",
       "      <td>0</td>\n",
       "    </tr>\n",
       "    <tr>\n",
       "      <th>3</th>\n",
       "      <td>0.390000</td>\n",
       "      <td>0.060241</td>\n",
       "      <td>0.013804</td>\n",
       "      <td>0.094684</td>\n",
       "      <td>0.112903</td>\n",
       "      <td>0.519380</td>\n",
       "      <td>0.162921</td>\n",
       "      <td>0.188406</td>\n",
       "      <td>0</td>\n",
       "    </tr>\n",
       "    <tr>\n",
       "      <th>4</th>\n",
       "      <td>0.086667</td>\n",
       "      <td>0.204819</td>\n",
       "      <td>0.121166</td>\n",
       "      <td>0.039867</td>\n",
       "      <td>0.569124</td>\n",
       "      <td>0.387597</td>\n",
       "      <td>0.191011</td>\n",
       "      <td>0.362319</td>\n",
       "      <td>1</td>\n",
       "    </tr>\n",
       "  </tbody>\n",
       "</table>\n",
       "</div>"
      ],
      "text/plain": [
       "   volatile acidity  citric acid  residual sugar  chlorides  \\\n",
       "0          0.066667     0.289157        0.266871   0.074751   \n",
       "1          0.266667     0.186747        0.033742   0.101329   \n",
       "2          0.160000     0.253012        0.026074   0.109635   \n",
       "3          0.390000     0.060241        0.013804   0.094684   \n",
       "4          0.086667     0.204819        0.121166   0.039867   \n",
       "\n",
       "   total sulfur dioxide        pH  sulphates   alcohol  type  \n",
       "0              0.407834  0.201550   0.219101  0.072464     1  \n",
       "1              0.020737  0.387597   0.185393  0.333333     0  \n",
       "2              0.029954  0.325581   0.275281  0.550725     0  \n",
       "3              0.112903  0.519380   0.162921  0.188406     0  \n",
       "4              0.569124  0.387597   0.191011  0.362319     1  "
      ]
     },
     "execution_count": 17,
     "metadata": {},
     "output_type": "execute_result"
    }
   ],
   "source": [
    "plot_cols = ['volatile acidity', 'citric acid', 'residual sugar', 'chlorides',\n",
    "             'total sulfur dioxide', 'pH', 'sulphates', 'alcohol', 'type']\n",
    "plot_df = wine.loc[:, plot_cols]\n",
    "plot_df.head()"
   ]
  },
  {
   "cell_type": "markdown",
   "id": "10a89585-ea57-4bdb-8ee9-824be1eef34a",
   "metadata": {},
   "source": [
    "# 데이터 예측"
   ]
  },
  {
   "cell_type": "markdown",
   "id": "006e58a8-7adc-4fd4-bfa0-ddd162f36adf",
   "metadata": {},
   "source": [
    "## 최근접"
   ]
  },
  {
   "cell_type": "markdown",
   "id": "fb5140d7-d899-42c4-bb43-2514bb88f7ef",
   "metadata": {},
   "source": [
    "### 최근접 분류"
   ]
  },
  {
   "cell_type": "markdown",
   "id": "529342cb-2675-42bb-953f-566f99870331",
   "metadata": {},
   "source": [
    "#### 최근접 분류 하이퍼파라미터 최적화\n",
    "- GridSearhCV 사용"
   ]
  },
  {
   "cell_type": "code",
   "execution_count": 18,
   "id": "79ef964e-331c-498b-a70a-33c6974b1ccc",
   "metadata": {
    "execution": {
     "iopub.execute_input": "2022-11-08T17:01:22.548559Z",
     "iopub.status.busy": "2022-11-08T17:01:22.548559Z",
     "iopub.status.idle": "2022-11-08T17:01:26.372215Z",
     "shell.execute_reply": "2022-11-08T17:01:26.371903Z",
     "shell.execute_reply.started": "2022-11-08T17:01:22.548559Z"
    },
    "tags": []
   },
   "outputs": [
    {
     "name": "stdout",
     "output_type": "stream",
     "text": [
      "최적 하이퍼 파라미터: {'n_neighbors': 5}\n",
      "최적 예측 정확도: 0.9871\n"
     ]
    },
    {
     "name": "stderr",
     "output_type": "stream",
     "text": [
      "C:\\Anaconda3\\lib\\site-packages\\sklearn\\neighbors\\_classification.py:198: DataConversionWarning: A column-vector y was passed when a 1d array was expected. Please change the shape of y to (n_samples,), for example using ravel().\n",
      "  return self._fit(X, y)\n"
     ]
    }
   ],
   "source": [
    "X_train, X_test, y_train, y_test = train_test_split(\n",
    "    wine[['volatile acidity', 'citric acid', 'residual sugar',\n",
    "          'chlorides', 'total sulfur dioxide', 'pH',\n",
    "          'sulphates', 'alcohol']], wine.iloc[:, -1:], random_state=0)\n",
    "\n",
    "params = {\n",
    "    'n_neighbors': (2, 3, 4, 5, 6, 7, 8)\n",
    "}\n",
    "knc_run = KNeighborsClassifier(n_jobs=-1)\n",
    "grid_cv = GridSearchCV(knc_run, param_grid=params, cv=2, n_jobs=-1)\n",
    "grid_cv.fit(X_train, y_train)\n",
    " \n",
    "print('최적 하이퍼 파라미터:', grid_cv.best_params_)\n",
    "print('최적 예측 정확도: {0:.4f}'.format(grid_cv.best_score_))"
   ]
  },
  {
   "cell_type": "markdown",
   "id": "aff1b982-e460-47c0-9609-16c9a821a644",
   "metadata": {},
   "source": [
    "#### 모델 학습후 점수 출력"
   ]
  },
  {
   "cell_type": "code",
   "execution_count": 19,
   "id": "3909958d-cd26-4cbb-8bd1-c351ea20ada0",
   "metadata": {
    "execution": {
     "iopub.execute_input": "2022-11-08T17:01:38.363416Z",
     "iopub.status.busy": "2022-11-08T17:01:38.363416Z",
     "iopub.status.idle": "2022-11-08T17:01:40.494796Z",
     "shell.execute_reply": "2022-11-08T17:01:40.494796Z",
     "shell.execute_reply.started": "2022-11-08T17:01:38.363416Z"
    },
    "tags": []
   },
   "outputs": [
    {
     "name": "stdout",
     "output_type": "stream",
     "text": [
      "0.9910713704994423 0.9887099457694941\n"
     ]
    }
   ],
   "source": [
    "knc = KNeighborsClassifier(n_neighbors=5, n_jobs=-1)\n",
    "scores = cross_validate(knc, X_train, y_train,\n",
    "                        return_train_score=True, n_jobs=-1)\n",
    "\n",
    "print(np.mean(scores['train_score']), np.mean(scores['test_score']))"
   ]
  },
  {
   "cell_type": "markdown",
   "id": "426d3936-1781-4625-b5c3-e1ff02aa8dd4",
   "metadata": {},
   "source": [
    "### 최근접 회귀"
   ]
  },
  {
   "cell_type": "markdown",
   "id": "312e38c2-a961-4159-9100-50a4a7d0b445",
   "metadata": {},
   "source": [
    "#### 최근접 회귀 하이퍼파라미터 최적화"
   ]
  },
  {
   "cell_type": "code",
   "execution_count": 20,
   "id": "7daacd85-89b0-46d8-a4d0-6650fb037f65",
   "metadata": {
    "execution": {
     "iopub.execute_input": "2022-11-08T17:01:44.201751Z",
     "iopub.status.busy": "2022-11-08T17:01:44.201751Z",
     "iopub.status.idle": "2022-11-08T17:01:44.716155Z",
     "shell.execute_reply": "2022-11-08T17:01:44.716155Z",
     "shell.execute_reply.started": "2022-11-08T17:01:44.201751Z"
    },
    "tags": []
   },
   "outputs": [
    {
     "name": "stdout",
     "output_type": "stream",
     "text": [
      "최적 하이퍼 파라미터: {'n_neighbors': 2}\n",
      "최적 예측 정확도: 0.9433\n"
     ]
    }
   ],
   "source": [
    "X_train, X_test, y_train, y_test = train_test_split(\n",
    "    wine[['volatile acidity', 'citric acid', 'residual sugar',\n",
    "          'chlorides', 'total sulfur dioxide', 'pH',\n",
    "          'sulphates', 'alcohol']], wine.iloc[:, -1:], random_state=0)\n",
    "\n",
    "params = {\n",
    "    'n_neighbors': (2, 3, 4, 5, 6, 7, 8)\n",
    "}\n",
    "knr_run = KNeighborsRegressor(n_jobs=-1)\n",
    "grid_cv = GridSearchCV(knr_run, param_grid=params, cv=2, n_jobs=-1)\n",
    "grid_cv.fit(X_train, y_train)\n",
    " \n",
    "print('최적 하이퍼 파라미터:', grid_cv.best_params_)\n",
    "print('최적 예측 정확도: {0:.4f}'.format(grid_cv.best_score_))"
   ]
  },
  {
   "cell_type": "markdown",
   "id": "90369a90-5de0-4ee9-96bc-c7795e3fd591",
   "metadata": {},
   "source": [
    "#### 모델 학습후 점수 출력"
   ]
  },
  {
   "cell_type": "code",
   "execution_count": 27,
   "id": "e23ad032-0c57-4830-b5b8-8b1f110bbf81",
   "metadata": {
    "execution": {
     "iopub.execute_input": "2022-11-08T17:02:13.078551Z",
     "iopub.status.busy": "2022-11-08T17:02:13.078551Z",
     "iopub.status.idle": "2022-11-08T17:02:13.409315Z",
     "shell.execute_reply": "2022-11-08T17:02:13.409315Z",
     "shell.execute_reply.started": "2022-11-08T17:02:13.078551Z"
    },
    "tags": []
   },
   "outputs": [
    {
     "name": "stdout",
     "output_type": "stream",
     "text": [
      "0.982196971095795 0.9483231840221326\n"
     ]
    }
   ],
   "source": [
    "knr = KNeighborsRegressor(n_neighbors=2, n_jobs=-1)\n",
    "scores = cross_validate(knr, X_train, y_train,\n",
    "                        return_train_score=True, n_jobs=-1)\n",
    "\n",
    "print(np.mean(scores['train_score']), np.mean(scores['test_score']))"
   ]
  },
  {
   "cell_type": "markdown",
   "id": "acc2de93-6b44-4835-8980-27ea162570a5",
   "metadata": {},
   "source": [
    "## 선형 회귀"
   ]
  },
  {
   "cell_type": "markdown",
   "id": "0d2465df-60cb-4daa-80a4-1842f4a1fc0a",
   "metadata": {},
   "source": [
    "### 모델 학습 후 점수 출력"
   ]
  },
  {
   "cell_type": "code",
   "execution_count": 28,
   "id": "133160cd-39f9-457a-9704-3031804c12aa",
   "metadata": {
    "execution": {
     "iopub.execute_input": "2022-11-08T17:02:17.329066Z",
     "iopub.status.busy": "2022-11-08T17:02:17.329066Z",
     "iopub.status.idle": "2022-11-08T17:02:17.421093Z",
     "shell.execute_reply": "2022-11-08T17:02:17.421093Z",
     "shell.execute_reply.started": "2022-11-08T17:02:17.329066Z"
    },
    "tags": []
   },
   "outputs": [
    {
     "name": "stdout",
     "output_type": "stream",
     "text": [
      "0.7629837260644475 0.7610272301076513\n"
     ]
    }
   ],
   "source": [
    "lr = LinearRegression()\n",
    "scores = cross_validate(lr, X_train, y_train,\n",
    "                       return_train_score=True, n_jobs=-1)\n",
    "\n",
    "print(np.mean(scores['train_score']), np.mean(scores['test_score']))"
   ]
  },
  {
   "cell_type": "markdown",
   "id": "d7ebbd9d-d0dc-4df6-8b4d-bc5ed62fc1fe",
   "metadata": {},
   "source": [
    "### 사이킷런 변환기"
   ]
  },
  {
   "cell_type": "code",
   "execution_count": 29,
   "id": "4161719b-252c-49af-855f-ba1d5c47d7e2",
   "metadata": {
    "execution": {
     "iopub.execute_input": "2022-11-08T17:02:20.545399Z",
     "iopub.status.busy": "2022-11-08T17:02:20.545399Z",
     "iopub.status.idle": "2022-11-08T17:02:20.592057Z",
     "shell.execute_reply": "2022-11-08T17:02:20.592057Z",
     "shell.execute_reply.started": "2022-11-08T17:02:20.545399Z"
    },
    "tags": []
   },
   "outputs": [
    {
     "name": "stdout",
     "output_type": "stream",
     "text": [
      "['x0', 'x1', 'x2', 'x3', 'x4', 'x5', 'x6', 'x7', 'x0^2', 'x0 x1', 'x0 x2', 'x0 x3', 'x0 x4', 'x0 x5', 'x0 x6', 'x0 x7', 'x1^2', 'x1 x2', 'x1 x3', 'x1 x4', 'x1 x5', 'x1 x6', 'x1 x7', 'x2^2', 'x2 x3', 'x2 x4', 'x2 x5', 'x2 x6', 'x2 x7', 'x3^2', 'x3 x4', 'x3 x5', 'x3 x6', 'x3 x7', 'x4^2', 'x4 x5', 'x4 x6', 'x4 x7', 'x5^2', 'x5 x6', 'x5 x7', 'x6^2', 'x6 x7', 'x7^2', 'x0^3', 'x0^2 x1', 'x0^2 x2', 'x0^2 x3', 'x0^2 x4', 'x0^2 x5', 'x0^2 x6', 'x0^2 x7', 'x0 x1^2', 'x0 x1 x2', 'x0 x1 x3', 'x0 x1 x4', 'x0 x1 x5', 'x0 x1 x6', 'x0 x1 x7', 'x0 x2^2', 'x0 x2 x3', 'x0 x2 x4', 'x0 x2 x5', 'x0 x2 x6', 'x0 x2 x7', 'x0 x3^2', 'x0 x3 x4', 'x0 x3 x5', 'x0 x3 x6', 'x0 x3 x7', 'x0 x4^2', 'x0 x4 x5', 'x0 x4 x6', 'x0 x4 x7', 'x0 x5^2', 'x0 x5 x6', 'x0 x5 x7', 'x0 x6^2', 'x0 x6 x7', 'x0 x7^2', 'x1^3', 'x1^2 x2', 'x1^2 x3', 'x1^2 x4', 'x1^2 x5', 'x1^2 x6', 'x1^2 x7', 'x1 x2^2', 'x1 x2 x3', 'x1 x2 x4', 'x1 x2 x5', 'x1 x2 x6', 'x1 x2 x7', 'x1 x3^2', 'x1 x3 x4', 'x1 x3 x5', 'x1 x3 x6', 'x1 x3 x7', 'x1 x4^2', 'x1 x4 x5', 'x1 x4 x6', 'x1 x4 x7', 'x1 x5^2', 'x1 x5 x6', 'x1 x5 x7', 'x1 x6^2', 'x1 x6 x7', 'x1 x7^2', 'x2^3', 'x2^2 x3', 'x2^2 x4', 'x2^2 x5', 'x2^2 x6', 'x2^2 x7', 'x2 x3^2', 'x2 x3 x4', 'x2 x3 x5', 'x2 x3 x6', 'x2 x3 x7', 'x2 x4^2', 'x2 x4 x5', 'x2 x4 x6', 'x2 x4 x7', 'x2 x5^2', 'x2 x5 x6', 'x2 x5 x7', 'x2 x6^2', 'x2 x6 x7', 'x2 x7^2', 'x3^3', 'x3^2 x4', 'x3^2 x5', 'x3^2 x6', 'x3^2 x7', 'x3 x4^2', 'x3 x4 x5', 'x3 x4 x6', 'x3 x4 x7', 'x3 x5^2', 'x3 x5 x6', 'x3 x5 x7', 'x3 x6^2', 'x3 x6 x7', 'x3 x7^2', 'x4^3', 'x4^2 x5', 'x4^2 x6', 'x4^2 x7', 'x4 x5^2', 'x4 x5 x6', 'x4 x5 x7', 'x4 x6^2', 'x4 x6 x7', 'x4 x7^2', 'x5^3', 'x5^2 x6', 'x5^2 x7', 'x5 x6^2', 'x5 x6 x7', 'x5 x7^2', 'x6^3', 'x6^2 x7', 'x6 x7^2', 'x7^3']\n"
     ]
    }
   ],
   "source": [
    "poly = PolynomialFeatures(degree=3, include_bias=False)\n",
    "poly.fit(X_train)\n",
    "# 학습 후 학습한 형식에 맞게 훈련, 테스트데이터를 변환\n",
    "train_poly = poly.transform(X_train)\n",
    "test_poly = poly.transform(X_test)\n",
    "# 컬럼명 추출\n",
    "print(poly.get_feature_names())"
   ]
  },
  {
   "cell_type": "markdown",
   "id": "16935006-dc8c-499e-8f22-793a07641c5d",
   "metadata": {},
   "source": [
    "### 최적화된 선 학습"
   ]
  },
  {
   "cell_type": "code",
   "execution_count": 30,
   "id": "6ee465ac-32be-4679-a352-b849ef7ccc34",
   "metadata": {
    "execution": {
     "iopub.execute_input": "2022-11-08T17:02:23.086796Z",
     "iopub.status.busy": "2022-11-08T17:02:23.086796Z",
     "iopub.status.idle": "2022-11-08T17:02:23.527108Z",
     "shell.execute_reply": "2022-11-08T17:02:23.527108Z",
     "shell.execute_reply.started": "2022-11-08T17:02:23.086796Z"
    },
    "tags": []
   },
   "outputs": [
    {
     "data": {
      "text/plain": [
       "LinearRegression()"
      ]
     },
     "execution_count": 30,
     "metadata": {},
     "output_type": "execute_result"
    }
   ],
   "source": [
    "lr.fit(train_poly, y_train)"
   ]
  },
  {
   "cell_type": "markdown",
   "id": "eaefea85-ec59-4df4-9251-6ba5d9d45677",
   "metadata": {},
   "source": [
    "### 성능 평가"
   ]
  },
  {
   "cell_type": "code",
   "execution_count": 62,
   "id": "62ec6ec5-9a2b-4b88-8700-c8356c4991e0",
   "metadata": {
    "execution": {
     "iopub.execute_input": "2022-11-08T17:22:32.417021Z",
     "iopub.status.busy": "2022-11-08T17:22:32.417021Z",
     "iopub.status.idle": "2022-11-08T17:22:32.457357Z",
     "shell.execute_reply": "2022-11-08T17:22:32.457357Z",
     "shell.execute_reply.started": "2022-11-08T17:22:32.417021Z"
    },
    "tags": []
   },
   "outputs": [
    {
     "name": "stdout",
     "output_type": "stream",
     "text": [
      "Train MSE : 0.0165\n",
      "Train RMSE : 0.1284\n",
      "Train score : 0.9123\n",
      "Test MSE : 0.0203\n",
      "Test RMSE : 0.1425\n",
      "Test score : 0.8859\n"
     ]
    }
   ],
   "source": [
    "y_train_pred = lr.predict(train_poly)\n",
    "y_test_pred = lr.predict(test_poly)\n",
    "\n",
    "# 훈련 데이터의 MSE, RMSE, score\n",
    "train_mse = mean_squared_error(y_train, y_train_pred)\n",
    "print(\"Train MSE : %.4f\" % train_mse)\n",
    "print('Train RMSE : %.4f' % np.sqrt(train_mse))\n",
    "print('Train score : %.4f' % lr.score(train_poly, y_train))\n",
    "\n",
    "# 테스트 데이터의 MSE, RMSE, score\n",
    "test_mse = mean_squared_error(y_test, y_test_pred)\n",
    "print(\"Test MSE : %.4f\" % test_mse)\n",
    "print('Test RMSE : %.4f' % np.sqrt(test_mse))\n",
    "print('Test score : %.4f' % lr.score(test_poly, y_test))"
   ]
  },
  {
   "cell_type": "markdown",
   "id": "58167a94-2604-42a4-89be-e3a946606ce8",
   "metadata": {},
   "source": [
    "### 선형 회귀 하이퍼파라미터 최적화\n",
    "- 선형 회귀는 모듈의 복잡도만 수정한 뒤 튜닝을 하지않고 성능평가를 진행 후 튜닝을 진행한다. "
   ]
  },
  {
   "cell_type": "markdown",
   "id": "d853f2e9-b8b9-4f5c-b9a9-37abe621d4d2",
   "metadata": {},
   "source": [
    "### 성능평가 후 하이퍼파라미터 튜닝\n",
    "- 과적합되어있기 때문에 릿지, 라쏘 회귀를 사용해서 편차를 줄인다."
   ]
  },
  {
   "cell_type": "markdown",
   "id": "6492ae8a-dd41-4350-80da-87f423ede48c",
   "metadata": {},
   "source": [
    "#### 릿지 회귀"
   ]
  },
  {
   "cell_type": "markdown",
   "id": "ed079bbe-0db4-4062-840a-60590dfd09f1",
   "metadata": {},
   "source": [
    "##### 최적 alpha 값 찾기"
   ]
  },
  {
   "cell_type": "code",
   "execution_count": 36,
   "id": "cd9f9919-8011-4cc7-9394-91c40e497308",
   "metadata": {
    "execution": {
     "iopub.execute_input": "2022-11-08T17:05:15.537132Z",
     "iopub.status.busy": "2022-11-08T17:05:15.537132Z",
     "iopub.status.idle": "2022-11-08T17:05:15.941584Z",
     "shell.execute_reply": "2022-11-08T17:05:15.940736Z",
     "shell.execute_reply.started": "2022-11-08T17:05:15.537132Z"
    },
    "tags": []
   },
   "outputs": [
    {
     "data": {
      "image/png": "[encoded data removed]",
      "text/plain": [
       "<Figure size 640x480 with 1 Axes>"
      ]
     },
     "metadata": {},
     "output_type": "display_data"
    }
   ],
   "source": [
    "# 훈련세트와 테스트세트의 점수가 가장 가까운 지점이 최적의 alpha값이 된다.\n",
    "train_score = []\n",
    "test_score = []\n",
    "\n",
    "# 알파 값의 범주 설정\n",
    "alpha_list = [0.0001, 0.001, 0.01, 0.1, 1, 10, 100, 1000]\n",
    "\n",
    "for alpha in alpha_list:\n",
    "    # ridge model\n",
    "    ridge = Ridge(alpha=alpha)\n",
    "    # ridge model\n",
    "    ridge.fit(train_poly, y_train)\n",
    "    # R^2 score(결정계수)\n",
    "    train_score.append(ridge.score(train_poly, y_train))\n",
    "    test_score.append(ridge.score(test_poly, y_test))\n",
    "\n",
    "plt.plot(np.log10(alpha_list), train_score)\n",
    "plt.plot(np.log10(alpha_list), test_score)\n",
    "plt.xlabel('alpha')\n",
    "plt.ylabel('R^2(결정계수)')\n",
    "plt.show()\n",
    "# alpha = 0.001 or 0.01"
   ]
  },
  {
   "cell_type": "markdown",
   "id": "1c803fe5-7ccf-45e4-ac10-e5b0080a99bb",
   "metadata": {},
   "source": [
    "##### 릿지회귀 결과"
   ]
  },
  {
   "cell_type": "code",
   "execution_count": 52,
   "id": "cffdb3d6-7a67-4ec9-979b-fbf0a8a9946c",
   "metadata": {
    "execution": {
     "iopub.execute_input": "2022-11-08T17:17:39.880724Z",
     "iopub.status.busy": "2022-11-08T17:17:39.880724Z",
     "iopub.status.idle": "2022-11-08T17:17:39.922346Z",
     "shell.execute_reply": "2022-11-08T17:17:39.922061Z",
     "shell.execute_reply.started": "2022-11-08T17:17:39.880724Z"
    },
    "tags": []
   },
   "outputs": [
    {
     "name": "stdout",
     "output_type": "stream",
     "text": [
      "훈련 데이터 릿지 회귀 정확도 : 0.8974\n",
      "테스트 데이터 릿지 회귀 정확도 : 0.8870\n",
      "두 정확도의 편차 : 0.0104\n"
     ]
    }
   ],
   "source": [
    "ridge = Ridge(alpha=0.01)\n",
    "ridge.fit(train_poly, y_train)\n",
    "print('훈련 데이터 릿지 회귀 정확도 : {:.4f}'.format(ridge.score(train_poly, y_train)))\n",
    "print('테스트 데이터 릿지 회귀 정확도 : {:.4f}'.format(ridge.score(test_poly, y_test)))\n",
    "print('두 정확도의 편차 : {:.4f}'.format(\n",
    "    (ridge.score(train_poly, y_train)-ridge.score(test_poly, y_test))))"
   ]
  },
  {
   "cell_type": "code",
   "execution_count": 53,
   "id": "8f2007c6-faa8-4fe7-9027-e5a7f767c5fa",
   "metadata": {
    "execution": {
     "iopub.execute_input": "2022-11-08T17:17:40.314651Z",
     "iopub.status.busy": "2022-11-08T17:17:40.314651Z",
     "iopub.status.idle": "2022-11-08T17:17:40.368779Z",
     "shell.execute_reply": "2022-11-08T17:17:40.368779Z",
     "shell.execute_reply.started": "2022-11-08T17:17:40.314651Z"
    },
    "tags": []
   },
   "outputs": [
    {
     "name": "stdout",
     "output_type": "stream",
     "text": [
      "훈련 데이터 릿지 회귀 정확도 : 0.9091\n",
      "테스트 데이터 릿지 회귀 정확도 : 0.8946\n",
      "두 정확도의 편차 : 0.0145\n"
     ]
    }
   ],
   "source": [
    "ridge = Ridge(alpha=0.001)\n",
    "ridge.fit(train_poly, y_train)\n",
    "print('훈련 데이터 릿지 회귀 정확도 : {:.4f}'.format(ridge.score(train_poly, y_train)))\n",
    "print('테스트 데이터 릿지 회귀 정확도 : {:.4f}'.format(ridge.score(test_poly, y_test)))\n",
    "print('두 정확도의 편차 : {:.4f}'.format(\n",
    "    (ridge.score(train_poly, y_train)-ridge.score(test_poly, y_test))))"
   ]
  },
  {
   "cell_type": "markdown",
   "id": "f5efe323-a03b-4c80-814f-3895546cd711",
   "metadata": {},
   "source": [
    "##### 과대적합 거의 해결"
   ]
  },
  {
   "cell_type": "markdown",
   "id": "d3d13d68-c0ef-486f-b3d0-66fa9232b500",
   "metadata": {},
   "source": [
    "##### 라쏘 회귀"
   ]
  },
  {
   "cell_type": "markdown",
   "id": "113deeb7-545b-491f-91ac-a7370222df2d",
   "metadata": {},
   "source": [
    "##### 최적 alpha 값 찾기"
   ]
  },
  {
   "cell_type": "code",
   "execution_count": 51,
   "id": "7e823642-1fcc-4c58-aca3-5bb253a31ec6",
   "metadata": {
    "execution": {
     "iopub.execute_input": "2022-11-08T17:15:32.968332Z",
     "iopub.status.busy": "2022-11-08T17:15:32.968332Z",
     "iopub.status.idle": "2022-11-08T17:15:38.567453Z",
     "shell.execute_reply": "2022-11-08T17:15:38.565782Z",
     "shell.execute_reply.started": "2022-11-08T17:15:32.968332Z"
    },
    "tags": []
   },
   "outputs": [
    {
     "data": {
      "image/png": "[encoded data removed]",
      "text/plain": [
       "<Figure size 640x480 with 1 Axes>"
      ]
     },
     "metadata": {},
     "output_type": "display_data"
    }
   ],
   "source": [
    "# 훈련세트와 테스트세트의 점수가 가장 가까운 지점이 최적의 alpha값이 된다.\n",
    "train_score = []\n",
    "test_score = []\n",
    "\n",
    "lasso = Lasso()\n",
    "\n",
    "alpha_list = [0.0001, 0.001, 0.01, 0.1, 1, 10, 100, 1000]\n",
    "for alpha in alpha_list:\n",
    "    # lasso model\n",
    "    lasso = Lasso(alpha=alpha)\n",
    "    # lasso model\n",
    "    lasso.fit(train_poly, y_train)\n",
    "    # R^2 score(결정계수)\n",
    "    train_score.append(lasso.score(train_poly, y_train))\n",
    "    test_score.append(lasso.score(test_poly, y_test))\n",
    "plt.plot(np.log10(alpha_list), train_score)\n",
    "plt.plot(np.log10(alpha_list), test_score)\n",
    "plt.xlabel('alpha')\n",
    "plt.ylabel('R^2(결정계수)')\n",
    "plt.show()\n",
    "# alpha = 0.0001 or 0.001"
   ]
  },
  {
   "cell_type": "code",
   "execution_count": 59,
   "id": "387b4090-912b-450b-becb-dd4e173a03db",
   "metadata": {
    "execution": {
     "iopub.execute_input": "2022-11-08T17:19:04.405569Z",
     "iopub.status.busy": "2022-11-08T17:19:04.405569Z",
     "iopub.status.idle": "2022-11-08T17:19:06.089883Z",
     "shell.execute_reply": "2022-11-08T17:19:06.089041Z",
     "shell.execute_reply.started": "2022-11-08T17:19:04.405569Z"
    },
    "tags": []
   },
   "outputs": [
    {
     "name": "stdout",
     "output_type": "stream",
     "text": [
      "훈련 데이터 라쏘 회귀 정확도 : 0.7709\n",
      "테스트 데이터 라쏘 회귀 정확도 : 0.7522\n",
      "두 정확도의 편차 : 0.0145\n"
     ]
    }
   ],
   "source": [
    "lasso = Lasso(alpha=0.001)\n",
    "lasso.fit(train_poly, y_train)\n",
    "print('훈련 데이터 라쏘 회귀 정확도 : {:.4f}'.format(lasso.score(train_poly, y_train)))\n",
    "print('테스트 데이터 라쏘 회귀 정확도 : {:.4f}'.format(lasso.score(test_poly, y_test)))\n",
    "print('두 정확도의 편차 : {:.4f}'.format(\n",
    "    (ridge.score(train_poly, y_train)-ridge.score(test_poly, y_test))))"
   ]
  },
  {
   "cell_type": "code",
   "execution_count": 60,
   "id": "a2ad3180-890a-48fa-92d9-b70ccb496258",
   "metadata": {
    "execution": {
     "iopub.execute_input": "2022-11-08T17:19:06.092343Z",
     "iopub.status.busy": "2022-11-08T17:19:06.090833Z",
     "iopub.status.idle": "2022-11-08T17:19:09.568214Z",
     "shell.execute_reply": "2022-11-08T17:19:09.567067Z",
     "shell.execute_reply.started": "2022-11-08T17:19:06.092343Z"
    },
    "tags": []
   },
   "outputs": [
    {
     "name": "stdout",
     "output_type": "stream",
     "text": [
      "훈련 데이터 라쏘 회귀 정확도 : 0.8465\n",
      "테스트 데이터 라쏘 회귀 정확도 : 0.8274\n",
      "두 정확도의 편차 : 0.0145\n"
     ]
    }
   ],
   "source": [
    "lasso = Lasso(alpha=0.0001)\n",
    "lasso.fit(train_poly, y_train)\n",
    "print('훈련 데이터 라쏘 회귀 정확도 : {:.4f}'.format(lasso.score(train_poly, y_train)))\n",
    "print('테스트 데이터 라쏘 회귀 정확도 : {:.4f}'.format(lasso.score(test_poly, y_test)))\n",
    "print('두 정확도의 편차 : {:.4f}'.format(\n",
    "    (ridge.score(train_poly, y_train)-ridge.score(test_poly, y_test))))"
   ]
  },
  {
   "cell_type": "markdown",
   "id": "fae3dbd1-568f-498e-a176-ef8dd96247a4",
   "metadata": {},
   "source": [
    "##### 라쏘 회귀의 단점 확인\n",
    "- 편차는 줄었지만 라쏘 회귀의 특성으로 인해 정확도가 내려간걸 확인할 수 있다."
   ]
  },
  {
   "cell_type": "markdown",
   "id": "54e85a47-8d9f-47f6-84b4-13cd528fd059",
   "metadata": {
    "tags": []
   },
   "source": [
    "## 랜덤포레스트"
   ]
  },
  {
   "cell_type": "markdown",
   "id": "4579d620-2cb0-4083-be6f-3ad08c62f971",
   "metadata": {},
   "source": [
    "### 랜덤포레스트 분류"
   ]
  },
  {
   "cell_type": "markdown",
   "id": "4750f739-06f9-4331-ae0b-7c8be164de84",
   "metadata": {},
   "source": [
    "#### 랜덤포레스트 분류 하이퍼파라미터 최적화\n",
    "- GridSearchCV 사용"
   ]
  },
  {
   "cell_type": "code",
   "execution_count": 295,
   "id": "044256f2-3c0c-40c9-b702-008777e59647",
   "metadata": {
    "execution": {
     "iopub.execute_input": "2022-11-08T06:40:21.938129Z",
     "iopub.status.busy": "2022-11-08T06:40:21.938129Z",
     "iopub.status.idle": "2022-11-08T06:40:30.428277Z",
     "shell.execute_reply": "2022-11-08T06:40:30.427709Z",
     "shell.execute_reply.started": "2022-11-08T06:40:21.938129Z"
    },
    "tags": []
   },
   "outputs": [
    {
     "name": "stderr",
     "output_type": "stream",
     "text": [
      "C:\\Anaconda3\\lib\\site-packages\\sklearn\\model_selection\\_search.py:926: DataConversionWarning: A column-vector y was passed when a 1d array was expected. Please change the shape of y to (n_samples,), for example using ravel().\n",
      "  self.best_estimator_.fit(X, y, **fit_params)\n"
     ]
    },
    {
     "name": "stdout",
     "output_type": "stream",
     "text": [
      "최적 하이퍼 파라미터: {'max_depth': 8, 'min_samples_leaf': 8, 'min_samples_split': 12, 'n_estimators': 300}\n",
      "최적 예측 정확도: 0.9899\n"
     ]
    }
   ],
   "source": [
    "X_train, X_test, y_train, y_test = train_test_split(\n",
    "    wine[['volatile acidity', 'citric acid', 'residual sugar',\n",
    "          'chlorides', 'total sulfur dioxide', 'pH',\n",
    "          'sulphates', 'alcohol']], wine.iloc[:, -1:], random_state=0)\n",
    "\n",
    "params = {\n",
    "    'n_estimators': (100, 200, 300),\n",
    "    'max_depth': (5, 8),\n",
    "    'min_samples_leaf': (8, 18),\n",
    "    'min_samples_split': (8, 12, 16)\n",
    "}\n",
    "rf_run = RandomForestClassifier(n_jobs=-1)\n",
    "grid_cv = GridSearchCV(rf_run, param_grid=params, cv=2, n_jobs=-1)\n",
    "grid_cv.fit(X_train, y_train)\n",
    " \n",
    "print('최적 하이퍼 파라미터:', grid_cv.best_params_)\n",
    "print('최적 예측 정확도: {0:.4f}'.format(grid_cv.best_score_))"
   ]
  },
  {
   "cell_type": "markdown",
   "id": "a76bc8fb-d0ce-4b38-a18d-e427c5c1642a",
   "metadata": {},
   "source": [
    "#### 모델 학습 후 점수 출력"
   ]
  },
  {
   "cell_type": "code",
   "execution_count": 298,
   "id": "72ce7da1-b295-4670-b178-c089db4d1257",
   "metadata": {
    "execution": {
     "iopub.execute_input": "2022-11-08T06:44:22.976808Z",
     "iopub.status.busy": "2022-11-08T06:44:22.975808Z",
     "iopub.status.idle": "2022-11-08T06:44:24.175338Z",
     "shell.execute_reply": "2022-11-08T06:44:24.174738Z",
     "shell.execute_reply.started": "2022-11-08T06:44:22.976808Z"
    },
    "tags": []
   },
   "outputs": [
    {
     "name": "stdout",
     "output_type": "stream",
     "text": [
      "0.993534487922917 0.9901481598483652\n"
     ]
    }
   ],
   "source": [
    "rf = RandomForestClassifier(n_estimators=300, max_depth=8, min_samples_leaf=8, min_samples_split=12, n_jobs=-1)\n",
    "scores = cross_validate(rf, X_train, y_train,\n",
    "                        return_train_score=True, n_jobs=-1)\n",
    "\n",
    "print(np.mean(scores['train_score']), np.mean(scores['test_score']))"
   ]
  },
  {
   "cell_type": "markdown",
   "id": "89d370ec-7267-4d44-97b9-a4fbacada8d3",
   "metadata": {},
   "source": [
    "#### 모델 의존도 확인"
   ]
  },
  {
   "cell_type": "code",
   "execution_count": 269,
   "id": "19b9572e-4075-4ad6-a64e-fb330b2a4379",
   "metadata": {
    "execution": {
     "iopub.execute_input": "2022-11-08T06:04:45.710236Z",
     "iopub.status.busy": "2022-11-08T06:04:45.710236Z",
     "iopub.status.idle": "2022-11-08T06:04:46.035560Z",
     "shell.execute_reply": "2022-11-08T06:04:46.034488Z",
     "shell.execute_reply.started": "2022-11-08T06:04:45.710236Z"
    },
    "tags": []
   },
   "outputs": [
    {
     "name": "stdout",
     "output_type": "stream",
     "text": [
      "[0.15981516 0.03700387 0.07236513 0.31905406 0.28705568 0.02602718\n",
      " 0.08196303 0.01671591]\n"
     ]
    }
   ],
   "source": [
    "rf.fit(X_train, y_train.values.ravel())\n",
    "\n",
    "print(rf.feature_importances_)"
   ]
  },
  {
   "cell_type": "markdown",
   "id": "3bf1d9b9-2e10-47ea-9dd2-9e4bba059fcc",
   "metadata": {},
   "source": [
    "#### OOB 확인"
   ]
  },
  {
   "cell_type": "code",
   "execution_count": 299,
   "id": "e822dc9c-4fef-4563-95c3-4933eaa409b8",
   "metadata": {
    "execution": {
     "iopub.execute_input": "2022-11-08T06:46:46.935461Z",
     "iopub.status.busy": "2022-11-08T06:46:46.935461Z",
     "iopub.status.idle": "2022-11-08T06:46:47.340776Z",
     "shell.execute_reply": "2022-11-08T06:46:47.340179Z",
     "shell.execute_reply.started": "2022-11-08T06:46:46.935461Z"
    },
    "tags": []
   },
   "outputs": [
    {
     "name": "stdout",
     "output_type": "stream",
     "text": [
      "0.9924055829228243\n"
     ]
    }
   ],
   "source": [
    "# OOB(Out Of Bag) : 부트스트랩 샘플에 포함되지않고 남는 샘플\n",
    "rf = RandomForestClassifier(oob_score=True, n_jobs=-1, random_state=42)\n",
    "rf.fit(X_train, y_train.values.ravel())\n",
    "\n",
    "print(rf.oob_score_)"
   ]
  },
  {
   "cell_type": "markdown",
   "id": "52c9d288-e748-4452-9538-4d6475c22d04",
   "metadata": {},
   "source": [
    "### 랜덤포레스트 회귀"
   ]
  },
  {
   "cell_type": "markdown",
   "id": "171dbced-c715-4451-9e04-a07cc98de700",
   "metadata": {},
   "source": [
    "#### 랜덤포레스트 회귀 하이퍼파라미터 최적화\n",
    "- GridSearchCV 사용"
   ]
  },
  {
   "cell_type": "code",
   "execution_count": 302,
   "id": "e7bf7ebc-9453-41a1-a39b-6377902796ce",
   "metadata": {
    "execution": {
     "iopub.execute_input": "2022-11-08T06:54:11.374960Z",
     "iopub.status.busy": "2022-11-08T06:54:11.374960Z",
     "iopub.status.idle": "2022-11-08T06:54:23.359597Z",
     "shell.execute_reply": "2022-11-08T06:54:23.358603Z",
     "shell.execute_reply.started": "2022-11-08T06:54:11.374960Z"
    },
    "tags": []
   },
   "outputs": [
    {
     "name": "stderr",
     "output_type": "stream",
     "text": [
      "C:\\Anaconda3\\lib\\site-packages\\sklearn\\model_selection\\_search.py:926: DataConversionWarning: A column-vector y was passed when a 1d array was expected. Please change the shape of y to (n_samples,), for example using ravel().\n",
      "  self.best_estimator_.fit(X, y, **fit_params)\n"
     ]
    },
    {
     "name": "stdout",
     "output_type": "stream",
     "text": [
      "최적 하이퍼 파라미터: {'max_depth': 8, 'min_samples_leaf': 8, 'min_samples_split': 16, 'n_estimators': 300}\n",
      "최적 예측 정확도: 0.9164\n"
     ]
    }
   ],
   "source": [
    "X_train, X_test, y_train, y_test = train_test_split(\n",
    "    wine[['volatile acidity', 'citric acid', 'residual sugar',\n",
    "          'chlorides', 'total sulfur dioxide', 'pH',\n",
    "          'sulphates', 'alcohol']], wine.iloc[:, -1:], random_state=0)\n",
    "\n",
    "params = {\n",
    "    'n_estimators':(100, 200, 300),\n",
    "    'max_depth' : (5, 8),\n",
    "    'min_samples_leaf' : (8, 18),\n",
    "    'min_samples_split' : (8, 12, 16)\n",
    "}\n",
    "rf_run = RandomForestRegressor(n_jobs=-1)\n",
    "grid_cv = GridSearchCV(rf_run, param_grid=params, cv=2, n_jobs=-1)\n",
    "grid_cv.fit(X_train, y_train)\n",
    " \n",
    "print('최적 하이퍼 파라미터:', grid_cv.best_params_)\n",
    "print('최적 예측 정확도: {0:.4f}'.format(grid_cv.best_score_))"
   ]
  },
  {
   "cell_type": "markdown",
   "id": "7f7ed7a4-1c22-4094-a374-9eda1d344d88",
   "metadata": {},
   "source": [
    "#### 모델 학습 후 점수 출력"
   ]
  },
  {
   "cell_type": "code",
   "execution_count": 304,
   "id": "f908b7ff-40bb-4403-a2ed-b4d689119e9b",
   "metadata": {
    "execution": {
     "iopub.execute_input": "2022-11-08T06:54:45.021811Z",
     "iopub.status.busy": "2022-11-08T06:54:45.021811Z",
     "iopub.status.idle": "2022-11-08T06:54:47.192005Z",
     "shell.execute_reply": "2022-11-08T06:54:47.192005Z",
     "shell.execute_reply.started": "2022-11-08T06:54:45.021811Z"
    },
    "tags": []
   },
   "outputs": [
    {
     "name": "stdout",
     "output_type": "stream",
     "text": [
      "0.9532424538008055 0.9294316609465932\n"
     ]
    }
   ],
   "source": [
    "rf = RandomForestRegressor(n_estimators=300, max_depth=8, min_samples_leaf=8, min_samples_split=16, n_jobs=-1)\n",
    "scores = cross_validate(rf, X_train, y_train,\n",
    "                        return_train_score=True, n_jobs=-1)\n",
    "\n",
    "print(np.mean(scores['train_score']), np.mean(scores['test_score']))"
   ]
  },
  {
   "cell_type": "markdown",
   "id": "5da8c8f7-0c54-4d49-8444-fed7bd8c4819",
   "metadata": {},
   "source": [
    "#### 모델 의존도 확인"
   ]
  },
  {
   "cell_type": "code",
   "execution_count": 305,
   "id": "8a811776-c68f-48de-b232-c4cc8673bbc1",
   "metadata": {
    "execution": {
     "iopub.execute_input": "2022-11-08T06:55:00.531467Z",
     "iopub.status.busy": "2022-11-08T06:55:00.530864Z",
     "iopub.status.idle": "2022-11-08T06:55:01.325420Z",
     "shell.execute_reply": "2022-11-08T06:55:01.325420Z",
     "shell.execute_reply.started": "2022-11-08T06:55:00.531467Z"
    },
    "tags": []
   },
   "outputs": [
    {
     "name": "stdout",
     "output_type": "stream",
     "text": [
      "[0.03905606 0.00103044 0.00361038 0.50852985 0.41849912 0.01028899\n",
      " 0.01637551 0.00260965]\n"
     ]
    }
   ],
   "source": [
    "rf.fit(X_train, y_train.values.ravel())\n",
    "\n",
    "print(rf.feature_importances_)"
   ]
  },
  {
   "cell_type": "markdown",
   "id": "bb51ad11-3df2-4119-bfac-40f67bdef019",
   "metadata": {
    "tags": []
   },
   "source": [
    "#### OOB 확인"
   ]
  },
  {
   "cell_type": "code",
   "execution_count": 306,
   "id": "a3a7c850-50d0-4767-843c-789778c2873d",
   "metadata": {
    "execution": {
     "iopub.execute_input": "2022-11-08T06:55:18.980317Z",
     "iopub.status.busy": "2022-11-08T06:55:18.979324Z",
     "iopub.status.idle": "2022-11-08T06:55:19.420499Z",
     "shell.execute_reply": "2022-11-08T06:55:19.419594Z",
     "shell.execute_reply.started": "2022-11-08T06:55:18.979324Z"
    },
    "tags": []
   },
   "outputs": [
    {
     "name": "stdout",
     "output_type": "stream",
     "text": [
      "0.9507974143437167\n"
     ]
    }
   ],
   "source": [
    "# OOB(Out Of Bag) : 부트스트랩 샘플에 포함되지않고 남는 샘플\n",
    "rf = RandomForestRegressor(oob_score=True, n_jobs=-1, random_state=42)\n",
    "rf.fit(X_train, y_train.values.ravel())\n",
    "\n",
    "print(rf.oob_score_)"
   ]
  },
  {
   "cell_type": "markdown",
   "id": "d9763dd3-d313-471a-a83e-a5aa9d5b16d2",
   "metadata": {},
   "source": [
    "## 앙상블"
   ]
  },
  {
   "cell_type": "markdown",
   "id": "b6d7cbce-71d4-438c-879f-57ffdb71504b",
   "metadata": {},
   "source": [
    "### 사용할 분류 알고리즘\n",
    "- 로지스틱 회귀, 최근접 이웃 분류, 랜덤 포레스트 분류"
   ]
  },
  {
   "cell_type": "code",
   "execution_count": 69,
   "id": "910e95a7-4798-4f4a-97ed-86e896f48ef7",
   "metadata": {
    "execution": {
     "iopub.execute_input": "2022-11-08T17:31:43.210092Z",
     "iopub.status.busy": "2022-11-08T17:31:43.210092Z",
     "iopub.status.idle": "2022-11-08T17:31:43.219281Z",
     "shell.execute_reply": "2022-11-08T17:31:43.218128Z",
     "shell.execute_reply.started": "2022-11-08T17:31:43.210092Z"
    },
    "tags": []
   },
   "outputs": [],
   "source": [
    "LR = LogisticRegression(n_jobs=-1)\n",
    "KNC = KNeighborsClassifier(n_jobs=-1)\n",
    "RFC = RandomForestClassifier(n_jobs=-1)\n",
    "SGD = SGDClassifier(n_jobs=-1)"
   ]
  },
  {
   "cell_type": "markdown",
   "id": "64d404fe-ea7c-494d-9460-fba4c1105b6c",
   "metadata": {},
   "source": [
    "### 보팅 분류기에 사용할 알고리즘 입력\n",
    "- 하드, 소프트 보팅이 있지만 소프트 보팅이 예측 성능이 더 높음"
   ]
  },
  {
   "cell_type": "code",
   "execution_count": 70,
   "id": "5c7779f4-40b6-41aa-9849-98f5b28be72e",
   "metadata": {
    "execution": {
     "iopub.execute_input": "2022-11-08T17:33:39.496681Z",
     "iopub.status.busy": "2022-11-08T17:33:39.496681Z",
     "iopub.status.idle": "2022-11-08T17:33:39.513038Z",
     "shell.execute_reply": "2022-11-08T17:33:39.511882Z",
     "shell.execute_reply.started": "2022-11-08T17:33:39.496681Z"
    },
    "tags": []
   },
   "outputs": [],
   "source": [
    "voting_model = VotingClassifier(estimators=[\n",
    "    ('LogisticRegression', LR), ('KNN', KNC), ('RandomForest', RFC)],\n",
    "                                voting='soft', n_jobs=-1)"
   ]
  },
  {
   "cell_type": "markdown",
   "id": "e23e114b-8972-419b-9459-da0d00c39756",
   "metadata": {},
   "source": [
    "### 보팅 분류기 훈련 후 예측"
   ]
  },
  {
   "cell_type": "code",
   "execution_count": 65,
   "id": "163f97a2-38c2-44bd-aead-acb8d3f6ea5a",
   "metadata": {
    "execution": {
     "iopub.execute_input": "2022-11-08T17:29:58.172605Z",
     "iopub.status.busy": "2022-11-08T17:29:58.172605Z",
     "iopub.status.idle": "2022-11-08T17:30:02.800179Z",
     "shell.execute_reply": "2022-11-08T17:30:02.799031Z",
     "shell.execute_reply.started": "2022-11-08T17:29:58.172605Z"
    },
    "tags": []
   },
   "outputs": [],
   "source": [
    "voting_model.fit(X_train, y_train.values.ravel())\n",
    "pred = voting_model.predict(X_test)"
   ]
  },
  {
   "cell_type": "markdown",
   "id": "29742d9a-a6e4-48ce-8254-11e75b90af52",
   "metadata": {},
   "source": [
    "### 성능 평가"
   ]
  },
  {
   "cell_type": "code",
   "execution_count": 66,
   "id": "f072671e-d30d-422e-9dfe-ad74abe52ad4",
   "metadata": {
    "execution": {
     "iopub.execute_input": "2022-11-08T17:30:06.258962Z",
     "iopub.status.busy": "2022-11-08T17:30:06.258962Z",
     "iopub.status.idle": "2022-11-08T17:30:06.275597Z",
     "shell.execute_reply": "2022-11-08T17:30:06.274532Z",
     "shell.execute_reply.started": "2022-11-08T17:30:06.258962Z"
    },
    "tags": []
   },
   "outputs": [
    {
     "name": "stdout",
     "output_type": "stream",
     "text": [
      "보팅 분류기 정확도 : 0.992\n"
     ]
    }
   ],
   "source": [
    "print('보팅 분류기 정확도 : {:.3f}'.format(accuracy_score(y_test, pred)))"
   ]
  },
  {
   "cell_type": "markdown",
   "id": "d64c81bf-de94-4466-858f-11f2194775a8",
   "metadata": {},
   "source": [
    "### 개별 모델의 학습, 예측, 평가"
   ]
  },
  {
   "cell_type": "code",
   "execution_count": 71,
   "id": "71d6c9a2-dc4c-4f36-ac82-a50cb55597ea",
   "metadata": {
    "execution": {
     "iopub.execute_input": "2022-11-08T17:35:27.797649Z",
     "iopub.status.busy": "2022-11-08T17:35:27.797649Z",
     "iopub.status.idle": "2022-11-08T17:35:30.823456Z",
     "shell.execute_reply": "2022-11-08T17:35:30.822272Z",
     "shell.execute_reply.started": "2022-11-08T17:35:27.797649Z"
    },
    "tags": []
   },
   "outputs": [
    {
     "name": "stdout",
     "output_type": "stream",
     "text": [
      "LogisticRegression 정확도 : 0.978\n",
      "KNeighborsClassifier 정확도 : 0.988\n",
      "RandomForestClassifier 정확도 : 0.996\n"
     ]
    }
   ],
   "source": [
    "classifier = [LR, KNC, RFC]\n",
    "\n",
    "for model in classifier:\n",
    "    model.fit(X_train, y_train.values.ravel())\n",
    "    pred = model.predict(X_test)\n",
    "    model_name = model.__class__.__name__\n",
    "    print('{} 정확도 : {:.3f}'.format(model_name, accuracy_score(y_test, pred)))"
   ]
  },
  {
   "cell_type": "markdown",
   "id": "2e6e039c-c599-4ac1-81f2-b6450ca56239",
   "metadata": {},
   "source": [
    "### 앙상블 사용 후 느낀점\n",
    "- 보팅 분류기를 사용하니 분류 알고리즘밖에 사용할 수 없었다.\n",
    "- 사용할 수 있는 알고리즘의 갯수가 너무 한정적이게 되었다."
   ]
  }
 ],
 "metadata": {
  "kernelspec": {
   "display_name": "Python 3 (ipykernel)",
   "language": "python",
   "name": "python3"
  },
  "language_info": {
   "codemirror_mode": {
    "name": "ipython",
    "version": 3
   },
   "file_extension": ".py",
   "mimetype": "text/x-python",
   "name": "python",
   "nbconvert_exporter": "python",
   "pygments_lexer": "ipython3",
   "version": "3.9.0"
  },
  "toc-autonumbering": false
 },
 "nbformat": 4,
 "nbformat_minor": 5
}
