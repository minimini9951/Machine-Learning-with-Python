{
 "cells": [
  {
   "cell_type": "code",
   "execution_count": 43,
   "id": "fee97553-5eda-41ef-80e4-dc1576331dd4",
   "metadata": {
    "execution": {
     "iopub.execute_input": "2022-11-03T08:31:29.725778Z",
     "iopub.status.busy": "2022-11-03T08:31:29.725778Z",
     "iopub.status.idle": "2022-11-03T08:31:29.745498Z",
     "shell.execute_reply": "2022-11-03T08:31:29.744294Z",
     "shell.execute_reply.started": "2022-11-03T08:31:29.725778Z"
    },
    "tags": []
   },
   "outputs": [],
   "source": [
    "import numpy as np\n",
    "import pandas as pd\n",
    "import matplotlib.pyplot as plt\n",
    "import matplotlib as mpl\n",
    "import matplotlib.font_manager as fm\n",
    "import seaborn as sns\n",
    "import mglearn\n",
    "from sklearn.neighbors import KNeighborsRegressor\n",
    "from sklearn.model_selection import train_test_split, cross_val_score, cross_validate, StratifiedKFold\n",
    "from sklearn.metrics import accuracy_score, mean_squared_error, r2_score\n",
    "from sklearn.datasets import load_breast_cancer, load_boston, load_diabetes\n",
    "import warnings\n",
    "from sklearn.linear_model import LinearRegression, Ridge, Lasso, LogisticRegression\n",
    "from sklearn.tree import DecisionTreeClassifier, plot_tree\n",
    "from sklearn.preprocessing import PolynomialFeatures, StandardScaler, MinMaxScaler\n",
    "from statsmodels.stats.outliers_influence import variance_inflation_factor\n",
    "from patsy import dmatrix\n",
    "\n",
    "warnings.simplefilter(action='ignore', category=FutureWarning)\n",
    "# FutureWarning제거\n",
    "\n",
    "%matplotlib inline\n",
    "\n",
    "# mpl.rcParams['font.family'] = 'D2coding'  # 한글 깨짐 해결\n",
    "plt.rc('font', family='D2coding')"
   ]
  },
  {
   "cell_type": "markdown",
   "id": "2a856a72-ceff-4b69-aa4e-edfb8a442d54",
   "metadata": {},
   "source": [
    "# 교차검증과 그리드 서치"
   ]
  },
  {
   "cell_type": "code",
   "execution_count": 2,
   "id": "b3eaf57c-1b52-407d-a868-1f094cd64b9a",
   "metadata": {
    "execution": {
     "iopub.execute_input": "2022-11-03T08:13:02.737296Z",
     "iopub.status.busy": "2022-11-03T08:13:02.737296Z",
     "iopub.status.idle": "2022-11-03T08:13:02.930037Z",
     "shell.execute_reply": "2022-11-03T08:13:02.930037Z",
     "shell.execute_reply.started": "2022-11-03T08:13:02.737296Z"
    }
   },
   "outputs": [],
   "source": [
    "wine = pd.read_csv('https://raw.githubusercontent.com/rickiepark/hg-mldl/master/wine.csv')"
   ]
  },
  {
   "cell_type": "code",
   "execution_count": 3,
   "id": "58bfd57f-6870-4f17-9a39-60ca83d21936",
   "metadata": {
    "execution": {
     "iopub.execute_input": "2022-11-03T08:13:10.968308Z",
     "iopub.status.busy": "2022-11-03T08:13:10.968308Z",
     "iopub.status.idle": "2022-11-03T08:13:10.992770Z",
     "shell.execute_reply": "2022-11-03T08:13:10.991929Z",
     "shell.execute_reply.started": "2022-11-03T08:13:10.968308Z"
    },
    "tags": []
   },
   "outputs": [],
   "source": [
    "wine_input = wine[['alcohol', 'sugar', 'pH']].to_numpy()\n",
    "wine_target = wine['class'].to_numpy()"
   ]
  },
  {
   "cell_type": "markdown",
   "id": "be38a5f9-7d37-4cb9-ba31-37235cdde83c",
   "metadata": {},
   "source": [
    "## 데이터 분리"
   ]
  },
  {
   "cell_type": "code",
   "execution_count": 4,
   "id": "7d117c05-c6a8-4eb5-803c-28ac9cfc2b3d",
   "metadata": {
    "execution": {
     "iopub.execute_input": "2022-11-03T08:13:28.003678Z",
     "iopub.status.busy": "2022-11-03T08:13:28.003678Z",
     "iopub.status.idle": "2022-11-03T08:13:28.028968Z",
     "shell.execute_reply": "2022-11-03T08:13:28.027741Z",
     "shell.execute_reply.started": "2022-11-03T08:13:28.003678Z"
    }
   },
   "outputs": [],
   "source": [
    "train_input, test_input, train_target, test_target = train_test_split(\n",
    "    wine_input, wine_target, test_size=0.2, random_state=42\n",
    ")"
   ]
  },
  {
   "cell_type": "markdown",
   "id": "445c8699-2535-4130-bf51-0397eef7c494",
   "metadata": {},
   "source": [
    "### 훈련세트에서 검증세트 분리"
   ]
  },
  {
   "cell_type": "code",
   "execution_count": 5,
   "id": "c06edb2a-21f9-487e-be3d-49f0da6a4e2d",
   "metadata": {
    "execution": {
     "iopub.execute_input": "2022-11-03T08:14:44.486423Z",
     "iopub.status.busy": "2022-11-03T08:14:44.486423Z",
     "iopub.status.idle": "2022-11-03T08:14:44.504768Z",
     "shell.execute_reply": "2022-11-03T08:14:44.503105Z",
     "shell.execute_reply.started": "2022-11-03T08:14:44.486423Z"
    }
   },
   "outputs": [],
   "source": [
    "sub_input, val_input, sub_target, val_target = train_test_split(\n",
    "    train_input, train_target, test_size=0.2, random_state=42\n",
    ")"
   ]
  },
  {
   "cell_type": "code",
   "execution_count": 6,
   "id": "ee897b85-0172-4fa3-ad46-0f75b6ad7eeb",
   "metadata": {
    "execution": {
     "iopub.execute_input": "2022-11-03T08:15:04.683488Z",
     "iopub.status.busy": "2022-11-03T08:15:04.683488Z",
     "iopub.status.idle": "2022-11-03T08:15:04.699587Z",
     "shell.execute_reply": "2022-11-03T08:15:04.698742Z",
     "shell.execute_reply.started": "2022-11-03T08:15:04.683488Z"
    }
   },
   "outputs": [
    {
     "data": {
      "text/plain": [
       "((4157, 3), (1040, 3))"
      ]
     },
     "execution_count": 6,
     "metadata": {},
     "output_type": "execute_result"
    }
   ],
   "source": [
    "sub_input.shape, val_input.shape"
   ]
  },
  {
   "cell_type": "markdown",
   "id": "bfa8ab51-8e4a-405a-bd62-845ee0c72743",
   "metadata": {},
   "source": [
    "## DecisionTreeClassifier 모델 구축"
   ]
  },
  {
   "cell_type": "code",
   "execution_count": 8,
   "id": "fe5c596c-cb93-4f76-a76c-6e762c22c04b",
   "metadata": {
    "execution": {
     "iopub.execute_input": "2022-11-03T08:18:12.702893Z",
     "iopub.status.busy": "2022-11-03T08:18:12.702893Z",
     "iopub.status.idle": "2022-11-03T08:18:12.740296Z",
     "shell.execute_reply": "2022-11-03T08:18:12.740296Z",
     "shell.execute_reply.started": "2022-11-03T08:18:12.702893Z"
    }
   },
   "outputs": [
    {
     "name": "stdout",
     "output_type": "stream",
     "text": [
      "0.9971133028626413\n",
      "0.864423076923077\n"
     ]
    }
   ],
   "source": [
    "dt = DecisionTreeClassifier(random_state=42)\n",
    "dt.fit(sub_input, sub_target)\n",
    "print(dt.score(sub_input, sub_target))\n",
    "print(dt.score(val_input, val_target))"
   ]
  },
  {
   "cell_type": "markdown",
   "id": "122c9b71-b7a5-47d1-8aab-2b69c238ba70",
   "metadata": {},
   "source": [
    "## k-fold cross validation(교차 검증)"
   ]
  },
  {
   "cell_type": "code",
   "execution_count": 42,
   "id": "ae1d9290-a466-4448-9003-59310adeb890",
   "metadata": {
    "execution": {
     "iopub.execute_input": "2022-11-03T08:26:26.352641Z",
     "iopub.status.busy": "2022-11-03T08:26:26.352641Z",
     "iopub.status.idle": "2022-11-03T08:26:26.439095Z",
     "shell.execute_reply": "2022-11-03T08:26:26.439095Z",
     "shell.execute_reply.started": "2022-11-03T08:26:26.352641Z"
    },
    "tags": []
   },
   "outputs": [
    {
     "data": {
      "text/plain": [
       "0.855300214703487"
      ]
     },
     "execution_count": 42,
     "metadata": {},
     "output_type": "execute_result"
    }
   ],
   "source": [
    "# from sklearn.model_selection import cross_validate\n",
    "# 평가할 모델 객체를 매개변수로 전달한다.(검증세트를 떼어내지 않고 훈련세트 전체를 전달)\n",
    "scores = cross_validate(dt, train_input, train_target)\n",
    "scores['test_score'].mean()"
   ]
  },
  {
   "cell_type": "code",
   "execution_count": 48,
   "id": "e3257211-6f57-4f19-945b-042648a504bf",
   "metadata": {
    "execution": {
     "iopub.execute_input": "2022-11-03T08:38:34.930030Z",
     "iopub.status.busy": "2022-11-03T08:38:34.930030Z",
     "iopub.status.idle": "2022-11-03T08:38:35.009712Z",
     "shell.execute_reply": "2022-11-03T08:38:35.009712Z",
     "shell.execute_reply.started": "2022-11-03T08:38:34.930030Z"
    },
    "tags": []
   },
   "outputs": [
    {
     "data": {
      "text/plain": [
       "0.8539548012141852"
      ]
     },
     "execution_count": 48,
     "metadata": {},
     "output_type": "execute_result"
    }
   ],
   "source": [
    "# cv=StratifiedKFold(), splitter\n",
    "scores = cross_validate(dt, train_input, train_target, cv=StratifiedKFold(n_splits=5, shuffle=True, random_state=42))\n",
    "scores['test_score'].mean()"
   ]
  },
  {
   "cell_type": "code",
   "execution_count": 49,
   "id": "9a04514f-cd5e-497f-993c-0adc30efccc0",
   "metadata": {
    "execution": {
     "iopub.execute_input": "2022-11-03T08:38:37.027768Z",
     "iopub.status.busy": "2022-11-03T08:38:37.027768Z",
     "iopub.status.idle": "2022-11-03T08:38:37.137381Z",
     "shell.execute_reply": "2022-11-03T08:38:37.137381Z",
     "shell.execute_reply.started": "2022-11-03T08:38:37.027768Z"
    },
    "tags": []
   },
   "outputs": [
    {
     "data": {
      "text/plain": [
       "0.8574181117533719"
      ]
     },
     "execution_count": 49,
     "metadata": {},
     "output_type": "execute_result"
    }
   ],
   "source": [
    "splitter = StratifiedKFold(n_splits=10, shuffle=True, random_state=42)\n",
    "scores = cross_validate(dt, train_input, train_target, cv=splitter)\n",
    "scores['test_score'].mean()"
   ]
  }
 ],
 "metadata": {
  "kernelspec": {
   "display_name": "Python 3 (ipykernel)",
   "language": "python",
   "name": "python3"
  },
  "language_info": {
   "codemirror_mode": {
    "name": "ipython",
    "version": 3
   },
   "file_extension": ".py",
   "mimetype": "text/x-python",
   "name": "python",
   "nbconvert_exporter": "python",
   "pygments_lexer": "ipython3",
   "version": "3.9.13"
  }
 },
 "nbformat": 4,
 "nbformat_minor": 5
}
