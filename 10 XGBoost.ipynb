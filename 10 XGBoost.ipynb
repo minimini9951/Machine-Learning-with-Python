{
 "cells": [
  {
   "cell_type": "markdown",
   "id": "35f126c9-0da6-485f-a84f-1fc3c6672a63",
   "metadata": {},
   "source": [
    "# Boosting 이란\n",
    "- 여러 개의 약한 Decision Tree를 조합해서 사용하는 Ensemble 기법중 하나이다.\n",
    "- 약한 예측 모델들의 학습 에러에 가중치를 두고, 순차적으로 다음 학습 모델에 반영하여 강한 예측모델 제작이 목표"
   ]
  },
  {
   "cell_type": "markdown",
   "id": "d776b4de-8c5d-45da-9897-fd098fc26f13",
   "metadata": {},
   "source": [
    "# GBM(Gradient Boosting Machine)\n",
    "- GBM은 여러개의 weak learner를 순차적으로 학습, 예측하면서 잘못 예측한 데이터에 가중치 부여를 통해 오류를 계산해서 학습\n",
    "- 가중치의 업데이트 방법은 <strong>경사 하강법</strong>을 사용"
   ]
  },
  {
   "cell_type": "markdown",
   "id": "c203f9a1-6398-4b27-83bd-dfe7587219ef",
   "metadata": {},
   "source": [
    "# XGBoost란\n",
    "- XGBoost는 Extreme Gradient Boosting의 약자\n",
    "- Boosting 기법을 이용하여 구현한 알고리즘은 Gradient Boost가 대표적인데 이 알고리즘을 병렬학습이 지원되도록 구현한 라이브러리\n",
    "- 분류, 회귀 문제를 모두 지원하며, 성능과 효율이 좋아서 인기가 높다\n",
    "- XGBoost 장점\n",
    "    - GBM 대비 빠른 수행시간 : 병렬 처리로 학습, 분류속도가 빠름\n",
    "    - 과적합 규제 : 표준 GBM의 경우 과적합 규제기능이 없으나, XGBoost는 과적합 규제 기능이 있어서 강한 내구성 보유\n",
    "    - 분류와 회귀 영역에서 뛰어난 예측성능\n",
    "        - CART(Classifier and Regression Tree)앙상블 모델을 사용한다.\n",
    "    - 조기종료 기능\n",
    "    - 다양한 옵션 제공 및 커스텀이 용이"
   ]
  },
  {
   "cell_type": "markdown",
   "id": "dcda4113-bddf-4b4f-a83b-3a12a99cffe5",
   "metadata": {},
   "source": [
    "## 필수 라이브러리"
   ]
  },
  {
   "cell_type": "code",
   "execution_count": 52,
   "id": "7d847bb2-ffbe-450a-a56d-981b982f25ed",
   "metadata": {
    "execution": {
     "iopub.execute_input": "2022-11-09T07:31:23.660056Z",
     "iopub.status.busy": "2022-11-09T07:31:23.660056Z",
     "iopub.status.idle": "2022-11-09T07:31:23.707961Z",
     "shell.execute_reply": "2022-11-09T07:31:23.705926Z",
     "shell.execute_reply.started": "2022-11-09T07:31:23.660056Z"
    },
    "tags": []
   },
   "outputs": [],
   "source": [
    "import numpy as np  # 넘파이\n",
    "import pandas as pd  # 판다스\n",
    "import seaborn as sns  # 시본\n",
    "import matplotlib as mpl\n",
    "import matplotlib.pyplot as plt  # matplotlib\n",
    "import warnings\n",
    "import xgboost as xgb\n",
    "from scipy.special import expit\n",
    "from sklearn.preprocessing import StandardScaler\n",
    "from sklearn.metrics import accuracy_score, precision_score, recall_score, f1_score, confusion_matrix\n",
    "from sklearn.datasets import load_breast_cancer\n",
    "from sklearn.model_selection import train_test_split\n",
    "warnings.simplefilter(action='ignore', category=FutureWarning)\n",
    "%config Completer.use_jedi = False\n",
    "%matplotlib inline\n",
    "%config Inlinebackend.figure_format = 'retina'\n",
    "\n",
    "mpl.rc('font', family='D2coding')\n",
    "mpl.rc('axes', unicode_minus=False)\n",
    "sns.set(font='D2coding', rc={'axes.unicode_minus': False}, style='darkgrid')\n",
    "plt.rc('figure', figsize=(10, 8))"
   ]
  },
  {
   "cell_type": "markdown",
   "id": "e7150145-b907-448d-a8b4-72d43a8d666f",
   "metadata": {},
   "source": [
    "# 로지스틱 회귀와 평가지표"
   ]
  },
  {
   "cell_type": "markdown",
   "id": "49efb1a7-41b8-4164-a3fb-1d1adbec63cf",
   "metadata": {},
   "source": [
    "## 데이터셋 - 위스콘신 유방암 예측"
   ]
  },
  {
   "cell_type": "code",
   "execution_count": 2,
   "id": "5147f46c-cb24-454b-836a-9f9d285046e1",
   "metadata": {
    "execution": {
     "iopub.execute_input": "2022-11-09T02:45:06.877216Z",
     "iopub.status.busy": "2022-11-09T02:45:06.877216Z",
     "iopub.status.idle": "2022-11-09T02:45:53.368707Z",
     "shell.execute_reply": "2022-11-09T02:45:53.367720Z",
     "shell.execute_reply.started": "2022-11-09T02:45:06.877216Z"
    },
    "tags": []
   },
   "outputs": [
    {
     "name": "stdout",
     "output_type": "stream",
     "text": [
      "Collecting xgboost\n",
      "  Downloading xgboost-1.7.1-py3-none-win_amd64.whl (89.1 MB)\n",
      "     ---------------------------------------- 89.1/89.1 MB 4.0 MB/s eta 0:00:00\n",
      "Requirement already satisfied: numpy in c:\\anaconda3\\lib\\site-packages (from xgboost) (1.21.5)\n",
      "Requirement already satisfied: scipy in c:\\anaconda3\\lib\\site-packages (from xgboost) (1.9.1)\n",
      "Installing collected packages: xgboost\n",
      "Successfully installed xgboost-1.7.1\n"
     ]
    }
   ],
   "source": [
    "!pip install xgboost"
   ]
  },
  {
   "cell_type": "code",
   "execution_count": 4,
   "id": "b69d8958-124f-4c01-8b97-28497f63b395",
   "metadata": {
    "execution": {
     "iopub.execute_input": "2022-11-09T02:46:12.857981Z",
     "iopub.status.busy": "2022-11-09T02:46:12.856981Z",
     "iopub.status.idle": "2022-11-09T02:46:12.893431Z",
     "shell.execute_reply": "2022-11-09T02:46:12.892133Z",
     "shell.execute_reply.started": "2022-11-09T02:46:12.857981Z"
    },
    "tags": []
   },
   "outputs": [
    {
     "data": {
      "text/plain": [
       "dict_keys(['data', 'target', 'frame', 'target_names', 'DESCR', 'feature_names', 'filename', 'data_module'])"
      ]
     },
     "execution_count": 4,
     "metadata": {},
     "output_type": "execute_result"
    }
   ],
   "source": [
    "cancer = load_breast_cancer()\n",
    "cancer.keys()"
   ]
  },
  {
   "cell_type": "code",
   "execution_count": 9,
   "id": "02214382-8103-4c97-994f-ba57f4fe7e24",
   "metadata": {
    "execution": {
     "iopub.execute_input": "2022-11-09T02:49:37.313321Z",
     "iopub.status.busy": "2022-11-09T02:49:37.313321Z",
     "iopub.status.idle": "2022-11-09T02:49:37.358622Z",
     "shell.execute_reply": "2022-11-09T02:49:37.357303Z",
     "shell.execute_reply.started": "2022-11-09T02:49:37.313321Z"
    },
    "tags": []
   },
   "outputs": [
    {
     "data": {
      "text/html": [
       "<div>\n",
       "<style scoped>\n",
       "    .dataframe tbody tr th:only-of-type {\n",
       "        vertical-align: middle;\n",
       "    }\n",
       "\n",
       "    .dataframe tbody tr th {\n",
       "        vertical-align: top;\n",
       "    }\n",
       "\n",
       "    .dataframe thead th {\n",
       "        text-align: right;\n",
       "    }\n",
       "</style>\n",
       "<table border=\"1\" class=\"dataframe\">\n",
       "  <thead>\n",
       "    <tr style=\"text-align: right;\">\n",
       "      <th></th>\n",
       "      <th>mean radius</th>\n",
       "      <th>mean texture</th>\n",
       "      <th>mean perimeter</th>\n",
       "      <th>mean area</th>\n",
       "      <th>mean smoothness</th>\n",
       "      <th>mean compactness</th>\n",
       "      <th>mean concavity</th>\n",
       "      <th>mean concave points</th>\n",
       "      <th>mean symmetry</th>\n",
       "      <th>mean fractal dimension</th>\n",
       "      <th>...</th>\n",
       "      <th>worst texture</th>\n",
       "      <th>worst perimeter</th>\n",
       "      <th>worst area</th>\n",
       "      <th>worst smoothness</th>\n",
       "      <th>worst compactness</th>\n",
       "      <th>worst concavity</th>\n",
       "      <th>worst concave points</th>\n",
       "      <th>worst symmetry</th>\n",
       "      <th>worst fractal dimension</th>\n",
       "      <th>target</th>\n",
       "    </tr>\n",
       "  </thead>\n",
       "  <tbody>\n",
       "    <tr>\n",
       "      <th>0</th>\n",
       "      <td>17.99</td>\n",
       "      <td>10.38</td>\n",
       "      <td>122.8</td>\n",
       "      <td>1001.0</td>\n",
       "      <td>0.1184</td>\n",
       "      <td>0.2776</td>\n",
       "      <td>0.3001</td>\n",
       "      <td>0.1471</td>\n",
       "      <td>0.2419</td>\n",
       "      <td>0.07871</td>\n",
       "      <td>...</td>\n",
       "      <td>17.33</td>\n",
       "      <td>184.6</td>\n",
       "      <td>2019.0</td>\n",
       "      <td>0.1622</td>\n",
       "      <td>0.6656</td>\n",
       "      <td>0.7119</td>\n",
       "      <td>0.2654</td>\n",
       "      <td>0.4601</td>\n",
       "      <td>0.1189</td>\n",
       "      <td>0</td>\n",
       "    </tr>\n",
       "  </tbody>\n",
       "</table>\n",
       "<p>1 rows × 31 columns</p>\n",
       "</div>"
      ],
      "text/plain": [
       "   mean radius  mean texture  mean perimeter  mean area  mean smoothness  \\\n",
       "0        17.99         10.38           122.8     1001.0           0.1184   \n",
       "\n",
       "   mean compactness  mean concavity  mean concave points  mean symmetry  \\\n",
       "0            0.2776          0.3001               0.1471         0.2419   \n",
       "\n",
       "   mean fractal dimension  ...  worst texture  worst perimeter  worst area  \\\n",
       "0                 0.07871  ...          17.33            184.6      2019.0   \n",
       "\n",
       "   worst smoothness  worst compactness  worst concavity  worst concave points  \\\n",
       "0            0.1622             0.6656           0.7119                0.2654   \n",
       "\n",
       "   worst symmetry  worst fractal dimension  target  \n",
       "0          0.4601                   0.1189       0  \n",
       "\n",
       "[1 rows x 31 columns]"
      ]
     },
     "execution_count": 9,
     "metadata": {},
     "output_type": "execute_result"
    }
   ],
   "source": [
    "X = cancer.data\n",
    "y = cancer.target\n",
    "\n",
    "cancer_df = pd.DataFrame(X, columns=cancer.feature_names)\n",
    "cancer_df['target'] = y\n",
    "cancer_df.head(1)"
   ]
  },
  {
   "cell_type": "code",
   "execution_count": 12,
   "id": "7dc98065-5a5a-4298-b597-d5049a0f0c4a",
   "metadata": {
    "execution": {
     "iopub.execute_input": "2022-11-09T02:56:35.245552Z",
     "iopub.status.busy": "2022-11-09T02:56:35.244569Z",
     "iopub.status.idle": "2022-11-09T02:56:35.265778Z",
     "shell.execute_reply": "2022-11-09T02:56:35.264758Z",
     "shell.execute_reply.started": "2022-11-09T02:56:35.244569Z"
    },
    "tags": []
   },
   "outputs": [
    {
     "name": "stdout",
     "output_type": "stream",
     "text": [
      "data shape : (569, 30)\n",
      "target shape : (569,)\n"
     ]
    }
   ],
   "source": [
    "print('data shape :', X.shape)\n",
    "print('target shape :', y.shape)"
   ]
  },
  {
   "cell_type": "code",
   "execution_count": 15,
   "id": "128e8b33-af7c-4f91-a733-18c0d49984c9",
   "metadata": {
    "execution": {
     "iopub.execute_input": "2022-11-09T02:58:10.482552Z",
     "iopub.status.busy": "2022-11-09T02:58:10.482552Z",
     "iopub.status.idle": "2022-11-09T02:58:10.515306Z",
     "shell.execute_reply": "2022-11-09T02:58:10.514284Z",
     "shell.execute_reply.started": "2022-11-09T02:58:10.482552Z"
    },
    "tags": []
   },
   "outputs": [
    {
     "data": {
      "text/plain": [
       "(array([0, 1]), array([212, 357], dtype=int64))"
      ]
     },
     "execution_count": 15,
     "metadata": {},
     "output_type": "execute_result"
    }
   ],
   "source": [
    "# 양성 데이터 세트 갯수와 음성 데이터 세트 개수의 파악\n",
    "np.unique(cancer.target, return_counts=True)"
   ]
  },
  {
   "cell_type": "code",
   "execution_count": 16,
   "id": "b42e76fc-eb3a-48d1-85af-feec40a36988",
   "metadata": {
    "execution": {
     "iopub.execute_input": "2022-11-09T03:02:20.631846Z",
     "iopub.status.busy": "2022-11-09T03:02:20.631846Z",
     "iopub.status.idle": "2022-11-09T03:02:20.651703Z",
     "shell.execute_reply": "2022-11-09T03:02:20.650257Z",
     "shell.execute_reply.started": "2022-11-09T03:02:20.631846Z"
    },
    "tags": []
   },
   "outputs": [
    {
     "name": "stdout",
     "output_type": "stream",
     "text": [
      "feature1 :  mean radius\n",
      "feature2 :  mean texture\n",
      "feature3 :  mean perimeter\n",
      "feature4 :  mean area\n",
      "feature5 :  mean smoothness\n",
      "feature6 :  mean compactness\n",
      "feature7 :  mean concavity\n",
      "feature8 :  mean concave points\n",
      "feature9 :  mean symmetry\n",
      "feature10 :  mean fractal dimension\n",
      "feature11 :  radius error\n",
      "feature12 :  texture error\n",
      "feature13 :  perimeter error\n",
      "feature14 :  area error\n",
      "feature15 :  smoothness error\n",
      "feature16 :  compactness error\n",
      "feature17 :  concavity error\n",
      "feature18 :  concave points error\n",
      "feature19 :  symmetry error\n",
      "feature20 :  fractal dimension error\n",
      "feature21 :  worst radius\n",
      "feature22 :  worst texture\n",
      "feature23 :  worst perimeter\n",
      "feature24 :  worst area\n",
      "feature25 :  worst smoothness\n",
      "feature26 :  worst compactness\n",
      "feature27 :  worst concavity\n",
      "feature28 :  worst concave points\n",
      "feature29 :  worst symmetry\n",
      "feature30 :  worst fractal dimension\n"
     ]
    }
   ],
   "source": [
    "# feature 확인\n",
    "for i, feature in enumerate(cancer.feature_names):\n",
    "    print(f'feature{(i+1)} : ', feature)"
   ]
  },
  {
   "cell_type": "markdown",
   "id": "e65ace54-2151-4900-a604-766aa47f2a5c",
   "metadata": {},
   "source": [
    "## 표준화"
   ]
  },
  {
   "cell_type": "code",
   "execution_count": 17,
   "id": "54eac25e-bb71-4606-ae8c-151d4f6eb9be",
   "metadata": {
    "execution": {
     "iopub.execute_input": "2022-11-09T03:06:34.693161Z",
     "iopub.status.busy": "2022-11-09T03:06:34.692633Z",
     "iopub.status.idle": "2022-11-09T03:06:34.704817Z",
     "shell.execute_reply": "2022-11-09T03:06:34.703866Z",
     "shell.execute_reply.started": "2022-11-09T03:06:34.693161Z"
    }
   },
   "outputs": [],
   "source": [
    "scaler = StandardScaler()\n",
    "scaled = scaler.fit_transform(cancer_df.drop('target', axis=1))"
   ]
  },
  {
   "cell_type": "markdown",
   "id": "e14e3bad-ad18-447c-9bf9-ea81a4d092d4",
   "metadata": {},
   "source": [
    "## 데이터 분리"
   ]
  },
  {
   "cell_type": "code",
   "execution_count": 18,
   "id": "b458fef5-c9c0-4491-842b-3a55d797a8ba",
   "metadata": {
    "execution": {
     "iopub.execute_input": "2022-11-09T03:25:43.456760Z",
     "iopub.status.busy": "2022-11-09T03:25:43.456760Z",
     "iopub.status.idle": "2022-11-09T03:25:43.473208Z",
     "shell.execute_reply": "2022-11-09T03:25:43.472207Z",
     "shell.execute_reply.started": "2022-11-09T03:25:43.456760Z"
    }
   },
   "outputs": [],
   "source": [
    "X_train, X_test, y_train, y_test = train_test_split(\n",
    "    scaled, cancer_df.target, test_size=0.2, random_state=156)"
   ]
  },
  {
   "cell_type": "markdown",
   "id": "c3457b76-72c3-4b0a-8d00-a49419169a77",
   "metadata": {},
   "source": [
    "### 로지스틱 회귀"
   ]
  },
  {
   "cell_type": "code",
   "execution_count": 20,
   "id": "0a487d80-0f93-43ef-a37d-d06f2d631a2c",
   "metadata": {
    "execution": {
     "iopub.execute_input": "2022-11-09T03:27:26.024168Z",
     "iopub.status.busy": "2022-11-09T03:27:26.024168Z",
     "iopub.status.idle": "2022-11-09T03:27:26.075712Z",
     "shell.execute_reply": "2022-11-09T03:27:26.074713Z",
     "shell.execute_reply.started": "2022-11-09T03:27:26.024168Z"
    },
    "tags": []
   },
   "outputs": [
    {
     "data": {
      "text/plain": [
       "LogisticRegression()"
      ]
     },
     "execution_count": 20,
     "metadata": {},
     "output_type": "execute_result"
    }
   ],
   "source": [
    "from sklearn.linear_model import LogisticRegression\n",
    "lr = LogisticRegression()\n",
    "lr.fit(X_train, y_train)"
   ]
  },
  {
   "cell_type": "code",
   "execution_count": 21,
   "id": "26cad017-1260-440e-b37e-6eb3d9c108e7",
   "metadata": {
    "execution": {
     "iopub.execute_input": "2022-11-09T03:28:30.639376Z",
     "iopub.status.busy": "2022-11-09T03:28:30.639376Z",
     "iopub.status.idle": "2022-11-09T03:28:30.655380Z",
     "shell.execute_reply": "2022-11-09T03:28:30.654408Z",
     "shell.execute_reply.started": "2022-11-09T03:28:30.639376Z"
    }
   },
   "outputs": [
    {
     "name": "stdout",
     "output_type": "stream",
     "text": [
      "[0 1 1 1 1]\n"
     ]
    }
   ],
   "source": [
    "# 훈련 모델을 이용하여 5개의 샘플 예측\n",
    "print(lr.predict(X_train[:5]))"
   ]
  },
  {
   "cell_type": "code",
   "execution_count": 22,
   "id": "dfe6e076-1a57-4c7b-bb66-83302804ce47",
   "metadata": {
    "execution": {
     "iopub.execute_input": "2022-11-09T03:30:26.645222Z",
     "iopub.status.busy": "2022-11-09T03:30:26.645222Z",
     "iopub.status.idle": "2022-11-09T03:30:26.668747Z",
     "shell.execute_reply": "2022-11-09T03:30:26.667747Z",
     "shell.execute_reply.started": "2022-11-09T03:30:26.645222Z"
    }
   },
   "outputs": [
    {
     "name": "stdout",
     "output_type": "stream",
     "text": [
      "[[9.90703488e-01 9.29651217e-03]\n",
      " [3.95649332e-02 9.60435067e-01]\n",
      " [6.71031350e-06 9.99993290e-01]\n",
      " [1.61627147e-04 9.99838373e-01]\n",
      " [8.73555079e-02 9.12644492e-01]]\n"
     ]
    }
   ],
   "source": [
    "print(lr.predict_proba(X_train[:5]))"
   ]
  },
  {
   "cell_type": "code",
   "execution_count": 23,
   "id": "ba3dfce7-d520-4ca9-b7c2-d24ea2b2d6b1",
   "metadata": {
    "execution": {
     "iopub.execute_input": "2022-11-09T03:31:02.576113Z",
     "iopub.status.busy": "2022-11-09T03:31:02.576113Z",
     "iopub.status.idle": "2022-11-09T03:31:02.590311Z",
     "shell.execute_reply": "2022-11-09T03:31:02.590311Z",
     "shell.execute_reply.started": "2022-11-09T03:31:02.576113Z"
    }
   },
   "outputs": [
    {
     "name": "stdout",
     "output_type": "stream",
     "text": [
      "[0 1]\n"
     ]
    }
   ],
   "source": [
    "# classes_ 속성\n",
    "print(lr.classes_)"
   ]
  },
  {
   "cell_type": "code",
   "execution_count": 24,
   "id": "3e43f191-aa33-4339-af4a-39518c58fdb7",
   "metadata": {
    "execution": {
     "iopub.execute_input": "2022-11-09T03:32:09.735198Z",
     "iopub.status.busy": "2022-11-09T03:32:09.735198Z",
     "iopub.status.idle": "2022-11-09T03:32:09.755199Z",
     "shell.execute_reply": "2022-11-09T03:32:09.754199Z",
     "shell.execute_reply.started": "2022-11-09T03:32:09.735198Z"
    }
   },
   "outputs": [
    {
     "name": "stdout",
     "output_type": "stream",
     "text": [
      "[[-0.4721854  -0.38258173 -0.44454406 -0.54316124 -0.14319742  0.72706363\n",
      "  -0.70746211 -0.96418695 -0.07905176  0.27001329 -1.19658305  0.19765208\n",
      "  -0.5890956  -0.95010481 -0.31150744  0.75959144  0.14533365 -0.32546344\n",
      "   0.33243796  0.4394735  -0.86822466 -1.27824666 -0.65146591 -0.90866007\n",
      "  -0.44631307  0.16705142 -0.8564404  -0.83122684 -1.0734741  -0.54801513]] [0.21706473]\n"
     ]
    }
   ],
   "source": [
    "print(lr.coef_, lr.intercept_)"
   ]
  },
  {
   "cell_type": "code",
   "execution_count": 26,
   "id": "b7f2fa63-9d41-43ee-a506-997924157bf6",
   "metadata": {
    "execution": {
     "iopub.execute_input": "2022-11-09T03:33:01.650401Z",
     "iopub.status.busy": "2022-11-09T03:33:01.649400Z",
     "iopub.status.idle": "2022-11-09T03:33:01.664786Z",
     "shell.execute_reply": "2022-11-09T03:33:01.662785Z",
     "shell.execute_reply.started": "2022-11-09T03:33:01.650401Z"
    },
    "tags": []
   },
   "outputs": [
    {
     "data": {
      "text/plain": [
       "array([-4.66877599,  3.18944318, 11.91185818,  8.7300568 ,  2.34636033])"
      ]
     },
     "execution_count": 26,
     "metadata": {},
     "output_type": "execute_result"
    }
   ],
   "source": [
    "# 예측한 5개의 z값 출력\n",
    "decisions = lr.decision_function(X_train[:5])\n",
    "decisions"
   ]
  },
  {
   "cell_type": "code",
   "execution_count": 27,
   "id": "5663715c-1527-4765-8c39-7e197685d8a7",
   "metadata": {
    "execution": {
     "iopub.execute_input": "2022-11-09T03:34:11.060418Z",
     "iopub.status.busy": "2022-11-09T03:34:11.060418Z",
     "iopub.status.idle": "2022-11-09T03:34:11.079526Z",
     "shell.execute_reply": "2022-11-09T03:34:11.078524Z",
     "shell.execute_reply.started": "2022-11-09T03:34:11.060418Z"
    },
    "tags": []
   },
   "outputs": [
    {
     "name": "stdout",
     "output_type": "stream",
     "text": [
      "[0.00929651 0.96043507 0.99999329 0.99983837 0.91264449]\n"
     ]
    }
   ],
   "source": [
    "print(expit(decisions))"
   ]
  },
  {
   "cell_type": "code",
   "execution_count": 28,
   "id": "4f9455fc-3c46-4e21-bb7b-fd485fc487b1",
   "metadata": {
    "execution": {
     "iopub.execute_input": "2022-11-09T03:34:51.344829Z",
     "iopub.status.busy": "2022-11-09T03:34:51.344829Z",
     "iopub.status.idle": "2022-11-09T03:34:51.357336Z",
     "shell.execute_reply": "2022-11-09T03:34:51.355334Z",
     "shell.execute_reply.started": "2022-11-09T03:34:51.344829Z"
    }
   },
   "outputs": [],
   "source": [
    "# 예측하기\n",
    "predict = lr.predict(X_test)"
   ]
  },
  {
   "cell_type": "markdown",
   "id": "9a7676f2-f55d-4521-b0c3-4ac00f1a8236",
   "metadata": {},
   "source": [
    "### 평가지표\n",
    "1. 회귀 : MAE, MSE, RMSE, SSE, ...\n",
    "2. 분류 : 정확도, 정밀도, 재현율(민감도), F1 score, ROC 커브\n",
    "3. 클러스터링 : DBI, 엘보우 메서드, 실루엣계수"
   ]
  },
  {
   "cell_type": "code",
   "execution_count": 29,
   "id": "909f9996-07a7-4951-ae7a-ffea25081972",
   "metadata": {
    "execution": {
     "iopub.execute_input": "2022-11-09T03:42:01.958563Z",
     "iopub.status.busy": "2022-11-09T03:42:01.958563Z",
     "iopub.status.idle": "2022-11-09T03:42:01.978645Z",
     "shell.execute_reply": "2022-11-09T03:42:01.977893Z",
     "shell.execute_reply.started": "2022-11-09T03:42:01.958563Z"
    }
   },
   "outputs": [
    {
     "data": {
      "text/plain": [
       "0.9736842105263158"
      ]
     },
     "execution_count": 29,
     "metadata": {},
     "output_type": "execute_result"
    }
   ],
   "source": [
    "# 정확도(Accuracy)\n",
    "# 이진 분류일 경우 데이터에 모델의 성능이 왜곡될 수 있다.\n",
    "# 예측결과가 동일한 데이터 수 / 전체 예측 데이터 수\n",
    "accuracy_score(y_test, predict)"
   ]
  },
  {
   "cell_type": "markdown",
   "id": "9599a2a5-ee86-488a-b4b7-018f8bc924f8",
   "metadata": {},
   "source": [
    "### Confusion Matrix"
   ]
  },
  {
   "cell_type": "code",
   "execution_count": 32,
   "id": "168d527c-1124-4b2e-9c7d-1fbe259ff709",
   "metadata": {
    "execution": {
     "iopub.execute_input": "2022-11-09T05:13:34.941380Z",
     "iopub.status.busy": "2022-11-09T05:13:34.940702Z",
     "iopub.status.idle": "2022-11-09T05:13:34.968409Z",
     "shell.execute_reply": "2022-11-09T05:13:34.967407Z",
     "shell.execute_reply.started": "2022-11-09T05:13:34.940702Z"
    }
   },
   "outputs": [
    {
     "data": {
      "text/plain": [
       "array([[35,  2],\n",
       "       [ 1, 76]], dtype=int64)"
      ]
     },
     "execution_count": 32,
     "metadata": {},
     "output_type": "execute_result"
    }
   ],
   "source": [
    "cm = confusion_matrix(y_test, predict)\n",
    "cm"
   ]
  },
  {
   "cell_type": "code",
   "execution_count": 42,
   "id": "41304c13-630d-486b-a384-531ecb7096fd",
   "metadata": {
    "execution": {
     "iopub.execute_input": "2022-11-09T05:19:20.820548Z",
     "iopub.status.busy": "2022-11-09T05:19:20.819556Z",
     "iopub.status.idle": "2022-11-09T05:19:20.833128Z",
     "shell.execute_reply": "2022-11-09T05:19:20.831815Z",
     "shell.execute_reply.started": "2022-11-09T05:19:20.820548Z"
    }
   },
   "outputs": [],
   "source": [
    "TN, FP, FN, TP = cm.ravel()"
   ]
  },
  {
   "cell_type": "markdown",
   "id": "2701838c-b052-4407-bd10-2d6a06d0de44",
   "metadata": {},
   "source": [
    "#### 정밀도(Precision)\n",
    "- True Positive / All Positive"
   ]
  },
  {
   "cell_type": "code",
   "execution_count": 43,
   "id": "0db1ff28-3417-4115-817a-978130a525f6",
   "metadata": {
    "execution": {
     "iopub.execute_input": "2022-11-09T05:21:03.581805Z",
     "iopub.status.busy": "2022-11-09T05:21:03.580805Z",
     "iopub.status.idle": "2022-11-09T05:21:03.599308Z",
     "shell.execute_reply": "2022-11-09T05:21:03.598310Z",
     "shell.execute_reply.started": "2022-11-09T05:21:03.581805Z"
    },
    "tags": []
   },
   "outputs": [
    {
     "data": {
      "text/plain": [
       "0.9743589743589743"
      ]
     },
     "execution_count": 43,
     "metadata": {},
     "output_type": "execute_result"
    }
   ],
   "source": [
    "precision = TP / (TP + FP)\n",
    "precision"
   ]
  },
  {
   "cell_type": "code",
   "execution_count": 45,
   "id": "95f2b874-bae7-4083-b7dd-c4d1cc09182a",
   "metadata": {
    "execution": {
     "iopub.execute_input": "2022-11-09T05:22:12.517533Z",
     "iopub.status.busy": "2022-11-09T05:22:12.517533Z",
     "iopub.status.idle": "2022-11-09T05:22:12.540701Z",
     "shell.execute_reply": "2022-11-09T05:22:12.539700Z",
     "shell.execute_reply.started": "2022-11-09T05:22:12.517533Z"
    },
    "tags": []
   },
   "outputs": [
    {
     "data": {
      "text/plain": [
       "0.9743589743589743"
      ]
     },
     "execution_count": 45,
     "metadata": {},
     "output_type": "execute_result"
    }
   ],
   "source": [
    "precision_score(y_test, predict)"
   ]
  },
  {
   "cell_type": "markdown",
   "id": "f4e95b2d-e7fc-4c67-92d1-e9412e1d2e07",
   "metadata": {},
   "source": [
    "#### 재현율(Recall), 민감도\n",
    "- 실제 Positiove인 전체 건수에서 옳게 예측한 건수의 비밀\n",
    "- TPR(True Positive"
   ]
  },
  {
   "cell_type": "code",
   "execution_count": 46,
   "id": "ce584517-a73c-4153-a171-6e18f366f0d1",
   "metadata": {
    "execution": {
     "iopub.execute_input": "2022-11-09T05:24:05.715442Z",
     "iopub.status.busy": "2022-11-09T05:24:05.714443Z",
     "iopub.status.idle": "2022-11-09T05:24:05.725980Z",
     "shell.execute_reply": "2022-11-09T05:24:05.724969Z",
     "shell.execute_reply.started": "2022-11-09T05:24:05.715442Z"
    }
   },
   "outputs": [
    {
     "data": {
      "text/plain": [
       "0.987012987012987"
      ]
     },
     "execution_count": 46,
     "metadata": {},
     "output_type": "execute_result"
    }
   ],
   "source": [
    "recall = TP / (FN+TP)\n",
    "recall"
   ]
  },
  {
   "cell_type": "code",
   "execution_count": 47,
   "id": "c1f22f81-b44d-4fbe-9f61-d0739aa668f2",
   "metadata": {
    "execution": {
     "iopub.execute_input": "2022-11-09T05:24:52.494365Z",
     "iopub.status.busy": "2022-11-09T05:24:52.493998Z",
     "iopub.status.idle": "2022-11-09T05:24:52.511253Z",
     "shell.execute_reply": "2022-11-09T05:24:52.510248Z",
     "shell.execute_reply.started": "2022-11-09T05:24:52.493998Z"
    }
   },
   "outputs": [
    {
     "data": {
      "text/plain": [
       "0.987012987012987"
      ]
     },
     "execution_count": 47,
     "metadata": {},
     "output_type": "execute_result"
    }
   ],
   "source": [
    "from sklearn.metrics import recall_score\n",
    "recall_score(y_test, predict)"
   ]
  },
  {
   "cell_type": "markdown",
   "id": "c42b4f4b-d401-44b4-b755-7ea9a57a535e",
   "metadata": {},
   "source": [
    "#### F1 Score\n",
    "- 재현율과 정밀도의 균을 나타내는 수치"
   ]
  },
  {
   "cell_type": "code",
   "execution_count": 48,
   "id": "147570c6-2519-4d53-8503-9770afc10d75",
   "metadata": {
    "execution": {
     "iopub.execute_input": "2022-11-09T05:26:30.447602Z",
     "iopub.status.busy": "2022-11-09T05:26:30.447602Z",
     "iopub.status.idle": "2022-11-09T05:26:30.463385Z",
     "shell.execute_reply": "2022-11-09T05:26:30.462302Z",
     "shell.execute_reply.started": "2022-11-09T05:26:30.447602Z"
    }
   },
   "outputs": [
    {
     "data": {
      "text/plain": [
       "0.9806451612903225"
      ]
     },
     "execution_count": 48,
     "metadata": {},
     "output_type": "execute_result"
    }
   ],
   "source": [
    "f1 = 2 * (precision * recall) / (precision + recall)\n",
    "f1"
   ]
  },
  {
   "cell_type": "code",
   "execution_count": 49,
   "id": "6a1e2b3d-98ce-46ee-abee-c5f01a36f1b4",
   "metadata": {
    "execution": {
     "iopub.execute_input": "2022-11-09T05:27:14.292242Z",
     "iopub.status.busy": "2022-11-09T05:27:14.292242Z",
     "iopub.status.idle": "2022-11-09T05:27:14.314269Z",
     "shell.execute_reply": "2022-11-09T05:27:14.313261Z",
     "shell.execute_reply.started": "2022-11-09T05:27:14.292242Z"
    }
   },
   "outputs": [
    {
     "data": {
      "text/plain": [
       "0.9806451612903225"
      ]
     },
     "execution_count": 49,
     "metadata": {},
     "output_type": "execute_result"
    }
   ],
   "source": [
    "from sklearn.metrics import f1_score\n",
    "f1_score(y_test, predict)"
   ]
  },
  {
   "cell_type": "code",
   "execution_count": null,
   "id": "d7a71ec9-42fa-4679-96f5-8185bc550b46",
   "metadata": {},
   "outputs": [],
   "source": []
  }
 ],
 "metadata": {
  "kernelspec": {
   "display_name": "Python 3 (ipykernel)",
   "language": "python",
   "name": "python3"
  },
  "language_info": {
   "codemirror_mode": {
    "name": "ipython",
    "version": 3
   },
   "file_extension": ".py",
   "mimetype": "text/x-python",
   "name": "python",
   "nbconvert_exporter": "python",
   "pygments_lexer": "ipython3",
   "version": "3.9.0"
  }
 },
 "nbformat": 4,
 "nbformat_minor": 5
}
