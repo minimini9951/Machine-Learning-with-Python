{
 "cells": [
  {
   "cell_type": "markdown",
   "id": "d7a347ab-41af-4c1c-bf69-621fe2fee946",
   "metadata": {},
   "source": [
    "- 1. 차원축소의 3가지 접근법\n",
    "    - 피처선택 : 불필요한 피처를 버림, 상관계수 값을 통해 판단\n",
    "    - 피처추출 : 더 작은 차원으로 피처를 매핑, PCA, LDA, SVD, NMF\n",
    "    - 피처생성 : 피처가 부족한 상황일 때 적용하는 기법\n",
    "    \n",
    "- 2. PCA\n",
    "    - 가장 대표적인 차원 축소 알고리즘\n",
    "    - 여러 피처간에 존재하는 상관관계를 이용해 이를 대표하는 주성분을 추출한 후 차원을 축소\n",
    "    - 가장 높은 분산을 가지는 데이터의 축을 찾아 이 축을 기준으로 차원을 축소\n",
    "    \n",
    "- 3. PCA 수행과정\n",
    "    - 입력 데이터 세트의 공분산 행렬을 생성\n",
    "    - 공분산 행렬의 고유벡터와 고유값을 계산\n",
    "    - 고유값이 가장 큰 순으로 k개(차수) 만큼 고유벡터 추출\n",
    "    - 고유값이 가장 큰 순으로 추출된 고유벡터를 이용해 새롭게 입력 데이터를 변환"
   ]
  },
  {
   "cell_type": "markdown",
   "id": "7534fbc0-7187-402f-bb54-1b488148c3fa",
   "metadata": {},
   "source": [
    "# 라이브러리 로딩"
   ]
  },
  {
   "cell_type": "code",
   "execution_count": 8,
   "id": "693d07cd-a12a-48fc-885b-baf574205897",
   "metadata": {
    "execution": {
     "iopub.execute_input": "2022-11-11T01:08:12.872863Z",
     "iopub.status.busy": "2022-11-11T01:08:12.872863Z",
     "iopub.status.idle": "2022-11-11T01:08:13.070857Z",
     "shell.execute_reply": "2022-11-11T01:08:13.070066Z",
     "shell.execute_reply.started": "2022-11-11T01:08:12.872863Z"
    },
    "tags": []
   },
   "outputs": [],
   "source": [
    "import numpy as np  # 넘파이\n",
    "import pandas as pd  # 판다스\n",
    "import seaborn as sns  # 시본\n",
    "import matplotlib as mpl\n",
    "import matplotlib.pyplot as plt  # matplotlib\n",
    "from sklearn.datasets import load_iris\n",
    "\n",
    "import warnings\n",
    "warnings.simplefilter(action='ignore', category=FutureWarning)\n",
    "%matplotlib inline\n",
    "%config InlineBackend.figure_foramt = 'retina'\n",
    "# 자동완성 속도 증가\n",
    "%config Completer.use_jedi = False\n",
    "# 한글 깨짐 해결\n",
    "plt.rc('font', family='D2coding')\n",
    "mpl.rc('axes', unicode_minus=False)"
   ]
  },
  {
   "cell_type": "code",
   "execution_count": 23,
   "id": "98614c90-c86d-4402-a73b-5230f3d56c75",
   "metadata": {
    "execution": {
     "iopub.execute_input": "2022-11-11T01:12:22.261081Z",
     "iopub.status.busy": "2022-11-11T01:12:22.261081Z",
     "iopub.status.idle": "2022-11-11T01:12:22.282943Z",
     "shell.execute_reply": "2022-11-11T01:12:22.281944Z",
     "shell.execute_reply.started": "2022-11-11T01:12:22.261081Z"
    },
    "tags": []
   },
   "outputs": [
    {
     "data": {
      "text/plain": [
       "['sepal length (cm)',\n",
       " 'sepal width (cm)',\n",
       " 'petal length (cm)',\n",
       " 'petal width (cm)']"
      ]
     },
     "execution_count": 23,
     "metadata": {},
     "output_type": "execute_result"
    }
   ],
   "source": [
    "iris = load_iris()\n",
    "columns = ['sepal_length', 'sepal_width', 'petal_length', 'petal_width']\n",
    "iris.feature_names"
   ]
  },
  {
   "cell_type": "code",
   "execution_count": 25,
   "id": "e4cb923f-011e-485b-a284-a14da955fe66",
   "metadata": {
    "execution": {
     "iopub.execute_input": "2022-11-11T01:13:54.994745Z",
     "iopub.status.busy": "2022-11-11T01:13:54.994745Z",
     "iopub.status.idle": "2022-11-11T01:13:55.013273Z",
     "shell.execute_reply": "2022-11-11T01:13:55.013273Z",
     "shell.execute_reply.started": "2022-11-11T01:13:54.994745Z"
    },
    "tags": []
   },
   "outputs": [
    {
     "data": {
      "text/html": [
       "<div>\n",
       "<style scoped>\n",
       "    .dataframe tbody tr th:only-of-type {\n",
       "        vertical-align: middle;\n",
       "    }\n",
       "\n",
       "    .dataframe tbody tr th {\n",
       "        vertical-align: top;\n",
       "    }\n",
       "\n",
       "    .dataframe thead th {\n",
       "        text-align: right;\n",
       "    }\n",
       "</style>\n",
       "<table border=\"1\" class=\"dataframe\">\n",
       "  <thead>\n",
       "    <tr style=\"text-align: right;\">\n",
       "      <th></th>\n",
       "      <th>sepal_length</th>\n",
       "      <th>sepal_width</th>\n",
       "      <th>petal_length</th>\n",
       "      <th>petal_width</th>\n",
       "      <th>target</th>\n",
       "    </tr>\n",
       "  </thead>\n",
       "  <tbody>\n",
       "    <tr>\n",
       "      <th>0</th>\n",
       "      <td>5.1</td>\n",
       "      <td>3.5</td>\n",
       "      <td>1.4</td>\n",
       "      <td>0.2</td>\n",
       "      <td>0</td>\n",
       "    </tr>\n",
       "    <tr>\n",
       "      <th>1</th>\n",
       "      <td>4.9</td>\n",
       "      <td>3.0</td>\n",
       "      <td>1.4</td>\n",
       "      <td>0.2</td>\n",
       "      <td>0</td>\n",
       "    </tr>\n",
       "    <tr>\n",
       "      <th>2</th>\n",
       "      <td>4.7</td>\n",
       "      <td>3.2</td>\n",
       "      <td>1.3</td>\n",
       "      <td>0.2</td>\n",
       "      <td>0</td>\n",
       "    </tr>\n",
       "  </tbody>\n",
       "</table>\n",
       "</div>"
      ],
      "text/plain": [
       "   sepal_length  sepal_width  petal_length  petal_width  target\n",
       "0           5.1          3.5           1.4          0.2       0\n",
       "1           4.9          3.0           1.4          0.2       0\n",
       "2           4.7          3.2           1.3          0.2       0"
      ]
     },
     "execution_count": 25,
     "metadata": {},
     "output_type": "execute_result"
    }
   ],
   "source": [
    "iris_df = pd.DataFrame(iris.data, columns=columns)\n",
    "iris_df['target'] = iris.target\n",
    "iris_df.head(3)"
   ]
  },
  {
   "cell_type": "markdown",
   "id": "1109db99-0de9-4734-9b7b-1300b366c1ff",
   "metadata": {},
   "source": [
    "## 각 클래스별 데이터 분포 시각화"
   ]
  },
  {
   "cell_type": "code",
   "execution_count": 27,
   "id": "a0afa5e2-02d4-4100-a58a-3579155d757a",
   "metadata": {
    "execution": {
     "iopub.execute_input": "2022-11-11T01:23:03.866261Z",
     "iopub.status.busy": "2022-11-11T01:23:03.866261Z",
     "iopub.status.idle": "2022-11-11T01:23:04.167281Z",
     "shell.execute_reply": "2022-11-11T01:23:04.167281Z",
     "shell.execute_reply.started": "2022-11-11T01:23:03.866261Z"
    },
    "tags": []
   },
   "outputs": [
    {
     "data": {
      "image/png": "[encoded data removed]",
      "text/plain": [
       "<Figure size 640x480 with 1 Axes>"
      ]
     },
     "metadata": {},
     "output_type": "display_data"
    }
   ],
   "source": [
    "markers = ['^', 's', 'o']\n",
    "\n",
    "for i, marker in enumerate(markers):\n",
    "    x_data = iris_df[iris_df['target'] == i]['sepal_length']\n",
    "    y_data = iris_df[iris_df['target'] == i]['sepal_width']\n",
    "    plt.scatter(x_data, y_data, marker=marker, label=iris.target_names[i])\n",
    "\n",
    "plt.legend(loc='best')\n",
    "plt.xlabel('sepal length')\n",
    "plt.ylabel('sepal width')\n",
    "plt.show()"
   ]
  },
  {
   "cell_type": "markdown",
   "id": "b6616972-4b46-45b0-b801-c72ba46596bd",
   "metadata": {},
   "source": [
    "## 스케일링\n",
    "- PCA는 적용전에 스케일링 작업이 필요하다"
   ]
  },
  {
   "cell_type": "code",
   "execution_count": 32,
   "id": "a27a40d6-12ee-41ba-821d-dec417adddf6",
   "metadata": {
    "execution": {
     "iopub.execute_input": "2022-11-11T01:34:50.322938Z",
     "iopub.status.busy": "2022-11-11T01:34:50.322938Z",
     "iopub.status.idle": "2022-11-11T01:34:50.332938Z",
     "shell.execute_reply": "2022-11-11T01:34:50.332938Z",
     "shell.execute_reply.started": "2022-11-11T01:34:50.322938Z"
    },
    "tags": []
   },
   "outputs": [
    {
     "data": {
      "text/html": [
       "<div>\n",
       "<style scoped>\n",
       "    .dataframe tbody tr th:only-of-type {\n",
       "        vertical-align: middle;\n",
       "    }\n",
       "\n",
       "    .dataframe tbody tr th {\n",
       "        vertical-align: top;\n",
       "    }\n",
       "\n",
       "    .dataframe thead th {\n",
       "        text-align: right;\n",
       "    }\n",
       "</style>\n",
       "<table border=\"1\" class=\"dataframe\">\n",
       "  <thead>\n",
       "    <tr style=\"text-align: right;\">\n",
       "      <th></th>\n",
       "      <th>0</th>\n",
       "      <th>1</th>\n",
       "      <th>2</th>\n",
       "      <th>3</th>\n",
       "      <th>target</th>\n",
       "    </tr>\n",
       "  </thead>\n",
       "  <tbody>\n",
       "    <tr>\n",
       "      <th>0</th>\n",
       "      <td>-0.900681</td>\n",
       "      <td>1.019004</td>\n",
       "      <td>-1.340227</td>\n",
       "      <td>-1.315444</td>\n",
       "      <td>0</td>\n",
       "    </tr>\n",
       "    <tr>\n",
       "      <th>1</th>\n",
       "      <td>-1.143017</td>\n",
       "      <td>-0.131979</td>\n",
       "      <td>-1.340227</td>\n",
       "      <td>-1.315444</td>\n",
       "      <td>0</td>\n",
       "    </tr>\n",
       "    <tr>\n",
       "      <th>2</th>\n",
       "      <td>-1.385353</td>\n",
       "      <td>0.328414</td>\n",
       "      <td>-1.397064</td>\n",
       "      <td>-1.315444</td>\n",
       "      <td>0</td>\n",
       "    </tr>\n",
       "  </tbody>\n",
       "</table>\n",
       "</div>"
      ],
      "text/plain": [
       "          0         1         2         3  target\n",
       "0 -0.900681  1.019004 -1.340227 -1.315444       0\n",
       "1 -1.143017 -0.131979 -1.340227 -1.315444       0\n",
       "2 -1.385353  0.328414 -1.397064 -1.315444       0"
      ]
     },
     "execution_count": 32,
     "metadata": {},
     "output_type": "execute_result"
    }
   ],
   "source": [
    "from sklearn.preprocessing import StandardScaler\n",
    "\n",
    "iris_input = iris_df.iloc[:, :-1]\n",
    "iris_scaled = StandardScaler().fit_transform(iris_input)\n",
    "iris_scaled_df = pd.DataFrame(iris_scaled)\n",
    "iris_scaled_df['target'] = iris_df.target\n",
    "iris_scaled_df.head(3)"
   ]
  },
  {
   "cell_type": "code",
   "execution_count": 38,
   "id": "3a505ef1-04c3-4047-a437-8d1943b38225",
   "metadata": {
    "execution": {
     "iopub.execute_input": "2022-11-11T01:38:25.184789Z",
     "iopub.status.busy": "2022-11-11T01:38:25.184789Z",
     "iopub.status.idle": "2022-11-11T01:38:25.207182Z",
     "shell.execute_reply": "2022-11-11T01:38:25.206180Z",
     "shell.execute_reply.started": "2022-11-11T01:38:25.184789Z"
    },
    "tags": []
   },
   "outputs": [
    {
     "data": {
      "text/html": [
       "<div>\n",
       "<style scoped>\n",
       "    .dataframe tbody tr th:only-of-type {\n",
       "        vertical-align: middle;\n",
       "    }\n",
       "\n",
       "    .dataframe tbody tr th {\n",
       "        vertical-align: top;\n",
       "    }\n",
       "\n",
       "    .dataframe thead th {\n",
       "        text-align: right;\n",
       "    }\n",
       "</style>\n",
       "<table border=\"1\" class=\"dataframe\">\n",
       "  <thead>\n",
       "    <tr style=\"text-align: right;\">\n",
       "      <th></th>\n",
       "      <th>0</th>\n",
       "      <th>1</th>\n",
       "      <th>2</th>\n",
       "      <th>3</th>\n",
       "    </tr>\n",
       "  </thead>\n",
       "  <tbody>\n",
       "    <tr>\n",
       "      <th>0</th>\n",
       "      <td>-0.900681</td>\n",
       "      <td>1.019004</td>\n",
       "      <td>-1.340227</td>\n",
       "      <td>-1.315444</td>\n",
       "    </tr>\n",
       "    <tr>\n",
       "      <th>1</th>\n",
       "      <td>-1.143017</td>\n",
       "      <td>-0.131979</td>\n",
       "      <td>-1.340227</td>\n",
       "      <td>-1.315444</td>\n",
       "    </tr>\n",
       "    <tr>\n",
       "      <th>2</th>\n",
       "      <td>-1.385353</td>\n",
       "      <td>0.328414</td>\n",
       "      <td>-1.397064</td>\n",
       "      <td>-1.315444</td>\n",
       "    </tr>\n",
       "  </tbody>\n",
       "</table>\n",
       "</div>"
      ],
      "text/plain": [
       "          0         1         2         3\n",
       "0 -0.900681  1.019004 -1.340227 -1.315444\n",
       "1 -1.143017 -0.131979 -1.340227 -1.315444\n",
       "2 -1.385353  0.328414 -1.397064 -1.315444"
      ]
     },
     "execution_count": 38,
     "metadata": {},
     "output_type": "execute_result"
    }
   ],
   "source": [
    "iris_f_scaled = pd.DataFrame(StandardScaler().fit_transform(iris_df.iloc[:, :-1]))\n",
    "iris_f_scaled.head(3)"
   ]
  },
  {
   "cell_type": "markdown",
   "id": "3048e28d-22ae-410a-a4b6-16895dc442ae",
   "metadata": {},
   "source": [
    "## 주성분 분석을 통해 차원축소"
   ]
  },
  {
   "cell_type": "code",
   "execution_count": 40,
   "id": "ae7a342c-b751-4401-a268-6527b7e1a989",
   "metadata": {
    "execution": {
     "iopub.execute_input": "2022-11-11T01:43:05.525753Z",
     "iopub.status.busy": "2022-11-11T01:43:05.525753Z",
     "iopub.status.idle": "2022-11-11T01:43:05.538573Z",
     "shell.execute_reply": "2022-11-11T01:43:05.537569Z",
     "shell.execute_reply.started": "2022-11-11T01:43:05.525753Z"
    },
    "tags": []
   },
   "outputs": [
    {
     "name": "stdout",
     "output_type": "stream",
     "text": [
      "스케일 데이터 : (150, 4)\n",
      "PCA 변환 데이터 : (150, 2)\n"
     ]
    }
   ],
   "source": [
    "from sklearn.decomposition import PCA\n",
    "\n",
    "# 변환할 차원 수 입력\n",
    "pca = PCA(n_components=2)\n",
    "\n",
    "# 스케일 데이터 => PCA 변환 데이터\n",
    "pca.fit(iris_f_scaled)\n",
    "iris_pca = pca.transform(iris_f_scaled)\n",
    "\n",
    "# 변환 후 차원 추출\n",
    "print(f'스케일 데이터 : {iris_f_scaled.shape}')\n",
    "print(f'PCA 변환 데이터 : {iris_pca.shape}')"
   ]
  },
  {
   "cell_type": "code",
   "execution_count": 41,
   "id": "8108f631-0e0d-4080-a510-37791a20e441",
   "metadata": {
    "execution": {
     "iopub.execute_input": "2022-11-11T01:46:28.054637Z",
     "iopub.status.busy": "2022-11-11T01:46:28.054637Z",
     "iopub.status.idle": "2022-11-11T01:46:28.071666Z",
     "shell.execute_reply": "2022-11-11T01:46:28.070666Z",
     "shell.execute_reply.started": "2022-11-11T01:46:28.054637Z"
    }
   },
   "outputs": [
    {
     "data": {
      "text/html": [
       "<div>\n",
       "<style scoped>\n",
       "    .dataframe tbody tr th:only-of-type {\n",
       "        vertical-align: middle;\n",
       "    }\n",
       "\n",
       "    .dataframe tbody tr th {\n",
       "        vertical-align: top;\n",
       "    }\n",
       "\n",
       "    .dataframe thead th {\n",
       "        text-align: right;\n",
       "    }\n",
       "</style>\n",
       "<table border=\"1\" class=\"dataframe\">\n",
       "  <thead>\n",
       "    <tr style=\"text-align: right;\">\n",
       "      <th></th>\n",
       "      <th>pca_component_1</th>\n",
       "      <th>pca_component_2</th>\n",
       "      <th>target</th>\n",
       "    </tr>\n",
       "  </thead>\n",
       "  <tbody>\n",
       "    <tr>\n",
       "      <th>0</th>\n",
       "      <td>-2.264703</td>\n",
       "      <td>0.480027</td>\n",
       "      <td>0</td>\n",
       "    </tr>\n",
       "    <tr>\n",
       "      <th>1</th>\n",
       "      <td>-2.080961</td>\n",
       "      <td>-0.674134</td>\n",
       "      <td>0</td>\n",
       "    </tr>\n",
       "    <tr>\n",
       "      <th>2</th>\n",
       "      <td>-2.364229</td>\n",
       "      <td>-0.341908</td>\n",
       "      <td>0</td>\n",
       "    </tr>\n",
       "  </tbody>\n",
       "</table>\n",
       "</div>"
      ],
      "text/plain": [
       "   pca_component_1  pca_component_2  target\n",
       "0        -2.264703         0.480027       0\n",
       "1        -2.080961        -0.674134       0\n",
       "2        -2.364229        -0.341908       0"
      ]
     },
     "execution_count": 41,
     "metadata": {},
     "output_type": "execute_result"
    }
   ],
   "source": [
    "# PCA 데이터 프레임 생성\n",
    "pca_columns = ['pca_component_1', 'pca_component_2']\n",
    "\n",
    "iris_df_pca = pd.DataFrame(iris_pca, columns=pca_columns)\n",
    "iris_df_pca['target'] = iris.target\n",
    "iris_df_pca.head(3)"
   ]
  },
  {
   "cell_type": "code",
   "execution_count": 42,
   "id": "57a7f1e0-6085-4669-9c2c-e9a0fe205b2c",
   "metadata": {
    "execution": {
     "iopub.execute_input": "2022-11-11T01:48:27.387818Z",
     "iopub.status.busy": "2022-11-11T01:48:27.387818Z",
     "iopub.status.idle": "2022-11-11T01:48:27.495720Z",
     "shell.execute_reply": "2022-11-11T01:48:27.495720Z",
     "shell.execute_reply.started": "2022-11-11T01:48:27.387818Z"
    }
   },
   "outputs": [
    {
     "data": {
      "image/png": "[encoded data removed]",
      "text/plain": [
       "<Figure size 640x480 with 1 Axes>"
      ]
     },
     "metadata": {},
     "output_type": "display_data"
    }
   ],
   "source": [
    "markers = ['^', 's', 'o']\n",
    "\n",
    "for i, marker in enumerate(markers):\n",
    "    x_data = iris_df_pca[iris_df_pca['target'] == i]['pca_component_1']\n",
    "    y_data = iris_df_pca[iris_df_pca['target'] == i]['pca_component_2']\n",
    "    plt.scatter(x_data, y_data, marker=marker, label=iris.target_names[i])\n",
    "\n",
    "plt.legend(loc='best')\n",
    "plt.xlabel('pca_component_1')\n",
    "plt.ylabel('pca_component_2')\n",
    "plt.show()"
   ]
  },
  {
   "cell_type": "code",
   "execution_count": 45,
   "id": "6b6adaad-63a7-4535-8b32-0cdf63b072fb",
   "metadata": {
    "execution": {
     "iopub.execute_input": "2022-11-11T01:53:46.531196Z",
     "iopub.status.busy": "2022-11-11T01:53:46.531196Z",
     "iopub.status.idle": "2022-11-11T01:53:46.548197Z",
     "shell.execute_reply": "2022-11-11T01:53:46.548197Z",
     "shell.execute_reply.started": "2022-11-11T01:53:46.531196Z"
    },
    "tags": []
   },
   "outputs": [
    {
     "data": {
      "text/plain": [
       "0.9581320720000164"
      ]
     },
     "execution_count": 45,
     "metadata": {},
     "output_type": "execute_result"
    }
   ],
   "source": [
    "# component 변동성이 반영된 변동 비율\n",
    "pca.explained_variance_ratio_[0] + pca.explained_variance_ratio_[1]"
   ]
  },
  {
   "cell_type": "markdown",
   "id": "52f53856-21fa-4823-b431-3f7ac013ad16",
   "metadata": {},
   "source": [
    "## PCA 변환 전/후 분류"
   ]
  },
  {
   "cell_type": "code",
   "execution_count": 48,
   "id": "9a4a5e3f-1ba2-4139-babc-a30491d8b47b",
   "metadata": {
    "execution": {
     "iopub.execute_input": "2022-11-11T02:19:11.679770Z",
     "iopub.status.busy": "2022-11-11T02:19:11.679770Z",
     "iopub.status.idle": "2022-11-11T02:19:11.878690Z",
     "shell.execute_reply": "2022-11-11T02:19:11.878690Z",
     "shell.execute_reply.started": "2022-11-11T02:19:11.679770Z"
    },
    "tags": []
   },
   "outputs": [
    {
     "name": "stdout",
     "output_type": "stream",
     "text": [
      "원본 데이터 fold별 정확도: [0.98 0.94 0.96]\n",
      "원본 데이터 평균 정확도:  0.9600\n"
     ]
    }
   ],
   "source": [
    "from sklearn.ensemble import RandomForestClassifier\n",
    "from sklearn.model_selection import cross_val_score\n",
    "\n",
    "# 분류 모델 : 랜덤포레스트\n",
    "rcf = RandomForestClassifier(random_state=2022)\n",
    "\n",
    "# 교차검증\n",
    "scores = cross_val_score(rcf, iris_df.iloc[:, :-1],\n",
    "                         iris_df.target, scoring='accuracy', cv=3)\n",
    "# 정확도\n",
    "print(f'원본 데이터 fold별 정확도: {scores}')\n",
    "print(f'원본 데이터 평균 정확도: {np.mean(scores): .4f}')"
   ]
  },
  {
   "cell_type": "code",
   "execution_count": 49,
   "id": "73221e38-a40c-4dab-ad32-f2d11840aae8",
   "metadata": {
    "execution": {
     "iopub.execute_input": "2022-11-11T02:21:46.644829Z",
     "iopub.status.busy": "2022-11-11T02:21:46.643830Z",
     "iopub.status.idle": "2022-11-11T02:21:46.846394Z",
     "shell.execute_reply": "2022-11-11T02:21:46.846394Z",
     "shell.execute_reply.started": "2022-11-11T02:21:46.644829Z"
    }
   },
   "outputs": [
    {
     "name": "stdout",
     "output_type": "stream",
     "text": [
      "원본 데이터 fold별 정확도: [0.88 0.88 0.9 ]\n",
      "원본 데이터 평균 정확도:  0.8867\n"
     ]
    }
   ],
   "source": [
    "# 분류 모델 : 랜덤포레스트\n",
    "rcf = RandomForestClassifier(random_state=2022)\n",
    "\n",
    "# 교차검증\n",
    "pca_scores = cross_val_score(rcf, iris_df_pca.iloc[:, :-1],\n",
    "                             iris_df_pca.target, scoring='accuracy', cv=3)\n",
    "# 정확도\n",
    "print(f'원본 데이터 fold별 정확도: {pca_scores}')\n",
    "print(f'원본 데이터 평균 정확도: {np.mean(pca_scores): .4f}')"
   ]
  },
  {
   "cell_type": "markdown",
   "id": "116851fb-712b-4f46-b5b5-fab6cbbb9c70",
   "metadata": {},
   "source": [
    "# UCI 신용카드 고객 데이터"
   ]
  },
  {
   "cell_type": "code",
   "execution_count": 51,
   "id": "c9bb0f30-65c2-41c6-8231-d309bef37e56",
   "metadata": {
    "execution": {
     "iopub.execute_input": "2022-11-11T02:39:37.156718Z",
     "iopub.status.busy": "2022-11-11T02:39:37.156718Z",
     "iopub.status.idle": "2022-11-11T02:39:38.224527Z",
     "shell.execute_reply": "2022-11-11T02:39:38.224527Z",
     "shell.execute_reply.started": "2022-11-11T02:39:37.156718Z"
    },
    "tags": []
   },
   "outputs": [
    {
     "data": {
      "text/html": [
       "<div>\n",
       "<style scoped>\n",
       "    .dataframe tbody tr th:only-of-type {\n",
       "        vertical-align: middle;\n",
       "    }\n",
       "\n",
       "    .dataframe tbody tr th {\n",
       "        vertical-align: top;\n",
       "    }\n",
       "\n",
       "    .dataframe thead th {\n",
       "        text-align: right;\n",
       "    }\n",
       "</style>\n",
       "<table border=\"1\" class=\"dataframe\">\n",
       "  <thead>\n",
       "    <tr style=\"text-align: right;\">\n",
       "      <th></th>\n",
       "      <th>LIMIT_BAL</th>\n",
       "      <th>SEX</th>\n",
       "      <th>EDUCATION</th>\n",
       "      <th>MARRIAGE</th>\n",
       "      <th>AGE</th>\n",
       "      <th>PAY_0</th>\n",
       "      <th>PAY_2</th>\n",
       "      <th>PAY_3</th>\n",
       "      <th>PAY_4</th>\n",
       "      <th>PAY_5</th>\n",
       "      <th>...</th>\n",
       "      <th>BILL_AMT4</th>\n",
       "      <th>BILL_AMT5</th>\n",
       "      <th>BILL_AMT6</th>\n",
       "      <th>PAY_AMT1</th>\n",
       "      <th>PAY_AMT2</th>\n",
       "      <th>PAY_AMT3</th>\n",
       "      <th>PAY_AMT4</th>\n",
       "      <th>PAY_AMT5</th>\n",
       "      <th>PAY_AMT6</th>\n",
       "      <th>default payment next month</th>\n",
       "    </tr>\n",
       "  </thead>\n",
       "  <tbody>\n",
       "    <tr>\n",
       "      <th>0</th>\n",
       "      <td>20000</td>\n",
       "      <td>2</td>\n",
       "      <td>2</td>\n",
       "      <td>1</td>\n",
       "      <td>24</td>\n",
       "      <td>2</td>\n",
       "      <td>2</td>\n",
       "      <td>-1</td>\n",
       "      <td>-1</td>\n",
       "      <td>-2</td>\n",
       "      <td>...</td>\n",
       "      <td>0</td>\n",
       "      <td>0</td>\n",
       "      <td>0</td>\n",
       "      <td>0</td>\n",
       "      <td>689</td>\n",
       "      <td>0</td>\n",
       "      <td>0</td>\n",
       "      <td>0</td>\n",
       "      <td>0</td>\n",
       "      <td>1</td>\n",
       "    </tr>\n",
       "    <tr>\n",
       "      <th>1</th>\n",
       "      <td>120000</td>\n",
       "      <td>2</td>\n",
       "      <td>2</td>\n",
       "      <td>2</td>\n",
       "      <td>26</td>\n",
       "      <td>-1</td>\n",
       "      <td>2</td>\n",
       "      <td>0</td>\n",
       "      <td>0</td>\n",
       "      <td>0</td>\n",
       "      <td>...</td>\n",
       "      <td>3272</td>\n",
       "      <td>3455</td>\n",
       "      <td>3261</td>\n",
       "      <td>0</td>\n",
       "      <td>1000</td>\n",
       "      <td>1000</td>\n",
       "      <td>1000</td>\n",
       "      <td>0</td>\n",
       "      <td>2000</td>\n",
       "      <td>1</td>\n",
       "    </tr>\n",
       "    <tr>\n",
       "      <th>2</th>\n",
       "      <td>90000</td>\n",
       "      <td>2</td>\n",
       "      <td>2</td>\n",
       "      <td>2</td>\n",
       "      <td>34</td>\n",
       "      <td>0</td>\n",
       "      <td>0</td>\n",
       "      <td>0</td>\n",
       "      <td>0</td>\n",
       "      <td>0</td>\n",
       "      <td>...</td>\n",
       "      <td>14331</td>\n",
       "      <td>14948</td>\n",
       "      <td>15549</td>\n",
       "      <td>1518</td>\n",
       "      <td>1500</td>\n",
       "      <td>1000</td>\n",
       "      <td>1000</td>\n",
       "      <td>1000</td>\n",
       "      <td>5000</td>\n",
       "      <td>0</td>\n",
       "    </tr>\n",
       "  </tbody>\n",
       "</table>\n",
       "<p>3 rows × 24 columns</p>\n",
       "</div>"
      ],
      "text/plain": [
       "   LIMIT_BAL  SEX  EDUCATION  MARRIAGE  AGE  PAY_0  PAY_2  PAY_3  PAY_4  \\\n",
       "0      20000    2          2         1   24      2      2     -1     -1   \n",
       "1     120000    2          2         2   26     -1      2      0      0   \n",
       "2      90000    2          2         2   34      0      0      0      0   \n",
       "\n",
       "   PAY_5  ...  BILL_AMT4  BILL_AMT5  BILL_AMT6  PAY_AMT1  PAY_AMT2  PAY_AMT3  \\\n",
       "0     -2  ...          0          0          0         0       689         0   \n",
       "1      0  ...       3272       3455       3261         0      1000      1000   \n",
       "2      0  ...      14331      14948      15549      1518      1500      1000   \n",
       "\n",
       "   PAY_AMT4  PAY_AMT5  PAY_AMT6  default payment next month  \n",
       "0         0         0         0                           1  \n",
       "1      1000         0      2000                           1  \n",
       "2      1000      1000      5000                           0  \n",
       "\n",
       "[3 rows x 24 columns]"
      ]
     },
     "execution_count": 51,
     "metadata": {},
     "output_type": "execute_result"
    }
   ],
   "source": [
    "df = pd.read_excel('C:/k_digital/source/data/pca_credit_card.xls',\n",
    "                   header=1, sheet_name='Data').iloc[0:, 1:]  #\n",
    "df.head(3)"
   ]
  },
  {
   "cell_type": "code",
   "execution_count": 52,
   "id": "c0811a76-051d-4279-a204-77a4f9900577",
   "metadata": {
    "execution": {
     "iopub.execute_input": "2022-11-11T02:39:42.134447Z",
     "iopub.status.busy": "2022-11-11T02:39:42.134447Z",
     "iopub.status.idle": "2022-11-11T02:39:42.148365Z",
     "shell.execute_reply": "2022-11-11T02:39:42.147363Z",
     "shell.execute_reply.started": "2022-11-11T02:39:42.134447Z"
    }
   },
   "outputs": [
    {
     "data": {
      "text/plain": [
       "(30000, 24)"
      ]
     },
     "execution_count": 52,
     "metadata": {},
     "output_type": "execute_result"
    }
   ],
   "source": [
    "df.shape"
   ]
  },
  {
   "cell_type": "code",
   "execution_count": 53,
   "id": "3520d040-6f29-437f-9105-5956913f9fff",
   "metadata": {
    "execution": {
     "iopub.execute_input": "2022-11-11T02:47:24.720718Z",
     "iopub.status.busy": "2022-11-11T02:47:24.719722Z",
     "iopub.status.idle": "2022-11-11T02:47:24.745406Z",
     "shell.execute_reply": "2022-11-11T02:47:24.744407Z",
     "shell.execute_reply.started": "2022-11-11T02:47:24.720718Z"
    }
   },
   "outputs": [],
   "source": [
    "# 컬럼명 변경\n",
    "df.rename(columns={'PAY_0': 'PAY_1', 'default payment next month': 'default'},\n",
    "          inplace=True)"
   ]
  },
  {
   "cell_type": "code",
   "execution_count": 55,
   "id": "7aa37ff8-6863-4d0c-8933-8da2b41797eb",
   "metadata": {
    "execution": {
     "iopub.execute_input": "2022-11-11T02:56:19.874289Z",
     "iopub.status.busy": "2022-11-11T02:56:19.874289Z",
     "iopub.status.idle": "2022-11-11T02:56:19.887278Z",
     "shell.execute_reply": "2022-11-11T02:56:19.887278Z",
     "shell.execute_reply.started": "2022-11-11T02:56:19.874289Z"
    }
   },
   "outputs": [],
   "source": [
    "X_features = df.drop('default', axis=1)\n",
    "y_target = df['default']"
   ]
  },
  {
   "cell_type": "code",
   "execution_count": 57,
   "id": "db3a72f9-db2a-4c4e-af86-f62e8e785d86",
   "metadata": {
    "execution": {
     "iopub.execute_input": "2022-11-11T02:57:15.550204Z",
     "iopub.status.busy": "2022-11-11T02:57:15.550204Z",
     "iopub.status.idle": "2022-11-11T02:57:15.761411Z",
     "shell.execute_reply": "2022-11-11T02:57:15.760458Z",
     "shell.execute_reply.started": "2022-11-11T02:57:15.550204Z"
    },
    "tags": []
   },
   "outputs": [
    {
     "data": {
      "text/plain": [
       "<AxesSubplot:>"
      ]
     },
     "execution_count": 57,
     "metadata": {},
     "output_type": "execute_result"
    },
    {
     "data": {
      "image/png": "[encoded data removed]",
      "text/plain": [
       "<Figure size 640x480 with 2 Axes>"
      ]
     },
     "metadata": {},
     "output_type": "display_data"
    }
   ],
   "source": [
    "# 피처선택 : 불필요한 피처 제거 - 상관계수 확인\n",
    "cols_bill = ['BILL_AMT' + str(i) for i in range(1, 7)]\n",
    "\n",
    "# 피처 상관관계\n",
    "# corr = X_features.corr()\n",
    "corr = X_features[cols_bill].corr()\n",
    "sns.heatmap(corr, annot=True, fmt='.1f')"
   ]
  },
  {
   "cell_type": "code",
   "execution_count": 58,
   "id": "b480b198-1f6e-4429-9a6d-aa4922bac729",
   "metadata": {
    "execution": {
     "iopub.execute_input": "2022-11-11T03:02:48.733472Z",
     "iopub.status.busy": "2022-11-11T03:02:48.732465Z",
     "iopub.status.idle": "2022-11-11T03:02:48.787667Z",
     "shell.execute_reply": "2022-11-11T03:02:48.786668Z",
     "shell.execute_reply.started": "2022-11-11T03:02:48.733472Z"
    }
   },
   "outputs": [
    {
     "name": "stdout",
     "output_type": "stream",
     "text": [
      "PCA Component별 연동성: [0.90555253 0.0509867 ]\n"
     ]
    }
   ],
   "source": [
    "scaler = StandardScaler()\n",
    "df_cols_scaled = scaler.fit_transform(X_features[cols_bill])\n",
    "\n",
    "pca = PCA(n_components=2)\n",
    "pca.fit(df_cols_scaled)\n",
    "\n",
    "print('PCA Component별 연동성:', pca.explained_variance_ratio_)"
   ]
  },
  {
   "cell_type": "code",
   "execution_count": 65,
   "id": "54dbf0ee-b8a5-4026-9556-987ea0bfd16b",
   "metadata": {
    "execution": {
     "iopub.execute_input": "2022-11-11T03:16:14.437777Z",
     "iopub.status.busy": "2022-11-11T03:16:14.437777Z",
     "iopub.status.idle": "2022-11-11T03:16:20.460918Z",
     "shell.execute_reply": "2022-11-11T03:16:20.459962Z",
     "shell.execute_reply.started": "2022-11-11T03:16:14.437777Z"
    },
    "tags": []
   },
   "outputs": [
    {
     "name": "stdout",
     "output_type": "stream",
     "text": [
      "원본 데이터 fold별 정확도: [0.8082 0.8217 0.8223]\n",
      "원본 데이터 평균 정확도:  0.8174\n"
     ]
    }
   ],
   "source": [
    "rcf = RandomForestClassifier(n_estimators=300, random_state=1017, n_jobs=-1)\n",
    "\n",
    "scores = cross_val_score(rcf, X_features, y_target, scoring='accuracy', cv=3)\n",
    "\n",
    "print(f'원본 데이터 fold별 정확도: {scores}')\n",
    "print(f'원본 데이터 평균 정확도: {np.mean(scores): .4f}')"
   ]
  },
  {
   "cell_type": "code",
   "execution_count": 68,
   "id": "f6b276a9-98eb-4cea-af8d-bef3fdfb309e",
   "metadata": {
    "execution": {
     "iopub.execute_input": "2022-11-11T04:55:56.225799Z",
     "iopub.status.busy": "2022-11-11T04:55:56.224804Z",
     "iopub.status.idle": "2022-11-11T04:56:01.880543Z",
     "shell.execute_reply": "2022-11-11T04:56:01.879560Z",
     "shell.execute_reply.started": "2022-11-11T04:55:56.225799Z"
    },
    "tags": []
   },
   "outputs": [
    {
     "name": "stdout",
     "output_type": "stream",
     "text": [
      "원본 데이터 fold별 정확도: [0.7904 0.798  0.8017]\n",
      "원본 데이터 평균 정확도:  0.7967\n"
     ]
    }
   ],
   "source": [
    "scaler = StandardScaler()\n",
    "df_scaled = scaler.fit_transform(X_features)\n",
    "\n",
    "pca = PCA(n_components=6)\n",
    "df_pca = pca.fit_transform(df_scaled)\n",
    "\n",
    "rcf = RandomForestClassifier(n_estimators=300, random_state=1017, n_jobs=-1)\n",
    "\n",
    "pca_scores = cross_val_score(rcf, df_pca, y_target, scoring='accuracy', cv=3)\n",
    "\n",
    "print(f'원본 데이터 fold별 정확도: {pca_scores}')\n",
    "print(f'원본 데이터 평균 정확도: {np.mean(pca_scores): .4f}')"
   ]
  }
 ],
 "metadata": {
  "kernelspec": {
   "display_name": "Python 3 (ipykernel)",
   "language": "python",
   "name": "python3"
  },
  "language_info": {
   "codemirror_mode": {
    "name": "ipython",
    "version": 3
   },
   "file_extension": ".py",
   "mimetype": "text/x-python",
   "name": "python",
   "nbconvert_exporter": "python",
   "pygments_lexer": "ipython3",
   "version": "3.9.0"
  }
 },
 "nbformat": 4,
 "nbformat_minor": 5
}
