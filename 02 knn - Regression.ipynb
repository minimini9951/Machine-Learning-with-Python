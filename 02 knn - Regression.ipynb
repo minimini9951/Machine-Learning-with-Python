{
 "cells": [
  {
   "cell_type": "markdown",
   "id": "25174740-960d-4bc3-b148-8434b69773d2",
   "metadata": {},
   "source": [
    "# k-최근접 이웃 회귀 알고리즘\n",
    "- 단점 : 데이터가 커지면 비용과 시간이 많이듬, 데이터 범위 밖은 예측 불가능\n",
    "- k = 3 이면 데이터에 가까운 순서대로 3개를 가져와서 데이터의 값을 판단\n",
    "- 분류 알고리즘에서는 데이터가 어느쪽인지를 판단하였음"
   ]
  },
  {
   "cell_type": "markdown",
   "id": "b989bfa1-6418-4f88-85a5-afda926d056b",
   "metadata": {},
   "source": [
    "## k-최근접 이웃 회귀(knn regression)\n",
    "- 회귀(regression) : 특정한 입력변수값을 사용하여 출력변수의 값을 계산하는 것을 예측(prediction)문제라고 한다.\n",
    "  예측문제 중에서 출력변수의 값이 연속값인 문제를 회귀(regression) 또는 회귀분석(regression analysis)라고 부른다.\n",
    "- KNN Regression(k-최근접 이웃 회귀)알고리즘 : 주변의 가장 가까운 K개의 샘플을 통해 값을 예측하는 방식으로\n",
    "  가장 간단한 방식으로는 K개 샘플의 평균을 이용할 수 있다."
   ]
  },
  {
   "cell_type": "markdown",
   "id": "e83bf99b-03bb-4c4a-a470-e59792b9c8ee",
   "metadata": {},
   "source": [
    "### 분류 및 예측을 위한 모델\n",
    "1. Model_based Learning(모델 기반 학습)\n",
    "  - 데이터로부터 모델을 생성하여 분류/예측을 진행\n",
    "  - 선형/비선형 모델(linear regression, logistic regression)\n",
    "  - Neural Network\n",
    "  - 의사결정나무(decision tree)\n",
    "  - SVM(Support Vector Machine)\n",
    "2. Instance_based Learning(사례 기반 학습)\n",
    "  - 별도의 모델 생성없이 데이터베이스에 있는 자료들을 분류/예측에 사용\n",
    "  - 각각의 관측치만을 이용하여 새로운 데이터에 대한 예측을 진행\n",
    "  - 대표적인 알고리즘 : knn"
   ]
  },
  {
   "cell_type": "code",
   "execution_count": 25,
   "id": "875a4631-e40e-4657-af86-426b886ac872",
   "metadata": {
    "execution": {
     "iopub.execute_input": "2022-11-01T01:32:22.679792Z",
     "iopub.status.busy": "2022-11-01T01:32:22.679792Z",
     "iopub.status.idle": "2022-11-01T01:32:22.714668Z",
     "shell.execute_reply": "2022-11-01T01:32:22.713589Z",
     "shell.execute_reply.started": "2022-11-01T01:32:22.679792Z"
    },
    "tags": []
   },
   "outputs": [],
   "source": [
    "import numpy as np\n",
    "import pandas as pd\n",
    "import matplotlib.pyplot as plt\n",
    "import matplotlib as mpl\n",
    "import seaborn as sns\n",
    "from sklearn.model_selection import train_test_split\n",
    "from sklearn.neighbors import KNeighborsRegressor\n",
    "from sklearn.metrics import mean_absolute_error\n",
    "import warnings\n",
    "import sys\n",
    "import scipy as sp\n",
    "import IPython\n",
    "import sklearn\n",
    "\n",
    "warnings.simplefilter(action='ignore', category=FutureWarning)\n",
    "%matplotlib inline\n",
    "\n",
    "mpl.rcParams['font.family'] = 'D2coding'  # 한글 깨짐 해결"
   ]
  },
  {
   "cell_type": "markdown",
   "id": "f9938d49-70a6-4ca1-a531-c970d270648f",
   "metadata": {},
   "source": [
    "### 생선 무게 예측"
   ]
  },
  {
   "cell_type": "code",
   "execution_count": 3,
   "id": "be43c876-9c23-45bb-a9af-1b529e8514d4",
   "metadata": {
    "execution": {
     "iopub.execute_input": "2022-11-01T01:09:04.828924Z",
     "iopub.status.busy": "2022-11-01T01:09:04.828924Z",
     "iopub.status.idle": "2022-11-01T01:09:04.851910Z",
     "shell.execute_reply": "2022-11-01T01:09:04.850911Z",
     "shell.execute_reply.started": "2022-11-01T01:09:04.828924Z"
    },
    "tags": []
   },
   "outputs": [],
   "source": [
    "perch_length = np.array([8.4, 13.7, 15.0, 16.2, 17.4,\n",
    "                         18.0, 18.7, 19.0, 19.6, 20.0,\n",
    "                         21.0, 21.0, 21.0, 21.3, 22.0,\n",
    "                         22.0, 22.0, 22.0, 22.0, 22.5,\n",
    "                         22.5, 22.7, 23.0, 23.5, 24.0,\n",
    "                         24.0, 24.6, 25.0, 25.6, 26.5,\n",
    "                         27.3, 27.5, 27.5, 27.5, 28.0,\n",
    "                         28.7, 30.0, 32.8, 34.5, 35.0,\n",
    "                         36.5, 36.0, 37.0, 37.0, 39.0,\n",
    "                         39.0, 39.0, 40.0, 40.0, 40.0,\n",
    "                         40.0, 42.0, 43.0, 43.0, 43.5, 44.0])\n",
    "perch_weight = np.array([5.9, 32.0, 40.0, 51.5, 70.0, 100.0,\n",
    "                         78.0, 80.0, 85.0, 85.0, 110.0,\n",
    "                         115.0, 125.0, 130.0, 120.0, 120.0,\n",
    "                         130.0, 135.0, 110.0, 130.0, 150.0,\n",
    "                         145.0, 150.0, 170.0, 225.0, 145.0,\n",
    "                         188.0, 180.0, 197.0, 218.0, 300.0,\n",
    "                         260.0, 265.0, 250.0, 250.0, 300.0,\n",
    "                         320.0, 514.0, 556.0, 840.0, 685.0,\n",
    "                         700.0, 700.0, 690.0, 900.0, 650.0,\n",
    "                         820.0, 850.0, 900.0, 1015.0, 820.0,\n",
    "                         1100.0, 1000.0, 1100.0, 1000.0, 1000.0])"
   ]
  },
  {
   "cell_type": "code",
   "execution_count": 4,
   "id": "87ae403b-ab54-46cf-92f1-3cbbc21a0206",
   "metadata": {
    "execution": {
     "iopub.execute_input": "2022-11-01T00:29:22.978762Z",
     "iopub.status.busy": "2022-11-01T00:29:22.978762Z",
     "iopub.status.idle": "2022-11-01T00:29:23.101171Z",
     "shell.execute_reply": "2022-11-01T00:29:23.101171Z",
     "shell.execute_reply.started": "2022-11-01T00:29:22.978762Z"
    }
   },
   "outputs": [
    {
     "data": {
      "image/png": "[encoded data removed]",
      "text/plain": [
       "<Figure size 640x480 with 1 Axes>"
      ]
     },
     "metadata": {},
     "output_type": "display_data"
    }
   ],
   "source": [
    "plt.scatter(perch_length, perch_weight)\n",
    "plt.xlabel('length')\n",
    "plt.ylabel('weight')\n",
    "plt.show()"
   ]
  },
  {
   "cell_type": "markdown",
   "id": "77ebb4e0-8830-47ad-91e7-9d3c8ff7b498",
   "metadata": {},
   "source": [
    "### 데이터 분리 "
   ]
  },
  {
   "cell_type": "code",
   "execution_count": 4,
   "id": "a34741fc-d800-4343-b4c5-c8c40466e0ff",
   "metadata": {
    "execution": {
     "iopub.execute_input": "2022-11-01T01:09:09.331459Z",
     "iopub.status.busy": "2022-11-01T01:09:09.331459Z",
     "iopub.status.idle": "2022-11-01T01:09:09.353382Z",
     "shell.execute_reply": "2022-11-01T01:09:09.352041Z",
     "shell.execute_reply.started": "2022-11-01T01:09:09.331459Z"
    },
    "tags": []
   },
   "outputs": [],
   "source": [
    "# train_test_split import\n",
    "train_input, test_input, train_target, test_target = train_test_split(\n",
    "    perch_length, perch_weight, random_state=42\n",
    ")"
   ]
  },
  {
   "cell_type": "code",
   "execution_count": 5,
   "id": "5fa15d83-350e-44d6-84e7-e7b708aecebe",
   "metadata": {
    "execution": {
     "iopub.execute_input": "2022-11-01T01:09:13.960834Z",
     "iopub.status.busy": "2022-11-01T01:09:13.960834Z",
     "iopub.status.idle": "2022-11-01T01:09:13.978294Z",
     "shell.execute_reply": "2022-11-01T01:09:13.977873Z",
     "shell.execute_reply.started": "2022-11-01T01:09:13.960834Z"
    },
    "tags": []
   },
   "outputs": [],
   "source": [
    "train_input = train_input.reshape(-1, 1)\n",
    "test_input = test_input.reshape(-1, 1)"
   ]
  },
  {
   "cell_type": "code",
   "execution_count": 6,
   "id": "d04fb4d7-fec7-4916-8d30-f02e9d62539e",
   "metadata": {
    "execution": {
     "iopub.execute_input": "2022-11-01T01:09:14.986548Z",
     "iopub.status.busy": "2022-11-01T01:09:14.986548Z",
     "iopub.status.idle": "2022-11-01T01:09:15.003953Z",
     "shell.execute_reply": "2022-11-01T01:09:15.003953Z",
     "shell.execute_reply.started": "2022-11-01T01:09:14.986548Z"
    },
    "tags": []
   },
   "outputs": [
    {
     "data": {
      "text/plain": [
       "KNeighborsRegressor()"
      ]
     },
     "execution_count": 6,
     "metadata": {},
     "output_type": "execute_result"
    }
   ],
   "source": [
    "knr = KNeighborsRegressor()\n",
    "\n",
    "knr.fit(train_input, train_target)"
   ]
  },
  {
   "cell_type": "markdown",
   "id": "668111e0-5965-4a9b-b637-0c90d3cacb74",
   "metadata": {},
   "source": [
    "### ML Package Version List"
   ]
  },
  {
   "cell_type": "code",
   "execution_count": 20,
   "id": "62c913c1-d890-484b-ba78-b43f10e3e2af",
   "metadata": {
    "execution": {
     "iopub.execute_input": "2022-11-01T01:15:16.350534Z",
     "iopub.status.busy": "2022-11-01T01:15:16.350534Z",
     "iopub.status.idle": "2022-11-01T01:15:16.372378Z",
     "shell.execute_reply": "2022-11-01T01:15:16.371416Z",
     "shell.execute_reply.started": "2022-11-01T01:15:16.350534Z"
    },
    "tags": []
   },
   "outputs": [
    {
     "name": "stdout",
     "output_type": "stream",
     "text": [
      "Python version : 3.9.13 (main, Aug 25 2022, 23:51:50) [MSC v.1916 64 bit (AMD64)]\n",
      "Pandas version : 1.4.4\n",
      "matplotlib version : 3.5.2\n",
      "scipy version : 1.9.1\n",
      "IPython version : 7.31.1\n",
      "scikit version : 1.0.2\n"
     ]
    }
   ],
   "source": [
    "print('Python version :', sys.version)\n",
    "print('Pandas version :', pd.__version__)\n",
    "print('matplotlib version :', mpl.__version__)\n",
    "print('scipy version :', sp.__version__)\n",
    "print('IPython version :', IPython.__version__)\n",
    "print('scikit version :', sklearn.__version__)"
   ]
  },
  {
   "cell_type": "code",
   "execution_count": 23,
   "id": "1ac6d737-36cd-45cf-a05a-007d1ca52bdb",
   "metadata": {
    "execution": {
     "iopub.execute_input": "2022-11-01T01:27:51.384897Z",
     "iopub.status.busy": "2022-11-01T01:27:51.384897Z",
     "iopub.status.idle": "2022-11-01T01:27:51.410495Z",
     "shell.execute_reply": "2022-11-01T01:27:51.409119Z",
     "shell.execute_reply.started": "2022-11-01T01:27:51.384897Z"
    },
    "tags": []
   },
   "outputs": [
    {
     "data": {
      "text/plain": [
       "0.992809406101064"
      ]
     },
     "execution_count": 23,
     "metadata": {},
     "output_type": "execute_result"
    }
   ],
   "source": [
    "# 정답을 맞춘 갯수의 비율\n",
    "knr.score(test_input, test_target)"
   ]
  },
  {
   "cell_type": "code",
   "execution_count": 26,
   "id": "0ce48e9d-c788-4e8a-99fb-c2bfc1eeb8ab",
   "metadata": {
    "execution": {
     "iopub.execute_input": "2022-11-01T01:34:24.373672Z",
     "iopub.status.busy": "2022-11-01T01:34:24.373672Z",
     "iopub.status.idle": "2022-11-01T01:34:24.406424Z",
     "shell.execute_reply": "2022-11-01T01:34:24.405427Z",
     "shell.execute_reply.started": "2022-11-01T01:34:24.373672Z"
    }
   },
   "outputs": [
    {
     "data": {
      "text/plain": [
       "19.157142857142862"
      ]
     },
     "execution_count": 26,
     "metadata": {},
     "output_type": "execute_result"
    }
   ],
   "source": [
    "# 결정계수(R2) = 1 - (타겟 - 예측)^2 의 합 / (타깃 - 평균)^2 의 합\n",
    "# mean_absolute_error import\n",
    "# MAE : 타깃과 예측의 절대값 오차를 평균하여 반환\n",
    "# 테스트 데이터의 예측\n",
    "test_predict = knr.predict(test_input)\n",
    "mae = mean_absolute_error(test_target, test_predict)\n",
    "mae"
   ]
  },
  {
   "cell_type": "code",
   "execution_count": 27,
   "id": "6cc92b6b-a492-4ae1-8587-b0ec3fc34615",
   "metadata": {
    "execution": {
     "iopub.execute_input": "2022-11-01T01:36:18.519177Z",
     "iopub.status.busy": "2022-11-01T01:36:18.519177Z",
     "iopub.status.idle": "2022-11-01T01:36:18.535233Z",
     "shell.execute_reply": "2022-11-01T01:36:18.534231Z",
     "shell.execute_reply.started": "2022-11-01T01:36:18.519177Z"
    }
   },
   "outputs": [
    {
     "data": {
      "text/plain": [
       "0.9698823289099254"
      ]
     },
     "execution_count": 27,
     "metadata": {},
     "output_type": "execute_result"
    }
   ],
   "source": [
    "# 훈련데이터 정확도 측정\n",
    "knr.score(train_input, train_target)"
   ]
  },
  {
   "cell_type": "markdown",
   "id": "11d1487b-8ace-484f-bfd2-2391688f31e7",
   "metadata": {},
   "source": [
    "### 과대적합 & 과소적합\n",
    "- 과대적합(Overfitting) : 훈련 세트에서 점수가 좋았는데 테스트 세트에서는 점수가 굉장히 나쁠때\n",
    "- 과소적합(Underfitting) : 훈련 세트보다 테스트 세트의 점수가 높거나 두 점수가 너무 낮은 경우\n",
    "- 일반적으로 과대적합과 과소적합이 발생하는 이유중 하나는 데이터의 크기가 매우 작기 때문이다."
   ]
  },
  {
   "cell_type": "code",
   "execution_count": 30,
   "id": "e18898d0-b35a-43ad-b988-41c6e646c308",
   "metadata": {
    "execution": {
     "iopub.execute_input": "2022-11-01T01:47:39.294417Z",
     "iopub.status.busy": "2022-11-01T01:47:39.294417Z",
     "iopub.status.idle": "2022-11-01T01:47:39.316735Z",
     "shell.execute_reply": "2022-11-01T01:47:39.315749Z",
     "shell.execute_reply.started": "2022-11-01T01:47:39.294417Z"
    },
    "tags": []
   },
   "outputs": [
    {
     "name": "stdout",
     "output_type": "stream",
     "text": [
      "0.9804899950518966\n",
      "0.9746459963987609\n"
     ]
    }
   ],
   "source": [
    "# 테스트의 결정계수가 훈련의 결정계수보다 점수가 높아서 과소적합을 의심할 수 있다.\n",
    "# 과소적합을 해결하는 일반적인 방법은 모델을 복잡하게 만드는 것이다.\n",
    "# k-최근접 이웃의 모델을 복잡하게 만드는 방법은 k의 값을 낮추는 것이다.\n",
    "knr.n_neighbors = 3\n",
    "# 모델 훈련\n",
    "knr.fit(train_input, train_target)\n",
    "print(knr.score(train_input, train_target))\n",
    "print(knr.score(test_input, test_target))"
   ]
  }
 ],
 "metadata": {
  "kernelspec": {
   "display_name": "Python 3 (ipykernel)",
   "language": "python",
   "name": "python3"
  },
  "language_info": {
   "codemirror_mode": {
    "name": "ipython",
    "version": 3
   },
   "file_extension": ".py",
   "mimetype": "text/x-python",
   "name": "python",
   "nbconvert_exporter": "python",
   "pygments_lexer": "ipython3",
   "version": "3.9.13"
  }
 },
 "nbformat": 4,
 "nbformat_minor": 5
}
