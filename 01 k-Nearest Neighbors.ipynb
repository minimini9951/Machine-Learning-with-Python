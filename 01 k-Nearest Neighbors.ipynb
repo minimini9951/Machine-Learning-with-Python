{
 "cells": [
  {
   "cell_type": "markdown",
   "id": "0c16e10c-1d01-47fe-b5a6-e1cb64b0de04",
   "metadata": {},
   "source": [
    "# 기계학습(ML)\n",
    "- 강화학습\n",
    "- 지도학습\n",
    "- 비지도학습"
   ]
  },
  {
   "cell_type": "markdown",
   "id": "f57c7120-4b44-4e7d-b526-fda8ceaee868",
   "metadata": {},
   "source": [
    "## 지도학습(Supervised Learning)\n",
    "- 여러 문제와 답을 같이 학습함으로써 미지의 문제에 대한 올바른 답을 예측하고자 하는 방법\n",
    "- 데이터에 레이블(정답)이 들어있는 학습\n",
    "- 분류\n",
    "- 회귀"
   ]
  },
  {
   "cell_type": "markdown",
   "id": "fe2ecd5f-0568-4204-831f-19429bacddfb",
   "metadata": {},
   "source": [
    "### 분류(Classfication)\n",
    "- 이진분류\n",
    "- 다중분류"
   ]
  },
  {
   "cell_type": "markdown",
   "id": "c2f60b02-8eeb-431e-a895-3ee3e73a82b5",
   "metadata": {},
   "source": [
    "#### 이진분류\n",
    "- 어떤 데이터에 대해 두 가지 중 하나로 분류할 수 있는 것"
   ]
  },
  {
   "cell_type": "markdown",
   "id": "29400db6-0a09-4117-a697-25b7125cf919",
   "metadata": {},
   "source": [
    "#### 다중분류\n",
    "- 어떤 데이터에 대해 여러 값 중 하나로 분류할 수 있는 것"
   ]
  },
  {
   "cell_type": "markdown",
   "id": "da9d4ae4-254a-454f-aa0e-968d556b8433",
   "metadata": {},
   "source": [
    "### 회귀(Regression)\n",
    "- 어떤 데이터들의 특징(feature)를 토대로 값을 에측하는 것\n",
    "- 결과 값은 실수 값을 가질 수 있다. (그 값들은 연속성을 갖는다. 그래프를 생각하면 됨)"
   ]
  },
  {
   "cell_type": "markdown",
   "id": "88873207-37ee-4e29-aaa6-aa9eddbe13af",
   "metadata": {},
   "source": [
    "## 비지도학습(Unsupervised Learning)\n",
    "- 학습 알고리즘에 결과물이라고 할 수 있는 출력을 미리 제공하지 않고 인공지능(AI)이 입력 세트에서 패턴과 상관관계를 찾아내야 하는 머신러닝 알고리즘\n",
    "- 군집(Clustering)\n",
    "- 변환(Transform)\n",
    "- 연관(Association)\n",
    "- 자원축소(PCA)"
   ]
  },
  {
   "cell_type": "markdown",
   "id": "a0f7d9e9-c2a0-4755-8b4e-af97728841e9",
   "metadata": {},
   "source": [
    "## 강화학습(Reinforcemene Learning)\n",
    "- 현재의 상태(State)에서 어떤 행동(Action)을 취하는 것이 최적인지를 학습하는 것"
   ]
  },
  {
   "cell_type": "markdown",
   "id": "3f9fb069-9609-4fd1-a7ca-ca2c25360904",
   "metadata": {},
   "source": [
    "## k-Nearest Neighbors\n",
    "- 지도학습 알고리즘\n",
    "- 굉장히 직관적이고 간단\n",
    "- 어떤 데이터가 주어지면 그 주변의 데이터를 본 뒤 많은 데이터가 포함되어 있는 범주로 분류\n",
    "- kNN의 특징은 훈련이 필요 X. 다른 모델은 fit(X_train, Y_train)의 코드를 통해 훈련시킴.\n",
    "- kNN은 훈련데이터를 저장하는게 훈련의 전부\n",
    "- 모델을 별도로 구축하지 않아서 Lazy Model 이라고 부른다."
   ]
  },
  {
   "cell_type": "markdown",
   "id": "e9126a4c-e964-46d4-b52d-4523b4519307",
   "metadata": {},
   "source": [
    "### 필요한 패키지 로딩"
   ]
  },
  {
   "cell_type": "code",
   "execution_count": 54,
   "id": "8a0b2bcd-3653-49a2-960d-267c403af0ac",
   "metadata": {
    "execution": {
     "iopub.execute_input": "2022-10-31T07:27:21.341117Z",
     "iopub.status.busy": "2022-10-31T07:27:21.341117Z",
     "iopub.status.idle": "2022-10-31T07:27:21.379176Z",
     "shell.execute_reply": "2022-10-31T07:27:21.377193Z",
     "shell.execute_reply.started": "2022-10-31T07:27:21.341117Z"
    },
    "tags": []
   },
   "outputs": [
    {
     "data": {
      "text/plain": [
       "['D2coding']"
      ]
     },
     "execution_count": 54,
     "metadata": {},
     "output_type": "execute_result"
    }
   ],
   "source": [
    "import numpy as np\n",
    "import pandas as pd\n",
    "import matplotlib.pyplot as plt\n",
    "import matplotlib as mpl\n",
    "import seaborn as sns\n",
    "import mglearn\n",
    "from sklearn.neighbors import KNeighborsClassifier\n",
    "from sklearn.model_selection import train_test_split\n",
    "from sklearn.metrics import accuracy_score\n",
    "from sklearn.datasets import load_breast_cancer\n",
    "import warnings\n",
    "\n",
    "warnings.simplefilter(action='ignore', category=FutureWarning)\n",
    "# FutureWarning제거\n",
    "\n",
    "%matplotlib inline\n",
    "\n",
    "mpl.rcParams['font.family'] = 'D2coding'  # 한글 깨짐 해결\n",
    "plt.rcParams['font.family']  # 폰트 확인"
   ]
  },
  {
   "cell_type": "code",
   "execution_count": 19,
   "id": "e9e8e726-ca0a-4dc6-83c6-731fcfef028b",
   "metadata": {
    "execution": {
     "iopub.execute_input": "2022-10-31T06:17:43.021937Z",
     "iopub.status.busy": "2022-10-31T06:17:43.021937Z",
     "iopub.status.idle": "2022-10-31T06:17:50.705936Z",
     "shell.execute_reply": "2022-10-31T06:17:50.703938Z",
     "shell.execute_reply.started": "2022-10-31T06:17:43.021937Z"
    },
    "tags": []
   },
   "outputs": [
    {
     "name": "stdout",
     "output_type": "stream",
     "text": [
      "Collecting mglearn\n",
      "  Downloading mglearn-0.1.9.tar.gz (540 kB)\n",
      "     -------------------------------------- 540.1/540.1 kB 1.8 MB/s eta 0:00:00\n",
      "  Preparing metadata (setup.py): started\n",
      "  Preparing metadata (setup.py): finished with status 'done'\n",
      "Requirement already satisfied: numpy in c:\\anaconda3\\lib\\site-packages (from mglearn) (1.21.5)\n",
      "Requirement already satisfied: matplotlib in c:\\anaconda3\\lib\\site-packages (from mglearn) (3.5.2)\n",
      "Requirement already satisfied: scikit-learn in c:\\anaconda3\\lib\\site-packages (from mglearn) (1.0.2)\n",
      "Requirement already satisfied: pandas in c:\\anaconda3\\lib\\site-packages (from mglearn) (1.4.4)\n",
      "Requirement already satisfied: pillow in c:\\anaconda3\\lib\\site-packages (from mglearn) (9.2.0)\n",
      "Requirement already satisfied: cycler in c:\\anaconda3\\lib\\site-packages (from mglearn) (0.11.0)\n",
      "Requirement already satisfied: imageio in c:\\anaconda3\\lib\\site-packages (from mglearn) (2.19.3)\n",
      "Requirement already satisfied: joblib in c:\\anaconda3\\lib\\site-packages (from mglearn) (1.1.0)\n",
      "Requirement already satisfied: fonttools>=4.22.0 in c:\\anaconda3\\lib\\site-packages (from matplotlib->mglearn) (4.25.0)\n",
      "Requirement already satisfied: python-dateutil>=2.7 in c:\\anaconda3\\lib\\site-packages (from matplotlib->mglearn) (2.8.2)\n",
      "Requirement already satisfied: packaging>=20.0 in c:\\anaconda3\\lib\\site-packages (from matplotlib->mglearn) (21.3)\n",
      "Requirement already satisfied: pyparsing>=2.2.1 in c:\\anaconda3\\lib\\site-packages (from matplotlib->mglearn) (3.0.9)\n",
      "Requirement already satisfied: kiwisolver>=1.0.1 in c:\\anaconda3\\lib\\site-packages (from matplotlib->mglearn) (1.4.2)\n",
      "Requirement already satisfied: pytz>=2020.1 in c:\\anaconda3\\lib\\site-packages (from pandas->mglearn) (2022.1)\n",
      "Requirement already satisfied: scipy>=1.1.0 in c:\\anaconda3\\lib\\site-packages (from scikit-learn->mglearn) (1.9.1)\n",
      "Requirement already satisfied: threadpoolctl>=2.0.0 in c:\\anaconda3\\lib\\site-packages (from scikit-learn->mglearn) (2.2.0)\n",
      "Requirement already satisfied: six>=1.5 in c:\\anaconda3\\lib\\site-packages (from python-dateutil>=2.7->matplotlib->mglearn) (1.16.0)\n",
      "Building wheels for collected packages: mglearn\n",
      "  Building wheel for mglearn (setup.py): started\n",
      "  Building wheel for mglearn (setup.py): finished with status 'done'\n",
      "  Created wheel for mglearn: filename=mglearn-0.1.9-py2.py3-none-any.whl size=582621 sha256=1a9503c473e279c1da9d21489b2bebdd0301d3510ebb72813412d2b5c319ab0a\n",
      "  Stored in directory: c:\\users\\minim\\appdata\\local\\pip\\cache\\wheels\\df\\30\\8a\\1e2c8f144c9d411b0688f628d496d2db8f61b6d14bcedaa1df\n",
      "Successfully built mglearn\n",
      "Installing collected packages: mglearn\n",
      "Successfully installed mglearn-0.1.9\n"
     ]
    }
   ],
   "source": [
    "!pip install mglearn"
   ]
  },
  {
   "cell_type": "markdown",
   "id": "6cbf3af0-81f8-460a-8aac-a2bd5bca909c",
   "metadata": {},
   "source": [
    "### 데이터셋 로딩"
   ]
  },
  {
   "cell_type": "code",
   "execution_count": 2,
   "id": "92bbd7ad-71b0-422f-9373-149ec7fb6972",
   "metadata": {
    "execution": {
     "iopub.execute_input": "2022-10-31T02:27:17.495107Z",
     "iopub.status.busy": "2022-10-31T02:27:17.495107Z",
     "iopub.status.idle": "2022-10-31T02:27:17.510779Z",
     "shell.execute_reply": "2022-10-31T02:27:17.510119Z",
     "shell.execute_reply.started": "2022-10-31T02:27:17.495107Z"
    },
    "tags": []
   },
   "outputs": [],
   "source": [
    "# 도미 관측 데이터셋\n",
    "bream_length = [25.4, 26.3, 26.5, 29.0, 29.0,\n",
    "                29.7, 29.7, 30.0, 30.0, 30.7,\n",
    "                31.0, 31.0, 31.5, 32.0, 32.0,\n",
    "                32.0, 33.0, 33.0, 33.5, 33.5,\n",
    "                34.0, 34.0, 34.5, 35.0, 35.0,\n",
    "                35.0, 35.0, 36.0, 36.0, 37.0,\n",
    "                38.5, 38.5, 39.5, 41.0, 41.0]\n",
    "bream_weight = [242.0, 290.0, 340.0, 363.0, 430.0,\n",
    "                450.0, 500.0, 390.0, 450.0, 500.0,\n",
    "                475.0, 500.0, 500.0, 340.0, 600.0,\n",
    "                600.0, 700.0, 700.0, 610.0, 650.0,\n",
    "                575.0, 685.0, 620.0, 680.0, 700.0,\n",
    "                725.0, 720.0, 714.0, 850.0, 1000.0,\n",
    "                920.0, 955.0, 925.0, 975.0, 950.0]"
   ]
  },
  {
   "cell_type": "code",
   "execution_count": 3,
   "id": "6a26504f-16ca-4b37-8ee8-1b6f30a74982",
   "metadata": {
    "execution": {
     "iopub.execute_input": "2022-10-31T02:27:17.511284Z",
     "iopub.status.busy": "2022-10-31T02:27:17.511284Z",
     "iopub.status.idle": "2022-10-31T02:27:17.524261Z",
     "shell.execute_reply": "2022-10-31T02:27:17.524261Z",
     "shell.execute_reply.started": "2022-10-31T02:27:17.511284Z"
    },
    "tags": []
   },
   "outputs": [],
   "source": [
    "# 빙어 관측 데이터셋\n",
    "smelt_length = [9.8, 10.5, 10.6, 11.0, 11.2,\n",
    "                11.3, 11.8, 11.8, 12.0, 12.2,\n",
    "                12.4, 13.0, 14.3, 15.0]\n",
    "smelt_weight = [6.7, 7.5, 7.0, 9.7, 9.8,\n",
    "                8.7, 10.0, 9.9, 9.8, 12.2,\n",
    "                13.4, 12.2, 19.7, 19.9]"
   ]
  },
  {
   "cell_type": "code",
   "execution_count": 4,
   "id": "714784c8-e2c6-465f-a45e-80b6fcffc79d",
   "metadata": {
    "execution": {
     "iopub.execute_input": "2022-10-31T02:27:17.524261Z",
     "iopub.status.busy": "2022-10-31T02:27:17.524261Z",
     "iopub.status.idle": "2022-10-31T02:27:17.683750Z",
     "shell.execute_reply": "2022-10-31T02:27:17.683750Z",
     "shell.execute_reply.started": "2022-10-31T02:27:17.524261Z"
    },
    "tags": []
   },
   "outputs": [
    {
     "data": {
      "image/png": "[encoded data removed]",
      "text/plain": [
       "<Figure size 640x480 with 1 Axes>"
      ]
     },
     "metadata": {},
     "output_type": "display_data"
    }
   ],
   "source": [
    "# 길이 x, 무게 y\n",
    "plt.scatter(bream_length, bream_weight)\n",
    "plt.xlabel('length')\n",
    "plt.ylabel('weight')\n",
    "plt.show()"
   ]
  },
  {
   "cell_type": "code",
   "execution_count": 5,
   "id": "66252ef4-c0d5-4905-ad37-9fe0a8a72a05",
   "metadata": {
    "execution": {
     "iopub.execute_input": "2022-10-31T02:27:17.685259Z",
     "iopub.status.busy": "2022-10-31T02:27:17.685259Z",
     "iopub.status.idle": "2022-10-31T02:27:17.750359Z",
     "shell.execute_reply": "2022-10-31T02:27:17.750359Z",
     "shell.execute_reply.started": "2022-10-31T02:27:17.685259Z"
    },
    "tags": []
   },
   "outputs": [
    {
     "data": {
      "image/png": "[encoded data removed]",
      "text/plain": [
       "<Figure size 640x480 with 1 Axes>"
      ]
     },
     "metadata": {},
     "output_type": "display_data"
    }
   ],
   "source": [
    "# 길이 x, 무게 y\n",
    "plt.scatter(smelt_length, smelt_weight)\n",
    "plt.xlabel('length')\n",
    "plt.ylabel('weight')\n",
    "plt.show()"
   ]
  },
  {
   "cell_type": "code",
   "execution_count": 6,
   "id": "c186171b-d1e7-4123-bf0b-847e50df11a9",
   "metadata": {
    "execution": {
     "iopub.execute_input": "2022-10-31T02:27:17.750359Z",
     "iopub.status.busy": "2022-10-31T02:27:17.750359Z",
     "iopub.status.idle": "2022-10-31T02:27:17.916786Z",
     "shell.execute_reply": "2022-10-31T02:27:17.915809Z",
     "shell.execute_reply.started": "2022-10-31T02:27:17.750359Z"
    },
    "tags": []
   },
   "outputs": [
    {
     "data": {
      "image/png": "[encoded data removed]",
      "text/plain": [
       "<Figure size 640x480 with 2 Axes>"
      ]
     },
     "metadata": {},
     "output_type": "display_data"
    }
   ],
   "source": [
    "ax = plt.subplots()\n",
    "ax1 = sns.regplot(x=smelt_length, y=smelt_weight, color='blue')\n",
    "ax1.tick_params(axis='y', labelcolor='blue')\n",
    "\n",
    "ax2 = ax1.twinx()\n",
    "ax2 = sns.regplot(x=bream_length, y=bream_weight, color='red')\n",
    "ax2.tick_params(axis='y', labelcolor='red')\n",
    "ax2 = plt.scatter(30, 600, marker='^', color='green')"
   ]
  },
  {
   "cell_type": "code",
   "execution_count": 7,
   "id": "92b654f0-29c9-41bb-90db-464235f7341a",
   "metadata": {
    "execution": {
     "iopub.execute_input": "2022-10-31T02:27:17.917717Z",
     "iopub.status.busy": "2022-10-31T02:27:17.917717Z",
     "iopub.status.idle": "2022-10-31T02:27:17.923277Z",
     "shell.execute_reply": "2022-10-31T02:27:17.923277Z",
     "shell.execute_reply.started": "2022-10-31T02:27:17.917717Z"
    }
   },
   "outputs": [],
   "source": [
    "# 머신러닝 패키지를 사용할 경우 특성들을 2차원 Numpy 배열로 만들어줘야 함\n",
    "length = bream_length + smelt_length\n",
    "weight = bream_weight + smelt_weight"
   ]
  },
  {
   "cell_type": "code",
   "execution_count": 8,
   "id": "c94fa668-abd5-446e-8d63-0c86f61b035a",
   "metadata": {
    "execution": {
     "iopub.execute_input": "2022-10-31T02:27:17.923277Z",
     "iopub.status.busy": "2022-10-31T02:27:17.923277Z",
     "iopub.status.idle": "2022-10-31T02:27:17.939192Z",
     "shell.execute_reply": "2022-10-31T02:27:17.939192Z",
     "shell.execute_reply.started": "2022-10-31T02:27:17.923277Z"
    },
    "tags": []
   },
   "outputs": [
    {
     "data": {
      "text/plain": [
       "[25.4, 242.0]"
      ]
     },
     "execution_count": 8,
     "metadata": {},
     "output_type": "execute_result"
    }
   ],
   "source": [
    "# 2차원 배열을 생성하기 위해 zip()함수와 리스트 내포를 사용\n",
    "# zip() : 나열된 리스트에서 요소를 하나씩 꺼내주는 함수\n",
    "fish_data = [[l, w] for l, w in zip(length, weight)]\n",
    "fish_data[0]"
   ]
  },
  {
   "cell_type": "code",
   "execution_count": 9,
   "id": "af14a2b6-2790-4aba-a085-e0c77fbe397a",
   "metadata": {
    "execution": {
     "iopub.execute_input": "2022-10-31T02:27:17.940179Z",
     "iopub.status.busy": "2022-10-31T02:27:17.940179Z",
     "iopub.status.idle": "2022-10-31T02:27:17.956049Z",
     "shell.execute_reply": "2022-10-31T02:27:17.955066Z",
     "shell.execute_reply.started": "2022-10-31T02:27:17.940179Z"
    },
    "tags": []
   },
   "outputs": [
    {
     "data": {
      "text/plain": [
       "[1,\n",
       " 1,\n",
       " 1,\n",
       " 1,\n",
       " 1,\n",
       " 1,\n",
       " 1,\n",
       " 1,\n",
       " 1,\n",
       " 1,\n",
       " 1,\n",
       " 1,\n",
       " 1,\n",
       " 1,\n",
       " 1,\n",
       " 1,\n",
       " 1,\n",
       " 1,\n",
       " 1,\n",
       " 1,\n",
       " 1,\n",
       " 1,\n",
       " 1,\n",
       " 1,\n",
       " 1,\n",
       " 1,\n",
       " 1,\n",
       " 1,\n",
       " 1,\n",
       " 1,\n",
       " 1,\n",
       " 1,\n",
       " 1,\n",
       " 1,\n",
       " 1,\n",
       " 0,\n",
       " 0,\n",
       " 0,\n",
       " 0,\n",
       " 0,\n",
       " 0,\n",
       " 0,\n",
       " 0,\n",
       " 0,\n",
       " 0,\n",
       " 0,\n",
       " 0,\n",
       " 0,\n",
       " 0]"
      ]
     },
     "execution_count": 9,
     "metadata": {},
     "output_type": "execute_result"
    }
   ],
   "source": [
    "# 도미(1), 빙어(0)\n",
    "# 머신에서 찾고자 하는 것에 1을, 나머지는 0으로 처리\n",
    "fish_target = [1] * 35 + [0] * 14\n",
    "fish_target"
   ]
  },
  {
   "cell_type": "markdown",
   "id": "af250e0d-d51e-4983-825d-69a1b9e0b7d2",
   "metadata": {},
   "source": [
    "## kNN 알고리즘 : 2진 분류 알고리즘"
   ]
  },
  {
   "cell_type": "code",
   "execution_count": 10,
   "id": "e7075b26-04ef-4416-a316-038014f3a839",
   "metadata": {
    "execution": {
     "iopub.execute_input": "2022-10-31T02:27:17.957050Z",
     "iopub.status.busy": "2022-10-31T02:27:17.957050Z",
     "iopub.status.idle": "2022-10-31T02:27:18.066218Z",
     "shell.execute_reply": "2022-10-31T02:27:18.066218Z",
     "shell.execute_reply.started": "2022-10-31T02:27:17.957050Z"
    },
    "tags": []
   },
   "outputs": [],
   "source": [
    "from sklearn.neighbors import KNeighborsClassifier\n",
    "# 인스턴스 객체 생성\n",
    "knn = KNeighborsClassifier()"
   ]
  },
  {
   "cell_type": "code",
   "execution_count": 11,
   "id": "e8b36e79-72e0-4736-b0f1-d87ef43e3492",
   "metadata": {
    "execution": {
     "iopub.execute_input": "2022-10-31T02:27:18.067406Z",
     "iopub.status.busy": "2022-10-31T02:27:18.067406Z",
     "iopub.status.idle": "2022-10-31T02:27:18.082170Z",
     "shell.execute_reply": "2022-10-31T02:27:18.082170Z",
     "shell.execute_reply.started": "2022-10-31T02:27:18.067406Z"
    },
    "tags": []
   },
   "outputs": [
    {
     "name": "stderr",
     "output_type": "stream",
     "text": [
      "C:\\Anaconda3\\lib\\site-packages\\sklearn\\neighbors\\_classification.py:228: FutureWarning: Unlike other reduction functions (e.g. `skew`, `kurtosis`), the default behavior of `mode` typically preserves the axis it acts along. In SciPy 1.11.0, this behavior will change: the default value of `keepdims` will become False, the `axis` over which the statistic is taken will be eliminated, and the value None will no longer be accepted. Set `keepdims` to True or False to avoid this warning.\n",
      "  mode, _ = stats.mode(_y[neigh_ind, k], axis=1)\n"
     ]
    },
    {
     "data": {
      "text/plain": [
       "100.0"
      ]
     },
     "execution_count": 11,
     "metadata": {},
     "output_type": "execute_result"
    }
   ],
   "source": [
    "# 훈련 - 모델에 데이터를 전달하여 규칙을 학습하는 과정\n",
    "model = knn.fit(fish_data, fish_target)\n",
    "# 평가(정확도 검사)\n",
    "model.score(fish_data, fish_target) * 100"
   ]
  },
  {
   "cell_type": "code",
   "execution_count": 12,
   "id": "ca489d4b-ed2c-4d41-86e2-777565f86b16",
   "metadata": {
    "execution": {
     "iopub.execute_input": "2022-10-31T02:27:18.085166Z",
     "iopub.status.busy": "2022-10-31T02:27:18.085166Z",
     "iopub.status.idle": "2022-10-31T02:27:18.107905Z",
     "shell.execute_reply": "2022-10-31T02:27:18.106874Z",
     "shell.execute_reply.started": "2022-10-31T02:27:18.085166Z"
    }
   },
   "outputs": [
    {
     "data": {
      "text/plain": [
       "KNeighborsClassifier()"
      ]
     },
     "execution_count": 12,
     "metadata": {},
     "output_type": "execute_result"
    }
   ],
   "source": [
    "# knn 모델\n",
    "knn.fit(fish_data, fish_target)"
   ]
  },
  {
   "cell_type": "markdown",
   "id": "c149b13f-cf3b-4013-814e-b52d3836161b",
   "metadata": {},
   "source": [
    "- algorithm = 'auto' : 최적의 알고리즘\n",
    "- leaf_size = 30 : 메모리 점유율 30%\n",
    "- metric : 거리 계산에 사용할 미터법(default = 'minkowski')\n",
    "- metric_params : 메트릭 함수에 대한 추가 키워드 인수(default = 'None')\n",
    "- n_jobs = None : 이웃 검색을 위해 실행할 병렬 작업의 수(None 이 아니면 1)\n",
    "- n_neighbors = 5 : 범위 5\n",
    "- weights = 'uniform' : hparam(가중치를 균등하게)"
   ]
  },
  {
   "cell_type": "markdown",
   "id": "c02071b5-f909-44e1-b812-88c5b82c1e17",
   "metadata": {},
   "source": [
    "- KNeighborsClassifier(algorithm='auto', leaf_size=30, metric='minkowski',\n",
    "                     metric_params=None, n_jobs=None, n_neighbors=5, p=2,\n",
    "                     weights='uniform')"
   ]
  },
  {
   "cell_type": "code",
   "execution_count": 13,
   "id": "5dd03a8d-9411-4d13-86ec-e340222c7b82",
   "metadata": {
    "execution": {
     "iopub.execute_input": "2022-10-31T02:27:18.107905Z",
     "iopub.status.busy": "2022-10-31T02:27:18.107905Z",
     "iopub.status.idle": "2022-10-31T02:27:18.123237Z",
     "shell.execute_reply": "2022-10-31T02:27:18.122249Z",
     "shell.execute_reply.started": "2022-10-31T02:27:18.107905Z"
    },
    "tags": []
   },
   "outputs": [
    {
     "name": "stderr",
     "output_type": "stream",
     "text": [
      "C:\\Anaconda3\\lib\\site-packages\\sklearn\\neighbors\\_classification.py:228: FutureWarning: Unlike other reduction functions (e.g. `skew`, `kurtosis`), the default behavior of `mode` typically preserves the axis it acts along. In SciPy 1.11.0, this behavior will change: the default value of `keepdims` will become False, the `axis` over which the statistic is taken will be eliminated, and the value None will no longer be accepted. Set `keepdims` to True or False to avoid this warning.\n",
      "  mode, _ = stats.mode(_y[neigh_ind, k], axis=1)\n"
     ]
    },
    {
     "data": {
      "text/plain": [
       "array([1])"
      ]
     },
     "execution_count": 13,
     "metadata": {},
     "output_type": "execute_result"
    }
   ],
   "source": [
    "# 예측 - 새로운 데이터를 추가하여 분류하는 작업\n",
    "# 길이 - 30, 무게 600인 데이터\n",
    "knn.predict([[30, 600]])"
   ]
  },
  {
   "cell_type": "code",
   "execution_count": 14,
   "id": "971972b2-791f-4c09-a558-a482689a374a",
   "metadata": {
    "execution": {
     "iopub.execute_input": "2022-10-31T02:27:18.124204Z",
     "iopub.status.busy": "2022-10-31T02:27:18.124204Z",
     "iopub.status.idle": "2022-10-31T02:27:18.138134Z",
     "shell.execute_reply": "2022-10-31T02:27:18.138134Z",
     "shell.execute_reply.started": "2022-10-31T02:27:18.124204Z"
    }
   },
   "outputs": [],
   "source": [
    "new_data = [30, 600]"
   ]
  },
  {
   "cell_type": "code",
   "execution_count": 15,
   "id": "a0e46189-834b-4774-abda-33494e4b506a",
   "metadata": {
    "execution": {
     "iopub.execute_input": "2022-10-31T02:27:18.139120Z",
     "iopub.status.busy": "2022-10-31T02:27:18.139120Z",
     "iopub.status.idle": "2022-10-31T02:27:18.214750Z",
     "shell.execute_reply": "2022-10-31T02:27:18.214543Z",
     "shell.execute_reply.started": "2022-10-31T02:27:18.139120Z"
    },
    "tags": []
   },
   "outputs": [
    {
     "data": {
      "image/png": "[encoded data removed]",
      "text/plain": [
       "<Figure size 640x480 with 1 Axes>"
      ]
     },
     "metadata": {},
     "output_type": "display_data"
    }
   ],
   "source": [
    "# 길이 x, 무게 y\n",
    "plt.scatter(smelt_length, smelt_weight)\n",
    "plt.scatter(bream_length, bream_weight)\n",
    "plt.plot(30, 600, marker='^', color='g')\n",
    "plt.xlabel('length')\n",
    "plt.ylabel('weight')\n",
    "plt.show()"
   ]
  },
  {
   "cell_type": "code",
   "execution_count": 94,
   "id": "17817cd1-241b-440e-8a84-01567f389bc0",
   "metadata": {
    "execution": {
     "iopub.execute_input": "2022-10-31T03:33:07.920980Z",
     "iopub.status.busy": "2022-10-31T03:33:07.920980Z",
     "iopub.status.idle": "2022-10-31T03:33:08.092037Z",
     "shell.execute_reply": "2022-10-31T03:33:08.091767Z",
     "shell.execute_reply.started": "2022-10-31T03:33:07.920980Z"
    },
    "tags": []
   },
   "outputs": [
    {
     "data": {
      "image/png": "[encoded data removed]",
      "text/plain": [
       "<Figure size 640x480 with 2 Axes>"
      ]
     },
     "metadata": {},
     "output_type": "display_data"
    }
   ],
   "source": [
    "ax = plt.subplots()\n",
    "ax1 = sns.regplot(x=smelt_length, y=smelt_weight, color='blue')\n",
    "ax1.tick_params(axis='y', labelcolor='blue')\n",
    "\n",
    "ax2 = ax1.twinx()\n",
    "ax2 = sns.regplot(x=bream_length, y=bream_weight, color='red')\n",
    "ax2.tick_params(axis='y', labelcolor='red')\n",
    "ax2 = plt.scatter(30, 600, marker='^', color='green')"
   ]
  },
  {
   "cell_type": "code",
   "execution_count": 17,
   "id": "399d9748-b159-4094-b87b-bddd7e352dad",
   "metadata": {
    "execution": {
     "iopub.execute_input": "2022-10-31T02:27:18.465878Z",
     "iopub.status.busy": "2022-10-31T02:27:18.465878Z",
     "iopub.status.idle": "2022-10-31T02:27:18.487880Z",
     "shell.execute_reply": "2022-10-31T02:27:18.486893Z",
     "shell.execute_reply.started": "2022-10-31T02:27:18.465878Z"
    },
    "tags": []
   },
   "outputs": [
    {
     "data": {
      "text/plain": [
       "array([[  25.4,  242. ],\n",
       "       [  26.3,  290. ],\n",
       "       [  26.5,  340. ],\n",
       "       [  29. ,  363. ],\n",
       "       [  29. ,  430. ],\n",
       "       [  29.7,  450. ],\n",
       "       [  29.7,  500. ],\n",
       "       [  30. ,  390. ],\n",
       "       [  30. ,  450. ],\n",
       "       [  30.7,  500. ],\n",
       "       [  31. ,  475. ],\n",
       "       [  31. ,  500. ],\n",
       "       [  31.5,  500. ],\n",
       "       [  32. ,  340. ],\n",
       "       [  32. ,  600. ],\n",
       "       [  32. ,  600. ],\n",
       "       [  33. ,  700. ],\n",
       "       [  33. ,  700. ],\n",
       "       [  33.5,  610. ],\n",
       "       [  33.5,  650. ],\n",
       "       [  34. ,  575. ],\n",
       "       [  34. ,  685. ],\n",
       "       [  34.5,  620. ],\n",
       "       [  35. ,  680. ],\n",
       "       [  35. ,  700. ],\n",
       "       [  35. ,  725. ],\n",
       "       [  35. ,  720. ],\n",
       "       [  36. ,  714. ],\n",
       "       [  36. ,  850. ],\n",
       "       [  37. , 1000. ],\n",
       "       [  38.5,  920. ],\n",
       "       [  38.5,  955. ],\n",
       "       [  39.5,  925. ],\n",
       "       [  41. ,  975. ],\n",
       "       [  41. ,  950. ],\n",
       "       [   9.8,    6.7],\n",
       "       [  10.5,    7.5],\n",
       "       [  10.6,    7. ],\n",
       "       [  11. ,    9.7],\n",
       "       [  11.2,    9.8],\n",
       "       [  11.3,    8.7],\n",
       "       [  11.8,   10. ],\n",
       "       [  11.8,    9.9],\n",
       "       [  12. ,    9.8],\n",
       "       [  12.2,   12.2],\n",
       "       [  12.4,   13.4],\n",
       "       [  13. ,   12.2],\n",
       "       [  14.3,   19.7],\n",
       "       [  15. ,   19.9]])"
      ]
     },
     "execution_count": 17,
     "metadata": {},
     "output_type": "execute_result"
    }
   ],
   "source": [
    "knn._fit_X"
   ]
  },
  {
   "cell_type": "code",
   "execution_count": 18,
   "id": "45c4dd00-096f-4514-a26a-35318db2458c",
   "metadata": {
    "execution": {
     "iopub.execute_input": "2022-10-31T02:27:18.488663Z",
     "iopub.status.busy": "2022-10-31T02:27:18.488663Z",
     "iopub.status.idle": "2022-10-31T02:27:18.503888Z",
     "shell.execute_reply": "2022-10-31T02:27:18.502887Z",
     "shell.execute_reply.started": "2022-10-31T02:27:18.488663Z"
    },
    "tags": []
   },
   "outputs": [
    {
     "data": {
      "text/plain": [
       "array([1, 1, 1, 1, 1, 1, 1, 1, 1, 1, 1, 1, 1, 1, 1, 1, 1, 1, 1, 1, 1, 1,\n",
       "       1, 1, 1, 1, 1, 1, 1, 1, 1, 1, 1, 1, 1, 0, 0, 0, 0, 0, 0, 0, 0, 0,\n",
       "       0, 0, 0, 0, 0])"
      ]
     },
     "execution_count": 18,
     "metadata": {},
     "output_type": "execute_result"
    }
   ],
   "source": [
    "model._y"
   ]
  },
  {
   "cell_type": "code",
   "execution_count": 124,
   "id": "9f373453-ace0-4ea5-a85f-2f10dc4e5927",
   "metadata": {
    "execution": {
     "iopub.execute_input": "2022-10-31T05:21:53.401862Z",
     "iopub.status.busy": "2022-10-31T05:21:53.401862Z",
     "iopub.status.idle": "2022-10-31T05:21:53.440426Z",
     "shell.execute_reply": "2022-10-31T05:21:53.439424Z",
     "shell.execute_reply.started": "2022-10-31T05:21:53.401862Z"
    },
    "tags": []
   },
   "outputs": [
    {
     "name": "stderr",
     "output_type": "stream",
     "text": [
      "C:\\Anaconda3\\lib\\site-packages\\sklearn\\neighbors\\_classification.py:228: FutureWarning: Unlike other reduction functions (e.g. `skew`, `kurtosis`), the default behavior of `mode` typically preserves the axis it acts along. In SciPy 1.11.0, this behavior will change: the default value of `keepdims` will become False, the `axis` over which the statistic is taken will be eliminated, and the value None will no longer be accepted. Set `keepdims` to True or False to avoid this warning.\n",
      "  mode, _ = stats.mode(_y[neigh_ind, k], axis=1)\n"
     ]
    },
    {
     "data": {
      "text/plain": [
       "0.7142857142857143"
      ]
     },
     "execution_count": 124,
     "metadata": {},
     "output_type": "execute_result"
    }
   ],
   "source": [
    "kn49 = KNeighborsClassifier(n_neighbors=49)\n",
    "kn49.fit(fish_data, fish_target)\n",
    "kn49.score(fish_data, fish_target)"
   ]
  },
  {
   "cell_type": "code",
   "execution_count": 20,
   "id": "5de528bc-1611-4c8b-a56c-77b2d0667215",
   "metadata": {
    "execution": {
     "iopub.execute_input": "2022-10-31T02:27:18.521914Z",
     "iopub.status.busy": "2022-10-31T02:27:18.521914Z",
     "iopub.status.idle": "2022-10-31T02:27:18.538109Z",
     "shell.execute_reply": "2022-10-31T02:27:18.537215Z",
     "shell.execute_reply.started": "2022-10-31T02:27:18.521914Z"
    },
    "tags": []
   },
   "outputs": [
    {
     "data": {
      "text/plain": [
       "0.7142857142857143"
      ]
     },
     "execution_count": 20,
     "metadata": {},
     "output_type": "execute_result"
    }
   ],
   "source": [
    "35/49"
   ]
  },
  {
   "cell_type": "markdown",
   "id": "68f248f3-2b02-48d6-844f-c517ea40cbcd",
   "metadata": {},
   "source": [
    "### 훈련데이터와 테스트 데이터"
   ]
  },
  {
   "cell_type": "code",
   "execution_count": 21,
   "id": "57162fbb-f3ff-4c93-9aac-c92c16a29677",
   "metadata": {
    "execution": {
     "iopub.execute_input": "2022-10-31T02:27:18.538109Z",
     "iopub.status.busy": "2022-10-31T02:27:18.538109Z",
     "iopub.status.idle": "2022-10-31T02:27:18.553808Z",
     "shell.execute_reply": "2022-10-31T02:27:18.552820Z",
     "shell.execute_reply.started": "2022-10-31T02:27:18.538109Z"
    },
    "tags": []
   },
   "outputs": [
    {
     "name": "stdout",
     "output_type": "stream",
     "text": [
      "<class 'list'>\n",
      "<class 'list'>\n"
     ]
    }
   ],
   "source": [
    "print(type(fish_data))\n",
    "print(type(fish_target))"
   ]
  },
  {
   "cell_type": "code",
   "execution_count": 34,
   "id": "0576f4d1-e7c5-4ae8-aebd-497200632fa5",
   "metadata": {
    "execution": {
     "iopub.execute_input": "2022-10-31T02:30:38.106970Z",
     "iopub.status.busy": "2022-10-31T02:30:38.106970Z",
     "iopub.status.idle": "2022-10-31T02:30:38.115404Z",
     "shell.execute_reply": "2022-10-31T02:30:38.115404Z",
     "shell.execute_reply.started": "2022-10-31T02:30:38.106970Z"
    },
    "tags": []
   },
   "outputs": [],
   "source": [
    "# 훈련데이터 35개, 테스트데이터 14개 분리\n",
    "train_input = fish_data[:35]\n",
    "train_target = fish_target[:35]\n",
    "test_input = fish_data[35:]\n",
    "test_target = fish_target[35:]"
   ]
  },
  {
   "cell_type": "code",
   "execution_count": 35,
   "id": "45c2f42b-76cc-4cc2-b27c-008111e6c20a",
   "metadata": {
    "execution": {
     "iopub.execute_input": "2022-10-31T02:30:42.443586Z",
     "iopub.status.busy": "2022-10-31T02:30:42.443586Z",
     "iopub.status.idle": "2022-10-31T02:30:42.451589Z",
     "shell.execute_reply": "2022-10-31T02:30:42.451589Z",
     "shell.execute_reply.started": "2022-10-31T02:30:42.443586Z"
    },
    "tags": []
   },
   "outputs": [
    {
     "name": "stderr",
     "output_type": "stream",
     "text": [
      "C:\\Anaconda3\\lib\\site-packages\\sklearn\\neighbors\\_classification.py:228: FutureWarning: Unlike other reduction functions (e.g. `skew`, `kurtosis`), the default behavior of `mode` typically preserves the axis it acts along. In SciPy 1.11.0, this behavior will change: the default value of `keepdims` will become False, the `axis` over which the statistic is taken will be eliminated, and the value None will no longer be accepted. Set `keepdims` to True or False to avoid this warning.\n",
      "  mode, _ = stats.mode(_y[neigh_ind, k], axis=1)\n"
     ]
    },
    {
     "data": {
      "text/plain": [
       "0.0"
      ]
     },
     "execution_count": 35,
     "metadata": {},
     "output_type": "execute_result"
    }
   ],
   "source": [
    "knn = KNeighborsClassifier()\n",
    "knn.fit(train_input, train_target)\n",
    "knn.score(test_input, test_target)"
   ]
  },
  {
   "cell_type": "code",
   "execution_count": 24,
   "id": "6b843cff-42fc-4abf-af66-dd0e7eb3473d",
   "metadata": {
    "execution": {
     "iopub.execute_input": "2022-10-31T02:28:26.893572Z",
     "iopub.status.busy": "2022-10-31T02:28:26.893572Z",
     "iopub.status.idle": "2022-10-31T02:28:26.906812Z",
     "shell.execute_reply": "2022-10-31T02:28:26.906812Z",
     "shell.execute_reply.started": "2022-10-31T02:28:26.893572Z"
    }
   },
   "outputs": [],
   "source": [
    "# numpy 배열을 이용하여 데이터를 섞음\n",
    "input_arr = np.array(fish_data)\n",
    "target_arr = np.array(fish_target)"
   ]
  },
  {
   "cell_type": "code",
   "execution_count": 33,
   "id": "98ad05c7-9320-4ed2-b368-833cc0d16214",
   "metadata": {
    "execution": {
     "iopub.execute_input": "2022-10-31T02:30:15.349499Z",
     "iopub.status.busy": "2022-10-31T02:30:15.348505Z",
     "iopub.status.idle": "2022-10-31T02:30:15.357131Z",
     "shell.execute_reply": "2022-10-31T02:30:15.356245Z",
     "shell.execute_reply.started": "2022-10-31T02:30:15.349499Z"
    },
    "tags": []
   },
   "outputs": [
    {
     "data": {
      "text/plain": [
       "(49, 2)"
      ]
     },
     "execution_count": 33,
     "metadata": {},
     "output_type": "execute_result"
    }
   ],
   "source": [
    "input_arr.shape"
   ]
  },
  {
   "cell_type": "code",
   "execution_count": 32,
   "id": "4852d60f-61a6-41c4-9047-ff51430921a7",
   "metadata": {
    "execution": {
     "iopub.execute_input": "2022-10-31T02:29:50.269541Z",
     "iopub.status.busy": "2022-10-31T02:29:50.269541Z",
     "iopub.status.idle": "2022-10-31T02:29:50.281872Z",
     "shell.execute_reply": "2022-10-31T02:29:50.281872Z",
     "shell.execute_reply.started": "2022-10-31T02:29:50.269541Z"
    }
   },
   "outputs": [
    {
     "data": {
      "text/plain": [
       "(49,)"
      ]
     },
     "execution_count": 32,
     "metadata": {},
     "output_type": "execute_result"
    }
   ],
   "source": [
    "target_arr.shape"
   ]
  },
  {
   "cell_type": "code",
   "execution_count": 39,
   "id": "62078902-e36d-472f-9dea-f21b0c20c0ac",
   "metadata": {
    "execution": {
     "iopub.execute_input": "2022-10-31T02:32:54.732833Z",
     "iopub.status.busy": "2022-10-31T02:32:54.732833Z",
     "iopub.status.idle": "2022-10-31T02:32:54.747855Z",
     "shell.execute_reply": "2022-10-31T02:32:54.747855Z",
     "shell.execute_reply.started": "2022-10-31T02:32:54.732833Z"
    },
    "tags": []
   },
   "outputs": [],
   "source": [
    "# 주의할 점은 input과 target은 같은 위치에 함께 선택되어야 한다.\n",
    "# 시드가 같으면 결과값이 같다\n",
    "np.random.seed(42)\n",
    "index = np.arange(49)\n",
    "# shuffle()\n",
    "np.random.shuffle(index)"
   ]
  },
  {
   "cell_type": "code",
   "execution_count": 43,
   "id": "fb51740e-0271-469f-8c7a-bf2aa94fa9c7",
   "metadata": {
    "execution": {
     "iopub.execute_input": "2022-10-31T02:35:37.709367Z",
     "iopub.status.busy": "2022-10-31T02:35:37.709367Z",
     "iopub.status.idle": "2022-10-31T02:35:37.717367Z",
     "shell.execute_reply": "2022-10-31T02:35:37.717367Z",
     "shell.execute_reply.started": "2022-10-31T02:35:37.709367Z"
    },
    "tags": []
   },
   "outputs": [],
   "source": [
    "train_input = input_arr[index[:35]]\n",
    "train_target = target_arr[index[:35]]\n",
    "test_input = input_arr[index[35:]]\n",
    "test_target = target_arr[index[35:]]"
   ]
  },
  {
   "cell_type": "code",
   "execution_count": 47,
   "id": "6fdbce17-3d0d-403f-bf8d-ebbf434a2153",
   "metadata": {
    "execution": {
     "iopub.execute_input": "2022-10-31T02:37:43.225972Z",
     "iopub.status.busy": "2022-10-31T02:37:43.224973Z",
     "iopub.status.idle": "2022-10-31T02:37:43.233521Z",
     "shell.execute_reply": "2022-10-31T02:37:43.233521Z",
     "shell.execute_reply.started": "2022-10-31T02:37:43.225972Z"
    },
    "tags": []
   },
   "outputs": [
    {
     "name": "stdout",
     "output_type": "stream",
     "text": [
      "[ 25.4 242. ] [ 32. 340.]\n"
     ]
    }
   ],
   "source": [
    "print(input_arr[0], train_input[0])"
   ]
  },
  {
   "cell_type": "code",
   "execution_count": 48,
   "id": "17cd386d-01f6-414a-a6c1-a1ac1e26ecef",
   "metadata": {
    "execution": {
     "iopub.execute_input": "2022-10-31T02:39:09.706281Z",
     "iopub.status.busy": "2022-10-31T02:39:09.705283Z",
     "iopub.status.idle": "2022-10-31T02:39:09.789009Z",
     "shell.execute_reply": "2022-10-31T02:39:09.789009Z",
     "shell.execute_reply.started": "2022-10-31T02:39:09.706281Z"
    },
    "tags": []
   },
   "outputs": [
    {
     "data": {
      "image/png": "[encoded data removed]",
      "text/plain": [
       "<Figure size 640x480 with 1 Axes>"
      ]
     },
     "metadata": {},
     "output_type": "display_data"
    }
   ],
   "source": [
    "plt.scatter(train_input[:, 0], train_input[:, 1])\n",
    "plt.scatter(test_input[:, 0], test_input[:, 1])\n",
    "plt.show()"
   ]
  },
  {
   "cell_type": "code",
   "execution_count": 49,
   "id": "421f7b1f-2b2e-4961-85a9-506571737d66",
   "metadata": {
    "execution": {
     "iopub.execute_input": "2022-10-31T02:40:32.310517Z",
     "iopub.status.busy": "2022-10-31T02:40:32.310517Z",
     "iopub.status.idle": "2022-10-31T02:40:32.325558Z",
     "shell.execute_reply": "2022-10-31T02:40:32.325558Z",
     "shell.execute_reply.started": "2022-10-31T02:40:32.310517Z"
    }
   },
   "outputs": [
    {
     "name": "stderr",
     "output_type": "stream",
     "text": [
      "C:\\Anaconda3\\lib\\site-packages\\sklearn\\neighbors\\_classification.py:228: FutureWarning: Unlike other reduction functions (e.g. `skew`, `kurtosis`), the default behavior of `mode` typically preserves the axis it acts along. In SciPy 1.11.0, this behavior will change: the default value of `keepdims` will become False, the `axis` over which the statistic is taken will be eliminated, and the value None will no longer be accepted. Set `keepdims` to True or False to avoid this warning.\n",
      "  mode, _ = stats.mode(_y[neigh_ind, k], axis=1)\n"
     ]
    },
    {
     "data": {
      "text/plain": [
       "1.0"
      ]
     },
     "execution_count": 49,
     "metadata": {},
     "output_type": "execute_result"
    }
   ],
   "source": [
    "kn = KNeighborsClassifier()\n",
    "kn.fit(train_input, train_target)\n",
    "kn.score(test_input, test_target)"
   ]
  },
  {
   "cell_type": "markdown",
   "id": "86597353-2c36-455d-b60b-273010a91839",
   "metadata": {},
   "source": [
    "## 데이터 전처리(data preprocessing)"
   ]
  },
  {
   "cell_type": "code",
   "execution_count": 50,
   "id": "93a29dde-2ee0-4689-bacf-e42e0fd35a27",
   "metadata": {
    "execution": {
     "iopub.execute_input": "2022-10-31T02:43:05.906572Z",
     "iopub.status.busy": "2022-10-31T02:43:05.905572Z",
     "iopub.status.idle": "2022-10-31T02:43:05.921574Z",
     "shell.execute_reply": "2022-10-31T02:43:05.920572Z",
     "shell.execute_reply.started": "2022-10-31T02:43:05.906572Z"
    },
    "tags": []
   },
   "outputs": [
    {
     "data": {
      "text/plain": [
       "[[25.4, 242.0], [26.3, 290.0], [26.5, 340.0], [29.0, 363.0], [29.0, 430.0]]"
      ]
     },
     "execution_count": 50,
     "metadata": {},
     "output_type": "execute_result"
    }
   ],
   "source": [
    "fish_data[:5]"
   ]
  },
  {
   "cell_type": "code",
   "execution_count": 53,
   "id": "cd1d6a7c-bae9-43f8-bea3-0bb2e90c8743",
   "metadata": {
    "execution": {
     "iopub.execute_input": "2022-10-31T02:47:46.329995Z",
     "iopub.status.busy": "2022-10-31T02:47:46.329995Z",
     "iopub.status.idle": "2022-10-31T02:47:46.337019Z",
     "shell.execute_reply": "2022-10-31T02:47:46.337019Z",
     "shell.execute_reply.started": "2022-10-31T02:47:46.329995Z"
    }
   },
   "outputs": [],
   "source": [
    "fish_length = [25.4, 26.3, 26.5, 29.0, 29.0,\n",
    "               29.7, 29.7, 30.0, 30.0, 30.7,\n",
    "               31.0, 31.0, 31.5, 32.0, 32.0,\n",
    "               32.0, 33.0, 33.0, 33.5, 33.5,\n",
    "               34.0, 34.0, 34.5, 35.0, 35.0,\n",
    "               35.0, 35.0, 36.0, 36.0, 37.0,\n",
    "               38.5, 38.5, 39.5, 41.0, 41.0,\n",
    "               9.8, 10.5, 10.6, 11.0, 11.2,\n",
    "               11.3, 11.8, 11.8, 12.0, 12.2,\n",
    "               12.4, 13.0, 14.3, 15.0]\n",
    "fish_weight = [242.0, 290.0, 340.0, 363.0, 430.0,\n",
    "               450.0, 500.0, 390.0, 450.0, 500.0,\n",
    "               475.0, 500.0, 500.0, 340.0, 600.0,\n",
    "               600.0, 700.0, 700.0, 610.0, 650.0,\n",
    "               575.0, 685.0, 620.0, 680.0, 700.0,\n",
    "               725.0, 720.0, 714.0, 850.0, 1000.0,\n",
    "               920.0, 955.0, 925.0, 975.0, 950.0,\n",
    "               6.7, 7.5, 7.0, 9.7, 9.8,\n",
    "               8.7, 10.0, 9.9, 9.8, 12.2,\n",
    "               13.4, 12.2, 19.7, 19.9]"
   ]
  },
  {
   "cell_type": "code",
   "execution_count": 51,
   "id": "89f94214-f2c8-4d30-8b35-5980c0905627",
   "metadata": {
    "execution": {
     "iopub.execute_input": "2022-10-31T02:46:13.060971Z",
     "iopub.status.busy": "2022-10-31T02:46:13.060971Z",
     "iopub.status.idle": "2022-10-31T02:46:13.068951Z",
     "shell.execute_reply": "2022-10-31T02:46:13.068015Z",
     "shell.execute_reply.started": "2022-10-31T02:46:13.060971Z"
    },
    "tags": []
   },
   "outputs": [
    {
     "data": {
      "text/plain": [
       "array([[1, 4],\n",
       "       [2, 5],\n",
       "       [3, 6]])"
      ]
     },
     "execution_count": 51,
     "metadata": {},
     "output_type": "execute_result"
    }
   ],
   "source": [
    "# column_stack()\n",
    "np.column_stack([[1, 2, 3], [4, 5, 6]])"
   ]
  },
  {
   "cell_type": "code",
   "execution_count": 54,
   "id": "6c6b6683-d349-48c5-9c7c-40a049a6f516",
   "metadata": {
    "execution": {
     "iopub.execute_input": "2022-10-31T02:47:48.714248Z",
     "iopub.status.busy": "2022-10-31T02:47:48.713250Z",
     "iopub.status.idle": "2022-10-31T02:47:48.729281Z",
     "shell.execute_reply": "2022-10-31T02:47:48.728278Z",
     "shell.execute_reply.started": "2022-10-31T02:47:48.714248Z"
    },
    "tags": []
   },
   "outputs": [
    {
     "data": {
      "text/plain": [
       "array([[ 25.4, 242. ],\n",
       "       [ 26.3, 290. ],\n",
       "       [ 26.5, 340. ],\n",
       "       [ 29. , 363. ],\n",
       "       [ 29. , 430. ]])"
      ]
     },
     "execution_count": 54,
     "metadata": {},
     "output_type": "execute_result"
    }
   ],
   "source": [
    "fish_data = np.column_stack([fish_length, fish_weight])\n",
    "fish_data[:5]"
   ]
  },
  {
   "cell_type": "code",
   "execution_count": 55,
   "id": "01c35d33-8f9c-4501-946b-79c892b098bf",
   "metadata": {
    "execution": {
     "iopub.execute_input": "2022-10-31T02:50:05.784959Z",
     "iopub.status.busy": "2022-10-31T02:50:05.784959Z",
     "iopub.status.idle": "2022-10-31T02:50:05.793944Z",
     "shell.execute_reply": "2022-10-31T02:50:05.793944Z",
     "shell.execute_reply.started": "2022-10-31T02:50:05.784959Z"
    }
   },
   "outputs": [
    {
     "data": {
      "text/plain": [
       "array([1., 1., 1., 1., 1., 1., 1., 1., 1., 1., 1., 1., 1., 1., 1., 1., 1.,\n",
       "       1., 1., 1., 1., 1., 1., 1., 1., 1., 1., 1., 1., 1., 1., 1., 1., 1.,\n",
       "       1., 0., 0., 0., 0., 0., 0., 0., 0., 0., 0., 0., 0., 0., 0.])"
      ]
     },
     "execution_count": 55,
     "metadata": {},
     "output_type": "execute_result"
    }
   ],
   "source": [
    "# np.zeros(), np.ones()\n",
    "fish_target = np.concatenate([np.ones(35), np.zeros(14)])\n",
    "fish_target"
   ]
  },
  {
   "cell_type": "markdown",
   "id": "d09ff220-d84b-4e55-8829-4b3a6bee0ffa",
   "metadata": {},
   "source": [
    "### 훈련 데이터와 테스트 데이터 분리"
   ]
  },
  {
   "cell_type": "code",
   "execution_count": 58,
   "id": "77d1b484-4357-4cf3-9529-aaf1d17a160a",
   "metadata": {
    "execution": {
     "iopub.execute_input": "2022-10-31T02:54:31.493890Z",
     "iopub.status.busy": "2022-10-31T02:54:31.493890Z",
     "iopub.status.idle": "2022-10-31T02:54:31.507887Z",
     "shell.execute_reply": "2022-10-31T02:54:31.507887Z",
     "shell.execute_reply.started": "2022-10-31T02:54:31.493890Z"
    },
    "tags": []
   },
   "outputs": [],
   "source": [
    "from sklearn.model_selection import train_test_split\n",
    "\n",
    "train_input, test_input, train_target, test_target = train_test_split(fish_data, fish_target, random_state=42)"
   ]
  },
  {
   "cell_type": "code",
   "execution_count": 61,
   "id": "f70c9c70-b3ce-4278-96e6-a00c000481ab",
   "metadata": {
    "execution": {
     "iopub.execute_input": "2022-10-31T02:58:52.801570Z",
     "iopub.status.busy": "2022-10-31T02:58:52.801570Z",
     "iopub.status.idle": "2022-10-31T02:58:52.806545Z",
     "shell.execute_reply": "2022-10-31T02:58:52.806545Z",
     "shell.execute_reply.started": "2022-10-31T02:58:52.801570Z"
    },
    "tags": []
   },
   "outputs": [
    {
     "name": "stdout",
     "output_type": "stream",
     "text": [
      "(36, 2) (13, 2)\n"
     ]
    }
   ],
   "source": [
    "print(train_input.shape, test_input.shape)"
   ]
  },
  {
   "cell_type": "code",
   "execution_count": 60,
   "id": "e4c387c4-8775-4a81-9d47-5c157df6ae62",
   "metadata": {
    "execution": {
     "iopub.execute_input": "2022-10-31T02:58:50.712274Z",
     "iopub.status.busy": "2022-10-31T02:58:50.711273Z",
     "iopub.status.idle": "2022-10-31T02:58:50.720273Z",
     "shell.execute_reply": "2022-10-31T02:58:50.719272Z",
     "shell.execute_reply.started": "2022-10-31T02:58:50.712274Z"
    },
    "tags": []
   },
   "outputs": [],
   "source": [
    "# stratify : 클래스 비율에 맞춰서 데이터를 분리하도록 조정하는 옵션\n",
    "# 훈련 데이터가 적거나 특정 클래스의 샘플 개수가 적을 때 유용하게 사용됨\n",
    "train_input, test_input, train_target, test_target = train_test_split(\n",
    "    fish_data, fish_target, stratify=fish_target, random_state=42)"
   ]
  },
  {
   "cell_type": "code",
   "execution_count": 64,
   "id": "5c4f078c-46c9-4035-9ba6-4f989ac0b4c1",
   "metadata": {
    "execution": {
     "iopub.execute_input": "2022-10-31T03:00:31.620149Z",
     "iopub.status.busy": "2022-10-31T03:00:31.620149Z",
     "iopub.status.idle": "2022-10-31T03:00:31.636426Z",
     "shell.execute_reply": "2022-10-31T03:00:31.636426Z",
     "shell.execute_reply.started": "2022-10-31T03:00:31.620149Z"
    },
    "tags": []
   },
   "outputs": [
    {
     "name": "stderr",
     "output_type": "stream",
     "text": [
      "C:\\Anaconda3\\lib\\site-packages\\sklearn\\neighbors\\_classification.py:228: FutureWarning: Unlike other reduction functions (e.g. `skew`, `kurtosis`), the default behavior of `mode` typically preserves the axis it acts along. In SciPy 1.11.0, this behavior will change: the default value of `keepdims` will become False, the `axis` over which the statistic is taken will be eliminated, and the value None will no longer be accepted. Set `keepdims` to True or False to avoid this warning.\n",
      "  mode, _ = stats.mode(_y[neigh_ind, k], axis=1)\n"
     ]
    },
    {
     "data": {
      "text/plain": [
       "100.0"
      ]
     },
     "execution_count": 64,
     "metadata": {},
     "output_type": "execute_result"
    }
   ],
   "source": [
    "kn = KNeighborsClassifier()\n",
    "kn.fit(train_input, train_target)\n",
    "kn.score(test_input, test_target) * 100"
   ]
  },
  {
   "cell_type": "code",
   "execution_count": 69,
   "id": "8ff35922-6b63-4af8-bc31-497f5ecc2ea2",
   "metadata": {
    "execution": {
     "iopub.execute_input": "2022-10-31T03:02:07.157927Z",
     "iopub.status.busy": "2022-10-31T03:02:07.157927Z",
     "iopub.status.idle": "2022-10-31T03:02:07.235816Z",
     "shell.execute_reply": "2022-10-31T03:02:07.234453Z",
     "shell.execute_reply.started": "2022-10-31T03:02:07.157927Z"
    },
    "tags": []
   },
   "outputs": [
    {
     "data": {
      "image/png": "[encoded data removed]",
      "text/plain": [
       "<Figure size 640x480 with 1 Axes>"
      ]
     },
     "metadata": {},
     "output_type": "display_data"
    }
   ],
   "source": [
    "plt.scatter(train_input[:, 0], train_input[:, 1])\n",
    "plt.show()"
   ]
  },
  {
   "cell_type": "code",
   "execution_count": 75,
   "id": "5d9c3582-3edc-4486-b227-1f664360f545",
   "metadata": {
    "execution": {
     "iopub.execute_input": "2022-10-31T03:03:51.890413Z",
     "iopub.status.busy": "2022-10-31T03:03:51.890413Z",
     "iopub.status.idle": "2022-10-31T03:03:51.901159Z",
     "shell.execute_reply": "2022-10-31T03:03:51.901159Z",
     "shell.execute_reply.started": "2022-10-31T03:03:51.890413Z"
    },
    "tags": []
   },
   "outputs": [
    {
     "name": "stderr",
     "output_type": "stream",
     "text": [
      "C:\\Anaconda3\\lib\\site-packages\\sklearn\\neighbors\\_classification.py:228: FutureWarning: Unlike other reduction functions (e.g. `skew`, `kurtosis`), the default behavior of `mode` typically preserves the axis it acts along. In SciPy 1.11.0, this behavior will change: the default value of `keepdims` will become False, the `axis` over which the statistic is taken will be eliminated, and the value None will no longer be accepted. Set `keepdims` to True or False to avoid this warning.\n",
      "  mode, _ = stats.mode(_y[neigh_ind, k], axis=1)\n"
     ]
    },
    {
     "data": {
      "text/plain": [
       "array([0.])"
      ]
     },
     "execution_count": 75,
     "metadata": {},
     "output_type": "execute_result"
    }
   ],
   "source": [
    "kn.predict([[25, 150]])"
   ]
  },
  {
   "cell_type": "code",
   "execution_count": 78,
   "id": "20ec0202-3d81-4447-8001-a6a2b67dd34f",
   "metadata": {
    "execution": {
     "iopub.execute_input": "2022-10-31T03:05:52.161935Z",
     "iopub.status.busy": "2022-10-31T03:05:52.161935Z",
     "iopub.status.idle": "2022-10-31T03:05:52.234523Z",
     "shell.execute_reply": "2022-10-31T03:05:52.233524Z",
     "shell.execute_reply.started": "2022-10-31T03:05:52.161935Z"
    },
    "tags": []
   },
   "outputs": [
    {
     "data": {
      "image/png": "[encoded data removed]",
      "text/plain": [
       "<Figure size 640x480 with 1 Axes>"
      ]
     },
     "metadata": {},
     "output_type": "display_data"
    }
   ],
   "source": [
    "plt.scatter(train_input[:, 0], train_input[:, 1])\n",
    "plt.scatter(25, 150, marker='^', color='green')\n",
    "plt.show()"
   ]
  },
  {
   "cell_type": "code",
   "execution_count": 89,
   "id": "e866509d-a361-479a-9bc8-6436ab65af4a",
   "metadata": {
    "execution": {
     "iopub.execute_input": "2022-10-31T03:29:21.807527Z",
     "iopub.status.busy": "2022-10-31T03:29:21.807527Z",
     "iopub.status.idle": "2022-10-31T03:29:21.825719Z",
     "shell.execute_reply": "2022-10-31T03:29:21.824733Z",
     "shell.execute_reply.started": "2022-10-31T03:29:21.807527Z"
    },
    "tags": []
   },
   "outputs": [],
   "source": [
    "# Kneighbors() : 이웃까지의 거리와 이웃의 샘플의 인덱스를 반환하는 함수\n",
    "distances, indexs = kn.kneighbors([[25, 150]])"
   ]
  },
  {
   "cell_type": "code",
   "execution_count": 99,
   "id": "3d11c0f1-a32e-4656-823f-f5215e1a389f",
   "metadata": {
    "execution": {
     "iopub.execute_input": "2022-10-31T03:40:17.442225Z",
     "iopub.status.busy": "2022-10-31T03:40:17.442225Z",
     "iopub.status.idle": "2022-10-31T03:40:17.522141Z",
     "shell.execute_reply": "2022-10-31T03:40:17.522141Z",
     "shell.execute_reply.started": "2022-10-31T03:40:17.442225Z"
    },
    "tags": []
   },
   "outputs": [
    {
     "data": {
      "image/png": "[encoded data removed]",
      "text/plain": [
       "<Figure size 640x480 with 1 Axes>"
      ]
     },
     "metadata": {},
     "output_type": "display_data"
    }
   ],
   "source": [
    "plt.scatter(train_input[:, 0], train_input[:, 1])\n",
    "plt.scatter(25, 150, marker='^', color='green')\n",
    "plt.scatter(train_input[indexs, 0], train_input[indexs, 1], marker='D')\n",
    "plt.show()"
   ]
  },
  {
   "cell_type": "code",
   "execution_count": 91,
   "id": "cdf24c26-4902-4c23-83f7-8eb5c55b9982",
   "metadata": {
    "execution": {
     "iopub.execute_input": "2022-10-31T03:30:55.625779Z",
     "iopub.status.busy": "2022-10-31T03:30:55.624780Z",
     "iopub.status.idle": "2022-10-31T03:30:55.634778Z",
     "shell.execute_reply": "2022-10-31T03:30:55.633778Z",
     "shell.execute_reply.started": "2022-10-31T03:30:55.625779Z"
    },
    "tags": []
   },
   "outputs": [
    {
     "data": {
      "text/plain": [
       "array([[[ 25.4, 242. ],\n",
       "        [ 15. ,  19.9],\n",
       "        [ 14.3,  19.7],\n",
       "        [ 13. ,  12.2],\n",
       "        [ 12.2,  12.2]]])"
      ]
     },
     "execution_count": 91,
     "metadata": {},
     "output_type": "execute_result"
    }
   ],
   "source": [
    "train_input[indexs]"
   ]
  },
  {
   "cell_type": "code",
   "execution_count": 92,
   "id": "24e9fd8e-43c6-4c23-bdf3-53d58521e145",
   "metadata": {
    "execution": {
     "iopub.execute_input": "2022-10-31T03:31:31.930224Z",
     "iopub.status.busy": "2022-10-31T03:31:31.930224Z",
     "iopub.status.idle": "2022-10-31T03:31:31.942221Z",
     "shell.execute_reply": "2022-10-31T03:31:31.941235Z",
     "shell.execute_reply.started": "2022-10-31T03:31:31.930224Z"
    },
    "tags": []
   },
   "outputs": [
    {
     "data": {
      "text/plain": [
       "array([[1., 0., 0., 0., 0.]])"
      ]
     },
     "execution_count": 92,
     "metadata": {},
     "output_type": "execute_result"
    }
   ],
   "source": [
    "train_target[indexs]"
   ]
  },
  {
   "cell_type": "code",
   "execution_count": 97,
   "id": "02254e6f-8768-4a9b-979b-6208bd79583d",
   "metadata": {
    "execution": {
     "iopub.execute_input": "2022-10-31T03:36:33.172411Z",
     "iopub.status.busy": "2022-10-31T03:36:33.172411Z",
     "iopub.status.idle": "2022-10-31T03:36:33.186254Z",
     "shell.execute_reply": "2022-10-31T03:36:33.186254Z",
     "shell.execute_reply.started": "2022-10-31T03:36:33.172411Z"
    },
    "tags": []
   },
   "outputs": [
    {
     "data": {
      "text/plain": [
       "array([[ 92.00086956, 130.48375378, 130.73859415, 138.32150953,\n",
       "        138.39320793]])"
      ]
     },
     "execution_count": 97,
     "metadata": {},
     "output_type": "execute_result"
    }
   ],
   "source": [
    "distances"
   ]
  },
  {
   "cell_type": "markdown",
   "id": "492a556c-f356-43e3-841d-220403852376",
   "metadata": {},
   "source": [
    "### 피처 스케일링\n",
    "- 두 특성의 스케일(scale)이 다를 때, 데이터를 표현하는 기준이 다르면 알고리즘이 올바르게 예측할 수 없다\n",
    "- 최소 - 최대 정규화(min-max normalization) : X<sub>new</sub> = X - min(x) / max(x) - min(x)\n",
    "- z-점수 표준화(standard z-value) : X<sub>new</sub> = X - mean(x) / std(x)"
   ]
  },
  {
   "cell_type": "code",
   "execution_count": 100,
   "id": "01e00633-0b74-4692-b7f6-1ceb3d72b186",
   "metadata": {
    "execution": {
     "iopub.execute_input": "2022-10-31T03:46:24.850081Z",
     "iopub.status.busy": "2022-10-31T03:46:24.850081Z",
     "iopub.status.idle": "2022-10-31T03:46:24.855072Z",
     "shell.execute_reply": "2022-10-31T03:46:24.855072Z",
     "shell.execute_reply.started": "2022-10-31T03:46:24.850081Z"
    }
   },
   "outputs": [],
   "source": [
    "mean = np.mean(train_input, axis=0)\n",
    "std = np.std(train_input, axis=0)"
   ]
  },
  {
   "cell_type": "code",
   "execution_count": 101,
   "id": "1b94a4e9-777b-4ba4-8075-df7233c88477",
   "metadata": {
    "execution": {
     "iopub.execute_input": "2022-10-31T03:47:11.309778Z",
     "iopub.status.busy": "2022-10-31T03:47:11.308780Z",
     "iopub.status.idle": "2022-10-31T03:47:11.319773Z",
     "shell.execute_reply": "2022-10-31T03:47:11.318786Z",
     "shell.execute_reply.started": "2022-10-31T03:47:11.309778Z"
    }
   },
   "outputs": [],
   "source": [
    "train_scaled = (train_input - mean) / std"
   ]
  },
  {
   "cell_type": "code",
   "execution_count": 104,
   "id": "a2450f0c-fa22-4a27-a28a-8ef14180671f",
   "metadata": {
    "execution": {
     "iopub.execute_input": "2022-10-31T03:49:44.976120Z",
     "iopub.status.busy": "2022-10-31T03:49:44.976120Z",
     "iopub.status.idle": "2022-10-31T03:49:45.061290Z",
     "shell.execute_reply": "2022-10-31T03:49:45.060293Z",
     "shell.execute_reply.started": "2022-10-31T03:49:44.976120Z"
    },
    "tags": []
   },
   "outputs": [
    {
     "data": {
      "image/png": "[encoded data removed]",
      "text/plain": [
       "<Figure size 640x480 with 1 Axes>"
      ]
     },
     "metadata": {},
     "output_type": "display_data"
    }
   ],
   "source": [
    "new = ([25, 150] - mean) / std\n",
    "plt.scatter(train_scaled[:, 0], train_scaled[:, 1])\n",
    "plt.scatter(new[0], new[1], marker='^', color='green')\n",
    "plt.show()"
   ]
  },
  {
   "cell_type": "code",
   "execution_count": 105,
   "id": "4627a098-25aa-4056-ba12-3480da2a94ed",
   "metadata": {
    "execution": {
     "iopub.execute_input": "2022-10-31T03:50:21.540882Z",
     "iopub.status.busy": "2022-10-31T03:50:21.540882Z",
     "iopub.status.idle": "2022-10-31T03:50:21.556232Z",
     "shell.execute_reply": "2022-10-31T03:50:21.555224Z",
     "shell.execute_reply.started": "2022-10-31T03:50:21.540882Z"
    }
   },
   "outputs": [],
   "source": [
    "test_scaled = (test_input - mean) / std"
   ]
  },
  {
   "cell_type": "code",
   "execution_count": 111,
   "id": "098b1a39-bad2-4657-bba0-af94b8625429",
   "metadata": {
    "execution": {
     "iopub.execute_input": "2022-10-31T03:57:04.648504Z",
     "iopub.status.busy": "2022-10-31T03:57:04.648504Z",
     "iopub.status.idle": "2022-10-31T03:57:04.663731Z",
     "shell.execute_reply": "2022-10-31T03:57:04.662748Z",
     "shell.execute_reply.started": "2022-10-31T03:57:04.648504Z"
    },
    "tags": []
   },
   "outputs": [
    {
     "data": {
      "text/plain": [
       "KNeighborsClassifier()"
      ]
     },
     "execution_count": 111,
     "metadata": {},
     "output_type": "execute_result"
    }
   ],
   "source": [
    "kn.fit(train_scaled, train_target)"
   ]
  },
  {
   "cell_type": "code",
   "execution_count": 112,
   "id": "a8a761b7-45e5-44b6-9a7e-cc5fd42d684a",
   "metadata": {
    "execution": {
     "iopub.execute_input": "2022-10-31T03:57:09.412173Z",
     "iopub.status.busy": "2022-10-31T03:57:09.412173Z",
     "iopub.status.idle": "2022-10-31T03:57:09.427355Z",
     "shell.execute_reply": "2022-10-31T03:57:09.426375Z",
     "shell.execute_reply.started": "2022-10-31T03:57:09.412173Z"
    },
    "tags": []
   },
   "outputs": [
    {
     "name": "stderr",
     "output_type": "stream",
     "text": [
      "C:\\Anaconda3\\lib\\site-packages\\sklearn\\neighbors\\_classification.py:228: FutureWarning: Unlike other reduction functions (e.g. `skew`, `kurtosis`), the default behavior of `mode` typically preserves the axis it acts along. In SciPy 1.11.0, this behavior will change: the default value of `keepdims` will become False, the `axis` over which the statistic is taken will be eliminated, and the value None will no longer be accepted. Set `keepdims` to True or False to avoid this warning.\n",
      "  mode, _ = stats.mode(_y[neigh_ind, k], axis=1)\n"
     ]
    },
    {
     "data": {
      "text/plain": [
       "1.0"
      ]
     },
     "execution_count": 112,
     "metadata": {},
     "output_type": "execute_result"
    }
   ],
   "source": [
    "kn.score(test_scaled, test_target)"
   ]
  },
  {
   "cell_type": "code",
   "execution_count": 122,
   "id": "e1832b7f-a671-410f-9379-92d6168dff84",
   "metadata": {
    "execution": {
     "iopub.execute_input": "2022-10-31T05:09:21.478955Z",
     "iopub.status.busy": "2022-10-31T05:09:21.477967Z",
     "iopub.status.idle": "2022-10-31T05:09:21.488445Z",
     "shell.execute_reply": "2022-10-31T05:09:21.487410Z",
     "shell.execute_reply.started": "2022-10-31T05:09:21.477967Z"
    },
    "tags": []
   },
   "outputs": [
    {
     "name": "stderr",
     "output_type": "stream",
     "text": [
      "C:\\Anaconda3\\lib\\site-packages\\sklearn\\neighbors\\_classification.py:228: FutureWarning: Unlike other reduction functions (e.g. `skew`, `kurtosis`), the default behavior of `mode` typically preserves the axis it acts along. In SciPy 1.11.0, this behavior will change: the default value of `keepdims` will become False, the `axis` over which the statistic is taken will be eliminated, and the value None will no longer be accepted. Set `keepdims` to True or False to avoid this warning.\n",
      "  mode, _ = stats.mode(_y[neigh_ind, k], axis=1)\n"
     ]
    },
    {
     "data": {
      "text/plain": [
       "array([1.])"
      ]
     },
     "execution_count": 122,
     "metadata": {},
     "output_type": "execute_result"
    }
   ],
   "source": [
    "kn.predict([new])"
   ]
  },
  {
   "cell_type": "markdown",
   "id": "0674fe5f-c2b3-4e0d-abb6-c893a2d1d6b2",
   "metadata": {},
   "source": [
    "## 붓꽃(iris) 품종 분류 분석"
   ]
  },
  {
   "cell_type": "markdown",
   "id": "05622338-ea33-453b-a3a5-d970b919112c",
   "metadata": {},
   "source": [
    "### 데이터셋 로딩"
   ]
  },
  {
   "cell_type": "code",
   "execution_count": 13,
   "id": "3036f1b2-bfe6-41e6-a8ce-8bf149d1985f",
   "metadata": {
    "execution": {
     "iopub.execute_input": "2022-10-31T07:08:36.230823Z",
     "iopub.status.busy": "2022-10-31T07:08:36.230823Z",
     "iopub.status.idle": "2022-10-31T07:08:36.247859Z",
     "shell.execute_reply": "2022-10-31T07:08:36.246788Z",
     "shell.execute_reply.started": "2022-10-31T07:08:36.230823Z"
    },
    "tags": []
   },
   "outputs": [],
   "source": [
    "from sklearn.datasets import load_iris\n",
    "iris = load_iris()"
   ]
  },
  {
   "cell_type": "code",
   "execution_count": 14,
   "id": "3f0e8228-b73a-448c-91e7-e4fa89ee2629",
   "metadata": {
    "execution": {
     "iopub.execute_input": "2022-10-31T07:08:44.960176Z",
     "iopub.status.busy": "2022-10-31T07:08:44.960176Z",
     "iopub.status.idle": "2022-10-31T07:08:44.990902Z",
     "shell.execute_reply": "2022-10-31T07:08:44.990902Z",
     "shell.execute_reply.started": "2022-10-31T07:08:44.960176Z"
    },
    "tags": []
   },
   "outputs": [
    {
     "data": {
      "text/plain": [
       "{'data': array([[5.1, 3.5, 1.4, 0.2],\n",
       "        [4.9, 3. , 1.4, 0.2],\n",
       "        [4.7, 3.2, 1.3, 0.2],\n",
       "        [4.6, 3.1, 1.5, 0.2],\n",
       "        [5. , 3.6, 1.4, 0.2],\n",
       "        [5.4, 3.9, 1.7, 0.4],\n",
       "        [4.6, 3.4, 1.4, 0.3],\n",
       "        [5. , 3.4, 1.5, 0.2],\n",
       "        [4.4, 2.9, 1.4, 0.2],\n",
       "        [4.9, 3.1, 1.5, 0.1],\n",
       "        [5.4, 3.7, 1.5, 0.2],\n",
       "        [4.8, 3.4, 1.6, 0.2],\n",
       "        [4.8, 3. , 1.4, 0.1],\n",
       "        [4.3, 3. , 1.1, 0.1],\n",
       "        [5.8, 4. , 1.2, 0.2],\n",
       "        [5.7, 4.4, 1.5, 0.4],\n",
       "        [5.4, 3.9, 1.3, 0.4],\n",
       "        [5.1, 3.5, 1.4, 0.3],\n",
       "        [5.7, 3.8, 1.7, 0.3],\n",
       "        [5.1, 3.8, 1.5, 0.3],\n",
       "        [5.4, 3.4, 1.7, 0.2],\n",
       "        [5.1, 3.7, 1.5, 0.4],\n",
       "        [4.6, 3.6, 1. , 0.2],\n",
       "        [5.1, 3.3, 1.7, 0.5],\n",
       "        [4.8, 3.4, 1.9, 0.2],\n",
       "        [5. , 3. , 1.6, 0.2],\n",
       "        [5. , 3.4, 1.6, 0.4],\n",
       "        [5.2, 3.5, 1.5, 0.2],\n",
       "        [5.2, 3.4, 1.4, 0.2],\n",
       "        [4.7, 3.2, 1.6, 0.2],\n",
       "        [4.8, 3.1, 1.6, 0.2],\n",
       "        [5.4, 3.4, 1.5, 0.4],\n",
       "        [5.2, 4.1, 1.5, 0.1],\n",
       "        [5.5, 4.2, 1.4, 0.2],\n",
       "        [4.9, 3.1, 1.5, 0.2],\n",
       "        [5. , 3.2, 1.2, 0.2],\n",
       "        [5.5, 3.5, 1.3, 0.2],\n",
       "        [4.9, 3.6, 1.4, 0.1],\n",
       "        [4.4, 3. , 1.3, 0.2],\n",
       "        [5.1, 3.4, 1.5, 0.2],\n",
       "        [5. , 3.5, 1.3, 0.3],\n",
       "        [4.5, 2.3, 1.3, 0.3],\n",
       "        [4.4, 3.2, 1.3, 0.2],\n",
       "        [5. , 3.5, 1.6, 0.6],\n",
       "        [5.1, 3.8, 1.9, 0.4],\n",
       "        [4.8, 3. , 1.4, 0.3],\n",
       "        [5.1, 3.8, 1.6, 0.2],\n",
       "        [4.6, 3.2, 1.4, 0.2],\n",
       "        [5.3, 3.7, 1.5, 0.2],\n",
       "        [5. , 3.3, 1.4, 0.2],\n",
       "        [7. , 3.2, 4.7, 1.4],\n",
       "        [6.4, 3.2, 4.5, 1.5],\n",
       "        [6.9, 3.1, 4.9, 1.5],\n",
       "        [5.5, 2.3, 4. , 1.3],\n",
       "        [6.5, 2.8, 4.6, 1.5],\n",
       "        [5.7, 2.8, 4.5, 1.3],\n",
       "        [6.3, 3.3, 4.7, 1.6],\n",
       "        [4.9, 2.4, 3.3, 1. ],\n",
       "        [6.6, 2.9, 4.6, 1.3],\n",
       "        [5.2, 2.7, 3.9, 1.4],\n",
       "        [5. , 2. , 3.5, 1. ],\n",
       "        [5.9, 3. , 4.2, 1.5],\n",
       "        [6. , 2.2, 4. , 1. ],\n",
       "        [6.1, 2.9, 4.7, 1.4],\n",
       "        [5.6, 2.9, 3.6, 1.3],\n",
       "        [6.7, 3.1, 4.4, 1.4],\n",
       "        [5.6, 3. , 4.5, 1.5],\n",
       "        [5.8, 2.7, 4.1, 1. ],\n",
       "        [6.2, 2.2, 4.5, 1.5],\n",
       "        [5.6, 2.5, 3.9, 1.1],\n",
       "        [5.9, 3.2, 4.8, 1.8],\n",
       "        [6.1, 2.8, 4. , 1.3],\n",
       "        [6.3, 2.5, 4.9, 1.5],\n",
       "        [6.1, 2.8, 4.7, 1.2],\n",
       "        [6.4, 2.9, 4.3, 1.3],\n",
       "        [6.6, 3. , 4.4, 1.4],\n",
       "        [6.8, 2.8, 4.8, 1.4],\n",
       "        [6.7, 3. , 5. , 1.7],\n",
       "        [6. , 2.9, 4.5, 1.5],\n",
       "        [5.7, 2.6, 3.5, 1. ],\n",
       "        [5.5, 2.4, 3.8, 1.1],\n",
       "        [5.5, 2.4, 3.7, 1. ],\n",
       "        [5.8, 2.7, 3.9, 1.2],\n",
       "        [6. , 2.7, 5.1, 1.6],\n",
       "        [5.4, 3. , 4.5, 1.5],\n",
       "        [6. , 3.4, 4.5, 1.6],\n",
       "        [6.7, 3.1, 4.7, 1.5],\n",
       "        [6.3, 2.3, 4.4, 1.3],\n",
       "        [5.6, 3. , 4.1, 1.3],\n",
       "        [5.5, 2.5, 4. , 1.3],\n",
       "        [5.5, 2.6, 4.4, 1.2],\n",
       "        [6.1, 3. , 4.6, 1.4],\n",
       "        [5.8, 2.6, 4. , 1.2],\n",
       "        [5. , 2.3, 3.3, 1. ],\n",
       "        [5.6, 2.7, 4.2, 1.3],\n",
       "        [5.7, 3. , 4.2, 1.2],\n",
       "        [5.7, 2.9, 4.2, 1.3],\n",
       "        [6.2, 2.9, 4.3, 1.3],\n",
       "        [5.1, 2.5, 3. , 1.1],\n",
       "        [5.7, 2.8, 4.1, 1.3],\n",
       "        [6.3, 3.3, 6. , 2.5],\n",
       "        [5.8, 2.7, 5.1, 1.9],\n",
       "        [7.1, 3. , 5.9, 2.1],\n",
       "        [6.3, 2.9, 5.6, 1.8],\n",
       "        [6.5, 3. , 5.8, 2.2],\n",
       "        [7.6, 3. , 6.6, 2.1],\n",
       "        [4.9, 2.5, 4.5, 1.7],\n",
       "        [7.3, 2.9, 6.3, 1.8],\n",
       "        [6.7, 2.5, 5.8, 1.8],\n",
       "        [7.2, 3.6, 6.1, 2.5],\n",
       "        [6.5, 3.2, 5.1, 2. ],\n",
       "        [6.4, 2.7, 5.3, 1.9],\n",
       "        [6.8, 3. , 5.5, 2.1],\n",
       "        [5.7, 2.5, 5. , 2. ],\n",
       "        [5.8, 2.8, 5.1, 2.4],\n",
       "        [6.4, 3.2, 5.3, 2.3],\n",
       "        [6.5, 3. , 5.5, 1.8],\n",
       "        [7.7, 3.8, 6.7, 2.2],\n",
       "        [7.7, 2.6, 6.9, 2.3],\n",
       "        [6. , 2.2, 5. , 1.5],\n",
       "        [6.9, 3.2, 5.7, 2.3],\n",
       "        [5.6, 2.8, 4.9, 2. ],\n",
       "        [7.7, 2.8, 6.7, 2. ],\n",
       "        [6.3, 2.7, 4.9, 1.8],\n",
       "        [6.7, 3.3, 5.7, 2.1],\n",
       "        [7.2, 3.2, 6. , 1.8],\n",
       "        [6.2, 2.8, 4.8, 1.8],\n",
       "        [6.1, 3. , 4.9, 1.8],\n",
       "        [6.4, 2.8, 5.6, 2.1],\n",
       "        [7.2, 3. , 5.8, 1.6],\n",
       "        [7.4, 2.8, 6.1, 1.9],\n",
       "        [7.9, 3.8, 6.4, 2. ],\n",
       "        [6.4, 2.8, 5.6, 2.2],\n",
       "        [6.3, 2.8, 5.1, 1.5],\n",
       "        [6.1, 2.6, 5.6, 1.4],\n",
       "        [7.7, 3. , 6.1, 2.3],\n",
       "        [6.3, 3.4, 5.6, 2.4],\n",
       "        [6.4, 3.1, 5.5, 1.8],\n",
       "        [6. , 3. , 4.8, 1.8],\n",
       "        [6.9, 3.1, 5.4, 2.1],\n",
       "        [6.7, 3.1, 5.6, 2.4],\n",
       "        [6.9, 3.1, 5.1, 2.3],\n",
       "        [5.8, 2.7, 5.1, 1.9],\n",
       "        [6.8, 3.2, 5.9, 2.3],\n",
       "        [6.7, 3.3, 5.7, 2.5],\n",
       "        [6.7, 3. , 5.2, 2.3],\n",
       "        [6.3, 2.5, 5. , 1.9],\n",
       "        [6.5, 3. , 5.2, 2. ],\n",
       "        [6.2, 3.4, 5.4, 2.3],\n",
       "        [5.9, 3. , 5.1, 1.8]]),\n",
       " 'target': array([0, 0, 0, 0, 0, 0, 0, 0, 0, 0, 0, 0, 0, 0, 0, 0, 0, 0, 0, 0, 0, 0,\n",
       "        0, 0, 0, 0, 0, 0, 0, 0, 0, 0, 0, 0, 0, 0, 0, 0, 0, 0, 0, 0, 0, 0,\n",
       "        0, 0, 0, 0, 0, 0, 1, 1, 1, 1, 1, 1, 1, 1, 1, 1, 1, 1, 1, 1, 1, 1,\n",
       "        1, 1, 1, 1, 1, 1, 1, 1, 1, 1, 1, 1, 1, 1, 1, 1, 1, 1, 1, 1, 1, 1,\n",
       "        1, 1, 1, 1, 1, 1, 1, 1, 1, 1, 1, 1, 2, 2, 2, 2, 2, 2, 2, 2, 2, 2,\n",
       "        2, 2, 2, 2, 2, 2, 2, 2, 2, 2, 2, 2, 2, 2, 2, 2, 2, 2, 2, 2, 2, 2,\n",
       "        2, 2, 2, 2, 2, 2, 2, 2, 2, 2, 2, 2, 2, 2, 2, 2, 2, 2]),\n",
       " 'frame': None,\n",
       " 'target_names': array(['setosa', 'versicolor', 'virginica'], dtype='<U10'),\n",
       " 'DESCR': '.. _iris_dataset:\\n\\nIris plants dataset\\n--------------------\\n\\n**Data Set Characteristics:**\\n\\n    :Number of Instances: 150 (50 in each of three classes)\\n    :Number of Attributes: 4 numeric, predictive attributes and the class\\n    :Attribute Information:\\n        - sepal length in cm\\n        - sepal width in cm\\n        - petal length in cm\\n        - petal width in cm\\n        - class:\\n                - Iris-Setosa\\n                - Iris-Versicolour\\n                - Iris-Virginica\\n                \\n    :Summary Statistics:\\n\\n    ============== ==== ==== ======= ===== ====================\\n                    Min  Max   Mean    SD   Class Correlation\\n    ============== ==== ==== ======= ===== ====================\\n    sepal length:   4.3  7.9   5.84   0.83    0.7826\\n    sepal width:    2.0  4.4   3.05   0.43   -0.4194\\n    petal length:   1.0  6.9   3.76   1.76    0.9490  (high!)\\n    petal width:    0.1  2.5   1.20   0.76    0.9565  (high!)\\n    ============== ==== ==== ======= ===== ====================\\n\\n    :Missing Attribute Values: None\\n    :Class Distribution: 33.3% for each of 3 classes.\\n    :Creator: R.A. Fisher\\n    :Donor: Michael Marshall (MARSHALL%PLU@io.arc.nasa.gov)\\n    :Date: July, 1988\\n\\nThe famous Iris database, first used by Sir R.A. Fisher. The dataset is taken\\nfrom Fisher\\'s paper. Note that it\\'s the same as in R, but not as in the UCI\\nMachine Learning Repository, which has two wrong data points.\\n\\nThis is perhaps the best known database to be found in the\\npattern recognition literature.  Fisher\\'s paper is a classic in the field and\\nis referenced frequently to this day.  (See Duda & Hart, for example.)  The\\ndata set contains 3 classes of 50 instances each, where each class refers to a\\ntype of iris plant.  One class is linearly separable from the other 2; the\\nlatter are NOT linearly separable from each other.\\n\\n.. topic:: References\\n\\n   - Fisher, R.A. \"The use of multiple measurements in taxonomic problems\"\\n     Annual Eugenics, 7, Part II, 179-188 (1936); also in \"Contributions to\\n     Mathematical Statistics\" (John Wiley, NY, 1950).\\n   - Duda, R.O., & Hart, P.E. (1973) Pattern Classification and Scene Analysis.\\n     (Q327.D83) John Wiley & Sons.  ISBN 0-471-22361-1.  See page 218.\\n   - Dasarathy, B.V. (1980) \"Nosing Around the Neighborhood: A New System\\n     Structure and Classification Rule for Recognition in Partially Exposed\\n     Environments\".  IEEE Transactions on Pattern Analysis and Machine\\n     Intelligence, Vol. PAMI-2, No. 1, 67-71.\\n   - Gates, G.W. (1972) \"The Reduced Nearest Neighbor Rule\".  IEEE Transactions\\n     on Information Theory, May 1972, 431-433.\\n   - See also: 1988 MLC Proceedings, 54-64.  Cheeseman et al\"s AUTOCLASS II\\n     conceptual clustering system finds 3 classes in the data.\\n   - Many, many more ...',\n",
       " 'feature_names': ['sepal length (cm)',\n",
       "  'sepal width (cm)',\n",
       "  'petal length (cm)',\n",
       "  'petal width (cm)'],\n",
       " 'filename': 'iris.csv',\n",
       " 'data_module': 'sklearn.datasets.data'}"
      ]
     },
     "execution_count": 14,
     "metadata": {},
     "output_type": "execute_result"
    }
   ],
   "source": [
    "# Bunch 클래스 객체는 파이썬의 딕셔너리와 비슷\n",
    "iris"
   ]
  },
  {
   "cell_type": "code",
   "execution_count": null,
   "id": "c93f1432-baa7-49f2-8ef8-f5ec3744a007",
   "metadata": {
    "execution": {
     "iopub.execute_input": "2022-10-31T05:29:45.664557Z",
     "iopub.status.busy": "2022-10-31T05:29:45.664557Z",
     "iopub.status.idle": "2022-10-31T05:29:45.683098Z",
     "shell.execute_reply": "2022-10-31T05:29:45.681098Z",
     "shell.execute_reply.started": "2022-10-31T05:29:45.664557Z"
    },
    "tags": []
   },
   "outputs": [
    {
     "name": "stdout",
     "output_type": "stream",
     "text": [
      "dict_keys(['data', 'target', 'frame', 'target_names', 'DESCR', 'feature_names', 'filename', 'data_module'])\n"
     ]
    }
   ],
   "source": [
    "print(iris.keys())"
   ]
  },
  {
   "cell_type": "code",
   "execution_count": 7,
   "id": "66afa639-6edc-4ff2-88b3-7cc93e3740cf",
   "metadata": {
    "execution": {
     "iopub.execute_input": "2022-10-31T07:06:41.130842Z",
     "iopub.status.busy": "2022-10-31T07:06:41.130842Z",
     "iopub.status.idle": "2022-10-31T07:06:41.331527Z",
     "shell.execute_reply": "2022-10-31T07:06:41.330104Z",
     "shell.execute_reply.started": "2022-10-31T07:06:41.130842Z"
    },
    "tags": []
   },
   "outputs": [
    {
     "ename": "NameError",
     "evalue": "name 'iris' is not defined",
     "output_type": "error",
     "traceback": [
      "\u001b[1;31m---------------------------------------------------------------------------\u001b[0m",
      "\u001b[1;31mNameError\u001b[0m                                 Traceback (most recent call last)",
      "\u001b[1;32m~\\AppData\\Local\\Temp\\ipykernel_12528\\3133993300.py\u001b[0m in \u001b[0;36m<module>\u001b[1;34m\u001b[0m\n\u001b[1;32m----> 1\u001b[1;33m \u001b[0miris\u001b[0m\u001b[1;33m[\u001b[0m\u001b[1;34m'DESCR'\u001b[0m\u001b[1;33m]\u001b[0m\u001b[1;33m[\u001b[0m\u001b[1;33m:\u001b[0m\u001b[1;36m193\u001b[0m\u001b[1;33m]\u001b[0m \u001b[1;33m+\u001b[0m \u001b[1;34m'\\n'\u001b[0m\u001b[1;33m\u001b[0m\u001b[1;33m\u001b[0m\u001b[0m\n\u001b[0m",
      "\u001b[1;31mNameError\u001b[0m: name 'iris' is not defined"
     ]
    }
   ],
   "source": [
    "iris['DESCR'][:193] + '\\n'"
   ]
  },
  {
   "cell_type": "code",
   "execution_count": 5,
   "id": "4557eb85-3bc6-4101-b4d8-d565dd9508ff",
   "metadata": {
    "execution": {
     "iopub.execute_input": "2022-10-31T05:49:01.437690Z",
     "iopub.status.busy": "2022-10-31T05:49:01.437690Z",
     "iopub.status.idle": "2022-10-31T05:49:01.469578Z",
     "shell.execute_reply": "2022-10-31T05:49:01.469578Z",
     "shell.execute_reply.started": "2022-10-31T05:49:01.437690Z"
    },
    "tags": []
   },
   "outputs": [
    {
     "data": {
      "text/plain": [
       "<bound method NDFrame.tail of      sepal length (cm)  sepal width (cm)  petal length (cm)  petal width (cm)  \\\n",
       "0                  5.1               3.5                1.4               0.2   \n",
       "1                  4.9               3.0                1.4               0.2   \n",
       "2                  4.7               3.2                1.3               0.2   \n",
       "3                  4.6               3.1                1.5               0.2   \n",
       "4                  5.0               3.6                1.4               0.2   \n",
       "..                 ...               ...                ...               ...   \n",
       "145                6.7               3.0                5.2               2.3   \n",
       "146                6.3               2.5                5.0               1.9   \n",
       "147                6.5               3.0                5.2               2.0   \n",
       "148                6.2               3.4                5.4               2.3   \n",
       "149                5.9               3.0                5.1               1.8   \n",
       "\n",
       "       species  \n",
       "0       setosa  \n",
       "1       setosa  \n",
       "2       setosa  \n",
       "3       setosa  \n",
       "4       setosa  \n",
       "..         ...  \n",
       "145  virginica  \n",
       "146  virginica  \n",
       "147  virginica  \n",
       "148  virginica  \n",
       "149  virginica  \n",
       "\n",
       "[150 rows x 5 columns]>"
      ]
     },
     "execution_count": 5,
     "metadata": {},
     "output_type": "execute_result"
    }
   ],
   "source": [
    "df = pd.DataFrame(iris.data, columns=iris.feature_names)\n",
    "sy = pd.Series(iris.target, dtype='category')\n",
    "sy = sy.cat.rename_categories(iris.target_names)\n",
    "df['species'] = sy\n",
    "df.tail"
   ]
  },
  {
   "cell_type": "code",
   "execution_count": 136,
   "id": "ae03466a-082c-48dd-b221-dbbd2ee342c7",
   "metadata": {
    "execution": {
     "iopub.execute_input": "2022-10-31T05:38:04.673825Z",
     "iopub.status.busy": "2022-10-31T05:38:04.672825Z",
     "iopub.status.idle": "2022-10-31T05:38:04.689413Z",
     "shell.execute_reply": "2022-10-31T05:38:04.688393Z",
     "shell.execute_reply.started": "2022-10-31T05:38:04.673825Z"
    },
    "tags": []
   },
   "outputs": [
    {
     "data": {
      "text/plain": [
       "(150, 4)"
      ]
     },
     "execution_count": 136,
     "metadata": {},
     "output_type": "execute_result"
    }
   ],
   "source": [
    "iris.data.shape"
   ]
  },
  {
   "cell_type": "code",
   "execution_count": 137,
   "id": "dad117da-a766-4eb5-95bb-2de8add044ec",
   "metadata": {
    "execution": {
     "iopub.execute_input": "2022-10-31T05:38:09.638554Z",
     "iopub.status.busy": "2022-10-31T05:38:09.637942Z",
     "iopub.status.idle": "2022-10-31T05:38:09.645596Z",
     "shell.execute_reply": "2022-10-31T05:38:09.644593Z",
     "shell.execute_reply.started": "2022-10-31T05:38:09.638554Z"
    },
    "tags": []
   },
   "outputs": [
    {
     "data": {
      "text/plain": [
       "(150,)"
      ]
     },
     "execution_count": 137,
     "metadata": {},
     "output_type": "execute_result"
    }
   ],
   "source": [
    "iris.target.shape"
   ]
  },
  {
   "cell_type": "markdown",
   "id": "e504b905-b9ed-40a1-a429-89fe3878d7be",
   "metadata": {},
   "source": [
    "### 훈련데이터와 테스트 데이터 분리\n",
    "- 훈련 데이터(훈련세트) : 머신러닝 모델을 만들 때 사용\n",
    "- 테스트 데이터(테스트 세트, 홀드아웃세트) : 모델이 얼마나 잘 작동하는지 측정할때 사용"
   ]
  },
  {
   "cell_type": "code",
   "execution_count": 48,
   "id": "79447ed3-af1e-499e-ae4d-1f7ff4229e46",
   "metadata": {
    "execution": {
     "iopub.execute_input": "2022-10-31T06:33:15.863145Z",
     "iopub.status.busy": "2022-10-31T06:33:15.863145Z",
     "iopub.status.idle": "2022-10-31T06:33:15.876940Z",
     "shell.execute_reply": "2022-10-31T06:33:15.876178Z",
     "shell.execute_reply.started": "2022-10-31T06:33:15.863145Z"
    },
    "tags": []
   },
   "outputs": [],
   "source": [
    "X_train, X_test, y_train, y_test = train_test_split(iris.data, iris.target, random_state=0)"
   ]
  },
  {
   "cell_type": "code",
   "execution_count": 27,
   "id": "7f5cd77a-32c4-4e06-ba7d-62b0c7429d4b",
   "metadata": {
    "execution": {
     "iopub.execute_input": "2022-10-31T06:21:26.785323Z",
     "iopub.status.busy": "2022-10-31T06:21:26.785323Z",
     "iopub.status.idle": "2022-10-31T06:21:26.801129Z",
     "shell.execute_reply": "2022-10-31T06:21:26.801129Z",
     "shell.execute_reply.started": "2022-10-31T06:21:26.785323Z"
    },
    "tags": []
   },
   "outputs": [
    {
     "name": "stdout",
     "output_type": "stream",
     "text": [
      "(112, 4)\n",
      "(112,)\n"
     ]
    }
   ],
   "source": [
    "print(X_train.shape)\n",
    "print(y_train.shape)"
   ]
  },
  {
   "cell_type": "code",
   "execution_count": 28,
   "id": "de5049e5-3f6b-4101-a3ce-de5f9140544b",
   "metadata": {
    "execution": {
     "iopub.execute_input": "2022-10-31T06:21:27.949885Z",
     "iopub.status.busy": "2022-10-31T06:21:27.949885Z",
     "iopub.status.idle": "2022-10-31T06:21:27.956059Z",
     "shell.execute_reply": "2022-10-31T06:21:27.955844Z",
     "shell.execute_reply.started": "2022-10-31T06:21:27.949885Z"
    },
    "tags": []
   },
   "outputs": [
    {
     "name": "stdout",
     "output_type": "stream",
     "text": [
      "(38, 4)\n",
      "(38,)\n"
     ]
    }
   ],
   "source": [
    "print(X_test.shape)\n",
    "print(y_test.shape)"
   ]
  },
  {
   "cell_type": "markdown",
   "id": "a5d750f2-b68b-4ded-aeb8-9992d6cf91b2",
   "metadata": {},
   "source": [
    "### 데이터 살펴보기"
   ]
  },
  {
   "cell_type": "code",
   "execution_count": 1,
   "id": "3fb7c56c-3aca-4dff-ade9-df3b150e4302",
   "metadata": {
    "execution": {
     "iopub.execute_input": "2022-10-31T07:01:07.871748Z",
     "iopub.status.busy": "2022-10-31T07:01:07.870762Z",
     "iopub.status.idle": "2022-10-31T07:01:07.880381Z",
     "shell.execute_reply": "2022-10-31T07:01:07.879780Z",
     "shell.execute_reply.started": "2022-10-31T07:01:07.870762Z"
    },
    "tags": []
   },
   "outputs": [],
   "source": [
    "# iris_df = pd.DataFrame(X_train, columns=iris.feature_names)\n",
    "# ax = pd.plotting.scatter_matrix(iris_df, c=y_train, figsize=(15, 15),\n",
    "#                                 marker='o', hist_kwds={'bins': 20},\n",
    "#                                 s=60, alpha=.8)"
   ]
  },
  {
   "cell_type": "code",
   "execution_count": 2,
   "id": "a8b8d473-f526-4625-bbe9-20ac199f62a9",
   "metadata": {
    "execution": {
     "iopub.execute_input": "2022-10-31T07:01:11.979070Z",
     "iopub.status.busy": "2022-10-31T07:01:11.978069Z",
     "iopub.status.idle": "2022-10-31T07:01:11.986584Z",
     "shell.execute_reply": "2022-10-31T07:01:11.985718Z",
     "shell.execute_reply.started": "2022-10-31T07:01:11.979070Z"
    },
    "tags": []
   },
   "outputs": [],
   "source": [
    "# sns.pairplot(df, hue='species')"
   ]
  },
  {
   "cell_type": "markdown",
   "id": "fa1aff5c-9410-4ce5-83e6-744e3dd91808",
   "metadata": {},
   "source": [
    "### kNN 최근접 이웃 알고리즘(단점 : 적절한 k의 선택이 필요)\n",
    "- k가 너무 작을 때 : Overfitting(과대적합)\n",
    "- k가 너무 클 때 : Underfitting(과소적합)\n",
    "- 모델이 복잡할수록 훈련 데이터에 대해서는 더 정확하게 예측한다.\n",
    "- 우리가 찾으려는 모델은 일반화 성능이 최대가 되는 최적점에 있는 모델이다."
   ]
  },
  {
   "cell_type": "code",
   "execution_count": 23,
   "id": "4cde39b4-f180-4322-b5c2-81c265d05f2e",
   "metadata": {
    "execution": {
     "iopub.execute_input": "2022-10-31T06:20:54.967024Z",
     "iopub.status.busy": "2022-10-31T06:20:54.967024Z",
     "iopub.status.idle": "2022-10-31T06:20:54.984288Z",
     "shell.execute_reply": "2022-10-31T06:20:54.984288Z",
     "shell.execute_reply.started": "2022-10-31T06:20:54.967024Z"
    },
    "tags": []
   },
   "outputs": [],
   "source": [
    "kn = KNeighborsClassifier(n_neighbors=1)"
   ]
  },
  {
   "cell_type": "code",
   "execution_count": 30,
   "id": "c20a90c0-e366-4159-b6d2-dd3f8a9a4375",
   "metadata": {
    "execution": {
     "iopub.execute_input": "2022-10-31T06:22:18.188364Z",
     "iopub.status.busy": "2022-10-31T06:22:18.188364Z",
     "iopub.status.idle": "2022-10-31T06:22:18.212475Z",
     "shell.execute_reply": "2022-10-31T06:22:18.211475Z",
     "shell.execute_reply.started": "2022-10-31T06:22:18.188364Z"
    },
    "tags": []
   },
   "outputs": [
    {
     "data": {
      "text/plain": [
       "KNeighborsClassifier(n_neighbors=1)"
      ]
     },
     "execution_count": 30,
     "metadata": {},
     "output_type": "execute_result"
    }
   ],
   "source": [
    "kn.fit(X_train, y_train)"
   ]
  },
  {
   "cell_type": "code",
   "execution_count": 32,
   "id": "16919d5b-664d-4acf-89b7-92aca224f174",
   "metadata": {
    "execution": {
     "iopub.execute_input": "2022-10-31T06:22:25.584930Z",
     "iopub.status.busy": "2022-10-31T06:22:25.583929Z",
     "iopub.status.idle": "2022-10-31T06:22:25.609791Z",
     "shell.execute_reply": "2022-10-31T06:22:25.609067Z",
     "shell.execute_reply.started": "2022-10-31T06:22:25.584930Z"
    },
    "tags": []
   },
   "outputs": [
    {
     "name": "stdout",
     "output_type": "stream",
     "text": [
      "훈련세트의 정확도 : 100.00\n"
     ]
    },
    {
     "name": "stderr",
     "output_type": "stream",
     "text": [
      "C:\\Anaconda3\\lib\\site-packages\\sklearn\\neighbors\\_classification.py:228: FutureWarning: Unlike other reduction functions (e.g. `skew`, `kurtosis`), the default behavior of `mode` typically preserves the axis it acts along. In SciPy 1.11.0, this behavior will change: the default value of `keepdims` will become False, the `axis` over which the statistic is taken will be eliminated, and the value None will no longer be accepted. Set `keepdims` to True or False to avoid this warning.\n",
      "  mode, _ = stats.mode(_y[neigh_ind, k], axis=1)\n"
     ]
    }
   ],
   "source": [
    "print('훈련세트의 정확도 : {:.2f}'.format(kn.score(X_train, y_train)*100))"
   ]
  },
  {
   "cell_type": "markdown",
   "id": "81a01e82-f409-402b-b578-3d3b1bb72c30",
   "metadata": {},
   "source": [
    "### 예측하기"
   ]
  },
  {
   "cell_type": "code",
   "execution_count": 34,
   "id": "022d18d3-8576-443b-acac-e5c4c93ce46e",
   "metadata": {
    "execution": {
     "iopub.execute_input": "2022-10-31T06:23:45.279601Z",
     "iopub.status.busy": "2022-10-31T06:23:45.279601Z",
     "iopub.status.idle": "2022-10-31T06:23:45.288393Z",
     "shell.execute_reply": "2022-10-31T06:23:45.287888Z",
     "shell.execute_reply.started": "2022-10-31T06:23:45.279601Z"
    },
    "tags": []
   },
   "outputs": [
    {
     "name": "stdout",
     "output_type": "stream",
     "text": [
      "X_new.shape : (1, 4)\n"
     ]
    }
   ],
   "source": [
    "X_new = np.array([[5, 2.9, 1, 0.2]])\n",
    "print('X_new.shape :', X_new.shape)"
   ]
  },
  {
   "cell_type": "code",
   "execution_count": 47,
   "id": "d217e83c-74f7-4fdb-b880-e4c703ca0acf",
   "metadata": {
    "execution": {
     "iopub.execute_input": "2022-10-31T06:33:07.478143Z",
     "iopub.status.busy": "2022-10-31T06:33:07.477159Z",
     "iopub.status.idle": "2022-10-31T06:33:07.489648Z",
     "shell.execute_reply": "2022-10-31T06:33:07.489648Z",
     "shell.execute_reply.started": "2022-10-31T06:33:07.478143Z"
    },
    "tags": []
   },
   "outputs": [
    {
     "data": {
      "text/plain": [
       "array(['setosa', 'versicolor', 'virginica'], dtype='<U10')"
      ]
     },
     "execution_count": 47,
     "metadata": {},
     "output_type": "execute_result"
    }
   ],
   "source": [
    "iris['target_names']"
   ]
  },
  {
   "cell_type": "code",
   "execution_count": 36,
   "id": "84298083-81ca-4df2-bd70-963212ad8173",
   "metadata": {
    "execution": {
     "iopub.execute_input": "2022-10-31T06:25:28.571787Z",
     "iopub.status.busy": "2022-10-31T06:25:28.571787Z",
     "iopub.status.idle": "2022-10-31T06:25:28.581364Z",
     "shell.execute_reply": "2022-10-31T06:25:28.580364Z",
     "shell.execute_reply.started": "2022-10-31T06:25:28.571787Z"
    },
    "tags": []
   },
   "outputs": [
    {
     "name": "stdout",
     "output_type": "stream",
     "text": [
      "예측 : [0]\n",
      "예측한 타깃의 이름 : ['setosa']\n"
     ]
    },
    {
     "name": "stderr",
     "output_type": "stream",
     "text": [
      "C:\\Anaconda3\\lib\\site-packages\\sklearn\\neighbors\\_classification.py:228: FutureWarning: Unlike other reduction functions (e.g. `skew`, `kurtosis`), the default behavior of `mode` typically preserves the axis it acts along. In SciPy 1.11.0, this behavior will change: the default value of `keepdims` will become False, the `axis` over which the statistic is taken will be eliminated, and the value None will no longer be accepted. Set `keepdims` to True or False to avoid this warning.\n",
      "  mode, _ = stats.mode(_y[neigh_ind, k], axis=1)\n"
     ]
    }
   ],
   "source": [
    "prediction = kn.predict(X_new)\n",
    "print('예측 :', prediction)\n",
    "print('예측한 타깃의 이름 :', iris['target_names'][prediction])"
   ]
  },
  {
   "cell_type": "markdown",
   "id": "f2ded3dc-a731-4419-b964-ba2102f4100a",
   "metadata": {},
   "source": [
    "### 모델 평가하기"
   ]
  },
  {
   "cell_type": "code",
   "execution_count": 37,
   "id": "e326e0ce-06c9-467e-aed9-3d197b2d3ffa",
   "metadata": {
    "execution": {
     "iopub.execute_input": "2022-10-31T06:26:52.329047Z",
     "iopub.status.busy": "2022-10-31T06:26:52.328057Z",
     "iopub.status.idle": "2022-10-31T06:26:52.348044Z",
     "shell.execute_reply": "2022-10-31T06:26:52.347043Z",
     "shell.execute_reply.started": "2022-10-31T06:26:52.329047Z"
    }
   },
   "outputs": [
    {
     "name": "stderr",
     "output_type": "stream",
     "text": [
      "C:\\Anaconda3\\lib\\site-packages\\sklearn\\neighbors\\_classification.py:228: FutureWarning: Unlike other reduction functions (e.g. `skew`, `kurtosis`), the default behavior of `mode` typically preserves the axis it acts along. In SciPy 1.11.0, this behavior will change: the default value of `keepdims` will become False, the `axis` over which the statistic is taken will be eliminated, and the value None will no longer be accepted. Set `keepdims` to True or False to avoid this warning.\n",
      "  mode, _ = stats.mode(_y[neigh_ind, k], axis=1)\n"
     ]
    }
   ],
   "source": [
    "y_pred = kn.predict(X_test)"
   ]
  },
  {
   "cell_type": "code",
   "execution_count": 38,
   "id": "073ebb9d-1746-4f96-b1f0-a809279f6574",
   "metadata": {
    "execution": {
     "iopub.execute_input": "2022-10-31T06:29:39.085318Z",
     "iopub.status.busy": "2022-10-31T06:29:39.085318Z",
     "iopub.status.idle": "2022-10-31T06:29:39.104351Z",
     "shell.execute_reply": "2022-10-31T06:29:39.102350Z",
     "shell.execute_reply.started": "2022-10-31T06:29:39.085318Z"
    }
   },
   "outputs": [
    {
     "name": "stdout",
     "output_type": "stream",
     "text": [
      "테스트 데이터에 대한 예측값 : \n",
      " [2 1 0 2 0 2 0 1 1 1 2 1 1 1 1 0 1 1 0 0 2 1 0 0 2 0 0 1 1 0 2 1 0 2 2 1 0\n",
      " 2]\n"
     ]
    }
   ],
   "source": [
    "print('테스트 데이터에 대한 예측값 : \\n', y_pred)"
   ]
  },
  {
   "cell_type": "code",
   "execution_count": 39,
   "id": "881c6ce9-2f6d-4f1e-ab19-1183790c90ed",
   "metadata": {
    "execution": {
     "iopub.execute_input": "2022-10-31T06:29:43.447851Z",
     "iopub.status.busy": "2022-10-31T06:29:43.447851Z",
     "iopub.status.idle": "2022-10-31T06:29:43.485352Z",
     "shell.execute_reply": "2022-10-31T06:29:43.483998Z",
     "shell.execute_reply.started": "2022-10-31T06:29:43.447851Z"
    },
    "tags": []
   },
   "outputs": [
    {
     "name": "stdout",
     "output_type": "stream",
     "text": [
      "[5.8 2.8 5.1 2.4] : virginica\n",
      "[6.  2.2 4.  1. ] : versicolor\n",
      "[5.5 4.2 1.4 0.2] : setosa\n",
      "[7.3 2.9 6.3 1.8] : virginica\n",
      "[5.  3.4 1.5 0.2] : setosa\n",
      "[6.3 3.3 6.  2.5] : virginica\n",
      "[5.  3.5 1.3 0.3] : setosa\n",
      "[6.7 3.1 4.7 1.5] : versicolor\n",
      "[6.8 2.8 4.8 1.4] : versicolor\n",
      "[6.1 2.8 4.  1.3] : versicolor\n",
      "[6.1 2.6 5.6 1.4] : virginica\n",
      "[6.4 3.2 4.5 1.5] : versicolor\n",
      "[6.1 2.8 4.7 1.2] : versicolor\n",
      "[6.5 2.8 4.6 1.5] : versicolor\n",
      "[6.1 2.9 4.7 1.4] : versicolor\n",
      "[4.9 3.6 1.4 0.1] : setosa\n",
      "[6.  2.9 4.5 1.5] : versicolor\n",
      "[5.5 2.6 4.4 1.2] : versicolor\n",
      "[4.8 3.  1.4 0.3] : setosa\n",
      "[5.4 3.9 1.3 0.4] : setosa\n",
      "[5.6 2.8 4.9 2. ] : virginica\n",
      "[5.6 3.  4.5 1.5] : versicolor\n",
      "[4.8 3.4 1.9 0.2] : setosa\n",
      "[4.4 2.9 1.4 0.2] : setosa\n",
      "[6.2 2.8 4.8 1.8] : virginica\n",
      "[4.6 3.6 1.  0.2] : setosa\n",
      "[5.1 3.8 1.9 0.4] : setosa\n",
      "[6.2 2.9 4.3 1.3] : versicolor\n",
      "[5.  2.3 3.3 1. ] : versicolor\n",
      "[5.  3.4 1.6 0.4] : setosa\n",
      "[6.4 3.1 5.5 1.8] : virginica\n",
      "[5.4 3.  4.5 1.5] : versicolor\n",
      "[5.2 3.5 1.5 0.2] : setosa\n",
      "[6.1 3.  4.9 1.8] : virginica\n",
      "[6.4 2.8 5.6 2.2] : virginica\n",
      "[5.2 2.7 3.9 1.4] : versicolor\n",
      "[5.7 3.8 1.7 0.3] : setosa\n",
      "[6.  2.7 5.1 1.6] : virginica\n"
     ]
    }
   ],
   "source": [
    "for i in range(0, len(y_pred)):\n",
    "    yhat = y_pred[i]\n",
    "    print('{} : {}'.format(X_test[i], iris['target_names'][yhat]))"
   ]
  },
  {
   "cell_type": "code",
   "execution_count": 41,
   "id": "33ab57ec-ee0a-480d-8b21-b81fd7c86a12",
   "metadata": {
    "execution": {
     "iopub.execute_input": "2022-10-31T06:30:51.986073Z",
     "iopub.status.busy": "2022-10-31T06:30:51.985105Z",
     "iopub.status.idle": "2022-10-31T06:30:52.012045Z",
     "shell.execute_reply": "2022-10-31T06:30:52.011013Z",
     "shell.execute_reply.started": "2022-10-31T06:30:51.986073Z"
    },
    "tags": []
   },
   "outputs": [
    {
     "name": "stdout",
     "output_type": "stream",
     "text": [
      "테스트 데이터의 정확도 : 0.97\n"
     ]
    },
    {
     "name": "stderr",
     "output_type": "stream",
     "text": [
      "C:\\Anaconda3\\lib\\site-packages\\sklearn\\neighbors\\_classification.py:228: FutureWarning: Unlike other reduction functions (e.g. `skew`, `kurtosis`), the default behavior of `mode` typically preserves the axis it acts along. In SciPy 1.11.0, this behavior will change: the default value of `keepdims` will become False, the `axis` over which the statistic is taken will be eliminated, and the value None will no longer be accepted. Set `keepdims` to True or False to avoid this warning.\n",
      "  mode, _ = stats.mode(_y[neigh_ind, k], axis=1)\n"
     ]
    }
   ],
   "source": [
    "print('테스트 데이터의 정확도 : {:.2f}'.format(kn.score(X_test, y_test)))"
   ]
  },
  {
   "cell_type": "code",
   "execution_count": 46,
   "id": "6dea8de9-faa9-478f-b198-61cbcd445757",
   "metadata": {
    "execution": {
     "iopub.execute_input": "2022-10-31T06:33:02.490741Z",
     "iopub.status.busy": "2022-10-31T06:33:02.489742Z",
     "iopub.status.idle": "2022-10-31T06:33:02.508466Z",
     "shell.execute_reply": "2022-10-31T06:33:02.507465Z",
     "shell.execute_reply.started": "2022-10-31T06:33:02.490741Z"
    },
    "tags": []
   },
   "outputs": [
    {
     "data": {
      "text/plain": [
       "0.9736842105263158"
      ]
     },
     "execution_count": 46,
     "metadata": {},
     "output_type": "execute_result"
    }
   ],
   "source": [
    "np.mean(y_pred == y_test)"
   ]
  },
  {
   "cell_type": "markdown",
   "id": "7b73acf7-b724-4c38-b937-34f5d02a8438",
   "metadata": {},
   "source": [
    "- 사이킷런 패키지는 metrics 서브패키지에서 다음처럼 다양한 분류용 성능평가 명령을 제공한다.\n",
    "1. confusion_matrix(y_true, y_pred)\n",
    "2. accuracy_score(y_true, y_pred)\n",
    "3. precision_score(y_true, y_pred)\n",
    "4. recall_score(y_true, y_pred)\n",
    "5. fbeta_score(y_true, y_pred, beta)\n",
    "6. f1_score(y_true, y_pred)\n",
    "7. classfication_report(y_true, y_pred)\n",
    "8. roc_curve\n",
    "9. auc"
   ]
  },
  {
   "cell_type": "markdown",
   "id": "316e5272-288d-4bb2-b0c3-90a6b3c952f9",
   "metadata": {},
   "source": [
    "### 최적의 k값 찾기"
   ]
  },
  {
   "cell_type": "code",
   "execution_count": 55,
   "id": "106250fc-9020-45c6-88b1-007e6cc77c4e",
   "metadata": {
    "execution": {
     "iopub.execute_input": "2022-10-31T06:46:07.784889Z",
     "iopub.status.busy": "2022-10-31T06:46:07.784889Z",
     "iopub.status.idle": "2022-10-31T06:46:08.088498Z",
     "shell.execute_reply": "2022-10-31T06:46:08.087486Z",
     "shell.execute_reply.started": "2022-10-31T06:46:07.784889Z"
    },
    "tags": []
   },
   "outputs": [
    {
     "name": "stdout",
     "output_type": "stream",
     "text": [
      "[0.97368421 0.97368421 0.97368421 0.97368421 0.97368421 0.97368421\n",
      " 0.97368421 0.97368421 0.97368421 0.97368421 0.97368421 0.97368421\n",
      " 0.97368421 0.97368421 0.97368421 0.97368421 0.97368421 0.97368421\n",
      " 0.97368421 0.97368421 0.97368421 0.97368421 0.97368421 0.94736842\n",
      " 0.94736842 0.94736842 0.94736842 0.92105263 0.89473684 0.94736842\n",
      " 0.94736842 0.97368421 0.92105263 0.94736842 0.92105263 0.94736842\n",
      " 0.92105263 0.92105263 0.92105263 0.86842105 0.89473684 0.86842105\n",
      " 0.86842105 0.89473684 0.89473684 0.89473684 0.89473684 0.86842105\n",
      " 0.89473684 0.89473684 0.89473684 0.86842105 0.92105263 0.89473684\n",
      " 0.89473684 0.89473684 0.89473684 0.89473684 0.89473684 0.89473684\n",
      " 0.89473684 0.89473684 0.81578947 0.81578947 0.81578947 0.84210526\n",
      " 0.84210526 0.84210526 0.71052632 0.68421053 0.65789474 0.63157895\n",
      " 0.63157895 0.63157895 0.63157895 0.63157895 0.63157895 0.63157895\n",
      " 0.63157895 0.63157895 0.63157895 0.63157895 0.63157895 0.63157895\n",
      " 0.60526316 0.60526316 0.60526316 0.60526316 0.60526316 0.60526316\n",
      " 0.60526316 0.60526316 0.60526316 0.60526316 0.60526316 0.60526316\n",
      " 0.60526316 0.60526316 0.60526316]\n"
     ]
    }
   ],
   "source": [
    "# 1 ~ 100\n",
    "ks = 100\n",
    "mean_acc = np.zeros((ks-1))\n",
    "for k in range(1, ks):\n",
    "    clf = KNeighborsClassifier(n_neighbors=k).fit(X_train, y_train)\n",
    "    yhat = clf.predict(X_test)\n",
    "    mean_acc[k-1] = accuracy_score(y_test, yhat)\n",
    "\n",
    "print(mean_acc)"
   ]
  },
  {
   "cell_type": "code",
   "execution_count": 53,
   "id": "1d4d9c83-ffda-45f3-9a70-5bc304ca6ab7",
   "metadata": {
    "execution": {
     "iopub.execute_input": "2022-10-31T06:44:28.776471Z",
     "iopub.status.busy": "2022-10-31T06:44:28.776471Z",
     "iopub.status.idle": "2022-10-31T06:44:28.960173Z",
     "shell.execute_reply": "2022-10-31T06:44:28.960173Z",
     "shell.execute_reply.started": "2022-10-31T06:44:28.776471Z"
    },
    "tags": []
   },
   "outputs": [
    {
     "data": {
      "image/png": "[encoded data removed]",
      "text/plain": [
       "<Figure size 640x480 with 1 Axes>"
      ]
     },
     "metadata": {},
     "output_type": "display_data"
    }
   ],
   "source": [
    "# 시각화\n",
    "plt.plot(range(1, ks), mean_acc, 'g')\n",
    "plt.ylabel('Accuracy')\n",
    "plt.xlabel('Number of Neighbors(k)')\n",
    "plt.tight_layout()\n",
    "plt.show()"
   ]
  },
  {
   "cell_type": "markdown",
   "id": "9c91fc21-2f86-4ebd-9701-2eba46a8b9be",
   "metadata": {},
   "source": [
    "## 와인 데이터\n",
    "- 와인의 화학 성분을 사용하여 와인의 종류를 예측하기 위한 데이터셋"
   ]
  },
  {
   "cell_type": "code",
   "execution_count": 131,
   "id": "95e4b901-efc7-4c5e-8ac8-9fee5f49bc3f",
   "metadata": {
    "execution": {
     "iopub.execute_input": "2022-10-31T08:39:25.409877Z",
     "iopub.status.busy": "2022-10-31T08:39:25.409877Z",
     "iopub.status.idle": "2022-10-31T08:39:25.428964Z",
     "shell.execute_reply": "2022-10-31T08:39:25.427961Z",
     "shell.execute_reply.started": "2022-10-31T08:39:25.409877Z"
    },
    "tags": []
   },
   "outputs": [],
   "source": [
    "from sklearn.datasets import load_wine\n",
    "wine = load_wine()"
   ]
  },
  {
   "cell_type": "code",
   "execution_count": 132,
   "id": "184fd31b-4a00-42c0-bff5-c2c03ce2ffdc",
   "metadata": {
    "execution": {
     "iopub.execute_input": "2022-10-31T08:39:25.803137Z",
     "iopub.status.busy": "2022-10-31T08:39:25.801634Z",
     "iopub.status.idle": "2022-10-31T08:39:25.819012Z",
     "shell.execute_reply": "2022-10-31T08:39:25.818701Z",
     "shell.execute_reply.started": "2022-10-31T08:39:25.803137Z"
    },
    "tags": []
   },
   "outputs": [
    {
     "name": "stdout",
     "output_type": "stream",
     "text": [
      "dict_keys(['data', 'target', 'frame', 'target_names', 'DESCR', 'feature_names'])\n"
     ]
    }
   ],
   "source": [
    "print(wine.keys())"
   ]
  },
  {
   "cell_type": "code",
   "execution_count": 133,
   "id": "59db924b-ebef-4b0b-8e19-f44612e79cba",
   "metadata": {
    "execution": {
     "iopub.execute_input": "2022-10-31T08:39:26.308871Z",
     "iopub.status.busy": "2022-10-31T08:39:26.308871Z",
     "iopub.status.idle": "2022-10-31T08:39:26.324315Z",
     "shell.execute_reply": "2022-10-31T08:39:26.323295Z",
     "shell.execute_reply.started": "2022-10-31T08:39:26.308871Z"
    },
    "tags": []
   },
   "outputs": [
    {
     "data": {
      "text/plain": [
       "array(['class_0', 'class_1', 'class_2'], dtype='<U7')"
      ]
     },
     "execution_count": 133,
     "metadata": {},
     "output_type": "execute_result"
    }
   ],
   "source": [
    "wine.target_names"
   ]
  },
  {
   "cell_type": "code",
   "execution_count": 134,
   "id": "7401a8f7-69ed-47b6-ab1a-8298fca9d341",
   "metadata": {
    "execution": {
     "iopub.execute_input": "2022-10-31T08:39:26.870759Z",
     "iopub.status.busy": "2022-10-31T08:39:26.870759Z",
     "iopub.status.idle": "2022-10-31T08:39:26.893740Z",
     "shell.execute_reply": "2022-10-31T08:39:26.891741Z",
     "shell.execute_reply.started": "2022-10-31T08:39:26.870759Z"
    },
    "tags": []
   },
   "outputs": [],
   "source": [
    "X_train, X_test, y_train, y_test = train_test_split(\n",
    "    wine.data, wine.target, random_state=255)"
   ]
  },
  {
   "cell_type": "code",
   "execution_count": 135,
   "id": "003a8505-7c0c-4bdb-b277-c60cfddbe835",
   "metadata": {
    "execution": {
     "iopub.execute_input": "2022-10-31T08:39:27.419742Z",
     "iopub.status.busy": "2022-10-31T08:39:27.419742Z",
     "iopub.status.idle": "2022-10-31T08:39:27.436254Z",
     "shell.execute_reply": "2022-10-31T08:39:27.435197Z",
     "shell.execute_reply.started": "2022-10-31T08:39:27.419742Z"
    },
    "tags": []
   },
   "outputs": [
    {
     "data": {
      "text/plain": [
       "(133, 13)"
      ]
     },
     "execution_count": 135,
     "metadata": {},
     "output_type": "execute_result"
    }
   ],
   "source": [
    "X_train.shape"
   ]
  },
  {
   "cell_type": "code",
   "execution_count": 136,
   "id": "0597a5b8-4055-4087-afac-11bf58ad76bd",
   "metadata": {
    "execution": {
     "iopub.execute_input": "2022-10-31T08:39:27.886288Z",
     "iopub.status.busy": "2022-10-31T08:39:27.886288Z",
     "iopub.status.idle": "2022-10-31T08:39:27.916247Z",
     "shell.execute_reply": "2022-10-31T08:39:27.916247Z",
     "shell.execute_reply.started": "2022-10-31T08:39:27.886288Z"
    },
    "tags": []
   },
   "outputs": [
    {
     "data": {
      "text/plain": [
       "(45, 13)"
      ]
     },
     "execution_count": 136,
     "metadata": {},
     "output_type": "execute_result"
    }
   ],
   "source": [
    "X_test.shape"
   ]
  },
  {
   "cell_type": "code",
   "execution_count": 139,
   "id": "339b4de3-63e0-489a-b531-3a5b118184ca",
   "metadata": {
    "execution": {
     "iopub.execute_input": "2022-10-31T08:39:57.016939Z",
     "iopub.status.busy": "2022-10-31T08:39:57.016939Z",
     "iopub.status.idle": "2022-10-31T08:39:57.083003Z",
     "shell.execute_reply": "2022-10-31T08:39:57.082001Z",
     "shell.execute_reply.started": "2022-10-31T08:39:57.016939Z"
    },
    "tags": []
   },
   "outputs": [
    {
     "data": {
      "text/html": [
       "<div>\n",
       "<style scoped>\n",
       "    .dataframe tbody tr th:only-of-type {\n",
       "        vertical-align: middle;\n",
       "    }\n",
       "\n",
       "    .dataframe tbody tr th {\n",
       "        vertical-align: top;\n",
       "    }\n",
       "\n",
       "    .dataframe thead th {\n",
       "        text-align: right;\n",
       "    }\n",
       "</style>\n",
       "<table border=\"1\" class=\"dataframe\">\n",
       "  <thead>\n",
       "    <tr style=\"text-align: right;\">\n",
       "      <th></th>\n",
       "      <th>alcohol</th>\n",
       "      <th>malic_acid</th>\n",
       "      <th>ash</th>\n",
       "      <th>alcalinity_of_ash</th>\n",
       "      <th>magnesium</th>\n",
       "      <th>total_phenols</th>\n",
       "      <th>flavanoids</th>\n",
       "      <th>nonflavanoid_phenols</th>\n",
       "      <th>proanthocyanins</th>\n",
       "      <th>color_intensity</th>\n",
       "      <th>hue</th>\n",
       "      <th>od280/od315_of_diluted_wines</th>\n",
       "      <th>proline</th>\n",
       "    </tr>\n",
       "  </thead>\n",
       "  <tbody>\n",
       "    <tr>\n",
       "      <th>0</th>\n",
       "      <td>13.86</td>\n",
       "      <td>1.35</td>\n",
       "      <td>2.27</td>\n",
       "      <td>16.0</td>\n",
       "      <td>98.0</td>\n",
       "      <td>2.98</td>\n",
       "      <td>3.15</td>\n",
       "      <td>0.22</td>\n",
       "      <td>1.85</td>\n",
       "      <td>7.22</td>\n",
       "      <td>1.01</td>\n",
       "      <td>3.55</td>\n",
       "      <td>1045.0</td>\n",
       "    </tr>\n",
       "    <tr>\n",
       "      <th>1</th>\n",
       "      <td>12.77</td>\n",
       "      <td>3.43</td>\n",
       "      <td>1.98</td>\n",
       "      <td>16.0</td>\n",
       "      <td>80.0</td>\n",
       "      <td>1.63</td>\n",
       "      <td>1.25</td>\n",
       "      <td>0.43</td>\n",
       "      <td>0.83</td>\n",
       "      <td>3.40</td>\n",
       "      <td>0.70</td>\n",
       "      <td>2.12</td>\n",
       "      <td>372.0</td>\n",
       "    </tr>\n",
       "    <tr>\n",
       "      <th>2</th>\n",
       "      <td>12.88</td>\n",
       "      <td>2.99</td>\n",
       "      <td>2.40</td>\n",
       "      <td>20.0</td>\n",
       "      <td>104.0</td>\n",
       "      <td>1.30</td>\n",
       "      <td>1.22</td>\n",
       "      <td>0.24</td>\n",
       "      <td>0.83</td>\n",
       "      <td>5.40</td>\n",
       "      <td>0.74</td>\n",
       "      <td>1.42</td>\n",
       "      <td>530.0</td>\n",
       "    </tr>\n",
       "    <tr>\n",
       "      <th>3</th>\n",
       "      <td>13.73</td>\n",
       "      <td>1.50</td>\n",
       "      <td>2.70</td>\n",
       "      <td>22.5</td>\n",
       "      <td>101.0</td>\n",
       "      <td>3.00</td>\n",
       "      <td>3.25</td>\n",
       "      <td>0.29</td>\n",
       "      <td>2.38</td>\n",
       "      <td>5.70</td>\n",
       "      <td>1.19</td>\n",
       "      <td>2.71</td>\n",
       "      <td>1285.0</td>\n",
       "    </tr>\n",
       "    <tr>\n",
       "      <th>4</th>\n",
       "      <td>13.20</td>\n",
       "      <td>1.78</td>\n",
       "      <td>2.14</td>\n",
       "      <td>11.2</td>\n",
       "      <td>100.0</td>\n",
       "      <td>2.65</td>\n",
       "      <td>2.76</td>\n",
       "      <td>0.26</td>\n",
       "      <td>1.28</td>\n",
       "      <td>4.38</td>\n",
       "      <td>1.05</td>\n",
       "      <td>3.40</td>\n",
       "      <td>1050.0</td>\n",
       "    </tr>\n",
       "    <tr>\n",
       "      <th>...</th>\n",
       "      <td>...</td>\n",
       "      <td>...</td>\n",
       "      <td>...</td>\n",
       "      <td>...</td>\n",
       "      <td>...</td>\n",
       "      <td>...</td>\n",
       "      <td>...</td>\n",
       "      <td>...</td>\n",
       "      <td>...</td>\n",
       "      <td>...</td>\n",
       "      <td>...</td>\n",
       "      <td>...</td>\n",
       "      <td>...</td>\n",
       "    </tr>\n",
       "    <tr>\n",
       "      <th>128</th>\n",
       "      <td>12.93</td>\n",
       "      <td>3.80</td>\n",
       "      <td>2.65</td>\n",
       "      <td>18.6</td>\n",
       "      <td>102.0</td>\n",
       "      <td>2.41</td>\n",
       "      <td>2.41</td>\n",
       "      <td>0.25</td>\n",
       "      <td>1.98</td>\n",
       "      <td>4.50</td>\n",
       "      <td>1.03</td>\n",
       "      <td>3.52</td>\n",
       "      <td>770.0</td>\n",
       "    </tr>\n",
       "    <tr>\n",
       "      <th>129</th>\n",
       "      <td>12.70</td>\n",
       "      <td>3.55</td>\n",
       "      <td>2.36</td>\n",
       "      <td>21.5</td>\n",
       "      <td>106.0</td>\n",
       "      <td>1.70</td>\n",
       "      <td>1.20</td>\n",
       "      <td>0.17</td>\n",
       "      <td>0.84</td>\n",
       "      <td>5.00</td>\n",
       "      <td>0.78</td>\n",
       "      <td>1.29</td>\n",
       "      <td>600.0</td>\n",
       "    </tr>\n",
       "    <tr>\n",
       "      <th>130</th>\n",
       "      <td>11.56</td>\n",
       "      <td>2.05</td>\n",
       "      <td>3.23</td>\n",
       "      <td>28.5</td>\n",
       "      <td>119.0</td>\n",
       "      <td>3.18</td>\n",
       "      <td>5.08</td>\n",
       "      <td>0.47</td>\n",
       "      <td>1.87</td>\n",
       "      <td>6.00</td>\n",
       "      <td>0.93</td>\n",
       "      <td>3.69</td>\n",
       "      <td>465.0</td>\n",
       "    </tr>\n",
       "    <tr>\n",
       "      <th>131</th>\n",
       "      <td>13.40</td>\n",
       "      <td>4.60</td>\n",
       "      <td>2.86</td>\n",
       "      <td>25.0</td>\n",
       "      <td>112.0</td>\n",
       "      <td>1.98</td>\n",
       "      <td>0.96</td>\n",
       "      <td>0.27</td>\n",
       "      <td>1.11</td>\n",
       "      <td>8.50</td>\n",
       "      <td>0.67</td>\n",
       "      <td>1.92</td>\n",
       "      <td>630.0</td>\n",
       "    </tr>\n",
       "    <tr>\n",
       "      <th>132</th>\n",
       "      <td>13.83</td>\n",
       "      <td>1.65</td>\n",
       "      <td>2.60</td>\n",
       "      <td>17.2</td>\n",
       "      <td>94.0</td>\n",
       "      <td>2.45</td>\n",
       "      <td>2.99</td>\n",
       "      <td>0.22</td>\n",
       "      <td>2.29</td>\n",
       "      <td>5.60</td>\n",
       "      <td>1.24</td>\n",
       "      <td>3.37</td>\n",
       "      <td>1265.0</td>\n",
       "    </tr>\n",
       "  </tbody>\n",
       "</table>\n",
       "<p>133 rows × 13 columns</p>\n",
       "</div>"
      ],
      "text/plain": [
       "     alcohol  malic_acid   ash  alcalinity_of_ash  magnesium  total_phenols  \\\n",
       "0      13.86        1.35  2.27               16.0       98.0           2.98   \n",
       "1      12.77        3.43  1.98               16.0       80.0           1.63   \n",
       "2      12.88        2.99  2.40               20.0      104.0           1.30   \n",
       "3      13.73        1.50  2.70               22.5      101.0           3.00   \n",
       "4      13.20        1.78  2.14               11.2      100.0           2.65   \n",
       "..       ...         ...   ...                ...        ...            ...   \n",
       "128    12.93        3.80  2.65               18.6      102.0           2.41   \n",
       "129    12.70        3.55  2.36               21.5      106.0           1.70   \n",
       "130    11.56        2.05  3.23               28.5      119.0           3.18   \n",
       "131    13.40        4.60  2.86               25.0      112.0           1.98   \n",
       "132    13.83        1.65  2.60               17.2       94.0           2.45   \n",
       "\n",
       "     flavanoids  nonflavanoid_phenols  proanthocyanins  color_intensity   hue  \\\n",
       "0          3.15                  0.22             1.85             7.22  1.01   \n",
       "1          1.25                  0.43             0.83             3.40  0.70   \n",
       "2          1.22                  0.24             0.83             5.40  0.74   \n",
       "3          3.25                  0.29             2.38             5.70  1.19   \n",
       "4          2.76                  0.26             1.28             4.38  1.05   \n",
       "..          ...                   ...              ...              ...   ...   \n",
       "128        2.41                  0.25             1.98             4.50  1.03   \n",
       "129        1.20                  0.17             0.84             5.00  0.78   \n",
       "130        5.08                  0.47             1.87             6.00  0.93   \n",
       "131        0.96                  0.27             1.11             8.50  0.67   \n",
       "132        2.99                  0.22             2.29             5.60  1.24   \n",
       "\n",
       "     od280/od315_of_diluted_wines  proline  \n",
       "0                            3.55   1045.0  \n",
       "1                            2.12    372.0  \n",
       "2                            1.42    530.0  \n",
       "3                            2.71   1285.0  \n",
       "4                            3.40   1050.0  \n",
       "..                            ...      ...  \n",
       "128                          3.52    770.0  \n",
       "129                          1.29    600.0  \n",
       "130                          3.69    465.0  \n",
       "131                          1.92    630.0  \n",
       "132                          3.37   1265.0  \n",
       "\n",
       "[133 rows x 13 columns]"
      ]
     },
     "execution_count": 139,
     "metadata": {},
     "output_type": "execute_result"
    }
   ],
   "source": [
    "wine_df = pd.DataFrame(X_train, columns=wine.feature_names)\n",
    "wine_df"
   ]
  },
  {
   "cell_type": "code",
   "execution_count": 125,
   "id": "1e7e9fa9-2c51-4f4c-95ec-3cc5d6bd18ba",
   "metadata": {
    "execution": {
     "iopub.execute_input": "2022-10-31T07:49:19.226868Z",
     "iopub.status.busy": "2022-10-31T07:49:19.226868Z",
     "iopub.status.idle": "2022-10-31T07:49:19.644020Z",
     "shell.execute_reply": "2022-10-31T07:49:19.642983Z",
     "shell.execute_reply.started": "2022-10-31T07:49:19.226868Z"
    },
    "tags": []
   },
   "outputs": [
    {
     "name": "stdout",
     "output_type": "stream",
     "text": [
      "0.7555555555555555\n"
     ]
    }
   ],
   "source": [
    "ks = 100\n",
    "mean_acc = np.zeros((ks-1))\n",
    "for k in range(1, ks):\n",
    "    clf = KNeighborsClassifier(n_neighbors=k).fit(X_train, y_train)\n",
    "    yhat = clf.predict(X_test)\n",
    "    mean_acc[k-1] = accuracy_score(y_test, yhat)\n",
    "\n",
    "print(mean_acc.max())"
   ]
  },
  {
   "cell_type": "code",
   "execution_count": 126,
   "id": "742df065-a23a-4d0c-bad4-f28a664bf377",
   "metadata": {
    "execution": {
     "iopub.execute_input": "2022-10-31T07:49:19.860404Z",
     "iopub.status.busy": "2022-10-31T07:49:19.860404Z",
     "iopub.status.idle": "2022-10-31T07:49:20.078325Z",
     "shell.execute_reply": "2022-10-31T07:49:20.076682Z",
     "shell.execute_reply.started": "2022-10-31T07:49:19.860404Z"
    },
    "tags": []
   },
   "outputs": [
    {
     "data": {
      "image/png": "[encoded data removed]",
      "text/plain": [
       "<Figure size 640x480 with 1 Axes>"
      ]
     },
     "metadata": {},
     "output_type": "display_data"
    }
   ],
   "source": [
    "plt.plot(range(1, ks), mean_acc, 'g')\n",
    "plt.ylabel('Accuracy')\n",
    "plt.xlabel('Number of Neighbors(k)')\n",
    "plt.tight_layout()\n",
    "plt.show()"
   ]
  },
  {
   "cell_type": "code",
   "execution_count": 127,
   "id": "20bcc2c3-3328-45e9-8f53-5376f28dab0f",
   "metadata": {
    "execution": {
     "iopub.execute_input": "2022-10-31T07:49:20.655873Z",
     "iopub.status.busy": "2022-10-31T07:49:20.655873Z",
     "iopub.status.idle": "2022-10-31T07:49:20.672434Z",
     "shell.execute_reply": "2022-10-31T07:49:20.671041Z",
     "shell.execute_reply.started": "2022-10-31T07:49:20.655873Z"
    },
    "tags": []
   },
   "outputs": [
    {
     "data": {
      "text/plain": [
       "KNeighborsClassifier(n_neighbors=14)"
      ]
     },
     "execution_count": 127,
     "metadata": {},
     "output_type": "execute_result"
    }
   ],
   "source": [
    "kn = KNeighborsClassifier(n_neighbors=14)\n",
    "kn.fit(X_train, y_train)"
   ]
  },
  {
   "cell_type": "code",
   "execution_count": 128,
   "id": "bde3d17a-d9e6-42a6-bbbd-197f941924d0",
   "metadata": {
    "execution": {
     "iopub.execute_input": "2022-10-31T07:49:21.704701Z",
     "iopub.status.busy": "2022-10-31T07:49:21.704701Z",
     "iopub.status.idle": "2022-10-31T07:49:21.714047Z",
     "shell.execute_reply": "2022-10-31T07:49:21.712941Z",
     "shell.execute_reply.started": "2022-10-31T07:49:21.704701Z"
    },
    "tags": []
   },
   "outputs": [],
   "source": [
    "y_pred = kn.predict(X_test)"
   ]
  },
  {
   "cell_type": "code",
   "execution_count": 129,
   "id": "aedd9de7-9e37-4ffe-9dcc-383fbabc7764",
   "metadata": {
    "execution": {
     "iopub.execute_input": "2022-10-31T07:49:22.311685Z",
     "iopub.status.busy": "2022-10-31T07:49:22.311685Z",
     "iopub.status.idle": "2022-10-31T07:49:22.344102Z",
     "shell.execute_reply": "2022-10-31T07:49:22.343073Z",
     "shell.execute_reply.started": "2022-10-31T07:49:22.311685Z"
    },
    "tags": []
   },
   "outputs": [
    {
     "name": "stdout",
     "output_type": "stream",
     "text": [
      "1 : class_0\n",
      "2 : class_1\n",
      "3 : class_1\n",
      "4 : class_2\n",
      "5 : class_1\n",
      "6 : class_1\n",
      "7 : class_1\n",
      "8 : class_1\n",
      "9 : class_1\n",
      "10 : class_0\n",
      "11 : class_0\n",
      "12 : class_2\n",
      "13 : class_2\n",
      "14 : class_1\n",
      "15 : class_1\n",
      "16 : class_2\n",
      "17 : class_1\n",
      "18 : class_0\n",
      "19 : class_2\n",
      "20 : class_2\n",
      "21 : class_1\n",
      "22 : class_1\n",
      "23 : class_0\n",
      "24 : class_1\n",
      "25 : class_0\n",
      "26 : class_1\n",
      "27 : class_1\n",
      "28 : class_0\n",
      "29 : class_1\n",
      "30 : class_0\n",
      "31 : class_2\n",
      "32 : class_0\n",
      "33 : class_2\n",
      "34 : class_1\n",
      "35 : class_0\n",
      "36 : class_0\n",
      "37 : class_2\n",
      "38 : class_2\n",
      "39 : class_1\n",
      "40 : class_0\n",
      "41 : class_2\n",
      "42 : class_1\n",
      "43 : class_1\n",
      "44 : class_0\n",
      "45 : class_1\n"
     ]
    }
   ],
   "source": [
    "for i in range(0, len(y_pred)):\n",
    "    yhat = y_pred[i]\n",
    "    print('{} : {}'.format(i+1, wine['target_names'][yhat]))"
   ]
  },
  {
   "cell_type": "code",
   "execution_count": 130,
   "id": "7f3077c2-ad65-4cb7-b62c-4b91710b8c62",
   "metadata": {
    "execution": {
     "iopub.execute_input": "2022-10-31T07:49:23.540761Z",
     "iopub.status.busy": "2022-10-31T07:49:23.540761Z",
     "iopub.status.idle": "2022-10-31T07:49:23.561228Z",
     "shell.execute_reply": "2022-10-31T07:49:23.559221Z",
     "shell.execute_reply.started": "2022-10-31T07:49:23.540761Z"
    },
    "tags": []
   },
   "outputs": [
    {
     "name": "stdout",
     "output_type": "stream",
     "text": [
      "테스트 데이터의 정확도 : 0.73\n"
     ]
    }
   ],
   "source": [
    "print('테스트 데이터의 정확도 : {:.2f}'.format(kn.score(X_test, y_test)))"
   ]
  },
  {
   "cell_type": "markdown",
   "id": "e10f04dd-3cc6-4261-b018-5c9cf3fcd7f4",
   "metadata": {},
   "source": [
    "## 유방암 진단 데이터\n",
    "- 유방암(breast cancer) 진단 데이터 세트\n",
    "- 유방암 진단 사진으로부터 측정한 종양(tumar)의 특정값을 사용하여 종양이 양성(bengin)인지 악성(malignant)인지 판별"
   ]
  },
  {
   "cell_type": "code",
   "execution_count": 109,
   "id": "b0795814-0f77-4f8f-b73b-a3a5b6e7a2bc",
   "metadata": {
    "execution": {
     "iopub.execute_input": "2022-10-31T07:48:46.545508Z",
     "iopub.status.busy": "2022-10-31T07:48:46.545508Z",
     "iopub.status.idle": "2022-10-31T07:48:46.590543Z",
     "shell.execute_reply": "2022-10-31T07:48:46.588542Z",
     "shell.execute_reply.started": "2022-10-31T07:48:46.545508Z"
    },
    "tags": []
   },
   "outputs": [
    {
     "data": {
      "text/plain": [
       "dict_keys(['data', 'target', 'frame', 'target_names', 'DESCR', 'feature_names', 'filename', 'data_module'])"
      ]
     },
     "execution_count": 109,
     "metadata": {},
     "output_type": "execute_result"
    }
   ],
   "source": [
    "cancer = load_breast_cancer()\n",
    "cancer.keys()"
   ]
  },
  {
   "cell_type": "code",
   "execution_count": 110,
   "id": "ee73a995-4391-41e1-8223-511042a6897e",
   "metadata": {
    "execution": {
     "iopub.execute_input": "2022-10-31T07:48:47.192043Z",
     "iopub.status.busy": "2022-10-31T07:48:47.192043Z",
     "iopub.status.idle": "2022-10-31T07:48:47.208534Z",
     "shell.execute_reply": "2022-10-31T07:48:47.207536Z",
     "shell.execute_reply.started": "2022-10-31T07:48:47.192043Z"
    },
    "tags": []
   },
   "outputs": [],
   "source": [
    "X_train, X_test, y_train, y_test = train_test_split(\n",
    "    cancer.data, cancer.target, random_state=255)"
   ]
  },
  {
   "cell_type": "code",
   "execution_count": 111,
   "id": "21958ddd-7d74-4dad-8e5e-31e6f8409745",
   "metadata": {
    "execution": {
     "iopub.execute_input": "2022-10-31T07:48:47.658620Z",
     "iopub.status.busy": "2022-10-31T07:48:47.658620Z",
     "iopub.status.idle": "2022-10-31T07:48:47.691166Z",
     "shell.execute_reply": "2022-10-31T07:48:47.690164Z",
     "shell.execute_reply.started": "2022-10-31T07:48:47.658620Z"
    },
    "tags": []
   },
   "outputs": [
    {
     "data": {
      "text/plain": [
       "(426, 30)"
      ]
     },
     "execution_count": 111,
     "metadata": {},
     "output_type": "execute_result"
    }
   ],
   "source": [
    "X_train.shape"
   ]
  },
  {
   "cell_type": "code",
   "execution_count": 112,
   "id": "d583bc15-df78-4d2b-ba55-7b694ba0bc66",
   "metadata": {
    "execution": {
     "iopub.execute_input": "2022-10-31T07:48:47.991753Z",
     "iopub.status.busy": "2022-10-31T07:48:47.991753Z",
     "iopub.status.idle": "2022-10-31T07:48:48.025327Z",
     "shell.execute_reply": "2022-10-31T07:48:48.024220Z",
     "shell.execute_reply.started": "2022-10-31T07:48:47.991753Z"
    },
    "tags": []
   },
   "outputs": [
    {
     "data": {
      "text/plain": [
       "(143, 30)"
      ]
     },
     "execution_count": 112,
     "metadata": {},
     "output_type": "execute_result"
    }
   ],
   "source": [
    "X_test.shape"
   ]
  },
  {
   "cell_type": "code",
   "execution_count": 113,
   "id": "9bad21d0-e4fe-451f-ac85-2b48512b7c9f",
   "metadata": {
    "execution": {
     "iopub.execute_input": "2022-10-31T07:48:48.384349Z",
     "iopub.status.busy": "2022-10-31T07:48:48.384349Z",
     "iopub.status.idle": "2022-10-31T07:48:49.171545Z",
     "shell.execute_reply": "2022-10-31T07:48:49.170546Z",
     "shell.execute_reply.started": "2022-10-31T07:48:48.384349Z"
    },
    "tags": []
   },
   "outputs": [
    {
     "name": "stdout",
     "output_type": "stream",
     "text": [
      "(array([ 0,  6,  7,  8,  9, 10, 11], dtype=int64),)\n"
     ]
    }
   ],
   "source": [
    "ks = 100\n",
    "mean_acc = np.zeros((ks-1))\n",
    "for k in range(1, ks):\n",
    "    clf = KNeighborsClassifier(n_neighbors=k).fit(X_train, y_train)\n",
    "    yhat = clf.predict(X_test)\n",
    "    mean_acc[k-1] = accuracy_score(y_test, yhat)\n",
    "\n",
    "print(np.where(mean_acc == mean_acc.max()))"
   ]
  },
  {
   "cell_type": "code",
   "execution_count": 114,
   "id": "67bb5e86-a776-4589-a41f-d8a09c9839f7",
   "metadata": {
    "execution": {
     "iopub.execute_input": "2022-10-31T07:48:49.216777Z",
     "iopub.status.busy": "2022-10-31T07:48:49.216777Z",
     "iopub.status.idle": "2022-10-31T07:48:49.414082Z",
     "shell.execute_reply": "2022-10-31T07:48:49.413252Z",
     "shell.execute_reply.started": "2022-10-31T07:48:49.216777Z"
    },
    "tags": []
   },
   "outputs": [
    {
     "data": {
      "image/png": "[encoded data removed]",
      "text/plain": [
       "<Figure size 640x480 with 1 Axes>"
      ]
     },
     "metadata": {},
     "output_type": "display_data"
    }
   ],
   "source": [
    "plt.plot(range(1, ks), mean_acc, 'g')\n",
    "plt.ylabel('Accuracy')\n",
    "plt.xlabel('Number of Neighbors(k)')\n",
    "plt.tight_layout()\n",
    "plt.show()"
   ]
  },
  {
   "cell_type": "code",
   "execution_count": 115,
   "id": "859b88ac-167a-4db0-9df5-646e03eac452",
   "metadata": {
    "execution": {
     "iopub.execute_input": "2022-10-31T07:48:59.336688Z",
     "iopub.status.busy": "2022-10-31T07:48:59.336688Z",
     "iopub.status.idle": "2022-10-31T07:48:59.348915Z",
     "shell.execute_reply": "2022-10-31T07:48:59.347644Z",
     "shell.execute_reply.started": "2022-10-31T07:48:59.336688Z"
    },
    "tags": []
   },
   "outputs": [
    {
     "data": {
      "text/plain": [
       "KNeighborsClassifier(n_neighbors=11)"
      ]
     },
     "execution_count": 115,
     "metadata": {},
     "output_type": "execute_result"
    }
   ],
   "source": [
    "kn = KNeighborsClassifier(n_neighbors=11, )\n",
    "kn.fit(X_train, y_train)"
   ]
  },
  {
   "cell_type": "code",
   "execution_count": 116,
   "id": "dfd33dd2-5b05-4618-a2e9-4d1b02e2aa79",
   "metadata": {
    "execution": {
     "iopub.execute_input": "2022-10-31T07:49:00.029476Z",
     "iopub.status.busy": "2022-10-31T07:49:00.029476Z",
     "iopub.status.idle": "2022-10-31T07:49:00.061782Z",
     "shell.execute_reply": "2022-10-31T07:49:00.060782Z",
     "shell.execute_reply.started": "2022-10-31T07:49:00.029476Z"
    },
    "tags": []
   },
   "outputs": [],
   "source": [
    "y_pred = kn.predict(X_test)"
   ]
  },
  {
   "cell_type": "code",
   "execution_count": 117,
   "id": "0a531cc9-c18b-4b6c-be52-f763d34d5640",
   "metadata": {
    "execution": {
     "iopub.execute_input": "2022-10-31T07:49:01.738738Z",
     "iopub.status.busy": "2022-10-31T07:49:01.738738Z",
     "iopub.status.idle": "2022-10-31T07:49:01.757407Z",
     "shell.execute_reply": "2022-10-31T07:49:01.755406Z",
     "shell.execute_reply.started": "2022-10-31T07:49:01.738738Z"
    },
    "tags": []
   },
   "outputs": [
    {
     "name": "stdout",
     "output_type": "stream",
     "text": [
      "1 : malignant\n",
      "2 : malignant\n",
      "3 : malignant\n",
      "4 : malignant\n",
      "5 : malignant\n",
      "6 : malignant\n",
      "7 : malignant\n",
      "8 : benign\n",
      "9 : benign\n",
      "10 : benign\n",
      "11 : benign\n",
      "12 : benign\n",
      "13 : benign\n",
      "14 : benign\n",
      "15 : benign\n",
      "16 : malignant\n",
      "17 : benign\n",
      "18 : benign\n",
      "19 : malignant\n",
      "20 : benign\n",
      "21 : benign\n",
      "22 : benign\n",
      "23 : benign\n",
      "24 : benign\n",
      "25 : benign\n",
      "26 : malignant\n",
      "27 : benign\n",
      "28 : benign\n",
      "29 : benign\n",
      "30 : benign\n",
      "31 : malignant\n",
      "32 : benign\n",
      "33 : malignant\n",
      "34 : malignant\n",
      "35 : benign\n",
      "36 : malignant\n",
      "37 : benign\n",
      "38 : benign\n",
      "39 : benign\n",
      "40 : benign\n",
      "41 : benign\n",
      "42 : benign\n",
      "43 : benign\n",
      "44 : benign\n",
      "45 : benign\n",
      "46 : benign\n",
      "47 : malignant\n",
      "48 : malignant\n",
      "49 : benign\n",
      "50 : benign\n",
      "51 : malignant\n",
      "52 : malignant\n",
      "53 : benign\n",
      "54 : malignant\n",
      "55 : benign\n",
      "56 : benign\n",
      "57 : benign\n",
      "58 : malignant\n",
      "59 : benign\n",
      "60 : malignant\n",
      "61 : benign\n",
      "62 : malignant\n",
      "63 : malignant\n",
      "64 : malignant\n",
      "65 : benign\n",
      "66 : malignant\n",
      "67 : benign\n",
      "68 : benign\n",
      "69 : benign\n",
      "70 : benign\n",
      "71 : benign\n",
      "72 : benign\n",
      "73 : benign\n",
      "74 : benign\n",
      "75 : benign\n",
      "76 : benign\n",
      "77 : malignant\n",
      "78 : benign\n",
      "79 : malignant\n",
      "80 : benign\n",
      "81 : benign\n",
      "82 : benign\n",
      "83 : benign\n",
      "84 : malignant\n",
      "85 : benign\n",
      "86 : benign\n",
      "87 : benign\n",
      "88 : benign\n",
      "89 : benign\n",
      "90 : benign\n",
      "91 : benign\n",
      "92 : malignant\n",
      "93 : benign\n",
      "94 : benign\n",
      "95 : malignant\n",
      "96 : benign\n",
      "97 : benign\n",
      "98 : benign\n",
      "99 : malignant\n",
      "100 : benign\n",
      "101 : benign\n",
      "102 : benign\n",
      "103 : malignant\n",
      "104 : benign\n",
      "105 : benign\n",
      "106 : malignant\n",
      "107 : benign\n",
      "108 : benign\n",
      "109 : benign\n",
      "110 : benign\n",
      "111 : malignant\n",
      "112 : benign\n",
      "113 : benign\n",
      "114 : benign\n",
      "115 : malignant\n",
      "116 : malignant\n",
      "117 : benign\n",
      "118 : benign\n",
      "119 : benign\n",
      "120 : benign\n",
      "121 : malignant\n",
      "122 : benign\n",
      "123 : benign\n",
      "124 : malignant\n",
      "125 : benign\n",
      "126 : benign\n",
      "127 : benign\n",
      "128 : malignant\n",
      "129 : benign\n",
      "130 : malignant\n",
      "131 : malignant\n",
      "132 : malignant\n",
      "133 : benign\n",
      "134 : malignant\n",
      "135 : malignant\n",
      "136 : malignant\n",
      "137 : benign\n",
      "138 : benign\n",
      "139 : benign\n",
      "140 : benign\n",
      "141 : benign\n",
      "142 : benign\n",
      "143 : malignant\n"
     ]
    }
   ],
   "source": [
    "for i in range(0, len(y_pred)):\n",
    "    yhat = y_pred[i]\n",
    "    print('{} : {}'.format(i+1, cancer['target_names'][yhat]))"
   ]
  },
  {
   "cell_type": "code",
   "execution_count": 118,
   "id": "a7920c34-9257-43a7-b0a4-434cb6fe5025",
   "metadata": {
    "execution": {
     "iopub.execute_input": "2022-10-31T07:49:05.468263Z",
     "iopub.status.busy": "2022-10-31T07:49:05.468263Z",
     "iopub.status.idle": "2022-10-31T07:49:05.498114Z",
     "shell.execute_reply": "2022-10-31T07:49:05.497113Z",
     "shell.execute_reply.started": "2022-10-31T07:49:05.468263Z"
    },
    "tags": []
   },
   "outputs": [
    {
     "name": "stdout",
     "output_type": "stream",
     "text": [
      "테스트 데이터의 정확도 : 0.94\n"
     ]
    }
   ],
   "source": [
    "print('테스트 데이터의 정확도 : {:.2f}'.format(kn.score(X_test, y_test)))"
   ]
  }
 ],
 "metadata": {
  "kernelspec": {
   "display_name": "Python 3 (ipykernel)",
   "language": "python",
   "name": "python3"
  },
  "language_info": {
   "codemirror_mode": {
    "name": "ipython",
    "version": 3
   },
   "file_extension": ".py",
   "mimetype": "text/x-python",
   "name": "python",
   "nbconvert_exporter": "python",
   "pygments_lexer": "ipython3",
   "version": "3.9.13"
  },
  "toc-showtags": false
 },
 "nbformat": 4,
 "nbformat_minor": 5
}
