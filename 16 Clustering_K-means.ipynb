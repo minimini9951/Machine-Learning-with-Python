{
 "cells": [
  {
   "cell_type": "markdown",
   "id": "5a750658-ce1d-4135-8796-f05056a60805",
   "metadata": {
    "tags": []
   },
   "source": [
    "# 개념정리\n",
    "1. 클러스터(cluster) : 비슷한 특성을 가진 데이터끼리 묶는 것\n",
    "2. 클러스터링(clustering)\n",
    "    - 데이터들을 군집으로 묶어주는 작업\n",
    "    - 라벨링된 데이터를 묶는 작업으로 비지도 학습으로 분류된다.\n",
    "3. K-means Clustering\n",
    "    - 각 클러스터에 할당된 데이터 포인터들의 평균 좌표를 이용해 중심점을 반복적으로 업데이트하여 클러스터를 형성\n",
    "    - K는 군집의 개수를 의미하며 사용자가 조정해야 하는 하이퍼 파라미터\n",
    "4. 중심점, 도심(Centroid) : 클러스터의 중심\n",
    "5. K-means 수행과정\n",
    "    - 클러스터의 수 설정 : n_clusters\n",
    "    - init 파라미터의 기본값 k-means++ 방식으로 centroid1, 2, 3, ..., n 개 찾음\n",
    "    - centroid1에서 제일 멀리떨어져있는 데이터를 centroid2라고 찾고\n",
    "    - centroid1, 2 와 제일 멀리 떨어진 데이터를 centroid3로 찾는 방식\n",
    "    - 각 데이터마다 가장 가까운 중심점에 해당하는 클러스터 할당\n",
    "    - 할당된 클러스터를 기반으로 새로운 중심점을 계산\n",
    "    - 각 클러스터의 할당이 변하지 않을때 까지 위의 작업을 반복 수행"
   ]
  },
  {
   "cell_type": "code",
   "execution_count": 1,
   "id": "f64b85cd-302f-4329-a78f-6bbeeee5e093",
   "metadata": {
    "execution": {
     "iopub.execute_input": "2022-11-14T06:40:07.317025Z",
     "iopub.status.busy": "2022-11-14T06:40:07.317025Z",
     "iopub.status.idle": "2022-11-14T06:40:08.943585Z",
     "shell.execute_reply": "2022-11-14T06:40:08.943585Z",
     "shell.execute_reply.started": "2022-11-14T06:40:07.317025Z"
    },
    "tags": []
   },
   "outputs": [],
   "source": [
    "import numpy as np\n",
    "import pandas as pd\n",
    "\n",
    "import matplotlib as mpl\n",
    "import matplotlib.pyplot as plt\n",
    "import seaborn as sns\n",
    "\n",
    "import warnings\n",
    "warnings.simplefilter(action='ignore', category=FutureWarning)\n",
    "%config Completer.use_jedi = False\n",
    "%matplotlib inline\n",
    "%config InlineBackend.figure_format = 'retina'\n",
    "\n",
    "plt.rc('font', family='D2coding')\n",
    "mpl.rc('axes', unicode_minus=False)\n",
    "\n",
    "sns.set(font='D2coding', rc={'axes.unicode_minus':False}, style='darkgrid')\n",
    "plt.rc('figure', figsize=(10, 8))\n",
    "import os\n",
    "os.environ[\"OMP_NUM_THREADS\"] = '1'"
   ]
  },
  {
   "cell_type": "code",
   "execution_count": 2,
   "id": "fd868cec-6cd3-4eb1-b8e2-57de6e8b4263",
   "metadata": {
    "execution": {
     "iopub.execute_input": "2022-11-14T03:33:24.519164Z",
     "iopub.status.busy": "2022-11-14T03:33:24.519164Z",
     "iopub.status.idle": "2022-11-14T03:33:24.766341Z",
     "shell.execute_reply": "2022-11-14T03:33:24.766341Z",
     "shell.execute_reply.started": "2022-11-14T03:33:24.519164Z"
    },
    "tags": []
   },
   "outputs": [],
   "source": [
    "from sklearn.datasets import load_wine\n",
    "wine = load_wine()"
   ]
  },
  {
   "cell_type": "code",
   "execution_count": 3,
   "id": "c49dc99a-0004-445c-9123-87fe036e4473",
   "metadata": {
    "execution": {
     "iopub.execute_input": "2022-11-14T03:33:24.767328Z",
     "iopub.status.busy": "2022-11-14T03:33:24.767328Z",
     "iopub.status.idle": "2022-11-14T03:33:24.783331Z",
     "shell.execute_reply": "2022-11-14T03:33:24.782331Z",
     "shell.execute_reply.started": "2022-11-14T03:33:24.767328Z"
    },
    "tags": []
   },
   "outputs": [
    {
     "name": "stdout",
     "output_type": "stream",
     "text": [
      "(178, 13)\n"
     ]
    }
   ],
   "source": [
    "data = wine.data\n",
    "label = wine.target\n",
    "columns = wine.feature_names\n",
    "\n",
    "df = pd.DataFrame(data, columns=columns)\n",
    "print(df.shape)"
   ]
  },
  {
   "cell_type": "markdown",
   "id": "42d3a713-fbca-46bf-b1e9-99b832ee1e67",
   "metadata": {},
   "source": [
    "## 전처리 - 피처 스케일링"
   ]
  },
  {
   "cell_type": "code",
   "execution_count": 4,
   "id": "6632b72b-747e-47ed-b648-77897b750971",
   "metadata": {
    "execution": {
     "iopub.execute_input": "2022-11-14T03:33:24.833374Z",
     "iopub.status.busy": "2022-11-14T03:33:24.833374Z",
     "iopub.status.idle": "2022-11-14T03:33:24.846626Z",
     "shell.execute_reply": "2022-11-14T03:33:24.845628Z",
     "shell.execute_reply.started": "2022-11-14T03:33:24.833374Z"
    },
    "tags": []
   },
   "outputs": [],
   "source": [
    "from sklearn.preprocessing import StandardScaler\n",
    "\n",
    "scaler = StandardScaler()\n",
    "df.loc[:, :] = scaler.fit_transform(data)"
   ]
  },
  {
   "cell_type": "code",
   "execution_count": 5,
   "id": "f192c487-bf59-4ec9-9d93-3316f3e2c192",
   "metadata": {
    "execution": {
     "iopub.execute_input": "2022-11-14T03:33:24.974168Z",
     "iopub.status.busy": "2022-11-14T03:33:24.974168Z",
     "iopub.status.idle": "2022-11-14T03:33:25.006089Z",
     "shell.execute_reply": "2022-11-14T03:33:25.005211Z",
     "shell.execute_reply.started": "2022-11-14T03:33:24.974168Z"
    },
    "tags": []
   },
   "outputs": [
    {
     "data": {
      "text/html": [
       "<div>\n",
       "<style scoped>\n",
       "    .dataframe tbody tr th:only-of-type {\n",
       "        vertical-align: middle;\n",
       "    }\n",
       "\n",
       "    .dataframe tbody tr th {\n",
       "        vertical-align: top;\n",
       "    }\n",
       "\n",
       "    .dataframe thead th {\n",
       "        text-align: right;\n",
       "    }\n",
       "</style>\n",
       "<table border=\"1\" class=\"dataframe\">\n",
       "  <thead>\n",
       "    <tr style=\"text-align: right;\">\n",
       "      <th></th>\n",
       "      <th>alcohol</th>\n",
       "      <th>malic_acid</th>\n",
       "      <th>ash</th>\n",
       "      <th>alcalinity_of_ash</th>\n",
       "      <th>magnesium</th>\n",
       "      <th>total_phenols</th>\n",
       "      <th>flavanoids</th>\n",
       "      <th>nonflavanoid_phenols</th>\n",
       "      <th>proanthocyanins</th>\n",
       "      <th>color_intensity</th>\n",
       "      <th>hue</th>\n",
       "      <th>od280/od315_of_diluted_wines</th>\n",
       "      <th>proline</th>\n",
       "    </tr>\n",
       "  </thead>\n",
       "  <tbody>\n",
       "    <tr>\n",
       "      <th>count</th>\n",
       "      <td>1.780000e+02</td>\n",
       "      <td>1.780000e+02</td>\n",
       "      <td>1.780000e+02</td>\n",
       "      <td>1.780000e+02</td>\n",
       "      <td>1.780000e+02</td>\n",
       "      <td>1.780000e+02</td>\n",
       "      <td>1.780000e+02</td>\n",
       "      <td>1.780000e+02</td>\n",
       "      <td>1.780000e+02</td>\n",
       "      <td>1.780000e+02</td>\n",
       "      <td>1.780000e+02</td>\n",
       "      <td>1.780000e+02</td>\n",
       "      <td>1.780000e+02</td>\n",
       "    </tr>\n",
       "    <tr>\n",
       "      <th>mean</th>\n",
       "      <td>7.841418e-15</td>\n",
       "      <td>2.444986e-16</td>\n",
       "      <td>-4.059175e-15</td>\n",
       "      <td>-7.110417e-17</td>\n",
       "      <td>-2.494883e-17</td>\n",
       "      <td>-1.955365e-16</td>\n",
       "      <td>9.443133e-16</td>\n",
       "      <td>-4.178929e-16</td>\n",
       "      <td>-1.540590e-15</td>\n",
       "      <td>-4.129032e-16</td>\n",
       "      <td>1.398382e-15</td>\n",
       "      <td>2.126888e-15</td>\n",
       "      <td>-6.985673e-17</td>\n",
       "    </tr>\n",
       "    <tr>\n",
       "      <th>std</th>\n",
       "      <td>1.002821e+00</td>\n",
       "      <td>1.002821e+00</td>\n",
       "      <td>1.002821e+00</td>\n",
       "      <td>1.002821e+00</td>\n",
       "      <td>1.002821e+00</td>\n",
       "      <td>1.002821e+00</td>\n",
       "      <td>1.002821e+00</td>\n",
       "      <td>1.002821e+00</td>\n",
       "      <td>1.002821e+00</td>\n",
       "      <td>1.002821e+00</td>\n",
       "      <td>1.002821e+00</td>\n",
       "      <td>1.002821e+00</td>\n",
       "      <td>1.002821e+00</td>\n",
       "    </tr>\n",
       "    <tr>\n",
       "      <th>min</th>\n",
       "      <td>-2.434235e+00</td>\n",
       "      <td>-1.432983e+00</td>\n",
       "      <td>-3.679162e+00</td>\n",
       "      <td>-2.671018e+00</td>\n",
       "      <td>-2.088255e+00</td>\n",
       "      <td>-2.107246e+00</td>\n",
       "      <td>-1.695971e+00</td>\n",
       "      <td>-1.868234e+00</td>\n",
       "      <td>-2.069034e+00</td>\n",
       "      <td>-1.634288e+00</td>\n",
       "      <td>-2.094732e+00</td>\n",
       "      <td>-1.895054e+00</td>\n",
       "      <td>-1.493188e+00</td>\n",
       "    </tr>\n",
       "    <tr>\n",
       "      <th>25%</th>\n",
       "      <td>-7.882448e-01</td>\n",
       "      <td>-6.587486e-01</td>\n",
       "      <td>-5.721225e-01</td>\n",
       "      <td>-6.891372e-01</td>\n",
       "      <td>-8.244151e-01</td>\n",
       "      <td>-8.854682e-01</td>\n",
       "      <td>-8.275393e-01</td>\n",
       "      <td>-7.401412e-01</td>\n",
       "      <td>-5.972835e-01</td>\n",
       "      <td>-7.951025e-01</td>\n",
       "      <td>-7.675624e-01</td>\n",
       "      <td>-9.522483e-01</td>\n",
       "      <td>-7.846378e-01</td>\n",
       "    </tr>\n",
       "    <tr>\n",
       "      <th>50%</th>\n",
       "      <td>6.099988e-02</td>\n",
       "      <td>-4.231120e-01</td>\n",
       "      <td>-2.382132e-02</td>\n",
       "      <td>1.518295e-03</td>\n",
       "      <td>-1.222817e-01</td>\n",
       "      <td>9.595986e-02</td>\n",
       "      <td>1.061497e-01</td>\n",
       "      <td>-1.760948e-01</td>\n",
       "      <td>-6.289785e-02</td>\n",
       "      <td>-1.592246e-01</td>\n",
       "      <td>3.312687e-02</td>\n",
       "      <td>2.377348e-01</td>\n",
       "      <td>-2.337204e-01</td>\n",
       "    </tr>\n",
       "    <tr>\n",
       "      <th>75%</th>\n",
       "      <td>8.361286e-01</td>\n",
       "      <td>6.697929e-01</td>\n",
       "      <td>6.981085e-01</td>\n",
       "      <td>6.020883e-01</td>\n",
       "      <td>5.096384e-01</td>\n",
       "      <td>8.089974e-01</td>\n",
       "      <td>8.490851e-01</td>\n",
       "      <td>6.095413e-01</td>\n",
       "      <td>6.291754e-01</td>\n",
       "      <td>4.939560e-01</td>\n",
       "      <td>7.131644e-01</td>\n",
       "      <td>7.885875e-01</td>\n",
       "      <td>7.582494e-01</td>\n",
       "    </tr>\n",
       "    <tr>\n",
       "      <th>max</th>\n",
       "      <td>2.259772e+00</td>\n",
       "      <td>3.109192e+00</td>\n",
       "      <td>3.156325e+00</td>\n",
       "      <td>3.154511e+00</td>\n",
       "      <td>4.371372e+00</td>\n",
       "      <td>2.539515e+00</td>\n",
       "      <td>3.062832e+00</td>\n",
       "      <td>2.402403e+00</td>\n",
       "      <td>3.485073e+00</td>\n",
       "      <td>3.435432e+00</td>\n",
       "      <td>3.301694e+00</td>\n",
       "      <td>1.960915e+00</td>\n",
       "      <td>2.971473e+00</td>\n",
       "    </tr>\n",
       "  </tbody>\n",
       "</table>\n",
       "</div>"
      ],
      "text/plain": [
       "            alcohol    malic_acid           ash  alcalinity_of_ash  \\\n",
       "count  1.780000e+02  1.780000e+02  1.780000e+02       1.780000e+02   \n",
       "mean   7.841418e-15  2.444986e-16 -4.059175e-15      -7.110417e-17   \n",
       "std    1.002821e+00  1.002821e+00  1.002821e+00       1.002821e+00   \n",
       "min   -2.434235e+00 -1.432983e+00 -3.679162e+00      -2.671018e+00   \n",
       "25%   -7.882448e-01 -6.587486e-01 -5.721225e-01      -6.891372e-01   \n",
       "50%    6.099988e-02 -4.231120e-01 -2.382132e-02       1.518295e-03   \n",
       "75%    8.361286e-01  6.697929e-01  6.981085e-01       6.020883e-01   \n",
       "max    2.259772e+00  3.109192e+00  3.156325e+00       3.154511e+00   \n",
       "\n",
       "          magnesium  total_phenols    flavanoids  nonflavanoid_phenols  \\\n",
       "count  1.780000e+02   1.780000e+02  1.780000e+02          1.780000e+02   \n",
       "mean  -2.494883e-17  -1.955365e-16  9.443133e-16         -4.178929e-16   \n",
       "std    1.002821e+00   1.002821e+00  1.002821e+00          1.002821e+00   \n",
       "min   -2.088255e+00  -2.107246e+00 -1.695971e+00         -1.868234e+00   \n",
       "25%   -8.244151e-01  -8.854682e-01 -8.275393e-01         -7.401412e-01   \n",
       "50%   -1.222817e-01   9.595986e-02  1.061497e-01         -1.760948e-01   \n",
       "75%    5.096384e-01   8.089974e-01  8.490851e-01          6.095413e-01   \n",
       "max    4.371372e+00   2.539515e+00  3.062832e+00          2.402403e+00   \n",
       "\n",
       "       proanthocyanins  color_intensity           hue  \\\n",
       "count     1.780000e+02     1.780000e+02  1.780000e+02   \n",
       "mean     -1.540590e-15    -4.129032e-16  1.398382e-15   \n",
       "std       1.002821e+00     1.002821e+00  1.002821e+00   \n",
       "min      -2.069034e+00    -1.634288e+00 -2.094732e+00   \n",
       "25%      -5.972835e-01    -7.951025e-01 -7.675624e-01   \n",
       "50%      -6.289785e-02    -1.592246e-01  3.312687e-02   \n",
       "75%       6.291754e-01     4.939560e-01  7.131644e-01   \n",
       "max       3.485073e+00     3.435432e+00  3.301694e+00   \n",
       "\n",
       "       od280/od315_of_diluted_wines       proline  \n",
       "count                  1.780000e+02  1.780000e+02  \n",
       "mean                   2.126888e-15 -6.985673e-17  \n",
       "std                    1.002821e+00  1.002821e+00  \n",
       "min                   -1.895054e+00 -1.493188e+00  \n",
       "25%                   -9.522483e-01 -7.846378e-01  \n",
       "50%                    2.377348e-01 -2.337204e-01  \n",
       "75%                    7.885875e-01  7.582494e-01  \n",
       "max                    1.960915e+00  2.971473e+00  "
      ]
     },
     "execution_count": 5,
     "metadata": {},
     "output_type": "execute_result"
    }
   ],
   "source": [
    "df.describe()"
   ]
  },
  {
   "cell_type": "markdown",
   "id": "e73e3778-bf5c-4c02-9617-07862ca25075",
   "metadata": {},
   "source": [
    "## 주성분분석(PCA)를 사용해 특성 줄이기\n",
    "- n_components의 입력 매개변수값에 따라 두가지 동작을 수행\n",
    "- 만약 매개변수의 값이 1보다 크면 n_components 개수만큼 특성이 반환(차원이 변환된 결과가 반환)\n",
    "- 원본 특성의 95%나 99%의 분산을 유지한다는 의미로 n_components=0.95 or 0.99 사용\n",
    "- whiten = True로 지정하면 각 주성분의 값을 평균이 0이고, 분산이 1이 되도록 반환\n",
    "- solver = 'randomized'는 아주 짧은 시간안에 첫번째 주성분을 찾아주는 확률적 알고리즘을 사용"
   ]
  },
  {
   "cell_type": "code",
   "execution_count": 6,
   "id": "b7af30c6-c123-4574-a3c7-9468ad7ef9c2",
   "metadata": {
    "execution": {
     "iopub.execute_input": "2022-11-14T03:33:25.250308Z",
     "iopub.status.busy": "2022-11-14T03:33:25.250308Z",
     "iopub.status.idle": "2022-11-14T03:33:25.341714Z",
     "shell.execute_reply": "2022-11-14T03:33:25.340733Z",
     "shell.execute_reply.started": "2022-11-14T03:33:25.250308Z"
    },
    "tags": []
   },
   "outputs": [
    {
     "data": {
      "text/plain": [
       "(178, 2)"
      ]
     },
     "execution_count": 6,
     "metadata": {},
     "output_type": "execute_result"
    }
   ],
   "source": [
    "from sklearn.decomposition import PCA\n",
    "\n",
    "pca = PCA(n_components=2)\n",
    "data = pca.fit_transform(data)\n",
    "data.shape"
   ]
  },
  {
   "cell_type": "code",
   "execution_count": 7,
   "id": "252cd89e-0b70-4815-a242-269cd6b7dc99",
   "metadata": {
    "execution": {
     "iopub.execute_input": "2022-11-14T03:33:25.393673Z",
     "iopub.status.busy": "2022-11-14T03:33:25.392673Z",
     "iopub.status.idle": "2022-11-14T03:33:25.418672Z",
     "shell.execute_reply": "2022-11-14T03:33:25.418672Z",
     "shell.execute_reply.started": "2022-11-14T03:33:25.393673Z"
    },
    "tags": []
   },
   "outputs": [
    {
     "data": {
      "text/html": [
       "<div>\n",
       "<style scoped>\n",
       "    .dataframe tbody tr th:only-of-type {\n",
       "        vertical-align: middle;\n",
       "    }\n",
       "\n",
       "    .dataframe tbody tr th {\n",
       "        vertical-align: top;\n",
       "    }\n",
       "\n",
       "    .dataframe thead th {\n",
       "        text-align: right;\n",
       "    }\n",
       "</style>\n",
       "<table border=\"1\" class=\"dataframe\">\n",
       "  <thead>\n",
       "    <tr style=\"text-align: right;\">\n",
       "      <th></th>\n",
       "      <th>alcohol</th>\n",
       "      <th>malic_acid</th>\n",
       "      <th>ash</th>\n",
       "      <th>alcalinity_of_ash</th>\n",
       "      <th>magnesium</th>\n",
       "      <th>total_phenols</th>\n",
       "      <th>flavanoids</th>\n",
       "      <th>nonflavanoid_phenols</th>\n",
       "      <th>proanthocyanins</th>\n",
       "      <th>color_intensity</th>\n",
       "      <th>hue</th>\n",
       "      <th>od280/od315_of_diluted_wines</th>\n",
       "      <th>proline</th>\n",
       "      <th>pca_x</th>\n",
       "      <th>pca_y</th>\n",
       "    </tr>\n",
       "  </thead>\n",
       "  <tbody>\n",
       "    <tr>\n",
       "      <th>0</th>\n",
       "      <td>1.518613</td>\n",
       "      <td>-0.562250</td>\n",
       "      <td>0.232053</td>\n",
       "      <td>-1.169593</td>\n",
       "      <td>1.913905</td>\n",
       "      <td>0.808997</td>\n",
       "      <td>1.034819</td>\n",
       "      <td>-0.659563</td>\n",
       "      <td>1.224884</td>\n",
       "      <td>0.251717</td>\n",
       "      <td>0.362177</td>\n",
       "      <td>1.847920</td>\n",
       "      <td>1.013009</td>\n",
       "      <td>3.316751</td>\n",
       "      <td>-1.443463</td>\n",
       "    </tr>\n",
       "    <tr>\n",
       "      <th>1</th>\n",
       "      <td>0.246290</td>\n",
       "      <td>-0.499413</td>\n",
       "      <td>-0.827996</td>\n",
       "      <td>-2.490847</td>\n",
       "      <td>0.018145</td>\n",
       "      <td>0.568648</td>\n",
       "      <td>0.733629</td>\n",
       "      <td>-0.820719</td>\n",
       "      <td>-0.544721</td>\n",
       "      <td>-0.293321</td>\n",
       "      <td>0.406051</td>\n",
       "      <td>1.113449</td>\n",
       "      <td>0.965242</td>\n",
       "      <td>2.209465</td>\n",
       "      <td>0.333393</td>\n",
       "    </tr>\n",
       "    <tr>\n",
       "      <th>2</th>\n",
       "      <td>0.196879</td>\n",
       "      <td>0.021231</td>\n",
       "      <td>1.109334</td>\n",
       "      <td>-0.268738</td>\n",
       "      <td>0.088358</td>\n",
       "      <td>0.808997</td>\n",
       "      <td>1.215533</td>\n",
       "      <td>-0.498407</td>\n",
       "      <td>2.135968</td>\n",
       "      <td>0.269020</td>\n",
       "      <td>0.318304</td>\n",
       "      <td>0.788587</td>\n",
       "      <td>1.395148</td>\n",
       "      <td>2.516740</td>\n",
       "      <td>-1.031151</td>\n",
       "    </tr>\n",
       "    <tr>\n",
       "      <th>3</th>\n",
       "      <td>1.691550</td>\n",
       "      <td>-0.346811</td>\n",
       "      <td>0.487926</td>\n",
       "      <td>-0.809251</td>\n",
       "      <td>0.930918</td>\n",
       "      <td>2.491446</td>\n",
       "      <td>1.466525</td>\n",
       "      <td>-0.981875</td>\n",
       "      <td>1.032155</td>\n",
       "      <td>1.186068</td>\n",
       "      <td>-0.427544</td>\n",
       "      <td>1.184071</td>\n",
       "      <td>2.334574</td>\n",
       "      <td>3.757066</td>\n",
       "      <td>-2.756372</td>\n",
       "    </tr>\n",
       "    <tr>\n",
       "      <th>4</th>\n",
       "      <td>0.295700</td>\n",
       "      <td>0.227694</td>\n",
       "      <td>1.840403</td>\n",
       "      <td>0.451946</td>\n",
       "      <td>1.281985</td>\n",
       "      <td>0.808997</td>\n",
       "      <td>0.663351</td>\n",
       "      <td>0.226796</td>\n",
       "      <td>0.401404</td>\n",
       "      <td>-0.319276</td>\n",
       "      <td>0.362177</td>\n",
       "      <td>0.449601</td>\n",
       "      <td>-0.037874</td>\n",
       "      <td>1.008908</td>\n",
       "      <td>-0.869831</td>\n",
       "    </tr>\n",
       "  </tbody>\n",
       "</table>\n",
       "</div>"
      ],
      "text/plain": [
       "    alcohol  malic_acid       ash  alcalinity_of_ash  magnesium  \\\n",
       "0  1.518613   -0.562250  0.232053          -1.169593   1.913905   \n",
       "1  0.246290   -0.499413 -0.827996          -2.490847   0.018145   \n",
       "2  0.196879    0.021231  1.109334          -0.268738   0.088358   \n",
       "3  1.691550   -0.346811  0.487926          -0.809251   0.930918   \n",
       "4  0.295700    0.227694  1.840403           0.451946   1.281985   \n",
       "\n",
       "   total_phenols  flavanoids  nonflavanoid_phenols  proanthocyanins  \\\n",
       "0       0.808997    1.034819             -0.659563         1.224884   \n",
       "1       0.568648    0.733629             -0.820719        -0.544721   \n",
       "2       0.808997    1.215533             -0.498407         2.135968   \n",
       "3       2.491446    1.466525             -0.981875         1.032155   \n",
       "4       0.808997    0.663351              0.226796         0.401404   \n",
       "\n",
       "   color_intensity       hue  od280/od315_of_diluted_wines   proline  \\\n",
       "0         0.251717  0.362177                      1.847920  1.013009   \n",
       "1        -0.293321  0.406051                      1.113449  0.965242   \n",
       "2         0.269020  0.318304                      0.788587  1.395148   \n",
       "3         1.186068 -0.427544                      1.184071  2.334574   \n",
       "4        -0.319276  0.362177                      0.449601 -0.037874   \n",
       "\n",
       "      pca_x     pca_y  \n",
       "0  3.316751 -1.443463  \n",
       "1  2.209465  0.333393  \n",
       "2  2.516740 -1.031151  \n",
       "3  3.757066 -2.756372  \n",
       "4  1.008908 -0.869831  "
      ]
     },
     "execution_count": 7,
     "metadata": {},
     "output_type": "execute_result"
    }
   ],
   "source": [
    "df['pca_x'] = data[:, 0]\n",
    "df['pca_y'] = data[:, 1]\n",
    "df.head()"
   ]
  },
  {
   "cell_type": "code",
   "execution_count": 8,
   "id": "1a26e554-e9ff-478f-9f0e-96a7043ae915",
   "metadata": {
    "execution": {
     "iopub.execute_input": "2022-11-14T03:33:25.533492Z",
     "iopub.status.busy": "2022-11-14T03:33:25.533492Z",
     "iopub.status.idle": "2022-11-14T03:33:25.545578Z",
     "shell.execute_reply": "2022-11-14T03:33:25.544577Z",
     "shell.execute_reply.started": "2022-11-14T03:33:25.533492Z"
    },
    "tags": []
   },
   "outputs": [
    {
     "data": {
      "text/plain": [
       "array([0.36198848, 0.1920749 ])"
      ]
     },
     "execution_count": 8,
     "metadata": {},
     "output_type": "execute_result"
    }
   ],
   "source": [
    "# explained_variance_ratio_ : 전체 변동성에서 개별 PCA 컴포넌트별로 차지하는 변동성 비율\n",
    "pca.explained_variance_ratio_"
   ]
  },
  {
   "cell_type": "markdown",
   "id": "77036b02-015f-46bf-ac19-bc8cd2b33d55",
   "metadata": {},
   "source": [
    "## K-means로 클러스터 찾기"
   ]
  },
  {
   "cell_type": "code",
   "execution_count": 9,
   "id": "065f74a6-b69d-4ab2-b906-837fc3ed3cc7",
   "metadata": {
    "execution": {
     "iopub.execute_input": "2022-11-14T03:33:25.831523Z",
     "iopub.status.busy": "2022-11-14T03:33:25.831523Z",
     "iopub.status.idle": "2022-11-14T03:33:25.890164Z",
     "shell.execute_reply": "2022-11-14T03:33:25.889624Z",
     "shell.execute_reply.started": "2022-11-14T03:33:25.831523Z"
    },
    "tags": []
   },
   "outputs": [],
   "source": [
    "from sklearn.cluster import KMeans\n",
    "kmeans = KMeans(n_clusters=3, random_state=200)"
   ]
  },
  {
   "cell_type": "code",
   "execution_count": 10,
   "id": "b18a4303-a6e8-4d37-b526-9e94ff58a2aa",
   "metadata": {
    "execution": {
     "iopub.execute_input": "2022-11-14T03:33:25.998365Z",
     "iopub.status.busy": "2022-11-14T03:33:25.998365Z",
     "iopub.status.idle": "2022-11-14T03:33:26.190805Z",
     "shell.execute_reply": "2022-11-14T03:33:26.189788Z",
     "shell.execute_reply.started": "2022-11-14T03:33:25.998365Z"
    },
    "tags": []
   },
   "outputs": [
    {
     "data": {
      "text/html": [
       "<style>#sk-container-id-1 {color: black;background-color: white;}#sk-container-id-1 pre{padding: 0;}#sk-container-id-1 div.sk-toggleable {background-color: white;}#sk-container-id-1 label.sk-toggleable__label {cursor: pointer;display: block;width: 100%;margin-bottom: 0;padding: 0.3em;box-sizing: border-box;text-align: center;}#sk-container-id-1 label.sk-toggleable__label-arrow:before {content: \"▸\";float: left;margin-right: 0.25em;color: #696969;}#sk-container-id-1 label.sk-toggleable__label-arrow:hover:before {color: black;}#sk-container-id-1 div.sk-estimator:hover label.sk-toggleable__label-arrow:before {color: black;}#sk-container-id-1 div.sk-toggleable__content {max-height: 0;max-width: 0;overflow: hidden;text-align: left;background-color: #f0f8ff;}#sk-container-id-1 div.sk-toggleable__content pre {margin: 0.2em;color: black;border-radius: 0.25em;background-color: #f0f8ff;}#sk-container-id-1 input.sk-toggleable__control:checked~div.sk-toggleable__content {max-height: 200px;max-width: 100%;overflow: auto;}#sk-container-id-1 input.sk-toggleable__control:checked~label.sk-toggleable__label-arrow:before {content: \"▾\";}#sk-container-id-1 div.sk-estimator input.sk-toggleable__control:checked~label.sk-toggleable__label {background-color: #d4ebff;}#sk-container-id-1 div.sk-label input.sk-toggleable__control:checked~label.sk-toggleable__label {background-color: #d4ebff;}#sk-container-id-1 input.sk-hidden--visually {border: 0;clip: rect(1px 1px 1px 1px);clip: rect(1px, 1px, 1px, 1px);height: 1px;margin: -1px;overflow: hidden;padding: 0;position: absolute;width: 1px;}#sk-container-id-1 div.sk-estimator {font-family: monospace;background-color: #f0f8ff;border: 1px dotted black;border-radius: 0.25em;box-sizing: border-box;margin-bottom: 0.5em;}#sk-container-id-1 div.sk-estimator:hover {background-color: #d4ebff;}#sk-container-id-1 div.sk-parallel-item::after {content: \"\";width: 100%;border-bottom: 1px solid gray;flex-grow: 1;}#sk-container-id-1 div.sk-label:hover label.sk-toggleable__label {background-color: #d4ebff;}#sk-container-id-1 div.sk-serial::before {content: \"\";position: absolute;border-left: 1px solid gray;box-sizing: border-box;top: 0;bottom: 0;left: 50%;z-index: 0;}#sk-container-id-1 div.sk-serial {display: flex;flex-direction: column;align-items: center;background-color: white;padding-right: 0.2em;padding-left: 0.2em;position: relative;}#sk-container-id-1 div.sk-item {position: relative;z-index: 1;}#sk-container-id-1 div.sk-parallel {display: flex;align-items: stretch;justify-content: center;background-color: white;position: relative;}#sk-container-id-1 div.sk-item::before, #sk-container-id-1 div.sk-parallel-item::before {content: \"\";position: absolute;border-left: 1px solid gray;box-sizing: border-box;top: 0;bottom: 0;left: 50%;z-index: -1;}#sk-container-id-1 div.sk-parallel-item {display: flex;flex-direction: column;z-index: 1;position: relative;background-color: white;}#sk-container-id-1 div.sk-parallel-item:first-child::after {align-self: flex-end;width: 50%;}#sk-container-id-1 div.sk-parallel-item:last-child::after {align-self: flex-start;width: 50%;}#sk-container-id-1 div.sk-parallel-item:only-child::after {width: 0;}#sk-container-id-1 div.sk-dashed-wrapped {border: 1px dashed gray;margin: 0 0.4em 0.5em 0.4em;box-sizing: border-box;padding-bottom: 0.4em;background-color: white;}#sk-container-id-1 div.sk-label label {font-family: monospace;font-weight: bold;display: inline-block;line-height: 1.2em;}#sk-container-id-1 div.sk-label-container {text-align: center;}#sk-container-id-1 div.sk-container {/* jupyter's `normalize.less` sets `[hidden] { display: none; }` but bootstrap.min.css set `[hidden] { display: none !important; }` so we also need the `!important` here to be able to override the default hidden behavior on the sphinx rendered scikit-learn.org. See: https://github.com/scikit-learn/scikit-learn/issues/21755 */display: inline-block !important;position: relative;}#sk-container-id-1 div.sk-text-repr-fallback {display: none;}</style><div id=\"sk-container-id-1\" class=\"sk-top-container\"><div class=\"sk-text-repr-fallback\"><pre>KMeans(n_clusters=3, random_state=200)</pre><b>In a Jupyter environment, please rerun this cell to show the HTML representation or trust the notebook. <br />On GitHub, the HTML representation is unable to render, please try loading this page with nbviewer.org.</b></div><div class=\"sk-container\" hidden><div class=\"sk-item\"><div class=\"sk-estimator sk-toggleable\"><input class=\"sk-toggleable__control sk-hidden--visually\" id=\"sk-estimator-id-1\" type=\"checkbox\" checked><label for=\"sk-estimator-id-1\" class=\"sk-toggleable__label sk-toggleable__label-arrow\">KMeans</label><div class=\"sk-toggleable__content\"><pre>KMeans(n_clusters=3, random_state=200)</pre></div></div></div></div></div>"
      ],
      "text/plain": [
       "KMeans(n_clusters=3, random_state=200)"
      ]
     },
     "execution_count": 10,
     "metadata": {},
     "output_type": "execute_result"
    }
   ],
   "source": [
    "kmeans.fit(data)"
   ]
  },
  {
   "cell_type": "code",
   "execution_count": 11,
   "id": "b4ddb021-cd8b-48f5-8da2-1ce23747fbd9",
   "metadata": {
    "execution": {
     "iopub.execute_input": "2022-11-14T03:33:26.191789Z",
     "iopub.status.busy": "2022-11-14T03:33:26.191789Z",
     "iopub.status.idle": "2022-11-14T03:33:26.220789Z",
     "shell.execute_reply": "2022-11-14T03:33:26.219791Z",
     "shell.execute_reply.started": "2022-11-14T03:33:26.191789Z"
    },
    "tags": []
   },
   "outputs": [
    {
     "data": {
      "text/plain": [
       "array([0, 0, 0, 0, 0, 0, 0, 0, 0, 0, 0, 0, 0, 0, 0, 0, 0, 0, 0, 0, 0, 0,\n",
       "       0, 0, 0, 0, 0, 0, 0, 0, 0, 0, 0, 0, 0, 0, 0, 0, 0, 0, 0, 0, 0, 0,\n",
       "       0, 0, 0, 0, 0, 0, 0, 0, 0, 0, 0, 0, 0, 0, 0, 2, 2, 2, 2, 2, 2, 2,\n",
       "       2, 2, 2, 2, 2, 0, 2, 0, 2, 2, 2, 2, 2, 2, 2, 2, 2, 1, 2, 2, 2, 2,\n",
       "       2, 2, 2, 2, 2, 2, 2, 0, 2, 2, 0, 2, 2, 2, 2, 2, 2, 2, 2, 2, 2, 2,\n",
       "       2, 2, 2, 2, 2, 2, 2, 2, 2, 2, 2, 0, 2, 2, 2, 2, 2, 2, 2, 2, 1, 1,\n",
       "       1, 1, 1, 1, 1, 1, 1, 1, 1, 1, 1, 1, 1, 1, 1, 1, 1, 1, 1, 1, 1, 1,\n",
       "       1, 1, 1, 1, 1, 1, 1, 1, 1, 1, 1, 1, 1, 1, 1, 1, 1, 1, 1, 1, 1, 1,\n",
       "       1, 1])"
      ]
     },
     "execution_count": 11,
     "metadata": {},
     "output_type": "execute_result"
    }
   ],
   "source": [
    "cluster = kmeans.predict(data)\n",
    "cluster"
   ]
  },
  {
   "cell_type": "code",
   "execution_count": 12,
   "id": "1c178a02-acd8-4c1b-b7c7-898a93800ee9",
   "metadata": {
    "execution": {
     "iopub.execute_input": "2022-11-14T03:33:26.280748Z",
     "iopub.status.busy": "2022-11-14T03:33:26.280748Z",
     "iopub.status.idle": "2022-11-14T03:33:26.299343Z",
     "shell.execute_reply": "2022-11-14T03:33:26.298342Z",
     "shell.execute_reply.started": "2022-11-14T03:33:26.280748Z"
    },
    "tags": []
   },
   "outputs": [
    {
     "data": {
      "text/html": [
       "<div>\n",
       "<style scoped>\n",
       "    .dataframe tbody tr th:only-of-type {\n",
       "        vertical-align: middle;\n",
       "    }\n",
       "\n",
       "    .dataframe tbody tr th {\n",
       "        vertical-align: top;\n",
       "    }\n",
       "\n",
       "    .dataframe thead th {\n",
       "        text-align: right;\n",
       "    }\n",
       "</style>\n",
       "<table border=\"1\" class=\"dataframe\">\n",
       "  <thead>\n",
       "    <tr style=\"text-align: right;\">\n",
       "      <th></th>\n",
       "      <th>alcohol</th>\n",
       "      <th>malic_acid</th>\n",
       "      <th>ash</th>\n",
       "      <th>alcalinity_of_ash</th>\n",
       "      <th>magnesium</th>\n",
       "      <th>total_phenols</th>\n",
       "      <th>flavanoids</th>\n",
       "      <th>nonflavanoid_phenols</th>\n",
       "      <th>proanthocyanins</th>\n",
       "      <th>color_intensity</th>\n",
       "      <th>hue</th>\n",
       "      <th>od280/od315_of_diluted_wines</th>\n",
       "      <th>proline</th>\n",
       "      <th>pca_x</th>\n",
       "      <th>pca_y</th>\n",
       "      <th>cluster</th>\n",
       "    </tr>\n",
       "  </thead>\n",
       "  <tbody>\n",
       "    <tr>\n",
       "      <th>0</th>\n",
       "      <td>1.518613</td>\n",
       "      <td>-0.562250</td>\n",
       "      <td>0.232053</td>\n",
       "      <td>-1.169593</td>\n",
       "      <td>1.913905</td>\n",
       "      <td>0.808997</td>\n",
       "      <td>1.034819</td>\n",
       "      <td>-0.659563</td>\n",
       "      <td>1.224884</td>\n",
       "      <td>0.251717</td>\n",
       "      <td>0.362177</td>\n",
       "      <td>1.847920</td>\n",
       "      <td>1.013009</td>\n",
       "      <td>3.316751</td>\n",
       "      <td>-1.443463</td>\n",
       "      <td>0</td>\n",
       "    </tr>\n",
       "    <tr>\n",
       "      <th>1</th>\n",
       "      <td>0.246290</td>\n",
       "      <td>-0.499413</td>\n",
       "      <td>-0.827996</td>\n",
       "      <td>-2.490847</td>\n",
       "      <td>0.018145</td>\n",
       "      <td>0.568648</td>\n",
       "      <td>0.733629</td>\n",
       "      <td>-0.820719</td>\n",
       "      <td>-0.544721</td>\n",
       "      <td>-0.293321</td>\n",
       "      <td>0.406051</td>\n",
       "      <td>1.113449</td>\n",
       "      <td>0.965242</td>\n",
       "      <td>2.209465</td>\n",
       "      <td>0.333393</td>\n",
       "      <td>0</td>\n",
       "    </tr>\n",
       "    <tr>\n",
       "      <th>2</th>\n",
       "      <td>0.196879</td>\n",
       "      <td>0.021231</td>\n",
       "      <td>1.109334</td>\n",
       "      <td>-0.268738</td>\n",
       "      <td>0.088358</td>\n",
       "      <td>0.808997</td>\n",
       "      <td>1.215533</td>\n",
       "      <td>-0.498407</td>\n",
       "      <td>2.135968</td>\n",
       "      <td>0.269020</td>\n",
       "      <td>0.318304</td>\n",
       "      <td>0.788587</td>\n",
       "      <td>1.395148</td>\n",
       "      <td>2.516740</td>\n",
       "      <td>-1.031151</td>\n",
       "      <td>0</td>\n",
       "    </tr>\n",
       "    <tr>\n",
       "      <th>3</th>\n",
       "      <td>1.691550</td>\n",
       "      <td>-0.346811</td>\n",
       "      <td>0.487926</td>\n",
       "      <td>-0.809251</td>\n",
       "      <td>0.930918</td>\n",
       "      <td>2.491446</td>\n",
       "      <td>1.466525</td>\n",
       "      <td>-0.981875</td>\n",
       "      <td>1.032155</td>\n",
       "      <td>1.186068</td>\n",
       "      <td>-0.427544</td>\n",
       "      <td>1.184071</td>\n",
       "      <td>2.334574</td>\n",
       "      <td>3.757066</td>\n",
       "      <td>-2.756372</td>\n",
       "      <td>0</td>\n",
       "    </tr>\n",
       "    <tr>\n",
       "      <th>4</th>\n",
       "      <td>0.295700</td>\n",
       "      <td>0.227694</td>\n",
       "      <td>1.840403</td>\n",
       "      <td>0.451946</td>\n",
       "      <td>1.281985</td>\n",
       "      <td>0.808997</td>\n",
       "      <td>0.663351</td>\n",
       "      <td>0.226796</td>\n",
       "      <td>0.401404</td>\n",
       "      <td>-0.319276</td>\n",
       "      <td>0.362177</td>\n",
       "      <td>0.449601</td>\n",
       "      <td>-0.037874</td>\n",
       "      <td>1.008908</td>\n",
       "      <td>-0.869831</td>\n",
       "      <td>0</td>\n",
       "    </tr>\n",
       "  </tbody>\n",
       "</table>\n",
       "</div>"
      ],
      "text/plain": [
       "    alcohol  malic_acid       ash  alcalinity_of_ash  magnesium  \\\n",
       "0  1.518613   -0.562250  0.232053          -1.169593   1.913905   \n",
       "1  0.246290   -0.499413 -0.827996          -2.490847   0.018145   \n",
       "2  0.196879    0.021231  1.109334          -0.268738   0.088358   \n",
       "3  1.691550   -0.346811  0.487926          -0.809251   0.930918   \n",
       "4  0.295700    0.227694  1.840403           0.451946   1.281985   \n",
       "\n",
       "   total_phenols  flavanoids  nonflavanoid_phenols  proanthocyanins  \\\n",
       "0       0.808997    1.034819             -0.659563         1.224884   \n",
       "1       0.568648    0.733629             -0.820719        -0.544721   \n",
       "2       0.808997    1.215533             -0.498407         2.135968   \n",
       "3       2.491446    1.466525             -0.981875         1.032155   \n",
       "4       0.808997    0.663351              0.226796         0.401404   \n",
       "\n",
       "   color_intensity       hue  od280/od315_of_diluted_wines   proline  \\\n",
       "0         0.251717  0.362177                      1.847920  1.013009   \n",
       "1        -0.293321  0.406051                      1.113449  0.965242   \n",
       "2         0.269020  0.318304                      0.788587  1.395148   \n",
       "3         1.186068 -0.427544                      1.184071  2.334574   \n",
       "4        -0.319276  0.362177                      0.449601 -0.037874   \n",
       "\n",
       "      pca_x     pca_y  cluster  \n",
       "0  3.316751 -1.443463        0  \n",
       "1  2.209465  0.333393        0  \n",
       "2  2.516740 -1.031151        0  \n",
       "3  3.757066 -2.756372        0  \n",
       "4  1.008908 -0.869831        0  "
      ]
     },
     "execution_count": 12,
     "metadata": {},
     "output_type": "execute_result"
    }
   ],
   "source": [
    "df['cluster'] = cluster\n",
    "df.head()"
   ]
  },
  {
   "cell_type": "raw",
   "id": "c2356447-8951-421f-8cee-eb30d280cee3",
   "metadata": {
    "execution": {
     "iopub.execute_input": "2022-11-14T02:14:22.932490Z",
     "iopub.status.busy": "2022-11-14T02:14:22.932490Z",
     "iopub.status.idle": "2022-11-14T02:14:23.165426Z",
     "shell.execute_reply": "2022-11-14T02:14:23.165426Z",
     "shell.execute_reply.started": "2022-11-14T02:14:22.932490Z"
    }
   },
   "source": [
    "sns.scatterplot(x='pca_x', y='pca_y', data=df, hue='cluster', style='cluster')"
   ]
  },
  {
   "cell_type": "code",
   "execution_count": 13,
   "id": "ef177de1-285f-48a5-91bd-f7dc7d1a7ddb",
   "metadata": {
    "execution": {
     "iopub.execute_input": "2022-11-14T03:33:26.610689Z",
     "iopub.status.busy": "2022-11-14T03:33:26.609689Z",
     "iopub.status.idle": "2022-11-14T03:33:26.905711Z",
     "shell.execute_reply": "2022-11-14T03:33:26.905711Z",
     "shell.execute_reply.started": "2022-11-14T03:33:26.610689Z"
    },
    "tags": []
   },
   "outputs": [
    {
     "data": {
      "text/plain": [
       "<seaborn.axisgrid.FacetGrid at 0x12d7dda6c10>"
      ]
     },
     "execution_count": 13,
     "metadata": {},
     "output_type": "execute_result"
    },
    {
     "data": {
      "image/png": "[encoded data removed]",
      "text/plain": [
       "<Figure size 570.847x500 with 1 Axes>"
      ]
     },
     "metadata": {},
     "output_type": "display_data"
    }
   ],
   "source": [
    "sns.lmplot(x='pca_x', y='pca_y', data=df, hue='cluster', fit_reg=False)"
   ]
  },
  {
   "cell_type": "markdown",
   "id": "9ed59c46-81d3-47e6-8214-a4be974eb6c0",
   "metadata": {},
   "source": [
    "## 중심점 포함 시각화"
   ]
  },
  {
   "cell_type": "code",
   "execution_count": 14,
   "id": "6e562d02-4157-4883-b6e3-e35f8b1a9513",
   "metadata": {
    "execution": {
     "iopub.execute_input": "2022-11-14T03:33:26.907613Z",
     "iopub.status.busy": "2022-11-14T03:33:26.907613Z",
     "iopub.status.idle": "2022-11-14T03:33:26.921614Z",
     "shell.execute_reply": "2022-11-14T03:33:26.921614Z",
     "shell.execute_reply.started": "2022-11-14T03:33:26.907613Z"
    },
    "tags": []
   },
   "outputs": [
    {
     "data": {
      "text/plain": [
       "array([[ 2.26614991, -0.86559213],\n",
       "       [-2.74392982, -1.2141906 ],\n",
       "       [-0.16278513,  1.76758824]])"
      ]
     },
     "execution_count": 14,
     "metadata": {},
     "output_type": "execute_result"
    }
   ],
   "source": [
    "# cluster_centers_ : 중심점 좌표값 저장\n",
    "center = kmeans.cluster_centers_\n",
    "center"
   ]
  },
  {
   "cell_type": "code",
   "execution_count": 15,
   "id": "d9014c1f-b33a-457f-bd48-395e9b66bd24",
   "metadata": {
    "execution": {
     "iopub.execute_input": "2022-11-14T03:33:27.040422Z",
     "iopub.status.busy": "2022-11-14T03:33:27.039390Z",
     "iopub.status.idle": "2022-11-14T03:33:27.171294Z",
     "shell.execute_reply": "2022-11-14T03:33:27.170235Z",
     "shell.execute_reply.started": "2022-11-14T03:33:27.040422Z"
    },
    "tags": []
   },
   "outputs": [
    {
     "data": {
      "text/plain": [
       "<matplotlib.collections.PathCollection at 0x12d78ccf1f0>"
      ]
     },
     "execution_count": 15,
     "metadata": {},
     "output_type": "execute_result"
    },
    {
     "data": {
      "image/png": "[encoded data removed]",
      "text/plain": [
       "<Figure size 1000x800 with 1 Axes>"
      ]
     },
     "metadata": {},
     "output_type": "display_data"
    }
   ],
   "source": [
    "plt.scatter(df['pca_x'], df['pca_y'], c=df['cluster'], cmap='YlGnBu')\n",
    "plt.scatter(x=center[:, 0], y=center[:, 1], c='red', marker='^')"
   ]
  },
  {
   "cell_type": "markdown",
   "id": "5bda97e2-cd29-43cf-b46e-f053d3a2fa12",
   "metadata": {},
   "source": [
    "## 적절한 군집의 수, K정하는법\n",
    "- K-means 알고리즘의 단점 중 하나는 클러스터의 개수를 사전지정해야 하는것.\n",
    "- 사실 군집 알고리즘에서 적절한 k를 찾기위한 방법은 없다. 하지만 대표적인 방법중 엘보우 방법이 존재"
   ]
  },
  {
   "cell_type": "markdown",
   "id": "75b2402a-c29b-480a-8fbc-eedf322c33d4",
   "metadata": {},
   "source": [
    "## Elbow Method\n",
    "- K-means 알고리즘은 클러스터 중심과 클러스터에 속한 샘플 사이의 거리를 잴 수 있다.\n",
    "- 이 거리의 제곱의 합을 이너셔(inertia)라고 부른다.\n",
    "- 이너셔(inertia) : 클러스터에 속한 샘플이 얼마나 가깝게 모여 있는지를 나타내는 값\n",
    "- 일반적으로 클러스터의 개수가 늘어나면 클러스터 각각의 거리의 크기는 줄어들기 때문에 이너셔도 줄어든다.\n",
    "- 엘보우 방법은 클러스터 개수를 늘려가면서 이너셔의 변화를 관찰하여 최적의 클러스터 개수를 찾는 방법이다.\n",
    "- 클러스터 개수를 증가시키면서 이너셔를 시각화하면 감소하는 속도가 꺾이는 지점이 있다\n",
    "- 이 지점부터 클러스터 개수를 늘려도 클러스터에 잘 밀집된 정도가 크게 개선되지 않는다. 즉, 이너셔가 크게 줄어들지 않는다.\n",
    "- 이 지점이 마치 팔꿈치 모양이어서 엘보우 방법이라고 부른다."
   ]
  },
  {
   "cell_type": "code",
   "execution_count": 16,
   "id": "42f95e6d-5032-4fb6-802e-d8a83c83c43a",
   "metadata": {
    "execution": {
     "iopub.execute_input": "2022-11-14T03:33:27.909777Z",
     "iopub.status.busy": "2022-11-14T03:33:27.909777Z",
     "iopub.status.idle": "2022-11-14T03:33:30.023851Z",
     "shell.execute_reply": "2022-11-14T03:33:30.023851Z",
     "shell.execute_reply.started": "2022-11-14T03:33:27.909777Z"
    },
    "tags": []
   },
   "outputs": [
    {
     "name": "stdout",
     "output_type": "stream",
     "text": [
      "k : 2 cost : 628.788350755478\n",
      "k : 3 cost : 259.50938075119353\n",
      "k : 4 cost : 192.39061530234864\n",
      "k : 5 cost : 155.0692047489172\n",
      "k : 6 cost : 123.43287973008776\n",
      "k : 7 cost : 99.24814548387036\n",
      "k : 8 cost : 90.05279491709501\n",
      "k : 9 cost : 80.74286917591911\n",
      "k : 10 cost : 73.42282923968276\n",
      "k : 11 cost : 65.34374421996394\n",
      "k : 12 cost : 59.44921293992765\n",
      "k : 13 cost : 57.45019032472251\n",
      "k : 14 cost : 51.07165420285441\n",
      "k : 15 cost : 48.13657460125434\n"
     ]
    }
   ],
   "source": [
    "inertia = []\n",
    "\n",
    "for k in range(2, 16):\n",
    "    km = KMeans(n_clusters=k, random_state=200)\n",
    "    km.fit(data)\n",
    "    iner = km.inertia_\n",
    "    inertia.append(iner)\n",
    "\n",
    "    print('k :', k, 'cost :', iner)\n",
    "    \n",
    "inertia = np.array(inertia)"
   ]
  },
  {
   "cell_type": "markdown",
   "id": "f87df0b1-ffee-4351-b221-be8980e33612",
   "metadata": {},
   "source": [
    "## Elbow 시각화"
   ]
  },
  {
   "cell_type": "code",
   "execution_count": 17,
   "id": "91d306a7-6ae1-4884-a0bc-20e6ec6e0caf",
   "metadata": {
    "execution": {
     "iopub.execute_input": "2022-11-14T03:33:30.025728Z",
     "iopub.status.busy": "2022-11-14T03:33:30.025728Z",
     "iopub.status.idle": "2022-11-14T03:33:30.135274Z",
     "shell.execute_reply": "2022-11-14T03:33:30.135274Z",
     "shell.execute_reply.started": "2022-11-14T03:33:30.025728Z"
    },
    "tags": []
   },
   "outputs": [
    {
     "data": {
      "image/png": "[encoded data removed]",
      "text/plain": [
       "<Figure size 1000x800 with 1 Axes>"
      ]
     },
     "metadata": {},
     "output_type": "display_data"
    }
   ],
   "source": [
    "plt.plot(range(2, 16), inertia)\n",
    "plt.vlines(3, ymin=inertia.min()*0.9999, ymax=inertia.max()*1.003, linestyle='--', colors='red')\n",
    "plt.title('Elbow Method')\n",
    "plt.xlabel('Number of clusters')\n",
    "plt.ylabel('inertia')\n",
    "plt.show()"
   ]
  },
  {
   "cell_type": "markdown",
   "id": "d7928c48-5805-43b9-b330-5077c2a27dfa",
   "metadata": {},
   "source": [
    "## 군집 평가\n",
    "- 군집화는 분류와 유사해 보이지만 성격이 많이 다르다.\n",
    "- 데이터 내에 숨어있는 별도의 그룹을 찾아서 의미를 부여한다.\n",
    "- 동일한 분류 값에 속하더라도 그 안에서 더 세분화된 군집화를 추구\n",
    "- 이러한 군집화가 효율적으로 잘 되었는지 평가할 수 있는 대표적인 방법에 실루엣 분석이 있다,\n",
    "- 다만 비지도 학습의 특성상 어떠한 지표라도 정확하게 성능을 평가하기 어렵다"
   ]
  },
  {
   "cell_type": "markdown",
   "id": "ef232558-7418-4730-b717-f0fc71d221f2",
   "metadata": {},
   "source": [
    "## 실루엣 분석\n",
    "- 실루엣 분석은 다른 군집과의 거리는 떨어져 있고 동일 근접 데이터끼리 서로 가까운지를 나타냄\n",
    "- 실루엣 분석은 실루엣 개수를 기반으로 하여 실루엣 개수는 개별 데이터가 가지는 군집화 지표\n",
    "- 실루엣 계수의 평균값이 1에 가까울수록 군집화가 잘 되었다고 판단한다."
   ]
  },
  {
   "cell_type": "code",
   "execution_count": 18,
   "id": "f290c6f2-50f8-49dd-a863-243f20855162",
   "metadata": {
    "execution": {
     "iopub.execute_input": "2022-11-14T03:33:30.136111Z",
     "iopub.status.busy": "2022-11-14T03:33:30.136111Z",
     "iopub.status.idle": "2022-11-14T03:33:34.865267Z",
     "shell.execute_reply": "2022-11-14T03:33:34.865267Z",
     "shell.execute_reply.started": "2022-11-14T03:33:30.136111Z"
    },
    "tags": []
   },
   "outputs": [
    {
     "name": "stdout",
     "output_type": "stream",
     "text": [
      "k : 2 score : 0.4649140908920151\n",
      "k : 3 score : 0.5610505693103247\n",
      "k : 4 score : 0.4914213395710318\n",
      "k : 5 score : 0.4411644097008515\n",
      "k : 6 score : 0.4463175136055413\n",
      "k : 7 score : 0.42357060607218683\n",
      "k : 8 score : 0.40253364286993987\n",
      "k : 9 score : 0.399399058594355\n",
      "k : 10 score : 0.38397465848642953\n",
      "k : 11 score : 0.4176124122783134\n",
      "k : 12 score : 0.4073605250186309\n",
      "k : 13 score : 0.3936131054984268\n",
      "k : 14 score : 0.39344566734094416\n",
      "k : 15 score : 0.3672030741146196\n",
      "k : 16 score : 0.3986256538646477\n",
      "k : 17 score : 0.37053763207561197\n",
      "k : 18 score : 0.3914695343764402\n",
      "k : 19 score : 0.3807173866923733\n",
      "k : 20 score : 0.38715567204747153\n",
      "k : 21 score : 0.382201345681412\n",
      "k : 22 score : 0.36282361234201144\n",
      "k : 23 score : 0.3811925221744516\n",
      "k : 24 score : 0.36956710822998706\n",
      "k : 25 score : 0.38210689773954953\n",
      "k : 26 score : 0.3505179707835087\n",
      "k : 27 score : 0.3682420234984969\n",
      "k : 28 score : 0.3457859618582357\n",
      "k : 29 score : 0.370339380790848\n",
      "\n",
      " best k : 3 best score : 0.5610505693103247\n"
     ]
    }
   ],
   "source": [
    "from sklearn.metrics import silhouette_score\n",
    "\n",
    "k_range = range(2, 30)\n",
    "\n",
    "best_k = -1\n",
    "best_silhouette_score = -1\n",
    "\n",
    "for k in k_range:\n",
    "    km = KMeans(n_clusters=k, random_state=200)\n",
    "    km.fit(data)\n",
    "    clusters = km.predict(data)\n",
    "    score = silhouette_score(data, clusters)\n",
    "\n",
    "    print('k :', k, 'score :', score)\n",
    "    if score >best_silhouette_score:\n",
    "        best_k = k\n",
    "        best_silhouette_score = score\n",
    "print('\\n best k :', best_k, 'best score :', best_silhouette_score)"
   ]
  }
 ],
 "metadata": {
  "kernelspec": {
   "display_name": "Python 3 (ipykernel)",
   "language": "python",
   "name": "python3"
  },
  "language_info": {
   "codemirror_mode": {
    "name": "ipython",
    "version": 3
   },
   "file_extension": ".py",
   "mimetype": "text/x-python",
   "name": "python",
   "nbconvert_exporter": "python",
   "pygments_lexer": "ipython3",
   "version": "3.9.0"
  }
 },
 "nbformat": 4,
 "nbformat_minor": 5
}
