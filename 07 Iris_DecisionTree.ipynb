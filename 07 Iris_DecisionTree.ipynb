{
 "cells": [
  {
   "cell_type": "markdown",
   "id": "9a8e6e6d-d8c0-437d-bb6c-19aab38accd8",
   "metadata": {},
   "source": [
    "# 붓꽃 의사결정트리"
   ]
  },
  {
   "cell_type": "code",
   "execution_count": 1,
   "id": "6f6cc508-90c3-4102-9a8c-868beed7cfac",
   "metadata": {
    "execution": {
     "iopub.execute_input": "2022-11-04T05:30:00.508871Z",
     "iopub.status.busy": "2022-11-04T05:30:00.507872Z",
     "iopub.status.idle": "2022-11-04T05:30:01.867317Z",
     "shell.execute_reply": "2022-11-04T05:30:01.867317Z",
     "shell.execute_reply.started": "2022-11-04T05:30:00.508871Z"
    },
    "tags": []
   },
   "outputs": [],
   "source": [
    "import numpy as np\n",
    "import pandas as pd\n",
    "import matplotlib.pyplot as plt\n",
    "import matplotlib as mpl\n",
    "import seaborn as sns\n",
    "from IPython.display import display\n",
    "import mglearn\n",
    "from sklearn.model_selection import train_test_split, GridSearchCV\n",
    "from sklearn.datasets import load_iris\n",
    "from sklearn.metrics import accuracy_score\n",
    "from sklearn.tree import DecisionTreeClassifier, export_graphviz, plot_tree\n",
    "from sklearn.preprocessing import PolynomialFeatures, MinMaxScaler\n",
    "import graphviz\n",
    "import warnings\n",
    "# warnings.filterwarnings(action='ignore')\n",
    "warnings.simplefilter(action='ignore', category=FutureWarning)\n",
    "%matplotlib inline\n",
    "plt.rc('font', family='D2coding')\n",
    "%config Completer.use_jedi = False"
   ]
  },
  {
   "cell_type": "markdown",
   "id": "a2cff414-326f-4122-aa7e-96fd79d8b42e",
   "metadata": {},
   "source": [
    "## iris 데이터셋 로딩"
   ]
  },
  {
   "cell_type": "code",
   "execution_count": 2,
   "id": "2d2f28cb-fd87-4056-88a0-6595b986546f",
   "metadata": {
    "execution": {
     "iopub.execute_input": "2022-11-04T05:30:01.867317Z",
     "iopub.status.busy": "2022-11-04T05:30:01.867317Z",
     "iopub.status.idle": "2022-11-04T05:30:01.884155Z",
     "shell.execute_reply": "2022-11-04T05:30:01.883165Z",
     "shell.execute_reply.started": "2022-11-04T05:30:01.867317Z"
    },
    "tags": []
   },
   "outputs": [],
   "source": [
    "iris = load_iris()"
   ]
  },
  {
   "cell_type": "markdown",
   "id": "496aaa49-8f02-4fbf-881a-3bdbc7971790",
   "metadata": {},
   "source": [
    "### iris 데이터셋 탐색"
   ]
  },
  {
   "cell_type": "code",
   "execution_count": 3,
   "id": "eefc0d61-ceb2-4d95-a5e8-a8b0dd78a375",
   "metadata": {
    "execution": {
     "iopub.execute_input": "2022-11-04T05:30:01.886153Z",
     "iopub.status.busy": "2022-11-04T05:30:01.886153Z",
     "iopub.status.idle": "2022-11-04T05:30:01.899152Z",
     "shell.execute_reply": "2022-11-04T05:30:01.899152Z",
     "shell.execute_reply.started": "2022-11-04T05:30:01.886153Z"
    },
    "tags": []
   },
   "outputs": [
    {
     "data": {
      "text/plain": [
       "dict_keys(['data', 'target', 'frame', 'target_names', 'DESCR', 'feature_names', 'filename', 'data_module'])"
      ]
     },
     "execution_count": 3,
     "metadata": {},
     "output_type": "execute_result"
    }
   ],
   "source": [
    "iris.keys()"
   ]
  },
  {
   "cell_type": "code",
   "execution_count": 4,
   "id": "aa827a3d-abd1-436e-bf9a-b6d86ec83d5b",
   "metadata": {
    "execution": {
     "iopub.execute_input": "2022-11-04T05:30:01.901153Z",
     "iopub.status.busy": "2022-11-04T05:30:01.900157Z",
     "iopub.status.idle": "2022-11-04T05:30:01.915490Z",
     "shell.execute_reply": "2022-11-04T05:30:01.914496Z",
     "shell.execute_reply.started": "2022-11-04T05:30:01.901153Z"
    },
    "tags": []
   },
   "outputs": [
    {
     "name": "stdout",
     "output_type": "stream",
     "text": [
      ".. _iris_dataset:\n",
      "\n",
      "Iris plants dataset\n",
      "--------------------\n",
      "\n",
      "**Data Set Characteristics:**\n",
      "\n",
      "    :Number of Instances: 150 (50 in each of three classes)\n",
      "    :Number of Attributes: 4 numeric, predictive attributes and the class\n",
      "    :Attribute Information:\n",
      "        - sepal length in cm\n",
      "        - sepal width in cm\n",
      "        - petal length in cm\n",
      "        - petal width in cm\n",
      "        - class:\n",
      "                - Iris-Setosa\n",
      "                - Iris-Versicolour\n",
      "                - Iris-Virginica\n",
      "                \n",
      "    :Summary Statistics:\n",
      "\n",
      "    ============== ==== ==== ======= ===== ====================\n",
      "                    Min  Max   Mean    SD   Class Correlation\n",
      "    ============== ==== ==== ======= ===== ====================\n",
      "    sepal length:   4.3  7.9   5.84   0.83    0.7826\n",
      "    sepal width:    2.0  4.4   3.05   0.43   -0.4194\n",
      "    petal length:   1.0  6.9   3.76   1.76    0.9490  (high!)\n",
      "    petal width:    0.1  2.5   1.20   0.76    0.9565  (high!)\n",
      "    ============== ==== ==== ======= ===== ====================\n",
      "\n",
      "    :Missing Attribute Values: None\n",
      "    :Class Distribution: 33.3% for each of 3 classes.\n",
      "    :Creator: R.A. Fisher\n",
      "    :Donor: Michael Marshall (MARSHALL%PLU@io.arc.nasa.gov)\n",
      "    :Date: July, 1988\n",
      "\n",
      "The famous Iris database, first used by Sir R.A. Fisher. The dataset is taken\n",
      "from Fisher's paper. Note that it's the same as in R, but not as in the UCI\n",
      "Machine Learning Repository, which has two wrong data points.\n",
      "\n",
      "This is perhaps the best known database to be found in the\n",
      "pattern recognition literature.  Fisher's paper is a classic in the field and\n",
      "is referenced frequently to this day.  (See Duda & Hart, for example.)  The\n",
      "data set contains 3 classes of 50 instances each, where each class refers to a\n",
      "type of iris plant.  One class is linearly separable from the other 2; the\n",
      "latter are NOT linearly separable from each other.\n",
      "\n",
      ".. topic:: References\n",
      "\n",
      "   - Fisher, R.A. \"The use of multiple measurements in taxonomic problems\"\n",
      "     Annual Eugenics, 7, Part II, 179-188 (1936); also in \"Contributions to\n",
      "     Mathematical Statistics\" (John Wiley, NY, 1950).\n",
      "   - Duda, R.O., & Hart, P.E. (1973) Pattern Classification and Scene Analysis.\n",
      "     (Q327.D83) John Wiley & Sons.  ISBN 0-471-22361-1.  See page 218.\n",
      "   - Dasarathy, B.V. (1980) \"Nosing Around the Neighborhood: A New System\n",
      "     Structure and Classification Rule for Recognition in Partially Exposed\n",
      "     Environments\".  IEEE Transactions on Pattern Analysis and Machine\n",
      "     Intelligence, Vol. PAMI-2, No. 1, 67-71.\n",
      "   - Gates, G.W. (1972) \"The Reduced Nearest Neighbor Rule\".  IEEE Transactions\n",
      "     on Information Theory, May 1972, 431-433.\n",
      "   - See also: 1988 MLC Proceedings, 54-64.  Cheeseman et al\"s AUTOCLASS II\n",
      "     conceptual clustering system finds 3 classes in the data.\n",
      "   - Many, many more ...\n"
     ]
    }
   ],
   "source": [
    "print(iris['DESCR'])"
   ]
  },
  {
   "cell_type": "code",
   "execution_count": 5,
   "id": "5cf361dd-cca5-4a5b-9431-cd9f9a4e370a",
   "metadata": {
    "execution": {
     "iopub.execute_input": "2022-11-04T05:30:01.916596Z",
     "iopub.status.busy": "2022-11-04T05:30:01.916596Z",
     "iopub.status.idle": "2022-11-04T05:30:01.929958Z",
     "shell.execute_reply": "2022-11-04T05:30:01.929958Z",
     "shell.execute_reply.started": "2022-11-04T05:30:01.916596Z"
    },
    "tags": []
   },
   "outputs": [
    {
     "data": {
      "text/plain": [
       "array(['setosa', 'versicolor', 'virginica'], dtype='<U10')"
      ]
     },
     "execution_count": 5,
     "metadata": {},
     "output_type": "execute_result"
    }
   ],
   "source": [
    "iris['target_names']"
   ]
  },
  {
   "cell_type": "code",
   "execution_count": 6,
   "id": "7cbbaeb1-74a4-46dd-abbc-b60c55207480",
   "metadata": {
    "execution": {
     "iopub.execute_input": "2022-11-04T05:30:01.930935Z",
     "iopub.status.busy": "2022-11-04T05:30:01.930935Z",
     "iopub.status.idle": "2022-11-04T05:30:01.946544Z",
     "shell.execute_reply": "2022-11-04T05:30:01.945543Z",
     "shell.execute_reply.started": "2022-11-04T05:30:01.930935Z"
    },
    "tags": []
   },
   "outputs": [
    {
     "data": {
      "text/plain": [
       "['sepal length (cm)',\n",
       " 'sepal width (cm)',\n",
       " 'petal length (cm)',\n",
       " 'petal width (cm)']"
      ]
     },
     "execution_count": 6,
     "metadata": {},
     "output_type": "execute_result"
    }
   ],
   "source": [
    "iris['feature_names']"
   ]
  },
  {
   "cell_type": "code",
   "execution_count": 7,
   "id": "5e8b3825-022f-42ab-8c96-23d84ec346d9",
   "metadata": {
    "execution": {
     "iopub.execute_input": "2022-11-04T05:30:01.947543Z",
     "iopub.status.busy": "2022-11-04T05:30:01.947543Z",
     "iopub.status.idle": "2022-11-04T05:30:01.961645Z",
     "shell.execute_reply": "2022-11-04T05:30:01.961645Z",
     "shell.execute_reply.started": "2022-11-04T05:30:01.947543Z"
    },
    "tags": []
   },
   "outputs": [
    {
     "data": {
      "text/plain": [
       "numpy.ndarray"
      ]
     },
     "execution_count": 7,
     "metadata": {},
     "output_type": "execute_result"
    }
   ],
   "source": [
    "type(iris['data'])"
   ]
  },
  {
   "cell_type": "code",
   "execution_count": 8,
   "id": "0720d42f-305f-40f4-9c0c-8150b18e9d85",
   "metadata": {
    "execution": {
     "iopub.execute_input": "2022-11-04T05:30:01.963598Z",
     "iopub.status.busy": "2022-11-04T05:30:01.963598Z",
     "iopub.status.idle": "2022-11-04T05:30:01.977402Z",
     "shell.execute_reply": "2022-11-04T05:30:01.977402Z",
     "shell.execute_reply.started": "2022-11-04T05:30:01.963598Z"
    },
    "tags": []
   },
   "outputs": [
    {
     "data": {
      "text/plain": [
       "(150, 4)"
      ]
     },
     "execution_count": 8,
     "metadata": {},
     "output_type": "execute_result"
    }
   ],
   "source": [
    "iris['data'].shape"
   ]
  },
  {
   "cell_type": "code",
   "execution_count": 9,
   "id": "eb8b2c4c-dcd9-4319-ab85-e94751a2ea24",
   "metadata": {
    "execution": {
     "iopub.execute_input": "2022-11-04T05:30:01.978402Z",
     "iopub.status.busy": "2022-11-04T05:30:01.978402Z",
     "iopub.status.idle": "2022-11-04T05:30:01.993869Z",
     "shell.execute_reply": "2022-11-04T05:30:01.992880Z",
     "shell.execute_reply.started": "2022-11-04T05:30:01.978402Z"
    },
    "tags": []
   },
   "outputs": [
    {
     "data": {
      "text/plain": [
       "array([[5.1, 3.5, 1.4, 0.2],\n",
       "       [4.9, 3. , 1.4, 0.2],\n",
       "       [4.7, 3.2, 1.3, 0.2],\n",
       "       [4.6, 3.1, 1.5, 0.2],\n",
       "       [5. , 3.6, 1.4, 0.2]])"
      ]
     },
     "execution_count": 9,
     "metadata": {},
     "output_type": "execute_result"
    }
   ],
   "source": [
    "iris['data'][:5]"
   ]
  },
  {
   "cell_type": "code",
   "execution_count": 10,
   "id": "2d5aa03f-2d06-4ab9-b576-9acb705a79a0",
   "metadata": {
    "execution": {
     "iopub.execute_input": "2022-11-04T05:30:01.994870Z",
     "iopub.status.busy": "2022-11-04T05:30:01.993869Z",
     "iopub.status.idle": "2022-11-04T05:30:02.008568Z",
     "shell.execute_reply": "2022-11-04T05:30:02.008568Z",
     "shell.execute_reply.started": "2022-11-04T05:30:01.994870Z"
    },
    "tags": []
   },
   "outputs": [],
   "source": [
    "df = pd.DataFrame(iris.data, columns=iris.feature_names)\n",
    "df['species'] = iris.target"
   ]
  },
  {
   "cell_type": "code",
   "execution_count": 11,
   "id": "eef173cd-7923-4957-a07f-efad9287193e",
   "metadata": {
    "execution": {
     "iopub.execute_input": "2022-11-04T05:30:02.010552Z",
     "iopub.status.busy": "2022-11-04T05:30:02.009553Z",
     "iopub.status.idle": "2022-11-04T05:30:02.024166Z",
     "shell.execute_reply": "2022-11-04T05:30:02.024166Z",
     "shell.execute_reply.started": "2022-11-04T05:30:02.010552Z"
    },
    "tags": []
   },
   "outputs": [
    {
     "data": {
      "text/html": [
       "<div>\n",
       "<style scoped>\n",
       "    .dataframe tbody tr th:only-of-type {\n",
       "        vertical-align: middle;\n",
       "    }\n",
       "\n",
       "    .dataframe tbody tr th {\n",
       "        vertical-align: top;\n",
       "    }\n",
       "\n",
       "    .dataframe thead th {\n",
       "        text-align: right;\n",
       "    }\n",
       "</style>\n",
       "<table border=\"1\" class=\"dataframe\">\n",
       "  <thead>\n",
       "    <tr style=\"text-align: right;\">\n",
       "      <th></th>\n",
       "      <th>sepal length (cm)</th>\n",
       "      <th>sepal width (cm)</th>\n",
       "      <th>petal length (cm)</th>\n",
       "      <th>petal width (cm)</th>\n",
       "      <th>species</th>\n",
       "    </tr>\n",
       "  </thead>\n",
       "  <tbody>\n",
       "    <tr>\n",
       "      <th>0</th>\n",
       "      <td>5.1</td>\n",
       "      <td>3.5</td>\n",
       "      <td>1.4</td>\n",
       "      <td>0.2</td>\n",
       "      <td>0</td>\n",
       "    </tr>\n",
       "    <tr>\n",
       "      <th>1</th>\n",
       "      <td>4.9</td>\n",
       "      <td>3.0</td>\n",
       "      <td>1.4</td>\n",
       "      <td>0.2</td>\n",
       "      <td>0</td>\n",
       "    </tr>\n",
       "    <tr>\n",
       "      <th>2</th>\n",
       "      <td>4.7</td>\n",
       "      <td>3.2</td>\n",
       "      <td>1.3</td>\n",
       "      <td>0.2</td>\n",
       "      <td>0</td>\n",
       "    </tr>\n",
       "    <tr>\n",
       "      <th>3</th>\n",
       "      <td>4.6</td>\n",
       "      <td>3.1</td>\n",
       "      <td>1.5</td>\n",
       "      <td>0.2</td>\n",
       "      <td>0</td>\n",
       "    </tr>\n",
       "    <tr>\n",
       "      <th>4</th>\n",
       "      <td>5.0</td>\n",
       "      <td>3.6</td>\n",
       "      <td>1.4</td>\n",
       "      <td>0.2</td>\n",
       "      <td>0</td>\n",
       "    </tr>\n",
       "    <tr>\n",
       "      <th>...</th>\n",
       "      <td>...</td>\n",
       "      <td>...</td>\n",
       "      <td>...</td>\n",
       "      <td>...</td>\n",
       "      <td>...</td>\n",
       "    </tr>\n",
       "    <tr>\n",
       "      <th>145</th>\n",
       "      <td>6.7</td>\n",
       "      <td>3.0</td>\n",
       "      <td>5.2</td>\n",
       "      <td>2.3</td>\n",
       "      <td>2</td>\n",
       "    </tr>\n",
       "    <tr>\n",
       "      <th>146</th>\n",
       "      <td>6.3</td>\n",
       "      <td>2.5</td>\n",
       "      <td>5.0</td>\n",
       "      <td>1.9</td>\n",
       "      <td>2</td>\n",
       "    </tr>\n",
       "    <tr>\n",
       "      <th>147</th>\n",
       "      <td>6.5</td>\n",
       "      <td>3.0</td>\n",
       "      <td>5.2</td>\n",
       "      <td>2.0</td>\n",
       "      <td>2</td>\n",
       "    </tr>\n",
       "    <tr>\n",
       "      <th>148</th>\n",
       "      <td>6.2</td>\n",
       "      <td>3.4</td>\n",
       "      <td>5.4</td>\n",
       "      <td>2.3</td>\n",
       "      <td>2</td>\n",
       "    </tr>\n",
       "    <tr>\n",
       "      <th>149</th>\n",
       "      <td>5.9</td>\n",
       "      <td>3.0</td>\n",
       "      <td>5.1</td>\n",
       "      <td>1.8</td>\n",
       "      <td>2</td>\n",
       "    </tr>\n",
       "  </tbody>\n",
       "</table>\n",
       "<p>150 rows × 5 columns</p>\n",
       "</div>"
      ],
      "text/plain": [
       "     sepal length (cm)  sepal width (cm)  petal length (cm)  petal width (cm)  \\\n",
       "0                  5.1               3.5                1.4               0.2   \n",
       "1                  4.9               3.0                1.4               0.2   \n",
       "2                  4.7               3.2                1.3               0.2   \n",
       "3                  4.6               3.1                1.5               0.2   \n",
       "4                  5.0               3.6                1.4               0.2   \n",
       "..                 ...               ...                ...               ...   \n",
       "145                6.7               3.0                5.2               2.3   \n",
       "146                6.3               2.5                5.0               1.9   \n",
       "147                6.5               3.0                5.2               2.0   \n",
       "148                6.2               3.4                5.4               2.3   \n",
       "149                5.9               3.0                5.1               1.8   \n",
       "\n",
       "     species  \n",
       "0          0  \n",
       "1          0  \n",
       "2          0  \n",
       "3          0  \n",
       "4          0  \n",
       "..       ...  \n",
       "145        2  \n",
       "146        2  \n",
       "147        2  \n",
       "148        2  \n",
       "149        2  \n",
       "\n",
       "[150 rows x 5 columns]"
      ]
     },
     "execution_count": 11,
     "metadata": {},
     "output_type": "execute_result"
    }
   ],
   "source": [
    "df"
   ]
  },
  {
   "cell_type": "code",
   "execution_count": 12,
   "id": "801bf215-c050-4af2-bd43-6ab1494529d1",
   "metadata": {
    "execution": {
     "iopub.execute_input": "2022-11-04T05:30:02.027153Z",
     "iopub.status.busy": "2022-11-04T05:30:02.027153Z",
     "iopub.status.idle": "2022-11-04T05:30:02.039218Z",
     "shell.execute_reply": "2022-11-04T05:30:02.039218Z",
     "shell.execute_reply.started": "2022-11-04T05:30:02.027153Z"
    },
    "tags": []
   },
   "outputs": [
    {
     "data": {
      "text/plain": [
       "array([0, 1, 2])"
      ]
     },
     "execution_count": 12,
     "metadata": {},
     "output_type": "execute_result"
    }
   ],
   "source": [
    "df['species'].unique()"
   ]
  },
  {
   "cell_type": "code",
   "execution_count": 13,
   "id": "da6cec28-d90a-4e92-aa41-c046bcfe6df5",
   "metadata": {
    "execution": {
     "iopub.execute_input": "2022-11-04T05:30:02.041206Z",
     "iopub.status.busy": "2022-11-04T05:30:02.040207Z",
     "iopub.status.idle": "2022-11-04T05:30:02.055219Z",
     "shell.execute_reply": "2022-11-04T05:30:02.055219Z",
     "shell.execute_reply.started": "2022-11-04T05:30:02.041206Z"
    },
    "tags": []
   },
   "outputs": [
    {
     "data": {
      "text/plain": [
       "0    50\n",
       "1    50\n",
       "2    50\n",
       "Name: species, dtype: int64"
      ]
     },
     "execution_count": 13,
     "metadata": {},
     "output_type": "execute_result"
    }
   ],
   "source": [
    "df['species'].value_counts()"
   ]
  },
  {
   "cell_type": "code",
   "execution_count": 14,
   "id": "e340f029-ba52-416e-a919-f699eb165408",
   "metadata": {
    "execution": {
     "iopub.execute_input": "2022-11-04T05:30:02.056204Z",
     "iopub.status.busy": "2022-11-04T05:30:02.056204Z",
     "iopub.status.idle": "2022-11-04T05:30:02.071470Z",
     "shell.execute_reply": "2022-11-04T05:30:02.070484Z",
     "shell.execute_reply.started": "2022-11-04T05:30:02.056204Z"
    },
    "tags": []
   },
   "outputs": [
    {
     "data": {
      "text/plain": [
       "array(['setosa', 'versicolor', 'virginica'], dtype='<U10')"
      ]
     },
     "execution_count": 14,
     "metadata": {},
     "output_type": "execute_result"
    }
   ],
   "source": [
    "iris['target_names']"
   ]
  },
  {
   "cell_type": "code",
   "execution_count": 15,
   "id": "15659a1a-c8db-4d9a-843b-e9864e536381",
   "metadata": {
    "execution": {
     "iopub.execute_input": "2022-11-04T05:30:02.072469Z",
     "iopub.status.busy": "2022-11-04T05:30:02.071470Z",
     "iopub.status.idle": "2022-11-04T05:30:02.086375Z",
     "shell.execute_reply": "2022-11-04T05:30:02.086375Z",
     "shell.execute_reply.started": "2022-11-04T05:30:02.071470Z"
    },
    "tags": []
   },
   "outputs": [],
   "source": [
    "# df['species'] = df['species'].apply(\n",
    "#     'setosa' if df['species'] == 0 else(\n",
    "#         'versicolor' if df['species'] == 1 else(\n",
    "#             'virginica' if df['species'] == 2)))"
   ]
  },
  {
   "cell_type": "markdown",
   "id": "9d08cc39-3994-412c-9ff1-389c40299614",
   "metadata": {},
   "source": [
    "### 데이터세트 훈련, 테스트로 분리"
   ]
  },
  {
   "cell_type": "code",
   "execution_count": 16,
   "id": "1d6e7b4f-adce-4c05-8d66-94b965b9ce21",
   "metadata": {
    "execution": {
     "iopub.execute_input": "2022-11-04T05:30:02.087375Z",
     "iopub.status.busy": "2022-11-04T05:30:02.087375Z",
     "iopub.status.idle": "2022-11-04T05:30:02.101875Z",
     "shell.execute_reply": "2022-11-04T05:30:02.101875Z",
     "shell.execute_reply.started": "2022-11-04T05:30:02.087375Z"
    },
    "tags": []
   },
   "outputs": [],
   "source": [
    "# from sklearn.model_selection import train_test_split\n",
    "X_train, X_test, y_train, y_test = train_test_split(\n",
    "    iris.data, iris.target, test_size=0.2, random_state=0)"
   ]
  },
  {
   "cell_type": "code",
   "execution_count": 17,
   "id": "50f0a9a9-a77b-4dd6-be89-9513a5b0b61d",
   "metadata": {
    "execution": {
     "iopub.execute_input": "2022-11-04T05:30:02.102873Z",
     "iopub.status.busy": "2022-11-04T05:30:02.102873Z",
     "iopub.status.idle": "2022-11-04T05:30:02.117605Z",
     "shell.execute_reply": "2022-11-04T05:30:02.117605Z",
     "shell.execute_reply.started": "2022-11-04T05:30:02.102873Z"
    },
    "tags": []
   },
   "outputs": [
    {
     "data": {
      "text/plain": [
       "((120, 4), (30, 4))"
      ]
     },
     "execution_count": 17,
     "metadata": {},
     "output_type": "execute_result"
    }
   ],
   "source": [
    "X_train.shape, X_test.shape"
   ]
  },
  {
   "cell_type": "markdown",
   "id": "139b57b8-2a07-4a81-af50-03173364459d",
   "metadata": {
    "tags": []
   },
   "source": [
    "## 분류 알고리즘 : DecisionTreeClassifier\n",
    "   - 분류와 회귀에 사용되는 지도학습 알고리즘\n",
    "   - 데이터 특성으로부터 추론된 결정 규칙을 통해 값을 예측\n",
    "   - if-then-else 결정 규칙을 통해 데이터 학습\n",
    "   - 트리의 깊이가 깊을수록 복잡한 모델이 된다.\n",
    "   - 결정트리의 장점\n",
    "     - 이해와 해석이 쉽다.\n",
    "     - 시각화가 용이하다.\n",
    "     - 많은 데이터의 전처리가 필요하지 않다.\n",
    "     - 수치형과 범주형 데이터 모두를 다룰 수 있다."
   ]
  },
  {
   "cell_type": "code",
   "execution_count": 18,
   "id": "0ae285eb-4772-4fc8-811c-4874c80c3cdd",
   "metadata": {
    "execution": {
     "iopub.execute_input": "2022-11-04T05:30:02.118596Z",
     "iopub.status.busy": "2022-11-04T05:30:02.118596Z",
     "iopub.status.idle": "2022-11-04T05:30:02.133145Z",
     "shell.execute_reply": "2022-11-04T05:30:02.133145Z",
     "shell.execute_reply.started": "2022-11-04T05:30:02.118596Z"
    },
    "tags": []
   },
   "outputs": [
    {
     "data": {
      "text/plain": [
       "DecisionTreeClassifier(random_state=121)"
      ]
     },
     "execution_count": 18,
     "metadata": {},
     "output_type": "execute_result"
    }
   ],
   "source": [
    "# from sklearn.tree import DecisionTreeClassifier\n",
    "dtree = DecisionTreeClassifier(random_state=121)\n",
    "dtree.fit(X_train, y_train)"
   ]
  },
  {
   "cell_type": "markdown",
   "id": "55e61797-34fa-493f-893e-3c413ccaf838",
   "metadata": {
    "tags": []
   },
   "source": [
    "## 트리 구조를 시각화하는 패키지 : graphviz"
   ]
  },
  {
   "cell_type": "code",
   "execution_count": 19,
   "id": "0eb5dfe6-ddb1-4edf-87e5-a86f66c8e4d4",
   "metadata": {
    "execution": {
     "iopub.execute_input": "2022-11-04T05:30:02.134121Z",
     "iopub.status.busy": "2022-11-04T05:30:02.134121Z",
     "iopub.status.idle": "2022-11-04T05:30:02.149990Z",
     "shell.execute_reply": "2022-11-04T05:30:02.148988Z",
     "shell.execute_reply.started": "2022-11-04T05:30:02.134121Z"
    },
    "tags": []
   },
   "outputs": [],
   "source": [
    "# import graphviz\n",
    "# from sklearn.tree import export_graphviz\n",
    "# export_graphviz(모델객체, 출력파일명(out_file), 결정트리클래스명칭(class_names),\n",
    "#                 결정트리피쳐명칭(feature_names), 불순도표시(impurity), 색(filled))\n",
    "export_graphviz(dtree, out_file='tree.dot', class_names=iris.target_names,\n",
    "                feature_names=iris.feature_names, impurity=True, filled=True)"
   ]
  },
  {
   "cell_type": "code",
   "execution_count": 20,
   "id": "b855c94d-72d1-4f63-adef-f08a8d3f9680",
   "metadata": {
    "execution": {
     "iopub.execute_input": "2022-11-04T05:30:02.150989Z",
     "iopub.status.busy": "2022-11-04T05:30:02.150989Z",
     "iopub.status.idle": "2022-11-04T05:30:02.471711Z",
     "shell.execute_reply": "2022-11-04T05:30:02.471711Z",
     "shell.execute_reply.started": "2022-11-04T05:30:02.150989Z"
    }
   },
   "outputs": [
    {
     "data": {
      "image/svg+xml": [
       "<?xml version=\"1.0\" encoding=\"UTF-8\" standalone=\"no\"?>\n",
       "<!DOCTYPE svg PUBLIC \"-//W3C//DTD SVG 1.1//EN\"\n",
       " \"http://www.w3.org/Graphics/SVG/1.1/DTD/svg11.dtd\">\n",
       "<!-- Generated by graphviz version 6.0.2 (20221011.1828)\n",
       " -->\n",
       "<!-- Title: Tree Pages: 1 -->\n",
       "<svg width=\"897pt\" height=\"671pt\"\n",
       " viewBox=\"0.00 0.00 897.00 671.00\" xmlns=\"http://www.w3.org/2000/svg\" xmlns:xlink=\"http://www.w3.org/1999/xlink\">\n",
       "<g id=\"graph0\" class=\"graph\" transform=\"scale(1 1) rotate(0) translate(4 667)\">\n",
       "<title>Tree</title>\n",
       "<polygon fill=\"white\" stroke=\"none\" points=\"-4,4 -4,-667 893,-667 893,4 -4,4\"/>\n",
       "<!-- 0 -->\n",
       "<g id=\"node1\" class=\"node\">\n",
       "<title>0</title>\n",
       "<polygon fill=\"#f7f3fd\" stroke=\"black\" points=\"554.5,-663 380.5,-663 380.5,-580 554.5,-580 554.5,-663\"/>\n",
       "<text text-anchor=\"middle\" x=\"467.5\" y=\"-647.8\" font-family=\"Helvetica,sans-Serif\" font-size=\"14.00\">petal length (cm) &lt;= 2.35</text>\n",
       "<text text-anchor=\"middle\" x=\"467.5\" y=\"-632.8\" font-family=\"Helvetica,sans-Serif\" font-size=\"14.00\">gini = 0.665</text>\n",
       "<text text-anchor=\"middle\" x=\"467.5\" y=\"-617.8\" font-family=\"Helvetica,sans-Serif\" font-size=\"14.00\">samples = 120</text>\n",
       "<text text-anchor=\"middle\" x=\"467.5\" y=\"-602.8\" font-family=\"Helvetica,sans-Serif\" font-size=\"14.00\">value = [39, 37, 44]</text>\n",
       "<text text-anchor=\"middle\" x=\"467.5\" y=\"-587.8\" font-family=\"Helvetica,sans-Serif\" font-size=\"14.00\">class = virginica</text>\n",
       "</g>\n",
       "<!-- 1 -->\n",
       "<g id=\"node2\" class=\"node\">\n",
       "<title>1</title>\n",
       "<polygon fill=\"#e58139\" stroke=\"black\" points=\"447,-536.5 326,-536.5 326,-468.5 447,-468.5 447,-536.5\"/>\n",
       "<text text-anchor=\"middle\" x=\"386.5\" y=\"-521.3\" font-family=\"Helvetica,sans-Serif\" font-size=\"14.00\">gini = 0.0</text>\n",
       "<text text-anchor=\"middle\" x=\"386.5\" y=\"-506.3\" font-family=\"Helvetica,sans-Serif\" font-size=\"14.00\">samples = 39</text>\n",
       "<text text-anchor=\"middle\" x=\"386.5\" y=\"-491.3\" font-family=\"Helvetica,sans-Serif\" font-size=\"14.00\">value = [39, 0, 0]</text>\n",
       "<text text-anchor=\"middle\" x=\"386.5\" y=\"-476.3\" font-family=\"Helvetica,sans-Serif\" font-size=\"14.00\">class = setosa</text>\n",
       "</g>\n",
       "<!-- 0&#45;&gt;1 -->\n",
       "<g id=\"edge1\" class=\"edge\">\n",
       "<title>0&#45;&gt;1</title>\n",
       "<path fill=\"none\" stroke=\"black\" d=\"M439.4,-579.91C431.61,-568.65 423.14,-556.42 415.3,-545.11\"/>\n",
       "<polygon fill=\"black\" stroke=\"black\" points=\"418.03,-542.9 409.46,-536.67 412.28,-546.88 418.03,-542.9\"/>\n",
       "<text text-anchor=\"middle\" x=\"404.99\" y=\"-557.56\" font-family=\"Helvetica,sans-Serif\" font-size=\"14.00\">True</text>\n",
       "</g>\n",
       "<!-- 2 -->\n",
       "<g id=\"node3\" class=\"node\">\n",
       "<title>2</title>\n",
       "<polygon fill=\"#ebe0fb\" stroke=\"black\" points=\"633.5,-544 465.5,-544 465.5,-461 633.5,-461 633.5,-544\"/>\n",
       "<text text-anchor=\"middle\" x=\"549.5\" y=\"-528.8\" font-family=\"Helvetica,sans-Serif\" font-size=\"14.00\">petal width (cm) &lt;= 1.75</text>\n",
       "<text text-anchor=\"middle\" x=\"549.5\" y=\"-513.8\" font-family=\"Helvetica,sans-Serif\" font-size=\"14.00\">gini = 0.496</text>\n",
       "<text text-anchor=\"middle\" x=\"549.5\" y=\"-498.8\" font-family=\"Helvetica,sans-Serif\" font-size=\"14.00\">samples = 81</text>\n",
       "<text text-anchor=\"middle\" x=\"549.5\" y=\"-483.8\" font-family=\"Helvetica,sans-Serif\" font-size=\"14.00\">value = [0, 37, 44]</text>\n",
       "<text text-anchor=\"middle\" x=\"549.5\" y=\"-468.8\" font-family=\"Helvetica,sans-Serif\" font-size=\"14.00\">class = virginica</text>\n",
       "</g>\n",
       "<!-- 0&#45;&gt;2 -->\n",
       "<g id=\"edge2\" class=\"edge\">\n",
       "<title>0&#45;&gt;2</title>\n",
       "<path fill=\"none\" stroke=\"black\" d=\"M495.95,-579.91C502.18,-571.01 508.84,-561.51 515.28,-552.33\"/>\n",
       "<polygon fill=\"black\" stroke=\"black\" points=\"518.23,-554.22 521.1,-544.02 512.5,-550.2 518.23,-554.22\"/>\n",
       "<text text-anchor=\"middle\" x=\"525.43\" y=\"-564.94\" font-family=\"Helvetica,sans-Serif\" font-size=\"14.00\">False</text>\n",
       "</g>\n",
       "<!-- 3 -->\n",
       "<g id=\"node4\" class=\"node\">\n",
       "<title>3</title>\n",
       "<polygon fill=\"#4fe88f\" stroke=\"black\" points=\"519.5,-425 345.5,-425 345.5,-342 519.5,-342 519.5,-425\"/>\n",
       "<text text-anchor=\"middle\" x=\"432.5\" y=\"-409.8\" font-family=\"Helvetica,sans-Serif\" font-size=\"14.00\">petal length (cm) &lt;= 4.95</text>\n",
       "<text text-anchor=\"middle\" x=\"432.5\" y=\"-394.8\" font-family=\"Helvetica,sans-Serif\" font-size=\"14.00\">gini = 0.18</text>\n",
       "<text text-anchor=\"middle\" x=\"432.5\" y=\"-379.8\" font-family=\"Helvetica,sans-Serif\" font-size=\"14.00\">samples = 40</text>\n",
       "<text text-anchor=\"middle\" x=\"432.5\" y=\"-364.8\" font-family=\"Helvetica,sans-Serif\" font-size=\"14.00\">value = [0, 36, 4]</text>\n",
       "<text text-anchor=\"middle\" x=\"432.5\" y=\"-349.8\" font-family=\"Helvetica,sans-Serif\" font-size=\"14.00\">class = versicolor</text>\n",
       "</g>\n",
       "<!-- 2&#45;&gt;3 -->\n",
       "<g id=\"edge3\" class=\"edge\">\n",
       "<title>2&#45;&gt;3</title>\n",
       "<path fill=\"none\" stroke=\"black\" d=\"M508.91,-460.91C499.65,-451.65 489.73,-441.73 480.21,-432.21\"/>\n",
       "<polygon fill=\"black\" stroke=\"black\" points=\"482.57,-429.62 473.02,-425.02 477.62,-434.57 482.57,-429.62\"/>\n",
       "</g>\n",
       "<!-- 12 -->\n",
       "<g id=\"node13\" class=\"node\">\n",
       "<title>12</title>\n",
       "<polygon fill=\"#843ee6\" stroke=\"black\" points=\"754.5,-425 580.5,-425 580.5,-342 754.5,-342 754.5,-425\"/>\n",
       "<text text-anchor=\"middle\" x=\"667.5\" y=\"-409.8\" font-family=\"Helvetica,sans-Serif\" font-size=\"14.00\">petal length (cm) &lt;= 4.85</text>\n",
       "<text text-anchor=\"middle\" x=\"667.5\" y=\"-394.8\" font-family=\"Helvetica,sans-Serif\" font-size=\"14.00\">gini = 0.048</text>\n",
       "<text text-anchor=\"middle\" x=\"667.5\" y=\"-379.8\" font-family=\"Helvetica,sans-Serif\" font-size=\"14.00\">samples = 41</text>\n",
       "<text text-anchor=\"middle\" x=\"667.5\" y=\"-364.8\" font-family=\"Helvetica,sans-Serif\" font-size=\"14.00\">value = [0, 1, 40]</text>\n",
       "<text text-anchor=\"middle\" x=\"667.5\" y=\"-349.8\" font-family=\"Helvetica,sans-Serif\" font-size=\"14.00\">class = virginica</text>\n",
       "</g>\n",
       "<!-- 2&#45;&gt;12 -->\n",
       "<g id=\"edge12\" class=\"edge\">\n",
       "<title>2&#45;&gt;12</title>\n",
       "<path fill=\"none\" stroke=\"black\" d=\"M590.44,-460.91C599.78,-451.65 609.78,-441.73 619.38,-432.21\"/>\n",
       "<polygon fill=\"black\" stroke=\"black\" points=\"622,-434.55 626.63,-425.02 617.07,-429.58 622,-434.55\"/>\n",
       "</g>\n",
       "<!-- 4 -->\n",
       "<g id=\"node5\" class=\"node\">\n",
       "<title>4</title>\n",
       "<polygon fill=\"#3fe685\" stroke=\"black\" points=\"287.5,-306 119.5,-306 119.5,-223 287.5,-223 287.5,-306\"/>\n",
       "<text text-anchor=\"middle\" x=\"203.5\" y=\"-290.8\" font-family=\"Helvetica,sans-Serif\" font-size=\"14.00\">petal width (cm) &lt;= 1.65</text>\n",
       "<text text-anchor=\"middle\" x=\"203.5\" y=\"-275.8\" font-family=\"Helvetica,sans-Serif\" font-size=\"14.00\">gini = 0.056</text>\n",
       "<text text-anchor=\"middle\" x=\"203.5\" y=\"-260.8\" font-family=\"Helvetica,sans-Serif\" font-size=\"14.00\">samples = 35</text>\n",
       "<text text-anchor=\"middle\" x=\"203.5\" y=\"-245.8\" font-family=\"Helvetica,sans-Serif\" font-size=\"14.00\">value = [0, 34, 1]</text>\n",
       "<text text-anchor=\"middle\" x=\"203.5\" y=\"-230.8\" font-family=\"Helvetica,sans-Serif\" font-size=\"14.00\">class = versicolor</text>\n",
       "</g>\n",
       "<!-- 3&#45;&gt;4 -->\n",
       "<g id=\"edge4\" class=\"edge\">\n",
       "<title>3&#45;&gt;4</title>\n",
       "<path fill=\"none\" stroke=\"black\" d=\"M353.05,-341.91C333.33,-331.83 312.08,-320.98 291.96,-310.7\"/>\n",
       "<polygon fill=\"black\" stroke=\"black\" points=\"293.31,-307.45 282.81,-306.02 290.12,-313.69 293.31,-307.45\"/>\n",
       "</g>\n",
       "<!-- 7 -->\n",
       "<g id=\"node8\" class=\"node\">\n",
       "<title>7</title>\n",
       "<polygon fill=\"#d5bdf6\" stroke=\"black\" points=\"516.5,-306 348.5,-306 348.5,-223 516.5,-223 516.5,-306\"/>\n",
       "<text text-anchor=\"middle\" x=\"432.5\" y=\"-290.8\" font-family=\"Helvetica,sans-Serif\" font-size=\"14.00\">petal width (cm) &lt;= 1.55</text>\n",
       "<text text-anchor=\"middle\" x=\"432.5\" y=\"-275.8\" font-family=\"Helvetica,sans-Serif\" font-size=\"14.00\">gini = 0.48</text>\n",
       "<text text-anchor=\"middle\" x=\"432.5\" y=\"-260.8\" font-family=\"Helvetica,sans-Serif\" font-size=\"14.00\">samples = 5</text>\n",
       "<text text-anchor=\"middle\" x=\"432.5\" y=\"-245.8\" font-family=\"Helvetica,sans-Serif\" font-size=\"14.00\">value = [0, 2, 3]</text>\n",
       "<text text-anchor=\"middle\" x=\"432.5\" y=\"-230.8\" font-family=\"Helvetica,sans-Serif\" font-size=\"14.00\">class = virginica</text>\n",
       "</g>\n",
       "<!-- 3&#45;&gt;7 -->\n",
       "<g id=\"edge7\" class=\"edge\">\n",
       "<title>3&#45;&gt;7</title>\n",
       "<path fill=\"none\" stroke=\"black\" d=\"M432.5,-341.91C432.5,-333.65 432.5,-324.86 432.5,-316.3\"/>\n",
       "<polygon fill=\"black\" stroke=\"black\" points=\"436,-316.02 432.5,-306.02 429,-316.02 436,-316.02\"/>\n",
       "</g>\n",
       "<!-- 5 -->\n",
       "<g id=\"node6\" class=\"node\">\n",
       "<title>5</title>\n",
       "<polygon fill=\"#39e581\" stroke=\"black\" points=\"127,-179.5 0,-179.5 0,-111.5 127,-111.5 127,-179.5\"/>\n",
       "<text text-anchor=\"middle\" x=\"63.5\" y=\"-164.3\" font-family=\"Helvetica,sans-Serif\" font-size=\"14.00\">gini = 0.0</text>\n",
       "<text text-anchor=\"middle\" x=\"63.5\" y=\"-149.3\" font-family=\"Helvetica,sans-Serif\" font-size=\"14.00\">samples = 34</text>\n",
       "<text text-anchor=\"middle\" x=\"63.5\" y=\"-134.3\" font-family=\"Helvetica,sans-Serif\" font-size=\"14.00\">value = [0, 34, 0]</text>\n",
       "<text text-anchor=\"middle\" x=\"63.5\" y=\"-119.3\" font-family=\"Helvetica,sans-Serif\" font-size=\"14.00\">class = versicolor</text>\n",
       "</g>\n",
       "<!-- 4&#45;&gt;5 -->\n",
       "<g id=\"edge5\" class=\"edge\">\n",
       "<title>4&#45;&gt;5</title>\n",
       "<path fill=\"none\" stroke=\"black\" d=\"M154.93,-222.91C140.67,-210.99 125.09,-197.98 110.91,-186.12\"/>\n",
       "<polygon fill=\"black\" stroke=\"black\" points=\"113.1,-183.39 103.19,-179.67 108.62,-188.77 113.1,-183.39\"/>\n",
       "</g>\n",
       "<!-- 6 -->\n",
       "<g id=\"node7\" class=\"node\">\n",
       "<title>6</title>\n",
       "<polygon fill=\"#8139e5\" stroke=\"black\" points=\"261.5,-179.5 145.5,-179.5 145.5,-111.5 261.5,-111.5 261.5,-179.5\"/>\n",
       "<text text-anchor=\"middle\" x=\"203.5\" y=\"-164.3\" font-family=\"Helvetica,sans-Serif\" font-size=\"14.00\">gini = 0.0</text>\n",
       "<text text-anchor=\"middle\" x=\"203.5\" y=\"-149.3\" font-family=\"Helvetica,sans-Serif\" font-size=\"14.00\">samples = 1</text>\n",
       "<text text-anchor=\"middle\" x=\"203.5\" y=\"-134.3\" font-family=\"Helvetica,sans-Serif\" font-size=\"14.00\">value = [0, 0, 1]</text>\n",
       "<text text-anchor=\"middle\" x=\"203.5\" y=\"-119.3\" font-family=\"Helvetica,sans-Serif\" font-size=\"14.00\">class = virginica</text>\n",
       "</g>\n",
       "<!-- 4&#45;&gt;6 -->\n",
       "<g id=\"edge6\" class=\"edge\">\n",
       "<title>4&#45;&gt;6</title>\n",
       "<path fill=\"none\" stroke=\"black\" d=\"M203.5,-222.91C203.5,-212.2 203.5,-200.62 203.5,-189.78\"/>\n",
       "<polygon fill=\"black\" stroke=\"black\" points=\"207,-189.67 203.5,-179.67 200,-189.67 207,-189.67\"/>\n",
       "</g>\n",
       "<!-- 8 -->\n",
       "<g id=\"node9\" class=\"node\">\n",
       "<title>8</title>\n",
       "<polygon fill=\"#8139e5\" stroke=\"black\" points=\"395.5,-179.5 279.5,-179.5 279.5,-111.5 395.5,-111.5 395.5,-179.5\"/>\n",
       "<text text-anchor=\"middle\" x=\"337.5\" y=\"-164.3\" font-family=\"Helvetica,sans-Serif\" font-size=\"14.00\">gini = 0.0</text>\n",
       "<text text-anchor=\"middle\" x=\"337.5\" y=\"-149.3\" font-family=\"Helvetica,sans-Serif\" font-size=\"14.00\">samples = 2</text>\n",
       "<text text-anchor=\"middle\" x=\"337.5\" y=\"-134.3\" font-family=\"Helvetica,sans-Serif\" font-size=\"14.00\">value = [0, 0, 2]</text>\n",
       "<text text-anchor=\"middle\" x=\"337.5\" y=\"-119.3\" font-family=\"Helvetica,sans-Serif\" font-size=\"14.00\">class = virginica</text>\n",
       "</g>\n",
       "<!-- 7&#45;&gt;8 -->\n",
       "<g id=\"edge8\" class=\"edge\">\n",
       "<title>7&#45;&gt;8</title>\n",
       "<path fill=\"none\" stroke=\"black\" d=\"M399.54,-222.91C390.22,-211.43 380.08,-198.94 370.74,-187.44\"/>\n",
       "<polygon fill=\"black\" stroke=\"black\" points=\"373.45,-185.22 364.43,-179.67 368.02,-189.64 373.45,-185.22\"/>\n",
       "</g>\n",
       "<!-- 9 -->\n",
       "<g id=\"node10\" class=\"node\">\n",
       "<title>9</title>\n",
       "<polygon fill=\"#9cf2c0\" stroke=\"black\" points=\"591.5,-187 413.5,-187 413.5,-104 591.5,-104 591.5,-187\"/>\n",
       "<text text-anchor=\"middle\" x=\"502.5\" y=\"-171.8\" font-family=\"Helvetica,sans-Serif\" font-size=\"14.00\">sepal length (cm) &lt;= 6.95</text>\n",
       "<text text-anchor=\"middle\" x=\"502.5\" y=\"-156.8\" font-family=\"Helvetica,sans-Serif\" font-size=\"14.00\">gini = 0.444</text>\n",
       "<text text-anchor=\"middle\" x=\"502.5\" y=\"-141.8\" font-family=\"Helvetica,sans-Serif\" font-size=\"14.00\">samples = 3</text>\n",
       "<text text-anchor=\"middle\" x=\"502.5\" y=\"-126.8\" font-family=\"Helvetica,sans-Serif\" font-size=\"14.00\">value = [0, 2, 1]</text>\n",
       "<text text-anchor=\"middle\" x=\"502.5\" y=\"-111.8\" font-family=\"Helvetica,sans-Serif\" font-size=\"14.00\">class = versicolor</text>\n",
       "</g>\n",
       "<!-- 7&#45;&gt;9 -->\n",
       "<g id=\"edge9\" class=\"edge\">\n",
       "<title>7&#45;&gt;9</title>\n",
       "<path fill=\"none\" stroke=\"black\" d=\"M456.79,-222.91C462.05,-214.1 467.68,-204.7 473.12,-195.61\"/>\n",
       "<polygon fill=\"black\" stroke=\"black\" points=\"476.13,-197.4 478.26,-187.02 470.12,-193.81 476.13,-197.4\"/>\n",
       "</g>\n",
       "<!-- 10 -->\n",
       "<g id=\"node11\" class=\"node\">\n",
       "<title>10</title>\n",
       "<polygon fill=\"#39e581\" stroke=\"black\" points=\"496,-68 369,-68 369,0 496,0 496,-68\"/>\n",
       "<text text-anchor=\"middle\" x=\"432.5\" y=\"-52.8\" font-family=\"Helvetica,sans-Serif\" font-size=\"14.00\">gini = 0.0</text>\n",
       "<text text-anchor=\"middle\" x=\"432.5\" y=\"-37.8\" font-family=\"Helvetica,sans-Serif\" font-size=\"14.00\">samples = 2</text>\n",
       "<text text-anchor=\"middle\" x=\"432.5\" y=\"-22.8\" font-family=\"Helvetica,sans-Serif\" font-size=\"14.00\">value = [0, 2, 0]</text>\n",
       "<text text-anchor=\"middle\" x=\"432.5\" y=\"-7.8\" font-family=\"Helvetica,sans-Serif\" font-size=\"14.00\">class = versicolor</text>\n",
       "</g>\n",
       "<!-- 9&#45;&gt;10 -->\n",
       "<g id=\"edge10\" class=\"edge\">\n",
       "<title>9&#45;&gt;10</title>\n",
       "<path fill=\"none\" stroke=\"black\" d=\"M476.43,-103.73C470.84,-94.97 464.91,-85.7 459.29,-76.91\"/>\n",
       "<polygon fill=\"black\" stroke=\"black\" points=\"462.12,-74.84 453.79,-68.3 456.22,-78.61 462.12,-74.84\"/>\n",
       "</g>\n",
       "<!-- 11 -->\n",
       "<g id=\"node12\" class=\"node\">\n",
       "<title>11</title>\n",
       "<polygon fill=\"#8139e5\" stroke=\"black\" points=\"630.5,-68 514.5,-68 514.5,0 630.5,0 630.5,-68\"/>\n",
       "<text text-anchor=\"middle\" x=\"572.5\" y=\"-52.8\" font-family=\"Helvetica,sans-Serif\" font-size=\"14.00\">gini = 0.0</text>\n",
       "<text text-anchor=\"middle\" x=\"572.5\" y=\"-37.8\" font-family=\"Helvetica,sans-Serif\" font-size=\"14.00\">samples = 1</text>\n",
       "<text text-anchor=\"middle\" x=\"572.5\" y=\"-22.8\" font-family=\"Helvetica,sans-Serif\" font-size=\"14.00\">value = [0, 0, 1]</text>\n",
       "<text text-anchor=\"middle\" x=\"572.5\" y=\"-7.8\" font-family=\"Helvetica,sans-Serif\" font-size=\"14.00\">class = virginica</text>\n",
       "</g>\n",
       "<!-- 9&#45;&gt;11 -->\n",
       "<g id=\"edge11\" class=\"edge\">\n",
       "<title>9&#45;&gt;11</title>\n",
       "<path fill=\"none\" stroke=\"black\" d=\"M528.57,-103.73C534.16,-94.97 540.09,-85.7 545.71,-76.91\"/>\n",
       "<polygon fill=\"black\" stroke=\"black\" points=\"548.78,-78.61 551.21,-68.3 542.88,-74.84 548.78,-78.61\"/>\n",
       "</g>\n",
       "<!-- 13 -->\n",
       "<g id=\"node14\" class=\"node\">\n",
       "<title>13</title>\n",
       "<polygon fill=\"#ffffff\" stroke=\"black\" points=\"749.5,-306 585.5,-306 585.5,-223 749.5,-223 749.5,-306\"/>\n",
       "<text text-anchor=\"middle\" x=\"667.5\" y=\"-290.8\" font-family=\"Helvetica,sans-Serif\" font-size=\"14.00\">sepal width (cm) &lt;= 3.1</text>\n",
       "<text text-anchor=\"middle\" x=\"667.5\" y=\"-275.8\" font-family=\"Helvetica,sans-Serif\" font-size=\"14.00\">gini = 0.5</text>\n",
       "<text text-anchor=\"middle\" x=\"667.5\" y=\"-260.8\" font-family=\"Helvetica,sans-Serif\" font-size=\"14.00\">samples = 2</text>\n",
       "<text text-anchor=\"middle\" x=\"667.5\" y=\"-245.8\" font-family=\"Helvetica,sans-Serif\" font-size=\"14.00\">value = [0, 1, 1]</text>\n",
       "<text text-anchor=\"middle\" x=\"667.5\" y=\"-230.8\" font-family=\"Helvetica,sans-Serif\" font-size=\"14.00\">class = versicolor</text>\n",
       "</g>\n",
       "<!-- 12&#45;&gt;13 -->\n",
       "<g id=\"edge13\" class=\"edge\">\n",
       "<title>12&#45;&gt;13</title>\n",
       "<path fill=\"none\" stroke=\"black\" d=\"M667.5,-341.91C667.5,-333.65 667.5,-324.86 667.5,-316.3\"/>\n",
       "<polygon fill=\"black\" stroke=\"black\" points=\"671,-316.02 667.5,-306.02 664,-316.02 671,-316.02\"/>\n",
       "</g>\n",
       "<!-- 16 -->\n",
       "<g id=\"node17\" class=\"node\">\n",
       "<title>16</title>\n",
       "<polygon fill=\"#8139e5\" stroke=\"black\" points=\"889,-298.5 768,-298.5 768,-230.5 889,-230.5 889,-298.5\"/>\n",
       "<text text-anchor=\"middle\" x=\"828.5\" y=\"-283.3\" font-family=\"Helvetica,sans-Serif\" font-size=\"14.00\">gini = 0.0</text>\n",
       "<text text-anchor=\"middle\" x=\"828.5\" y=\"-268.3\" font-family=\"Helvetica,sans-Serif\" font-size=\"14.00\">samples = 39</text>\n",
       "<text text-anchor=\"middle\" x=\"828.5\" y=\"-253.3\" font-family=\"Helvetica,sans-Serif\" font-size=\"14.00\">value = [0, 0, 39]</text>\n",
       "<text text-anchor=\"middle\" x=\"828.5\" y=\"-238.3\" font-family=\"Helvetica,sans-Serif\" font-size=\"14.00\">class = virginica</text>\n",
       "</g>\n",
       "<!-- 12&#45;&gt;16 -->\n",
       "<g id=\"edge16\" class=\"edge\">\n",
       "<title>12&#45;&gt;16</title>\n",
       "<path fill=\"none\" stroke=\"black\" d=\"M723.36,-341.91C739.91,-329.88 758,-316.73 774.43,-304.79\"/>\n",
       "<polygon fill=\"black\" stroke=\"black\" points=\"776.83,-307.38 782.86,-298.67 772.71,-301.71 776.83,-307.38\"/>\n",
       "</g>\n",
       "<!-- 14 -->\n",
       "<g id=\"node15\" class=\"node\">\n",
       "<title>14</title>\n",
       "<polygon fill=\"#8139e5\" stroke=\"black\" points=\"725.5,-179.5 609.5,-179.5 609.5,-111.5 725.5,-111.5 725.5,-179.5\"/>\n",
       "<text text-anchor=\"middle\" x=\"667.5\" y=\"-164.3\" font-family=\"Helvetica,sans-Serif\" font-size=\"14.00\">gini = 0.0</text>\n",
       "<text text-anchor=\"middle\" x=\"667.5\" y=\"-149.3\" font-family=\"Helvetica,sans-Serif\" font-size=\"14.00\">samples = 1</text>\n",
       "<text text-anchor=\"middle\" x=\"667.5\" y=\"-134.3\" font-family=\"Helvetica,sans-Serif\" font-size=\"14.00\">value = [0, 0, 1]</text>\n",
       "<text text-anchor=\"middle\" x=\"667.5\" y=\"-119.3\" font-family=\"Helvetica,sans-Serif\" font-size=\"14.00\">class = virginica</text>\n",
       "</g>\n",
       "<!-- 13&#45;&gt;14 -->\n",
       "<g id=\"edge14\" class=\"edge\">\n",
       "<title>13&#45;&gt;14</title>\n",
       "<path fill=\"none\" stroke=\"black\" d=\"M667.5,-222.91C667.5,-212.2 667.5,-200.62 667.5,-189.78\"/>\n",
       "<polygon fill=\"black\" stroke=\"black\" points=\"671,-189.67 667.5,-179.67 664,-189.67 671,-189.67\"/>\n",
       "</g>\n",
       "<!-- 15 -->\n",
       "<g id=\"node16\" class=\"node\">\n",
       "<title>15</title>\n",
       "<polygon fill=\"#39e581\" stroke=\"black\" points=\"871,-179.5 744,-179.5 744,-111.5 871,-111.5 871,-179.5\"/>\n",
       "<text text-anchor=\"middle\" x=\"807.5\" y=\"-164.3\" font-family=\"Helvetica,sans-Serif\" font-size=\"14.00\">gini = 0.0</text>\n",
       "<text text-anchor=\"middle\" x=\"807.5\" y=\"-149.3\" font-family=\"Helvetica,sans-Serif\" font-size=\"14.00\">samples = 1</text>\n",
       "<text text-anchor=\"middle\" x=\"807.5\" y=\"-134.3\" font-family=\"Helvetica,sans-Serif\" font-size=\"14.00\">value = [0, 1, 0]</text>\n",
       "<text text-anchor=\"middle\" x=\"807.5\" y=\"-119.3\" font-family=\"Helvetica,sans-Serif\" font-size=\"14.00\">class = versicolor</text>\n",
       "</g>\n",
       "<!-- 13&#45;&gt;15 -->\n",
       "<g id=\"edge15\" class=\"edge\">\n",
       "<title>13&#45;&gt;15</title>\n",
       "<path fill=\"none\" stroke=\"black\" d=\"M716.07,-222.91C730.33,-210.99 745.91,-197.98 760.09,-186.12\"/>\n",
       "<polygon fill=\"black\" stroke=\"black\" points=\"762.38,-188.77 767.81,-179.67 757.9,-183.39 762.38,-188.77\"/>\n",
       "</g>\n",
       "</g>\n",
       "</svg>\n"
      ],
      "text/plain": [
       "<graphviz.sources.Source at 0x20baa79dcd0>"
      ]
     },
     "execution_count": 20,
     "metadata": {},
     "output_type": "execute_result"
    }
   ],
   "source": [
    "# open(filename, mode)\n",
    "# mode : r(def), w, a\n",
    "# graphviz 파이썬 래퍼 모듈을 호출해 결정트리 규칙을 시각화한다.\n",
    "with open('tree.dot') as f:\n",
    "    dot_graph = f.read()\n",
    "\n",
    "src = graphviz.Source(dot_graph)\n",
    "src"
   ]
  },
  {
   "cell_type": "code",
   "execution_count": 21,
   "id": "73428a7d-2536-474b-ba09-818bbe74b832",
   "metadata": {
    "execution": {
     "iopub.execute_input": "2022-11-04T05:30:02.472715Z",
     "iopub.status.busy": "2022-11-04T05:30:02.472715Z",
     "iopub.status.idle": "2022-11-04T05:30:02.488714Z",
     "shell.execute_reply": "2022-11-04T05:30:02.487708Z",
     "shell.execute_reply.started": "2022-11-04T05:30:02.472715Z"
    },
    "tags": []
   },
   "outputs": [],
   "source": [
    "# 결정트리를 pdf 파일로 생성 : Source.gv, Source.gv.pdf 두개의 파일이 생성\n",
    "# src.view()"
   ]
  },
  {
   "cell_type": "code",
   "execution_count": 22,
   "id": "1de144f1-75d7-4605-8401-8dcf77794c8f",
   "metadata": {
    "execution": {
     "iopub.execute_input": "2022-11-04T05:30:02.489715Z",
     "iopub.status.busy": "2022-11-04T05:30:02.489715Z",
     "iopub.status.idle": "2022-11-04T05:30:02.504231Z",
     "shell.execute_reply": "2022-11-04T05:30:02.503243Z",
     "shell.execute_reply.started": "2022-11-04T05:30:02.489715Z"
    },
    "tags": []
   },
   "outputs": [
    {
     "name": "stdout",
     "output_type": "stream",
     "text": [
      "1.0\n",
      "1.0\n"
     ]
    }
   ],
   "source": [
    "print(dtree.score(X_train, y_train))\n",
    "print(dtree.score(X_test, y_test))"
   ]
  },
  {
   "cell_type": "markdown",
   "id": "729c02a0-2100-4968-8302-7c7ab95fb9a5",
   "metadata": {
    "tags": []
   },
   "source": [
    "## DecisionTree의 중요 하이퍼파라미터 튜닝"
   ]
  },
  {
   "cell_type": "code",
   "execution_count": 23,
   "id": "1286402f-1cf8-4eec-a872-be5e05223ee8",
   "metadata": {
    "execution": {
     "iopub.execute_input": "2022-11-04T05:30:02.505514Z",
     "iopub.status.busy": "2022-11-04T05:30:02.505514Z",
     "iopub.status.idle": "2022-11-04T05:30:02.518669Z",
     "shell.execute_reply": "2022-11-04T05:30:02.518669Z",
     "shell.execute_reply.started": "2022-11-04T05:30:02.505514Z"
    },
    "tags": []
   },
   "outputs": [
    {
     "data": {
      "text/plain": [
       "DecisionTreeClassifier(min_samples_split=4, random_state=121)"
      ]
     },
     "execution_count": 23,
     "metadata": {},
     "output_type": "execute_result"
    }
   ],
   "source": [
    "# from sklearn.tree import DecisionTreeClassifier\n",
    "model = DecisionTreeClassifier(min_samples_split=4, random_state=121)\n",
    "model.fit(X_train, y_train)"
   ]
  },
  {
   "cell_type": "code",
   "execution_count": 24,
   "id": "ae6b5fe5-233c-4241-a41b-fc7a0b24ad0e",
   "metadata": {
    "execution": {
     "iopub.execute_input": "2022-11-04T05:30:02.519669Z",
     "iopub.status.busy": "2022-11-04T05:30:02.519669Z",
     "iopub.status.idle": "2022-11-04T05:30:02.534554Z",
     "shell.execute_reply": "2022-11-04T05:30:02.534554Z",
     "shell.execute_reply.started": "2022-11-04T05:30:02.519669Z"
    },
    "tags": []
   },
   "outputs": [
    {
     "name": "stdout",
     "output_type": "stream",
     "text": [
      "0.9833333333333333\n",
      "0.9666666666666667\n"
     ]
    }
   ],
   "source": [
    "print(model.score(X_train, y_train))\n",
    "print(model.score(X_test, y_test))"
   ]
  },
  {
   "cell_type": "markdown",
   "id": "717f60b6-b977-4d53-b34a-b8e4fc57b8cc",
   "metadata": {
    "tags": []
   },
   "source": [
    "## feature 별 결정트리 알고리즘의 중요도"
   ]
  },
  {
   "cell_type": "code",
   "execution_count": 25,
   "id": "b275ec18-be92-4d20-8edc-21599ea4b5c7",
   "metadata": {
    "execution": {
     "iopub.execute_input": "2022-11-04T05:30:02.535555Z",
     "iopub.status.busy": "2022-11-04T05:30:02.535555Z",
     "iopub.status.idle": "2022-11-04T05:30:02.550610Z",
     "shell.execute_reply": "2022-11-04T05:30:02.550610Z",
     "shell.execute_reply.started": "2022-11-04T05:30:02.535555Z"
    },
    "tags": []
   },
   "outputs": [
    {
     "data": {
      "text/plain": [
       "array([0.        , 0.        , 0.56028618, 0.43971382])"
      ]
     },
     "execution_count": 25,
     "metadata": {},
     "output_type": "execute_result"
    }
   ],
   "source": [
    "model.feature_importances_"
   ]
  },
  {
   "cell_type": "markdown",
   "id": "9e10adc1-a9ef-42a5-8050-96667ba240ec",
   "metadata": {},
   "source": [
    "### feature 별 중요도 값 매칭"
   ]
  },
  {
   "cell_type": "code",
   "execution_count": 26,
   "id": "bb8b1c48-3a0f-459c-b42f-3fee5e532cb7",
   "metadata": {
    "execution": {
     "iopub.execute_input": "2022-11-04T05:30:02.550610Z",
     "iopub.status.busy": "2022-11-04T05:30:02.550610Z",
     "iopub.status.idle": "2022-11-04T05:30:02.565889Z",
     "shell.execute_reply": "2022-11-04T05:30:02.565889Z",
     "shell.execute_reply.started": "2022-11-04T05:30:02.550610Z"
    },
    "tags": []
   },
   "outputs": [
    {
     "name": "stdout",
     "output_type": "stream",
     "text": [
      "sepal length (cm) : 0.000\n",
      "sepal width (cm) : 0.000\n",
      "petal length (cm) : 0.560\n",
      "petal width (cm) : 0.440\n"
     ]
    }
   ],
   "source": [
    "for name, value in zip(iris.feature_names, model.feature_importances_):\n",
    "    print('{} : {:.3f}'.format(name, value))"
   ]
  },
  {
   "cell_type": "markdown",
   "id": "0b989e05-1bc6-490e-845d-921e9dc4c8e8",
   "metadata": {},
   "source": [
    "### feature 별 중요도 시각화"
   ]
  },
  {
   "cell_type": "code",
   "execution_count": 27,
   "id": "6dd34816-21fa-4252-8b67-27ee7d50dc69",
   "metadata": {
    "execution": {
     "iopub.execute_input": "2022-11-04T05:30:02.565889Z",
     "iopub.status.busy": "2022-11-04T05:30:02.565889Z",
     "iopub.status.idle": "2022-11-04T05:30:02.676117Z",
     "shell.execute_reply": "2022-11-04T05:30:02.676117Z",
     "shell.execute_reply.started": "2022-11-04T05:30:02.565889Z"
    },
    "tags": []
   },
   "outputs": [
    {
     "data": {
      "text/plain": [
       "<AxesSubplot:>"
      ]
     },
     "execution_count": 27,
     "metadata": {},
     "output_type": "execute_result"
    },
    {
     "data": {
      "image/png": "[encoded data removed]",
      "text/plain": [
       "<Figure size 640x480 with 1 Axes>"
      ]
     },
     "metadata": {},
     "output_type": "display_data"
    }
   ],
   "source": [
    "# import seaborn as sns\n",
    "sns.barplot(model.feature_importances_, iris.feature_names)"
   ]
  },
  {
   "cell_type": "markdown",
   "id": "1a64cd49-236e-40f5-93b0-49502bfd8927",
   "metadata": {
    "tags": []
   },
   "source": [
    "## 가지치기(prunning)\n",
    "- Tree prunning : 의사결정 트리 모델의 과적합을 줄이고, 일반화 가능성을 증대시키는 subtree를 찾는 과정\n",
    "- 가지치기 방법\n",
    "    - cross-validation\n",
    "    - independent validation set\n",
    "- Prunning Logic\n",
    "    - 가치지기 과정에서는 트리 해당 데이터셋에 과도하게 최적화되지 않도록 결정트리의 최대 깊이를 제한하고,\n",
    "      leaf node의 최대 개수를 제한한다.\n",
    "    - 노드를 분할시키기 위해 필요한 '최소한의 데이터 개수'를 지정한다."
   ]
  },
  {
   "cell_type": "markdown",
   "id": "29f89965-6b35-4b78-ad5f-db13ac4ac20d",
   "metadata": {},
   "source": [
    "## 그리드 서치(Grid Search)\n",
    "- 결정틜의 하이퍼파라미터 값을 바꿔가며 가장 좋은 성능이 나오는 모델을 찾는 작업\n",
    "- 테스트 세트를 사용하지 않고 교차검증을 통해 좋은 모델을 선택"
   ]
  },
  {
   "cell_type": "code",
   "execution_count": 28,
   "id": "c800bcd3-85a6-474b-844f-5adbdaac29ae",
   "metadata": {
    "execution": {
     "iopub.execute_input": "2022-11-04T05:30:02.678103Z",
     "iopub.status.busy": "2022-11-04T05:30:02.677122Z",
     "iopub.status.idle": "2022-11-04T05:30:06.718209Z",
     "shell.execute_reply": "2022-11-04T05:30:06.717206Z",
     "shell.execute_reply.started": "2022-11-04T05:30:02.677122Z"
    },
    "tags": []
   },
   "outputs": [
    {
     "data": {
      "text/plain": [
       "GridSearchCV(cv=3, estimator=DecisionTreeClassifier(random_state=2022),\n",
       "             n_jobs=-1,\n",
       "             param_grid={'max_depth': [2, 3, 4, 5, 6, None],\n",
       "                         'min_samples_leaf': [1, 2, 3, 4, 5, 6, 7, 8, 9],\n",
       "                         'min_samples_split': [2, 3, 4, 5, 6, 7, 8, 9, 10]})"
      ]
     },
     "execution_count": 28,
     "metadata": {},
     "output_type": "execute_result"
    }
   ],
   "source": [
    "model = DecisionTreeClassifier(random_state=2022)\n",
    "\n",
    "params = {\n",
    "    'max_depth': [2, 3, 4, 5, 6, None],\n",
    "    'min_samples_leaf': [1, 2, 3, 4, 5, 6, 7, 8, 9],\n",
    "    'min_samples_split': [2, 3, 4, 5, 6, 7, 8, 9, 10]\n",
    "}\n",
    "\n",
    "gs = GridSearchCV(model, param_grid=params, cv=3, refit=True, n_jobs=-1)\n",
    "gs.fit(X_train, y_train)"
   ]
  },
  {
   "cell_type": "code",
   "execution_count": 29,
   "id": "dc31a9be-d554-4bf5-9939-5e021dacbb57",
   "metadata": {
    "execution": {
     "iopub.execute_input": "2022-11-04T05:30:06.722365Z",
     "iopub.status.busy": "2022-11-04T05:30:06.721520Z",
     "iopub.status.idle": "2022-11-04T05:30:06.748079Z",
     "shell.execute_reply": "2022-11-04T05:30:06.748079Z",
     "shell.execute_reply.started": "2022-11-04T05:30:06.721520Z"
    },
    "tags": []
   },
   "outputs": [
    {
     "name": "stdout",
     "output_type": "stream",
     "text": [
      "{'max_depth': 3, 'min_samples_leaf': 1, 'min_samples_split': 2}\n"
     ]
    }
   ],
   "source": [
    "print(gs.best_params_)"
   ]
  },
  {
   "cell_type": "code",
   "execution_count": 30,
   "id": "6f809e9b-9917-4659-8e9b-4fbf5e8f7913",
   "metadata": {
    "execution": {
     "iopub.execute_input": "2022-11-04T05:30:06.749082Z",
     "iopub.status.busy": "2022-11-04T05:30:06.749082Z",
     "iopub.status.idle": "2022-11-04T05:30:06.764626Z",
     "shell.execute_reply": "2022-11-04T05:30:06.763625Z",
     "shell.execute_reply.started": "2022-11-04T05:30:06.749082Z"
    },
    "tags": []
   },
   "outputs": [
    {
     "name": "stdout",
     "output_type": "stream",
     "text": [
      "0.9499999999999998\n"
     ]
    }
   ],
   "source": [
    "print(gs.best_score_)"
   ]
  },
  {
   "cell_type": "code",
   "execution_count": 31,
   "id": "8d19bc85-883e-40f1-a0fc-19c21b6ce58a",
   "metadata": {
    "execution": {
     "iopub.execute_input": "2022-11-04T05:30:06.766608Z",
     "iopub.status.busy": "2022-11-04T05:30:06.766608Z",
     "iopub.status.idle": "2022-11-04T05:30:06.780401Z",
     "shell.execute_reply": "2022-11-04T05:30:06.778795Z",
     "shell.execute_reply.started": "2022-11-04T05:30:06.766608Z"
    },
    "tags": []
   },
   "outputs": [
    {
     "data": {
      "text/plain": [
       "dict_keys(['mean_fit_time', 'std_fit_time', 'mean_score_time', 'std_score_time', 'param_max_depth', 'param_min_samples_leaf', 'param_min_samples_split', 'params', 'split0_test_score', 'split1_test_score', 'split2_test_score', 'mean_test_score', 'std_test_score', 'rank_test_score'])"
      ]
     },
     "execution_count": 31,
     "metadata": {},
     "output_type": "execute_result"
    }
   ],
   "source": [
    "gs.cv_results_.keys()"
   ]
  },
  {
   "cell_type": "code",
   "execution_count": 32,
   "id": "6edc882f-78c9-4e6e-87dc-5295695504d6",
   "metadata": {
    "execution": {
     "iopub.execute_input": "2022-11-04T05:30:06.780401Z",
     "iopub.status.busy": "2022-11-04T05:30:06.780401Z",
     "iopub.status.idle": "2022-11-04T05:30:06.795357Z",
     "shell.execute_reply": "2022-11-04T05:30:06.794358Z",
     "shell.execute_reply.started": "2022-11-04T05:30:06.780401Z"
    },
    "tags": []
   },
   "outputs": [
    {
     "data": {
      "text/plain": [
       "0.9499999999999998"
      ]
     },
     "execution_count": 32,
     "metadata": {},
     "output_type": "execute_result"
    }
   ],
   "source": [
    "np.max(gs.cv_results_['mean_test_score'])"
   ]
  },
  {
   "cell_type": "code",
   "execution_count": 33,
   "id": "e708ab60-d567-4107-8ee4-a129263e6bdb",
   "metadata": {
    "execution": {
     "iopub.execute_input": "2022-11-04T05:30:06.797838Z",
     "iopub.status.busy": "2022-11-04T05:30:06.796767Z",
     "iopub.status.idle": "2022-11-04T05:30:06.810765Z",
     "shell.execute_reply": "2022-11-04T05:30:06.809765Z",
     "shell.execute_reply.started": "2022-11-04T05:30:06.797838Z"
    },
    "tags": []
   },
   "outputs": [
    {
     "name": "stdout",
     "output_type": "stream",
     "text": [
      "0.9666666666666667\n",
      "0.9666666666666667\n"
     ]
    }
   ],
   "source": [
    "model = DecisionTreeClassifier(max_depth=3, min_samples_leaf=1,\n",
    "                               min_samples_split=2, random_state=2022)\n",
    "model.fit(X_train, y_train)\n",
    "print(model.score(X_train, y_train))\n",
    "print(model.score(X_test, y_test))"
   ]
  },
  {
   "cell_type": "code",
   "execution_count": 34,
   "id": "f7b13f07-6827-4d3f-bcdd-3b518fb0200d",
   "metadata": {
    "execution": {
     "iopub.execute_input": "2022-11-04T05:30:06.811779Z",
     "iopub.status.busy": "2022-11-04T05:30:06.811779Z",
     "iopub.status.idle": "2022-11-04T05:30:06.826220Z",
     "shell.execute_reply": "2022-11-04T05:30:06.825218Z",
     "shell.execute_reply.started": "2022-11-04T05:30:06.811779Z"
    },
    "tags": []
   },
   "outputs": [
    {
     "data": {
      "text/plain": [
       "0.9666666666666667"
      ]
     },
     "execution_count": 34,
     "metadata": {},
     "output_type": "execute_result"
    }
   ],
   "source": [
    "model = gs.best_estimator_\n",
    "pred_y = model.predict(X_test)\n",
    "accuracy_score(y_test, pred_y)"
   ]
  }
 ],
 "metadata": {
  "kernelspec": {
   "display_name": "Python 3 (ipykernel)",
   "language": "python",
   "name": "python3"
  },
  "language_info": {
   "codemirror_mode": {
    "name": "ipython",
    "version": 3
   },
   "file_extension": ".py",
   "mimetype": "text/x-python",
   "name": "python",
   "nbconvert_exporter": "python",
   "pygments_lexer": "ipython3",
   "version": "3.9.13"
  }
 },
 "nbformat": 4,
 "nbformat_minor": 5
}
