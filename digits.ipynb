{
 "cells": [
  {
   "cell_type": "markdown",
   "id": "a74d7082-f0a1-401c-a96c-c5aba7ef3fe0",
   "metadata": {
    "tags": []
   },
   "source": [
    "# 숫자 인식"
   ]
  },
  {
   "cell_type": "markdown",
   "id": "4130ed9b-769f-4284-ab0a-e692e50e72ef",
   "metadata": {},
   "source": [
    "## 라이브러리 로딩 "
   ]
  },
  {
   "cell_type": "code",
   "execution_count": 213,
   "id": "5c8cfb51-43b5-494e-ad68-da43390c1b36",
   "metadata": {
    "execution": {
     "iopub.execute_input": "2022-11-04T07:55:19.321689Z",
     "iopub.status.busy": "2022-11-04T07:55:19.321689Z",
     "iopub.status.idle": "2022-11-04T07:55:19.353795Z",
     "shell.execute_reply": "2022-11-04T07:55:19.352785Z",
     "shell.execute_reply.started": "2022-11-04T07:55:19.321689Z"
    },
    "tags": []
   },
   "outputs": [],
   "source": [
    "import numpy as np\n",
    "import pandas as pd\n",
    "import seaborn as sns\n",
    "import matplotlib.pyplot as plt\n",
    "from sklearn.datasets import load_digits\n",
    "from sklearn.neighbors import KNeighborsClassifier, KNeighborsRegressor\n",
    "from sklearn.metrics import mean_squared_error, accuracy_score, precision_score, recall_score, confusion_matrix\n",
    "from sklearn.linear_model import LinearRegression, Ridge, Lasso\n",
    "from sklearn.preprocessing import PolynomialFeatures, MinMaxScaler\n",
    "from sklearn.model_selection import train_test_split, GridSearchCV, cross_validate, StratifiedKFold\n",
    "import warnings\n",
    "warnings.simplefilter(action='ignore', category=FutureWarning)\n",
    "%matplotlib inline\n",
    "plt.rc('font', family='D2coding')\n",
    "%config Completer.use_jedi = False"
   ]
  },
  {
   "cell_type": "markdown",
   "id": "95073514-b040-411a-bfe5-bc53844f5323",
   "metadata": {},
   "source": [
    "## 데이터셋 로딩"
   ]
  },
  {
   "cell_type": "code",
   "execution_count": 3,
   "id": "14de56b0-1246-4445-b82f-391fb39fcb56",
   "metadata": {
    "execution": {
     "iopub.execute_input": "2022-11-04T05:34:53.912386Z",
     "iopub.status.busy": "2022-11-04T05:34:53.911386Z",
     "iopub.status.idle": "2022-11-04T05:34:54.055537Z",
     "shell.execute_reply": "2022-11-04T05:34:54.054344Z",
     "shell.execute_reply.started": "2022-11-04T05:34:53.912386Z"
    },
    "tags": []
   },
   "outputs": [
    {
     "data": {
      "text/plain": [
       "dict_keys(['data', 'target', 'frame', 'feature_names', 'target_names', 'images', 'DESCR'])"
      ]
     },
     "execution_count": 3,
     "metadata": {},
     "output_type": "execute_result"
    }
   ],
   "source": [
    "digits = load_digits()\n",
    "digits.keys()"
   ]
  },
  {
   "cell_type": "code",
   "execution_count": 5,
   "id": "c23ecdd2-cea3-4c12-8d54-95a377b2e0f6",
   "metadata": {
    "execution": {
     "iopub.execute_input": "2022-11-04T05:35:29.023111Z",
     "iopub.status.busy": "2022-11-04T05:35:29.023111Z",
     "iopub.status.idle": "2022-11-04T05:35:29.044941Z",
     "shell.execute_reply": "2022-11-04T05:35:29.043940Z",
     "shell.execute_reply.started": "2022-11-04T05:35:29.023111Z"
    },
    "tags": []
   },
   "outputs": [
    {
     "name": "stdout",
     "output_type": "stream",
     "text": [
      ".. _digits_dataset:\n",
      "\n",
      "Optical recognition of handwritten digits dataset\n",
      "--------------------------------------------------\n",
      "\n",
      "**Data Set Characteristics:**\n",
      "\n",
      "    :Number of Instances: 1797\n",
      "    :Number of Attributes: 64\n",
      "    :Attribute Information: 8x8 image of integer pixels in the range 0..16.\n",
      "    :Missing Attribute Values: None\n",
      "    :Creator: E. Alpaydin (alpaydin '@' boun.edu.tr)\n",
      "    :Date: July; 1998\n",
      "\n",
      "This is a copy of the test set of the UCI ML hand-written digits datasets\n",
      "https://archive.ics.uci.edu/ml/datasets/Optical+Recognition+of+Handwritten+Digits\n",
      "\n",
      "The data set contains images of hand-written digits: 10 classes where\n",
      "each class refers to a digit.\n",
      "\n",
      "Preprocessing programs made available by NIST were used to extract\n",
      "normalized bitmaps of handwritten digits from a preprinted form. From a\n",
      "total of 43 people, 30 contributed to the training set and different 13\n",
      "to the test set. 32x32 bitmaps are divided into nonoverlapping blocks of\n",
      "4x4 and the number of on pixels are counted in each block. This generates\n",
      "an input matrix of 8x8 where each element is an integer in the range\n",
      "0..16. This reduces dimensionality and gives invariance to small\n",
      "distortions.\n",
      "\n",
      "For info on NIST preprocessing routines, see M. D. Garris, J. L. Blue, G.\n",
      "T. Candela, D. L. Dimmick, J. Geist, P. J. Grother, S. A. Janet, and C.\n",
      "L. Wilson, NIST Form-Based Handprint Recognition System, NISTIR 5469,\n",
      "1994.\n",
      "\n",
      ".. topic:: References\n",
      "\n",
      "  - C. Kaynak (1995) Methods of Combining Multiple Classifiers and Their\n",
      "    Applications to Handwritten Digit Recognition, MSc Thesis, Institute of\n",
      "    Graduate Studies in Science and Engineering, Bogazici University.\n",
      "  - E. Alpaydin, C. Kaynak (1998) Cascading Classifiers, Kybernetika.\n",
      "  - Ken Tang and Ponnuthurai N. Suganthan and Xi Yao and A. Kai Qin.\n",
      "    Linear dimensionalityreduction using relevance weighted LDA. School of\n",
      "    Electrical and Electronic Engineering Nanyang Technological University.\n",
      "    2005.\n",
      "  - Claudio Gentile. A New Approximate Maximal Margin Classification\n",
      "    Algorithm. NIPS. 2000.\n",
      "\n"
     ]
    }
   ],
   "source": [
    "print(digits.DESCR)"
   ]
  },
  {
   "cell_type": "code",
   "execution_count": 75,
   "id": "ffe2a2e6-d749-4a15-b5d4-a70acf1b83ef",
   "metadata": {
    "execution": {
     "iopub.execute_input": "2022-11-04T06:24:33.520476Z",
     "iopub.status.busy": "2022-11-04T06:24:33.520476Z",
     "iopub.status.idle": "2022-11-04T06:24:33.577166Z",
     "shell.execute_reply": "2022-11-04T06:24:33.575923Z",
     "shell.execute_reply.started": "2022-11-04T06:24:33.520476Z"
    },
    "tags": []
   },
   "outputs": [
    {
     "data": {
      "text/html": [
       "<div>\n",
       "<style scoped>\n",
       "    .dataframe tbody tr th:only-of-type {\n",
       "        vertical-align: middle;\n",
       "    }\n",
       "\n",
       "    .dataframe tbody tr th {\n",
       "        vertical-align: top;\n",
       "    }\n",
       "\n",
       "    .dataframe thead th {\n",
       "        text-align: right;\n",
       "    }\n",
       "</style>\n",
       "<table border=\"1\" class=\"dataframe\">\n",
       "  <thead>\n",
       "    <tr style=\"text-align: right;\">\n",
       "      <th></th>\n",
       "      <th>pixel_0_0</th>\n",
       "      <th>pixel_0_1</th>\n",
       "      <th>pixel_0_2</th>\n",
       "      <th>pixel_0_3</th>\n",
       "      <th>pixel_0_4</th>\n",
       "      <th>pixel_0_5</th>\n",
       "      <th>pixel_0_6</th>\n",
       "      <th>pixel_0_7</th>\n",
       "      <th>pixel_1_0</th>\n",
       "      <th>pixel_1_1</th>\n",
       "      <th>...</th>\n",
       "      <th>pixel_6_7</th>\n",
       "      <th>pixel_7_0</th>\n",
       "      <th>pixel_7_1</th>\n",
       "      <th>pixel_7_2</th>\n",
       "      <th>pixel_7_3</th>\n",
       "      <th>pixel_7_4</th>\n",
       "      <th>pixel_7_5</th>\n",
       "      <th>pixel_7_6</th>\n",
       "      <th>pixel_7_7</th>\n",
       "      <th>target</th>\n",
       "    </tr>\n",
       "  </thead>\n",
       "  <tbody>\n",
       "    <tr>\n",
       "      <th>0</th>\n",
       "      <td>0.0</td>\n",
       "      <td>0.0</td>\n",
       "      <td>3.0</td>\n",
       "      <td>12.0</td>\n",
       "      <td>16.0</td>\n",
       "      <td>10.0</td>\n",
       "      <td>0.0</td>\n",
       "      <td>0.0</td>\n",
       "      <td>0.0</td>\n",
       "      <td>2.0</td>\n",
       "      <td>...</td>\n",
       "      <td>0.0</td>\n",
       "      <td>0.0</td>\n",
       "      <td>0.0</td>\n",
       "      <td>5.0</td>\n",
       "      <td>13.0</td>\n",
       "      <td>0.0</td>\n",
       "      <td>0.0</td>\n",
       "      <td>0.0</td>\n",
       "      <td>0.0</td>\n",
       "      <td>7</td>\n",
       "    </tr>\n",
       "    <tr>\n",
       "      <th>1</th>\n",
       "      <td>0.0</td>\n",
       "      <td>0.0</td>\n",
       "      <td>7.0</td>\n",
       "      <td>14.0</td>\n",
       "      <td>16.0</td>\n",
       "      <td>11.0</td>\n",
       "      <td>0.0</td>\n",
       "      <td>0.0</td>\n",
       "      <td>0.0</td>\n",
       "      <td>2.0</td>\n",
       "      <td>...</td>\n",
       "      <td>0.0</td>\n",
       "      <td>0.0</td>\n",
       "      <td>0.0</td>\n",
       "      <td>6.0</td>\n",
       "      <td>16.0</td>\n",
       "      <td>12.0</td>\n",
       "      <td>5.0</td>\n",
       "      <td>0.0</td>\n",
       "      <td>0.0</td>\n",
       "      <td>3</td>\n",
       "    </tr>\n",
       "    <tr>\n",
       "      <th>2</th>\n",
       "      <td>0.0</td>\n",
       "      <td>0.0</td>\n",
       "      <td>0.0</td>\n",
       "      <td>6.0</td>\n",
       "      <td>16.0</td>\n",
       "      <td>4.0</td>\n",
       "      <td>0.0</td>\n",
       "      <td>0.0</td>\n",
       "      <td>0.0</td>\n",
       "      <td>0.0</td>\n",
       "      <td>...</td>\n",
       "      <td>0.0</td>\n",
       "      <td>0.0</td>\n",
       "      <td>0.0</td>\n",
       "      <td>0.0</td>\n",
       "      <td>7.0</td>\n",
       "      <td>16.0</td>\n",
       "      <td>3.0</td>\n",
       "      <td>0.0</td>\n",
       "      <td>0.0</td>\n",
       "      <td>4</td>\n",
       "    </tr>\n",
       "    <tr>\n",
       "      <th>3</th>\n",
       "      <td>0.0</td>\n",
       "      <td>0.0</td>\n",
       "      <td>1.0</td>\n",
       "      <td>12.0</td>\n",
       "      <td>16.0</td>\n",
       "      <td>14.0</td>\n",
       "      <td>2.0</td>\n",
       "      <td>0.0</td>\n",
       "      <td>0.0</td>\n",
       "      <td>0.0</td>\n",
       "      <td>...</td>\n",
       "      <td>0.0</td>\n",
       "      <td>0.0</td>\n",
       "      <td>0.0</td>\n",
       "      <td>3.0</td>\n",
       "      <td>12.0</td>\n",
       "      <td>16.0</td>\n",
       "      <td>11.0</td>\n",
       "      <td>1.0</td>\n",
       "      <td>0.0</td>\n",
       "      <td>9</td>\n",
       "    </tr>\n",
       "    <tr>\n",
       "      <th>4</th>\n",
       "      <td>0.0</td>\n",
       "      <td>0.0</td>\n",
       "      <td>4.0</td>\n",
       "      <td>16.0</td>\n",
       "      <td>16.0</td>\n",
       "      <td>4.0</td>\n",
       "      <td>0.0</td>\n",
       "      <td>0.0</td>\n",
       "      <td>0.0</td>\n",
       "      <td>0.0</td>\n",
       "      <td>...</td>\n",
       "      <td>0.0</td>\n",
       "      <td>0.0</td>\n",
       "      <td>0.0</td>\n",
       "      <td>4.0</td>\n",
       "      <td>13.0</td>\n",
       "      <td>10.0</td>\n",
       "      <td>0.0</td>\n",
       "      <td>0.0</td>\n",
       "      <td>0.0</td>\n",
       "      <td>0</td>\n",
       "    </tr>\n",
       "    <tr>\n",
       "      <th>...</th>\n",
       "      <td>...</td>\n",
       "      <td>...</td>\n",
       "      <td>...</td>\n",
       "      <td>...</td>\n",
       "      <td>...</td>\n",
       "      <td>...</td>\n",
       "      <td>...</td>\n",
       "      <td>...</td>\n",
       "      <td>...</td>\n",
       "      <td>...</td>\n",
       "      <td>...</td>\n",
       "      <td>...</td>\n",
       "      <td>...</td>\n",
       "      <td>...</td>\n",
       "      <td>...</td>\n",
       "      <td>...</td>\n",
       "      <td>...</td>\n",
       "      <td>...</td>\n",
       "      <td>...</td>\n",
       "      <td>...</td>\n",
       "      <td>...</td>\n",
       "    </tr>\n",
       "    <tr>\n",
       "      <th>1792</th>\n",
       "      <td>0.0</td>\n",
       "      <td>0.0</td>\n",
       "      <td>6.0</td>\n",
       "      <td>13.0</td>\n",
       "      <td>0.0</td>\n",
       "      <td>0.0</td>\n",
       "      <td>0.0</td>\n",
       "      <td>0.0</td>\n",
       "      <td>0.0</td>\n",
       "      <td>0.0</td>\n",
       "      <td>...</td>\n",
       "      <td>1.0</td>\n",
       "      <td>0.0</td>\n",
       "      <td>0.0</td>\n",
       "      <td>6.0</td>\n",
       "      <td>16.0</td>\n",
       "      <td>16.0</td>\n",
       "      <td>16.0</td>\n",
       "      <td>16.0</td>\n",
       "      <td>12.0</td>\n",
       "      <td>1</td>\n",
       "    </tr>\n",
       "    <tr>\n",
       "      <th>1793</th>\n",
       "      <td>0.0</td>\n",
       "      <td>0.0</td>\n",
       "      <td>4.0</td>\n",
       "      <td>12.0</td>\n",
       "      <td>1.0</td>\n",
       "      <td>0.0</td>\n",
       "      <td>0.0</td>\n",
       "      <td>0.0</td>\n",
       "      <td>0.0</td>\n",
       "      <td>0.0</td>\n",
       "      <td>...</td>\n",
       "      <td>0.0</td>\n",
       "      <td>0.0</td>\n",
       "      <td>0.0</td>\n",
       "      <td>5.0</td>\n",
       "      <td>13.0</td>\n",
       "      <td>16.0</td>\n",
       "      <td>11.0</td>\n",
       "      <td>1.0</td>\n",
       "      <td>0.0</td>\n",
       "      <td>6</td>\n",
       "    </tr>\n",
       "    <tr>\n",
       "      <th>1794</th>\n",
       "      <td>0.0</td>\n",
       "      <td>0.0</td>\n",
       "      <td>4.0</td>\n",
       "      <td>16.0</td>\n",
       "      <td>16.0</td>\n",
       "      <td>16.0</td>\n",
       "      <td>3.0</td>\n",
       "      <td>0.0</td>\n",
       "      <td>0.0</td>\n",
       "      <td>0.0</td>\n",
       "      <td>...</td>\n",
       "      <td>0.0</td>\n",
       "      <td>0.0</td>\n",
       "      <td>0.0</td>\n",
       "      <td>5.0</td>\n",
       "      <td>13.0</td>\n",
       "      <td>3.0</td>\n",
       "      <td>0.0</td>\n",
       "      <td>0.0</td>\n",
       "      <td>0.0</td>\n",
       "      <td>7</td>\n",
       "    </tr>\n",
       "    <tr>\n",
       "      <th>1795</th>\n",
       "      <td>0.0</td>\n",
       "      <td>0.0</td>\n",
       "      <td>8.0</td>\n",
       "      <td>12.0</td>\n",
       "      <td>12.0</td>\n",
       "      <td>1.0</td>\n",
       "      <td>0.0</td>\n",
       "      <td>0.0</td>\n",
       "      <td>0.0</td>\n",
       "      <td>3.0</td>\n",
       "      <td>...</td>\n",
       "      <td>0.0</td>\n",
       "      <td>0.0</td>\n",
       "      <td>0.0</td>\n",
       "      <td>5.0</td>\n",
       "      <td>13.0</td>\n",
       "      <td>11.0</td>\n",
       "      <td>4.0</td>\n",
       "      <td>0.0</td>\n",
       "      <td>0.0</td>\n",
       "      <td>0</td>\n",
       "    </tr>\n",
       "    <tr>\n",
       "      <th>1796</th>\n",
       "      <td>0.0</td>\n",
       "      <td>0.0</td>\n",
       "      <td>3.0</td>\n",
       "      <td>11.0</td>\n",
       "      <td>15.0</td>\n",
       "      <td>8.0</td>\n",
       "      <td>0.0</td>\n",
       "      <td>0.0</td>\n",
       "      <td>0.0</td>\n",
       "      <td>3.0</td>\n",
       "      <td>...</td>\n",
       "      <td>0.0</td>\n",
       "      <td>0.0</td>\n",
       "      <td>0.0</td>\n",
       "      <td>3.0</td>\n",
       "      <td>16.0</td>\n",
       "      <td>15.0</td>\n",
       "      <td>8.0</td>\n",
       "      <td>1.0</td>\n",
       "      <td>0.0</td>\n",
       "      <td>9</td>\n",
       "    </tr>\n",
       "  </tbody>\n",
       "</table>\n",
       "<p>1797 rows × 65 columns</p>\n",
       "</div>"
      ],
      "text/plain": [
       "      pixel_0_0  pixel_0_1  pixel_0_2  pixel_0_3  pixel_0_4  pixel_0_5  \\\n",
       "0           0.0        0.0        3.0       12.0       16.0       10.0   \n",
       "1           0.0        0.0        7.0       14.0       16.0       11.0   \n",
       "2           0.0        0.0        0.0        6.0       16.0        4.0   \n",
       "3           0.0        0.0        1.0       12.0       16.0       14.0   \n",
       "4           0.0        0.0        4.0       16.0       16.0        4.0   \n",
       "...         ...        ...        ...        ...        ...        ...   \n",
       "1792        0.0        0.0        6.0       13.0        0.0        0.0   \n",
       "1793        0.0        0.0        4.0       12.0        1.0        0.0   \n",
       "1794        0.0        0.0        4.0       16.0       16.0       16.0   \n",
       "1795        0.0        0.0        8.0       12.0       12.0        1.0   \n",
       "1796        0.0        0.0        3.0       11.0       15.0        8.0   \n",
       "\n",
       "      pixel_0_6  pixel_0_7  pixel_1_0  pixel_1_1  ...  pixel_6_7  pixel_7_0  \\\n",
       "0           0.0        0.0        0.0        2.0  ...        0.0        0.0   \n",
       "1           0.0        0.0        0.0        2.0  ...        0.0        0.0   \n",
       "2           0.0        0.0        0.0        0.0  ...        0.0        0.0   \n",
       "3           2.0        0.0        0.0        0.0  ...        0.0        0.0   \n",
       "4           0.0        0.0        0.0        0.0  ...        0.0        0.0   \n",
       "...         ...        ...        ...        ...  ...        ...        ...   \n",
       "1792        0.0        0.0        0.0        0.0  ...        1.0        0.0   \n",
       "1793        0.0        0.0        0.0        0.0  ...        0.0        0.0   \n",
       "1794        3.0        0.0        0.0        0.0  ...        0.0        0.0   \n",
       "1795        0.0        0.0        0.0        3.0  ...        0.0        0.0   \n",
       "1796        0.0        0.0        0.0        3.0  ...        0.0        0.0   \n",
       "\n",
       "      pixel_7_1  pixel_7_2  pixel_7_3  pixel_7_4  pixel_7_5  pixel_7_6  \\\n",
       "0           0.0        5.0       13.0        0.0        0.0        0.0   \n",
       "1           0.0        6.0       16.0       12.0        5.0        0.0   \n",
       "2           0.0        0.0        7.0       16.0        3.0        0.0   \n",
       "3           0.0        3.0       12.0       16.0       11.0        1.0   \n",
       "4           0.0        4.0       13.0       10.0        0.0        0.0   \n",
       "...         ...        ...        ...        ...        ...        ...   \n",
       "1792        0.0        6.0       16.0       16.0       16.0       16.0   \n",
       "1793        0.0        5.0       13.0       16.0       11.0        1.0   \n",
       "1794        0.0        5.0       13.0        3.0        0.0        0.0   \n",
       "1795        0.0        5.0       13.0       11.0        4.0        0.0   \n",
       "1796        0.0        3.0       16.0       15.0        8.0        1.0   \n",
       "\n",
       "      pixel_7_7  target  \n",
       "0           0.0       7  \n",
       "1           0.0       3  \n",
       "2           0.0       4  \n",
       "3           0.0       9  \n",
       "4           0.0       0  \n",
       "...         ...     ...  \n",
       "1792       12.0       1  \n",
       "1793        0.0       6  \n",
       "1794        0.0       7  \n",
       "1795        0.0       0  \n",
       "1796        0.0       9  \n",
       "\n",
       "[1797 rows x 65 columns]"
      ]
     },
     "execution_count": 75,
     "metadata": {},
     "output_type": "execute_result"
    }
   ],
   "source": [
    "df = pd.DataFrame(digits.data, columns=digits.feature_names)\n",
    "df['target'] = digits.target\n",
    "df.sample(frac=1).reset_index(drop=True)"
   ]
  },
  {
   "cell_type": "code",
   "execution_count": 215,
   "id": "59e069f9-1acc-4691-8436-3a04c2a4961c",
   "metadata": {
    "execution": {
     "iopub.execute_input": "2022-11-04T07:56:10.043522Z",
     "iopub.status.busy": "2022-11-04T07:56:10.043522Z",
     "iopub.status.idle": "2022-11-04T07:56:10.066171Z",
     "shell.execute_reply": "2022-11-04T07:56:10.065267Z",
     "shell.execute_reply.started": "2022-11-04T07:56:10.043522Z"
    },
    "tags": []
   },
   "outputs": [
    {
     "data": {
      "text/plain": [
       "array([[ 0.,  0.,  0., 12., 13.,  5.,  0.,  0.],\n",
       "       [ 0.,  0.,  0., 11., 16.,  9.,  0.,  0.],\n",
       "       [ 0.,  0.,  3., 15., 16.,  6.,  0.,  0.],\n",
       "       [ 0.,  7., 15., 16., 16.,  2.,  0.,  0.],\n",
       "       [ 0.,  0.,  1., 16., 16.,  3.,  0.,  0.],\n",
       "       [ 0.,  0.,  1., 16., 16.,  6.,  0.,  0.],\n",
       "       [ 0.,  0.,  1., 16., 16.,  6.,  0.,  0.],\n",
       "       [ 0.,  0.,  0., 11., 16., 10.,  0.,  0.]])"
      ]
     },
     "execution_count": 215,
     "metadata": {},
     "output_type": "execute_result"
    }
   ],
   "source": [
    "digits.images[1]"
   ]
  },
  {
   "cell_type": "code",
   "execution_count": 87,
   "id": "1cc49e3a-069f-48d2-8b6e-6babd1ed28d7",
   "metadata": {
    "execution": {
     "iopub.execute_input": "2022-11-04T06:27:20.179729Z",
     "iopub.status.busy": "2022-11-04T06:27:20.178713Z",
     "iopub.status.idle": "2022-11-04T06:27:20.521194Z",
     "shell.execute_reply": "2022-11-04T06:27:20.520278Z",
     "shell.execute_reply.started": "2022-11-04T06:27:20.179729Z"
    },
    "tags": []
   },
   "outputs": [
    {
     "data": {
      "image/png": "[encoded data removed]",
      "text/plain": [
       "<Figure size 640x480 with 2 Axes>"
      ]
     },
     "metadata": {},
     "output_type": "display_data"
    }
   ],
   "source": [
    "plt.imshow(digits.data[0].reshape(8, 8))\n",
    "# plt.imshow(dataset.images[0])\n",
    "plt.colorbar()\n",
    "plt.title('히트맵')\n",
    "plt.show()"
   ]
  },
  {
   "cell_type": "code",
   "execution_count": 10,
   "id": "39c52d96-c805-420a-b2c2-2a4769567231",
   "metadata": {
    "execution": {
     "iopub.execute_input": "2022-11-04T05:38:19.204211Z",
     "iopub.status.busy": "2022-11-04T05:38:19.204211Z",
     "iopub.status.idle": "2022-11-04T05:38:19.222749Z",
     "shell.execute_reply": "2022-11-04T05:38:19.221762Z",
     "shell.execute_reply.started": "2022-11-04T05:38:19.204211Z"
    },
    "tags": []
   },
   "outputs": [
    {
     "data": {
      "text/plain": [
       "array([0, 1, 2, 3, 4, 5, 6, 7, 8, 9])"
      ]
     },
     "execution_count": 10,
     "metadata": {},
     "output_type": "execute_result"
    }
   ],
   "source": [
    "df.target.unique()"
   ]
  },
  {
   "cell_type": "code",
   "execution_count": 8,
   "id": "26f29907-2b33-411c-862b-3f319239a1d5",
   "metadata": {
    "execution": {
     "iopub.execute_input": "2022-11-04T05:37:17.113408Z",
     "iopub.status.busy": "2022-11-04T05:37:17.113408Z",
     "iopub.status.idle": "2022-11-04T05:37:17.122407Z",
     "shell.execute_reply": "2022-11-04T05:37:17.122407Z",
     "shell.execute_reply.started": "2022-11-04T05:37:17.113408Z"
    },
    "tags": []
   },
   "outputs": [
    {
     "data": {
      "text/plain": [
       "(1797, 65)"
      ]
     },
     "execution_count": 8,
     "metadata": {},
     "output_type": "execute_result"
    }
   ],
   "source": [
    "df.shape"
   ]
  },
  {
   "cell_type": "markdown",
   "id": "3398e51f-dbc1-422c-8791-a93f62088b30",
   "metadata": {},
   "source": [
    "## 데이터 분리"
   ]
  },
  {
   "cell_type": "code",
   "execution_count": 159,
   "id": "17cf2fda-401c-40f8-a3d3-30ad155d7ec6",
   "metadata": {
    "execution": {
     "iopub.execute_input": "2022-11-04T07:11:45.796116Z",
     "iopub.status.busy": "2022-11-04T07:11:45.796116Z",
     "iopub.status.idle": "2022-11-04T07:11:45.818845Z",
     "shell.execute_reply": "2022-11-04T07:11:45.817702Z",
     "shell.execute_reply.started": "2022-11-04T07:11:45.796116Z"
    },
    "tags": []
   },
   "outputs": [],
   "source": [
    "X_train, X_test, y_train, y_test = train_test_split(\n",
    "    digits.data, digits.target, test_size=0.2, random_state=0)"
   ]
  },
  {
   "cell_type": "code",
   "execution_count": 45,
   "id": "57afb477-3f34-4516-9a2c-4fe0650c17b7",
   "metadata": {
    "execution": {
     "iopub.execute_input": "2022-11-04T06:03:17.811295Z",
     "iopub.status.busy": "2022-11-04T06:03:17.811295Z",
     "iopub.status.idle": "2022-11-04T06:03:17.825488Z",
     "shell.execute_reply": "2022-11-04T06:03:17.825325Z",
     "shell.execute_reply.started": "2022-11-04T06:03:17.811295Z"
    },
    "tags": []
   },
   "outputs": [
    {
     "data": {
      "text/plain": [
       "(1437, 64)"
      ]
     },
     "execution_count": 45,
     "metadata": {},
     "output_type": "execute_result"
    }
   ],
   "source": [
    "X_train.shape"
   ]
  },
  {
   "cell_type": "markdown",
   "id": "b3e1bd5b-a1e6-4185-adb4-d211a7afae18",
   "metadata": {},
   "source": [
    "## knn 분류 알고리즘"
   ]
  },
  {
   "cell_type": "code",
   "execution_count": 235,
   "id": "cce14db3-ad76-4931-addc-e8655d7a8381",
   "metadata": {
    "execution": {
     "iopub.execute_input": "2022-11-04T08:06:10.534137Z",
     "iopub.status.busy": "2022-11-04T08:06:10.534137Z",
     "iopub.status.idle": "2022-11-04T08:06:10.556036Z",
     "shell.execute_reply": "2022-11-04T08:06:10.555035Z",
     "shell.execute_reply.started": "2022-11-04T08:06:10.534137Z"
    },
    "tags": []
   },
   "outputs": [],
   "source": [
    "# from sklearn.metrics import accuracy_score, precision_score, recall_score, confusion_matrix\n",
    "\n",
    "def get_clf_eval(y_test, pred):\n",
    "    confusion = confusion_matrix(y_test, pred)\n",
    "    accuracy = accuracy_score(y_test, pred)\n",
    "    precision = precision_score(y_test, pred, average='micro')\n",
    "    recall = recall_score(y_test, pred, average='micro')\n",
    "    print('오차 행렬')\n",
    "    print(confusion)\n",
    "    print('정확도: {}, 정밀도: {}, 재현율: {}'.format(accuracy, precision, recall))"
   ]
  },
  {
   "cell_type": "code",
   "execution_count": 218,
   "id": "e995a831-6cea-4198-a93b-e2af25b9962a",
   "metadata": {
    "execution": {
     "iopub.execute_input": "2022-11-04T08:02:07.050041Z",
     "iopub.status.busy": "2022-11-04T08:02:07.050041Z",
     "iopub.status.idle": "2022-11-04T08:02:07.237276Z",
     "shell.execute_reply": "2022-11-04T08:02:07.235159Z",
     "shell.execute_reply.started": "2022-11-04T08:02:07.050041Z"
    },
    "tags": []
   },
   "outputs": [
    {
     "name": "stdout",
     "output_type": "stream",
     "text": [
      "0.9902574808629089\n",
      "0.975\n"
     ]
    }
   ],
   "source": [
    "kn = KNeighborsClassifier()\n",
    "kn.fit(X_train, y_train)\n",
    "print(kn.score(X_train, y_train))\n",
    "print(kn.score(X_test, y_test))"
   ]
  },
  {
   "cell_type": "code",
   "execution_count": 219,
   "id": "460791a1-1f9b-4c84-8027-d5a94fffca65",
   "metadata": {
    "execution": {
     "iopub.execute_input": "2022-11-04T08:02:07.946499Z",
     "iopub.status.busy": "2022-11-04T08:02:07.946499Z",
     "iopub.status.idle": "2022-11-04T08:02:11.671515Z",
     "shell.execute_reply": "2022-11-04T08:02:11.671515Z",
     "shell.execute_reply.started": "2022-11-04T08:02:07.946499Z"
    },
    "tags": []
   },
   "outputs": [
    {
     "name": "stdout",
     "output_type": "stream",
     "text": [
      "(array([0], dtype=int64),)\n"
     ]
    },
    {
     "data": {
      "image/png": "[encoded data removed]",
      "text/plain": [
       "<Figure size 640x480 with 1 Axes>"
      ]
     },
     "metadata": {},
     "output_type": "display_data"
    }
   ],
   "source": [
    "# 1 ~ 100\n",
    "ks = 100\n",
    "mean_acc = np.zeros((ks-1))\n",
    "for k in range(1, ks):\n",
    "    clf = KNeighborsClassifier(n_neighbors=k).fit(X_train, y_train)\n",
    "    yhat = clf.predict(X_test)\n",
    "    mean_acc[k-1] = accuracy_score(y_test, yhat)\n",
    "\n",
    "print(np.where(mean_acc == mean_acc.max()))\n",
    "plt.plot(mean_acc)\n",
    "plt.show()"
   ]
  },
  {
   "cell_type": "markdown",
   "id": "e4dcb686-ef66-4b80-bbb1-913556038629",
   "metadata": {},
   "source": [
    "### 최적 k값찾기"
   ]
  },
  {
   "cell_type": "markdown",
   "id": "03685ff9-05f6-47ed-8bc0-3a79a61d53a4",
   "metadata": {},
   "source": [
    "### 교차행렬(CV)"
   ]
  },
  {
   "cell_type": "code",
   "execution_count": 220,
   "id": "41a8d3c4-163d-477b-b125-44b07dd944a9",
   "metadata": {
    "execution": {
     "iopub.execute_input": "2022-11-04T08:02:13.643564Z",
     "iopub.status.busy": "2022-11-04T08:02:13.643564Z",
     "iopub.status.idle": "2022-11-04T08:02:16.724367Z",
     "shell.execute_reply": "2022-11-04T08:02:16.723355Z",
     "shell.execute_reply.started": "2022-11-04T08:02:13.643564Z"
    },
    "tags": []
   },
   "outputs": [
    {
     "data": {
      "text/plain": [
       "GridSearchCV(cv=5, estimator=KNeighborsClassifier(), n_jobs=-1,\n",
       "             param_grid={'n_neighbors': [2, 3, 4, 5, 6, 7, 8, 9, 10]})"
      ]
     },
     "execution_count": 220,
     "metadata": {},
     "output_type": "execute_result"
    }
   ],
   "source": [
    "model = KNeighborsClassifier()\n",
    "\n",
    "params = {\n",
    "    'n_neighbors': [2, 3, 4, 5, 6, 7, 8, 9, 10]\n",
    "}\n",
    "\n",
    "gs = GridSearchCV(model, param_grid=params, cv=5, refit=True, n_jobs=-1)\n",
    "gs.fit(X_train, y_train)"
   ]
  },
  {
   "cell_type": "code",
   "execution_count": 221,
   "id": "72c52f71-9119-4e9d-9e1a-820aa84fe3ae",
   "metadata": {
    "execution": {
     "iopub.execute_input": "2022-11-04T08:02:17.934936Z",
     "iopub.status.busy": "2022-11-04T08:02:17.934936Z",
     "iopub.status.idle": "2022-11-04T08:02:17.940938Z",
     "shell.execute_reply": "2022-11-04T08:02:17.939937Z",
     "shell.execute_reply.started": "2022-11-04T08:02:17.934936Z"
    },
    "tags": []
   },
   "outputs": [
    {
     "name": "stdout",
     "output_type": "stream",
     "text": [
      "{'n_neighbors': 3}\n"
     ]
    }
   ],
   "source": [
    "print(gs.best_params_)"
   ]
  },
  {
   "cell_type": "code",
   "execution_count": 222,
   "id": "c188716d-ae14-4d6c-88ba-d55153b9362c",
   "metadata": {
    "execution": {
     "iopub.execute_input": "2022-11-04T08:02:18.424941Z",
     "iopub.status.busy": "2022-11-04T08:02:18.424941Z",
     "iopub.status.idle": "2022-11-04T08:02:18.440485Z",
     "shell.execute_reply": "2022-11-04T08:02:18.439482Z",
     "shell.execute_reply.started": "2022-11-04T08:02:18.424941Z"
    },
    "tags": []
   },
   "outputs": [
    {
     "name": "stdout",
     "output_type": "stream",
     "text": [
      "0.98677651955091\n"
     ]
    }
   ],
   "source": [
    "print(gs.best_score_)"
   ]
  },
  {
   "cell_type": "code",
   "execution_count": 223,
   "id": "6ff0be8c-ecb0-4a60-a327-bb951c547bd7",
   "metadata": {
    "execution": {
     "iopub.execute_input": "2022-11-04T08:02:18.838472Z",
     "iopub.status.busy": "2022-11-04T08:02:18.837476Z",
     "iopub.status.idle": "2022-11-04T08:02:18.863622Z",
     "shell.execute_reply": "2022-11-04T08:02:18.861635Z",
     "shell.execute_reply.started": "2022-11-04T08:02:18.838472Z"
    },
    "tags": []
   },
   "outputs": [
    {
     "data": {
      "text/plain": [
       "0.98677651955091"
      ]
     },
     "execution_count": 223,
     "metadata": {},
     "output_type": "execute_result"
    }
   ],
   "source": [
    "np.max(gs.cv_results_['mean_test_score'])"
   ]
  },
  {
   "cell_type": "code",
   "execution_count": 224,
   "id": "a37fdc2d-4184-4c28-94a4-f94c73213327",
   "metadata": {
    "execution": {
     "iopub.execute_input": "2022-11-04T08:02:19.313289Z",
     "iopub.status.busy": "2022-11-04T08:02:19.313289Z",
     "iopub.status.idle": "2022-11-04T08:02:19.376290Z",
     "shell.execute_reply": "2022-11-04T08:02:19.375290Z",
     "shell.execute_reply.started": "2022-11-04T08:02:19.313289Z"
    },
    "tags": []
   },
   "outputs": [
    {
     "data": {
      "text/plain": [
       "0.9833333333333333"
      ]
     },
     "execution_count": 224,
     "metadata": {},
     "output_type": "execute_result"
    }
   ],
   "source": [
    "# 최적의 모델일 때 테스트 값 넣었을때 정확도\n",
    "model = gs.best_estimator_\n",
    "pred_y = model.predict(X_test)\n",
    "accuracy_score(y_test, pred_y)"
   ]
  },
  {
   "cell_type": "code",
   "execution_count": 236,
   "id": "aff5c321-d64f-404c-ab9b-c9a48d0c9cef",
   "metadata": {
    "execution": {
     "iopub.execute_input": "2022-11-04T08:06:14.086369Z",
     "iopub.status.busy": "2022-11-04T08:06:14.086369Z",
     "iopub.status.idle": "2022-11-04T08:06:14.105280Z",
     "shell.execute_reply": "2022-11-04T08:06:14.104292Z",
     "shell.execute_reply.started": "2022-11-04T08:06:14.086369Z"
    },
    "tags": []
   },
   "outputs": [
    {
     "name": "stdout",
     "output_type": "stream",
     "text": [
      "오차 행렬\n",
      "[[27  0  0  0  0  0  0  0  0  0]\n",
      " [ 0 34  0  0  0  1  0  0  0  0]\n",
      " [ 0  0 36  0  0  0  0  0  0  0]\n",
      " [ 0  0  1 28  0  0  0  0  0  0]\n",
      " [ 0  0  0  0 29  0  0  1  0  0]\n",
      " [ 0  0  0  0  0 39  0  0  0  1]\n",
      " [ 0  0  0  0  0  0 44  0  0  0]\n",
      " [ 0  0  0  0  0  0  0 39  0  0]\n",
      " [ 0  0  0  2  0  0  0  0 37  0]\n",
      " [ 0  0  0  0  0  0  0  0  0 41]]\n",
      "정확도: 0.9833333333333333, 정밀도: 0.9833333333333333, 재현율: 0.9833333333333333\n"
     ]
    }
   ],
   "source": [
    "get_clf_eval(y_test, pred_y)"
   ]
  },
  {
   "cell_type": "markdown",
   "id": "59c68a77-8cfe-4a62-8dae-a15392d6ec08",
   "metadata": {},
   "source": [
    "## knn 회귀 알고리즘"
   ]
  },
  {
   "cell_type": "code",
   "execution_count": 197,
   "id": "cf471d75-9876-4016-8ba2-2283049e44d2",
   "metadata": {
    "execution": {
     "iopub.execute_input": "2022-11-04T07:41:09.399689Z",
     "iopub.status.busy": "2022-11-04T07:41:09.399689Z",
     "iopub.status.idle": "2022-11-04T07:41:09.489305Z",
     "shell.execute_reply": "2022-11-04T07:41:09.488319Z",
     "shell.execute_reply.started": "2022-11-04T07:41:09.399689Z"
    },
    "tags": []
   },
   "outputs": [
    {
     "name": "stdout",
     "output_type": "stream",
     "text": [
      "0.9824572691586243\n",
      "0.977119774340421\n"
     ]
    }
   ],
   "source": [
    "knr = KNeighborsRegressor(n_neighbors=3)\n",
    "knr.fit(X_train, y_train)\n",
    "print(knr.score(X_train, y_train))\n",
    "print(knr.score(X_test, y_test))"
   ]
  },
  {
   "cell_type": "markdown",
   "id": "e10fa506-bd4f-494c-b092-339a609ae436",
   "metadata": {},
   "source": [
    "### 최적 k값 찾기"
   ]
  },
  {
   "cell_type": "code",
   "execution_count": 136,
   "id": "dbe59138-5384-4801-ae57-d49bda3f4be7",
   "metadata": {
    "execution": {
     "iopub.execute_input": "2022-11-04T06:55:18.043773Z",
     "iopub.status.busy": "2022-11-04T06:55:18.043773Z",
     "iopub.status.idle": "2022-11-04T06:55:20.048273Z",
     "shell.execute_reply": "2022-11-04T06:55:20.046998Z",
     "shell.execute_reply.started": "2022-11-04T06:55:18.043773Z"
    },
    "tags": []
   },
   "outputs": [
    {
     "name": "stdout",
     "output_type": "stream",
     "text": [
      "(array([1], dtype=int64),)\n"
     ]
    },
    {
     "data": {
      "image/png": "[encoded data removed]",
      "text/plain": [
       "<Figure size 640x480 with 1 Axes>"
      ]
     },
     "metadata": {},
     "output_type": "display_data"
    }
   ],
   "source": [
    "# 1 ~ 100\n",
    "ks = 100\n",
    "mean_acc = np.zeros((ks-1))\n",
    "for k in range(1, ks):\n",
    "    clf = KNeighborsRegressor(n_neighbors=k).fit(X_train, y_train)\n",
    "    yhat = clf.predict(X_test)\n",
    "    mean_acc[k-1] = mean_squared_error(y_test, yhat)\n",
    "\n",
    "print(np.where(mean_acc == mean_acc.min()))\n",
    "plt.plot(mean_acc)\n",
    "plt.show()"
   ]
  },
  {
   "cell_type": "markdown",
   "id": "4edfbf3e-4850-4fb6-b302-dff75b411dab",
   "metadata": {},
   "source": [
    "### 교차행렬"
   ]
  },
  {
   "cell_type": "code",
   "execution_count": 199,
   "id": "1e1a1e46-7804-4d06-89e6-54144e932443",
   "metadata": {
    "execution": {
     "iopub.execute_input": "2022-11-04T07:42:26.337284Z",
     "iopub.status.busy": "2022-11-04T07:42:26.337284Z",
     "iopub.status.idle": "2022-11-04T07:42:26.560465Z",
     "shell.execute_reply": "2022-11-04T07:42:26.559485Z",
     "shell.execute_reply.started": "2022-11-04T07:42:26.337284Z"
    },
    "tags": []
   },
   "outputs": [
    {
     "data": {
      "text/plain": [
       "GridSearchCV(cv=5, estimator=KNeighborsRegressor(), n_jobs=-1,\n",
       "             param_grid={'n_neighbors': [2, 3, 4, 5, 6, 7, 8, 9, 10]})"
      ]
     },
     "execution_count": 199,
     "metadata": {},
     "output_type": "execute_result"
    }
   ],
   "source": [
    "model = KNeighborsRegressor()\n",
    "\n",
    "params = {\n",
    "    'n_neighbors': [2, 3, 4, 5, 6, 7, 8, 9, 10]\n",
    "}\n",
    "\n",
    "gs = GridSearchCV(model, param_grid=params, cv=5, refit=True, n_jobs=-1)\n",
    "gs.fit(X_train, y_train)"
   ]
  },
  {
   "cell_type": "code",
   "execution_count": 200,
   "id": "d53fe139-758c-4d1f-9473-7419fc3f1071",
   "metadata": {
    "execution": {
     "iopub.execute_input": "2022-11-04T07:42:26.966587Z",
     "iopub.status.busy": "2022-11-04T07:42:26.966587Z",
     "iopub.status.idle": "2022-11-04T07:42:26.979814Z",
     "shell.execute_reply": "2022-11-04T07:42:26.978006Z",
     "shell.execute_reply.started": "2022-11-04T07:42:26.966587Z"
    },
    "tags": []
   },
   "outputs": [
    {
     "name": "stdout",
     "output_type": "stream",
     "text": [
      "{'n_neighbors': 3}\n"
     ]
    }
   ],
   "source": [
    "print(gs.best_params_)"
   ]
  },
  {
   "cell_type": "code",
   "execution_count": 201,
   "id": "76fadab4-f889-434f-b913-eb23196cedf7",
   "metadata": {
    "execution": {
     "iopub.execute_input": "2022-11-04T07:42:27.288759Z",
     "iopub.status.busy": "2022-11-04T07:42:27.288759Z",
     "iopub.status.idle": "2022-11-04T07:42:27.303026Z",
     "shell.execute_reply": "2022-11-04T07:42:27.302124Z",
     "shell.execute_reply.started": "2022-11-04T07:42:27.288759Z"
    },
    "tags": []
   },
   "outputs": [
    {
     "name": "stdout",
     "output_type": "stream",
     "text": [
      "0.9627665270731607\n"
     ]
    }
   ],
   "source": [
    "print(gs.best_score_)"
   ]
  },
  {
   "cell_type": "code",
   "execution_count": 202,
   "id": "7cd07530-1f02-4908-995f-9046e9258a30",
   "metadata": {
    "execution": {
     "iopub.execute_input": "2022-11-04T07:42:27.618698Z",
     "iopub.status.busy": "2022-11-04T07:42:27.618698Z",
     "iopub.status.idle": "2022-11-04T07:42:27.629725Z",
     "shell.execute_reply": "2022-11-04T07:42:27.628654Z",
     "shell.execute_reply.started": "2022-11-04T07:42:27.618698Z"
    },
    "tags": []
   },
   "outputs": [
    {
     "data": {
      "text/plain": [
       "0.9627665270731607"
      ]
     },
     "execution_count": 202,
     "metadata": {},
     "output_type": "execute_result"
    }
   ],
   "source": [
    "np.max(gs.cv_results_['mean_test_score'])"
   ]
  },
  {
   "cell_type": "code",
   "execution_count": 203,
   "id": "e1112092-b9bb-40e5-9989-fd7687b0a9a3",
   "metadata": {
    "execution": {
     "iopub.execute_input": "2022-11-04T07:42:27.938114Z",
     "iopub.status.busy": "2022-11-04T07:42:27.938114Z",
     "iopub.status.idle": "2022-11-04T07:42:27.970267Z",
     "shell.execute_reply": "2022-11-04T07:42:27.969401Z",
     "shell.execute_reply.started": "2022-11-04T07:42:27.938114Z"
    },
    "tags": []
   },
   "outputs": [
    {
     "name": "stdout",
     "output_type": "stream",
     "text": [
      "0.977119774340421\n"
     ]
    }
   ],
   "source": [
    "# 최적의 모델을 사용했을때 정확도\n",
    "model = gs.best_estimator_\n",
    "print(model.score(X_test, y_test))"
   ]
  }
 ],
 "metadata": {
  "kernelspec": {
   "display_name": "Python 3 (ipykernel)",
   "language": "python",
   "name": "python3"
  },
  "language_info": {
   "codemirror_mode": {
    "name": "ipython",
    "version": 3
   },
   "file_extension": ".py",
   "mimetype": "text/x-python",
   "name": "python",
   "nbconvert_exporter": "python",
   "pygments_lexer": "ipython3",
   "version": "3.9.13"
  }
 },
 "nbformat": 4,
 "nbformat_minor": 5
}
