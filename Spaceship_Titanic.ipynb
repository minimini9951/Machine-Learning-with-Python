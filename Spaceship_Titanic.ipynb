{
 "cells": [
  {
   "cell_type": "markdown",
   "id": "c3f7bf07",
   "metadata": {},
   "source": [
    "# 필수 라이브러리 로딩"
   ]
  },
  {
   "cell_type": "code",
   "execution_count": 1,
   "id": "a0104e8b",
   "metadata": {
    "execution": {
     "iopub.execute_input": "2022-11-28T02:04:53.358629Z",
     "iopub.status.busy": "2022-11-28T02:04:53.357646Z",
     "iopub.status.idle": "2022-11-28T02:04:55.778924Z",
     "shell.execute_reply": "2022-11-28T02:04:55.777668Z",
     "shell.execute_reply.started": "2022-11-28T02:04:53.358629Z"
    },
    "tags": []
   },
   "outputs": [],
   "source": [
    "import numpy as np # Numpy\n",
    "import pandas as pd # Pandas\n",
    "import matplotlib as mpl #Matplotlib 세팅용\n",
    "import matplotlib.pyplot as plt # 시각화 도구\n",
    "import seaborn as sns # 시각화 도구\n",
    "from sklearn.model_selection import train_test_split # 데이터셋 분리\n",
    "from sklearn.cluster import KMeans # 클러스터링\n",
    "from sklearn.metrics import silhouette_score # 실루엣 점수\n",
    "import xgboost as xgb # XGBoost\n",
    "from sklearn.model_selection import GridSearchCV # 그리드 서치\n",
    "from sklearn.metrics import accuracy_score, precision_score # 평가 지표\n",
    "from sklearn.metrics import recall_score, confusion_matrix, roc_auc_score, f1_score # 평가 지표\n",
    "\n",
    "\n",
    "import warnings # 경고문 제거용\n",
    "\n",
    "\n",
    "%matplotlib inline\n",
    "%config Inlinebackend.figure_format = 'retina'\n",
    "\n",
    "# 한글 폰트 설정\n",
    "mpl.rc('font', family='D2Coding')\n",
    "# 유니코드에서 음수 부호 설정\n",
    "mpl.rc('axes', unicode_minus = False)\n",
    "\n",
    "warnings.filterwarnings('ignore')\n",
    "sns.set(font=\"D2Coding\", rc={\"axes.unicode_minus\":False}, style='darkgrid')\n",
    "plt.rc('figure', figsize=(10,8))"
   ]
  },
  {
   "cell_type": "code",
   "execution_count": 2,
   "id": "69de6ab9",
   "metadata": {
    "execution": {
     "iopub.execute_input": "2022-11-28T02:04:57.175359Z",
     "iopub.status.busy": "2022-11-28T02:04:57.175359Z",
     "iopub.status.idle": "2022-11-28T02:04:57.209413Z",
     "shell.execute_reply": "2022-11-28T02:04:57.209413Z",
     "shell.execute_reply.started": "2022-11-28T02:04:57.175359Z"
    },
    "tags": []
   },
   "outputs": [],
   "source": [
    "spaceship = pd.read_csv('C:\\\\k_digital\\\\source\\\\data\\\\train.csv')"
   ]
  },
  {
   "cell_type": "markdown",
   "id": "41d30ddb",
   "metadata": {},
   "source": [
    "1. spaceship 데이터에 대한 정보\n",
    "- 14개의 열을 가지고 있음\n",
    "- 문자형, 수치형, 불린형을 고루 가지고 있음\n",
    "- null값이 존재함 "
   ]
  },
  {
   "cell_type": "code",
   "execution_count": 3,
   "id": "fcc02b9e-aa75-4543-8be5-899ce75bf6a2",
   "metadata": {
    "execution": {
     "iopub.execute_input": "2022-11-28T02:04:59.334935Z",
     "iopub.status.busy": "2022-11-28T02:04:59.334935Z",
     "iopub.status.idle": "2022-11-28T02:04:59.358878Z",
     "shell.execute_reply": "2022-11-28T02:04:59.357874Z",
     "shell.execute_reply.started": "2022-11-28T02:04:59.334935Z"
    },
    "tags": []
   },
   "outputs": [
    {
     "name": "stdout",
     "output_type": "stream",
     "text": [
      "<class 'pandas.core.frame.DataFrame'>\n",
      "RangeIndex: 8693 entries, 0 to 8692\n",
      "Data columns (total 14 columns):\n",
      " #   Column        Non-Null Count  Dtype  \n",
      "---  ------        --------------  -----  \n",
      " 0   PassengerId   8693 non-null   object \n",
      " 1   HomePlanet    8492 non-null   object \n",
      " 2   CryoSleep     8476 non-null   object \n",
      " 3   Cabin         8494 non-null   object \n",
      " 4   Destination   8511 non-null   object \n",
      " 5   Age           8514 non-null   float64\n",
      " 6   VIP           8490 non-null   object \n",
      " 7   RoomService   8512 non-null   float64\n",
      " 8   FoodCourt     8510 non-null   float64\n",
      " 9   ShoppingMall  8485 non-null   float64\n",
      " 10  Spa           8510 non-null   float64\n",
      " 11  VRDeck        8505 non-null   float64\n",
      " 12  Name          8493 non-null   object \n",
      " 13  Transported   8693 non-null   bool   \n",
      "dtypes: bool(1), float64(6), object(7)\n",
      "memory usage: 891.5+ KB\n",
      "None\n"
     ]
    }
   ],
   "source": [
    "print(spaceship.info())"
   ]
  },
  {
   "cell_type": "code",
   "execution_count": 4,
   "id": "38b693f2",
   "metadata": {
    "execution": {
     "iopub.execute_input": "2022-11-28T02:05:01.691397Z",
     "iopub.status.busy": "2022-11-28T02:05:01.691397Z",
     "iopub.status.idle": "2022-11-28T02:05:01.696138Z",
     "shell.execute_reply": "2022-11-28T02:05:01.695916Z",
     "shell.execute_reply.started": "2022-11-28T02:05:01.691397Z"
    },
    "tags": []
   },
   "outputs": [],
   "source": [
    "spaceship['CryoSleep'] = spaceship.CryoSleep.astype('bool')"
   ]
  },
  {
   "cell_type": "code",
   "execution_count": 26,
   "id": "34aafa5b-3a88-4344-8e92-1c87633ae4a6",
   "metadata": {
    "execution": {
     "iopub.execute_input": "2022-11-28T02:09:38.105271Z",
     "iopub.status.busy": "2022-11-28T02:09:38.104273Z",
     "iopub.status.idle": "2022-11-28T02:09:38.117416Z",
     "shell.execute_reply": "2022-11-28T02:09:38.116908Z",
     "shell.execute_reply.started": "2022-11-28T02:09:38.105271Z"
    },
    "tags": []
   },
   "outputs": [],
   "source": [
    "a = np.zeros(shape=(len(spaceship[spaceship['CryoSleep']==True]['RoomService']),), dtype=np.int64)\n",
    "spaceship.RoomService[spaceship['CryoSleep']==True] = a\n",
    "spaceship[spaceship['CryoSleep']==True]['RoomService'].value_counts()"
   ]
  },
  {
   "cell_type": "code",
   "execution_count": 6,
   "id": "729d4360",
   "metadata": {
    "execution": {
     "iopub.execute_input": "2022-11-28T02:05:18.581797Z",
     "iopub.status.busy": "2022-11-28T02:05:18.581797Z",
     "iopub.status.idle": "2022-11-28T02:05:18.599072Z",
     "shell.execute_reply": "2022-11-28T02:05:18.598062Z",
     "shell.execute_reply.started": "2022-11-28T02:05:18.581797Z"
    },
    "tags": []
   },
   "outputs": [],
   "source": [
    "(spaceship[spaceship['CryoSleep']==True]['RoomService']).replace(np.NaN, 0, inplace=True)"
   ]
  },
  {
   "cell_type": "code",
   "execution_count": 93,
   "id": "0b73e0c0-32e1-4093-adfe-154763fb18b9",
   "metadata": {
    "execution": {
     "iopub.execute_input": "2022-11-26T07:40:43.023279Z",
     "iopub.status.busy": "2022-11-26T07:40:43.023279Z",
     "iopub.status.idle": "2022-11-26T07:40:43.053226Z",
     "shell.execute_reply": "2022-11-26T07:40:43.052073Z",
     "shell.execute_reply.started": "2022-11-26T07:40:43.023279Z"
    },
    "tags": []
   },
   "outputs": [],
   "source": [
    "spaceship[spaceship['CryoSleep']==True]['RoomService'] = (\n",
    "    spaceship[spaceship['CryoSleep'] == True].RoomService != 0).apply(lambda x: np.where(x == 0, 0, x))"
   ]
  },
  {
   "cell_type": "code",
   "execution_count": 111,
   "id": "30b6745b-b334-41c2-ae92-dc31440a11a9",
   "metadata": {
    "execution": {
     "iopub.execute_input": "2022-11-26T07:45:26.808384Z",
     "iopub.status.busy": "2022-11-26T07:45:26.808384Z",
     "iopub.status.idle": "2022-11-26T07:45:26.833079Z",
     "shell.execute_reply": "2022-11-26T07:45:26.832069Z",
     "shell.execute_reply.started": "2022-11-26T07:45:26.808384Z"
    },
    "tags": []
   },
   "outputs": [
    {
     "data": {
      "text/plain": [
       "0    3254\n",
       "Name: RoomService, dtype: int64"
      ]
     },
     "execution_count": 111,
     "metadata": {},
     "output_type": "execute_result"
    }
   ],
   "source": [
    "((spaceship[spaceship['CryoSleep'] == True].RoomService != 0).apply(lambda x: np.where(x != 0, 0, x))).value_counts()"
   ]
  }
 ],
 "metadata": {
  "kernelspec": {
   "display_name": "Python 3 (ipykernel)",
   "language": "python",
   "name": "python3"
  },
  "language_info": {
   "codemirror_mode": {
    "name": "ipython",
    "version": 3
   },
   "file_extension": ".py",
   "mimetype": "text/x-python",
   "name": "python",
   "nbconvert_exporter": "python",
   "pygments_lexer": "ipython3",
   "version": "3.9.13"
  },
  "toc": {
   "base_numbering": 1,
   "nav_menu": {},
   "number_sections": true,
   "sideBar": true,
   "skip_h1_title": false,
   "title_cell": "Table of Contents",
   "title_sidebar": "Contents",
   "toc_cell": false,
   "toc_position": {},
   "toc_section_display": true,
   "toc_window_display": false
  }
 },
 "nbformat": 4,
 "nbformat_minor": 5
}
