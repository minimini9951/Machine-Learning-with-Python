{
 "cells": [
  {
   "cell_type": "markdown",
   "id": "f71ef8f6",
   "metadata": {},
   "source": [
    "# 군집분석이란?"
   ]
  },
  {
   "cell_type": "markdown",
   "id": "9a36005b",
   "metadata": {},
   "source": [
    "1. 군집분석이란\n",
    "    - 서로 유사한 정도에따라 다수의 객체를 군집으로 나누는 작업 또는 이에 기반한 분석을 의미한다.\n",
    "    - 유사도가 높은 데이터끼리 그룹화(대표적으로 유클리드 거리계산식을 이용) \n",
    "    - 계층별 클러스터링과 비게층형 클러스트링으로 분류\n",
    "    - 주요 알고리즘 : K-means, hierarchical 등 \n",
    "<br>\n",
    "2. 군집분석의 특징\n",
    "    - 종속변수(y)가 없는 데이터 마이닝 기법(비지도 학습) \n",
    "    - 유클리드 거리 기반 유사 객체 묵음(유사성 = 유클리드 거리)\n",
    "    - 전체적인 데이터 구조를 파악하는데 이용\n",
    "    - 분석 결과에 대한 가설 검정 없음(타당성 검증 방법 없음)\n",
    "    - 계층적 군집분석(탐색적), 비계층적 군집분석(확인적) \n",
    "<br>\n",
    "\n",
    "3. 계층적 군집분석(hierarchical)\n",
    "    - 유클리드 거리를 이용한 군집분석 방법\n",
    "    - 계층적으로 군집 결과 도출\n",
    "    - 탐색적 군집 분석\n",
    "    - 계층적 군집 분석의 결과 : 덴드로그램(Dendrogram) - 표본들이 군을 형성하는 과정을 나타내는 나무 형식의 그림 \n",
    "    - 군집 수는 사용자가 정할 수 있음\n",
    "    \n",
    "<br>\n",
    "\n",
    "4. 비계층적 군집분석(k-means)\n",
    "    - 계층적 군집보다 속도 빠름\n",
    "    - 군집의 수를 알고 있는 경우 이용\n",
    "    - k는 미리 정하는 군집 수 \n",
    "    - 확인적 군집분석\n",
    "    - 계층적 군집화의 결과에 의거하여 군집 수 결정\n",
    "    - 변수보다 관측대상 군집화에 많이 이용\n",
    "    - 군집의 중심(Cluster center)은 사용자가 정함\n",
    "    \n",
    "<br>\n",
    "\n",
    "5. k-means 군집분석 알고리즘\n",
    "    - 1) k값을 초기값으로 k개의 centroid 선정(랜덤)\n",
    "    - 2) 각 데이터 포인터를 가장 가까운 centroid에 할당\n",
    "    - 3) centroid에 할당된 모든 데이터 포인터의 중심 위치 계산(centroid 재조정)\n",
    "    - 4) 재조정된 centroid와 가장 가까운 데이터 포인트 할당 \n",
    "    - centroid 재조정이 발생되지 않을 때까지 3),4)단계 반복\n"
   ]
  },
  {
   "cell_type": "code",
   "execution_count": 37,
   "id": "8601a1b3",
   "metadata": {
    "execution": {
     "iopub.execute_input": "2022-11-11T07:43:12.491384Z",
     "iopub.status.busy": "2022-11-11T07:43:12.491384Z",
     "iopub.status.idle": "2022-11-11T07:43:12.517577Z",
     "shell.execute_reply": "2022-11-11T07:43:12.516576Z",
     "shell.execute_reply.started": "2022-11-11T07:43:12.491384Z"
    },
    "tags": []
   },
   "outputs": [],
   "source": [
    "import numpy as np\n",
    "import pandas as pd\n",
    "\n",
    "import matplotlib as mpl\n",
    "import matplotlib.pyplot as plt\n",
    "import seaborn as sns\n",
    "from sklearn.datasets import load_iris\n",
    "import warnings\n",
    "from IPython.display import Image\n",
    "from scipy.cluster.hierarchy import fcluster, linkage, dendrogram\n",
    "warnings.simplefilter(action='ignore', category=FutureWarning)\n",
    "%matplotlib inline\n",
    "%config InlineBackend.figure_foramt = 'retina'\n",
    "# 자동완성 속도 증가\n",
    "%config Completer.use_jedi = False\n",
    "# 한글 깨짐 해결\n",
    "plt.rc('font', family='D2coding')\n",
    "mpl.rc('axes', unicode_minus=False)"
   ]
  },
  {
   "cell_type": "markdown",
   "id": "6ae76f88",
   "metadata": {},
   "source": [
    "# hierarchical_계층적 군집 분석\n",
    "- 유클리드 거리계산식 이용"
   ]
  },
  {
   "cell_type": "code",
   "execution_count": 36,
   "id": "1b0b9d8e",
   "metadata": {
    "execution": {
     "iopub.execute_input": "2022-11-11T07:43:07.719104Z",
     "iopub.status.busy": "2022-11-11T07:43:07.718108Z",
     "iopub.status.idle": "2022-11-11T07:43:07.732904Z",
     "shell.execute_reply": "2022-11-11T07:43:07.731551Z",
     "shell.execute_reply.started": "2022-11-11T07:43:07.719104Z"
    },
    "tags": []
   },
   "outputs": [],
   "source": [
    "# 계층적 군집 분석 함수\n",
    "\n",
    "iris = load_iris()"
   ]
  },
  {
   "cell_type": "code",
   "execution_count": 61,
   "id": "03db0a75-3312-4a60-af91-1af503438c7e",
   "metadata": {
    "execution": {
     "iopub.execute_input": "2022-11-11T08:18:41.995879Z",
     "iopub.status.busy": "2022-11-11T08:18:41.995879Z",
     "iopub.status.idle": "2022-11-11T08:18:42.017836Z",
     "shell.execute_reply": "2022-11-11T08:18:42.017057Z",
     "shell.execute_reply.started": "2022-11-11T08:18:41.995879Z"
    },
    "tags": []
   },
   "outputs": [
    {
     "data": {
      "text/plain": [
       "['sepal length (cm)',\n",
       " 'sepal width (cm)',\n",
       " 'petal length (cm)',\n",
       " 'petal width (cm)']"
      ]
     },
     "execution_count": 61,
     "metadata": {},
     "output_type": "execute_result"
    }
   ],
   "source": [
    "iris.feature_name"
   ]
  },
  {
   "cell_type": "code",
   "execution_count": 63,
   "id": "481047f6",
   "metadata": {
    "execution": {
     "iopub.execute_input": "2022-11-11T08:19:13.315746Z",
     "iopub.status.busy": "2022-11-11T08:19:13.315746Z",
     "iopub.status.idle": "2022-11-11T08:19:13.343198Z",
     "shell.execute_reply": "2022-11-11T08:19:13.343198Z",
     "shell.execute_reply.started": "2022-11-11T08:19:13.315746Z"
    },
    "tags": []
   },
   "outputs": [
    {
     "data": {
      "text/html": [
       "<div>\n",
       "<style scoped>\n",
       "    .dataframe tbody tr th:only-of-type {\n",
       "        vertical-align: middle;\n",
       "    }\n",
       "\n",
       "    .dataframe tbody tr th {\n",
       "        vertical-align: top;\n",
       "    }\n",
       "\n",
       "    .dataframe thead th {\n",
       "        text-align: right;\n",
       "    }\n",
       "</style>\n",
       "<table border=\"1\" class=\"dataframe\">\n",
       "  <thead>\n",
       "    <tr style=\"text-align: right;\">\n",
       "      <th></th>\n",
       "      <th>sepal length (cm)</th>\n",
       "      <th>sepal width (cm)</th>\n",
       "      <th>petal length (cm)</th>\n",
       "      <th>petal width (cm)</th>\n",
       "      <th>labels</th>\n",
       "    </tr>\n",
       "  </thead>\n",
       "  <tbody>\n",
       "    <tr>\n",
       "      <th>0</th>\n",
       "      <td>5.1</td>\n",
       "      <td>3.5</td>\n",
       "      <td>1.4</td>\n",
       "      <td>0.2</td>\n",
       "      <td>0</td>\n",
       "    </tr>\n",
       "    <tr>\n",
       "      <th>1</th>\n",
       "      <td>4.9</td>\n",
       "      <td>3.0</td>\n",
       "      <td>1.4</td>\n",
       "      <td>0.2</td>\n",
       "      <td>0</td>\n",
       "    </tr>\n",
       "    <tr>\n",
       "      <th>2</th>\n",
       "      <td>4.7</td>\n",
       "      <td>3.2</td>\n",
       "      <td>1.3</td>\n",
       "      <td>0.2</td>\n",
       "      <td>0</td>\n",
       "    </tr>\n",
       "    <tr>\n",
       "      <th>3</th>\n",
       "      <td>4.6</td>\n",
       "      <td>3.1</td>\n",
       "      <td>1.5</td>\n",
       "      <td>0.2</td>\n",
       "      <td>0</td>\n",
       "    </tr>\n",
       "    <tr>\n",
       "      <th>4</th>\n",
       "      <td>5.0</td>\n",
       "      <td>3.6</td>\n",
       "      <td>1.4</td>\n",
       "      <td>0.2</td>\n",
       "      <td>0</td>\n",
       "    </tr>\n",
       "  </tbody>\n",
       "</table>\n",
       "</div>"
      ],
      "text/plain": [
       "   sepal length (cm)  sepal width (cm)  petal length (cm)  petal width (cm)  \\\n",
       "0                5.1               3.5                1.4               0.2   \n",
       "1                4.9               3.0                1.4               0.2   \n",
       "2                4.7               3.2                1.3               0.2   \n",
       "3                4.6               3.1                1.5               0.2   \n",
       "4                5.0               3.6                1.4               0.2   \n",
       "\n",
       "   labels  \n",
       "0       0  \n",
       "1       0  \n",
       "2       0  \n",
       "3       0  \n",
       "4       0  "
      ]
     },
     "execution_count": 63,
     "metadata": {},
     "output_type": "execute_result"
    }
   ],
   "source": [
    "cols = ['sepal length (cm)',\n",
    "        'sepal width (cm)',\n",
    "        'petal length (cm)',\n",
    "        'petal width (cm)']\n",
    "iris_df = pd.DataFrame(iris.data, columns=cols)\n",
    "iris_df['labels'] = iris.target\n",
    "iris_df.head()"
   ]
  },
  {
   "cell_type": "code",
   "execution_count": 4,
   "id": "7f0a89bc",
   "metadata": {
    "execution": {
     "iopub.execute_input": "2022-11-11T07:35:19.459018Z",
     "iopub.status.busy": "2022-11-11T07:35:19.459018Z",
     "iopub.status.idle": "2022-11-11T07:35:19.465012Z",
     "shell.execute_reply": "2022-11-11T07:35:19.465012Z",
     "shell.execute_reply.started": "2022-11-11T07:35:19.459018Z"
    },
    "scrolled": true
   },
   "outputs": [
    {
     "data": {
      "text/plain": [
       "['sepal length (cm)',\n",
       " 'sepal width (cm)',\n",
       " 'petal length (cm)',\n",
       " 'petal width (cm)']"
      ]
     },
     "execution_count": 4,
     "metadata": {},
     "output_type": "execute_result"
    }
   ],
   "source": [
    "# feature_names\n",
    "iris.feature_names"
   ]
  },
  {
   "cell_type": "code",
   "execution_count": 15,
   "id": "2d55c6f5",
   "metadata": {
    "execution": {
     "iopub.execute_input": "2022-11-11T07:38:38.189229Z",
     "iopub.status.busy": "2022-11-11T07:38:38.189229Z",
     "iopub.status.idle": "2022-11-11T07:38:38.211096Z",
     "shell.execute_reply": "2022-11-11T07:38:38.209843Z",
     "shell.execute_reply.started": "2022-11-11T07:38:38.189229Z"
    },
    "tags": []
   },
   "outputs": [
    {
     "data": {
      "text/html": [
       "<div>\n",
       "<style scoped>\n",
       "    .dataframe tbody tr th:only-of-type {\n",
       "        vertical-align: middle;\n",
       "    }\n",
       "\n",
       "    .dataframe tbody tr th {\n",
       "        vertical-align: top;\n",
       "    }\n",
       "\n",
       "    .dataframe thead th {\n",
       "        text-align: right;\n",
       "    }\n",
       "</style>\n",
       "<table border=\"1\" class=\"dataframe\">\n",
       "  <thead>\n",
       "    <tr style=\"text-align: right;\">\n",
       "      <th></th>\n",
       "      <th>sepal length (cm)</th>\n",
       "      <th>sepal width (cm)</th>\n",
       "      <th>petal length (cm)</th>\n",
       "      <th>petal width (cm)</th>\n",
       "      <th>target</th>\n",
       "    </tr>\n",
       "  </thead>\n",
       "  <tbody>\n",
       "    <tr>\n",
       "      <th>0</th>\n",
       "      <td>5.1</td>\n",
       "      <td>3.5</td>\n",
       "      <td>1.4</td>\n",
       "      <td>0.2</td>\n",
       "      <td>0</td>\n",
       "    </tr>\n",
       "    <tr>\n",
       "      <th>1</th>\n",
       "      <td>4.9</td>\n",
       "      <td>3.0</td>\n",
       "      <td>1.4</td>\n",
       "      <td>0.2</td>\n",
       "      <td>0</td>\n",
       "    </tr>\n",
       "    <tr>\n",
       "      <th>2</th>\n",
       "      <td>4.7</td>\n",
       "      <td>3.2</td>\n",
       "      <td>1.3</td>\n",
       "      <td>0.2</td>\n",
       "      <td>0</td>\n",
       "    </tr>\n",
       "    <tr>\n",
       "      <th>3</th>\n",
       "      <td>4.6</td>\n",
       "      <td>3.1</td>\n",
       "      <td>1.5</td>\n",
       "      <td>0.2</td>\n",
       "      <td>0</td>\n",
       "    </tr>\n",
       "    <tr>\n",
       "      <th>4</th>\n",
       "      <td>5.0</td>\n",
       "      <td>3.6</td>\n",
       "      <td>1.4</td>\n",
       "      <td>0.2</td>\n",
       "      <td>0</td>\n",
       "    </tr>\n",
       "    <tr>\n",
       "      <th>...</th>\n",
       "      <td>...</td>\n",
       "      <td>...</td>\n",
       "      <td>...</td>\n",
       "      <td>...</td>\n",
       "      <td>...</td>\n",
       "    </tr>\n",
       "    <tr>\n",
       "      <th>145</th>\n",
       "      <td>6.7</td>\n",
       "      <td>3.0</td>\n",
       "      <td>5.2</td>\n",
       "      <td>2.3</td>\n",
       "      <td>2</td>\n",
       "    </tr>\n",
       "    <tr>\n",
       "      <th>146</th>\n",
       "      <td>6.3</td>\n",
       "      <td>2.5</td>\n",
       "      <td>5.0</td>\n",
       "      <td>1.9</td>\n",
       "      <td>2</td>\n",
       "    </tr>\n",
       "    <tr>\n",
       "      <th>147</th>\n",
       "      <td>6.5</td>\n",
       "      <td>3.0</td>\n",
       "      <td>5.2</td>\n",
       "      <td>2.0</td>\n",
       "      <td>2</td>\n",
       "    </tr>\n",
       "    <tr>\n",
       "      <th>148</th>\n",
       "      <td>6.2</td>\n",
       "      <td>3.4</td>\n",
       "      <td>5.4</td>\n",
       "      <td>2.3</td>\n",
       "      <td>2</td>\n",
       "    </tr>\n",
       "    <tr>\n",
       "      <th>149</th>\n",
       "      <td>5.9</td>\n",
       "      <td>3.0</td>\n",
       "      <td>5.1</td>\n",
       "      <td>1.8</td>\n",
       "      <td>2</td>\n",
       "    </tr>\n",
       "  </tbody>\n",
       "</table>\n",
       "<p>150 rows × 5 columns</p>\n",
       "</div>"
      ],
      "text/plain": [
       "     sepal length (cm)  sepal width (cm)  petal length (cm)  petal width (cm)  \\\n",
       "0                  5.1               3.5                1.4               0.2   \n",
       "1                  4.9               3.0                1.4               0.2   \n",
       "2                  4.7               3.2                1.3               0.2   \n",
       "3                  4.6               3.1                1.5               0.2   \n",
       "4                  5.0               3.6                1.4               0.2   \n",
       "..                 ...               ...                ...               ...   \n",
       "145                6.7               3.0                5.2               2.3   \n",
       "146                6.3               2.5                5.0               1.9   \n",
       "147                6.5               3.0                5.2               2.0   \n",
       "148                6.2               3.4                5.4               2.3   \n",
       "149                5.9               3.0                5.1               1.8   \n",
       "\n",
       "     target  \n",
       "0         0  \n",
       "1         0  \n",
       "2         0  \n",
       "3         0  \n",
       "4         0  \n",
       "..      ...  \n",
       "145       2  \n",
       "146       2  \n",
       "147       2  \n",
       "148       2  \n",
       "149       2  \n",
       "\n",
       "[150 rows x 5 columns]"
      ]
     },
     "execution_count": 15,
     "metadata": {},
     "output_type": "execute_result"
    }
   ],
   "source": [
    "# X, y = load_iris(return_X_y = True)\n",
    "iris = load_iris()\n",
    "X = iris.data\n",
    "y = iris.target\n",
    "iris_df = pd.DataFrame(iris.data, columns=iris.feature_names)\n",
    "iris_df['target'] = y\n",
    "iris_df"
   ]
  },
  {
   "cell_type": "markdown",
   "id": "239071c7",
   "metadata": {},
   "source": [
    "## 계층적 군집 분석 - 덴드로그램"
   ]
  },
  {
   "cell_type": "code",
   "execution_count": 38,
   "id": "608f5b79",
   "metadata": {
    "execution": {
     "iopub.execute_input": "2022-11-11T07:43:28.045550Z",
     "iopub.status.busy": "2022-11-11T07:43:28.045550Z",
     "iopub.status.idle": "2022-11-11T07:43:28.061340Z",
     "shell.execute_reply": "2022-11-11T07:43:28.061046Z",
     "shell.execute_reply.started": "2022-11-11T07:43:28.045550Z"
    },
    "tags": []
   },
   "outputs": [
    {
     "data": {
      "text/plain": [
       "(149, 4)"
      ]
     },
     "execution_count": 38,
     "metadata": {},
     "output_type": "execute_result"
    }
   ],
   "source": [
    "# 계층적 군집 분석의 연결방식 : 단순연결(single), 완전연결(complete), 평균연결방식(average)\n",
    "# 기본이 완전연결, 유클리드거리\n",
    "# y는 데이터 프레임 형태\n",
    "cluster = linkage(y=iris_df, method='complete', metric='euclidean')\n",
    "cluster.shape"
   ]
  },
  {
   "cell_type": "code",
   "execution_count": 18,
   "id": "2280540b",
   "metadata": {
    "execution": {
     "iopub.execute_input": "2022-11-11T07:39:00.213050Z",
     "iopub.status.busy": "2022-11-11T07:39:00.213050Z",
     "iopub.status.idle": "2022-11-11T07:39:01.284291Z",
     "shell.execute_reply": "2022-11-11T07:39:01.283389Z",
     "shell.execute_reply.started": "2022-11-11T07:39:00.213050Z"
    },
    "tags": []
   },
   "outputs": [
    {
     "data": {
      "image/png": "[encoded data removed]",
      "text/plain": [
       "<Figure size 2500x1000 with 1 Axes>"
      ]
     },
     "metadata": {},
     "output_type": "display_data"
    }
   ],
   "source": [
    "# 군집수 결정 : 덴드로그램 시각화\n",
    "plt.figure(figsize=(25, 10))\n",
    "# leaf_rotation = 90 글자 각도\n",
    "# leaf_font_size = 12 글자 크기\n",
    "dendrogram(cluster, leaf_rotation=90, leaf_font_size=12)\n",
    "plt.show()"
   ]
  },
  {
   "cell_type": "code",
   "execution_count": 32,
   "id": "57638cef",
   "metadata": {
    "execution": {
     "iopub.execute_input": "2022-11-11T07:42:14.969488Z",
     "iopub.status.busy": "2022-11-11T07:42:14.968485Z",
     "iopub.status.idle": "2022-11-11T07:42:14.989263Z",
     "shell.execute_reply": "2022-11-11T07:42:14.988263Z",
     "shell.execute_reply.started": "2022-11-11T07:42:14.969488Z"
    },
    "tags": []
   },
   "outputs": [
    {
     "data": {
      "text/plain": [
       "array([1, 1, 1, 1, 1, 1, 1, 1, 1, 1, 1, 1, 1, 1, 1, 1, 1, 1, 1, 1, 1, 1,\n",
       "       1, 1, 1, 1, 1, 1, 1, 1, 1, 1, 1, 1, 1, 1, 1, 1, 1, 1, 1, 1, 1, 1,\n",
       "       1, 1, 1, 1, 1, 1, 3, 3, 3, 3, 3, 3, 3, 3, 3, 3, 3, 3, 3, 3, 3, 3,\n",
       "       3, 3, 3, 3, 3, 3, 3, 3, 3, 3, 3, 3, 3, 3, 3, 3, 3, 3, 3, 3, 3, 3,\n",
       "       3, 3, 3, 3, 3, 3, 3, 3, 3, 3, 3, 3, 2, 3, 2, 2, 2, 2, 3, 2, 2, 2,\n",
       "       2, 3, 2, 3, 3, 2, 2, 2, 2, 3, 2, 3, 2, 3, 2, 2, 3, 3, 2, 2, 2, 2,\n",
       "       2, 3, 3, 2, 2, 2, 3, 2, 2, 2, 3, 2, 2, 2, 3, 2, 2, 3], dtype=int32)"
      ]
     },
     "execution_count": 32,
     "metadata": {},
     "output_type": "execute_result"
    }
   ],
   "source": [
    "# 클러스터링 결과\n",
    "\n",
    "cut_tree = fcluster(cluster, t=3, criterion='distance')\n",
    "\n",
    "# prediction\n",
    "cut_tree"
   ]
  },
  {
   "cell_type": "code",
   "execution_count": 31,
   "id": "7d76788d",
   "metadata": {
    "execution": {
     "iopub.execute_input": "2022-11-11T07:42:07.009358Z",
     "iopub.status.busy": "2022-11-11T07:42:07.009358Z",
     "iopub.status.idle": "2022-11-11T07:42:07.030930Z",
     "shell.execute_reply": "2022-11-11T07:42:07.029927Z",
     "shell.execute_reply.started": "2022-11-11T07:42:07.009358Z"
    },
    "tags": []
   },
   "outputs": [
    {
     "data": {
      "text/html": [
       "<div>\n",
       "<style scoped>\n",
       "    .dataframe tbody tr th:only-of-type {\n",
       "        vertical-align: middle;\n",
       "    }\n",
       "\n",
       "    .dataframe tbody tr th {\n",
       "        vertical-align: top;\n",
       "    }\n",
       "\n",
       "    .dataframe thead th {\n",
       "        text-align: right;\n",
       "    }\n",
       "</style>\n",
       "<table border=\"1\" class=\"dataframe\">\n",
       "  <thead>\n",
       "    <tr style=\"text-align: right;\">\n",
       "      <th></th>\n",
       "      <th>pred</th>\n",
       "      <th>target</th>\n",
       "    </tr>\n",
       "  </thead>\n",
       "  <tbody>\n",
       "    <tr>\n",
       "      <th>0</th>\n",
       "      <td>1</td>\n",
       "      <td>0</td>\n",
       "    </tr>\n",
       "    <tr>\n",
       "      <th>1</th>\n",
       "      <td>1</td>\n",
       "      <td>0</td>\n",
       "    </tr>\n",
       "    <tr>\n",
       "      <th>2</th>\n",
       "      <td>1</td>\n",
       "      <td>0</td>\n",
       "    </tr>\n",
       "    <tr>\n",
       "      <th>3</th>\n",
       "      <td>1</td>\n",
       "      <td>0</td>\n",
       "    </tr>\n",
       "    <tr>\n",
       "      <th>4</th>\n",
       "      <td>1</td>\n",
       "      <td>0</td>\n",
       "    </tr>\n",
       "    <tr>\n",
       "      <th>...</th>\n",
       "      <td>...</td>\n",
       "      <td>...</td>\n",
       "    </tr>\n",
       "    <tr>\n",
       "      <th>145</th>\n",
       "      <td>2</td>\n",
       "      <td>2</td>\n",
       "    </tr>\n",
       "    <tr>\n",
       "      <th>146</th>\n",
       "      <td>3</td>\n",
       "      <td>2</td>\n",
       "    </tr>\n",
       "    <tr>\n",
       "      <th>147</th>\n",
       "      <td>2</td>\n",
       "      <td>2</td>\n",
       "    </tr>\n",
       "    <tr>\n",
       "      <th>148</th>\n",
       "      <td>2</td>\n",
       "      <td>2</td>\n",
       "    </tr>\n",
       "    <tr>\n",
       "      <th>149</th>\n",
       "      <td>3</td>\n",
       "      <td>2</td>\n",
       "    </tr>\n",
       "  </tbody>\n",
       "</table>\n",
       "<p>150 rows × 2 columns</p>\n",
       "</div>"
      ],
      "text/plain": [
       "     pred  target\n",
       "0       1       0\n",
       "1       1       0\n",
       "2       1       0\n",
       "3       1       0\n",
       "4       1       0\n",
       "..    ...     ...\n",
       "145     2       2\n",
       "146     3       2\n",
       "147     2       2\n",
       "148     2       2\n",
       "149     3       2\n",
       "\n",
       "[150 rows x 2 columns]"
      ]
     },
     "execution_count": 31,
     "metadata": {},
     "output_type": "execute_result"
    }
   ],
   "source": [
    "labels = iris_df['target']  # 정답\n",
    "df = pd.DataFrame({'pred': cut_tree, 'target': labels})\n",
    "df"
   ]
  },
  {
   "cell_type": "code",
   "execution_count": 30,
   "id": "cae3f736",
   "metadata": {
    "execution": {
     "iopub.execute_input": "2022-11-11T07:41:58.593695Z",
     "iopub.status.busy": "2022-11-11T07:41:58.592711Z",
     "iopub.status.idle": "2022-11-11T07:41:58.618285Z",
     "shell.execute_reply": "2022-11-11T07:41:58.618145Z",
     "shell.execute_reply.started": "2022-11-11T07:41:58.593695Z"
    },
    "tags": []
   },
   "outputs": [
    {
     "data": {
      "text/html": [
       "<div>\n",
       "<style scoped>\n",
       "    .dataframe tbody tr th:only-of-type {\n",
       "        vertical-align: middle;\n",
       "    }\n",
       "\n",
       "    .dataframe tbody tr th {\n",
       "        vertical-align: top;\n",
       "    }\n",
       "\n",
       "    .dataframe thead th {\n",
       "        text-align: right;\n",
       "    }\n",
       "</style>\n",
       "<table border=\"1\" class=\"dataframe\">\n",
       "  <thead>\n",
       "    <tr style=\"text-align: right;\">\n",
       "      <th>target</th>\n",
       "      <th>0</th>\n",
       "      <th>1</th>\n",
       "      <th>2</th>\n",
       "    </tr>\n",
       "    <tr>\n",
       "      <th>pred</th>\n",
       "      <th></th>\n",
       "      <th></th>\n",
       "      <th></th>\n",
       "    </tr>\n",
       "  </thead>\n",
       "  <tbody>\n",
       "    <tr>\n",
       "      <th>1</th>\n",
       "      <td>50</td>\n",
       "      <td>0</td>\n",
       "      <td>0</td>\n",
       "    </tr>\n",
       "    <tr>\n",
       "      <th>2</th>\n",
       "      <td>0</td>\n",
       "      <td>0</td>\n",
       "      <td>34</td>\n",
       "    </tr>\n",
       "    <tr>\n",
       "      <th>3</th>\n",
       "      <td>0</td>\n",
       "      <td>50</td>\n",
       "      <td>16</td>\n",
       "    </tr>\n",
       "  </tbody>\n",
       "</table>\n",
       "</div>"
      ],
      "text/plain": [
       "target   0   1   2\n",
       "pred              \n",
       "1       50   0   0\n",
       "2        0   0  34\n",
       "3        0  50  16"
      ]
     },
     "execution_count": 30,
     "metadata": {},
     "output_type": "execute_result"
    }
   ],
   "source": [
    "con_mat = pd.crosstab(df['pred'], df['target'])  # 교차행렬만들어라\n",
    "con_mat\n",
    "# pred의 1,2,3은 labels의 0,1,2와 같다.\n",
    "# 잘 못 골라냄"
   ]
  },
  {
   "cell_type": "code",
   "execution_count": 29,
   "id": "f1a10746",
   "metadata": {
    "execution": {
     "iopub.execute_input": "2022-11-11T07:41:46.640164Z",
     "iopub.status.busy": "2022-11-11T07:41:46.639165Z",
     "iopub.status.idle": "2022-11-11T07:41:46.650323Z",
     "shell.execute_reply": "2022-11-11T07:41:46.649318Z",
     "shell.execute_reply.started": "2022-11-11T07:41:46.640164Z"
    },
    "tags": []
   },
   "outputs": [],
   "source": [
    "# iris_df에 군집 예측치를 추가\n",
    "iris_df.head()\n",
    "iris_df['cluster'] = cut_tree"
   ]
  },
  {
   "cell_type": "code",
   "execution_count": 64,
   "id": "6eb6ca8a",
   "metadata": {
    "execution": {
     "iopub.execute_input": "2022-11-11T08:28:26.899183Z",
     "iopub.status.busy": "2022-11-11T08:28:26.899183Z",
     "iopub.status.idle": "2022-11-11T08:28:26.985645Z",
     "shell.execute_reply": "2022-11-11T08:28:26.985645Z",
     "shell.execute_reply.started": "2022-11-11T08:28:26.899183Z"
    },
    "tags": []
   },
   "outputs": [
    {
     "ename": "KeyError",
     "evalue": "'cluster'",
     "output_type": "error",
     "traceback": [
      "\u001b[1;31m---------------------------------------------------------------------------\u001b[0m",
      "\u001b[1;31mKeyError\u001b[0m                                  Traceback (most recent call last)",
      "\u001b[1;32mC:\\Anaconda3\\envs\\deep\\lib\\site-packages\\pandas\\core\\indexes\\base.py\u001b[0m in \u001b[0;36mget_loc\u001b[1;34m(self, key, method, tolerance)\u001b[0m\n\u001b[0;32m   3628\u001b[0m             \u001b[1;32mtry\u001b[0m\u001b[1;33m:\u001b[0m\u001b[1;33m\u001b[0m\u001b[1;33m\u001b[0m\u001b[0m\n\u001b[1;32m-> 3629\u001b[1;33m                 \u001b[1;32mreturn\u001b[0m \u001b[0mself\u001b[0m\u001b[1;33m.\u001b[0m\u001b[0m_engine\u001b[0m\u001b[1;33m.\u001b[0m\u001b[0mget_loc\u001b[0m\u001b[1;33m(\u001b[0m\u001b[0mcasted_key\u001b[0m\u001b[1;33m)\u001b[0m\u001b[1;33m\u001b[0m\u001b[1;33m\u001b[0m\u001b[0m\n\u001b[0m\u001b[0;32m   3630\u001b[0m             \u001b[1;32mexcept\u001b[0m \u001b[0mKeyError\u001b[0m \u001b[1;32mas\u001b[0m \u001b[0merr\u001b[0m\u001b[1;33m:\u001b[0m\u001b[1;33m\u001b[0m\u001b[1;33m\u001b[0m\u001b[0m\n",
      "\u001b[1;32mC:\\Anaconda3\\envs\\deep\\lib\\site-packages\\pandas\\_libs\\index.pyx\u001b[0m in \u001b[0;36mpandas._libs.index.IndexEngine.get_loc\u001b[1;34m()\u001b[0m\n",
      "\u001b[1;32mC:\\Anaconda3\\envs\\deep\\lib\\site-packages\\pandas\\_libs\\index.pyx\u001b[0m in \u001b[0;36mpandas._libs.index.IndexEngine.get_loc\u001b[1;34m()\u001b[0m\n",
      "\u001b[1;32mpandas\\_libs\\hashtable_class_helper.pxi\u001b[0m in \u001b[0;36mpandas._libs.hashtable.PyObjectHashTable.get_item\u001b[1;34m()\u001b[0m\n",
      "\u001b[1;32mpandas\\_libs\\hashtable_class_helper.pxi\u001b[0m in \u001b[0;36mpandas._libs.hashtable.PyObjectHashTable.get_item\u001b[1;34m()\u001b[0m\n",
      "\u001b[1;31mKeyError\u001b[0m: 'cluster'",
      "\nThe above exception was the direct cause of the following exception:\n",
      "\u001b[1;31mKeyError\u001b[0m                                  Traceback (most recent call last)",
      "\u001b[1;32m~\\AppData\\Local\\Temp\\ipykernel_2312\\1044235594.py\u001b[0m in \u001b[0;36m<module>\u001b[1;34m\u001b[0m\n\u001b[0;32m      2\u001b[0m plt.scatter(x=iris_df['sepal length (cm)'],\n\u001b[0;32m      3\u001b[0m             \u001b[0my\u001b[0m\u001b[1;33m=\u001b[0m\u001b[0miris_df\u001b[0m\u001b[1;33m[\u001b[0m\u001b[1;34m'petal length (cm)'\u001b[0m\u001b[1;33m]\u001b[0m\u001b[1;33m,\u001b[0m\u001b[1;33m\u001b[0m\u001b[1;33m\u001b[0m\u001b[0m\n\u001b[1;32m----> 4\u001b[1;33m             c=iris_df['cluster'])\n\u001b[0m\u001b[0;32m      5\u001b[0m \u001b[0mplt\u001b[0m\u001b[1;33m.\u001b[0m\u001b[0mshow\u001b[0m\u001b[1;33m(\u001b[0m\u001b[1;33m)\u001b[0m\u001b[1;33m\u001b[0m\u001b[1;33m\u001b[0m\u001b[0m\n",
      "\u001b[1;32mC:\\Anaconda3\\envs\\deep\\lib\\site-packages\\pandas\\core\\frame.py\u001b[0m in \u001b[0;36m__getitem__\u001b[1;34m(self, key)\u001b[0m\n\u001b[0;32m   3503\u001b[0m             \u001b[1;32mif\u001b[0m \u001b[0mself\u001b[0m\u001b[1;33m.\u001b[0m\u001b[0mcolumns\u001b[0m\u001b[1;33m.\u001b[0m\u001b[0mnlevels\u001b[0m \u001b[1;33m>\u001b[0m \u001b[1;36m1\u001b[0m\u001b[1;33m:\u001b[0m\u001b[1;33m\u001b[0m\u001b[1;33m\u001b[0m\u001b[0m\n\u001b[0;32m   3504\u001b[0m                 \u001b[1;32mreturn\u001b[0m \u001b[0mself\u001b[0m\u001b[1;33m.\u001b[0m\u001b[0m_getitem_multilevel\u001b[0m\u001b[1;33m(\u001b[0m\u001b[0mkey\u001b[0m\u001b[1;33m)\u001b[0m\u001b[1;33m\u001b[0m\u001b[1;33m\u001b[0m\u001b[0m\n\u001b[1;32m-> 3505\u001b[1;33m             \u001b[0mindexer\u001b[0m \u001b[1;33m=\u001b[0m \u001b[0mself\u001b[0m\u001b[1;33m.\u001b[0m\u001b[0mcolumns\u001b[0m\u001b[1;33m.\u001b[0m\u001b[0mget_loc\u001b[0m\u001b[1;33m(\u001b[0m\u001b[0mkey\u001b[0m\u001b[1;33m)\u001b[0m\u001b[1;33m\u001b[0m\u001b[1;33m\u001b[0m\u001b[0m\n\u001b[0m\u001b[0;32m   3506\u001b[0m             \u001b[1;32mif\u001b[0m \u001b[0mis_integer\u001b[0m\u001b[1;33m(\u001b[0m\u001b[0mindexer\u001b[0m\u001b[1;33m)\u001b[0m\u001b[1;33m:\u001b[0m\u001b[1;33m\u001b[0m\u001b[1;33m\u001b[0m\u001b[0m\n\u001b[0;32m   3507\u001b[0m                 \u001b[0mindexer\u001b[0m \u001b[1;33m=\u001b[0m \u001b[1;33m[\u001b[0m\u001b[0mindexer\u001b[0m\u001b[1;33m]\u001b[0m\u001b[1;33m\u001b[0m\u001b[1;33m\u001b[0m\u001b[0m\n",
      "\u001b[1;32mC:\\Anaconda3\\envs\\deep\\lib\\site-packages\\pandas\\core\\indexes\\base.py\u001b[0m in \u001b[0;36mget_loc\u001b[1;34m(self, key, method, tolerance)\u001b[0m\n\u001b[0;32m   3629\u001b[0m                 \u001b[1;32mreturn\u001b[0m \u001b[0mself\u001b[0m\u001b[1;33m.\u001b[0m\u001b[0m_engine\u001b[0m\u001b[1;33m.\u001b[0m\u001b[0mget_loc\u001b[0m\u001b[1;33m(\u001b[0m\u001b[0mcasted_key\u001b[0m\u001b[1;33m)\u001b[0m\u001b[1;33m\u001b[0m\u001b[1;33m\u001b[0m\u001b[0m\n\u001b[0;32m   3630\u001b[0m             \u001b[1;32mexcept\u001b[0m \u001b[0mKeyError\u001b[0m \u001b[1;32mas\u001b[0m \u001b[0merr\u001b[0m\u001b[1;33m:\u001b[0m\u001b[1;33m\u001b[0m\u001b[1;33m\u001b[0m\u001b[0m\n\u001b[1;32m-> 3631\u001b[1;33m                 \u001b[1;32mraise\u001b[0m \u001b[0mKeyError\u001b[0m\u001b[1;33m(\u001b[0m\u001b[0mkey\u001b[0m\u001b[1;33m)\u001b[0m \u001b[1;32mfrom\u001b[0m \u001b[0merr\u001b[0m\u001b[1;33m\u001b[0m\u001b[1;33m\u001b[0m\u001b[0m\n\u001b[0m\u001b[0;32m   3632\u001b[0m             \u001b[1;32mexcept\u001b[0m \u001b[0mTypeError\u001b[0m\u001b[1;33m:\u001b[0m\u001b[1;33m\u001b[0m\u001b[1;33m\u001b[0m\u001b[0m\n\u001b[0;32m   3633\u001b[0m                 \u001b[1;31m# If we have a listlike key, _check_indexing_error will raise\u001b[0m\u001b[1;33m\u001b[0m\u001b[1;33m\u001b[0m\u001b[1;33m\u001b[0m\u001b[0m\n",
      "\u001b[1;31mKeyError\u001b[0m: 'cluster'"
     ]
    }
   ],
   "source": [
    "# 클러스터로 분리된 값 산점도 시각화\n",
    "plt.scatter(x=iris_df['sepal length (cm)'],\n",
    "            y=iris_df['petal length (cm)'],\n",
    "            c=iris_df['cluster'])\n",
    "plt.show()"
   ]
  },
  {
   "cell_type": "code",
   "execution_count": 26,
   "id": "2687f156",
   "metadata": {
    "execution": {
     "iopub.execute_input": "2022-11-11T07:40:22.742076Z",
     "iopub.status.busy": "2022-11-11T07:40:22.742076Z",
     "iopub.status.idle": "2022-11-11T07:40:22.769297Z",
     "shell.execute_reply": "2022-11-11T07:40:22.768402Z",
     "shell.execute_reply.started": "2022-11-11T07:40:22.742076Z"
    },
    "tags": []
   },
   "outputs": [
    {
     "data": {
      "text/plain": [
       "3    66\n",
       "1    50\n",
       "2    34\n",
       "Name: cluster, dtype: int64"
      ]
     },
     "execution_count": 26,
     "metadata": {},
     "output_type": "execute_result"
    }
   ],
   "source": [
    "# 클러스터 빈도수\n",
    "iris_df['target'] = iris.target\n",
    "iris_df['cluster'].value_counts()"
   ]
  },
  {
   "cell_type": "code",
   "execution_count": 39,
   "id": "af2eec2e",
   "metadata": {
    "execution": {
     "iopub.execute_input": "2022-11-11T07:43:39.362957Z",
     "iopub.status.busy": "2022-11-11T07:43:39.362022Z",
     "iopub.status.idle": "2022-11-11T07:43:39.380940Z",
     "shell.execute_reply": "2022-11-11T07:43:39.379941Z",
     "shell.execute_reply.started": "2022-11-11T07:43:39.362957Z"
    },
    "tags": []
   },
   "outputs": [
    {
     "data": {
      "text/html": [
       "<div>\n",
       "<style scoped>\n",
       "    .dataframe tbody tr th:only-of-type {\n",
       "        vertical-align: middle;\n",
       "    }\n",
       "\n",
       "    .dataframe tbody tr th {\n",
       "        vertical-align: top;\n",
       "    }\n",
       "\n",
       "    .dataframe thead th {\n",
       "        text-align: right;\n",
       "    }\n",
       "</style>\n",
       "<table border=\"1\" class=\"dataframe\">\n",
       "  <thead>\n",
       "    <tr style=\"text-align: right;\">\n",
       "      <th></th>\n",
       "      <th>sepal length (cm)</th>\n",
       "      <th>sepal width (cm)</th>\n",
       "      <th>petal length (cm)</th>\n",
       "      <th>petal width (cm)</th>\n",
       "      <th>target</th>\n",
       "    </tr>\n",
       "    <tr>\n",
       "      <th>cluster</th>\n",
       "      <th></th>\n",
       "      <th></th>\n",
       "      <th></th>\n",
       "      <th></th>\n",
       "      <th></th>\n",
       "    </tr>\n",
       "  </thead>\n",
       "  <tbody>\n",
       "    <tr>\n",
       "      <th>1</th>\n",
       "      <td>5.006000</td>\n",
       "      <td>3.428000</td>\n",
       "      <td>1.462000</td>\n",
       "      <td>0.246000</td>\n",
       "      <td>0.000000</td>\n",
       "    </tr>\n",
       "    <tr>\n",
       "      <th>2</th>\n",
       "      <td>6.888235</td>\n",
       "      <td>3.100000</td>\n",
       "      <td>5.805882</td>\n",
       "      <td>2.123529</td>\n",
       "      <td>2.000000</td>\n",
       "    </tr>\n",
       "    <tr>\n",
       "      <th>3</th>\n",
       "      <td>5.939394</td>\n",
       "      <td>2.754545</td>\n",
       "      <td>4.442424</td>\n",
       "      <td>1.445455</td>\n",
       "      <td>1.242424</td>\n",
       "    </tr>\n",
       "  </tbody>\n",
       "</table>\n",
       "</div>"
      ],
      "text/plain": [
       "         sepal length (cm)  sepal width (cm)  petal length (cm)  \\\n",
       "cluster                                                           \n",
       "1                 5.006000          3.428000           1.462000   \n",
       "2                 6.888235          3.100000           5.805882   \n",
       "3                 5.939394          2.754545           4.442424   \n",
       "\n",
       "         petal width (cm)    target  \n",
       "cluster                              \n",
       "1                0.246000  0.000000  \n",
       "2                2.123529  2.000000  \n",
       "3                1.445455  1.242424  "
      ]
     },
     "execution_count": 39,
     "metadata": {},
     "output_type": "execute_result"
    }
   ],
   "source": [
    "# 각 클러스터별 통계\n",
    "cluster_g = iris_df.groupby('cluster').mean()\n",
    "cluster_g"
   ]
  },
  {
   "cell_type": "markdown",
   "id": "d4ea92b5-487b-480a-84d4-f6fa93a33c54",
   "metadata": {},
   "source": [
    "# k-means : 비계층적 군집분석"
   ]
  },
  {
   "cell_type": "code",
   "execution_count": 41,
   "id": "e079996e-1c06-416a-86ea-7ea678bef201",
   "metadata": {
    "execution": {
     "iopub.execute_input": "2022-11-11T07:44:27.945540Z",
     "iopub.status.busy": "2022-11-11T07:44:27.945540Z",
     "iopub.status.idle": "2022-11-11T07:44:27.960538Z",
     "shell.execute_reply": "2022-11-11T07:44:27.959538Z",
     "shell.execute_reply.started": "2022-11-11T07:44:27.945540Z"
    },
    "tags": []
   },
   "outputs": [
    {
     "data": {
      "text/html": [
       "<div>\n",
       "<style scoped>\n",
       "    .dataframe tbody tr th:only-of-type {\n",
       "        vertical-align: middle;\n",
       "    }\n",
       "\n",
       "    .dataframe tbody tr th {\n",
       "        vertical-align: top;\n",
       "    }\n",
       "\n",
       "    .dataframe thead th {\n",
       "        text-align: right;\n",
       "    }\n",
       "</style>\n",
       "<table border=\"1\" class=\"dataframe\">\n",
       "  <thead>\n",
       "    <tr style=\"text-align: right;\">\n",
       "      <th></th>\n",
       "      <th>sepal length (cm)</th>\n",
       "      <th>sepal width (cm)</th>\n",
       "      <th>petal length (cm)</th>\n",
       "      <th>petal width (cm)</th>\n",
       "      <th>target</th>\n",
       "      <th>cluster</th>\n",
       "    </tr>\n",
       "  </thead>\n",
       "  <tbody>\n",
       "    <tr>\n",
       "      <th>0</th>\n",
       "      <td>5.1</td>\n",
       "      <td>3.5</td>\n",
       "      <td>1.4</td>\n",
       "      <td>0.2</td>\n",
       "      <td>0</td>\n",
       "      <td>1</td>\n",
       "    </tr>\n",
       "    <tr>\n",
       "      <th>1</th>\n",
       "      <td>4.9</td>\n",
       "      <td>3.0</td>\n",
       "      <td>1.4</td>\n",
       "      <td>0.2</td>\n",
       "      <td>0</td>\n",
       "      <td>1</td>\n",
       "    </tr>\n",
       "    <tr>\n",
       "      <th>2</th>\n",
       "      <td>4.7</td>\n",
       "      <td>3.2</td>\n",
       "      <td>1.3</td>\n",
       "      <td>0.2</td>\n",
       "      <td>0</td>\n",
       "      <td>1</td>\n",
       "    </tr>\n",
       "    <tr>\n",
       "      <th>3</th>\n",
       "      <td>4.6</td>\n",
       "      <td>3.1</td>\n",
       "      <td>1.5</td>\n",
       "      <td>0.2</td>\n",
       "      <td>0</td>\n",
       "      <td>1</td>\n",
       "    </tr>\n",
       "    <tr>\n",
       "      <th>4</th>\n",
       "      <td>5.0</td>\n",
       "      <td>3.6</td>\n",
       "      <td>1.4</td>\n",
       "      <td>0.2</td>\n",
       "      <td>0</td>\n",
       "      <td>1</td>\n",
       "    </tr>\n",
       "  </tbody>\n",
       "</table>\n",
       "</div>"
      ],
      "text/plain": [
       "   sepal length (cm)  sepal width (cm)  petal length (cm)  petal width (cm)  \\\n",
       "0                5.1               3.5                1.4               0.2   \n",
       "1                4.9               3.0                1.4               0.2   \n",
       "2                4.7               3.2                1.3               0.2   \n",
       "3                4.6               3.1                1.5               0.2   \n",
       "4                5.0               3.6                1.4               0.2   \n",
       "\n",
       "   target  cluster  \n",
       "0       0        1  \n",
       "1       0        1  \n",
       "2       0        1  \n",
       "3       0        1  \n",
       "4       0        1  "
      ]
     },
     "execution_count": 41,
     "metadata": {},
     "output_type": "execute_result"
    }
   ],
   "source": [
    "iris_df.head()"
   ]
  },
  {
   "cell_type": "code",
   "execution_count": 43,
   "id": "2676b34a-8a64-4c25-93d2-373eb5cc4234",
   "metadata": {
    "execution": {
     "iopub.execute_input": "2022-11-11T07:46:33.527720Z",
     "iopub.status.busy": "2022-11-11T07:46:33.527720Z",
     "iopub.status.idle": "2022-11-11T07:46:33.544492Z",
     "shell.execute_reply": "2022-11-11T07:46:33.543498Z",
     "shell.execute_reply.started": "2022-11-11T07:46:33.527720Z"
    },
    "tags": []
   },
   "outputs": [
    {
     "data": {
      "text/html": [
       "<div>\n",
       "<style scoped>\n",
       "    .dataframe tbody tr th:only-of-type {\n",
       "        vertical-align: middle;\n",
       "    }\n",
       "\n",
       "    .dataframe tbody tr th {\n",
       "        vertical-align: top;\n",
       "    }\n",
       "\n",
       "    .dataframe thead th {\n",
       "        text-align: right;\n",
       "    }\n",
       "</style>\n",
       "<table border=\"1\" class=\"dataframe\">\n",
       "  <thead>\n",
       "    <tr style=\"text-align: right;\">\n",
       "      <th></th>\n",
       "      <th>sepal_length</th>\n",
       "      <th>sepal_width</th>\n",
       "      <th>petal_length</th>\n",
       "      <th>petal_width</th>\n",
       "    </tr>\n",
       "  </thead>\n",
       "  <tbody>\n",
       "    <tr>\n",
       "      <th>0</th>\n",
       "      <td>5.1</td>\n",
       "      <td>3.5</td>\n",
       "      <td>1.4</td>\n",
       "      <td>0.2</td>\n",
       "    </tr>\n",
       "    <tr>\n",
       "      <th>1</th>\n",
       "      <td>4.9</td>\n",
       "      <td>3.0</td>\n",
       "      <td>1.4</td>\n",
       "      <td>0.2</td>\n",
       "    </tr>\n",
       "    <tr>\n",
       "      <th>2</th>\n",
       "      <td>4.7</td>\n",
       "      <td>3.2</td>\n",
       "      <td>1.3</td>\n",
       "      <td>0.2</td>\n",
       "    </tr>\n",
       "    <tr>\n",
       "      <th>3</th>\n",
       "      <td>4.6</td>\n",
       "      <td>3.1</td>\n",
       "      <td>1.5</td>\n",
       "      <td>0.2</td>\n",
       "    </tr>\n",
       "    <tr>\n",
       "      <th>4</th>\n",
       "      <td>5.0</td>\n",
       "      <td>3.6</td>\n",
       "      <td>1.4</td>\n",
       "      <td>0.2</td>\n",
       "    </tr>\n",
       "  </tbody>\n",
       "</table>\n",
       "</div>"
      ],
      "text/plain": [
       "   sepal_length  sepal_width  petal_length  petal_width\n",
       "0           5.1          3.5           1.4          0.2\n",
       "1           4.9          3.0           1.4          0.2\n",
       "2           4.7          3.2           1.3          0.2\n",
       "3           4.6          3.1           1.5          0.2\n",
       "4           5.0          3.6           1.4          0.2"
      ]
     },
     "execution_count": 43,
     "metadata": {},
     "output_type": "execute_result"
    }
   ],
   "source": [
    "# target을 제외한 feature를 이용해서 데이터 프레임을 생성\n",
    "iris = load_iris()\n",
    "cols = ['sepal_length', 'sepal_width', 'petal_length', 'petal_width']\n",
    "iris_df = pd.DataFrame(data=iris.data, columns=cols)\n",
    "iris_df.head()"
   ]
  },
  {
   "cell_type": "code",
   "execution_count": 44,
   "id": "97181ca6-51f8-4ab2-886c-11a9111aee1b",
   "metadata": {
    "execution": {
     "iopub.execute_input": "2022-11-11T07:49:25.014032Z",
     "iopub.status.busy": "2022-11-11T07:49:25.014032Z",
     "iopub.status.idle": "2022-11-11T07:49:25.350724Z",
     "shell.execute_reply": "2022-11-11T07:49:25.350724Z",
     "shell.execute_reply.started": "2022-11-11T07:49:25.014032Z"
    }
   },
   "outputs": [
    {
     "name": "stderr",
     "output_type": "stream",
     "text": [
      "C:\\Anaconda3\\envs\\deep\\lib\\site-packages\\sklearn\\cluster\\_kmeans.py:1334: UserWarning: KMeans is known to have a memory leak on Windows with MKL, when there are less chunks than available threads. You can avoid it by setting the environment variable OMP_NUM_THREADS=1.\n",
      "  warnings.warn(\n"
     ]
    },
    {
     "data": {
      "text/html": [
       "<style>#sk-container-id-1 {color: black;background-color: white;}#sk-container-id-1 pre{padding: 0;}#sk-container-id-1 div.sk-toggleable {background-color: white;}#sk-container-id-1 label.sk-toggleable__label {cursor: pointer;display: block;width: 100%;margin-bottom: 0;padding: 0.3em;box-sizing: border-box;text-align: center;}#sk-container-id-1 label.sk-toggleable__label-arrow:before {content: \"▸\";float: left;margin-right: 0.25em;color: #696969;}#sk-container-id-1 label.sk-toggleable__label-arrow:hover:before {color: black;}#sk-container-id-1 div.sk-estimator:hover label.sk-toggleable__label-arrow:before {color: black;}#sk-container-id-1 div.sk-toggleable__content {max-height: 0;max-width: 0;overflow: hidden;text-align: left;background-color: #f0f8ff;}#sk-container-id-1 div.sk-toggleable__content pre {margin: 0.2em;color: black;border-radius: 0.25em;background-color: #f0f8ff;}#sk-container-id-1 input.sk-toggleable__control:checked~div.sk-toggleable__content {max-height: 200px;max-width: 100%;overflow: auto;}#sk-container-id-1 input.sk-toggleable__control:checked~label.sk-toggleable__label-arrow:before {content: \"▾\";}#sk-container-id-1 div.sk-estimator input.sk-toggleable__control:checked~label.sk-toggleable__label {background-color: #d4ebff;}#sk-container-id-1 div.sk-label input.sk-toggleable__control:checked~label.sk-toggleable__label {background-color: #d4ebff;}#sk-container-id-1 input.sk-hidden--visually {border: 0;clip: rect(1px 1px 1px 1px);clip: rect(1px, 1px, 1px, 1px);height: 1px;margin: -1px;overflow: hidden;padding: 0;position: absolute;width: 1px;}#sk-container-id-1 div.sk-estimator {font-family: monospace;background-color: #f0f8ff;border: 1px dotted black;border-radius: 0.25em;box-sizing: border-box;margin-bottom: 0.5em;}#sk-container-id-1 div.sk-estimator:hover {background-color: #d4ebff;}#sk-container-id-1 div.sk-parallel-item::after {content: \"\";width: 100%;border-bottom: 1px solid gray;flex-grow: 1;}#sk-container-id-1 div.sk-label:hover label.sk-toggleable__label {background-color: #d4ebff;}#sk-container-id-1 div.sk-serial::before {content: \"\";position: absolute;border-left: 1px solid gray;box-sizing: border-box;top: 0;bottom: 0;left: 50%;z-index: 0;}#sk-container-id-1 div.sk-serial {display: flex;flex-direction: column;align-items: center;background-color: white;padding-right: 0.2em;padding-left: 0.2em;position: relative;}#sk-container-id-1 div.sk-item {position: relative;z-index: 1;}#sk-container-id-1 div.sk-parallel {display: flex;align-items: stretch;justify-content: center;background-color: white;position: relative;}#sk-container-id-1 div.sk-item::before, #sk-container-id-1 div.sk-parallel-item::before {content: \"\";position: absolute;border-left: 1px solid gray;box-sizing: border-box;top: 0;bottom: 0;left: 50%;z-index: -1;}#sk-container-id-1 div.sk-parallel-item {display: flex;flex-direction: column;z-index: 1;position: relative;background-color: white;}#sk-container-id-1 div.sk-parallel-item:first-child::after {align-self: flex-end;width: 50%;}#sk-container-id-1 div.sk-parallel-item:last-child::after {align-self: flex-start;width: 50%;}#sk-container-id-1 div.sk-parallel-item:only-child::after {width: 0;}#sk-container-id-1 div.sk-dashed-wrapped {border: 1px dashed gray;margin: 0 0.4em 0.5em 0.4em;box-sizing: border-box;padding-bottom: 0.4em;background-color: white;}#sk-container-id-1 div.sk-label label {font-family: monospace;font-weight: bold;display: inline-block;line-height: 1.2em;}#sk-container-id-1 div.sk-label-container {text-align: center;}#sk-container-id-1 div.sk-container {/* jupyter's `normalize.less` sets `[hidden] { display: none; }` but bootstrap.min.css set `[hidden] { display: none !important; }` so we also need the `!important` here to be able to override the default hidden behavior on the sphinx rendered scikit-learn.org. See: https://github.com/scikit-learn/scikit-learn/issues/21755 */display: inline-block !important;position: relative;}#sk-container-id-1 div.sk-text-repr-fallback {display: none;}</style><div id=\"sk-container-id-1\" class=\"sk-top-container\"><div class=\"sk-text-repr-fallback\"><pre>KMeans(n_clusters=3, random_state=0)</pre><b>In a Jupyter environment, please rerun this cell to show the HTML representation or trust the notebook. <br />On GitHub, the HTML representation is unable to render, please try loading this page with nbviewer.org.</b></div><div class=\"sk-container\" hidden><div class=\"sk-item\"><div class=\"sk-estimator sk-toggleable\"><input class=\"sk-toggleable__control sk-hidden--visually\" id=\"sk-estimator-id-1\" type=\"checkbox\" checked><label for=\"sk-estimator-id-1\" class=\"sk-toggleable__label sk-toggleable__label-arrow\">KMeans</label><div class=\"sk-toggleable__content\"><pre>KMeans(n_clusters=3, random_state=0)</pre></div></div></div></div></div>"
      ],
      "text/plain": [
       "KMeans(n_clusters=3, random_state=0)"
      ]
     },
     "execution_count": 44,
     "metadata": {},
     "output_type": "execute_result"
    }
   ],
   "source": [
    "from sklearn.cluster import KMeans\n",
    "\n",
    "kmeans = KMeans(n_clusters=3, init='k-means++', max_iter=300, random_state=0)\n",
    "kmeans.fit(iris_df)"
   ]
  },
  {
   "cell_type": "code",
   "execution_count": 45,
   "id": "05d69216-3750-4829-98dc-de779e6162a9",
   "metadata": {
    "execution": {
     "iopub.execute_input": "2022-11-11T07:50:09.331599Z",
     "iopub.status.busy": "2022-11-11T07:50:09.331599Z",
     "iopub.status.idle": "2022-11-11T07:50:09.344683Z",
     "shell.execute_reply": "2022-11-11T07:50:09.344510Z",
     "shell.execute_reply.started": "2022-11-11T07:50:09.331599Z"
    }
   },
   "outputs": [
    {
     "data": {
      "text/plain": [
       "array([1, 1, 1, 1, 1, 1, 1, 1, 1, 1, 1, 1, 1, 1, 1, 1, 1, 1, 1, 1, 1, 1,\n",
       "       1, 1, 1, 1, 1, 1, 1, 1, 1, 1, 1, 1, 1, 1, 1, 1, 1, 1, 1, 1, 1, 1,\n",
       "       1, 1, 1, 1, 1, 1, 0, 0, 2, 0, 0, 0, 0, 0, 0, 0, 0, 0, 0, 0, 0, 0,\n",
       "       0, 0, 0, 0, 0, 0, 0, 0, 0, 0, 0, 2, 0, 0, 0, 0, 0, 0, 0, 0, 0, 0,\n",
       "       0, 0, 0, 0, 0, 0, 0, 0, 0, 0, 0, 0, 2, 0, 2, 2, 2, 2, 0, 2, 2, 2,\n",
       "       2, 2, 2, 0, 0, 2, 2, 2, 2, 0, 2, 0, 2, 0, 2, 2, 0, 0, 2, 2, 2, 2,\n",
       "       2, 0, 2, 2, 2, 2, 0, 2, 2, 2, 0, 2, 2, 2, 0, 2, 2, 0])"
      ]
     },
     "execution_count": 45,
     "metadata": {},
     "output_type": "execute_result"
    }
   ],
   "source": [
    "kmeans.labels_"
   ]
  },
  {
   "cell_type": "code",
   "execution_count": 46,
   "id": "9f45d215-9da8-4bb9-90f7-6a58eae5c3bc",
   "metadata": {
    "execution": {
     "iopub.execute_input": "2022-11-11T07:51:41.006286Z",
     "iopub.status.busy": "2022-11-11T07:51:41.005286Z",
     "iopub.status.idle": "2022-11-11T07:51:41.027300Z",
     "shell.execute_reply": "2022-11-11T07:51:41.027300Z",
     "shell.execute_reply.started": "2022-11-11T07:51:41.006286Z"
    }
   },
   "outputs": [
    {
     "data": {
      "text/plain": [
       "target  cluster\n",
       "0       1          50\n",
       "1       0          48\n",
       "        2           2\n",
       "2       0          14\n",
       "        2          36\n",
       "dtype: int64"
      ]
     },
     "execution_count": 46,
     "metadata": {},
     "output_type": "execute_result"
    }
   ],
   "source": [
    "iris_df['target'] = iris.target\n",
    "iris_df['cluster'] = kmeans.labels_\n",
    "\n",
    "iris_result = iris_df.groupby(['target', 'cluster']).size()\n",
    "iris_result"
   ]
  },
  {
   "cell_type": "markdown",
   "id": "894ab63f-2ed3-41bb-a6d0-b1e8498fe2a0",
   "metadata": {},
   "source": [
    "스케일링 필수!"
   ]
  },
  {
   "cell_type": "code",
   "execution_count": 47,
   "id": "07b210e4-6644-4aae-98d2-0125fb16a4bd",
   "metadata": {
    "execution": {
     "iopub.execute_input": "2022-11-11T07:57:06.303096Z",
     "iopub.status.busy": "2022-11-11T07:57:06.303096Z",
     "iopub.status.idle": "2022-11-11T07:57:06.321321Z",
     "shell.execute_reply": "2022-11-11T07:57:06.321321Z",
     "shell.execute_reply.started": "2022-11-11T07:57:06.303096Z"
    }
   },
   "outputs": [
    {
     "data": {
      "text/html": [
       "<div>\n",
       "<style scoped>\n",
       "    .dataframe tbody tr th:only-of-type {\n",
       "        vertical-align: middle;\n",
       "    }\n",
       "\n",
       "    .dataframe tbody tr th {\n",
       "        vertical-align: top;\n",
       "    }\n",
       "\n",
       "    .dataframe thead th {\n",
       "        text-align: right;\n",
       "    }\n",
       "</style>\n",
       "<table border=\"1\" class=\"dataframe\">\n",
       "  <thead>\n",
       "    <tr style=\"text-align: right;\">\n",
       "      <th></th>\n",
       "      <th>sepal_length</th>\n",
       "      <th>sepal_width</th>\n",
       "      <th>petal_length</th>\n",
       "      <th>petal_width</th>\n",
       "      <th>target</th>\n",
       "      <th>cluster</th>\n",
       "      <th>pca_x</th>\n",
       "      <th>pca_y</th>\n",
       "    </tr>\n",
       "  </thead>\n",
       "  <tbody>\n",
       "    <tr>\n",
       "      <th>0</th>\n",
       "      <td>5.1</td>\n",
       "      <td>3.5</td>\n",
       "      <td>1.4</td>\n",
       "      <td>0.2</td>\n",
       "      <td>0</td>\n",
       "      <td>1</td>\n",
       "      <td>-2.684126</td>\n",
       "      <td>0.319397</td>\n",
       "    </tr>\n",
       "    <tr>\n",
       "      <th>1</th>\n",
       "      <td>4.9</td>\n",
       "      <td>3.0</td>\n",
       "      <td>1.4</td>\n",
       "      <td>0.2</td>\n",
       "      <td>0</td>\n",
       "      <td>1</td>\n",
       "      <td>-2.714142</td>\n",
       "      <td>-0.177001</td>\n",
       "    </tr>\n",
       "    <tr>\n",
       "      <th>2</th>\n",
       "      <td>4.7</td>\n",
       "      <td>3.2</td>\n",
       "      <td>1.3</td>\n",
       "      <td>0.2</td>\n",
       "      <td>0</td>\n",
       "      <td>1</td>\n",
       "      <td>-2.888991</td>\n",
       "      <td>-0.144949</td>\n",
       "    </tr>\n",
       "  </tbody>\n",
       "</table>\n",
       "</div>"
      ],
      "text/plain": [
       "   sepal_length  sepal_width  petal_length  petal_width  target  cluster  \\\n",
       "0           5.1          3.5           1.4          0.2       0        1   \n",
       "1           4.9          3.0           1.4          0.2       0        1   \n",
       "2           4.7          3.2           1.3          0.2       0        1   \n",
       "\n",
       "      pca_x     pca_y  \n",
       "0 -2.684126  0.319397  \n",
       "1 -2.714142 -0.177001  \n",
       "2 -2.888991 -0.144949  "
      ]
     },
     "execution_count": 47,
     "metadata": {},
     "output_type": "execute_result"
    }
   ],
   "source": [
    "from sklearn.decomposition import PCA\n",
    "\n",
    "# PCA 차원축소\n",
    "pca = PCA(n_components=2)\n",
    "pca_transformed = pca.fit_transform(iris.data)\n",
    "\n",
    "iris_df['pca_x'] = pca_transformed[:, 0]\n",
    "iris_df['pca_y'] = pca_transformed[:, 1]\n",
    "iris_df.head(3)"
   ]
  },
  {
   "cell_type": "code",
   "execution_count": 49,
   "id": "14d13127-64e5-487e-b56c-11c93989159b",
   "metadata": {
    "execution": {
     "iopub.execute_input": "2022-11-11T07:58:18.452925Z",
     "iopub.status.busy": "2022-11-11T07:58:18.452925Z",
     "iopub.status.idle": "2022-11-11T07:58:18.566580Z",
     "shell.execute_reply": "2022-11-11T07:58:18.565595Z",
     "shell.execute_reply.started": "2022-11-11T07:58:18.452925Z"
    },
    "tags": []
   },
   "outputs": [
    {
     "data": {
      "image/png": "[encoded data removed]",
      "text/plain": [
       "<Figure size 640x480 with 1 Axes>"
      ]
     },
     "metadata": {},
     "output_type": "display_data"
    }
   ],
   "source": [
    "sns.scatterplot(x='pca_x', y='pca_y', data=iris_df,\n",
    "                hue='cluster', style='cluster')\n",
    "plt.show()"
   ]
  },
  {
   "cell_type": "code",
   "execution_count": 52,
   "id": "4f1d0714-6bbb-4f7c-a353-07beaab380a3",
   "metadata": {
    "execution": {
     "iopub.execute_input": "2022-11-11T08:03:44.618172Z",
     "iopub.status.busy": "2022-11-11T08:03:44.618172Z",
     "iopub.status.idle": "2022-11-11T08:03:44.658549Z",
     "shell.execute_reply": "2022-11-11T08:03:44.658549Z",
     "shell.execute_reply.started": "2022-11-11T08:03:44.618172Z"
    },
    "tags": []
   },
   "outputs": [
    {
     "data": {
      "text/plain": [
       "array([1, 1, 1, 1, 1, 1, 1, 1, 1, 1, 1, 1, 1, 1, 1, 1, 1, 1, 1, 1, 1, 1,\n",
       "       1, 1, 1, 1, 1, 1, 1, 1, 1, 1, 1, 1, 1, 1, 1, 1, 1, 1, 1, 1, 1, 1,\n",
       "       1, 1, 1, 1, 1, 1, 0, 0, 2, 0, 0, 0, 0, 0, 0, 0, 0, 0, 0, 0, 0, 0,\n",
       "       0, 0, 0, 0, 0, 0, 0, 0, 0, 0, 0, 2, 0, 0, 0, 0, 0, 0, 0, 0, 0, 0,\n",
       "       0, 0, 0, 0, 0, 0, 0, 0, 0, 0, 0, 0, 2, 0, 2, 2, 2, 2, 0, 2, 2, 2,\n",
       "       2, 2, 2, 0, 0, 2, 2, 2, 2, 0, 2, 0, 2, 0, 2, 2, 0, 0, 2, 2, 2, 2,\n",
       "       2, 0, 2, 2, 2, 2, 0, 2, 2, 2, 0, 2, 2, 2, 0, 2, 2, 0])"
      ]
     },
     "execution_count": 52,
     "metadata": {},
     "output_type": "execute_result"
    }
   ],
   "source": [
    "# kmeans.predict()\n",
    "pred = kmeans.predict(iris_df[['sepal_length', 'sepal_width', 'petal_length', 'petal_width']])\n",
    "pred"
   ]
  },
  {
   "cell_type": "code",
   "execution_count": 53,
   "id": "10d681e0-5c84-4b28-b231-c42f46eaff5d",
   "metadata": {
    "execution": {
     "iopub.execute_input": "2022-11-11T08:03:51.037816Z",
     "iopub.status.busy": "2022-11-11T08:03:51.037744Z",
     "iopub.status.idle": "2022-11-11T08:03:51.042691Z",
     "shell.execute_reply": "2022-11-11T08:03:51.042251Z",
     "shell.execute_reply.started": "2022-11-11T08:03:51.037816Z"
    }
   },
   "outputs": [
    {
     "data": {
      "text/plain": [
       "150"
      ]
     },
     "execution_count": 53,
     "metadata": {},
     "output_type": "execute_result"
    }
   ],
   "source": [
    "len(pred)"
   ]
  },
  {
   "cell_type": "code",
   "execution_count": 54,
   "id": "91176b59-7c8b-4afc-8091-6dfce50e604f",
   "metadata": {
    "execution": {
     "iopub.execute_input": "2022-11-11T08:05:04.014402Z",
     "iopub.status.busy": "2022-11-11T08:05:04.014402Z",
     "iopub.status.idle": "2022-11-11T08:05:04.093398Z",
     "shell.execute_reply": "2022-11-11T08:05:04.092484Z",
     "shell.execute_reply.started": "2022-11-11T08:05:04.014402Z"
    },
    "tags": []
   },
   "outputs": [
    {
     "data": {
      "image/png": "[encoded data removed]",
      "text/plain": [
       "<Figure size 640x480 with 1 Axes>"
      ]
     },
     "metadata": {},
     "output_type": "display_data"
    }
   ],
   "source": [
    "# 군집결과 시각화\n",
    "plt.scatter(x=iris_df['sepal_length'], y=iris_df['petal_length'], c=pred)\n",
    "plt.show()"
   ]
  },
  {
   "cell_type": "code",
   "execution_count": 56,
   "id": "39bfb6fd-9515-448a-87a3-d9aeed764520",
   "metadata": {
    "execution": {
     "iopub.execute_input": "2022-11-11T08:07:37.791860Z",
     "iopub.status.busy": "2022-11-11T08:07:37.791860Z",
     "iopub.status.idle": "2022-11-11T08:07:37.800969Z",
     "shell.execute_reply": "2022-11-11T08:07:37.800969Z",
     "shell.execute_reply.started": "2022-11-11T08:07:37.791860Z"
    },
    "tags": []
   },
   "outputs": [
    {
     "data": {
      "text/plain": [
       "array([[5.9016129 , 2.7483871 , 4.39354839, 1.43387097],\n",
       "       [5.006     , 3.428     , 1.462     , 0.246     ],\n",
       "       [6.85      , 3.07368421, 5.74210526, 2.07105263]])"
      ]
     },
     "execution_count": 56,
     "metadata": {},
     "output_type": "execute_result"
    }
   ],
   "source": [
    "centers = kmeans.cluster_centers_\n",
    "centers"
   ]
  },
  {
   "cell_type": "code",
   "execution_count": 60,
   "id": "3b73ebd9-97f2-46e3-aa24-4691ad165f4b",
   "metadata": {
    "execution": {
     "iopub.execute_input": "2022-11-11T08:12:53.297789Z",
     "iopub.status.busy": "2022-11-11T08:12:53.296804Z",
     "iopub.status.idle": "2022-11-11T08:12:53.389192Z",
     "shell.execute_reply": "2022-11-11T08:12:53.388209Z",
     "shell.execute_reply.started": "2022-11-11T08:12:53.297789Z"
    },
    "tags": []
   },
   "outputs": [
    {
     "data": {
      "text/plain": [
       "<matplotlib.collections.PathCollection at 0x192be52c580>"
      ]
     },
     "execution_count": 60,
     "metadata": {},
     "output_type": "execute_result"
    },
    {
     "data": {
      "image/png": "[encoded data removed]",
      "text/plain": [
       "<Figure size 640x480 with 1 Axes>"
      ]
     },
     "metadata": {},
     "output_type": "display_data"
    }
   ],
   "source": [
    "# 군집별 중앙값 시각화\n",
    "plt.scatter(x=centers[:, 0], y=centers[:, 2], marker='^', c='r')"
   ]
  },
  {
   "cell_type": "code",
   "execution_count": 59,
   "id": "88acb549-90cb-4d0e-9df3-24640b0f16e8",
   "metadata": {
    "execution": {
     "iopub.execute_input": "2022-11-11T08:12:29.603158Z",
     "iopub.status.busy": "2022-11-11T08:12:29.602170Z",
     "iopub.status.idle": "2022-11-11T08:12:29.682635Z",
     "shell.execute_reply": "2022-11-11T08:12:29.682635Z",
     "shell.execute_reply.started": "2022-11-11T08:12:29.603158Z"
    },
    "tags": []
   },
   "outputs": [
    {
     "data": {
      "image/png": "[encoded data removed]",
      "text/plain": [
       "<Figure size 640x480 with 1 Axes>"
      ]
     },
     "metadata": {},
     "output_type": "display_data"
    }
   ],
   "source": [
    "plt.scatter(x=iris_df['sepal_length'], y=iris_df['petal_length'], c=pred)\n",
    "plt.scatter(x=centers[:, 0], y=centers[:, 2], marker='^', c='r')\n",
    "plt.show()"
   ]
  }
 ],
 "metadata": {
  "kernelspec": {
   "display_name": "Python 3 (ipykernel)",
   "language": "python",
   "name": "python3"
  },
  "language_info": {
   "codemirror_mode": {
    "name": "ipython",
    "version": 3
   },
   "file_extension": ".py",
   "mimetype": "text/x-python",
   "name": "python",
   "nbconvert_exporter": "python",
   "pygments_lexer": "ipython3",
   "version": "3.9.0"
  },
  "toc": {
   "base_numbering": 1,
   "nav_menu": {},
   "number_sections": true,
   "sideBar": true,
   "skip_h1_title": false,
   "title_cell": "Table of Contents",
   "title_sidebar": "Contents",
   "toc_cell": false,
   "toc_position": {},
   "toc_section_display": true,
   "toc_window_display": false
  }
 },
 "nbformat": 4,
 "nbformat_minor": 5
}
