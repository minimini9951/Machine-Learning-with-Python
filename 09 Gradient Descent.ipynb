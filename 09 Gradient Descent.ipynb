{
 "cells": [
  {
   "cell_type": "markdown",
   "id": "c18a70c1-f052-4022-bff1-e27676ef6856",
   "metadata": {},
   "source": [
    "# 경사하강법\n",
    "- 손실을 줄이는 알고리즘\n",
    "- 기울기가 최소가 되는 점을 찾아서 알맞은 가중치를 찾아내는 것\n",
    "- 손실함수를 최적화하는 방법중 하나"
   ]
  },
  {
   "cell_type": "markdown",
   "id": "62bb03b4-5e44-43b7-8fc5-357d5f853228",
   "metadata": {},
   "source": [
    "## 점진적인 학습 또는 온라인 학습"
   ]
  },
  {
   "cell_type": "markdown",
   "id": "313360e9-0fe1-407a-9e32-5cc635e40007",
   "metadata": {},
   "source": [
    "# 확률적 경사 하강법(SGD)"
   ]
  },
  {
   "cell_type": "markdown",
   "id": "cc16dd29-1312-4892-be23-63c8c619ef5c",
   "metadata": {},
   "source": [
    "# 암 데이터"
   ]
  },
  {
   "cell_type": "markdown",
   "id": "207e9993-a5b4-4d46-813b-b8105da62077",
   "metadata": {},
   "source": [
    "## 라이브러리 로딩"
   ]
  },
  {
   "cell_type": "code",
   "execution_count": 2,
   "id": "bf1e429f-5ff2-4321-8d4b-b7a45ded1d23",
   "metadata": {
    "execution": {
     "iopub.execute_input": "2022-11-09T01:05:28.305303Z",
     "iopub.status.busy": "2022-11-09T01:05:28.305303Z",
     "iopub.status.idle": "2022-11-09T01:05:28.383107Z",
     "shell.execute_reply": "2022-11-09T01:05:28.382125Z",
     "shell.execute_reply.started": "2022-11-09T01:05:28.305303Z"
    },
    "tags": []
   },
   "outputs": [],
   "source": [
    "import numpy as np  # 넘파이\n",
    "import pandas as pd  # 판다스\n",
    "import seaborn as sns  # 시본\n",
    "import matplotlib as mpl\n",
    "import matplotlib.pyplot as plt  # matplotlib\n",
    "import warnings\n",
    "warnings.simplefilter(action='ignore', category=FutureWarning)\n",
    "%config Completer.use_jedi = False\n",
    "%matplotlib inline\n",
    "%config Inlinebackend.figure_format = 'retina'\n",
    "\n",
    "mpl.rc('font', family='D2coding')\n",
    "mpl.rc('axes', unicode_minus=False)"
   ]
  },
  {
   "cell_type": "markdown",
   "id": "381232ff-c122-4d61-8ec5-167040f0da41",
   "metadata": {},
   "source": [
    "## 훈련 데이터 로딩"
   ]
  },
  {
   "cell_type": "code",
   "execution_count": 3,
   "id": "1607fcb9-357e-4ab3-a0be-9a6c609b4d70",
   "metadata": {
    "execution": {
     "iopub.execute_input": "2022-11-09T01:07:18.342783Z",
     "iopub.status.busy": "2022-11-09T01:07:18.341743Z",
     "iopub.status.idle": "2022-11-09T01:07:18.757148Z",
     "shell.execute_reply": "2022-11-09T01:07:18.755545Z",
     "shell.execute_reply.started": "2022-11-09T01:07:18.341743Z"
    }
   },
   "outputs": [
    {
     "data": {
      "text/html": [
       "<div>\n",
       "<style scoped>\n",
       "    .dataframe tbody tr th:only-of-type {\n",
       "        vertical-align: middle;\n",
       "    }\n",
       "\n",
       "    .dataframe tbody tr th {\n",
       "        vertical-align: top;\n",
       "    }\n",
       "\n",
       "    .dataframe thead th {\n",
       "        text-align: right;\n",
       "    }\n",
       "</style>\n",
       "<table border=\"1\" class=\"dataframe\">\n",
       "  <thead>\n",
       "    <tr style=\"text-align: right;\">\n",
       "      <th></th>\n",
       "      <th>Species</th>\n",
       "      <th>Weight</th>\n",
       "      <th>Length</th>\n",
       "      <th>Diagonal</th>\n",
       "      <th>Height</th>\n",
       "      <th>Width</th>\n",
       "    </tr>\n",
       "  </thead>\n",
       "  <tbody>\n",
       "    <tr>\n",
       "      <th>0</th>\n",
       "      <td>Bream</td>\n",
       "      <td>242.0</td>\n",
       "      <td>25.4</td>\n",
       "      <td>30.0</td>\n",
       "      <td>11.5200</td>\n",
       "      <td>4.0200</td>\n",
       "    </tr>\n",
       "    <tr>\n",
       "      <th>1</th>\n",
       "      <td>Bream</td>\n",
       "      <td>290.0</td>\n",
       "      <td>26.3</td>\n",
       "      <td>31.2</td>\n",
       "      <td>12.4800</td>\n",
       "      <td>4.3056</td>\n",
       "    </tr>\n",
       "    <tr>\n",
       "      <th>2</th>\n",
       "      <td>Bream</td>\n",
       "      <td>340.0</td>\n",
       "      <td>26.5</td>\n",
       "      <td>31.1</td>\n",
       "      <td>12.3778</td>\n",
       "      <td>4.6961</td>\n",
       "    </tr>\n",
       "  </tbody>\n",
       "</table>\n",
       "</div>"
      ],
      "text/plain": [
       "  Species  Weight  Length  Diagonal   Height   Width\n",
       "0   Bream   242.0    25.4      30.0  11.5200  4.0200\n",
       "1   Bream   290.0    26.3      31.2  12.4800  4.3056\n",
       "2   Bream   340.0    26.5      31.1  12.3778  4.6961"
      ]
     },
     "execution_count": 3,
     "metadata": {},
     "output_type": "execute_result"
    }
   ],
   "source": [
    "fish = pd.read_csv('https://bit.ly/fish_csv_data')\n",
    "fish.head(3)"
   ]
  },
  {
   "cell_type": "code",
   "execution_count": 4,
   "id": "5a7c645d-06be-47ae-a2a7-c3761ec082cf",
   "metadata": {
    "execution": {
     "iopub.execute_input": "2022-11-09T01:10:57.900938Z",
     "iopub.status.busy": "2022-11-09T01:10:57.900938Z",
     "iopub.status.idle": "2022-11-09T01:10:57.912452Z",
     "shell.execute_reply": "2022-11-09T01:10:57.910937Z",
     "shell.execute_reply.started": "2022-11-09T01:10:57.900938Z"
    }
   },
   "outputs": [],
   "source": [
    "# Species는 타겟 데이터\n",
    "\n",
    "fish_input = fish[['Weight', 'Length', 'Diagonal', 'Height', 'Width']].to_numpy()\n",
    "fish_target = fish.Species.to_numpy()"
   ]
  },
  {
   "cell_type": "markdown",
   "id": "eaf71ae6-ff29-441d-8c17-5014906f5b65",
   "metadata": {},
   "source": [
    "## 특성 전처리와 훈련세트, 테스트세트 분리"
   ]
  },
  {
   "cell_type": "code",
   "execution_count": 5,
   "id": "4e7e2b5c-3c7d-4144-adca-7613229fbe2b",
   "metadata": {
    "execution": {
     "iopub.execute_input": "2022-11-09T01:21:11.646527Z",
     "iopub.status.busy": "2022-11-09T01:21:11.646527Z",
     "iopub.status.idle": "2022-11-09T01:21:11.667349Z",
     "shell.execute_reply": "2022-11-09T01:21:11.666451Z",
     "shell.execute_reply.started": "2022-11-09T01:21:11.646527Z"
    },
    "tags": []
   },
   "outputs": [],
   "source": [
    "from sklearn.model_selection import train_test_split\n",
    "from sklearn.preprocessing import StandardScaler\n",
    "\n",
    "X_train, X_test, y_train, y_test = train_test_split(\n",
    "    fish_input, fish_target, random_state=42\n",
    ")\n",
    "\n",
    "ss = StandardScaler()\n",
    "ss.fit(X_train)\n",
    "\n",
    "train_scaled = ss.transform(X_train)\n",
    "test_scaled = ss.transform(X_test)"
   ]
  },
  {
   "cell_type": "markdown",
   "id": "9e378b11-8852-4dc2-b7af-39963291ff8b",
   "metadata": {},
   "source": [
    "## 확률적 경사 하강법으로 모델 훈련"
   ]
  },
  {
   "cell_type": "code",
   "execution_count": 8,
   "id": "12cc2cb3-8a8a-44c4-8309-de13c7f9e250",
   "metadata": {
    "execution": {
     "iopub.execute_input": "2022-11-09T01:28:03.890372Z",
     "iopub.status.busy": "2022-11-09T01:28:03.890372Z",
     "iopub.status.idle": "2022-11-09T01:28:03.957496Z",
     "shell.execute_reply": "2022-11-09T01:28:03.956635Z",
     "shell.execute_reply.started": "2022-11-09T01:28:03.890372Z"
    },
    "tags": []
   },
   "outputs": [
    {
     "name": "stdout",
     "output_type": "stream",
     "text": [
      "0.773109243697479\n",
      "0.775\n"
     ]
    },
    {
     "name": "stderr",
     "output_type": "stream",
     "text": [
      "C:\\Anaconda3\\lib\\site-packages\\sklearn\\linear_model\\_stochastic_gradient.py:696: ConvergenceWarning: Maximum number of iteration reached before convergence. Consider increasing max_iter to improve the fit.\n",
      "  warnings.warn(\n"
     ]
    }
   ],
   "source": [
    "# SGDClassifier 클래스 : 확률적 경사 하강법을 제공하는 분류용 클래스\n",
    "from sklearn.linear_model import SGDClassifier\n",
    "\n",
    "# loss function(손실 함수), 손실 함수의 종류를 지정하는 매개변수(loss)\n",
    "# 이진분류회귀 : 이진크로스엔트로피\n",
    "# 다중분류회귀 : 크로스엔트로피, 소프트엑스\n",
    "# max_iter : 수행할 에포크 횟수\n",
    "sc = SGDClassifier(loss='log', max_iter=10, random_state=42)\n",
    "sc.fit(train_scaled, y_train)\n",
    "# 평가\n",
    "print(sc.score(train_scaled, y_train))\n",
    "print(sc.score(test_scaled, y_test))"
   ]
  },
  {
   "cell_type": "code",
   "execution_count": 9,
   "id": "b29b696b-822e-4419-b21c-02d27036a1bf",
   "metadata": {
    "execution": {
     "iopub.execute_input": "2022-11-09T01:35:55.559307Z",
     "iopub.status.busy": "2022-11-09T01:35:55.559307Z",
     "iopub.status.idle": "2022-11-09T01:35:55.578291Z",
     "shell.execute_reply": "2022-11-09T01:35:55.578291Z",
     "shell.execute_reply.started": "2022-11-09T01:35:55.559307Z"
    }
   },
   "outputs": [
    {
     "name": "stdout",
     "output_type": "stream",
     "text": [
      "0.8151260504201681\n",
      "0.85\n"
     ]
    }
   ],
   "source": [
    "# 모델을 이어서 훈련할 때 partial_fit()\n",
    "sc.partial_fit(train_scaled, y_train)\n",
    "print(sc.score(train_scaled, y_train))\n",
    "print(sc.score(test_scaled, y_test))"
   ]
  },
  {
   "cell_type": "markdown",
   "id": "38780dd0-0c95-4d2b-a6dd-e7d448e8806a",
   "metadata": {},
   "source": [
    "## 가장 적절한 에포크 횟수 찾기\n",
    "- 에포크 횟수가 적어 모델이 덜 학습하면 과소적합 발생\n",
    "- 너무 많은 에포크 횟수는 과대적합 발생"
   ]
  },
  {
   "cell_type": "code",
   "execution_count": 10,
   "id": "f629e5e8-bc78-4bc6-aab6-2db248727eef",
   "metadata": {
    "execution": {
     "iopub.execute_input": "2022-11-09T01:48:11.048213Z",
     "iopub.status.busy": "2022-11-09T01:48:11.048213Z",
     "iopub.status.idle": "2022-11-09T01:48:12.366075Z",
     "shell.execute_reply": "2022-11-09T01:48:12.366075Z",
     "shell.execute_reply.started": "2022-11-09T01:48:11.048213Z"
    }
   },
   "outputs": [],
   "source": [
    "# partial_fit()을 사용하여 적절한 에포크 횟수 찾기\n",
    "\n",
    "sc = SGDClassifier(loss='log', random_state=42)\n",
    "\n",
    "train_score = []\n",
    "test_score = []\n",
    "\n",
    "# partial_fit()만 사용하려면 훈련세트의 전체클래스의 레이블을 전달해야함\n",
    "classes = np.unique(y_train)\n",
    "\n",
    "# 300번의 에포크 동안 훈련을 반복하며 진행\n",
    "for _ in range(0, 300):\n",
    "    sc.partial_fit(train_scaled, y_train, classes=classes)\n",
    "    train_score.append(sc.score(train_scaled, y_train))\n",
    "    test_score.append(sc.score(test_scaled, y_test))"
   ]
  },
  {
   "cell_type": "markdown",
   "id": "996ee6f3-de1f-4d8f-8343-5df2731e4176",
   "metadata": {},
   "source": [
    "## 에포크 횟수에 따른 점수 시각화 작업"
   ]
  },
  {
   "cell_type": "code",
   "execution_count": 11,
   "id": "4e0f3a38-fc96-4fe5-8459-062ff4ddc467",
   "metadata": {
    "execution": {
     "iopub.execute_input": "2022-11-09T01:49:38.453445Z",
     "iopub.status.busy": "2022-11-09T01:49:38.452449Z",
     "iopub.status.idle": "2022-11-09T01:49:38.473447Z",
     "shell.execute_reply": "2022-11-09T01:49:38.472445Z",
     "shell.execute_reply.started": "2022-11-09T01:49:38.453445Z"
    }
   },
   "outputs": [],
   "source": [
    "sns.set(font='D2coding', rc={'axes.unicode_minus': False}, style='darkgrid')\n",
    "plt.rc('figure', figsize=(10,8))"
   ]
  },
  {
   "cell_type": "code",
   "execution_count": 13,
   "id": "d84132d6-edef-4d47-a6ac-0f57f7d92752",
   "metadata": {
    "execution": {
     "iopub.execute_input": "2022-11-09T01:50:28.609320Z",
     "iopub.status.busy": "2022-11-09T01:50:28.609320Z",
     "iopub.status.idle": "2022-11-09T01:50:28.776003Z",
     "shell.execute_reply": "2022-11-09T01:50:28.774638Z",
     "shell.execute_reply.started": "2022-11-09T01:50:28.609320Z"
    },
    "tags": []
   },
   "outputs": [
    {
     "data": {
      "image/png": "[encoded data removed]",
      "text/plain": [
       "<Figure size 1000x800 with 1 Axes>"
      ]
     },
     "metadata": {},
     "output_type": "display_data"
    }
   ],
   "source": [
    "plt.plot(train_score)\n",
    "plt.plot(test_score)\n",
    "plt.xlabel('epoch')\n",
    "plt.ylabel('accuracy')\n",
    "plt.show()"
   ]
  },
  {
   "cell_type": "code",
   "execution_count": 14,
   "id": "437e4aad-2f69-4384-b706-a218e8f04765",
   "metadata": {
    "execution": {
     "iopub.execute_input": "2022-11-09T02:18:18.382345Z",
     "iopub.status.busy": "2022-11-09T02:18:18.381773Z",
     "iopub.status.idle": "2022-11-09T02:18:18.428701Z",
     "shell.execute_reply": "2022-11-09T02:18:18.428230Z",
     "shell.execute_reply.started": "2022-11-09T02:18:18.382345Z"
    },
    "tags": []
   },
   "outputs": [
    {
     "name": "stdout",
     "output_type": "stream",
     "text": [
      "0.957983193277311\n",
      "0.925\n"
     ]
    }
   ],
   "source": [
    "# 조기종료 가능 : 일정 에포크 동안 성능이 향상되지 않으면 더 훈련하지 않고 종료\n",
    "# tol : 향상될 최소값을 지정하는 매개변수로 None으로 값을 주면 max_iter 횟수만큼 반복\n",
    "sc = SGDClassifier(loss='log', max_iter=100, tol=None, random_state=42)\n",
    "# 서포트 벡터 머신(SVM) 알고리즘에서 사용되는 손실함수의 기본값은 hinge\n",
    "sc.fit(train_scaled, y_train)\n",
    "\n",
    "print(sc.score(train_scaled, y_train))\n",
    "print(sc.score(test_scaled, y_test))"
   ]
  }
 ],
 "metadata": {
  "kernelspec": {
   "display_name": "Python 3 (ipykernel)",
   "language": "python",
   "name": "python3"
  },
  "language_info": {
   "codemirror_mode": {
    "name": "ipython",
    "version": 3
   },
   "file_extension": ".py",
   "mimetype": "text/x-python",
   "name": "python",
   "nbconvert_exporter": "python",
   "pygments_lexer": "ipython3",
   "version": "3.9.13"
  }
 },
 "nbformat": 4,
 "nbformat_minor": 5
}
