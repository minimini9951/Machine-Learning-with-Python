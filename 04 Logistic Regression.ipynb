{
 "cells": [
  {
   "cell_type": "markdown",
   "id": "9ed0315b-2018-4656-b987-d483022b966b",
   "metadata": {},
   "source": [
    "# 로지스틱 회귀(Logistic Regression)"
   ]
  },
  {
   "cell_type": "code",
   "execution_count": 47,
   "id": "27808069-9d9d-465e-9220-0f5b7cd74769",
   "metadata": {
    "execution": {
     "iopub.execute_input": "2022-11-02T02:17:45.531034Z",
     "iopub.status.busy": "2022-11-02T02:17:45.531034Z",
     "iopub.status.idle": "2022-11-02T02:17:45.555148Z",
     "shell.execute_reply": "2022-11-02T02:17:45.554128Z",
     "shell.execute_reply.started": "2022-11-02T02:17:45.531034Z"
    },
    "tags": []
   },
   "outputs": [],
   "source": [
    "import numpy as np\n",
    "import pandas as pd\n",
    "import matplotlib.pyplot as plt\n",
    "import matplotlib as mpl\n",
    "import seaborn as sns\n",
    "import mglearn\n",
    "from sklearn.neighbors import KNeighborsClassifier\n",
    "from sklearn.model_selection import train_test_split\n",
    "from sklearn.metrics import accuracy_score\n",
    "# from sklearn.datasets import load_breast_cancer, load_boston, load_diabetes\n",
    "import warnings\n",
    "from sklearn.linear_model import LogisticRegression, LinearRegression, Ridge, Lasso\n",
    "from sklearn.preprocessing import PolynomialFeatures, StandardScaler\n",
    "# from statsmodels.stats.outliers_influence import variance_inflation_factor\n",
    "from scipy.special import expit\n",
    "\n",
    "warnings.simplefilter(action='ignore', category=FutureWarning)\n",
    "# FutureWarning제거\n",
    "\n",
    "%matplotlib inline\n",
    "\n",
    "mpl.rcParams['font.family'] = 'D2coding'  # 한글 깨짐 해결"
   ]
  },
  {
   "cell_type": "markdown",
   "id": "1a4f65c9-c227-4870-84a5-49ac3895eb5b",
   "metadata": {},
   "source": [
    "## 데이터 로딩"
   ]
  },
  {
   "cell_type": "code",
   "execution_count": 2,
   "id": "2671de69-6e7d-49d4-9f6b-5fd3e45f3cf7",
   "metadata": {
    "execution": {
     "iopub.execute_input": "2022-11-02T00:21:53.624394Z",
     "iopub.status.busy": "2022-11-02T00:21:53.623394Z",
     "iopub.status.idle": "2022-11-02T00:21:53.649486Z",
     "shell.execute_reply": "2022-11-02T00:21:53.649486Z",
     "shell.execute_reply.started": "2022-11-02T00:21:53.624394Z"
    }
   },
   "outputs": [
    {
     "data": {
      "text/html": [
       "<div>\n",
       "<style scoped>\n",
       "    .dataframe tbody tr th:only-of-type {\n",
       "        vertical-align: middle;\n",
       "    }\n",
       "\n",
       "    .dataframe tbody tr th {\n",
       "        vertical-align: top;\n",
       "    }\n",
       "\n",
       "    .dataframe thead th {\n",
       "        text-align: right;\n",
       "    }\n",
       "</style>\n",
       "<table border=\"1\" class=\"dataframe\">\n",
       "  <thead>\n",
       "    <tr style=\"text-align: right;\">\n",
       "      <th></th>\n",
       "      <th>Species</th>\n",
       "      <th>Weight</th>\n",
       "      <th>Length</th>\n",
       "      <th>Diagonal</th>\n",
       "      <th>Height</th>\n",
       "      <th>Width</th>\n",
       "    </tr>\n",
       "  </thead>\n",
       "  <tbody>\n",
       "    <tr>\n",
       "      <th>0</th>\n",
       "      <td>Bream</td>\n",
       "      <td>242.0</td>\n",
       "      <td>25.4</td>\n",
       "      <td>30.0</td>\n",
       "      <td>11.5200</td>\n",
       "      <td>4.0200</td>\n",
       "    </tr>\n",
       "    <tr>\n",
       "      <th>1</th>\n",
       "      <td>Bream</td>\n",
       "      <td>290.0</td>\n",
       "      <td>26.3</td>\n",
       "      <td>31.2</td>\n",
       "      <td>12.4800</td>\n",
       "      <td>4.3056</td>\n",
       "    </tr>\n",
       "    <tr>\n",
       "      <th>2</th>\n",
       "      <td>Bream</td>\n",
       "      <td>340.0</td>\n",
       "      <td>26.5</td>\n",
       "      <td>31.1</td>\n",
       "      <td>12.3778</td>\n",
       "      <td>4.6961</td>\n",
       "    </tr>\n",
       "    <tr>\n",
       "      <th>3</th>\n",
       "      <td>Bream</td>\n",
       "      <td>363.0</td>\n",
       "      <td>29.0</td>\n",
       "      <td>33.5</td>\n",
       "      <td>12.7300</td>\n",
       "      <td>4.4555</td>\n",
       "    </tr>\n",
       "    <tr>\n",
       "      <th>4</th>\n",
       "      <td>Bream</td>\n",
       "      <td>430.0</td>\n",
       "      <td>29.0</td>\n",
       "      <td>34.0</td>\n",
       "      <td>12.4440</td>\n",
       "      <td>5.1340</td>\n",
       "    </tr>\n",
       "  </tbody>\n",
       "</table>\n",
       "</div>"
      ],
      "text/plain": [
       "  Species  Weight  Length  Diagonal   Height   Width\n",
       "0   Bream   242.0    25.4      30.0  11.5200  4.0200\n",
       "1   Bream   290.0    26.3      31.2  12.4800  4.3056\n",
       "2   Bream   340.0    26.5      31.1  12.3778  4.6961\n",
       "3   Bream   363.0    29.0      33.5  12.7300  4.4555\n",
       "4   Bream   430.0    29.0      34.0  12.4440  5.1340"
      ]
     },
     "execution_count": 2,
     "metadata": {},
     "output_type": "execute_result"
    }
   ],
   "source": [
    "fish = pd.read_csv('C:/k_digital/source/data/fish.csv')\n",
    "fish.head()"
   ]
  },
  {
   "cell_type": "code",
   "execution_count": 5,
   "id": "555931ee-5d4e-40c9-9f4c-10578c97ec52",
   "metadata": {
    "execution": {
     "iopub.execute_input": "2022-11-02T00:27:21.998315Z",
     "iopub.status.busy": "2022-11-02T00:27:21.997736Z",
     "iopub.status.idle": "2022-11-02T00:27:22.007050Z",
     "shell.execute_reply": "2022-11-02T00:27:22.007050Z",
     "shell.execute_reply.started": "2022-11-02T00:27:21.998315Z"
    },
    "tags": []
   },
   "outputs": [
    {
     "data": {
      "text/plain": [
       "array(['Bream', 'Roach', 'Whitefish', 'Parkki', 'Perch', 'Pike', 'Smelt'],\n",
       "      dtype=object)"
      ]
     },
     "execution_count": 5,
     "metadata": {},
     "output_type": "execute_result"
    }
   ],
   "source": [
    "fish['Species'].unique()"
   ]
  },
  {
   "cell_type": "code",
   "execution_count": 6,
   "id": "d5bc4101-0443-4e55-8f32-f5a2bd7603a6",
   "metadata": {
    "execution": {
     "iopub.execute_input": "2022-11-02T00:32:06.145955Z",
     "iopub.status.busy": "2022-11-02T00:32:06.145955Z",
     "iopub.status.idle": "2022-11-02T00:32:06.170096Z",
     "shell.execute_reply": "2022-11-02T00:32:06.169102Z",
     "shell.execute_reply.started": "2022-11-02T00:32:06.145955Z"
    }
   },
   "outputs": [],
   "source": [
    "fish_input = fish[['Weight', 'Length', 'Diagonal',\n",
    "                   'Height', 'Width']].to_numpy()"
   ]
  },
  {
   "cell_type": "code",
   "execution_count": 8,
   "id": "63240f8d-130f-440f-8b29-2863fff375e4",
   "metadata": {
    "execution": {
     "iopub.execute_input": "2022-11-02T00:34:15.571133Z",
     "iopub.status.busy": "2022-11-02T00:34:15.570634Z",
     "iopub.status.idle": "2022-11-02T00:34:15.579699Z",
     "shell.execute_reply": "2022-11-02T00:34:15.577885Z",
     "shell.execute_reply.started": "2022-11-02T00:34:15.571133Z"
    },
    "tags": []
   },
   "outputs": [],
   "source": [
    "fish_target = fish['Species'].to_numpy()"
   ]
  },
  {
   "cell_type": "markdown",
   "id": "ca112541-ba2d-4860-8c92-23d5c00c4300",
   "metadata": {},
   "source": [
    "## 데이터 전처리"
   ]
  },
  {
   "cell_type": "markdown",
   "id": "ac6432a2-9199-4546-9bfb-73af506c23d8",
   "metadata": {},
   "source": [
    "### 데이터분리"
   ]
  },
  {
   "cell_type": "code",
   "execution_count": 9,
   "id": "c432dc34-c2b6-4360-bb6c-7ea5878d101d",
   "metadata": {
    "execution": {
     "iopub.execute_input": "2022-11-02T00:36:51.624103Z",
     "iopub.status.busy": "2022-11-02T00:36:51.624103Z",
     "iopub.status.idle": "2022-11-02T00:36:51.648863Z",
     "shell.execute_reply": "2022-11-02T00:36:51.647924Z",
     "shell.execute_reply.started": "2022-11-02T00:36:51.624103Z"
    }
   },
   "outputs": [],
   "source": [
    "train_input, test_input, train_target, test_target = train_test_split(\n",
    "    fish_input, fish_target, random_state=42)"
   ]
  },
  {
   "cell_type": "markdown",
   "id": "34b13e9a-30fc-4578-8d1b-074ef2a5902b",
   "metadata": {},
   "source": [
    "### 피쳐 스케일링"
   ]
  },
  {
   "cell_type": "code",
   "execution_count": 12,
   "id": "0cbdd0c4-9c7a-4347-97fa-1752ccfff6f1",
   "metadata": {
    "execution": {
     "iopub.execute_input": "2022-11-02T01:23:35.242677Z",
     "iopub.status.busy": "2022-11-02T01:23:35.242677Z",
     "iopub.status.idle": "2022-11-02T01:23:35.269260Z",
     "shell.execute_reply": "2022-11-02T01:23:35.267922Z",
     "shell.execute_reply.started": "2022-11-02T01:23:35.242677Z"
    }
   },
   "outputs": [],
   "source": [
    "ss = StandardScaler()\n",
    "ss.fit(train_input)\n",
    "train_scaled = ss.transform(train_input)\n",
    "test_scaled = ss.transform(test_input)"
   ]
  },
  {
   "cell_type": "markdown",
   "id": "6f8b4452-67f9-4c46-a3de-946bb991d4b0",
   "metadata": {},
   "source": [
    "## k-최근접 이웃 분류기를 이용한 확률 예측"
   ]
  },
  {
   "cell_type": "code",
   "execution_count": 22,
   "id": "e82bcecb-e6eb-4be0-a55b-763e1ac4c6a6",
   "metadata": {
    "execution": {
     "iopub.execute_input": "2022-11-02T01:28:37.088693Z",
     "iopub.status.busy": "2022-11-02T01:28:37.088693Z",
     "iopub.status.idle": "2022-11-02T01:28:37.119266Z",
     "shell.execute_reply": "2022-11-02T01:28:37.117532Z",
     "shell.execute_reply.started": "2022-11-02T01:28:37.088693Z"
    },
    "tags": []
   },
   "outputs": [
    {
     "name": "stdout",
     "output_type": "stream",
     "text": [
      "0.8907563025210085\n",
      "0.85\n"
     ]
    }
   ],
   "source": [
    "kn = KNeighborsClassifier(n_neighbors=3)\n",
    "kn.fit(train_scaled, train_target)\n",
    "\n",
    "print(kn.score(train_scaled, train_target))\n",
    "print(kn.score(test_scaled, test_target))"
   ]
  },
  {
   "cell_type": "code",
   "execution_count": 23,
   "id": "bdb979f9-184d-4104-988b-5ea318b60212",
   "metadata": {
    "execution": {
     "iopub.execute_input": "2022-11-02T01:32:20.041280Z",
     "iopub.status.busy": "2022-11-02T01:32:20.041280Z",
     "iopub.status.idle": "2022-11-02T01:32:20.059426Z",
     "shell.execute_reply": "2022-11-02T01:32:20.058187Z",
     "shell.execute_reply.started": "2022-11-02T01:32:20.041280Z"
    }
   },
   "outputs": [
    {
     "data": {
      "text/plain": [
       "array(['Bream', 'Parkki', 'Perch', 'Pike', 'Roach', 'Smelt', 'Whitefish'],\n",
       "      dtype=object)"
      ]
     },
     "execution_count": 23,
     "metadata": {},
     "output_type": "execute_result"
    }
   ],
   "source": [
    "kn.classes_"
   ]
  },
  {
   "cell_type": "code",
   "execution_count": 24,
   "id": "ad1bdab5-b990-41da-afe1-b14a02c72c82",
   "metadata": {
    "execution": {
     "iopub.execute_input": "2022-11-02T01:33:25.433496Z",
     "iopub.status.busy": "2022-11-02T01:33:25.433496Z",
     "iopub.status.idle": "2022-11-02T01:33:25.456355Z",
     "shell.execute_reply": "2022-11-02T01:33:25.456355Z",
     "shell.execute_reply.started": "2022-11-02T01:33:25.433496Z"
    },
    "tags": []
   },
   "outputs": [
    {
     "data": {
      "text/plain": [
       "array(['Perch', 'Smelt', 'Pike', 'Perch', 'Perch'], dtype=object)"
      ]
     },
     "execution_count": 24,
     "metadata": {},
     "output_type": "execute_result"
    }
   ],
   "source": [
    "kn.predict(test_scaled[:5])"
   ]
  },
  {
   "cell_type": "code",
   "execution_count": 25,
   "id": "0d8057f8-c6f6-4ccf-842a-4548f975c8bd",
   "metadata": {
    "execution": {
     "iopub.execute_input": "2022-11-02T01:36:27.259884Z",
     "iopub.status.busy": "2022-11-02T01:36:27.259884Z",
     "iopub.status.idle": "2022-11-02T01:36:27.277514Z",
     "shell.execute_reply": "2022-11-02T01:36:27.276489Z",
     "shell.execute_reply.started": "2022-11-02T01:36:27.259884Z"
    },
    "tags": []
   },
   "outputs": [
    {
     "data": {
      "text/plain": [
       "array([[0.    , 0.    , 1.    , 0.    , 0.    , 0.    , 0.    ],\n",
       "       [0.    , 0.    , 0.    , 0.    , 0.    , 1.    , 0.    ],\n",
       "       [0.    , 0.    , 0.    , 1.    , 0.    , 0.    , 0.    ],\n",
       "       [0.    , 0.    , 0.6667, 0.    , 0.3333, 0.    , 0.    ],\n",
       "       [0.    , 0.    , 0.6667, 0.    , 0.3333, 0.    , 0.    ]])"
      ]
     },
     "execution_count": 25,
     "metadata": {},
     "output_type": "execute_result"
    }
   ],
   "source": [
    "# predict_proba() : 클래스별 확률값을 반환해주는 메서드\n",
    "proba = kn.predict_proba(test_scaled[:5])\n",
    "# decimal : 유지할 소숫점 자릿수\n",
    "np.round(proba, decimals=4)"
   ]
  },
  {
   "cell_type": "code",
   "execution_count": 26,
   "id": "9a020b3c-b756-455d-baf8-089624f5f60a",
   "metadata": {
    "execution": {
     "iopub.execute_input": "2022-11-02T01:40:58.184382Z",
     "iopub.status.busy": "2022-11-02T01:40:58.184382Z",
     "iopub.status.idle": "2022-11-02T01:40:58.200450Z",
     "shell.execute_reply": "2022-11-02T01:40:58.198732Z",
     "shell.execute_reply.started": "2022-11-02T01:40:58.184382Z"
    },
    "tags": []
   },
   "outputs": [
    {
     "data": {
      "text/plain": [
       "array([['Roach', 'Perch', 'Perch']], dtype=object)"
      ]
     },
     "execution_count": 26,
     "metadata": {},
     "output_type": "execute_result"
    }
   ],
   "source": [
    "distances, indexs = kn.kneighbors(test_scaled[3:4])\n",
    "train_target[indexs]"
   ]
  },
  {
   "cell_type": "markdown",
   "id": "98f42292-04b8-4561-adbe-28028642c7f4",
   "metadata": {},
   "source": [
    "## 로지스틱 회귀\n",
    "- 대표적인 분류 알고리즘\n",
    "- 인공신경망에 기본이 되는 알고리즘\n",
    "- 선형회귀와 비슷하게 선형 방정식을 학습하는 알고리즘"
   ]
  },
  {
   "cell_type": "markdown",
   "id": "8171a803-5cc5-4a5e-80fd-12f6d4e92481",
   "metadata": {},
   "source": [
    "### 로지스틱 회귀(이진 분류)"
   ]
  },
  {
   "cell_type": "code",
   "execution_count": 34,
   "id": "41f4610c-d04c-4649-99a7-2e697e6c568a",
   "metadata": {
    "execution": {
     "iopub.execute_input": "2022-11-02T02:06:48.125527Z",
     "iopub.status.busy": "2022-11-02T02:06:48.125527Z",
     "iopub.status.idle": "2022-11-02T02:06:48.141343Z",
     "shell.execute_reply": "2022-11-02T02:06:48.140075Z",
     "shell.execute_reply.started": "2022-11-02T02:06:48.125527Z"
    }
   },
   "outputs": [],
   "source": [
    "# Bream, Smelt 만 이용한 이진분류 학습\n",
    "indexes = (train_target == 'Bream') | (train_target == 'Smelt')\n",
    "train = train_scaled[indexes]\n",
    "target = train_target[indexes]"
   ]
  },
  {
   "cell_type": "code",
   "execution_count": 40,
   "id": "474154d3-e6ab-4683-aa7d-14f3ac4d093f",
   "metadata": {
    "execution": {
     "iopub.execute_input": "2022-11-02T02:12:45.873336Z",
     "iopub.status.busy": "2022-11-02T02:12:45.873336Z",
     "iopub.status.idle": "2022-11-02T02:12:45.894402Z",
     "shell.execute_reply": "2022-11-02T02:12:45.893401Z",
     "shell.execute_reply.started": "2022-11-02T02:12:45.873336Z"
    },
    "tags": []
   },
   "outputs": [
    {
     "data": {
      "text/plain": [
       "LogisticRegression()"
      ]
     },
     "execution_count": 40,
     "metadata": {},
     "output_type": "execute_result"
    }
   ],
   "source": [
    "lr = LogisticRegression()\n",
    "lr.fit(train, target)"
   ]
  },
  {
   "cell_type": "code",
   "execution_count": 41,
   "id": "da7775be-977e-4510-b1ad-df5e43391bab",
   "metadata": {
    "execution": {
     "iopub.execute_input": "2022-11-02T02:12:46.107935Z",
     "iopub.status.busy": "2022-11-02T02:12:46.106951Z",
     "iopub.status.idle": "2022-11-02T02:12:46.126977Z",
     "shell.execute_reply": "2022-11-02T02:12:46.125977Z",
     "shell.execute_reply.started": "2022-11-02T02:12:46.106951Z"
    },
    "tags": []
   },
   "outputs": [
    {
     "data": {
      "text/plain": [
       "array(['Bream', 'Smelt', 'Bream', 'Bream', 'Bream'], dtype=object)"
      ]
     },
     "execution_count": 41,
     "metadata": {},
     "output_type": "execute_result"
    }
   ],
   "source": [
    "lr.predict(train[:5])"
   ]
  },
  {
   "cell_type": "code",
   "execution_count": 42,
   "id": "4ca5e3cc-0854-4db5-b3c6-a07fb980dfbe",
   "metadata": {
    "execution": {
     "iopub.execute_input": "2022-11-02T02:12:46.264716Z",
     "iopub.status.busy": "2022-11-02T02:12:46.264716Z",
     "iopub.status.idle": "2022-11-02T02:12:46.280345Z",
     "shell.execute_reply": "2022-11-02T02:12:46.279715Z",
     "shell.execute_reply.started": "2022-11-02T02:12:46.264716Z"
    },
    "tags": []
   },
   "outputs": [
    {
     "data": {
      "text/plain": [
       "array([[0.99759855, 0.00240145],\n",
       "       [0.02735183, 0.97264817],\n",
       "       [0.99486072, 0.00513928],\n",
       "       [0.98584202, 0.01415798],\n",
       "       [0.99767269, 0.00232731]])"
      ]
     },
     "execution_count": 42,
     "metadata": {},
     "output_type": "execute_result"
    }
   ],
   "source": [
    "lr.predict_proba(train[:5])"
   ]
  },
  {
   "cell_type": "code",
   "execution_count": 43,
   "id": "0467a3f2-29f4-419d-8dbd-a2a072ce6723",
   "metadata": {
    "execution": {
     "iopub.execute_input": "2022-11-02T02:12:59.674905Z",
     "iopub.status.busy": "2022-11-02T02:12:59.673903Z",
     "iopub.status.idle": "2022-11-02T02:12:59.694906Z",
     "shell.execute_reply": "2022-11-02T02:12:59.693905Z",
     "shell.execute_reply.started": "2022-11-02T02:12:59.674905Z"
    },
    "tags": []
   },
   "outputs": [
    {
     "name": "stdout",
     "output_type": "stream",
     "text": [
      "[[-0.4037798  -0.57620209 -0.66280298 -1.01290277 -0.73168947]] [-2.16155132]\n"
     ]
    }
   ],
   "source": [
    "print(lr.coef_, lr.intercept_)"
   ]
  },
  {
   "cell_type": "code",
   "execution_count": 45,
   "id": "b9fc21d7-639a-4627-8100-58e2215edc57",
   "metadata": {
    "execution": {
     "iopub.execute_input": "2022-11-02T02:15:45.465249Z",
     "iopub.status.busy": "2022-11-02T02:15:45.465249Z",
     "iopub.status.idle": "2022-11-02T02:15:45.485236Z",
     "shell.execute_reply": "2022-11-02T02:15:45.484249Z",
     "shell.execute_reply.started": "2022-11-02T02:15:45.465249Z"
    },
    "tags": []
   },
   "outputs": [
    {
     "data": {
      "text/plain": [
       "array([-6.02927744,  3.57123907, -5.26568906, -4.24321775, -6.0607117 ])"
      ]
     },
     "execution_count": 45,
     "metadata": {},
     "output_type": "execute_result"
    }
   ],
   "source": [
    "decisions = lr.decision_function(train[:5])\n",
    "decisions"
   ]
  },
  {
   "cell_type": "code",
   "execution_count": 48,
   "id": "46a62c52-9c48-40fa-a372-a6cdc4463827",
   "metadata": {
    "execution": {
     "iopub.execute_input": "2022-11-02T02:17:56.035038Z",
     "iopub.status.busy": "2022-11-02T02:17:56.035038Z",
     "iopub.status.idle": "2022-11-02T02:17:56.054440Z",
     "shell.execute_reply": "2022-11-02T02:17:56.053439Z",
     "shell.execute_reply.started": "2022-11-02T02:17:56.035038Z"
    },
    "tags": []
   },
   "outputs": [
    {
     "data": {
      "text/plain": [
       "array([0.00240145, 0.97264817, 0.00513928, 0.01415798, 0.00232731])"
      ]
     },
     "execution_count": 48,
     "metadata": {},
     "output_type": "execute_result"
    }
   ],
   "source": [
    "# 시그모이드 함수를 통해 확률값 추출\n",
    "expit(decisions)"
   ]
  },
  {
   "cell_type": "markdown",
   "id": "a40b3796-772b-4a3d-84df-6df66b46956e",
   "metadata": {},
   "source": [
    "### 로지스틱 회귀(다중분류)"
   ]
  },
  {
   "cell_type": "code",
   "execution_count": 49,
   "id": "92f38c40-60e9-4b80-8a10-50e177a7c22f",
   "metadata": {
    "execution": {
     "iopub.execute_input": "2022-11-02T05:23:44.645059Z",
     "iopub.status.busy": "2022-11-02T05:23:44.645059Z",
     "iopub.status.idle": "2022-11-02T05:23:44.740879Z",
     "shell.execute_reply": "2022-11-02T05:23:44.739878Z",
     "shell.execute_reply.started": "2022-11-02T05:23:44.645059Z"
    }
   },
   "outputs": [
    {
     "name": "stdout",
     "output_type": "stream",
     "text": [
      "0.9327731092436975\n",
      "0.925\n"
     ]
    }
   ],
   "source": [
    "lr = LogisticRegression(C=20, max_iter=1000)\n",
    "lr.fit(train_scaled, train_target)\n",
    "print(lr.score(train_scaled, train_target))\n",
    "print(lr.score(test_scaled, test_target))"
   ]
  },
  {
   "cell_type": "code",
   "execution_count": 50,
   "id": "9a3b73f5-659a-4d39-a597-dd46abb47002",
   "metadata": {
    "execution": {
     "iopub.execute_input": "2022-11-02T05:24:42.148804Z",
     "iopub.status.busy": "2022-11-02T05:24:42.148804Z",
     "iopub.status.idle": "2022-11-02T05:24:42.170768Z",
     "shell.execute_reply": "2022-11-02T05:24:42.169765Z",
     "shell.execute_reply.started": "2022-11-02T05:24:42.148804Z"
    }
   },
   "outputs": [
    {
     "data": {
      "text/plain": [
       "array(['Perch', 'Smelt', 'Pike', 'Roach', 'Perch'], dtype=object)"
      ]
     },
     "execution_count": 50,
     "metadata": {},
     "output_type": "execute_result"
    }
   ],
   "source": [
    "lr.predict(test_scaled[:5])"
   ]
  },
  {
   "cell_type": "code",
   "execution_count": 51,
   "id": "359752e5-a8f2-4a97-af25-dee8d13adfa4",
   "metadata": {
    "execution": {
     "iopub.execute_input": "2022-11-02T05:26:38.025305Z",
     "iopub.status.busy": "2022-11-02T05:26:38.024352Z",
     "iopub.status.idle": "2022-11-02T05:26:38.040390Z",
     "shell.execute_reply": "2022-11-02T05:26:38.039406Z",
     "shell.execute_reply.started": "2022-11-02T05:26:38.024352Z"
    }
   },
   "outputs": [
    {
     "data": {
      "text/plain": [
       "array([[0.  , 0.01, 0.84, 0.  , 0.14, 0.01, 0.  ],\n",
       "       [0.  , 0.  , 0.04, 0.  , 0.01, 0.95, 0.  ],\n",
       "       [0.  , 0.  , 0.03, 0.93, 0.02, 0.02, 0.  ],\n",
       "       [0.01, 0.03, 0.31, 0.01, 0.57, 0.  , 0.08],\n",
       "       [0.  , 0.  , 0.9 , 0.  , 0.09, 0.  , 0.  ]])"
      ]
     },
     "execution_count": 51,
     "metadata": {},
     "output_type": "execute_result"
    }
   ],
   "source": [
    "proba = lr.predict_proba(test_scaled[:5])\n",
    "np.round(proba, decimals=2)"
   ]
  },
  {
   "cell_type": "code",
   "execution_count": 52,
   "id": "01000ed7-d4bf-4922-9e6a-8bf738c3ce35",
   "metadata": {
    "execution": {
     "iopub.execute_input": "2022-11-02T05:28:40.722199Z",
     "iopub.status.busy": "2022-11-02T05:28:40.722199Z",
     "iopub.status.idle": "2022-11-02T05:28:40.736285Z",
     "shell.execute_reply": "2022-11-02T05:28:40.735286Z",
     "shell.execute_reply.started": "2022-11-02T05:28:40.722199Z"
    },
    "tags": []
   },
   "outputs": [
    {
     "data": {
      "text/plain": [
       "array(['Bream', 'Parkki', 'Perch', 'Pike', 'Roach', 'Smelt', 'Whitefish'],\n",
       "      dtype=object)"
      ]
     },
     "execution_count": 52,
     "metadata": {},
     "output_type": "execute_result"
    }
   ],
   "source": [
    "lr.classes_"
   ]
  },
  {
   "cell_type": "code",
   "execution_count": null,
   "id": "1027d9d8-204e-4f0a-ad6c-e780a7c6452b",
   "metadata": {},
   "outputs": [],
   "source": []
  }
 ],
 "metadata": {
  "kernelspec": {
   "display_name": "Python 3 (ipykernel)",
   "language": "python",
   "name": "python3"
  },
  "language_info": {
   "codemirror_mode": {
    "name": "ipython",
    "version": 3
   },
   "file_extension": ".py",
   "mimetype": "text/x-python",
   "name": "python",
   "nbconvert_exporter": "python",
   "pygments_lexer": "ipython3",
   "version": "3.9.13"
  }
 },
 "nbformat": 4,
 "nbformat_minor": 5
}
