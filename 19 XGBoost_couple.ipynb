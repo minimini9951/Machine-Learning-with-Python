{
 "cells": [
  {
   "cell_type": "code",
   "execution_count": 2,
   "id": "959f7f74-dfc0-46af-9030-b0400236c856",
   "metadata": {
    "execution": {
     "iopub.execute_input": "2022-11-17T01:35:19.368389Z",
     "iopub.status.busy": "2022-11-17T01:35:19.368389Z",
     "iopub.status.idle": "2022-11-17T01:35:19.404593Z",
     "shell.execute_reply": "2022-11-17T01:35:19.403593Z",
     "shell.execute_reply.started": "2022-11-17T01:35:19.368389Z"
    },
    "tags": []
   },
   "outputs": [],
   "source": [
    "import numpy as np\n",
    "import pandas as pd\n",
    "import seaborn as sns\n",
    "import matplotlib as mpl\n",
    "import matplotlib.pyplot as plt\n",
    "\n",
    "import os\n",
    "os.environ[\"OMP_NUM_THREADS\"] = '1'\n",
    "\n",
    "import warnings\n",
    "warnings.simplefilter(action='ignore', category=FutureWarning)\n",
    "\n",
    "%matplotlib inline\n",
    "%config Completer.use_jedi = False\n",
    "%config InlineBackend.figure_format = 'retina'\n",
    "mpl.rc('font', family='D2coding')\n",
    "mpl.rc('axes', unicode_minus=False)\n",
    "\n",
    "sns.set(font=\"malgun gothic\", rc={\"axes.unicode_minus\":False}, style='darkgrid')\n",
    "plt.rc('figure', figsize=(10, 8))"
   ]
  },
  {
   "cell_type": "markdown",
   "id": "c5f1f6a4-562b-49e4-82f4-efd70db4703f",
   "metadata": {},
   "source": [
    "# 데이터 불러오기"
   ]
  },
  {
   "cell_type": "code",
   "execution_count": 5,
   "id": "d138790b-e46a-4c77-868c-936e5a19a27d",
   "metadata": {
    "execution": {
     "iopub.execute_input": "2022-11-17T01:37:48.837443Z",
     "iopub.status.busy": "2022-11-17T01:37:48.837443Z",
     "iopub.status.idle": "2022-11-17T01:37:48.894893Z",
     "shell.execute_reply": "2022-11-17T01:37:48.893927Z",
     "shell.execute_reply.started": "2022-11-17T01:37:48.837443Z"
    },
    "tags": []
   },
   "outputs": [
    {
     "data": {
      "text/html": [
       "<div>\n",
       "<style scoped>\n",
       "    .dataframe tbody tr th:only-of-type {\n",
       "        vertical-align: middle;\n",
       "    }\n",
       "\n",
       "    .dataframe tbody tr th {\n",
       "        vertical-align: top;\n",
       "    }\n",
       "\n",
       "    .dataframe thead th {\n",
       "        text-align: right;\n",
       "    }\n",
       "</style>\n",
       "<table border=\"1\" class=\"dataframe\">\n",
       "  <thead>\n",
       "    <tr style=\"text-align: right;\">\n",
       "      <th></th>\n",
       "      <th>has_null</th>\n",
       "      <th>gender</th>\n",
       "      <th>age</th>\n",
       "      <th>age_o</th>\n",
       "      <th>race</th>\n",
       "      <th>race_o</th>\n",
       "      <th>importance_same_race</th>\n",
       "      <th>importance_same_religion</th>\n",
       "      <th>pref_o_attractive</th>\n",
       "      <th>pref_o_sincere</th>\n",
       "      <th>pref_o_intelligence</th>\n",
       "      <th>pref_o_funny</th>\n",
       "      <th>pref_o_ambitious</th>\n",
       "      <th>pref_o_shared_interests</th>\n",
       "      <th>attractive_o</th>\n",
       "      <th>sincere_o</th>\n",
       "      <th>intelligence_o</th>\n",
       "      <th>funny_o</th>\n",
       "      <th>ambitous_o</th>\n",
       "      <th>shared_interests_o</th>\n",
       "      <th>attractive_important</th>\n",
       "      <th>sincere_important</th>\n",
       "      <th>intellicence_important</th>\n",
       "      <th>funny_important</th>\n",
       "      <th>ambtition_important</th>\n",
       "      <th>shared_interests_important</th>\n",
       "      <th>attractive_partner</th>\n",
       "      <th>sincere_partner</th>\n",
       "      <th>intelligence_partner</th>\n",
       "      <th>funny_partner</th>\n",
       "      <th>ambition_partner</th>\n",
       "      <th>shared_interests_partner</th>\n",
       "      <th>interests_correlate</th>\n",
       "      <th>expected_happy_with_sd_people</th>\n",
       "      <th>expected_num_interested_in_me</th>\n",
       "      <th>like</th>\n",
       "      <th>guess_prob_liked</th>\n",
       "      <th>met</th>\n",
       "      <th>match</th>\n",
       "    </tr>\n",
       "  </thead>\n",
       "  <tbody>\n",
       "    <tr>\n",
       "      <th>0</th>\n",
       "      <td>0</td>\n",
       "      <td>female</td>\n",
       "      <td>21.0</td>\n",
       "      <td>27.0</td>\n",
       "      <td>Asian/PacificIslander/Asian-American</td>\n",
       "      <td>European/Caucasian-American</td>\n",
       "      <td>2.0</td>\n",
       "      <td>4.0</td>\n",
       "      <td>35.0</td>\n",
       "      <td>20.0</td>\n",
       "      <td>20.0</td>\n",
       "      <td>20.0</td>\n",
       "      <td>0.0</td>\n",
       "      <td>5.0</td>\n",
       "      <td>6.0</td>\n",
       "      <td>8.0</td>\n",
       "      <td>8.0</td>\n",
       "      <td>8.0</td>\n",
       "      <td>8.0</td>\n",
       "      <td>6.0</td>\n",
       "      <td>15.0</td>\n",
       "      <td>20.0</td>\n",
       "      <td>20.0</td>\n",
       "      <td>15.0</td>\n",
       "      <td>15.0</td>\n",
       "      <td>15.0</td>\n",
       "      <td>6.0</td>\n",
       "      <td>9.0</td>\n",
       "      <td>7.0</td>\n",
       "      <td>7.0</td>\n",
       "      <td>6.0</td>\n",
       "      <td>5.0</td>\n",
       "      <td>0.14</td>\n",
       "      <td>3.0</td>\n",
       "      <td>2.0</td>\n",
       "      <td>7.0</td>\n",
       "      <td>6.0</td>\n",
       "      <td>0.0</td>\n",
       "      <td>0</td>\n",
       "    </tr>\n",
       "    <tr>\n",
       "      <th>1</th>\n",
       "      <td>0</td>\n",
       "      <td>female</td>\n",
       "      <td>21.0</td>\n",
       "      <td>22.0</td>\n",
       "      <td>Asian/PacificIslander/Asian-American</td>\n",
       "      <td>European/Caucasian-American</td>\n",
       "      <td>2.0</td>\n",
       "      <td>4.0</td>\n",
       "      <td>60.0</td>\n",
       "      <td>0.0</td>\n",
       "      <td>0.0</td>\n",
       "      <td>40.0</td>\n",
       "      <td>0.0</td>\n",
       "      <td>0.0</td>\n",
       "      <td>7.0</td>\n",
       "      <td>8.0</td>\n",
       "      <td>10.0</td>\n",
       "      <td>7.0</td>\n",
       "      <td>7.0</td>\n",
       "      <td>5.0</td>\n",
       "      <td>15.0</td>\n",
       "      <td>20.0</td>\n",
       "      <td>20.0</td>\n",
       "      <td>15.0</td>\n",
       "      <td>15.0</td>\n",
       "      <td>15.0</td>\n",
       "      <td>7.0</td>\n",
       "      <td>8.0</td>\n",
       "      <td>7.0</td>\n",
       "      <td>8.0</td>\n",
       "      <td>5.0</td>\n",
       "      <td>6.0</td>\n",
       "      <td>0.54</td>\n",
       "      <td>3.0</td>\n",
       "      <td>2.0</td>\n",
       "      <td>7.0</td>\n",
       "      <td>5.0</td>\n",
       "      <td>1.0</td>\n",
       "      <td>0</td>\n",
       "    </tr>\n",
       "    <tr>\n",
       "      <th>2</th>\n",
       "      <td>1</td>\n",
       "      <td>female</td>\n",
       "      <td>21.0</td>\n",
       "      <td>22.0</td>\n",
       "      <td>Asian/PacificIslander/Asian-American</td>\n",
       "      <td>Asian/PacificIslander/Asian-American</td>\n",
       "      <td>2.0</td>\n",
       "      <td>4.0</td>\n",
       "      <td>19.0</td>\n",
       "      <td>18.0</td>\n",
       "      <td>19.0</td>\n",
       "      <td>18.0</td>\n",
       "      <td>14.0</td>\n",
       "      <td>12.0</td>\n",
       "      <td>10.0</td>\n",
       "      <td>10.0</td>\n",
       "      <td>10.0</td>\n",
       "      <td>10.0</td>\n",
       "      <td>10.0</td>\n",
       "      <td>10.0</td>\n",
       "      <td>15.0</td>\n",
       "      <td>20.0</td>\n",
       "      <td>20.0</td>\n",
       "      <td>15.0</td>\n",
       "      <td>15.0</td>\n",
       "      <td>15.0</td>\n",
       "      <td>5.0</td>\n",
       "      <td>8.0</td>\n",
       "      <td>9.0</td>\n",
       "      <td>8.0</td>\n",
       "      <td>5.0</td>\n",
       "      <td>7.0</td>\n",
       "      <td>0.16</td>\n",
       "      <td>3.0</td>\n",
       "      <td>2.0</td>\n",
       "      <td>7.0</td>\n",
       "      <td>NaN</td>\n",
       "      <td>1.0</td>\n",
       "      <td>1</td>\n",
       "    </tr>\n",
       "    <tr>\n",
       "      <th>3</th>\n",
       "      <td>0</td>\n",
       "      <td>female</td>\n",
       "      <td>21.0</td>\n",
       "      <td>23.0</td>\n",
       "      <td>Asian/PacificIslander/Asian-American</td>\n",
       "      <td>European/Caucasian-American</td>\n",
       "      <td>2.0</td>\n",
       "      <td>4.0</td>\n",
       "      <td>30.0</td>\n",
       "      <td>5.0</td>\n",
       "      <td>15.0</td>\n",
       "      <td>40.0</td>\n",
       "      <td>5.0</td>\n",
       "      <td>5.0</td>\n",
       "      <td>7.0</td>\n",
       "      <td>8.0</td>\n",
       "      <td>9.0</td>\n",
       "      <td>8.0</td>\n",
       "      <td>9.0</td>\n",
       "      <td>8.0</td>\n",
       "      <td>15.0</td>\n",
       "      <td>20.0</td>\n",
       "      <td>20.0</td>\n",
       "      <td>15.0</td>\n",
       "      <td>15.0</td>\n",
       "      <td>15.0</td>\n",
       "      <td>7.0</td>\n",
       "      <td>6.0</td>\n",
       "      <td>8.0</td>\n",
       "      <td>7.0</td>\n",
       "      <td>6.0</td>\n",
       "      <td>8.0</td>\n",
       "      <td>0.61</td>\n",
       "      <td>3.0</td>\n",
       "      <td>2.0</td>\n",
       "      <td>7.0</td>\n",
       "      <td>6.0</td>\n",
       "      <td>0.0</td>\n",
       "      <td>1</td>\n",
       "    </tr>\n",
       "    <tr>\n",
       "      <th>4</th>\n",
       "      <td>0</td>\n",
       "      <td>female</td>\n",
       "      <td>21.0</td>\n",
       "      <td>24.0</td>\n",
       "      <td>Asian/PacificIslander/Asian-American</td>\n",
       "      <td>Latino/HispanicAmerican</td>\n",
       "      <td>2.0</td>\n",
       "      <td>4.0</td>\n",
       "      <td>30.0</td>\n",
       "      <td>10.0</td>\n",
       "      <td>20.0</td>\n",
       "      <td>10.0</td>\n",
       "      <td>10.0</td>\n",
       "      <td>20.0</td>\n",
       "      <td>8.0</td>\n",
       "      <td>7.0</td>\n",
       "      <td>9.0</td>\n",
       "      <td>6.0</td>\n",
       "      <td>9.0</td>\n",
       "      <td>7.0</td>\n",
       "      <td>15.0</td>\n",
       "      <td>20.0</td>\n",
       "      <td>20.0</td>\n",
       "      <td>15.0</td>\n",
       "      <td>15.0</td>\n",
       "      <td>15.0</td>\n",
       "      <td>5.0</td>\n",
       "      <td>6.0</td>\n",
       "      <td>7.0</td>\n",
       "      <td>7.0</td>\n",
       "      <td>6.0</td>\n",
       "      <td>6.0</td>\n",
       "      <td>0.21</td>\n",
       "      <td>3.0</td>\n",
       "      <td>2.0</td>\n",
       "      <td>6.0</td>\n",
       "      <td>6.0</td>\n",
       "      <td>0.0</td>\n",
       "      <td>1</td>\n",
       "    </tr>\n",
       "  </tbody>\n",
       "</table>\n",
       "</div>"
      ],
      "text/plain": [
       "   has_null  gender   age  age_o                                  race  \\\n",
       "0         0  female  21.0   27.0  Asian/PacificIslander/Asian-American   \n",
       "1         0  female  21.0   22.0  Asian/PacificIslander/Asian-American   \n",
       "2         1  female  21.0   22.0  Asian/PacificIslander/Asian-American   \n",
       "3         0  female  21.0   23.0  Asian/PacificIslander/Asian-American   \n",
       "4         0  female  21.0   24.0  Asian/PacificIslander/Asian-American   \n",
       "\n",
       "                                 race_o  importance_same_race  \\\n",
       "0           European/Caucasian-American                   2.0   \n",
       "1           European/Caucasian-American                   2.0   \n",
       "2  Asian/PacificIslander/Asian-American                   2.0   \n",
       "3           European/Caucasian-American                   2.0   \n",
       "4               Latino/HispanicAmerican                   2.0   \n",
       "\n",
       "   importance_same_religion  pref_o_attractive  pref_o_sincere  \\\n",
       "0                       4.0               35.0            20.0   \n",
       "1                       4.0               60.0             0.0   \n",
       "2                       4.0               19.0            18.0   \n",
       "3                       4.0               30.0             5.0   \n",
       "4                       4.0               30.0            10.0   \n",
       "\n",
       "   pref_o_intelligence  pref_o_funny  pref_o_ambitious  \\\n",
       "0                 20.0          20.0               0.0   \n",
       "1                  0.0          40.0               0.0   \n",
       "2                 19.0          18.0              14.0   \n",
       "3                 15.0          40.0               5.0   \n",
       "4                 20.0          10.0              10.0   \n",
       "\n",
       "   pref_o_shared_interests  attractive_o  sincere_o  intelligence_o  funny_o  \\\n",
       "0                      5.0           6.0        8.0             8.0      8.0   \n",
       "1                      0.0           7.0        8.0            10.0      7.0   \n",
       "2                     12.0          10.0       10.0            10.0     10.0   \n",
       "3                      5.0           7.0        8.0             9.0      8.0   \n",
       "4                     20.0           8.0        7.0             9.0      6.0   \n",
       "\n",
       "   ambitous_o  shared_interests_o  attractive_important  sincere_important  \\\n",
       "0         8.0                 6.0                  15.0               20.0   \n",
       "1         7.0                 5.0                  15.0               20.0   \n",
       "2        10.0                10.0                  15.0               20.0   \n",
       "3         9.0                 8.0                  15.0               20.0   \n",
       "4         9.0                 7.0                  15.0               20.0   \n",
       "\n",
       "   intellicence_important  funny_important  ambtition_important  \\\n",
       "0                    20.0             15.0                 15.0   \n",
       "1                    20.0             15.0                 15.0   \n",
       "2                    20.0             15.0                 15.0   \n",
       "3                    20.0             15.0                 15.0   \n",
       "4                    20.0             15.0                 15.0   \n",
       "\n",
       "   shared_interests_important  attractive_partner  sincere_partner  \\\n",
       "0                        15.0                 6.0              9.0   \n",
       "1                        15.0                 7.0              8.0   \n",
       "2                        15.0                 5.0              8.0   \n",
       "3                        15.0                 7.0              6.0   \n",
       "4                        15.0                 5.0              6.0   \n",
       "\n",
       "   intelligence_partner  funny_partner  ambition_partner  \\\n",
       "0                   7.0            7.0               6.0   \n",
       "1                   7.0            8.0               5.0   \n",
       "2                   9.0            8.0               5.0   \n",
       "3                   8.0            7.0               6.0   \n",
       "4                   7.0            7.0               6.0   \n",
       "\n",
       "   shared_interests_partner  interests_correlate  \\\n",
       "0                       5.0                 0.14   \n",
       "1                       6.0                 0.54   \n",
       "2                       7.0                 0.16   \n",
       "3                       8.0                 0.61   \n",
       "4                       6.0                 0.21   \n",
       "\n",
       "   expected_happy_with_sd_people  expected_num_interested_in_me  like  \\\n",
       "0                            3.0                            2.0   7.0   \n",
       "1                            3.0                            2.0   7.0   \n",
       "2                            3.0                            2.0   7.0   \n",
       "3                            3.0                            2.0   7.0   \n",
       "4                            3.0                            2.0   6.0   \n",
       "\n",
       "   guess_prob_liked  met  match  \n",
       "0               6.0  0.0      0  \n",
       "1               5.0  1.0      0  \n",
       "2               NaN  1.0      1  \n",
       "3               6.0  0.0      1  \n",
       "4               6.0  0.0      1  "
      ]
     },
     "execution_count": 5,
     "metadata": {},
     "output_type": "execute_result"
    }
   ],
   "source": [
    "data = pd.read_csv('C:/k_digital/source/data/dating.csv')\n",
    "data.head()"
   ]
  },
  {
   "cell_type": "code",
   "execution_count": 4,
   "id": "0ffda313-7654-40e4-ae75-3b0015a42447",
   "metadata": {
    "execution": {
     "iopub.execute_input": "2022-11-17T01:37:47.547806Z",
     "iopub.status.busy": "2022-11-17T01:37:47.546821Z",
     "iopub.status.idle": "2022-11-17T01:37:47.564958Z",
     "shell.execute_reply": "2022-11-17T01:37:47.564958Z",
     "shell.execute_reply.started": "2022-11-17T01:37:47.547806Z"
    }
   },
   "outputs": [],
   "source": [
    "pd.options.display.max_columns = 40"
   ]
  },
  {
   "cell_type": "code",
   "execution_count": 6,
   "id": "1e523085-94f3-4813-aef0-84e423a87ba7",
   "metadata": {
    "execution": {
     "iopub.execute_input": "2022-11-17T01:38:22.970519Z",
     "iopub.status.busy": "2022-11-17T01:38:22.970519Z",
     "iopub.status.idle": "2022-11-17T01:38:22.995521Z",
     "shell.execute_reply": "2022-11-17T01:38:22.994530Z",
     "shell.execute_reply.started": "2022-11-17T01:38:22.970519Z"
    }
   },
   "outputs": [
    {
     "name": "stdout",
     "output_type": "stream",
     "text": [
      "<class 'pandas.core.frame.DataFrame'>\n",
      "RangeIndex: 8378 entries, 0 to 8377\n",
      "Data columns (total 39 columns):\n",
      " #   Column                         Non-Null Count  Dtype  \n",
      "---  ------                         --------------  -----  \n",
      " 0   has_null                       8378 non-null   int64  \n",
      " 1   gender                         8378 non-null   object \n",
      " 2   age                            8283 non-null   float64\n",
      " 3   age_o                          8274 non-null   float64\n",
      " 4   race                           8315 non-null   object \n",
      " 5   race_o                         8305 non-null   object \n",
      " 6   importance_same_race           8299 non-null   float64\n",
      " 7   importance_same_religion       8299 non-null   float64\n",
      " 8   pref_o_attractive              8289 non-null   float64\n",
      " 9   pref_o_sincere                 8289 non-null   float64\n",
      " 10  pref_o_intelligence            8289 non-null   float64\n",
      " 11  pref_o_funny                   8280 non-null   float64\n",
      " 12  pref_o_ambitious               8271 non-null   float64\n",
      " 13  pref_o_shared_interests        8249 non-null   float64\n",
      " 14  attractive_o                   8166 non-null   float64\n",
      " 15  sincere_o                      8091 non-null   float64\n",
      " 16  intelligence_o                 8072 non-null   float64\n",
      " 17  funny_o                        8018 non-null   float64\n",
      " 18  ambitous_o                     7656 non-null   float64\n",
      " 19  shared_interests_o             7302 non-null   float64\n",
      " 20  attractive_important           8299 non-null   float64\n",
      " 21  sincere_important              8299 non-null   float64\n",
      " 22  intellicence_important         8299 non-null   float64\n",
      " 23  funny_important                8289 non-null   float64\n",
      " 24  ambtition_important            8279 non-null   float64\n",
      " 25  shared_interests_important     8257 non-null   float64\n",
      " 26  attractive_partner             8176 non-null   float64\n",
      " 27  sincere_partner                8101 non-null   float64\n",
      " 28  intelligence_partner           8082 non-null   float64\n",
      " 29  funny_partner                  8028 non-null   float64\n",
      " 30  ambition_partner               7666 non-null   float64\n",
      " 31  shared_interests_partner       7311 non-null   float64\n",
      " 32  interests_correlate            8220 non-null   float64\n",
      " 33  expected_happy_with_sd_people  8277 non-null   float64\n",
      " 34  expected_num_interested_in_me  1800 non-null   float64\n",
      " 35  like                           8138 non-null   float64\n",
      " 36  guess_prob_liked               8069 non-null   float64\n",
      " 37  met                            8003 non-null   float64\n",
      " 38  match                          8378 non-null   int64  \n",
      "dtypes: float64(34), int64(2), object(3)\n",
      "memory usage: 2.5+ MB\n"
     ]
    }
   ],
   "source": [
    "data.info()"
   ]
  },
  {
   "cell_type": "code",
   "execution_count": 7,
   "id": "e423adc0-081e-4af0-99e9-47948b57fa77",
   "metadata": {
    "execution": {
     "iopub.execute_input": "2022-11-17T02:01:39.100164Z",
     "iopub.status.busy": "2022-11-17T02:01:39.100164Z",
     "iopub.status.idle": "2022-11-17T02:01:39.109155Z",
     "shell.execute_reply": "2022-11-17T02:01:39.108155Z",
     "shell.execute_reply.started": "2022-11-17T02:01:39.100164Z"
    },
    "tags": []
   },
   "outputs": [
    {
     "data": {
      "text/plain": [
       "Index(['has_null', 'gender', 'age', 'age_o', 'race', 'race_o',\n",
       "       'importance_same_race', 'importance_same_religion', 'pref_o_attractive',\n",
       "       'pref_o_sincere', 'pref_o_intelligence', 'pref_o_funny',\n",
       "       'pref_o_ambitious', 'pref_o_shared_interests', 'attractive_o',\n",
       "       'sincere_o', 'intelligence_o', 'funny_o', 'ambitous_o',\n",
       "       'shared_interests_o', 'attractive_important', 'sincere_important',\n",
       "       'intellicence_important', 'funny_important', 'ambtition_important',\n",
       "       'shared_interests_important', 'attractive_partner', 'sincere_partner',\n",
       "       'intelligence_partner', 'funny_partner', 'ambition_partner',\n",
       "       'shared_interests_partner', 'interests_correlate',\n",
       "       'expected_happy_with_sd_people', 'expected_num_interested_in_me',\n",
       "       'like', 'guess_prob_liked', 'met', 'match'],\n",
       "      dtype='object')"
      ]
     },
     "execution_count": 7,
     "metadata": {},
     "output_type": "execute_result"
    }
   ],
   "source": [
    "data.columns"
   ]
  },
  {
   "cell_type": "code",
   "execution_count": 8,
   "id": "81f37c67-0277-4065-ac77-3b7cf4476085",
   "metadata": {
    "execution": {
     "iopub.execute_input": "2022-11-17T02:02:40.131093Z",
     "iopub.status.busy": "2022-11-17T02:02:40.131093Z",
     "iopub.status.idle": "2022-11-17T02:02:40.147384Z",
     "shell.execute_reply": "2022-11-17T02:02:40.146633Z",
     "shell.execute_reply.started": "2022-11-17T02:02:40.131093Z"
    }
   },
   "outputs": [],
   "source": [
    "data = data.dropna(subset=['pref_o_attractive',\n",
    "                           'pref_o_sincere', 'pref_o_intelligence', 'pref_o_funny',\n",
    "                           'pref_o_ambitious', 'pref_o_shared_interests', 'attractive_o',\n",
    "                           'sincere_o', 'intelligence_o', 'funny_o', 'ambitous_o',\n",
    "                           'shared_interests_o', 'attractive_important', 'sincere_important',\n",
    "                           'intellicence_important', 'funny_important', 'ambtition_important',\n",
    "                           'shared_interests_important'])"
   ]
  },
  {
   "cell_type": "code",
   "execution_count": 9,
   "id": "d4189ce5-4532-48d0-b758-f90c54ce278b",
   "metadata": {
    "execution": {
     "iopub.execute_input": "2022-11-17T02:09:36.450934Z",
     "iopub.status.busy": "2022-11-17T02:09:36.449919Z",
     "iopub.status.idle": "2022-11-17T02:09:36.472921Z",
     "shell.execute_reply": "2022-11-17T02:09:36.471922Z",
     "shell.execute_reply.started": "2022-11-17T02:09:36.450934Z"
    }
   },
   "outputs": [],
   "source": [
    "data = data.fillna(-99)"
   ]
  },
  {
   "cell_type": "markdown",
   "id": "5ef4534a-ea8b-4e77-872d-933d255e2d31",
   "metadata": {},
   "source": [
    "## 전처리 - 피처 엔지니어링"
   ]
  },
  {
   "cell_type": "markdown",
   "id": "fbe66093-6dbb-4131-881f-ceb48495e29f",
   "metadata": {},
   "source": [
    "### 나이"
   ]
  },
  {
   "cell_type": "code",
   "execution_count": 10,
   "id": "2c35780e-37cb-4ccb-806a-c7adf519f02b",
   "metadata": {
    "execution": {
     "iopub.execute_input": "2022-11-17T02:12:42.045578Z",
     "iopub.status.busy": "2022-11-17T02:12:42.045578Z",
     "iopub.status.idle": "2022-11-17T02:12:42.059708Z",
     "shell.execute_reply": "2022-11-17T02:12:42.058707Z",
     "shell.execute_reply.started": "2022-11-17T02:12:42.045578Z"
    }
   },
   "outputs": [],
   "source": [
    "def age_gap(x):\n",
    "    if x['age'] == -99:\n",
    "        return -99\n",
    "    elif x['age_o'] == -99:\n",
    "        return -99\n",
    "    elif x['gender'] == 'female':\n",
    "        return x['age_o'] -x['age']\n",
    "    else:\n",
    "        return x['age'] - x['age_o']"
   ]
  },
  {
   "cell_type": "code",
   "execution_count": 11,
   "id": "08014609-d684-4f53-971f-817208837f50",
   "metadata": {
    "execution": {
     "iopub.execute_input": "2022-11-17T02:14:29.602623Z",
     "iopub.status.busy": "2022-11-17T02:14:29.601622Z",
     "iopub.status.idle": "2022-11-17T02:14:29.711184Z",
     "shell.execute_reply": "2022-11-17T02:14:29.710198Z",
     "shell.execute_reply.started": "2022-11-17T02:14:29.601622Z"
    }
   },
   "outputs": [],
   "source": [
    "data['age_gap'] = data.apply(age_gap, axis=1)"
   ]
  },
  {
   "cell_type": "markdown",
   "id": "6f8e61bf-2b6c-4b88-9acb-a830a01633f7",
   "metadata": {},
   "source": [
    "### 인종"
   ]
  },
  {
   "cell_type": "code",
   "execution_count": 12,
   "id": "c894fa77-c725-4de8-a43a-0d67f18ee475",
   "metadata": {
    "execution": {
     "iopub.execute_input": "2022-11-17T02:19:38.889235Z",
     "iopub.status.busy": "2022-11-17T02:19:38.888234Z",
     "iopub.status.idle": "2022-11-17T02:19:38.904352Z",
     "shell.execute_reply": "2022-11-17T02:19:38.903384Z",
     "shell.execute_reply.started": "2022-11-17T02:19:38.889235Z"
    }
   },
   "outputs": [],
   "source": [
    "def same_race(x):\n",
    "    if x['race'] == -99:\n",
    "        return -99\n",
    "    elif x['race_o'] == -99:\n",
    "        return -99\n",
    "    elif x['race'] == x['race_o']:\n",
    "        return 1\n",
    "    else:\n",
    "        return -1"
   ]
  },
  {
   "cell_type": "code",
   "execution_count": 13,
   "id": "a719e6ca-47d6-4171-ab2a-6db0280a6abf",
   "metadata": {
    "execution": {
     "iopub.execute_input": "2022-11-17T02:19:59.983020Z",
     "iopub.status.busy": "2022-11-17T02:19:59.983020Z",
     "iopub.status.idle": "2022-11-17T02:20:00.078146Z",
     "shell.execute_reply": "2022-11-17T02:20:00.077247Z",
     "shell.execute_reply.started": "2022-11-17T02:19:59.983020Z"
    }
   },
   "outputs": [],
   "source": [
    "data['same_race'] = data.apply(same_race, axis=1)"
   ]
  },
  {
   "cell_type": "markdown",
   "id": "52c34887-dcc5-408d-9878-d4eef91877c5",
   "metadata": {},
   "source": [
    "### 평가점수 환산"
   ]
  },
  {
   "cell_type": "code",
   "execution_count": 15,
   "id": "6a94bd4d-7b1d-4363-befc-be93fae3e6d0",
   "metadata": {
    "execution": {
     "iopub.execute_input": "2022-11-17T02:40:46.478228Z",
     "iopub.status.busy": "2022-11-17T02:40:46.477229Z",
     "iopub.status.idle": "2022-11-17T02:40:46.486250Z",
     "shell.execute_reply": "2022-11-17T02:40:46.485228Z",
     "shell.execute_reply.started": "2022-11-17T02:40:46.478228Z"
    },
    "tags": []
   },
   "outputs": [],
   "source": [
    "def rating(data, importance, score):\n",
    "    if data[importance] == -99:\n",
    "        return -99\n",
    "    elif data[score] == -99:\n",
    "        return -99\n",
    "    else:\n",
    "        return data[importance] * data[score]"
   ]
  },
  {
   "cell_type": "code",
   "execution_count": 17,
   "id": "a62a11ad-c83c-4349-adcd-3a326b1a561f",
   "metadata": {
    "execution": {
     "iopub.execute_input": "2022-11-17T03:23:00.950586Z",
     "iopub.status.busy": "2022-11-17T03:23:00.950586Z",
     "iopub.status.idle": "2022-11-17T03:23:00.969211Z",
     "shell.execute_reply": "2022-11-17T03:23:00.968227Z",
     "shell.execute_reply.started": "2022-11-17T03:23:00.950586Z"
    },
    "tags": []
   },
   "outputs": [],
   "source": [
    "partner_imp = data.columns[8:14]\n",
    "partner_rate_me = data.columns[14:20]\n",
    "my_imp = data.columns[20:26]\n",
    "my_rate_partner = data.columns[26:32]"
   ]
  },
  {
   "cell_type": "code",
   "execution_count": null,
   "id": "61356fe1-fd5b-4b03-8f06-dbc0665d5d19",
   "metadata": {},
   "outputs": [],
   "source": []
  }
 ],
 "metadata": {
  "kernelspec": {
   "display_name": "Python 3 (ipykernel)",
   "language": "python",
   "name": "python3"
  },
  "language_info": {
   "codemirror_mode": {
    "name": "ipython",
    "version": 3
   },
   "file_extension": ".py",
   "mimetype": "text/x-python",
   "name": "python",
   "nbconvert_exporter": "python",
   "pygments_lexer": "ipython3",
   "version": "3.9.0"
  }
 },
 "nbformat": 4,
 "nbformat_minor": 5
}
