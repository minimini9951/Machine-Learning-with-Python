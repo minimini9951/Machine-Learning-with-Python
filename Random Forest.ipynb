{
 "cells": [
  {
   "cell_type": "markdown",
   "id": "f1191b34-8639-43c6-aae2-57b3f011e9e9",
   "metadata": {},
   "source": [
    "# 랜덤 포레스트"
   ]
  },
  {
   "cell_type": "markdown",
   "id": "99ed48fa-b628-41a5-853d-6489387a0ece",
   "metadata": {
    "jp-MarkdownHeadingCollapsed": true,
    "tags": []
   },
   "source": [
    "# 알고리즘 top10\n",
    "- 지도학습\n",
    "    - 선형회귀 (linear regression)\n",
    "    - 로지스틱 회귀 (logistic regression)\n",
    "    - k-nn (K-Nearest Neighbor)\n",
    "    - 나이브베이스 (Naive Bayes)\n",
    "    - 결정트리 (Decision Tree)\n",
    "    - 랜덤포레스트 (random forest)\n",
    "    - XGBoost\n",
    "    - LightGBM\n",
    "- 비지도학습\n",
    "    - k-means\n",
    "    - PCA\n",
    "- 선택이유\n",
    "    - 범용성\n",
    "    - 속도\n",
    "    - 예측력\n",
    "    - 하이퍼파라미터 튜닝\n",
    "    - 시각화\n",
    "    - 해석력"
   ]
  },
  {
   "cell_type": "markdown",
   "id": "e8378831-974f-4ef5-adc2-ffc66a5cd353",
   "metadata": {},
   "source": [
    "# 머신러닝 필수 라이브러리\n",
    "- Numpy : Nummerical Python\n",
    "    - 파이썬 산술계산의 대표적인 라이브러리\n",
    "    - 자료구조, 알고리즘 산술 데이터를 다루는 대부분의 과학 계산에 필수 라이브러리\n",
    "    - ndarray 객체\n",
    "    \n",
    "- Pandas : 구조화된 데이터나 표 형식의 데이터를 빠르고 쉽게 표현적으로 다루도록 설계된 고수준 자료구조\n",
    "    - 데이터 과학에서 데이터를 처리하는 대표적인 라이브러리\n",
    "    - 데이터 핸들링에 표준\n",
    "    - Series 객체와 DataFrame 객체가 대표적인 자료구조\n",
    "    \n",
    "- Matplotlib : 시각화 라이브러리\n",
    "    - 그래프나 2차원 데이터를 시각화하는 파이썬 기반의 라이브러리\n",
    "    \n",
    "- Seaborn : 다양한 시각화 종류를 제공하는 라이브러리\n",
    "    - Matplotlib에 종속된 라이브러리\n",
    "    \n",
    "- Scipy\n",
    "    - 과학 계산 컴퓨팅 영역의 여러 기본 문제를 다루는 패키지 모음\n",
    "    - scipy.stats : 가장 많이 사용되는 통계도구를 가지고 있는 라이브러리\n",
    "    \n",
    "- scikit-learn : 머신러닝 핵심 라이브러리\n",
    "    - 분류 : SVM, 최근접 이웃, 랜덤 포레스트, 로지스틱 회귀 등\n",
    "    - 회귀 : 라쏘, 릿지 회귀 등\n",
    "    - 클러스터링 : k-평균 등\n",
    "    - 자원축소 : PCA, 특징 선택, 행렬 인수분해 등\n",
    "    - 모델선택 : 격자 탐색, 교차 검증, 행렬\n",
    "    - 전처리 : 특징 추출, 정규화 등\n",
    "    \n",
    "- statsmodels : R언어용 회귀분석 모델을 구현한 통계분석 패키지\n",
    "    - 회귀모델 : 선형회귀\n",
    "    - 분산분석(ANOVA)\n",
    "    - 시계열분석 : AR, ARMA, ARIMA 등\n",
    "    - 통계 모델 결과의 시각화 제공"
   ]
  },
  {
   "cell_type": "markdown",
   "id": "67660aa0-317d-402b-a555-411a529cc922",
   "metadata": {},
   "source": [
    "# 앙상블 학습"
   ]
  },
  {
   "cell_type": "code",
   "execution_count": 1,
   "id": "4c7cab91-06c8-414f-984a-821aa4b92215",
   "metadata": {
    "execution": {
     "iopub.execute_input": "2022-11-08T00:06:20.862504Z",
     "iopub.status.busy": "2022-11-08T00:06:20.862504Z",
     "iopub.status.idle": "2022-11-08T00:06:22.244863Z",
     "shell.execute_reply": "2022-11-08T00:06:22.244863Z",
     "shell.execute_reply.started": "2022-11-08T00:06:20.862504Z"
    },
    "tags": []
   },
   "outputs": [],
   "source": [
    "import numpy as np\n",
    "import pandas as pd\n",
    "\n",
    "# 보팅 분류기\n",
    "from sklearn.ensemble import VotingClassifier\n",
    "# 보팅용 학습알고리즘\n",
    "from sklearn.linear_model import LogisticRegression\n",
    "from sklearn.neighbors import KNeighborsClassifier\n",
    "# 데이터 분리\n",
    "from sklearn.model_selection import train_test_split\n",
    "# 정확도 확인\n",
    "from sklearn.metrics import accuracy_score\n",
    "# 경고 무시\n",
    "import warnings\n",
    "warnings.simplefilter(action='ignore', category=FutureWarning)\n",
    "# 자동완성 속도 증가\n",
    "%config Completer.use_jedi = False\n",
    "# 데이터셋 로딩\n",
    "from sklearn.datasets import load_breast_cancer"
   ]
  },
  {
   "cell_type": "code",
   "execution_count": 2,
   "id": "f1f3391c-570b-4430-bb6d-b6397622c6d0",
   "metadata": {
    "execution": {
     "iopub.execute_input": "2022-11-08T00:06:24.171312Z",
     "iopub.status.busy": "2022-11-08T00:06:24.171312Z",
     "iopub.status.idle": "2022-11-08T00:06:24.222339Z",
     "shell.execute_reply": "2022-11-08T00:06:24.221345Z",
     "shell.execute_reply.started": "2022-11-08T00:06:24.171312Z"
    },
    "tags": []
   },
   "outputs": [],
   "source": [
    "# 데이터셋 변수에 저장\n",
    "cancer = load_breast_cancer()"
   ]
  },
  {
   "cell_type": "code",
   "execution_count": 3,
   "id": "ee142f1b-9aab-4ea9-8b0d-43a789091b48",
   "metadata": {
    "execution": {
     "iopub.execute_input": "2022-11-08T00:06:24.565021Z",
     "iopub.status.busy": "2022-11-08T00:06:24.565021Z",
     "iopub.status.idle": "2022-11-08T00:06:24.578614Z",
     "shell.execute_reply": "2022-11-08T00:06:24.577054Z",
     "shell.execute_reply.started": "2022-11-08T00:06:24.565021Z"
    },
    "tags": []
   },
   "outputs": [
    {
     "name": "stdout",
     "output_type": "stream",
     "text": [
      ".. _breast_cancer_dataset:\n",
      "\n",
      "Breast cancer wisconsin (diagnostic) dataset\n",
      "--------------------------------------------\n",
      "\n",
      "**Data Set Characteristics:**\n",
      "\n",
      "    :Number of Instances: 569\n",
      "\n",
      "    :Number of Attributes: 30 numeric, predictive attributes and the class\n",
      "\n",
      "    :Attribute Information:\n",
      "        - radius (mean of distances from center to points on the perimeter)\n",
      "        - texture (standard deviation of gray-scale values)\n",
      "        - perimeter\n",
      "        - area\n",
      "        - smoothness (local variation in radius lengths)\n",
      "        - compactness (perimeter^2 / area - 1.0)\n",
      "        - concavity (severity of concave portions of the contour)\n",
      "        - concave points (number of concave portions of the contour)\n",
      "        - symmetry\n",
      "        - fractal dimension (\"coastline approximation\" - 1)\n",
      "\n",
      "        The mean, standard error, and \"worst\" or largest (mean of the three\n",
      "        worst/largest values) of these features were computed for each image,\n",
      "        resulting in 30 features.  For instance, field 0 is Mean Radius, field\n",
      "        10 is Radius SE, field 20 is Worst Radius.\n",
      "\n",
      "        - class:\n",
      "                - WDBC-Malignant\n",
      "                - WDBC-Benign\n",
      "\n",
      "    :Summary Statistics:\n",
      "\n",
      "    ===================================== ====== ======\n",
      "                                           Min    Max\n",
      "    ===================================== ====== ======\n",
      "    radius (mean):                        6.981  28.11\n",
      "    texture (mean):                       9.71   39.28\n",
      "    perimeter (mean):                     43.79  188.5\n",
      "    area (mean):                          143.5  2501.0\n",
      "    smoothness (mean):                    0.053  0.163\n",
      "    compactness (mean):                   0.019  0.345\n",
      "    concavity (mean):                     0.0    0.427\n",
      "    concave points (mean):                0.0    0.201\n",
      "    symmetry (mean):                      0.106  0.304\n",
      "    fractal dimension (mean):             0.05   0.097\n",
      "    radius (standard error):              0.112  2.873\n",
      "    texture (standard error):             0.36   4.885\n",
      "    perimeter (standard error):           0.757  21.98\n",
      "    area (standard error):                6.802  542.2\n",
      "    smoothness (standard error):          0.002  0.031\n",
      "    compactness (standard error):         0.002  0.135\n",
      "    concavity (standard error):           0.0    0.396\n",
      "    concave points (standard error):      0.0    0.053\n",
      "    symmetry (standard error):            0.008  0.079\n",
      "    fractal dimension (standard error):   0.001  0.03\n",
      "    radius (worst):                       7.93   36.04\n",
      "    texture (worst):                      12.02  49.54\n",
      "    perimeter (worst):                    50.41  251.2\n",
      "    area (worst):                         185.2  4254.0\n",
      "    smoothness (worst):                   0.071  0.223\n",
      "    compactness (worst):                  0.027  1.058\n",
      "    concavity (worst):                    0.0    1.252\n",
      "    concave points (worst):               0.0    0.291\n",
      "    symmetry (worst):                     0.156  0.664\n",
      "    fractal dimension (worst):            0.055  0.208\n",
      "    ===================================== ====== ======\n",
      "\n",
      "    :Missing Attribute Values: None\n",
      "\n",
      "    :Class Distribution: 212 - Malignant, 357 - Benign\n",
      "\n",
      "    :Creator:  Dr. William H. Wolberg, W. Nick Street, Olvi L. Mangasarian\n",
      "\n",
      "    :Donor: Nick Street\n",
      "\n",
      "    :Date: November, 1995\n",
      "\n",
      "This is a copy of UCI ML Breast Cancer Wisconsin (Diagnostic) datasets.\n",
      "https://goo.gl/U2Uwz2\n",
      "\n",
      "Features are computed from a digitized image of a fine needle\n",
      "aspirate (FNA) of a breast mass.  They describe\n",
      "characteristics of the cell nuclei present in the image.\n",
      "\n",
      "Separating plane described above was obtained using\n",
      "Multisurface Method-Tree (MSM-T) [K. P. Bennett, \"Decision Tree\n",
      "Construction Via Linear Programming.\" Proceedings of the 4th\n",
      "Midwest Artificial Intelligence and Cognitive Science Society,\n",
      "pp. 97-101, 1992], a classification method which uses linear\n",
      "programming to construct a decision tree.  Relevant features\n",
      "were selected using an exhaustive search in the space of 1-4\n",
      "features and 1-3 separating planes.\n",
      "\n",
      "The actual linear program used to obtain the separating plane\n",
      "in the 3-dimensional space is that described in:\n",
      "[K. P. Bennett and O. L. Mangasarian: \"Robust Linear\n",
      "Programming Discrimination of Two Linearly Inseparable Sets\",\n",
      "Optimization Methods and Software 1, 1992, 23-34].\n",
      "\n",
      "This database is also available through the UW CS ftp server:\n",
      "\n",
      "ftp ftp.cs.wisc.edu\n",
      "cd math-prog/cpo-dataset/machine-learn/WDBC/\n",
      "\n",
      ".. topic:: References\n",
      "\n",
      "   - W.N. Street, W.H. Wolberg and O.L. Mangasarian. Nuclear feature extraction \n",
      "     for breast tumor diagnosis. IS&T/SPIE 1993 International Symposium on \n",
      "     Electronic Imaging: Science and Technology, volume 1905, pages 861-870,\n",
      "     San Jose, CA, 1993.\n",
      "   - O.L. Mangasarian, W.N. Street and W.H. Wolberg. Breast cancer diagnosis and \n",
      "     prognosis via linear programming. Operations Research, 43(4), pages 570-577, \n",
      "     July-August 1995.\n",
      "   - W.H. Wolberg, W.N. Street, and O.L. Mangasarian. Machine learning techniques\n",
      "     to diagnose breast cancer from fine-needle aspirates. Cancer Letters 77 (1994) \n",
      "     163-171.\n"
     ]
    }
   ],
   "source": [
    "print(cancer['DESCR'])"
   ]
  },
  {
   "cell_type": "code",
   "execution_count": 4,
   "id": "932f4b2d-51c2-4533-a216-8ccaf7770349",
   "metadata": {
    "execution": {
     "iopub.execute_input": "2022-11-08T00:06:27.681783Z",
     "iopub.status.busy": "2022-11-08T00:06:27.681783Z",
     "iopub.status.idle": "2022-11-08T00:06:27.706352Z",
     "shell.execute_reply": "2022-11-08T00:06:27.705344Z",
     "shell.execute_reply.started": "2022-11-08T00:06:27.681783Z"
    },
    "tags": []
   },
   "outputs": [
    {
     "data": {
      "text/plain": [
       "dict_keys(['data', 'target', 'frame', 'target_names', 'DESCR', 'feature_names', 'filename', 'data_module'])"
      ]
     },
     "execution_count": 4,
     "metadata": {},
     "output_type": "execute_result"
    }
   ],
   "source": [
    "cancer.keys()"
   ]
  },
  {
   "cell_type": "code",
   "execution_count": 5,
   "id": "04d40954-4a5d-4df5-a1a7-75f8eefde794",
   "metadata": {
    "execution": {
     "iopub.execute_input": "2022-11-08T00:06:28.255101Z",
     "iopub.status.busy": "2022-11-08T00:06:28.254101Z",
     "iopub.status.idle": "2022-11-08T00:06:28.304100Z",
     "shell.execute_reply": "2022-11-08T00:06:28.303100Z",
     "shell.execute_reply.started": "2022-11-08T00:06:28.255101Z"
    },
    "tags": []
   },
   "outputs": [
    {
     "data": {
      "text/html": [
       "<div>\n",
       "<style scoped>\n",
       "    .dataframe tbody tr th:only-of-type {\n",
       "        vertical-align: middle;\n",
       "    }\n",
       "\n",
       "    .dataframe tbody tr th {\n",
       "        vertical-align: top;\n",
       "    }\n",
       "\n",
       "    .dataframe thead th {\n",
       "        text-align: right;\n",
       "    }\n",
       "</style>\n",
       "<table border=\"1\" class=\"dataframe\">\n",
       "  <thead>\n",
       "    <tr style=\"text-align: right;\">\n",
       "      <th></th>\n",
       "      <th>mean radius</th>\n",
       "      <th>mean texture</th>\n",
       "      <th>mean perimeter</th>\n",
       "      <th>mean area</th>\n",
       "      <th>mean smoothness</th>\n",
       "      <th>mean compactness</th>\n",
       "      <th>mean concavity</th>\n",
       "      <th>mean concave points</th>\n",
       "      <th>mean symmetry</th>\n",
       "      <th>mean fractal dimension</th>\n",
       "      <th>...</th>\n",
       "      <th>worst radius</th>\n",
       "      <th>worst texture</th>\n",
       "      <th>worst perimeter</th>\n",
       "      <th>worst area</th>\n",
       "      <th>worst smoothness</th>\n",
       "      <th>worst compactness</th>\n",
       "      <th>worst concavity</th>\n",
       "      <th>worst concave points</th>\n",
       "      <th>worst symmetry</th>\n",
       "      <th>worst fractal dimension</th>\n",
       "    </tr>\n",
       "  </thead>\n",
       "  <tbody>\n",
       "    <tr>\n",
       "      <th>0</th>\n",
       "      <td>17.99</td>\n",
       "      <td>10.38</td>\n",
       "      <td>122.8</td>\n",
       "      <td>1001.0</td>\n",
       "      <td>0.11840</td>\n",
       "      <td>0.27760</td>\n",
       "      <td>0.3001</td>\n",
       "      <td>0.14710</td>\n",
       "      <td>0.2419</td>\n",
       "      <td>0.07871</td>\n",
       "      <td>...</td>\n",
       "      <td>25.38</td>\n",
       "      <td>17.33</td>\n",
       "      <td>184.6</td>\n",
       "      <td>2019.0</td>\n",
       "      <td>0.1622</td>\n",
       "      <td>0.6656</td>\n",
       "      <td>0.7119</td>\n",
       "      <td>0.2654</td>\n",
       "      <td>0.4601</td>\n",
       "      <td>0.11890</td>\n",
       "    </tr>\n",
       "    <tr>\n",
       "      <th>1</th>\n",
       "      <td>20.57</td>\n",
       "      <td>17.77</td>\n",
       "      <td>132.9</td>\n",
       "      <td>1326.0</td>\n",
       "      <td>0.08474</td>\n",
       "      <td>0.07864</td>\n",
       "      <td>0.0869</td>\n",
       "      <td>0.07017</td>\n",
       "      <td>0.1812</td>\n",
       "      <td>0.05667</td>\n",
       "      <td>...</td>\n",
       "      <td>24.99</td>\n",
       "      <td>23.41</td>\n",
       "      <td>158.8</td>\n",
       "      <td>1956.0</td>\n",
       "      <td>0.1238</td>\n",
       "      <td>0.1866</td>\n",
       "      <td>0.2416</td>\n",
       "      <td>0.1860</td>\n",
       "      <td>0.2750</td>\n",
       "      <td>0.08902</td>\n",
       "    </tr>\n",
       "    <tr>\n",
       "      <th>2</th>\n",
       "      <td>19.69</td>\n",
       "      <td>21.25</td>\n",
       "      <td>130.0</td>\n",
       "      <td>1203.0</td>\n",
       "      <td>0.10960</td>\n",
       "      <td>0.15990</td>\n",
       "      <td>0.1974</td>\n",
       "      <td>0.12790</td>\n",
       "      <td>0.2069</td>\n",
       "      <td>0.05999</td>\n",
       "      <td>...</td>\n",
       "      <td>23.57</td>\n",
       "      <td>25.53</td>\n",
       "      <td>152.5</td>\n",
       "      <td>1709.0</td>\n",
       "      <td>0.1444</td>\n",
       "      <td>0.4245</td>\n",
       "      <td>0.4504</td>\n",
       "      <td>0.2430</td>\n",
       "      <td>0.3613</td>\n",
       "      <td>0.08758</td>\n",
       "    </tr>\n",
       "  </tbody>\n",
       "</table>\n",
       "<p>3 rows × 30 columns</p>\n",
       "</div>"
      ],
      "text/plain": [
       "   mean radius  mean texture  mean perimeter  mean area  mean smoothness  \\\n",
       "0        17.99         10.38           122.8     1001.0          0.11840   \n",
       "1        20.57         17.77           132.9     1326.0          0.08474   \n",
       "2        19.69         21.25           130.0     1203.0          0.10960   \n",
       "\n",
       "   mean compactness  mean concavity  mean concave points  mean symmetry  \\\n",
       "0           0.27760          0.3001              0.14710         0.2419   \n",
       "1           0.07864          0.0869              0.07017         0.1812   \n",
       "2           0.15990          0.1974              0.12790         0.2069   \n",
       "\n",
       "   mean fractal dimension  ...  worst radius  worst texture  worst perimeter  \\\n",
       "0                 0.07871  ...         25.38          17.33            184.6   \n",
       "1                 0.05667  ...         24.99          23.41            158.8   \n",
       "2                 0.05999  ...         23.57          25.53            152.5   \n",
       "\n",
       "   worst area  worst smoothness  worst compactness  worst concavity  \\\n",
       "0      2019.0            0.1622             0.6656           0.7119   \n",
       "1      1956.0            0.1238             0.1866           0.2416   \n",
       "2      1709.0            0.1444             0.4245           0.4504   \n",
       "\n",
       "   worst concave points  worst symmetry  worst fractal dimension  \n",
       "0                0.2654          0.4601                  0.11890  \n",
       "1                0.1860          0.2750                  0.08902  \n",
       "2                0.2430          0.3613                  0.08758  \n",
       "\n",
       "[3 rows x 30 columns]"
      ]
     },
     "execution_count": 5,
     "metadata": {},
     "output_type": "execute_result"
    }
   ],
   "source": [
    "df = pd.DataFrame(cancer.data, columns=cancer.feature_names)\n",
    "df.head(3)"
   ]
  },
  {
   "cell_type": "code",
   "execution_count": 6,
   "id": "ef7b270b-ee00-49ec-990f-00ac6cbd946d",
   "metadata": {
    "execution": {
     "iopub.execute_input": "2022-11-08T00:06:47.689688Z",
     "iopub.status.busy": "2022-11-08T00:06:47.688688Z",
     "iopub.status.idle": "2022-11-08T00:06:47.706688Z",
     "shell.execute_reply": "2022-11-08T00:06:47.705687Z",
     "shell.execute_reply.started": "2022-11-08T00:06:47.689688Z"
    },
    "tags": []
   },
   "outputs": [
    {
     "data": {
      "text/plain": [
       "(569, 30)"
      ]
     },
     "execution_count": 6,
     "metadata": {},
     "output_type": "execute_result"
    }
   ],
   "source": [
    "df.shape"
   ]
  },
  {
   "cell_type": "code",
   "execution_count": 7,
   "id": "d0be2bbc-d5bb-40cd-ba46-221a178eb08d",
   "metadata": {
    "execution": {
     "iopub.execute_input": "2022-11-08T00:06:48.264896Z",
     "iopub.status.busy": "2022-11-08T00:06:48.263880Z",
     "iopub.status.idle": "2022-11-08T00:06:48.271999Z",
     "shell.execute_reply": "2022-11-08T00:06:48.270995Z",
     "shell.execute_reply.started": "2022-11-08T00:06:48.264896Z"
    },
    "tags": []
   },
   "outputs": [],
   "source": [
    "logistic_regression = LogisticRegression()\n",
    "knn = KNeighborsClassifier(n_neighbors=5)\n",
    "\n",
    "voting_model = VotingClassifier(estimators=[\n",
    "    ('LogisticRegression', logistic_regression), ('KNN', knn)],\n",
    "                                voting='soft', n_jobs=-1)"
   ]
  },
  {
   "cell_type": "code",
   "execution_count": 8,
   "id": "f4804736-ca5c-44d8-a6ad-603934c3da44",
   "metadata": {
    "execution": {
     "iopub.execute_input": "2022-11-08T00:06:48.964363Z",
     "iopub.status.busy": "2022-11-08T00:06:48.964363Z",
     "iopub.status.idle": "2022-11-08T00:06:48.987832Z",
     "shell.execute_reply": "2022-11-08T00:06:48.986893Z",
     "shell.execute_reply.started": "2022-11-08T00:06:48.964363Z"
    },
    "tags": []
   },
   "outputs": [],
   "source": [
    "X_train, X_test, y_train, y_test = train_test_split(\n",
    "    cancer.data, cancer.target, test_size=0.2, random_state=156)"
   ]
  },
  {
   "cell_type": "code",
   "execution_count": 9,
   "id": "138f3f48-2480-4478-b2be-7b899e3000c6",
   "metadata": {
    "execution": {
     "iopub.execute_input": "2022-11-08T00:06:49.630991Z",
     "iopub.status.busy": "2022-11-08T00:06:49.630991Z",
     "iopub.status.idle": "2022-11-08T00:06:52.016655Z",
     "shell.execute_reply": "2022-11-08T00:06:52.015656Z",
     "shell.execute_reply.started": "2022-11-08T00:06:49.630991Z"
    },
    "tags": []
   },
   "outputs": [],
   "source": [
    "voting_model.fit(X_train, y_train)\n",
    "pred = voting_model.predict(X_test)"
   ]
  },
  {
   "cell_type": "code",
   "execution_count": 10,
   "id": "7a5b3ced-5e41-42ab-8e3c-da23c33d5734",
   "metadata": {
    "execution": {
     "iopub.execute_input": "2022-11-08T00:06:53.665715Z",
     "iopub.status.busy": "2022-11-08T00:06:53.664733Z",
     "iopub.status.idle": "2022-11-08T00:06:53.687721Z",
     "shell.execute_reply": "2022-11-08T00:06:53.685710Z",
     "shell.execute_reply.started": "2022-11-08T00:06:53.664733Z"
    },
    "tags": []
   },
   "outputs": [
    {
     "name": "stdout",
     "output_type": "stream",
     "text": [
      "보팅 분류기 정확도 : 0.947\n"
     ]
    }
   ],
   "source": [
    "print('보팅 분류기 정확도 : {:.3f}'.format(accuracy_score(y_test, pred)))"
   ]
  },
  {
   "cell_type": "code",
   "execution_count": 11,
   "id": "b3e33393-8fa7-4f19-a322-4405b6e7720f",
   "metadata": {
    "execution": {
     "iopub.execute_input": "2022-11-08T00:06:54.246985Z",
     "iopub.status.busy": "2022-11-08T00:06:54.246003Z",
     "iopub.status.idle": "2022-11-08T00:06:54.324276Z",
     "shell.execute_reply": "2022-11-08T00:06:54.323274Z",
     "shell.execute_reply.started": "2022-11-08T00:06:54.246985Z"
    },
    "tags": []
   },
   "outputs": [
    {
     "name": "stdout",
     "output_type": "stream",
     "text": [
      "LogisticRegression 정확도 : 0.939\n",
      "KNeighborsClassifier 정확도 : 0.904\n"
     ]
    },
    {
     "name": "stderr",
     "output_type": "stream",
     "text": [
      "C:\\Anaconda3\\lib\\site-packages\\sklearn\\linear_model\\_logistic.py:814: ConvergenceWarning: lbfgs failed to converge (status=1):\n",
      "STOP: TOTAL NO. of ITERATIONS REACHED LIMIT.\n",
      "\n",
      "Increase the number of iterations (max_iter) or scale the data as shown in:\n",
      "    https://scikit-learn.org/stable/modules/preprocessing.html\n",
      "Please also refer to the documentation for alternative solver options:\n",
      "    https://scikit-learn.org/stable/modules/linear_model.html#logistic-regression\n",
      "  n_iter_i = _check_optimize_result(\n"
     ]
    }
   ],
   "source": [
    "# 개별 모델의 학습, 예측, 평가\n",
    "classifier = [logistic_regression, knn]\n",
    "\n",
    "for model in classifier:\n",
    "    model.fit(X_train, y_train)\n",
    "    pred = model.predict(X_test)\n",
    "    model_name = model.__class__.__name__\n",
    "    print('{} 정확도 : {:.3f}'.format(model_name, accuracy_score(y_test, pred)))"
   ]
  },
  {
   "cell_type": "markdown",
   "id": "aec83bdd-f1ae-4018-b834-19c53ef87291",
   "metadata": {},
   "source": [
    "# 랜덤 포레스트(RandomForest)"
   ]
  },
  {
   "cell_type": "code",
   "execution_count": 12,
   "id": "f5efedff-bf0c-49f9-bc66-61f8fbff374f",
   "metadata": {
    "execution": {
     "iopub.execute_input": "2022-11-08T00:06:56.465526Z",
     "iopub.status.busy": "2022-11-08T00:06:56.465526Z",
     "iopub.status.idle": "2022-11-08T00:06:56.481865Z",
     "shell.execute_reply": "2022-11-08T00:06:56.480270Z",
     "shell.execute_reply.started": "2022-11-08T00:06:56.465526Z"
    },
    "tags": []
   },
   "outputs": [],
   "source": [
    "from sklearn.model_selection import cross_validate\n",
    "from sklearn.ensemble import RandomForestClassifier"
   ]
  },
  {
   "cell_type": "code",
   "execution_count": 13,
   "id": "7dcd0417-6b45-4b60-9852-3711e0f076ff",
   "metadata": {
    "execution": {
     "iopub.execute_input": "2022-11-08T00:06:57.007024Z",
     "iopub.status.busy": "2022-11-08T00:06:57.007024Z",
     "iopub.status.idle": "2022-11-08T00:06:57.565010Z",
     "shell.execute_reply": "2022-11-08T00:06:57.563115Z",
     "shell.execute_reply.started": "2022-11-08T00:06:57.007024Z"
    },
    "tags": []
   },
   "outputs": [],
   "source": [
    "wine = pd.read_csv(\n",
    "    'https://raw.githubusercontent.com/rickiepark/hg-mldl/master/wine.csv')"
   ]
  },
  {
   "cell_type": "code",
   "execution_count": 14,
   "id": "79a28cb4-efa9-47e4-9f19-9c08b6d30d5f",
   "metadata": {
    "execution": {
     "iopub.execute_input": "2022-11-08T00:06:57.567064Z",
     "iopub.status.busy": "2022-11-08T00:06:57.567064Z",
     "iopub.status.idle": "2022-11-08T00:06:57.581011Z",
     "shell.execute_reply": "2022-11-08T00:06:57.579108Z",
     "shell.execute_reply.started": "2022-11-08T00:06:57.567064Z"
    },
    "tags": []
   },
   "outputs": [
    {
     "data": {
      "text/plain": [
       "Index(['alcohol', 'sugar', 'pH', 'class'], dtype='object')"
      ]
     },
     "execution_count": 14,
     "metadata": {},
     "output_type": "execute_result"
    }
   ],
   "source": [
    "wine.keys()"
   ]
  },
  {
   "cell_type": "code",
   "execution_count": 15,
   "id": "6764a6f7-a6ee-44eb-a3cf-7bdf643c0156",
   "metadata": {
    "execution": {
     "iopub.execute_input": "2022-11-08T00:06:59.266292Z",
     "iopub.status.busy": "2022-11-08T00:06:59.266292Z",
     "iopub.status.idle": "2022-11-08T00:06:59.300192Z",
     "shell.execute_reply": "2022-11-08T00:06:59.300192Z",
     "shell.execute_reply.started": "2022-11-08T00:06:59.266292Z"
    },
    "tags": []
   },
   "outputs": [
    {
     "data": {
      "text/html": [
       "<div>\n",
       "<style scoped>\n",
       "    .dataframe tbody tr th:only-of-type {\n",
       "        vertical-align: middle;\n",
       "    }\n",
       "\n",
       "    .dataframe tbody tr th {\n",
       "        vertical-align: top;\n",
       "    }\n",
       "\n",
       "    .dataframe thead th {\n",
       "        text-align: right;\n",
       "    }\n",
       "</style>\n",
       "<table border=\"1\" class=\"dataframe\">\n",
       "  <thead>\n",
       "    <tr style=\"text-align: right;\">\n",
       "      <th></th>\n",
       "      <th>alcohol</th>\n",
       "      <th>sugar</th>\n",
       "      <th>pH</th>\n",
       "      <th>class</th>\n",
       "    </tr>\n",
       "  </thead>\n",
       "  <tbody>\n",
       "    <tr>\n",
       "      <th>0</th>\n",
       "      <td>9.4</td>\n",
       "      <td>1.9</td>\n",
       "      <td>3.51</td>\n",
       "      <td>0.0</td>\n",
       "    </tr>\n",
       "    <tr>\n",
       "      <th>1</th>\n",
       "      <td>9.8</td>\n",
       "      <td>2.6</td>\n",
       "      <td>3.20</td>\n",
       "      <td>0.0</td>\n",
       "    </tr>\n",
       "    <tr>\n",
       "      <th>2</th>\n",
       "      <td>9.8</td>\n",
       "      <td>2.3</td>\n",
       "      <td>3.26</td>\n",
       "      <td>0.0</td>\n",
       "    </tr>\n",
       "    <tr>\n",
       "      <th>3</th>\n",
       "      <td>9.8</td>\n",
       "      <td>1.9</td>\n",
       "      <td>3.16</td>\n",
       "      <td>0.0</td>\n",
       "    </tr>\n",
       "    <tr>\n",
       "      <th>4</th>\n",
       "      <td>9.4</td>\n",
       "      <td>1.9</td>\n",
       "      <td>3.51</td>\n",
       "      <td>0.0</td>\n",
       "    </tr>\n",
       "    <tr>\n",
       "      <th>...</th>\n",
       "      <td>...</td>\n",
       "      <td>...</td>\n",
       "      <td>...</td>\n",
       "      <td>...</td>\n",
       "    </tr>\n",
       "    <tr>\n",
       "      <th>6492</th>\n",
       "      <td>11.2</td>\n",
       "      <td>1.6</td>\n",
       "      <td>3.27</td>\n",
       "      <td>1.0</td>\n",
       "    </tr>\n",
       "    <tr>\n",
       "      <th>6493</th>\n",
       "      <td>9.6</td>\n",
       "      <td>8.0</td>\n",
       "      <td>3.15</td>\n",
       "      <td>1.0</td>\n",
       "    </tr>\n",
       "    <tr>\n",
       "      <th>6494</th>\n",
       "      <td>9.4</td>\n",
       "      <td>1.2</td>\n",
       "      <td>2.99</td>\n",
       "      <td>1.0</td>\n",
       "    </tr>\n",
       "    <tr>\n",
       "      <th>6495</th>\n",
       "      <td>12.8</td>\n",
       "      <td>1.1</td>\n",
       "      <td>3.34</td>\n",
       "      <td>1.0</td>\n",
       "    </tr>\n",
       "    <tr>\n",
       "      <th>6496</th>\n",
       "      <td>11.8</td>\n",
       "      <td>0.8</td>\n",
       "      <td>3.26</td>\n",
       "      <td>1.0</td>\n",
       "    </tr>\n",
       "  </tbody>\n",
       "</table>\n",
       "<p>6497 rows × 4 columns</p>\n",
       "</div>"
      ],
      "text/plain": [
       "      alcohol  sugar    pH  class\n",
       "0         9.4    1.9  3.51    0.0\n",
       "1         9.8    2.6  3.20    0.0\n",
       "2         9.8    2.3  3.26    0.0\n",
       "3         9.8    1.9  3.16    0.0\n",
       "4         9.4    1.9  3.51    0.0\n",
       "...       ...    ...   ...    ...\n",
       "6492     11.2    1.6  3.27    1.0\n",
       "6493      9.6    8.0  3.15    1.0\n",
       "6494      9.4    1.2  2.99    1.0\n",
       "6495     12.8    1.1  3.34    1.0\n",
       "6496     11.8    0.8  3.26    1.0\n",
       "\n",
       "[6497 rows x 4 columns]"
      ]
     },
     "execution_count": 15,
     "metadata": {},
     "output_type": "execute_result"
    }
   ],
   "source": [
    "wine"
   ]
  },
  {
   "cell_type": "code",
   "execution_count": 16,
   "id": "f586c07b-f61b-4545-aebf-af3d42ceec7f",
   "metadata": {
    "execution": {
     "iopub.execute_input": "2022-11-08T00:06:59.931930Z",
     "iopub.status.busy": "2022-11-08T00:06:59.931930Z",
     "iopub.status.idle": "2022-11-08T00:06:59.954097Z",
     "shell.execute_reply": "2022-11-08T00:06:59.953097Z",
     "shell.execute_reply.started": "2022-11-08T00:06:59.931930Z"
    },
    "tags": []
   },
   "outputs": [],
   "source": [
    "data = wine[['alcohol', 'sugar', 'pH']].to_numpy()\n",
    "target = wine['class'].to_numpy()"
   ]
  },
  {
   "cell_type": "code",
   "execution_count": 17,
   "id": "42aef896-b51d-4ec7-8d54-8838f3af1af4",
   "metadata": {
    "execution": {
     "iopub.execute_input": "2022-11-08T00:07:00.532304Z",
     "iopub.status.busy": "2022-11-08T00:07:00.532304Z",
     "iopub.status.idle": "2022-11-08T00:07:00.541815Z",
     "shell.execute_reply": "2022-11-08T00:07:00.540815Z",
     "shell.execute_reply.started": "2022-11-08T00:07:00.532304Z"
    },
    "tags": []
   },
   "outputs": [],
   "source": [
    "X_train, X_test, y_train, y_test = train_test_split(\n",
    "    data, target, test_size=0.2, random_state=42)"
   ]
  },
  {
   "cell_type": "code",
   "execution_count": 18,
   "id": "e3baa86e-2c45-4b90-a58e-800c2cf1dae0",
   "metadata": {
    "execution": {
     "iopub.execute_input": "2022-11-08T00:07:01.073332Z",
     "iopub.status.busy": "2022-11-08T00:07:01.073332Z",
     "iopub.status.idle": "2022-11-08T00:07:04.029952Z",
     "shell.execute_reply": "2022-11-08T00:07:04.028948Z",
     "shell.execute_reply.started": "2022-11-08T00:07:01.073332Z"
    },
    "tags": []
   },
   "outputs": [
    {
     "name": "stdout",
     "output_type": "stream",
     "text": [
      "0.9973541965122431 0.8905151032797809\n"
     ]
    }
   ],
   "source": [
    "rf = RandomForestClassifier(n_jobs=-1, random_state=42)\n",
    "scores = cross_validate(rf, X_train, y_train, return_train_score=True)\n",
    "\n",
    "print(np.mean(scores['train_score']), np.mean(scores['test_score']))"
   ]
  },
  {
   "cell_type": "code",
   "execution_count": 19,
   "id": "f25479c2-c56f-43ba-93ea-01b061901c78",
   "metadata": {
    "execution": {
     "iopub.execute_input": "2022-11-08T00:07:04.032949Z",
     "iopub.status.busy": "2022-11-08T00:07:04.032949Z",
     "iopub.status.idle": "2022-11-08T00:07:04.450494Z",
     "shell.execute_reply": "2022-11-08T00:07:04.449839Z",
     "shell.execute_reply.started": "2022-11-08T00:07:04.032949Z"
    },
    "tags": []
   },
   "outputs": [
    {
     "name": "stdout",
     "output_type": "stream",
     "text": [
      "[0.23167441 0.50039841 0.26792718]\n"
     ]
    }
   ],
   "source": [
    "rf.fit(X_train, y_train)\n",
    "\n",
    "print(rf.feature_importances_)"
   ]
  },
  {
   "cell_type": "code",
   "execution_count": 20,
   "id": "94cf1ac4-ab83-4878-9c99-e59fc3b0e0e7",
   "metadata": {
    "execution": {
     "iopub.execute_input": "2022-11-08T00:07:05.032442Z",
     "iopub.status.busy": "2022-11-08T00:07:05.032442Z",
     "iopub.status.idle": "2022-11-08T00:07:05.513391Z",
     "shell.execute_reply": "2022-11-08T00:07:05.512499Z",
     "shell.execute_reply.started": "2022-11-08T00:07:05.032442Z"
    },
    "tags": []
   },
   "outputs": [
    {
     "name": "stdout",
     "output_type": "stream",
     "text": [
      "0.8934000384837406\n"
     ]
    }
   ],
   "source": [
    "# OOB(Out Of Bag) : 부트스트랩 샘플에 포함되지않고 남는 샘플\n",
    "rf = RandomForestClassifier(oob_score=True, n_jobs=-1, random_state=42)\n",
    "rf.fit(X_train, y_train)\n",
    "\n",
    "print(rf.oob_score_)"
   ]
  },
  {
   "cell_type": "markdown",
   "id": "86cad84c-d213-44bd-a8ba-5eda519689a4",
   "metadata": {},
   "source": [
    "# 실전 예제 : 중고차 가격 예측"
   ]
  },
  {
   "cell_type": "markdown",
   "id": "9288e4de-b31f-4104-bb2b-6f3f64514595",
   "metadata": {},
   "source": [
    "1. 알고리즘 : 랜덤포레스트(randomforest)\n",
    "2. dataset : 해외 중고차 거래 데이터셋\n",
    "3. 데이터셋의 소개 : 종속변수(selling_price), 독립변수()\n",
    "    - 중고차 판매이력을 수집한 데이터 세트\n",
    "4. 문제유형 : 회귀\n",
    "5. 평가지표 : RMSE\n",
    "6. 사용할 모델 : RandomForestRegressor\n",
    "7. 사용 라이브러리 : "
   ]
  },
  {
   "cell_type": "code",
   "execution_count": 21,
   "id": "6cedbf5d-91c7-4cba-a1c6-fcb98bdfd05c",
   "metadata": {
    "execution": {
     "iopub.execute_input": "2022-11-08T00:07:07.312065Z",
     "iopub.status.busy": "2022-11-08T00:07:07.312065Z",
     "iopub.status.idle": "2022-11-08T00:07:08.187584Z",
     "shell.execute_reply": "2022-11-08T00:07:08.185475Z",
     "shell.execute_reply.started": "2022-11-08T00:07:07.312065Z"
    },
    "tags": []
   },
   "outputs": [],
   "source": [
    "car = pd.read_csv(\n",
    "    'https://media.githubusercontent.com/media/musthave-ML10/data_source/main/car.csv')"
   ]
  },
  {
   "cell_type": "code",
   "execution_count": 22,
   "id": "e8534713-aadc-4ea1-968d-64e396c70391",
   "metadata": {
    "execution": {
     "iopub.execute_input": "2022-11-08T00:07:08.191587Z",
     "iopub.status.busy": "2022-11-08T00:07:08.190593Z",
     "iopub.status.idle": "2022-11-08T00:07:08.202583Z",
     "shell.execute_reply": "2022-11-08T00:07:08.200582Z",
     "shell.execute_reply.started": "2022-11-08T00:07:08.191587Z"
    },
    "tags": []
   },
   "outputs": [],
   "source": [
    "df = pd.DataFrame(car)"
   ]
  },
  {
   "cell_type": "code",
   "execution_count": 23,
   "id": "44200f70-7fe6-4943-99c9-4386efc144c9",
   "metadata": {
    "execution": {
     "iopub.execute_input": "2022-11-08T00:07:08.622399Z",
     "iopub.status.busy": "2022-11-08T00:07:08.622399Z",
     "iopub.status.idle": "2022-11-08T00:07:08.643273Z",
     "shell.execute_reply": "2022-11-08T00:07:08.643273Z",
     "shell.execute_reply.started": "2022-11-08T00:07:08.622399Z"
    },
    "tags": []
   },
   "outputs": [
    {
     "data": {
      "text/html": [
       "<div>\n",
       "<style scoped>\n",
       "    .dataframe tbody tr th:only-of-type {\n",
       "        vertical-align: middle;\n",
       "    }\n",
       "\n",
       "    .dataframe tbody tr th {\n",
       "        vertical-align: top;\n",
       "    }\n",
       "\n",
       "    .dataframe thead th {\n",
       "        text-align: right;\n",
       "    }\n",
       "</style>\n",
       "<table border=\"1\" class=\"dataframe\">\n",
       "  <thead>\n",
       "    <tr style=\"text-align: right;\">\n",
       "      <th></th>\n",
       "      <th>name</th>\n",
       "      <th>year</th>\n",
       "      <th>selling_price</th>\n",
       "      <th>km_driven</th>\n",
       "      <th>fuel</th>\n",
       "      <th>seller_type</th>\n",
       "      <th>transmission</th>\n",
       "      <th>owner</th>\n",
       "      <th>mileage</th>\n",
       "      <th>engine</th>\n",
       "      <th>max_power</th>\n",
       "      <th>torque</th>\n",
       "      <th>seats</th>\n",
       "    </tr>\n",
       "  </thead>\n",
       "  <tbody>\n",
       "    <tr>\n",
       "      <th>0</th>\n",
       "      <td>Maruti Swift Dzire VDI</td>\n",
       "      <td>2014</td>\n",
       "      <td>450000</td>\n",
       "      <td>145500</td>\n",
       "      <td>Diesel</td>\n",
       "      <td>Individual</td>\n",
       "      <td>Manual</td>\n",
       "      <td>First Owner</td>\n",
       "      <td>23.4 kmpl</td>\n",
       "      <td>1248 CC</td>\n",
       "      <td>74 bhp</td>\n",
       "      <td>190Nm@ 2000rpm</td>\n",
       "      <td>5.0</td>\n",
       "    </tr>\n",
       "    <tr>\n",
       "      <th>1</th>\n",
       "      <td>Skoda Rapid 1.5 TDI Ambition</td>\n",
       "      <td>2014</td>\n",
       "      <td>370000</td>\n",
       "      <td>120000</td>\n",
       "      <td>Diesel</td>\n",
       "      <td>Individual</td>\n",
       "      <td>Manual</td>\n",
       "      <td>Second Owner</td>\n",
       "      <td>21.14 kmpl</td>\n",
       "      <td>1498 CC</td>\n",
       "      <td>103.52 bhp</td>\n",
       "      <td>250Nm@ 1500-2500rpm</td>\n",
       "      <td>5.0</td>\n",
       "    </tr>\n",
       "    <tr>\n",
       "      <th>2</th>\n",
       "      <td>Honda City 2017-2020 EXi</td>\n",
       "      <td>2006</td>\n",
       "      <td>158000</td>\n",
       "      <td>140000</td>\n",
       "      <td>Petrol</td>\n",
       "      <td>Individual</td>\n",
       "      <td>Manual</td>\n",
       "      <td>Third Owner</td>\n",
       "      <td>17.7 kmpl</td>\n",
       "      <td>1497 CC</td>\n",
       "      <td>78 bhp</td>\n",
       "      <td>12.7@ 2,700(kgm@ rpm)</td>\n",
       "      <td>5.0</td>\n",
       "    </tr>\n",
       "  </tbody>\n",
       "</table>\n",
       "</div>"
      ],
      "text/plain": [
       "                           name  year  selling_price  km_driven    fuel  \\\n",
       "0        Maruti Swift Dzire VDI  2014         450000     145500  Diesel   \n",
       "1  Skoda Rapid 1.5 TDI Ambition  2014         370000     120000  Diesel   \n",
       "2      Honda City 2017-2020 EXi  2006         158000     140000  Petrol   \n",
       "\n",
       "  seller_type transmission         owner     mileage   engine   max_power  \\\n",
       "0  Individual       Manual   First Owner   23.4 kmpl  1248 CC      74 bhp   \n",
       "1  Individual       Manual  Second Owner  21.14 kmpl  1498 CC  103.52 bhp   \n",
       "2  Individual       Manual   Third Owner   17.7 kmpl  1497 CC      78 bhp   \n",
       "\n",
       "                  torque  seats  \n",
       "0         190Nm@ 2000rpm    5.0  \n",
       "1    250Nm@ 1500-2500rpm    5.0  \n",
       "2  12.7@ 2,700(kgm@ rpm)    5.0  "
      ]
     },
     "execution_count": 23,
     "metadata": {},
     "output_type": "execute_result"
    }
   ],
   "source": [
    "df.head(3)"
   ]
  },
  {
   "cell_type": "markdown",
   "id": "0c9dddc2-244c-4fb9-9720-c095987f83a0",
   "metadata": {},
   "source": [
    "1. feature 탐색\n",
    "    - name : 차종\n",
    "    - year : 년식\n",
    "    - selling_price : 판매가격(종속변수)\n",
    "    - km_driven : 주행거리\n",
    "    - fuel : 연료 종류\n",
    "    - seller_type : 판매자유형\n",
    "    - transmission : 변속기\n",
    "    - owner : 소유자\n",
    "    - mileage : 연비(km)\n",
    "    - engine : 배기량\n",
    "    - max_power : 최대출력(제동마력)\n",
    "    - torque : 회전력\n",
    "    - sates : 좌석수"
   ]
  },
  {
   "cell_type": "code",
   "execution_count": 24,
   "id": "ced2f8b6-a1e3-4fdd-b938-2cab0fdfe046",
   "metadata": {
    "execution": {
     "iopub.execute_input": "2022-11-08T00:07:09.744917Z",
     "iopub.status.busy": "2022-11-08T00:07:09.744917Z",
     "iopub.status.idle": "2022-11-08T00:07:09.782372Z",
     "shell.execute_reply": "2022-11-08T00:07:09.781358Z",
     "shell.execute_reply.started": "2022-11-08T00:07:09.744917Z"
    },
    "tags": []
   },
   "outputs": [
    {
     "name": "stdout",
     "output_type": "stream",
     "text": [
      "<class 'pandas.core.frame.DataFrame'>\n",
      "RangeIndex: 8128 entries, 0 to 8127\n",
      "Data columns (total 13 columns):\n",
      " #   Column         Non-Null Count  Dtype  \n",
      "---  ------         --------------  -----  \n",
      " 0   name           8128 non-null   object \n",
      " 1   year           8128 non-null   int64  \n",
      " 2   selling_price  8128 non-null   int64  \n",
      " 3   km_driven      8128 non-null   int64  \n",
      " 4   fuel           8128 non-null   object \n",
      " 5   seller_type    8128 non-null   object \n",
      " 6   transmission   8128 non-null   object \n",
      " 7   owner          8128 non-null   object \n",
      " 8   mileage        7907 non-null   object \n",
      " 9   engine         7907 non-null   object \n",
      " 10  max_power      7913 non-null   object \n",
      " 11  torque         7906 non-null   object \n",
      " 12  seats          7907 non-null   float64\n",
      "dtypes: float64(1), int64(3), object(9)\n",
      "memory usage: 825.6+ KB\n"
     ]
    }
   ],
   "source": [
    "df.info()"
   ]
  },
  {
   "cell_type": "code",
   "execution_count": 25,
   "id": "5db55aa8-906d-4d72-806f-d03c838211a4",
   "metadata": {
    "execution": {
     "iopub.execute_input": "2022-11-08T00:07:10.281639Z",
     "iopub.status.busy": "2022-11-08T00:07:10.280641Z",
     "iopub.status.idle": "2022-11-08T00:07:10.328192Z",
     "shell.execute_reply": "2022-11-08T00:07:10.327164Z",
     "shell.execute_reply.started": "2022-11-08T00:07:10.281639Z"
    },
    "tags": []
   },
   "outputs": [
    {
     "data": {
      "text/plain": [
       "name               0\n",
       "year               0\n",
       "selling_price      0\n",
       "km_driven          0\n",
       "fuel               0\n",
       "seller_type        0\n",
       "transmission       0\n",
       "owner              0\n",
       "mileage          221\n",
       "engine           221\n",
       "max_power        215\n",
       "torque           222\n",
       "seats            221\n",
       "dtype: int64"
      ]
     },
     "execution_count": 25,
     "metadata": {},
     "output_type": "execute_result"
    }
   ],
   "source": [
    "df.isnull().sum()"
   ]
  },
  {
   "cell_type": "markdown",
   "id": "3f7a185d-2063-47a9-9b95-3dae827fc995",
   "metadata": {},
   "source": [
    "## 전처리 : 텍스트 데이터\n",
    "- split() : 문자열 분리"
   ]
  },
  {
   "cell_type": "code",
   "execution_count": 26,
   "id": "2a1657f1-687a-4215-9467-2e51fcc818a2",
   "metadata": {
    "execution": {
     "iopub.execute_input": "2022-11-08T00:07:11.369465Z",
     "iopub.status.busy": "2022-11-08T00:07:11.369465Z",
     "iopub.status.idle": "2022-11-08T00:07:11.405994Z",
     "shell.execute_reply": "2022-11-08T00:07:11.404998Z",
     "shell.execute_reply.started": "2022-11-08T00:07:11.369465Z"
    },
    "tags": []
   },
   "outputs": [],
   "source": [
    "# 숫자와 문자열 분리\n",
    "df[['engine', 'engine_unit']] = df['engine'].str.split(expand=True)"
   ]
  },
  {
   "cell_type": "code",
   "execution_count": 27,
   "id": "4e71037c-c45b-406a-817d-b4aa9ca78d41",
   "metadata": {
    "execution": {
     "iopub.execute_input": "2022-11-08T00:07:11.857979Z",
     "iopub.status.busy": "2022-11-08T00:07:11.856976Z",
     "iopub.status.idle": "2022-11-08T00:07:11.875078Z",
     "shell.execute_reply": "2022-11-08T00:07:11.872986Z",
     "shell.execute_reply.started": "2022-11-08T00:07:11.857979Z"
    },
    "tags": []
   },
   "outputs": [],
   "source": [
    "# 자료형 변경\n",
    "df['engine'] = df['engine'].astype(float)"
   ]
  },
  {
   "cell_type": "code",
   "execution_count": 28,
   "id": "7461ca34-557f-4d4f-bd71-9e2a3ff0eef2",
   "metadata": {
    "execution": {
     "iopub.execute_input": "2022-11-08T00:07:12.324080Z",
     "iopub.status.busy": "2022-11-08T00:07:12.324080Z",
     "iopub.status.idle": "2022-11-08T00:07:12.340693Z",
     "shell.execute_reply": "2022-11-08T00:07:12.338701Z",
     "shell.execute_reply.started": "2022-11-08T00:07:12.324080Z"
    },
    "tags": []
   },
   "outputs": [
    {
     "data": {
      "text/plain": [
       "221"
      ]
     },
     "execution_count": 28,
     "metadata": {},
     "output_type": "execute_result"
    }
   ],
   "source": [
    "# 결측치 확인\n",
    "df['engine'].isnull().sum()"
   ]
  },
  {
   "cell_type": "code",
   "execution_count": 29,
   "id": "3e287ce2-f2ac-4fc4-9a57-9056fc16f9fa",
   "metadata": {
    "execution": {
     "iopub.execute_input": "2022-11-08T00:07:12.755905Z",
     "iopub.status.busy": "2022-11-08T00:07:12.755905Z",
     "iopub.status.idle": "2022-11-08T00:07:12.776928Z",
     "shell.execute_reply": "2022-11-08T00:07:12.775929Z",
     "shell.execute_reply.started": "2022-11-08T00:07:12.755905Z"
    },
    "tags": []
   },
   "outputs": [],
   "source": [
    "# 문자열 부분 삭제\n",
    "df = df.drop('engine_unit', axis=1)"
   ]
  },
  {
   "cell_type": "code",
   "execution_count": 30,
   "id": "51d9ba58-554a-475c-93da-c4480dd91623",
   "metadata": {
    "execution": {
     "iopub.execute_input": "2022-11-08T00:07:13.413301Z",
     "iopub.status.busy": "2022-11-08T00:07:13.413301Z",
     "iopub.status.idle": "2022-11-08T00:07:13.433107Z",
     "shell.execute_reply": "2022-11-08T00:07:13.432089Z",
     "shell.execute_reply.started": "2022-11-08T00:07:13.413301Z"
    },
    "tags": []
   },
   "outputs": [],
   "source": [
    "# 결측치 평균으로 대체\n",
    "df.engine = df.engine.fillna(df.engine.mean())"
   ]
  },
  {
   "cell_type": "code",
   "execution_count": 31,
   "id": "0af20695-8d60-4037-ba82-8f26860e5b29",
   "metadata": {
    "execution": {
     "iopub.execute_input": "2022-11-08T00:07:13.801340Z",
     "iopub.status.busy": "2022-11-08T00:07:13.800338Z",
     "iopub.status.idle": "2022-11-08T00:07:13.811286Z",
     "shell.execute_reply": "2022-11-08T00:07:13.810407Z",
     "shell.execute_reply.started": "2022-11-08T00:07:13.801340Z"
    },
    "tags": []
   },
   "outputs": [
    {
     "data": {
      "text/plain": [
       "0"
      ]
     },
     "execution_count": 31,
     "metadata": {},
     "output_type": "execute_result"
    }
   ],
   "source": [
    "df['engine'].isnull().sum()"
   ]
  },
  {
   "cell_type": "code",
   "execution_count": 32,
   "id": "d722200e-eb39-4e0a-86ff-233149d1e2b0",
   "metadata": {
    "execution": {
     "iopub.execute_input": "2022-11-08T00:07:14.245800Z",
     "iopub.status.busy": "2022-11-08T00:07:14.245800Z",
     "iopub.status.idle": "2022-11-08T00:07:14.327307Z",
     "shell.execute_reply": "2022-11-08T00:07:14.324307Z",
     "shell.execute_reply.started": "2022-11-08T00:07:14.245800Z"
    },
    "tags": []
   },
   "outputs": [],
   "source": [
    "df[['mileage', 'mileage_unit']] = df['mileage'].str.split(expand=True)"
   ]
  },
  {
   "cell_type": "code",
   "execution_count": 33,
   "id": "3204f299-d475-4f59-82a6-db1ff5bf5c62",
   "metadata": {
    "execution": {
     "iopub.execute_input": "2022-11-08T00:07:14.713910Z",
     "iopub.status.busy": "2022-11-08T00:07:14.713910Z",
     "iopub.status.idle": "2022-11-08T00:07:14.733361Z",
     "shell.execute_reply": "2022-11-08T00:07:14.732335Z",
     "shell.execute_reply.started": "2022-11-08T00:07:14.713910Z"
    },
    "tags": []
   },
   "outputs": [],
   "source": [
    "df['mileage'] = df['mileage'].astype(float)"
   ]
  },
  {
   "cell_type": "code",
   "execution_count": 34,
   "id": "48384360-8826-4206-b1c3-26ce7de81553",
   "metadata": {
    "execution": {
     "iopub.execute_input": "2022-11-08T00:07:15.163435Z",
     "iopub.status.busy": "2022-11-08T00:07:15.163435Z",
     "iopub.status.idle": "2022-11-08T00:07:15.185132Z",
     "shell.execute_reply": "2022-11-08T00:07:15.184012Z",
     "shell.execute_reply.started": "2022-11-08T00:07:15.163435Z"
    },
    "tags": []
   },
   "outputs": [
    {
     "data": {
      "text/plain": [
       "array(['kmpl', 'km/kg', nan], dtype=object)"
      ]
     },
     "execution_count": 34,
     "metadata": {},
     "output_type": "execute_result"
    }
   ],
   "source": [
    "df.mileage_unit.unique()"
   ]
  },
  {
   "cell_type": "code",
   "execution_count": 35,
   "id": "473807f1-c4af-4959-810f-1ce8912680f2",
   "metadata": {
    "execution": {
     "iopub.execute_input": "2022-11-08T00:07:15.658709Z",
     "iopub.status.busy": "2022-11-08T00:07:15.658709Z",
     "iopub.status.idle": "2022-11-08T00:07:15.673861Z",
     "shell.execute_reply": "2022-11-08T00:07:15.672842Z",
     "shell.execute_reply.started": "2022-11-08T00:07:15.658709Z"
    },
    "tags": []
   },
   "outputs": [
    {
     "data": {
      "text/plain": [
       "array(['Diesel', 'Petrol', 'LPG', 'CNG'], dtype=object)"
      ]
     },
     "execution_count": 35,
     "metadata": {},
     "output_type": "execute_result"
    }
   ],
   "source": [
    "df.fuel.unique()"
   ]
  },
  {
   "cell_type": "markdown",
   "id": "a7d3cb59-3d09-48de-bf78-47a0f51ed6e1",
   "metadata": {},
   "source": [
    "- 연료가 4종류\n",
    "- 다른 종류의 연료는 같은 단위로 바꿔야함\n",
    "- 연료 가격으로 변경\n",
    "- 2022년 시점의 가격\n",
    "    - Diesel : 1.405\n",
    "    - Petrol : 1.048\n",
    "    - LPG : 0.939\n",
    "    - CNG : 2.76"
   ]
  },
  {
   "cell_type": "code",
   "execution_count": 36,
   "id": "214d8944-80c7-49e5-96c6-7c6bb80ec848",
   "metadata": {
    "execution": {
     "iopub.execute_input": "2022-11-08T00:07:16.626474Z",
     "iopub.status.busy": "2022-11-08T00:07:16.625466Z",
     "iopub.status.idle": "2022-11-08T00:07:16.648102Z",
     "shell.execute_reply": "2022-11-08T00:07:16.647101Z",
     "shell.execute_reply.started": "2022-11-08T00:07:16.626474Z"
    },
    "tags": []
   },
   "outputs": [],
   "source": [
    "def mile(x):\n",
    "    if x['fuel'] == 'Petrol':\n",
    "        return x.mileage / 1.048\n",
    "    elif x['fuel'] == 'Diesel':\n",
    "        return x.mileage / 1.405\n",
    "    elif x['fuel'] == 'LPG':\n",
    "        return x.mileage / 3.54\n",
    "    else:\n",
    "        return x.mileage / 2.76"
   ]
  },
  {
   "cell_type": "code",
   "execution_count": 37,
   "id": "2d8d1d1b-5523-4a22-820b-b348d9416543",
   "metadata": {
    "execution": {
     "iopub.execute_input": "2022-11-08T00:07:17.112139Z",
     "iopub.status.busy": "2022-11-08T00:07:17.111140Z",
     "iopub.status.idle": "2022-11-08T00:07:17.371123Z",
     "shell.execute_reply": "2022-11-08T00:07:17.369125Z",
     "shell.execute_reply.started": "2022-11-08T00:07:17.112139Z"
    },
    "tags": []
   },
   "outputs": [],
   "source": [
    "df.mileage = df.apply(mile, axis=1)"
   ]
  },
  {
   "cell_type": "code",
   "execution_count": 38,
   "id": "aa03869a-829e-4ea4-8e12-afe0e027bc8f",
   "metadata": {
    "execution": {
     "iopub.execute_input": "2022-11-08T00:07:17.615325Z",
     "iopub.status.busy": "2022-11-08T00:07:17.615325Z",
     "iopub.status.idle": "2022-11-08T00:07:17.626468Z",
     "shell.execute_reply": "2022-11-08T00:07:17.624813Z",
     "shell.execute_reply.started": "2022-11-08T00:07:17.615325Z"
    },
    "tags": []
   },
   "outputs": [],
   "source": [
    "df = df.drop('mileage_unit', axis=1)"
   ]
  },
  {
   "cell_type": "code",
   "execution_count": 39,
   "id": "e1294b9a-033f-46f5-aca7-a9030a9e74c2",
   "metadata": {
    "execution": {
     "iopub.execute_input": "2022-11-08T00:07:18.063284Z",
     "iopub.status.busy": "2022-11-08T00:07:18.063284Z",
     "iopub.status.idle": "2022-11-08T00:07:18.092822Z",
     "shell.execute_reply": "2022-11-08T00:07:18.091824Z",
     "shell.execute_reply.started": "2022-11-08T00:07:18.063284Z"
    },
    "tags": []
   },
   "outputs": [
    {
     "data": {
      "text/html": [
       "<div>\n",
       "<style scoped>\n",
       "    .dataframe tbody tr th:only-of-type {\n",
       "        vertical-align: middle;\n",
       "    }\n",
       "\n",
       "    .dataframe tbody tr th {\n",
       "        vertical-align: top;\n",
       "    }\n",
       "\n",
       "    .dataframe thead th {\n",
       "        text-align: right;\n",
       "    }\n",
       "</style>\n",
       "<table border=\"1\" class=\"dataframe\">\n",
       "  <thead>\n",
       "    <tr style=\"text-align: right;\">\n",
       "      <th></th>\n",
       "      <th>name</th>\n",
       "      <th>year</th>\n",
       "      <th>selling_price</th>\n",
       "      <th>km_driven</th>\n",
       "      <th>fuel</th>\n",
       "      <th>seller_type</th>\n",
       "      <th>transmission</th>\n",
       "      <th>owner</th>\n",
       "      <th>mileage</th>\n",
       "      <th>engine</th>\n",
       "      <th>max_power</th>\n",
       "      <th>torque</th>\n",
       "      <th>seats</th>\n",
       "    </tr>\n",
       "  </thead>\n",
       "  <tbody>\n",
       "    <tr>\n",
       "      <th>0</th>\n",
       "      <td>Maruti Swift Dzire VDI</td>\n",
       "      <td>2014</td>\n",
       "      <td>450000</td>\n",
       "      <td>145500</td>\n",
       "      <td>Diesel</td>\n",
       "      <td>Individual</td>\n",
       "      <td>Manual</td>\n",
       "      <td>First Owner</td>\n",
       "      <td>16.654804</td>\n",
       "      <td>1248.0</td>\n",
       "      <td>74 bhp</td>\n",
       "      <td>190Nm@ 2000rpm</td>\n",
       "      <td>5.0</td>\n",
       "    </tr>\n",
       "    <tr>\n",
       "      <th>1</th>\n",
       "      <td>Skoda Rapid 1.5 TDI Ambition</td>\n",
       "      <td>2014</td>\n",
       "      <td>370000</td>\n",
       "      <td>120000</td>\n",
       "      <td>Diesel</td>\n",
       "      <td>Individual</td>\n",
       "      <td>Manual</td>\n",
       "      <td>Second Owner</td>\n",
       "      <td>15.046263</td>\n",
       "      <td>1498.0</td>\n",
       "      <td>103.52 bhp</td>\n",
       "      <td>250Nm@ 1500-2500rpm</td>\n",
       "      <td>5.0</td>\n",
       "    </tr>\n",
       "    <tr>\n",
       "      <th>2</th>\n",
       "      <td>Honda City 2017-2020 EXi</td>\n",
       "      <td>2006</td>\n",
       "      <td>158000</td>\n",
       "      <td>140000</td>\n",
       "      <td>Petrol</td>\n",
       "      <td>Individual</td>\n",
       "      <td>Manual</td>\n",
       "      <td>Third Owner</td>\n",
       "      <td>16.889313</td>\n",
       "      <td>1497.0</td>\n",
       "      <td>78 bhp</td>\n",
       "      <td>12.7@ 2,700(kgm@ rpm)</td>\n",
       "      <td>5.0</td>\n",
       "    </tr>\n",
       "    <tr>\n",
       "      <th>3</th>\n",
       "      <td>Hyundai i20 Sportz Diesel</td>\n",
       "      <td>2010</td>\n",
       "      <td>225000</td>\n",
       "      <td>127000</td>\n",
       "      <td>Diesel</td>\n",
       "      <td>Individual</td>\n",
       "      <td>Manual</td>\n",
       "      <td>First Owner</td>\n",
       "      <td>16.370107</td>\n",
       "      <td>1396.0</td>\n",
       "      <td>90 bhp</td>\n",
       "      <td>22.4 kgm at 1750-2750rpm</td>\n",
       "      <td>5.0</td>\n",
       "    </tr>\n",
       "    <tr>\n",
       "      <th>4</th>\n",
       "      <td>Maruti Swift VXI BSIII</td>\n",
       "      <td>2007</td>\n",
       "      <td>130000</td>\n",
       "      <td>120000</td>\n",
       "      <td>Petrol</td>\n",
       "      <td>Individual</td>\n",
       "      <td>Manual</td>\n",
       "      <td>First Owner</td>\n",
       "      <td>15.362595</td>\n",
       "      <td>1298.0</td>\n",
       "      <td>88.2 bhp</td>\n",
       "      <td>11.5@ 4,500(kgm@ rpm)</td>\n",
       "      <td>5.0</td>\n",
       "    </tr>\n",
       "    <tr>\n",
       "      <th>...</th>\n",
       "      <td>...</td>\n",
       "      <td>...</td>\n",
       "      <td>...</td>\n",
       "      <td>...</td>\n",
       "      <td>...</td>\n",
       "      <td>...</td>\n",
       "      <td>...</td>\n",
       "      <td>...</td>\n",
       "      <td>...</td>\n",
       "      <td>...</td>\n",
       "      <td>...</td>\n",
       "      <td>...</td>\n",
       "      <td>...</td>\n",
       "    </tr>\n",
       "    <tr>\n",
       "      <th>8123</th>\n",
       "      <td>Hyundai i20 Magna</td>\n",
       "      <td>2013</td>\n",
       "      <td>320000</td>\n",
       "      <td>110000</td>\n",
       "      <td>Petrol</td>\n",
       "      <td>Individual</td>\n",
       "      <td>Manual</td>\n",
       "      <td>First Owner</td>\n",
       "      <td>17.652672</td>\n",
       "      <td>1197.0</td>\n",
       "      <td>82.85 bhp</td>\n",
       "      <td>113.7Nm@ 4000rpm</td>\n",
       "      <td>5.0</td>\n",
       "    </tr>\n",
       "    <tr>\n",
       "      <th>8124</th>\n",
       "      <td>Hyundai Verna CRDi SX</td>\n",
       "      <td>2007</td>\n",
       "      <td>135000</td>\n",
       "      <td>119000</td>\n",
       "      <td>Diesel</td>\n",
       "      <td>Individual</td>\n",
       "      <td>Manual</td>\n",
       "      <td>Fourth &amp; Above Owner</td>\n",
       "      <td>11.957295</td>\n",
       "      <td>1493.0</td>\n",
       "      <td>110 bhp</td>\n",
       "      <td>24@ 1,900-2,750(kgm@ rpm)</td>\n",
       "      <td>5.0</td>\n",
       "    </tr>\n",
       "    <tr>\n",
       "      <th>8125</th>\n",
       "      <td>Maruti Swift Dzire ZDi</td>\n",
       "      <td>2009</td>\n",
       "      <td>382000</td>\n",
       "      <td>120000</td>\n",
       "      <td>Diesel</td>\n",
       "      <td>Individual</td>\n",
       "      <td>Manual</td>\n",
       "      <td>First Owner</td>\n",
       "      <td>13.736655</td>\n",
       "      <td>1248.0</td>\n",
       "      <td>73.9 bhp</td>\n",
       "      <td>190Nm@ 2000rpm</td>\n",
       "      <td>5.0</td>\n",
       "    </tr>\n",
       "    <tr>\n",
       "      <th>8126</th>\n",
       "      <td>Tata Indigo CR4</td>\n",
       "      <td>2013</td>\n",
       "      <td>290000</td>\n",
       "      <td>25000</td>\n",
       "      <td>Diesel</td>\n",
       "      <td>Individual</td>\n",
       "      <td>Manual</td>\n",
       "      <td>First Owner</td>\n",
       "      <td>16.775801</td>\n",
       "      <td>1396.0</td>\n",
       "      <td>70 bhp</td>\n",
       "      <td>140Nm@ 1800-3000rpm</td>\n",
       "      <td>5.0</td>\n",
       "    </tr>\n",
       "    <tr>\n",
       "      <th>8127</th>\n",
       "      <td>Tata Indigo CR4</td>\n",
       "      <td>2013</td>\n",
       "      <td>290000</td>\n",
       "      <td>25000</td>\n",
       "      <td>Diesel</td>\n",
       "      <td>Individual</td>\n",
       "      <td>Manual</td>\n",
       "      <td>First Owner</td>\n",
       "      <td>16.775801</td>\n",
       "      <td>1396.0</td>\n",
       "      <td>70 bhp</td>\n",
       "      <td>140Nm@ 1800-3000rpm</td>\n",
       "      <td>5.0</td>\n",
       "    </tr>\n",
       "  </tbody>\n",
       "</table>\n",
       "<p>8128 rows × 13 columns</p>\n",
       "</div>"
      ],
      "text/plain": [
       "                              name  year  selling_price  km_driven    fuel  \\\n",
       "0           Maruti Swift Dzire VDI  2014         450000     145500  Diesel   \n",
       "1     Skoda Rapid 1.5 TDI Ambition  2014         370000     120000  Diesel   \n",
       "2         Honda City 2017-2020 EXi  2006         158000     140000  Petrol   \n",
       "3        Hyundai i20 Sportz Diesel  2010         225000     127000  Diesel   \n",
       "4           Maruti Swift VXI BSIII  2007         130000     120000  Petrol   \n",
       "...                            ...   ...            ...        ...     ...   \n",
       "8123             Hyundai i20 Magna  2013         320000     110000  Petrol   \n",
       "8124         Hyundai Verna CRDi SX  2007         135000     119000  Diesel   \n",
       "8125        Maruti Swift Dzire ZDi  2009         382000     120000  Diesel   \n",
       "8126               Tata Indigo CR4  2013         290000      25000  Diesel   \n",
       "8127               Tata Indigo CR4  2013         290000      25000  Diesel   \n",
       "\n",
       "     seller_type transmission                 owner    mileage  engine  \\\n",
       "0     Individual       Manual           First Owner  16.654804  1248.0   \n",
       "1     Individual       Manual          Second Owner  15.046263  1498.0   \n",
       "2     Individual       Manual           Third Owner  16.889313  1497.0   \n",
       "3     Individual       Manual           First Owner  16.370107  1396.0   \n",
       "4     Individual       Manual           First Owner  15.362595  1298.0   \n",
       "...          ...          ...                   ...        ...     ...   \n",
       "8123  Individual       Manual           First Owner  17.652672  1197.0   \n",
       "8124  Individual       Manual  Fourth & Above Owner  11.957295  1493.0   \n",
       "8125  Individual       Manual           First Owner  13.736655  1248.0   \n",
       "8126  Individual       Manual           First Owner  16.775801  1396.0   \n",
       "8127  Individual       Manual           First Owner  16.775801  1396.0   \n",
       "\n",
       "       max_power                     torque  seats  \n",
       "0         74 bhp             190Nm@ 2000rpm    5.0  \n",
       "1     103.52 bhp        250Nm@ 1500-2500rpm    5.0  \n",
       "2         78 bhp      12.7@ 2,700(kgm@ rpm)    5.0  \n",
       "3         90 bhp   22.4 kgm at 1750-2750rpm    5.0  \n",
       "4       88.2 bhp      11.5@ 4,500(kgm@ rpm)    5.0  \n",
       "...          ...                        ...    ...  \n",
       "8123   82.85 bhp           113.7Nm@ 4000rpm    5.0  \n",
       "8124     110 bhp  24@ 1,900-2,750(kgm@ rpm)    5.0  \n",
       "8125    73.9 bhp             190Nm@ 2000rpm    5.0  \n",
       "8126      70 bhp        140Nm@ 1800-3000rpm    5.0  \n",
       "8127      70 bhp        140Nm@ 1800-3000rpm    5.0  \n",
       "\n",
       "[8128 rows x 13 columns]"
      ]
     },
     "execution_count": 39,
     "metadata": {},
     "output_type": "execute_result"
    }
   ],
   "source": [
    "df"
   ]
  },
  {
   "cell_type": "markdown",
   "id": "81f60bb4-8c93-4fdf-8bc4-c6f485b1990a",
   "metadata": {},
   "source": [
    "### torque\n",
    "- 앞 부분의 숫자만 추출해서 숫자형\n",
    "- 단위 스케일(Nm)"
   ]
  },
  {
   "cell_type": "code",
   "execution_count": 57,
   "id": "0be2d99b-1216-45a9-b0ac-74d293d6bc5d",
   "metadata": {
    "execution": {
     "iopub.execute_input": "2022-11-08T00:43:40.612214Z",
     "iopub.status.busy": "2022-11-08T00:43:40.611229Z",
     "iopub.status.idle": "2022-11-08T00:43:40.618737Z",
     "shell.execute_reply": "2022-11-08T00:43:40.618384Z",
     "shell.execute_reply.started": "2022-11-08T00:43:40.612214Z"
    },
    "tags": []
   },
   "outputs": [],
   "source": [
    "df.torque = split_num(df.torque)"
   ]
  },
  {
   "cell_type": "code",
   "execution_count": 58,
   "id": "a323b263-dc74-4438-90fe-3685e40f421d",
   "metadata": {
    "execution": {
     "iopub.execute_input": "2022-11-08T00:43:55.701509Z",
     "iopub.status.busy": "2022-11-08T00:43:55.701509Z",
     "iopub.status.idle": "2022-11-08T00:43:55.715359Z",
     "shell.execute_reply": "2022-11-08T00:43:55.714587Z",
     "shell.execute_reply.started": "2022-11-08T00:43:55.701509Z"
    },
    "tags": []
   },
   "outputs": [
    {
     "data": {
      "text/plain": [
       "0       0\n",
       "1       0\n",
       "2       0\n",
       "3       0\n",
       "4       0\n",
       "       ..\n",
       "8123    0\n",
       "8124    0\n",
       "8125    0\n",
       "8126    0\n",
       "8127    0\n",
       "Name: torque, Length: 7906, dtype: object"
      ]
     },
     "execution_count": 58,
     "metadata": {},
     "output_type": "execute_result"
    }
   ],
   "source": [
    "df.torque"
   ]
  },
  {
   "cell_type": "code",
   "execution_count": 40,
   "id": "43504388-6c4d-4c37-bb30-f05111221730",
   "metadata": {
    "execution": {
     "iopub.execute_input": "2022-11-08T00:07:18.983482Z",
     "iopub.status.busy": "2022-11-08T00:07:18.983482Z",
     "iopub.status.idle": "2022-11-08T00:07:19.000775Z",
     "shell.execute_reply": "2022-11-08T00:07:18.999103Z",
     "shell.execute_reply.started": "2022-11-08T00:07:18.983482Z"
    }
   },
   "outputs": [],
   "source": [
    "def split_num(x):\n",
    "    x = str(x)\n",
    "    for i, j in enumerate(x):\n",
    "        if j not in '0123456789.':\n",
    "            cut = i\n",
    "            break\n",
    "    return x[:cut]"
   ]
  },
  {
   "cell_type": "markdown",
   "id": "a7428e65-bf30-4d70-8633-a97691096eb6",
   "metadata": {},
   "source": [
    "### max_power"
   ]
  },
  {
   "cell_type": "code",
   "execution_count": 41,
   "id": "b4d49fef-1c82-4cee-bc9c-0028fd20317e",
   "metadata": {
    "execution": {
     "iopub.execute_input": "2022-11-08T00:07:19.961319Z",
     "iopub.status.busy": "2022-11-08T00:07:19.961319Z",
     "iopub.status.idle": "2022-11-08T00:07:19.995199Z",
     "shell.execute_reply": "2022-11-08T00:07:19.993198Z",
     "shell.execute_reply.started": "2022-11-08T00:07:19.961319Z"
    },
    "tags": []
   },
   "outputs": [],
   "source": [
    "df[['max_power', 'max_power_unit']] = df['max_power'].str.split(expand=True)"
   ]
  },
  {
   "cell_type": "code",
   "execution_count": 42,
   "id": "1bf31aa8-bfad-478a-bdc2-84882fec6e1a",
   "metadata": {
    "execution": {
     "iopub.execute_input": "2022-11-08T00:07:20.412152Z",
     "iopub.status.busy": "2022-11-08T00:07:20.412152Z",
     "iopub.status.idle": "2022-11-08T00:07:20.434844Z",
     "shell.execute_reply": "2022-11-08T00:07:20.432785Z",
     "shell.execute_reply.started": "2022-11-08T00:07:20.412152Z"
    },
    "tags": []
   },
   "outputs": [
    {
     "data": {
      "text/plain": [
       "0        74\n",
       "1    103.52\n",
       "2        78\n",
       "3        90\n",
       "4      88.2\n",
       "Name: max_power, dtype: object"
      ]
     },
     "execution_count": 42,
     "metadata": {},
     "output_type": "execute_result"
    }
   ],
   "source": [
    "df['max_power'].head()"
   ]
  },
  {
   "cell_type": "code",
   "execution_count": 43,
   "id": "45984156-b9c4-49a1-bc00-2a68ff338395",
   "metadata": {
    "execution": {
     "iopub.execute_input": "2022-11-08T00:07:20.874931Z",
     "iopub.status.busy": "2022-11-08T00:07:20.873931Z",
     "iopub.status.idle": "2022-11-08T00:07:20.900779Z",
     "shell.execute_reply": "2022-11-08T00:07:20.899776Z",
     "shell.execute_reply.started": "2022-11-08T00:07:20.874931Z"
    },
    "tags": []
   },
   "outputs": [
    {
     "data": {
      "text/plain": [
       "array(['74', '103.52', '78', '90', '88.2', '81.86', '57.5', '37', '67.1',\n",
       "       '68.1', '108.45', '60', '73.9', nan, '67', '82', '88.5', '46.3',\n",
       "       '88.73', '64.1', '98.6', '88.8', '83.81', '83.1', '47.3', '73.8',\n",
       "       '34.2', '35', '81.83', '40.3', '121.3', '138.03', '160.77',\n",
       "       '117.3', '116.3', '83.14', '67.05', '168.5', '100', '120.7',\n",
       "       '98.63', '175.56', '103.25', '171.5', '100.6', '174.33', '187.74',\n",
       "       '170', '78.9', '88.76', '86.8', '108.495', '108.62', '93.7',\n",
       "       '103.6', '98.59', '189', '67.04', '68.05', '58.2', '82.85',\n",
       "       '81.80', '73', '120', '94.68', '160', '65', '155', '69.01',\n",
       "       '126.32', '138.1', '83.8', '126.2', '98.96', '62.1', '86.7', '188',\n",
       "       '214.56', '177', '280', '148.31', '254.79', '190', '177.46', '204',\n",
       "       '141', '117.6', '241.4', '282', '150', '147.5', '108.5', '103.5',\n",
       "       '183', '181.04', '157.7', '164.7', '91.1', '400', '68', '75',\n",
       "       '85.8', '87.2', '53', '118', '103.2', '83', '84', '58.16',\n",
       "       '147.94', '74.02', '53.3', '80', '88.7', '97.7', '121.36', '162',\n",
       "       '140', '94', '100.57', '82.9', '83.11', '70', '153.86', '121',\n",
       "       '126.3', '73.97', '171', '69', '99.6', '102', '105', '63', '79.4',\n",
       "       '97.9', '63.1', '66.1', '110', '174.5', '53.26', '73.75', '67.06',\n",
       "       '64.08', '37.5', '189.3', '158.8', '61.7', '55.2', '71.01',\n",
       "       '73.74', '147.9', '71', '77', '121.4', '113.4', '47', '130',\n",
       "       '57.6', '138', '52.8', '53.64', '53.5', '76.8', '82.4', '113.42',\n",
       "       '76', '84.8', '0', '56.3', '218', '112', '92', '105.5', '169',\n",
       "       '95', '72.4', '115', '152', '91.2', '156', '74.9', '62', '105.3',\n",
       "       '73.94', '85.80', '85', '118.3', '72', '147.51', '58', '64',\n",
       "       '126.24', '76.9', '194.3', '99.23', '89.84', '123.7', '118.35',\n",
       "       '99', '241', '136', '261.4', '104.68', '37.48', '104', '88.50',\n",
       "       '63.12', '91.7', '102.5', '177.6', '45', '123.37', '147.8', '184',\n",
       "       '84.48', '68.07', '74.96', '167.6', '152.87', '112.2', '83.83',\n",
       "       '197', '110.4', '104.55', '103', '103.3', '66', '108.6', '165',\n",
       "       '163.7', '116.9', '94.93', '127', '198.5', '179.5', '120.69',\n",
       "       '121.31', '138.08', '187.7', '80.8', '86.79', '93.87', '116.6',\n",
       "       '143', '92.7', '88', '58.33', '78.8', '64.4', '125', '139.01',\n",
       "       '254.8', '181', '258', '55.23', '270.9', '265', '157.75', '101',\n",
       "       '186', '187.4', '224', '64.9', '148', '35.5', '89.75', '32.8',\n",
       "       '91.72', '106', '98.97', '66.6', '86', '65.3', '98.82', '198.25',\n",
       "       '38', '142', '132', '174.57', '178', '163.2', '203.2', '177.5',\n",
       "       '175', '57', '80.84', '68.4', '167.67', '170.63', '52', '149.5',\n",
       "       '48.21', 'bhp', '201.1', '100.5', '144', '194.4', '168.7', '104.5',\n",
       "       '103.26', '116.4', '98.79', '80.9', '58.3', '272', '235', '167.62',\n",
       "       '170.30', '139.46', '158', '110.5', '82.5', '141.1', '38.4',\n",
       "       '197.2', '161', '194', '122.4', '134.10', '60.2', '134', '203',\n",
       "       '135.1'], dtype=object)"
      ]
     },
     "execution_count": 43,
     "metadata": {},
     "output_type": "execute_result"
    }
   ],
   "source": [
    "df.max_power.unique()"
   ]
  },
  {
   "cell_type": "code",
   "execution_count": 44,
   "id": "d7ecef97-3397-43ad-b4f2-155dcbfac7dd",
   "metadata": {
    "execution": {
     "iopub.execute_input": "2022-11-08T00:07:21.432860Z",
     "iopub.status.busy": "2022-11-08T00:07:21.432860Z",
     "iopub.status.idle": "2022-11-08T00:07:22.031851Z",
     "shell.execute_reply": "2022-11-08T00:07:22.029813Z",
     "shell.execute_reply.started": "2022-11-08T00:07:21.432860Z"
    },
    "tags": []
   },
   "outputs": [
    {
     "ename": "ValueError",
     "evalue": "could not convert string to float: 'bhp'",
     "output_type": "error",
     "traceback": [
      "\u001b[1;31m---------------------------------------------------------------------------\u001b[0m",
      "\u001b[1;31mValueError\u001b[0m                                Traceback (most recent call last)",
      "\u001b[1;32m~\\AppData\\Local\\Temp\\ipykernel_5064\\2563299773.py\u001b[0m in \u001b[0;36m<module>\u001b[1;34m\u001b[0m\n\u001b[1;32m----> 1\u001b[1;33m \u001b[0mdf\u001b[0m\u001b[1;33m.\u001b[0m\u001b[0mmax_power\u001b[0m \u001b[1;33m=\u001b[0m \u001b[0mdf\u001b[0m\u001b[1;33m.\u001b[0m\u001b[0mmax_power\u001b[0m\u001b[1;33m.\u001b[0m\u001b[0mastype\u001b[0m\u001b[1;33m(\u001b[0m\u001b[0mfloat\u001b[0m\u001b[1;33m)\u001b[0m\u001b[1;33m\u001b[0m\u001b[1;33m\u001b[0m\u001b[0m\n\u001b[0m",
      "\u001b[1;32mC:\\Anaconda3\\lib\\site-packages\\pandas\\core\\generic.py\u001b[0m in \u001b[0;36mastype\u001b[1;34m(self, dtype, copy, errors)\u001b[0m\n\u001b[0;32m   5910\u001b[0m         \u001b[1;32melse\u001b[0m\u001b[1;33m:\u001b[0m\u001b[1;33m\u001b[0m\u001b[1;33m\u001b[0m\u001b[0m\n\u001b[0;32m   5911\u001b[0m             \u001b[1;31m# else, only a single dtype is given\u001b[0m\u001b[1;33m\u001b[0m\u001b[1;33m\u001b[0m\u001b[0m\n\u001b[1;32m-> 5912\u001b[1;33m             \u001b[0mnew_data\u001b[0m \u001b[1;33m=\u001b[0m \u001b[0mself\u001b[0m\u001b[1;33m.\u001b[0m\u001b[0m_mgr\u001b[0m\u001b[1;33m.\u001b[0m\u001b[0mastype\u001b[0m\u001b[1;33m(\u001b[0m\u001b[0mdtype\u001b[0m\u001b[1;33m=\u001b[0m\u001b[0mdtype\u001b[0m\u001b[1;33m,\u001b[0m \u001b[0mcopy\u001b[0m\u001b[1;33m=\u001b[0m\u001b[0mcopy\u001b[0m\u001b[1;33m,\u001b[0m \u001b[0merrors\u001b[0m\u001b[1;33m=\u001b[0m\u001b[0merrors\u001b[0m\u001b[1;33m)\u001b[0m\u001b[1;33m\u001b[0m\u001b[1;33m\u001b[0m\u001b[0m\n\u001b[0m\u001b[0;32m   5913\u001b[0m             \u001b[1;32mreturn\u001b[0m \u001b[0mself\u001b[0m\u001b[1;33m.\u001b[0m\u001b[0m_constructor\u001b[0m\u001b[1;33m(\u001b[0m\u001b[0mnew_data\u001b[0m\u001b[1;33m)\u001b[0m\u001b[1;33m.\u001b[0m\u001b[0m__finalize__\u001b[0m\u001b[1;33m(\u001b[0m\u001b[0mself\u001b[0m\u001b[1;33m,\u001b[0m \u001b[0mmethod\u001b[0m\u001b[1;33m=\u001b[0m\u001b[1;34m\"astype\"\u001b[0m\u001b[1;33m)\u001b[0m\u001b[1;33m\u001b[0m\u001b[1;33m\u001b[0m\u001b[0m\n\u001b[0;32m   5914\u001b[0m \u001b[1;33m\u001b[0m\u001b[0m\n",
      "\u001b[1;32mC:\\Anaconda3\\lib\\site-packages\\pandas\\core\\internals\\managers.py\u001b[0m in \u001b[0;36mastype\u001b[1;34m(self, dtype, copy, errors)\u001b[0m\n\u001b[0;32m    417\u001b[0m \u001b[1;33m\u001b[0m\u001b[0m\n\u001b[0;32m    418\u001b[0m     \u001b[1;32mdef\u001b[0m \u001b[0mastype\u001b[0m\u001b[1;33m(\u001b[0m\u001b[0mself\u001b[0m\u001b[1;33m:\u001b[0m \u001b[0mT\u001b[0m\u001b[1;33m,\u001b[0m \u001b[0mdtype\u001b[0m\u001b[1;33m,\u001b[0m \u001b[0mcopy\u001b[0m\u001b[1;33m:\u001b[0m \u001b[0mbool\u001b[0m \u001b[1;33m=\u001b[0m \u001b[1;32mFalse\u001b[0m\u001b[1;33m,\u001b[0m \u001b[0merrors\u001b[0m\u001b[1;33m:\u001b[0m \u001b[0mstr\u001b[0m \u001b[1;33m=\u001b[0m \u001b[1;34m\"raise\"\u001b[0m\u001b[1;33m)\u001b[0m \u001b[1;33m->\u001b[0m \u001b[0mT\u001b[0m\u001b[1;33m:\u001b[0m\u001b[1;33m\u001b[0m\u001b[1;33m\u001b[0m\u001b[0m\n\u001b[1;32m--> 419\u001b[1;33m         \u001b[1;32mreturn\u001b[0m \u001b[0mself\u001b[0m\u001b[1;33m.\u001b[0m\u001b[0mapply\u001b[0m\u001b[1;33m(\u001b[0m\u001b[1;34m\"astype\"\u001b[0m\u001b[1;33m,\u001b[0m \u001b[0mdtype\u001b[0m\u001b[1;33m=\u001b[0m\u001b[0mdtype\u001b[0m\u001b[1;33m,\u001b[0m \u001b[0mcopy\u001b[0m\u001b[1;33m=\u001b[0m\u001b[0mcopy\u001b[0m\u001b[1;33m,\u001b[0m \u001b[0merrors\u001b[0m\u001b[1;33m=\u001b[0m\u001b[0merrors\u001b[0m\u001b[1;33m)\u001b[0m\u001b[1;33m\u001b[0m\u001b[1;33m\u001b[0m\u001b[0m\n\u001b[0m\u001b[0;32m    420\u001b[0m \u001b[1;33m\u001b[0m\u001b[0m\n\u001b[0;32m    421\u001b[0m     def convert(\n",
      "\u001b[1;32mC:\\Anaconda3\\lib\\site-packages\\pandas\\core\\internals\\managers.py\u001b[0m in \u001b[0;36mapply\u001b[1;34m(self, f, align_keys, ignore_failures, **kwargs)\u001b[0m\n\u001b[0;32m    302\u001b[0m                     \u001b[0mapplied\u001b[0m \u001b[1;33m=\u001b[0m \u001b[0mb\u001b[0m\u001b[1;33m.\u001b[0m\u001b[0mapply\u001b[0m\u001b[1;33m(\u001b[0m\u001b[0mf\u001b[0m\u001b[1;33m,\u001b[0m \u001b[1;33m**\u001b[0m\u001b[0mkwargs\u001b[0m\u001b[1;33m)\u001b[0m\u001b[1;33m\u001b[0m\u001b[1;33m\u001b[0m\u001b[0m\n\u001b[0;32m    303\u001b[0m                 \u001b[1;32melse\u001b[0m\u001b[1;33m:\u001b[0m\u001b[1;33m\u001b[0m\u001b[1;33m\u001b[0m\u001b[0m\n\u001b[1;32m--> 304\u001b[1;33m                     \u001b[0mapplied\u001b[0m \u001b[1;33m=\u001b[0m \u001b[0mgetattr\u001b[0m\u001b[1;33m(\u001b[0m\u001b[0mb\u001b[0m\u001b[1;33m,\u001b[0m \u001b[0mf\u001b[0m\u001b[1;33m)\u001b[0m\u001b[1;33m(\u001b[0m\u001b[1;33m**\u001b[0m\u001b[0mkwargs\u001b[0m\u001b[1;33m)\u001b[0m\u001b[1;33m\u001b[0m\u001b[1;33m\u001b[0m\u001b[0m\n\u001b[0m\u001b[0;32m    305\u001b[0m             \u001b[1;32mexcept\u001b[0m \u001b[1;33m(\u001b[0m\u001b[0mTypeError\u001b[0m\u001b[1;33m,\u001b[0m \u001b[0mNotImplementedError\u001b[0m\u001b[1;33m)\u001b[0m\u001b[1;33m:\u001b[0m\u001b[1;33m\u001b[0m\u001b[1;33m\u001b[0m\u001b[0m\n\u001b[0;32m    306\u001b[0m                 \u001b[1;32mif\u001b[0m \u001b[1;32mnot\u001b[0m \u001b[0mignore_failures\u001b[0m\u001b[1;33m:\u001b[0m\u001b[1;33m\u001b[0m\u001b[1;33m\u001b[0m\u001b[0m\n",
      "\u001b[1;32mC:\\Anaconda3\\lib\\site-packages\\pandas\\core\\internals\\blocks.py\u001b[0m in \u001b[0;36mastype\u001b[1;34m(self, dtype, copy, errors)\u001b[0m\n\u001b[0;32m    578\u001b[0m         \u001b[0mvalues\u001b[0m \u001b[1;33m=\u001b[0m \u001b[0mself\u001b[0m\u001b[1;33m.\u001b[0m\u001b[0mvalues\u001b[0m\u001b[1;33m\u001b[0m\u001b[1;33m\u001b[0m\u001b[0m\n\u001b[0;32m    579\u001b[0m \u001b[1;33m\u001b[0m\u001b[0m\n\u001b[1;32m--> 580\u001b[1;33m         \u001b[0mnew_values\u001b[0m \u001b[1;33m=\u001b[0m \u001b[0mastype_array_safe\u001b[0m\u001b[1;33m(\u001b[0m\u001b[0mvalues\u001b[0m\u001b[1;33m,\u001b[0m \u001b[0mdtype\u001b[0m\u001b[1;33m,\u001b[0m \u001b[0mcopy\u001b[0m\u001b[1;33m=\u001b[0m\u001b[0mcopy\u001b[0m\u001b[1;33m,\u001b[0m \u001b[0merrors\u001b[0m\u001b[1;33m=\u001b[0m\u001b[0merrors\u001b[0m\u001b[1;33m)\u001b[0m\u001b[1;33m\u001b[0m\u001b[1;33m\u001b[0m\u001b[0m\n\u001b[0m\u001b[0;32m    581\u001b[0m \u001b[1;33m\u001b[0m\u001b[0m\n\u001b[0;32m    582\u001b[0m         \u001b[0mnew_values\u001b[0m \u001b[1;33m=\u001b[0m \u001b[0mmaybe_coerce_values\u001b[0m\u001b[1;33m(\u001b[0m\u001b[0mnew_values\u001b[0m\u001b[1;33m)\u001b[0m\u001b[1;33m\u001b[0m\u001b[1;33m\u001b[0m\u001b[0m\n",
      "\u001b[1;32mC:\\Anaconda3\\lib\\site-packages\\pandas\\core\\dtypes\\cast.py\u001b[0m in \u001b[0;36mastype_array_safe\u001b[1;34m(values, dtype, copy, errors)\u001b[0m\n\u001b[0;32m   1290\u001b[0m \u001b[1;33m\u001b[0m\u001b[0m\n\u001b[0;32m   1291\u001b[0m     \u001b[1;32mtry\u001b[0m\u001b[1;33m:\u001b[0m\u001b[1;33m\u001b[0m\u001b[1;33m\u001b[0m\u001b[0m\n\u001b[1;32m-> 1292\u001b[1;33m         \u001b[0mnew_values\u001b[0m \u001b[1;33m=\u001b[0m \u001b[0mastype_array\u001b[0m\u001b[1;33m(\u001b[0m\u001b[0mvalues\u001b[0m\u001b[1;33m,\u001b[0m \u001b[0mdtype\u001b[0m\u001b[1;33m,\u001b[0m \u001b[0mcopy\u001b[0m\u001b[1;33m=\u001b[0m\u001b[0mcopy\u001b[0m\u001b[1;33m)\u001b[0m\u001b[1;33m\u001b[0m\u001b[1;33m\u001b[0m\u001b[0m\n\u001b[0m\u001b[0;32m   1293\u001b[0m     \u001b[1;32mexcept\u001b[0m \u001b[1;33m(\u001b[0m\u001b[0mValueError\u001b[0m\u001b[1;33m,\u001b[0m \u001b[0mTypeError\u001b[0m\u001b[1;33m)\u001b[0m\u001b[1;33m:\u001b[0m\u001b[1;33m\u001b[0m\u001b[1;33m\u001b[0m\u001b[0m\n\u001b[0;32m   1294\u001b[0m         \u001b[1;31m# e.g. astype_nansafe can fail on object-dtype of strings\u001b[0m\u001b[1;33m\u001b[0m\u001b[1;33m\u001b[0m\u001b[0m\n",
      "\u001b[1;32mC:\\Anaconda3\\lib\\site-packages\\pandas\\core\\dtypes\\cast.py\u001b[0m in \u001b[0;36mastype_array\u001b[1;34m(values, dtype, copy)\u001b[0m\n\u001b[0;32m   1235\u001b[0m \u001b[1;33m\u001b[0m\u001b[0m\n\u001b[0;32m   1236\u001b[0m     \u001b[1;32melse\u001b[0m\u001b[1;33m:\u001b[0m\u001b[1;33m\u001b[0m\u001b[1;33m\u001b[0m\u001b[0m\n\u001b[1;32m-> 1237\u001b[1;33m         \u001b[0mvalues\u001b[0m \u001b[1;33m=\u001b[0m \u001b[0mastype_nansafe\u001b[0m\u001b[1;33m(\u001b[0m\u001b[0mvalues\u001b[0m\u001b[1;33m,\u001b[0m \u001b[0mdtype\u001b[0m\u001b[1;33m,\u001b[0m \u001b[0mcopy\u001b[0m\u001b[1;33m=\u001b[0m\u001b[0mcopy\u001b[0m\u001b[1;33m)\u001b[0m\u001b[1;33m\u001b[0m\u001b[1;33m\u001b[0m\u001b[0m\n\u001b[0m\u001b[0;32m   1238\u001b[0m \u001b[1;33m\u001b[0m\u001b[0m\n\u001b[0;32m   1239\u001b[0m     \u001b[1;31m# in pandas we don't store numpy str dtypes, so convert to object\u001b[0m\u001b[1;33m\u001b[0m\u001b[1;33m\u001b[0m\u001b[0m\n",
      "\u001b[1;32mC:\\Anaconda3\\lib\\site-packages\\pandas\\core\\dtypes\\cast.py\u001b[0m in \u001b[0;36mastype_nansafe\u001b[1;34m(arr, dtype, copy, skipna)\u001b[0m\n\u001b[0;32m   1179\u001b[0m     \u001b[1;32mif\u001b[0m \u001b[0mcopy\u001b[0m \u001b[1;32mor\u001b[0m \u001b[0mis_object_dtype\u001b[0m\u001b[1;33m(\u001b[0m\u001b[0marr\u001b[0m\u001b[1;33m.\u001b[0m\u001b[0mdtype\u001b[0m\u001b[1;33m)\u001b[0m \u001b[1;32mor\u001b[0m \u001b[0mis_object_dtype\u001b[0m\u001b[1;33m(\u001b[0m\u001b[0mdtype\u001b[0m\u001b[1;33m)\u001b[0m\u001b[1;33m:\u001b[0m\u001b[1;33m\u001b[0m\u001b[1;33m\u001b[0m\u001b[0m\n\u001b[0;32m   1180\u001b[0m         \u001b[1;31m# Explicit copy, or required since NumPy can't view from / to object.\u001b[0m\u001b[1;33m\u001b[0m\u001b[1;33m\u001b[0m\u001b[0m\n\u001b[1;32m-> 1181\u001b[1;33m         \u001b[1;32mreturn\u001b[0m \u001b[0marr\u001b[0m\u001b[1;33m.\u001b[0m\u001b[0mastype\u001b[0m\u001b[1;33m(\u001b[0m\u001b[0mdtype\u001b[0m\u001b[1;33m,\u001b[0m \u001b[0mcopy\u001b[0m\u001b[1;33m=\u001b[0m\u001b[1;32mTrue\u001b[0m\u001b[1;33m)\u001b[0m\u001b[1;33m\u001b[0m\u001b[1;33m\u001b[0m\u001b[0m\n\u001b[0m\u001b[0;32m   1182\u001b[0m \u001b[1;33m\u001b[0m\u001b[0m\n\u001b[0;32m   1183\u001b[0m     \u001b[1;32mreturn\u001b[0m \u001b[0marr\u001b[0m\u001b[1;33m.\u001b[0m\u001b[0mastype\u001b[0m\u001b[1;33m(\u001b[0m\u001b[0mdtype\u001b[0m\u001b[1;33m,\u001b[0m \u001b[0mcopy\u001b[0m\u001b[1;33m=\u001b[0m\u001b[0mcopy\u001b[0m\u001b[1;33m)\u001b[0m\u001b[1;33m\u001b[0m\u001b[1;33m\u001b[0m\u001b[0m\n",
      "\u001b[1;31mValueError\u001b[0m: could not convert string to float: 'bhp'"
     ]
    }
   ],
   "source": [
    "df.max_power = df.max_power.astype(float)"
   ]
  },
  {
   "cell_type": "code",
   "execution_count": null,
   "id": "7f8cde53-633a-4c04-a8f4-ec22875f16b0",
   "metadata": {
    "execution": {
     "iopub.status.busy": "2022-11-08T00:07:22.032884Z",
     "iopub.status.idle": "2022-11-08T00:07:22.032884Z",
     "shell.execute_reply": "2022-11-08T00:07:22.032884Z",
     "shell.execute_reply.started": "2022-11-08T00:07:22.032884Z"
    },
    "tags": []
   },
   "outputs": [],
   "source": [
    "def isFloat(x):\n",
    "    try:\n",
    "        num = float(x)\n",
    "        return num\n",
    "    except ValueError:\n",
    "        return np.NaN"
   ]
  },
  {
   "cell_type": "code",
   "execution_count": 45,
   "id": "28e5b023-a7e2-4def-a1b7-b870ea175dcb",
   "metadata": {
    "execution": {
     "iopub.execute_input": "2022-11-08T00:07:22.772971Z",
     "iopub.status.busy": "2022-11-08T00:07:22.771974Z",
     "iopub.status.idle": "2022-11-08T00:07:22.800749Z",
     "shell.execute_reply": "2022-11-08T00:07:22.798684Z",
     "shell.execute_reply.started": "2022-11-08T00:07:22.772971Z"
    },
    "tags": []
   },
   "outputs": [
    {
     "ename": "NameError",
     "evalue": "name 'isFloat' is not defined",
     "output_type": "error",
     "traceback": [
      "\u001b[1;31m---------------------------------------------------------------------------\u001b[0m",
      "\u001b[1;31mNameError\u001b[0m                                 Traceback (most recent call last)",
      "\u001b[1;32m~\\AppData\\Local\\Temp\\ipykernel_5064\\4185170843.py\u001b[0m in \u001b[0;36m<module>\u001b[1;34m\u001b[0m\n\u001b[1;32m----> 1\u001b[1;33m \u001b[0mdf\u001b[0m\u001b[1;33m.\u001b[0m\u001b[0mmax_power\u001b[0m \u001b[1;33m=\u001b[0m \u001b[0mdf\u001b[0m\u001b[1;33m.\u001b[0m\u001b[0mmax_power\u001b[0m\u001b[1;33m.\u001b[0m\u001b[0mapply\u001b[0m\u001b[1;33m(\u001b[0m\u001b[0misFloat\u001b[0m\u001b[1;33m)\u001b[0m\u001b[1;33m\u001b[0m\u001b[1;33m\u001b[0m\u001b[0m\n\u001b[0m",
      "\u001b[1;31mNameError\u001b[0m: name 'isFloat' is not defined"
     ]
    }
   ],
   "source": [
    "df.max_power = df.max_power.apply(isFloat)"
   ]
  },
  {
   "cell_type": "code",
   "execution_count": 46,
   "id": "e0d3590f-aef7-4556-912d-3cbde9f22cc5",
   "metadata": {
    "execution": {
     "iopub.execute_input": "2022-11-08T00:07:24.979575Z",
     "iopub.status.busy": "2022-11-08T00:07:24.978458Z",
     "iopub.status.idle": "2022-11-08T00:07:24.996174Z",
     "shell.execute_reply": "2022-11-08T00:07:24.995174Z",
     "shell.execute_reply.started": "2022-11-08T00:07:24.979575Z"
    },
    "tags": []
   },
   "outputs": [
    {
     "data": {
      "text/plain": [
       "array(['bhp', nan, None], dtype=object)"
      ]
     },
     "execution_count": 46,
     "metadata": {},
     "output_type": "execute_result"
    }
   ],
   "source": [
    "df.max_power_unit.unique()"
   ]
  },
  {
   "cell_type": "code",
   "execution_count": 47,
   "id": "63021c6e-af57-4e7c-b36e-9f5f3760c43e",
   "metadata": {
    "execution": {
     "iopub.execute_input": "2022-11-08T00:07:25.547084Z",
     "iopub.status.busy": "2022-11-08T00:07:25.547084Z",
     "iopub.status.idle": "2022-11-08T00:07:25.561982Z",
     "shell.execute_reply": "2022-11-08T00:07:25.560982Z",
     "shell.execute_reply.started": "2022-11-08T00:07:25.547084Z"
    },
    "tags": []
   },
   "outputs": [],
   "source": [
    "df.drop('max_power_unit', axis=1, inplace=True)"
   ]
  },
  {
   "cell_type": "code",
   "execution_count": 48,
   "id": "ff4f33c0-e868-41e3-a16c-0bbcc838cab6",
   "metadata": {
    "execution": {
     "iopub.execute_input": "2022-11-08T00:07:26.017390Z",
     "iopub.status.busy": "2022-11-08T00:07:26.017390Z",
     "iopub.status.idle": "2022-11-08T00:07:26.063369Z",
     "shell.execute_reply": "2022-11-08T00:07:26.062368Z",
     "shell.execute_reply.started": "2022-11-08T00:07:26.017390Z"
    },
    "tags": []
   },
   "outputs": [],
   "source": [
    "df.name = df.name.str.split(expand=True)[0]"
   ]
  },
  {
   "cell_type": "code",
   "execution_count": 49,
   "id": "a4dbec32-7594-40d8-99bf-71b496a10e8e",
   "metadata": {
    "execution": {
     "iopub.execute_input": "2022-11-08T00:07:26.682064Z",
     "iopub.status.busy": "2022-11-08T00:07:26.682064Z",
     "iopub.status.idle": "2022-11-08T00:07:26.699152Z",
     "shell.execute_reply": "2022-11-08T00:07:26.698154Z",
     "shell.execute_reply.started": "2022-11-08T00:07:26.682064Z"
    },
    "tags": []
   },
   "outputs": [
    {
     "data": {
      "text/plain": [
       "array(['Maruti', 'Skoda', 'Honda', 'Hyundai', 'Toyota', 'Ford', 'Renault',\n",
       "       'Mahindra', 'Tata', 'Chevrolet', 'Fiat', 'Datsun', 'Jeep',\n",
       "       'Mercedes-Benz', 'Mitsubishi', 'Audi', 'Volkswagen', 'BMW',\n",
       "       'Nissan', 'Lexus', 'Jaguar', 'Land', 'MG', 'Volvo', 'Daewoo',\n",
       "       'Kia', 'Force', 'Ambassador', 'Ashok', 'Isuzu', 'Opel', 'Peugeot'],\n",
       "      dtype=object)"
      ]
     },
     "execution_count": 49,
     "metadata": {},
     "output_type": "execute_result"
    }
   ],
   "source": [
    "df.name.unique()"
   ]
  },
  {
   "cell_type": "markdown",
   "id": "e604748d-4856-495a-8207-0380313148e5",
   "metadata": {},
   "source": [
    "## 전처리 : 결측치와 더미 변수 변환"
   ]
  },
  {
   "cell_type": "code",
   "execution_count": 50,
   "id": "f787e8db-193c-4b71-9f48-a80d85e81844",
   "metadata": {
    "execution": {
     "iopub.execute_input": "2022-11-08T00:07:27.723131Z",
     "iopub.status.busy": "2022-11-08T00:07:27.723131Z",
     "iopub.status.idle": "2022-11-08T00:07:27.765628Z",
     "shell.execute_reply": "2022-11-08T00:07:27.764626Z",
     "shell.execute_reply.started": "2022-11-08T00:07:27.723131Z"
    },
    "tags": []
   },
   "outputs": [
    {
     "data": {
      "text/plain": [
       "name               0\n",
       "year               0\n",
       "selling_price      0\n",
       "km_driven          0\n",
       "fuel               0\n",
       "seller_type        0\n",
       "transmission       0\n",
       "owner              0\n",
       "mileage          221\n",
       "engine             0\n",
       "max_power        215\n",
       "torque           222\n",
       "seats            221\n",
       "dtype: int64"
      ]
     },
     "execution_count": 50,
     "metadata": {},
     "output_type": "execute_result"
    }
   ],
   "source": [
    "df.isna().sum()"
   ]
  },
  {
   "cell_type": "code",
   "execution_count": 51,
   "id": "aa45f76e-17ac-4532-a1d0-076d9d1ba4d0",
   "metadata": {
    "execution": {
     "iopub.execute_input": "2022-11-08T00:07:28.270312Z",
     "iopub.status.busy": "2022-11-08T00:07:28.270312Z",
     "iopub.status.idle": "2022-11-08T00:07:28.300635Z",
     "shell.execute_reply": "2022-11-08T00:07:28.299329Z",
     "shell.execute_reply.started": "2022-11-08T00:07:28.270312Z"
    },
    "tags": []
   },
   "outputs": [],
   "source": [
    "df.dropna(inplace=True)"
   ]
  },
  {
   "cell_type": "code",
   "execution_count": 52,
   "id": "bb424aad-b8d5-4edc-ba0b-f917b11d5502",
   "metadata": {
    "execution": {
     "iopub.execute_input": "2022-11-08T00:07:28.920886Z",
     "iopub.status.busy": "2022-11-08T00:07:28.920886Z",
     "iopub.status.idle": "2022-11-08T00:07:28.941414Z",
     "shell.execute_reply": "2022-11-08T00:07:28.940415Z",
     "shell.execute_reply.started": "2022-11-08T00:07:28.920886Z"
    },
    "tags": []
   },
   "outputs": [
    {
     "data": {
      "text/html": [
       "<div>\n",
       "<style scoped>\n",
       "    .dataframe tbody tr th:only-of-type {\n",
       "        vertical-align: middle;\n",
       "    }\n",
       "\n",
       "    .dataframe tbody tr th {\n",
       "        vertical-align: top;\n",
       "    }\n",
       "\n",
       "    .dataframe thead th {\n",
       "        text-align: right;\n",
       "    }\n",
       "</style>\n",
       "<table border=\"1\" class=\"dataframe\">\n",
       "  <thead>\n",
       "    <tr style=\"text-align: right;\">\n",
       "      <th></th>\n",
       "      <th>season</th>\n",
       "    </tr>\n",
       "  </thead>\n",
       "  <tbody>\n",
       "    <tr>\n",
       "      <th>0</th>\n",
       "      <td>spring</td>\n",
       "    </tr>\n",
       "    <tr>\n",
       "      <th>1</th>\n",
       "      <td>summer</td>\n",
       "    </tr>\n",
       "    <tr>\n",
       "      <th>2</th>\n",
       "      <td>fall</td>\n",
       "    </tr>\n",
       "    <tr>\n",
       "      <th>3</th>\n",
       "      <td>winter</td>\n",
       "    </tr>\n",
       "    <tr>\n",
       "      <th>4</th>\n",
       "      <td>NaN</td>\n",
       "    </tr>\n",
       "  </tbody>\n",
       "</table>\n",
       "</div>"
      ],
      "text/plain": [
       "   season\n",
       "0  spring\n",
       "1  summer\n",
       "2    fall\n",
       "3  winter\n",
       "4     NaN"
      ]
     },
     "execution_count": 52,
     "metadata": {},
     "output_type": "execute_result"
    }
   ],
   "source": [
    "season = pd.DataFrame({'season': ['spring', 'summer', 'fall', 'winter', np.nan]})\n",
    "season"
   ]
  },
  {
   "cell_type": "code",
   "execution_count": 53,
   "id": "801cbffe-72a8-42b8-9564-dc4c2b79fc21",
   "metadata": {
    "execution": {
     "iopub.execute_input": "2022-11-08T00:07:29.634076Z",
     "iopub.status.busy": "2022-11-08T00:07:29.634076Z",
     "iopub.status.idle": "2022-11-08T00:07:29.655080Z",
     "shell.execute_reply": "2022-11-08T00:07:29.654058Z",
     "shell.execute_reply.started": "2022-11-08T00:07:29.634076Z"
    },
    "tags": []
   },
   "outputs": [
    {
     "data": {
      "text/html": [
       "<div>\n",
       "<style scoped>\n",
       "    .dataframe tbody tr th:only-of-type {\n",
       "        vertical-align: middle;\n",
       "    }\n",
       "\n",
       "    .dataframe tbody tr th {\n",
       "        vertical-align: top;\n",
       "    }\n",
       "\n",
       "    .dataframe thead th {\n",
       "        text-align: right;\n",
       "    }\n",
       "</style>\n",
       "<table border=\"1\" class=\"dataframe\">\n",
       "  <thead>\n",
       "    <tr style=\"text-align: right;\">\n",
       "      <th></th>\n",
       "      <th>fall</th>\n",
       "      <th>spring</th>\n",
       "      <th>summer</th>\n",
       "      <th>winter</th>\n",
       "      <th>NaN</th>\n",
       "    </tr>\n",
       "  </thead>\n",
       "  <tbody>\n",
       "    <tr>\n",
       "      <th>0</th>\n",
       "      <td>0</td>\n",
       "      <td>1</td>\n",
       "      <td>0</td>\n",
       "      <td>0</td>\n",
       "      <td>0</td>\n",
       "    </tr>\n",
       "    <tr>\n",
       "      <th>1</th>\n",
       "      <td>0</td>\n",
       "      <td>0</td>\n",
       "      <td>1</td>\n",
       "      <td>0</td>\n",
       "      <td>0</td>\n",
       "    </tr>\n",
       "    <tr>\n",
       "      <th>2</th>\n",
       "      <td>1</td>\n",
       "      <td>0</td>\n",
       "      <td>0</td>\n",
       "      <td>0</td>\n",
       "      <td>0</td>\n",
       "    </tr>\n",
       "    <tr>\n",
       "      <th>3</th>\n",
       "      <td>0</td>\n",
       "      <td>0</td>\n",
       "      <td>0</td>\n",
       "      <td>1</td>\n",
       "      <td>0</td>\n",
       "    </tr>\n",
       "    <tr>\n",
       "      <th>4</th>\n",
       "      <td>0</td>\n",
       "      <td>0</td>\n",
       "      <td>0</td>\n",
       "      <td>0</td>\n",
       "      <td>1</td>\n",
       "    </tr>\n",
       "  </tbody>\n",
       "</table>\n",
       "</div>"
      ],
      "text/plain": [
       "   fall  spring  summer  winter  NaN\n",
       "0     0       1       0       0    0\n",
       "1     0       0       1       0    0\n",
       "2     1       0       0       0    0\n",
       "3     0       0       0       1    0\n",
       "4     0       0       0       0    1"
      ]
     },
     "execution_count": 53,
     "metadata": {},
     "output_type": "execute_result"
    }
   ],
   "source": [
    "pd.get_dummies(season.season, dummy_na=True)"
   ]
  },
  {
   "cell_type": "code",
   "execution_count": 54,
   "id": "e58e7e13-c32f-4d91-b78f-080f7451e316",
   "metadata": {
    "execution": {
     "iopub.execute_input": "2022-11-08T00:07:30.224309Z",
     "iopub.status.busy": "2022-11-08T00:07:30.224309Z",
     "iopub.status.idle": "2022-11-08T00:07:30.249429Z",
     "shell.execute_reply": "2022-11-08T00:07:30.248428Z",
     "shell.execute_reply.started": "2022-11-08T00:07:30.224309Z"
    },
    "tags": []
   },
   "outputs": [
    {
     "data": {
      "text/html": [
       "<div>\n",
       "<style scoped>\n",
       "    .dataframe tbody tr th:only-of-type {\n",
       "        vertical-align: middle;\n",
       "    }\n",
       "\n",
       "    .dataframe tbody tr th {\n",
       "        vertical-align: top;\n",
       "    }\n",
       "\n",
       "    .dataframe thead th {\n",
       "        text-align: right;\n",
       "    }\n",
       "</style>\n",
       "<table border=\"1\" class=\"dataframe\">\n",
       "  <thead>\n",
       "    <tr style=\"text-align: right;\">\n",
       "      <th></th>\n",
       "      <th>name</th>\n",
       "      <th>year</th>\n",
       "      <th>selling_price</th>\n",
       "      <th>km_driven</th>\n",
       "      <th>fuel</th>\n",
       "      <th>seller_type</th>\n",
       "      <th>transmission</th>\n",
       "      <th>owner</th>\n",
       "      <th>mileage</th>\n",
       "      <th>engine</th>\n",
       "      <th>max_power</th>\n",
       "      <th>torque</th>\n",
       "      <th>seats</th>\n",
       "    </tr>\n",
       "  </thead>\n",
       "  <tbody>\n",
       "    <tr>\n",
       "      <th>0</th>\n",
       "      <td>Maruti</td>\n",
       "      <td>2014</td>\n",
       "      <td>450000</td>\n",
       "      <td>145500</td>\n",
       "      <td>Diesel</td>\n",
       "      <td>Individual</td>\n",
       "      <td>Manual</td>\n",
       "      <td>First Owner</td>\n",
       "      <td>16.654804</td>\n",
       "      <td>1248.0</td>\n",
       "      <td>74</td>\n",
       "      <td>190Nm@ 2000rpm</td>\n",
       "      <td>5.0</td>\n",
       "    </tr>\n",
       "  </tbody>\n",
       "</table>\n",
       "</div>"
      ],
      "text/plain": [
       "     name  year  selling_price  km_driven    fuel seller_type transmission  \\\n",
       "0  Maruti  2014         450000     145500  Diesel  Individual       Manual   \n",
       "\n",
       "         owner    mileage  engine max_power          torque  seats  \n",
       "0  First Owner  16.654804  1248.0        74  190Nm@ 2000rpm    5.0  "
      ]
     },
     "execution_count": 54,
     "metadata": {},
     "output_type": "execute_result"
    }
   ],
   "source": [
    "df.head(1)"
   ]
  },
  {
   "cell_type": "code",
   "execution_count": 55,
   "id": "5fbc374e-2c2a-4de6-a352-a58e66affb9d",
   "metadata": {
    "execution": {
     "iopub.execute_input": "2022-11-08T00:07:30.734302Z",
     "iopub.status.busy": "2022-11-08T00:07:30.734302Z",
     "iopub.status.idle": "2022-11-08T00:07:30.783694Z",
     "shell.execute_reply": "2022-11-08T00:07:30.781769Z",
     "shell.execute_reply.started": "2022-11-08T00:07:30.734302Z"
    }
   },
   "outputs": [
    {
     "ename": "ValueError",
     "evalue": "Data must be 1-dimensional",
     "output_type": "error",
     "traceback": [
      "\u001b[1;31m---------------------------------------------------------------------------\u001b[0m",
      "\u001b[1;31mValueError\u001b[0m                                Traceback (most recent call last)",
      "\u001b[1;32m~\\AppData\\Local\\Temp\\ipykernel_5064\\1498211308.py\u001b[0m in \u001b[0;36m<module>\u001b[1;34m\u001b[0m\n\u001b[1;32m----> 1\u001b[1;33m df = pd.get_dummies(data, columns=['name', 'fuel', 'seller_type', 'transmission',\n\u001b[0m\u001b[0;32m      2\u001b[0m                                    'owner'])\n",
      "\u001b[1;32mC:\\Anaconda3\\lib\\site-packages\\pandas\\core\\reshape\\reshape.py\u001b[0m in \u001b[0;36mget_dummies\u001b[1;34m(data, prefix, prefix_sep, dummy_na, columns, sparse, drop_first, dtype)\u001b[0m\n\u001b[0;32m    987\u001b[0m         \u001b[0mresult\u001b[0m \u001b[1;33m=\u001b[0m \u001b[0mconcat\u001b[0m\u001b[1;33m(\u001b[0m\u001b[0mwith_dummies\u001b[0m\u001b[1;33m,\u001b[0m \u001b[0maxis\u001b[0m\u001b[1;33m=\u001b[0m\u001b[1;36m1\u001b[0m\u001b[1;33m)\u001b[0m\u001b[1;33m\u001b[0m\u001b[1;33m\u001b[0m\u001b[0m\n\u001b[0;32m    988\u001b[0m     \u001b[1;32melse\u001b[0m\u001b[1;33m:\u001b[0m\u001b[1;33m\u001b[0m\u001b[1;33m\u001b[0m\u001b[0m\n\u001b[1;32m--> 989\u001b[1;33m         result = _get_dummies_1d(\n\u001b[0m\u001b[0;32m    990\u001b[0m             \u001b[0mdata\u001b[0m\u001b[1;33m,\u001b[0m\u001b[1;33m\u001b[0m\u001b[1;33m\u001b[0m\u001b[0m\n\u001b[0;32m    991\u001b[0m             \u001b[0mprefix\u001b[0m\u001b[1;33m,\u001b[0m\u001b[1;33m\u001b[0m\u001b[1;33m\u001b[0m\u001b[0m\n",
      "\u001b[1;32mC:\\Anaconda3\\lib\\site-packages\\pandas\\core\\reshape\\reshape.py\u001b[0m in \u001b[0;36m_get_dummies_1d\u001b[1;34m(data, prefix, prefix_sep, dummy_na, sparse, drop_first, dtype)\u001b[0m\n\u001b[0;32m   1011\u001b[0m \u001b[1;33m\u001b[0m\u001b[0m\n\u001b[0;32m   1012\u001b[0m     \u001b[1;31m# Series avoids inconsistent NaN handling\u001b[0m\u001b[1;33m\u001b[0m\u001b[1;33m\u001b[0m\u001b[0m\n\u001b[1;32m-> 1013\u001b[1;33m     \u001b[0mcodes\u001b[0m\u001b[1;33m,\u001b[0m \u001b[0mlevels\u001b[0m \u001b[1;33m=\u001b[0m \u001b[0mfactorize_from_iterable\u001b[0m\u001b[1;33m(\u001b[0m\u001b[0mSeries\u001b[0m\u001b[1;33m(\u001b[0m\u001b[0mdata\u001b[0m\u001b[1;33m)\u001b[0m\u001b[1;33m)\u001b[0m\u001b[1;33m\u001b[0m\u001b[1;33m\u001b[0m\u001b[0m\n\u001b[0m\u001b[0;32m   1014\u001b[0m \u001b[1;33m\u001b[0m\u001b[0m\n\u001b[0;32m   1015\u001b[0m     \u001b[1;32mif\u001b[0m \u001b[0mdtype\u001b[0m \u001b[1;32mis\u001b[0m \u001b[1;32mNone\u001b[0m\u001b[1;33m:\u001b[0m\u001b[1;33m\u001b[0m\u001b[1;33m\u001b[0m\u001b[0m\n",
      "\u001b[1;32mC:\\Anaconda3\\lib\\site-packages\\pandas\\core\\series.py\u001b[0m in \u001b[0;36m__init__\u001b[1;34m(self, data, index, dtype, name, copy, fastpath)\u001b[0m\n\u001b[0;32m    449\u001b[0m                     \u001b[0mdata\u001b[0m \u001b[1;33m=\u001b[0m \u001b[0mdata\u001b[0m\u001b[1;33m.\u001b[0m\u001b[0mcopy\u001b[0m\u001b[1;33m(\u001b[0m\u001b[1;33m)\u001b[0m\u001b[1;33m\u001b[0m\u001b[1;33m\u001b[0m\u001b[0m\n\u001b[0;32m    450\u001b[0m             \u001b[1;32melse\u001b[0m\u001b[1;33m:\u001b[0m\u001b[1;33m\u001b[0m\u001b[1;33m\u001b[0m\u001b[0m\n\u001b[1;32m--> 451\u001b[1;33m                 \u001b[0mdata\u001b[0m \u001b[1;33m=\u001b[0m \u001b[0msanitize_array\u001b[0m\u001b[1;33m(\u001b[0m\u001b[0mdata\u001b[0m\u001b[1;33m,\u001b[0m \u001b[0mindex\u001b[0m\u001b[1;33m,\u001b[0m \u001b[0mdtype\u001b[0m\u001b[1;33m,\u001b[0m \u001b[0mcopy\u001b[0m\u001b[1;33m)\u001b[0m\u001b[1;33m\u001b[0m\u001b[1;33m\u001b[0m\u001b[0m\n\u001b[0m\u001b[0;32m    452\u001b[0m \u001b[1;33m\u001b[0m\u001b[0m\n\u001b[0;32m    453\u001b[0m                 \u001b[0mmanager\u001b[0m \u001b[1;33m=\u001b[0m \u001b[0mget_option\u001b[0m\u001b[1;33m(\u001b[0m\u001b[1;34m\"mode.data_manager\"\u001b[0m\u001b[1;33m)\u001b[0m\u001b[1;33m\u001b[0m\u001b[1;33m\u001b[0m\u001b[0m\n",
      "\u001b[1;32mC:\\Anaconda3\\lib\\site-packages\\pandas\\core\\construction.py\u001b[0m in \u001b[0;36msanitize_array\u001b[1;34m(data, index, dtype, copy, raise_cast_failure, allow_2d)\u001b[0m\n\u001b[0;32m    599\u001b[0m                 \u001b[0msubarr\u001b[0m \u001b[1;33m=\u001b[0m \u001b[0mmaybe_infer_to_datetimelike\u001b[0m\u001b[1;33m(\u001b[0m\u001b[0msubarr\u001b[0m\u001b[1;33m)\u001b[0m\u001b[1;33m\u001b[0m\u001b[1;33m\u001b[0m\u001b[0m\n\u001b[0;32m    600\u001b[0m \u001b[1;33m\u001b[0m\u001b[0m\n\u001b[1;32m--> 601\u001b[1;33m     \u001b[0msubarr\u001b[0m \u001b[1;33m=\u001b[0m \u001b[0m_sanitize_ndim\u001b[0m\u001b[1;33m(\u001b[0m\u001b[0msubarr\u001b[0m\u001b[1;33m,\u001b[0m \u001b[0mdata\u001b[0m\u001b[1;33m,\u001b[0m \u001b[0mdtype\u001b[0m\u001b[1;33m,\u001b[0m \u001b[0mindex\u001b[0m\u001b[1;33m,\u001b[0m \u001b[0mallow_2d\u001b[0m\u001b[1;33m=\u001b[0m\u001b[0mallow_2d\u001b[0m\u001b[1;33m)\u001b[0m\u001b[1;33m\u001b[0m\u001b[1;33m\u001b[0m\u001b[0m\n\u001b[0m\u001b[0;32m    602\u001b[0m \u001b[1;33m\u001b[0m\u001b[0m\n\u001b[0;32m    603\u001b[0m     \u001b[1;32mif\u001b[0m \u001b[0misinstance\u001b[0m\u001b[1;33m(\u001b[0m\u001b[0msubarr\u001b[0m\u001b[1;33m,\u001b[0m \u001b[0mnp\u001b[0m\u001b[1;33m.\u001b[0m\u001b[0mndarray\u001b[0m\u001b[1;33m)\u001b[0m\u001b[1;33m:\u001b[0m\u001b[1;33m\u001b[0m\u001b[1;33m\u001b[0m\u001b[0m\n",
      "\u001b[1;32mC:\\Anaconda3\\lib\\site-packages\\pandas\\core\\construction.py\u001b[0m in \u001b[0;36m_sanitize_ndim\u001b[1;34m(result, data, dtype, index, allow_2d)\u001b[0m\n\u001b[0;32m    650\u001b[0m             \u001b[1;32mif\u001b[0m \u001b[0mallow_2d\u001b[0m\u001b[1;33m:\u001b[0m\u001b[1;33m\u001b[0m\u001b[1;33m\u001b[0m\u001b[0m\n\u001b[0;32m    651\u001b[0m                 \u001b[1;32mreturn\u001b[0m \u001b[0mresult\u001b[0m\u001b[1;33m\u001b[0m\u001b[1;33m\u001b[0m\u001b[0m\n\u001b[1;32m--> 652\u001b[1;33m             \u001b[1;32mraise\u001b[0m \u001b[0mValueError\u001b[0m\u001b[1;33m(\u001b[0m\u001b[1;34m\"Data must be 1-dimensional\"\u001b[0m\u001b[1;33m)\u001b[0m\u001b[1;33m\u001b[0m\u001b[1;33m\u001b[0m\u001b[0m\n\u001b[0m\u001b[0;32m    653\u001b[0m         \u001b[1;32mif\u001b[0m \u001b[0mis_object_dtype\u001b[0m\u001b[1;33m(\u001b[0m\u001b[0mdtype\u001b[0m\u001b[1;33m)\u001b[0m \u001b[1;32mand\u001b[0m \u001b[0misinstance\u001b[0m\u001b[1;33m(\u001b[0m\u001b[0mdtype\u001b[0m\u001b[1;33m,\u001b[0m \u001b[0mExtensionDtype\u001b[0m\u001b[1;33m)\u001b[0m\u001b[1;33m:\u001b[0m\u001b[1;33m\u001b[0m\u001b[1;33m\u001b[0m\u001b[0m\n\u001b[0;32m    654\u001b[0m             \u001b[1;31m# i.e. PandasDtype(\"O\")\u001b[0m\u001b[1;33m\u001b[0m\u001b[1;33m\u001b[0m\u001b[0m\n",
      "\u001b[1;31mValueError\u001b[0m: Data must be 1-dimensional"
     ]
    }
   ],
   "source": [
    "df = pd.get_dummies(data, columns=['name', 'fuel', 'seller_type', 'transmission',\n",
    "                                   'owner'])"
   ]
  },
  {
   "cell_type": "markdown",
   "id": "3af14a04-8fdf-4f36-aee4-7697aeaccb70",
   "metadata": {},
   "source": [
    "- One-hot encoding : 범주형 데이터의 각 범주를 1아니면 0으로 채우는 인코딩 기법\n",
    "- pd.get_dummies() 함수의 drop_first : 첫번째 카테고리 값은 사용하지 않음"
   ]
  },
  {
   "cell_type": "code",
   "execution_count": 56,
   "id": "ba2e428d-0491-4c23-b362-12ba7c28e6d9",
   "metadata": {
    "execution": {
     "iopub.execute_input": "2022-11-08T00:16:43.943584Z",
     "iopub.status.busy": "2022-11-08T00:16:43.943584Z",
     "iopub.status.idle": "2022-11-08T00:16:43.959582Z",
     "shell.execute_reply": "2022-11-08T00:16:43.957584Z",
     "shell.execute_reply.started": "2022-11-08T00:16:43.943584Z"
    }
   },
   "outputs": [],
   "source": [
    "X_train, X_test, y_train, y_test = train_test_split(\n",
    "    df.drop('selling_price', axis=1), df.selling_price,\n",
    "    test_size=0.2, random_state=100)"
   ]
  },
  {
   "cell_type": "code",
   "execution_count": null,
   "id": "7eb5194a-ec0c-46d0-a56c-7e479a88b019",
   "metadata": {},
   "outputs": [],
   "source": []
  }
 ],
 "metadata": {
  "kernelspec": {
   "display_name": "Python 3 (ipykernel)",
   "language": "python",
   "name": "python3"
  },
  "language_info": {
   "codemirror_mode": {
    "name": "ipython",
    "version": 3
   },
   "file_extension": ".py",
   "mimetype": "text/x-python",
   "name": "python",
   "nbconvert_exporter": "python",
   "pygments_lexer": "ipython3",
   "version": "3.9.13"
  }
 },
 "nbformat": 4,
 "nbformat_minor": 5
}
