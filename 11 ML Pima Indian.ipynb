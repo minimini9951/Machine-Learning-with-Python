{
 "cells": [
  {
   "cell_type": "markdown",
   "id": "07de473a-2e0c-458d-b7fe-b2216ac6e276",
   "metadata": {},
   "source": [
    "# 필수 라이브러리"
   ]
  },
  {
   "cell_type": "code",
   "execution_count": 44,
   "id": "24cce4a2-e3bc-4d7c-9345-4b85fb173e88",
   "metadata": {
    "execution": {
     "iopub.execute_input": "2022-11-10T01:25:33.843553Z",
     "iopub.status.busy": "2022-11-10T01:25:33.843553Z",
     "iopub.status.idle": "2022-11-10T01:25:33.888039Z",
     "shell.execute_reply": "2022-11-10T01:25:33.887037Z",
     "shell.execute_reply.started": "2022-11-10T01:25:33.843553Z"
    },
    "tags": []
   },
   "outputs": [],
   "source": [
    "import numpy as np  # 넘파이\n",
    "import pandas as pd  # 판다스\n",
    "import seaborn as sns  # 시본\n",
    "import matplotlib as mpl\n",
    "import matplotlib.pyplot as plt  # matplotlib\n",
    "from IPython.display import Image\n",
    "from sklearn.model_selection import train_test_split\n",
    "from sklearn.metrics import accuracy_score, precision_score, recall_score, roc_auc_score\n",
    "from sklearn.metrics import f1_score, confusion_matrix, precision_recall_curve, roc_curve\n",
    "from sklearn.preprocessing import StandardScaler, MinMaxScaler\n",
    "from sklearn.linear_model import LogisticRegression\n",
    "\n",
    "import warnings\n",
    "warnings.simplefilter(action='ignore', category=FutureWarning)\n",
    "%matplotlib inline\n",
    "%config InlineBackend.figure_foramt = 'retina'\n",
    "# 자동완성 속도 증가\n",
    "%config Completer.use_jedi = False\n",
    "# 한글 깨짐 해결\n",
    "plt.rc('font', family='D2coding')\n",
    "mpl.rc('axes', unicode_minus=False)"
   ]
  },
  {
   "cell_type": "markdown",
   "id": "6e3b6ed3-a179-4614-961f-99dbd12b0fb4",
   "metadata": {},
   "source": [
    "# 데이터 로딩과 데이터 탐색"
   ]
  },
  {
   "cell_type": "code",
   "execution_count": 35,
   "id": "896e53f7-8d56-427d-ae27-95d04cc02c44",
   "metadata": {
    "execution": {
     "iopub.execute_input": "2022-11-10T01:25:00.609688Z",
     "iopub.status.busy": "2022-11-10T01:25:00.608806Z",
     "iopub.status.idle": "2022-11-10T01:25:00.644445Z",
     "shell.execute_reply": "2022-11-10T01:25:00.643546Z",
     "shell.execute_reply.started": "2022-11-10T01:25:00.608806Z"
    },
    "tags": []
   },
   "outputs": [
    {
     "data": {
      "text/html": [
       "<div>\n",
       "<style scoped>\n",
       "    .dataframe tbody tr th:only-of-type {\n",
       "        vertical-align: middle;\n",
       "    }\n",
       "\n",
       "    .dataframe tbody tr th {\n",
       "        vertical-align: top;\n",
       "    }\n",
       "\n",
       "    .dataframe thead th {\n",
       "        text-align: right;\n",
       "    }\n",
       "</style>\n",
       "<table border=\"1\" class=\"dataframe\">\n",
       "  <thead>\n",
       "    <tr style=\"text-align: right;\">\n",
       "      <th></th>\n",
       "      <th>Pregnancies</th>\n",
       "      <th>Glucose</th>\n",
       "      <th>BloodPressure</th>\n",
       "      <th>SkinThickness</th>\n",
       "      <th>Insulin</th>\n",
       "      <th>BMI</th>\n",
       "      <th>DiabetesPedigreeFunction</th>\n",
       "      <th>Age</th>\n",
       "      <th>Outcome</th>\n",
       "    </tr>\n",
       "  </thead>\n",
       "  <tbody>\n",
       "    <tr>\n",
       "      <th>0</th>\n",
       "      <td>6</td>\n",
       "      <td>148</td>\n",
       "      <td>72</td>\n",
       "      <td>35</td>\n",
       "      <td>0</td>\n",
       "      <td>33.6</td>\n",
       "      <td>0.627</td>\n",
       "      <td>50</td>\n",
       "      <td>1</td>\n",
       "    </tr>\n",
       "    <tr>\n",
       "      <th>1</th>\n",
       "      <td>1</td>\n",
       "      <td>85</td>\n",
       "      <td>66</td>\n",
       "      <td>29</td>\n",
       "      <td>0</td>\n",
       "      <td>26.6</td>\n",
       "      <td>0.351</td>\n",
       "      <td>31</td>\n",
       "      <td>0</td>\n",
       "    </tr>\n",
       "    <tr>\n",
       "      <th>2</th>\n",
       "      <td>8</td>\n",
       "      <td>183</td>\n",
       "      <td>64</td>\n",
       "      <td>0</td>\n",
       "      <td>0</td>\n",
       "      <td>23.3</td>\n",
       "      <td>0.672</td>\n",
       "      <td>32</td>\n",
       "      <td>1</td>\n",
       "    </tr>\n",
       "    <tr>\n",
       "      <th>3</th>\n",
       "      <td>1</td>\n",
       "      <td>89</td>\n",
       "      <td>66</td>\n",
       "      <td>23</td>\n",
       "      <td>94</td>\n",
       "      <td>28.1</td>\n",
       "      <td>0.167</td>\n",
       "      <td>21</td>\n",
       "      <td>0</td>\n",
       "    </tr>\n",
       "    <tr>\n",
       "      <th>4</th>\n",
       "      <td>0</td>\n",
       "      <td>137</td>\n",
       "      <td>40</td>\n",
       "      <td>35</td>\n",
       "      <td>168</td>\n",
       "      <td>43.1</td>\n",
       "      <td>2.288</td>\n",
       "      <td>33</td>\n",
       "      <td>1</td>\n",
       "    </tr>\n",
       "  </tbody>\n",
       "</table>\n",
       "</div>"
      ],
      "text/plain": [
       "   Pregnancies  Glucose  BloodPressure  SkinThickness  Insulin   BMI  \\\n",
       "0            6      148             72             35        0  33.6   \n",
       "1            1       85             66             29        0  26.6   \n",
       "2            8      183             64              0        0  23.3   \n",
       "3            1       89             66             23       94  28.1   \n",
       "4            0      137             40             35      168  43.1   \n",
       "\n",
       "   DiabetesPedigreeFunction  Age  Outcome  \n",
       "0                     0.627   50        1  \n",
       "1                     0.351   31        0  \n",
       "2                     0.672   32        1  \n",
       "3                     0.167   21        0  \n",
       "4                     2.288   33        1  "
      ]
     },
     "execution_count": 35,
     "metadata": {},
     "output_type": "execute_result"
    }
   ],
   "source": [
    "diabetes = pd.read_csv('C:/k_digital/source/data/diabetes.csv')\n",
    "diabetes.head()"
   ]
  },
  {
   "cell_type": "code",
   "execution_count": 36,
   "id": "24cd7925-894c-4e4b-b8ce-431622d9f885",
   "metadata": {
    "execution": {
     "iopub.execute_input": "2022-11-10T01:25:04.247653Z",
     "iopub.status.busy": "2022-11-10T01:25:04.247653Z",
     "iopub.status.idle": "2022-11-10T01:25:04.265152Z",
     "shell.execute_reply": "2022-11-10T01:25:04.264151Z",
     "shell.execute_reply.started": "2022-11-10T01:25:04.247653Z"
    },
    "tags": []
   },
   "outputs": [
    {
     "data": {
      "text/plain": [
       "0    500\n",
       "1    268\n",
       "Name: Outcome, dtype: int64"
      ]
     },
     "execution_count": 36,
     "metadata": {},
     "output_type": "execute_result"
    }
   ],
   "source": [
    "diabetes.Outcome.value_counts()"
   ]
  },
  {
   "cell_type": "code",
   "execution_count": 37,
   "id": "3db2acf6-65dd-4c92-b390-17b50feef7ee",
   "metadata": {
    "execution": {
     "iopub.execute_input": "2022-11-10T01:25:05.012086Z",
     "iopub.status.busy": "2022-11-10T01:25:05.012086Z",
     "iopub.status.idle": "2022-11-10T01:25:05.029729Z",
     "shell.execute_reply": "2022-11-10T01:25:05.028995Z",
     "shell.execute_reply.started": "2022-11-10T01:25:05.012086Z"
    },
    "tags": []
   },
   "outputs": [
    {
     "name": "stdout",
     "output_type": "stream",
     "text": [
      "<class 'pandas.core.frame.DataFrame'>\n",
      "RangeIndex: 768 entries, 0 to 767\n",
      "Data columns (total 9 columns):\n",
      " #   Column                    Non-Null Count  Dtype  \n",
      "---  ------                    --------------  -----  \n",
      " 0   Pregnancies               768 non-null    int64  \n",
      " 1   Glucose                   768 non-null    int64  \n",
      " 2   BloodPressure             768 non-null    int64  \n",
      " 3   SkinThickness             768 non-null    int64  \n",
      " 4   Insulin                   768 non-null    int64  \n",
      " 5   BMI                       768 non-null    float64\n",
      " 6   DiabetesPedigreeFunction  768 non-null    float64\n",
      " 7   Age                       768 non-null    int64  \n",
      " 8   Outcome                   768 non-null    int64  \n",
      "dtypes: float64(2), int64(7)\n",
      "memory usage: 54.1 KB\n"
     ]
    }
   ],
   "source": [
    "diabetes.info()"
   ]
  },
  {
   "cell_type": "code",
   "execution_count": 38,
   "id": "1bd8c0d4-cfee-480a-b05b-fbc7ebd52539",
   "metadata": {
    "execution": {
     "iopub.execute_input": "2022-11-10T01:25:06.400516Z",
     "iopub.status.busy": "2022-11-10T01:25:06.400516Z",
     "iopub.status.idle": "2022-11-10T01:25:06.466479Z",
     "shell.execute_reply": "2022-11-10T01:25:06.464400Z",
     "shell.execute_reply.started": "2022-11-10T01:25:06.400516Z"
    },
    "tags": []
   },
   "outputs": [
    {
     "data": {
      "text/html": [
       "<div>\n",
       "<style scoped>\n",
       "    .dataframe tbody tr th:only-of-type {\n",
       "        vertical-align: middle;\n",
       "    }\n",
       "\n",
       "    .dataframe tbody tr th {\n",
       "        vertical-align: top;\n",
       "    }\n",
       "\n",
       "    .dataframe thead th {\n",
       "        text-align: right;\n",
       "    }\n",
       "</style>\n",
       "<table border=\"1\" class=\"dataframe\">\n",
       "  <thead>\n",
       "    <tr style=\"text-align: right;\">\n",
       "      <th></th>\n",
       "      <th>Pregnancies</th>\n",
       "      <th>Glucose</th>\n",
       "      <th>BloodPressure</th>\n",
       "      <th>SkinThickness</th>\n",
       "      <th>Insulin</th>\n",
       "      <th>BMI</th>\n",
       "      <th>DiabetesPedigreeFunction</th>\n",
       "      <th>Age</th>\n",
       "      <th>Outcome</th>\n",
       "    </tr>\n",
       "  </thead>\n",
       "  <tbody>\n",
       "    <tr>\n",
       "      <th>count</th>\n",
       "      <td>768.000000</td>\n",
       "      <td>768.000000</td>\n",
       "      <td>768.000000</td>\n",
       "      <td>768.000000</td>\n",
       "      <td>768.000000</td>\n",
       "      <td>768.000000</td>\n",
       "      <td>768.000000</td>\n",
       "      <td>768.000000</td>\n",
       "      <td>768.000000</td>\n",
       "    </tr>\n",
       "    <tr>\n",
       "      <th>mean</th>\n",
       "      <td>3.845052</td>\n",
       "      <td>120.894531</td>\n",
       "      <td>69.105469</td>\n",
       "      <td>20.536458</td>\n",
       "      <td>79.799479</td>\n",
       "      <td>31.992578</td>\n",
       "      <td>0.471876</td>\n",
       "      <td>33.240885</td>\n",
       "      <td>0.348958</td>\n",
       "    </tr>\n",
       "    <tr>\n",
       "      <th>std</th>\n",
       "      <td>3.369578</td>\n",
       "      <td>31.972618</td>\n",
       "      <td>19.355807</td>\n",
       "      <td>15.952218</td>\n",
       "      <td>115.244002</td>\n",
       "      <td>7.884160</td>\n",
       "      <td>0.331329</td>\n",
       "      <td>11.760232</td>\n",
       "      <td>0.476951</td>\n",
       "    </tr>\n",
       "    <tr>\n",
       "      <th>min</th>\n",
       "      <td>0.000000</td>\n",
       "      <td>0.000000</td>\n",
       "      <td>0.000000</td>\n",
       "      <td>0.000000</td>\n",
       "      <td>0.000000</td>\n",
       "      <td>0.000000</td>\n",
       "      <td>0.078000</td>\n",
       "      <td>21.000000</td>\n",
       "      <td>0.000000</td>\n",
       "    </tr>\n",
       "    <tr>\n",
       "      <th>25%</th>\n",
       "      <td>1.000000</td>\n",
       "      <td>99.000000</td>\n",
       "      <td>62.000000</td>\n",
       "      <td>0.000000</td>\n",
       "      <td>0.000000</td>\n",
       "      <td>27.300000</td>\n",
       "      <td>0.243750</td>\n",
       "      <td>24.000000</td>\n",
       "      <td>0.000000</td>\n",
       "    </tr>\n",
       "    <tr>\n",
       "      <th>50%</th>\n",
       "      <td>3.000000</td>\n",
       "      <td>117.000000</td>\n",
       "      <td>72.000000</td>\n",
       "      <td>23.000000</td>\n",
       "      <td>30.500000</td>\n",
       "      <td>32.000000</td>\n",
       "      <td>0.372500</td>\n",
       "      <td>29.000000</td>\n",
       "      <td>0.000000</td>\n",
       "    </tr>\n",
       "    <tr>\n",
       "      <th>75%</th>\n",
       "      <td>6.000000</td>\n",
       "      <td>140.250000</td>\n",
       "      <td>80.000000</td>\n",
       "      <td>32.000000</td>\n",
       "      <td>127.250000</td>\n",
       "      <td>36.600000</td>\n",
       "      <td>0.626250</td>\n",
       "      <td>41.000000</td>\n",
       "      <td>1.000000</td>\n",
       "    </tr>\n",
       "    <tr>\n",
       "      <th>max</th>\n",
       "      <td>17.000000</td>\n",
       "      <td>199.000000</td>\n",
       "      <td>122.000000</td>\n",
       "      <td>99.000000</td>\n",
       "      <td>846.000000</td>\n",
       "      <td>67.100000</td>\n",
       "      <td>2.420000</td>\n",
       "      <td>81.000000</td>\n",
       "      <td>1.000000</td>\n",
       "    </tr>\n",
       "  </tbody>\n",
       "</table>\n",
       "</div>"
      ],
      "text/plain": [
       "       Pregnancies     Glucose  BloodPressure  SkinThickness     Insulin  \\\n",
       "count   768.000000  768.000000     768.000000     768.000000  768.000000   \n",
       "mean      3.845052  120.894531      69.105469      20.536458   79.799479   \n",
       "std       3.369578   31.972618      19.355807      15.952218  115.244002   \n",
       "min       0.000000    0.000000       0.000000       0.000000    0.000000   \n",
       "25%       1.000000   99.000000      62.000000       0.000000    0.000000   \n",
       "50%       3.000000  117.000000      72.000000      23.000000   30.500000   \n",
       "75%       6.000000  140.250000      80.000000      32.000000  127.250000   \n",
       "max      17.000000  199.000000     122.000000      99.000000  846.000000   \n",
       "\n",
       "              BMI  DiabetesPedigreeFunction         Age     Outcome  \n",
       "count  768.000000                768.000000  768.000000  768.000000  \n",
       "mean    31.992578                  0.471876   33.240885    0.348958  \n",
       "std      7.884160                  0.331329   11.760232    0.476951  \n",
       "min      0.000000                  0.078000   21.000000    0.000000  \n",
       "25%     27.300000                  0.243750   24.000000    0.000000  \n",
       "50%     32.000000                  0.372500   29.000000    0.000000  \n",
       "75%     36.600000                  0.626250   41.000000    1.000000  \n",
       "max     67.100000                  2.420000   81.000000    1.000000  "
      ]
     },
     "execution_count": 38,
     "metadata": {},
     "output_type": "execute_result"
    }
   ],
   "source": [
    "diabetes.describe()"
   ]
  },
  {
   "cell_type": "code",
   "execution_count": 39,
   "id": "17ef753d-e6c1-4c2d-87a3-f5c947977b5c",
   "metadata": {
    "execution": {
     "iopub.execute_input": "2022-11-10T01:25:06.986356Z",
     "iopub.status.busy": "2022-11-10T01:25:06.986356Z",
     "iopub.status.idle": "2022-11-10T01:25:07.231476Z",
     "shell.execute_reply": "2022-11-10T01:25:07.230475Z",
     "shell.execute_reply.started": "2022-11-10T01:25:06.986356Z"
    },
    "tags": []
   },
   "outputs": [
    {
     "data": {
      "image/png": "[encoded data removed]",
      "text/plain": [
       "<Figure size 640x480 with 1 Axes>"
      ]
     },
     "metadata": {},
     "output_type": "display_data"
    }
   ],
   "source": [
    "sns.histplot(data=diabetes, x='Glucose', kde=False)\n",
    "plt.show()"
   ]
  },
  {
   "cell_type": "code",
   "execution_count": 40,
   "id": "8b889641-68a9-4070-a954-feb62ab74052",
   "metadata": {
    "execution": {
     "iopub.execute_input": "2022-11-10T01:25:08.791702Z",
     "iopub.status.busy": "2022-11-10T01:25:08.791702Z",
     "iopub.status.idle": "2022-11-10T01:25:08.810692Z",
     "shell.execute_reply": "2022-11-10T01:25:08.809687Z",
     "shell.execute_reply.started": "2022-11-10T01:25:08.791702Z"
    },
    "tags": []
   },
   "outputs": [
    {
     "name": "stdout",
     "output_type": "stream",
     "text": [
      "Glucose의 총건수 : 5, 퍼센트 : 0.65\n",
      "BloodPressure의 총건수 : 35, 퍼센트 : 4.56\n",
      "SkinThickness의 총건수 : 227, 퍼센트 : 29.56\n",
      "Insulin의 총건수 : 374, 퍼센트 : 48.70\n",
      "BMI의 총건수 : 11, 퍼센트 : 1.43\n"
     ]
    }
   ],
   "source": [
    "zero_features = ['Glucose', 'BloodPressure', 'SkinThickness', 'Insulin', 'BMI']\n",
    "\n",
    "total_count = diabetes.count()[0]\n",
    "\n",
    "for feature in zero_features:\n",
    "    zero_count = diabetes[feature].value_counts()[0]\n",
    "    zero_rate = zero_count / total_count * 100\n",
    "    print(f'{feature}의 총건수 : {zero_count}, 퍼센트 : {zero_rate:.2f}')"
   ]
  },
  {
   "cell_type": "code",
   "execution_count": 41,
   "id": "2604d726-8dfd-49d5-a25d-1057764d3149",
   "metadata": {
    "execution": {
     "iopub.execute_input": "2022-11-10T01:25:10.014127Z",
     "iopub.status.busy": "2022-11-10T01:25:10.013118Z",
     "iopub.status.idle": "2022-11-10T01:25:10.045147Z",
     "shell.execute_reply": "2022-11-10T01:25:10.043126Z",
     "shell.execute_reply.started": "2022-11-10T01:25:10.014127Z"
    },
    "tags": []
   },
   "outputs": [],
   "source": [
    "mean_zero_features = diabetes[zero_features].mean()\n",
    "diabetes[zero_features] = diabetes[zero_features].replace(0, mean_zero_features)"
   ]
  },
  {
   "cell_type": "markdown",
   "id": "ab8be3b2-2729-4674-a669-20e3c06f33c1",
   "metadata": {},
   "source": [
    "### 로지스틱 회귀"
   ]
  },
  {
   "cell_type": "code",
   "execution_count": 45,
   "id": "8dc7eee8-f1ae-4014-8d70-03c073e06fef",
   "metadata": {
    "execution": {
     "iopub.execute_input": "2022-11-10T01:25:51.685140Z",
     "iopub.status.busy": "2022-11-10T01:25:51.685140Z",
     "iopub.status.idle": "2022-11-10T01:25:51.707784Z",
     "shell.execute_reply": "2022-11-10T01:25:51.706807Z",
     "shell.execute_reply.started": "2022-11-10T01:25:51.685140Z"
    },
    "tags": []
   },
   "outputs": [],
   "source": [
    "X = diabetes.iloc[:, :-1]\n",
    "y = diabetes.Outcome\n",
    "\n",
    "scaler = MinMaxScaler()\n",
    "scaler.fit(X)\n",
    "X_scaled = scaler.transform(X)"
   ]
  },
  {
   "cell_type": "markdown",
   "id": "db946665-37e4-4ebd-ac79-02e9607bd037",
   "metadata": {},
   "source": [
    "## 학습/검증 데이터 분리\n",
    "- 클래스 별 비율에 맞게 분리"
   ]
  },
  {
   "cell_type": "code",
   "execution_count": 46,
   "id": "7a83bb84-90f7-4f60-8fcb-eb058ad1de1f",
   "metadata": {
    "execution": {
     "iopub.execute_input": "2022-11-10T01:29:43.504579Z",
     "iopub.status.busy": "2022-11-10T01:29:43.504579Z",
     "iopub.status.idle": "2022-11-10T01:29:43.518601Z",
     "shell.execute_reply": "2022-11-10T01:29:43.517576Z",
     "shell.execute_reply.started": "2022-11-10T01:29:43.504579Z"
    }
   },
   "outputs": [],
   "source": [
    "X_train, X_test, y_train, y_test = train_test_split(\n",
    "    X_scaled, y, test_size=0.2, stratify=y, random_state=156)"
   ]
  },
  {
   "cell_type": "markdown",
   "id": "38369d27-f41c-4563-9ad1-292b8f9b798e",
   "metadata": {},
   "source": [
    "## Logistic Regression"
   ]
  },
  {
   "cell_type": "code",
   "execution_count": 54,
   "id": "fb6287aa-d8fb-422c-98ce-97d9c64bb65b",
   "metadata": {
    "execution": {
     "iopub.execute_input": "2022-11-10T01:41:01.197903Z",
     "iopub.status.busy": "2022-11-10T01:41:01.196905Z",
     "iopub.status.idle": "2022-11-10T01:41:01.230253Z",
     "shell.execute_reply": "2022-11-10T01:41:01.229251Z",
     "shell.execute_reply.started": "2022-11-10T01:41:01.197903Z"
    }
   },
   "outputs": [],
   "source": [
    "lr = LogisticRegression()\n",
    "lr.fit(X_train, y_train)\n",
    "pred = lr.predict(X_test)\n",
    "pred_proba_po = lr.predict_log_proba(X_test)[:, 1].reshape(-1, 1)"
   ]
  },
  {
   "cell_type": "code",
   "execution_count": 55,
   "id": "862a6d17-39b6-4df9-b3f3-c029f98e96d3",
   "metadata": {
    "execution": {
     "iopub.execute_input": "2022-11-10T01:41:02.113630Z",
     "iopub.status.busy": "2022-11-10T01:41:02.113630Z",
     "iopub.status.idle": "2022-11-10T01:41:02.136611Z",
     "shell.execute_reply": "2022-11-10T01:41:02.135612Z",
     "shell.execute_reply.started": "2022-11-10T01:41:02.113630Z"
    },
    "tags": []
   },
   "outputs": [],
   "source": [
    "def get_clf_eval(y_test, pred=None, pred_proba=None):\n",
    "    confusion = confusion_matrix(y_test, pred)\n",
    "    accuracy = accuracy_score(y_test, pred)\n",
    "    precision = precision_score(y_test, pred)\n",
    "    recall = recall_score(y_test, pred)\n",
    "    f1 = f1_score(y_test, pred)\n",
    "    roc_auc = roc_auc_score(y_test, pred_proba)\n",
    "    print('오차 행렬')\n",
    "    print(confusion)\n",
    "    print('정확도: {0:.4f}, 정밀도: {1:.4f}, \\\n",
    "    재현율: {2:.4f}, F1: {3:.4f}, AUC:{4:.4f}'.format(accuracy, precision, recall, f1, roc_auc))"
   ]
  },
  {
   "cell_type": "code",
   "execution_count": 56,
   "id": "63fb9209-b382-4559-b752-ef7bf0190231",
   "metadata": {
    "execution": {
     "iopub.execute_input": "2022-11-10T01:41:02.818944Z",
     "iopub.status.busy": "2022-11-10T01:41:02.817945Z",
     "iopub.status.idle": "2022-11-10T01:41:02.846793Z",
     "shell.execute_reply": "2022-11-10T01:41:02.845906Z",
     "shell.execute_reply.started": "2022-11-10T01:41:02.818944Z"
    },
    "tags": []
   },
   "outputs": [
    {
     "name": "stdout",
     "output_type": "stream",
     "text": [
      "오차 행렬\n",
      "[[90 10]\n",
      " [21 33]]\n",
      "정확도: 0.7987, 정밀도: 0.7674,     재현율: 0.6111, F1: 0.6804, AUC:0.8487\n"
     ]
    }
   ],
   "source": [
    "get_clf_eval(y_test, pred, pred_proba_po)"
   ]
  },
  {
   "cell_type": "markdown",
   "id": "18c64919-ce0b-45f1-a48e-465984da17ab",
   "metadata": {},
   "source": [
    "## 정밀도/재현율 시각화"
   ]
  },
  {
   "cell_type": "code",
   "execution_count": 60,
   "id": "a3bba4d3-0906-4860-9de2-b48d86a1f4a5",
   "metadata": {
    "execution": {
     "iopub.execute_input": "2022-11-10T01:52:59.543268Z",
     "iopub.status.busy": "2022-11-10T01:52:59.543268Z",
     "iopub.status.idle": "2022-11-10T01:52:59.564190Z",
     "shell.execute_reply": "2022-11-10T01:52:59.563192Z",
     "shell.execute_reply.started": "2022-11-10T01:52:59.543268Z"
    },
    "tags": []
   },
   "outputs": [],
   "source": [
    "def precision_recall_curve_plot(y_test, pred_proba_c1):\n",
    "    precisions, recalls, thresholds = precision_recall_curve(y_test, pred_proba_c1)\n",
    "    plt.figure(figsize=(8, 6))\n",
    "    threshold_boundary = thresholds.shape[0]\n",
    "    plt.plot(thresholds, precisions[0:threshold_boundary], linestyle='--', label='precision')\n",
    "    plt.plot(thresholds, recalls[0:threshold_boundary], label='recall')\n",
    "    start, end = plt.xlim()\n",
    "    plt.xticks(np.round(np.arange(start, end, 0.1), 2))\n",
    "    plt.xlabel('Threshold value'); plt.ylabel('Precision and Recall value')\n",
    "    plt.legend(); plt.grid()\n",
    "    plt.show()"
   ]
  },
  {
   "cell_type": "code",
   "execution_count": 61,
   "id": "53ec10d1-6f2b-44a7-ba41-e09e52d3a574",
   "metadata": {
    "execution": {
     "iopub.execute_input": "2022-11-10T01:53:00.185349Z",
     "iopub.status.busy": "2022-11-10T01:53:00.184288Z",
     "iopub.status.idle": "2022-11-10T01:53:00.445928Z",
     "shell.execute_reply": "2022-11-10T01:53:00.444711Z",
     "shell.execute_reply.started": "2022-11-10T01:53:00.185349Z"
    },
    "tags": []
   },
   "outputs": [
    {
     "data": {
      "image/png": "[encoded data removed]",
      "text/plain": [
       "<Figure size 800x600 with 1 Axes>"
      ]
     },
     "metadata": {},
     "output_type": "display_data"
    }
   ],
   "source": [
    "precision_recall_curve_plot(y_test, pred_proba_po)"
   ]
  },
  {
   "cell_type": "code",
   "execution_count": null,
   "id": "d9ae8ac4-63b7-4650-9d2a-be635c97ca9c",
   "metadata": {},
   "outputs": [],
   "source": [
    "from sklearn.preprocessing import Binarizer\n",
    "from sklearn.metrics import confusion_matrix\n",
    "\n",
    "def get_clf_eval_thres(y_test, pred_po, threshold, f1_show=False, auc_show=False):\n",
    "    eval_df = pd.DataFrame()\n",
    "    \n",
    "    for thres in threshold:\n",
    "        # threshold에 따른 예측 분류 값\n",
    "        binarizer = Binarizer(threshold = thres)\n",
    "        binarizer.fit(pred_po)\n",
    "        thres_pred = binarizer.transform(pred_po)\n",
    "        \n",
    "        # 평가지표  \n",
    "        accuracy = accuracy_score(y_test, thres_pred)\n",
    "        precision = precision_score(y_test, thres_pred)\n",
    "        recall = recall_score(y_test, thres_pred)\n",
    "        f1 = f1_score(y_test, thres_pred)\n",
    "        auc = roc_auc_score(y_test, pred_po)\n",
    "        \n",
    "        # 데이터 프레임 형태\n",
    "        eval_lst = np.array([accuracy, precision, recall, f1, auc]).reshape(-1,1)\n",
    "        temp = pd.DataFrame(eval_lst, columns=[thres], \n",
    "                            index = [\"정확도\", \"정밀도\", \"재현율\", \"F1스코어\", \"AUC\"])\n",
    "        eval_df = pd.concat([eval_df,temp], axis=1)\n",
    "        \n",
    "    eval_df.columns.names = [\"임계값\"]\n",
    "    \n",
    "    if f1_show == False:\n",
    "        eval_df.drop(\"F1스코어\", axis=0, inplace=True)\n",
    "        \n",
    "    if auc_show == False:\n",
    "        eval_df.drop(\"AUC\", axis=0, inplace=True)\n",
    "        \n",
    "    return round(eval_df, 4)"
   ]
  },
  {
   "cell_type": "code",
   "execution_count": null,
   "id": "83733002-951b-43f0-a5f2-e32305db0a7c",
   "metadata": {},
   "outputs": [],
   "source": [
    "# threshold 리스트\n",
    "thres_lst = [0.3, 0.33, 0.36, 0.39, 0.42, 0.45, 0.48, 0.5]\n",
    "get_clf_eval_thres(y_test, pred_proba_po, thres_lst, f1_show=True, auc_show=True)"
   ]
  },
  {
   "cell_type": "code",
   "execution_count": null,
   "id": "5b9dad44-f204-475a-b4ac-23f69af117a0",
   "metadata": {},
   "outputs": [],
   "source": [
    "# threshold 리스트\n",
    "thres_lst = [0.3, 0.33, 0.36, 0.39, 0.42, 0.45, 0.48, 0.5]\n",
    "get_clf_eval_thres(y_test, pred_proba_po, thres_lst, f1_show=True, auc_show=True)"
   ]
  }
 ],
 "metadata": {
  "kernelspec": {
   "display_name": "Python 3 (ipykernel)",
   "language": "python",
   "name": "python3"
  },
  "language_info": {
   "codemirror_mode": {
    "name": "ipython",
    "version": 3
   },
   "file_extension": ".py",
   "mimetype": "text/x-python",
   "name": "python",
   "nbconvert_exporter": "python",
   "pygments_lexer": "ipython3",
   "version": "3.9.13"
  }
 },
 "nbformat": 4,
 "nbformat_minor": 5
}
